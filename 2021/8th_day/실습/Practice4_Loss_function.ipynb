{
  "nbformat": 4,
  "nbformat_minor": 0,
  "metadata": {
    "colab": {
      "name": "Practice4: Loss function.ipynb",
      "provenance": [],
      "collapsed_sections": [],
      "authorship_tag": "ABX9TyOxXePmZga6n+kanjGOe2cU",
      "include_colab_link": true
    },
    "kernelspec": {
      "name": "python3",
      "display_name": "Python 3"
    },
    "language_info": {
      "name": "python"
    }
  },
  "cells": [
    {
      "cell_type": "markdown",
      "metadata": {
        "id": "view-in-github",
        "colab_type": "text"
      },
      "source": [
        "<a href=\"https://colab.research.google.com/github/hrbae/DRB_ML_Training/blob/main/8th_day/%EC%8B%A4%EC%8A%B5/Practice4_Loss_function.ipynb\" target=\"_parent\"><img src=\"https://colab.research.google.com/assets/colab-badge.svg\" alt=\"Open In Colab\"/></a>"
      ]
    },
    {
      "cell_type": "markdown",
      "metadata": {
        "id": "bJ2WHn3MVIYi"
      },
      "source": [
        "# 0. Initialization\n"
      ]
    },
    {
      "cell_type": "markdown",
      "metadata": {
        "id": "5P3MNYdvVfKC"
      },
      "source": [
        "https://github.com/hrbae/DRB_ML_Training"
      ]
    },
    {
      "cell_type": "code",
      "metadata": {
        "id": "7owa5ZG_VDyZ"
      },
      "source": [
        "t = [0, 0, 1, 0, 0, 0, 0, 0, 0, 0] # 실제값\n",
        "y1 = [0.1, 0.05, 0.6, 0.0, 0.05, 0.1, 0.0, 0.1, 0.0, 0.0] # 예측결과1\n",
        "y2 = [0.1, 0.05, 0.1, 0.0, 0.05, 0.1, 0.0, 0.6, 0.0, 0.0] # 예측결과2"
      ],
      "execution_count": null,
      "outputs": []
    },
    {
      "cell_type": "code",
      "metadata": {
        "id": "V924Jd1RIcKO"
      },
      "source": [
        "import numpy as np"
      ],
      "execution_count": null,
      "outputs": []
    },
    {
      "cell_type": "code",
      "metadata": {
        "id": "5GxX9-uxIftZ"
      },
      "source": [
        "t = np.array(t)\n",
        "y1 = np.array(y1)\n",
        "y2 = np.array(y2)"
      ],
      "execution_count": null,
      "outputs": []
    },
    {
      "cell_type": "markdown",
      "metadata": {
        "id": "VJ40aVvgVgs3"
      },
      "source": [
        "# 1. SSE: Sum Squares Error"
      ]
    },
    {
      "cell_type": "markdown",
      "metadata": {
        "id": "oJlDXJaEqelC"
      },
      "source": [
        "$$SSE=\\sum (Prediction-Real)^2$$"
      ]
    },
    {
      "cell_type": "code",
      "metadata": {
        "id": "BibhjQ06Vx7o"
      },
      "source": [
        "def sse(y, t):\n",
        "  return np.sum((y-t)**2)"
      ],
      "execution_count": null,
      "outputs": []
    },
    {
      "cell_type": "code",
      "metadata": {
        "colab": {
          "base_uri": "https://localhost:8080/"
        },
        "id": "6wz3yKUnIx4h",
        "outputId": "36cd33b1-10a6-4d65-c49a-d569ca4b499e"
      },
      "source": [
        "print(sse(y1, t))"
      ],
      "execution_count": null,
      "outputs": [
        {
          "output_type": "stream",
          "name": "stdout",
          "text": [
            "0.19500000000000006\n"
          ]
        }
      ]
    },
    {
      "cell_type": "code",
      "metadata": {
        "colab": {
          "base_uri": "https://localhost:8080/"
        },
        "id": "zNG7rreeI2LD",
        "outputId": "f63129a1-faa7-4972-fdb1-6c3d4a0476bc"
      },
      "source": [
        "print(sse(y2, t))"
      ],
      "execution_count": null,
      "outputs": [
        {
          "output_type": "stream",
          "name": "stdout",
          "text": [
            "1.195\n"
          ]
        }
      ]
    },
    {
      "cell_type": "markdown",
      "metadata": {
        "id": "kELur7UTVkcO"
      },
      "source": [
        "# 2. CEE: Cross Entropy Error"
      ]
    },
    {
      "cell_type": "markdown",
      "metadata": {
        "id": "WwPEUbbQq3w4"
      },
      "source": [
        "$$CEE = -\\sum Real\\log{(Prediction)}$$"
      ]
    },
    {
      "cell_type": "code",
      "metadata": {
        "id": "jgNyI9h1V-Ym"
      },
      "source": [
        "def cee(y, t):\n",
        "  delta = 1e-7 # 0.0000001\n",
        "  return -np.sum(t * np.log(y+delta))"
      ],
      "execution_count": null,
      "outputs": []
    },
    {
      "cell_type": "code",
      "metadata": {
        "colab": {
          "base_uri": "https://localhost:8080/"
        },
        "id": "dw4-L0DbJLoo",
        "outputId": "381d1ed7-5aac-424f-cf12-b1eb3757ccdd"
      },
      "source": [
        "print(cee(y1,t))"
      ],
      "execution_count": null,
      "outputs": [
        {
          "output_type": "stream",
          "name": "stdout",
          "text": [
            "0.510825457099338\n"
          ]
        }
      ]
    },
    {
      "cell_type": "code",
      "metadata": {
        "colab": {
          "base_uri": "https://localhost:8080/"
        },
        "id": "FEBxYKa4JOtS",
        "outputId": "a9de37d7-e874-4851-fe48-989eadfe7802"
      },
      "source": [
        "print(cee(y2,t))"
      ],
      "execution_count": null,
      "outputs": [
        {
          "output_type": "stream",
          "name": "stdout",
          "text": [
            "2.302584092994546\n"
          ]
        }
      ]
    },
    {
      "cell_type": "markdown",
      "metadata": {
        "id": "rI3BYlYDV2ZH"
      },
      "source": [
        "# 3. MAE: Mean Absolute Error"
      ]
    },
    {
      "cell_type": "markdown",
      "metadata": {
        "id": "8Bc6RAQwrK0P"
      },
      "source": [
        "$$MAE = {1\\over n}\\sum_n|Prediction-Real|$$"
      ]
    },
    {
      "cell_type": "code",
      "metadata": {
        "id": "cHjS8ePuV-y3"
      },
      "source": [
        "def mae(y, t):\n",
        "  return np.average(np.absolute(y-t))"
      ],
      "execution_count": null,
      "outputs": []
    },
    {
      "cell_type": "code",
      "metadata": {
        "colab": {
          "base_uri": "https://localhost:8080/"
        },
        "id": "jfD26y6-JhF7",
        "outputId": "5b5347c0-e7c4-4b00-e274-64634ae6e8f2"
      },
      "source": [
        "print(mae(y1,t))"
      ],
      "execution_count": null,
      "outputs": [
        {
          "output_type": "stream",
          "name": "stdout",
          "text": [
            "0.08\n"
          ]
        }
      ]
    },
    {
      "cell_type": "code",
      "metadata": {
        "colab": {
          "base_uri": "https://localhost:8080/"
        },
        "id": "oU_p98XJJj9k",
        "outputId": "c60e9870-376f-4e90-8dc8-fa3cc7108eee"
      },
      "source": [
        "print(mae(y2,t))"
      ],
      "execution_count": null,
      "outputs": [
        {
          "output_type": "stream",
          "name": "stdout",
          "text": [
            "0.18\n"
          ]
        }
      ]
    },
    {
      "cell_type": "markdown",
      "metadata": {
        "id": "gthP4jZlV5X1"
      },
      "source": [
        "# 4. MSE: Mean Squared Error"
      ]
    },
    {
      "cell_type": "markdown",
      "metadata": {
        "id": "2fiOJXgyrgVj"
      },
      "source": [
        "$$MSE = {1\\over n}\\sum_n (Prediction-Real)^2$$"
      ]
    },
    {
      "cell_type": "code",
      "metadata": {
        "id": "Dq9Bx97TV_Qn"
      },
      "source": [
        "def mse(y, t):\n",
        "  return np.average((y-t)**2)"
      ],
      "execution_count": null,
      "outputs": []
    },
    {
      "cell_type": "code",
      "metadata": {
        "colab": {
          "base_uri": "https://localhost:8080/"
        },
        "id": "DpJFzSqwJrox",
        "outputId": "0a7ac6d0-2721-49ab-effe-57c7ee75ae77"
      },
      "source": [
        "print(mse(y1,t))"
      ],
      "execution_count": null,
      "outputs": [
        {
          "output_type": "stream",
          "name": "stdout",
          "text": [
            "0.019500000000000007\n"
          ]
        }
      ]
    },
    {
      "cell_type": "code",
      "metadata": {
        "colab": {
          "base_uri": "https://localhost:8080/"
        },
        "id": "0GWOpaTAJunJ",
        "outputId": "d7909096-9ee0-461c-8453-3d2a20a9ed50"
      },
      "source": [
        "print(mse(y2,t))"
      ],
      "execution_count": null,
      "outputs": [
        {
          "output_type": "stream",
          "name": "stdout",
          "text": [
            "0.11950000000000001\n"
          ]
        }
      ]
    },
    {
      "cell_type": "markdown",
      "metadata": {
        "id": "_QRMbt4IV_qO"
      },
      "source": [
        "# 5. RMSE: Root Mean Squared Error"
      ]
    },
    {
      "cell_type": "markdown",
      "metadata": {
        "id": "YKy8vaOHrqr7"
      },
      "source": [
        "$$RMSE = \\sqrt {{1\\over n}\\sum_n (Prediction-Real)^2}$$"
      ]
    },
    {
      "cell_type": "code",
      "metadata": {
        "id": "XnMPXNspWDmn"
      },
      "source": [
        "def rmse(y,t):\n",
        "  return mse(y,t) ** (1/2)"
      ],
      "execution_count": null,
      "outputs": []
    },
    {
      "cell_type": "code",
      "metadata": {
        "id": "S1QNdd2GJ5MP",
        "colab": {
          "base_uri": "https://localhost:8080/"
        },
        "outputId": "5c3f1757-b9c5-446b-f664-a107dbe95620"
      },
      "source": [
        "rmse(y1,t)"
      ],
      "execution_count": null,
      "outputs": [
        {
          "output_type": "execute_result",
          "data": {
            "text/plain": [
              "0.13964240043768944"
            ]
          },
          "metadata": {},
          "execution_count": 17
        }
      ]
    },
    {
      "cell_type": "code",
      "metadata": {
        "id": "5rtp8ablJ75g",
        "colab": {
          "base_uri": "https://localhost:8080/"
        },
        "outputId": "16d48ce8-6a45-434f-8263-1b71776d0138"
      },
      "source": [
        "rmse(y2,t)"
      ],
      "execution_count": null,
      "outputs": [
        {
          "output_type": "execute_result",
          "data": {
            "text/plain": [
              "0.34568772034887213"
            ]
          },
          "metadata": {},
          "execution_count": 18
        }
      ]
    }
  ]
}