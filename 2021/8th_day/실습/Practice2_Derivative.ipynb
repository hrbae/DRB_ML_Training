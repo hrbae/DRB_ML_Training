{
  "nbformat": 4,
  "nbformat_minor": 0,
  "metadata": {
    "colab": {
      "name": "Practice2: Derivative.ipynb",
      "provenance": [],
      "authorship_tag": "ABX9TyN6EhK0/jOJpAwNdJK3gI0F",
      "include_colab_link": true
    },
    "kernelspec": {
      "name": "python3",
      "display_name": "Python 3"
    },
    "language_info": {
      "name": "python"
    }
  },
  "cells": [
    {
      "cell_type": "markdown",
      "metadata": {
        "id": "view-in-github",
        "colab_type": "text"
      },
      "source": [
        "<a href=\"https://colab.research.google.com/github/hrbae/DRB_ML_Training/blob/main/8th_day/%EC%8B%A4%EC%8A%B5/Practice2_Derivative.ipynb\" target=\"_parent\"><img src=\"https://colab.research.google.com/assets/colab-badge.svg\" alt=\"Open In Colab\"/></a>"
      ]
    },
    {
      "cell_type": "markdown",
      "metadata": {
        "id": "5eM0KkBtTh8e"
      },
      "source": [
        "# 미분하기"
      ]
    },
    {
      "cell_type": "markdown",
      "metadata": {
        "id": "-2gsyfGpTMB-"
      },
      "source": [
        "$${df(x)\\over dx}=lim_{h\\rightarrow 0}{f(x+h)-f(x)\\over h}$$"
      ]
    },
    {
      "cell_type": "markdown",
      "metadata": {
        "id": "VOey4wgwTx4y"
      },
      "source": [
        "## 미분함수 만들기"
      ]
    },
    {
      "cell_type": "code",
      "metadata": {
        "id": "WyQiIHMBTF-w"
      },
      "source": [
        "def numerical_diff(f,x):\n",
        "  h = 1e-4 #0.0001\n",
        "  return (f(x+h)-f(x))/h"
      ],
      "execution_count": null,
      "outputs": []
    },
    {
      "cell_type": "markdown",
      "metadata": {
        "id": "bf9tsF2dT1HP"
      },
      "source": [
        "## (예제1) 미분"
      ]
    },
    {
      "cell_type": "markdown",
      "metadata": {
        "id": "Rrb5MX4aj-oA"
      },
      "source": [
        "$$y=0.01x^2 + 0.1x$$"
      ]
    },
    {
      "cell_type": "code",
      "metadata": {
        "id": "9UXQYJXtUDIF"
      },
      "source": [
        "def f1(x):\n",
        "  return 0.01*x**2+0.01*x"
      ],
      "execution_count": null,
      "outputs": []
    },
    {
      "cell_type": "code",
      "metadata": {
        "colab": {
          "base_uri": "https://localhost:8080/"
        },
        "id": "GaWt_CHcDXCF",
        "outputId": "f3b48715-ca9c-4fac-a676-6915cd897710"
      },
      "source": [
        "x = 2\n",
        "y = f1(x)\n",
        "print(y)"
      ],
      "execution_count": null,
      "outputs": [
        {
          "output_type": "stream",
          "name": "stdout",
          "text": [
            "0.06\n"
          ]
        }
      ]
    },
    {
      "cell_type": "code",
      "metadata": {
        "colab": {
          "base_uri": "https://localhost:8080/"
        },
        "id": "v2f8xNrUDe7u",
        "outputId": "50a140ea-c553-4ede-d76f-495fe1586a3e"
      },
      "source": [
        "print(numerical_diff(f1,x))"
      ],
      "execution_count": null,
      "outputs": [
        {
          "output_type": "stream",
          "name": "stdout",
          "text": [
            "0.050001000000132745\n"
          ]
        }
      ]
    },
    {
      "cell_type": "code",
      "metadata": {
        "id": "8WNi_sxKDmde"
      },
      "source": [
        "import numpy as np\n",
        "import matplotlib.pylab as plt"
      ],
      "execution_count": null,
      "outputs": []
    },
    {
      "cell_type": "code",
      "metadata": {
        "id": "8WcGDJTvDr2U"
      },
      "source": [
        "x = np.arange(0.0, 20.0, 0.1)\n",
        "y = f1(x)\n"
      ],
      "execution_count": null,
      "outputs": []
    },
    {
      "cell_type": "code",
      "metadata": {
        "colab": {
          "base_uri": "https://localhost:8080/",
          "height": 279
        },
        "id": "PN5-bP_6D8Eu",
        "outputId": "668f898a-2885-4d8a-f737-968aecd0b594"
      },
      "source": [
        "plt.plot(x,y)\n",
        "plt.xlabel('x')\n",
        "plt.ylabel('f(x)')\n",
        "plt.show()"
      ],
      "execution_count": null,
      "outputs": [
        {
          "output_type": "display_data",
          "data": {
            "image/png": "[encoded data removed]",
            "text/plain": [
              "<Figure size 432x288 with 1 Axes>"
            ]
          },
          "metadata": {
            "needs_background": "light"
          }
        }
      ]
    },
    {
      "cell_type": "markdown",
      "metadata": {
        "id": "CZzA9RnmT6aP"
      },
      "source": [
        "## (예제2) 편미분"
      ]
    },
    {
      "cell_type": "markdown",
      "metadata": {
        "id": "HLZwi8NUlceV"
      },
      "source": [
        "$$f(x,y)=x^2+y^2$$"
      ]
    },
    {
      "cell_type": "code",
      "metadata": {
        "id": "aw06Pcy1UDvt"
      },
      "source": [
        "def f2(x,y):\n",
        "  return x ** 2 + y ** 2"
      ],
      "execution_count": null,
      "outputs": []
    },
    {
      "cell_type": "code",
      "metadata": {
        "id": "8QwjOfQdEQ0J"
      },
      "source": [
        "x = 3\n",
        "y = 4"
      ],
      "execution_count": null,
      "outputs": []
    },
    {
      "cell_type": "markdown",
      "metadata": {
        "id": "Y20pinbcULaG"
      },
      "source": [
        "### Q 2-1. x=3, y=4 일 때, x에 대한 편미분?"
      ]
    },
    {
      "cell_type": "code",
      "metadata": {
        "id": "Yu24tZVIUXXI"
      },
      "source": [
        "def f2_1(x):\n",
        "  y = 4\n",
        "  return x ** 2 + y ** 2"
      ],
      "execution_count": null,
      "outputs": []
    },
    {
      "cell_type": "code",
      "metadata": {
        "colab": {
          "base_uri": "https://localhost:8080/"
        },
        "id": "-YS_-TteEgWV",
        "outputId": "f1ab0a3a-f9c2-48de-8be4-6a7b41a097d7"
      },
      "source": [
        "print(numerical_diff(f2_1,x))"
      ],
      "execution_count": null,
      "outputs": [
        {
          "output_type": "stream",
          "name": "stdout",
          "text": [
            "6.000099999994291\n"
          ]
        }
      ]
    },
    {
      "cell_type": "markdown",
      "metadata": {
        "id": "7s9yGzc7URnN"
      },
      "source": [
        "### Q 2-2. x=3, y=4 일 때, y에 대한 편미분?"
      ]
    },
    {
      "cell_type": "code",
      "metadata": {
        "id": "LBjICYNWUX5G"
      },
      "source": [
        "def f2_2(y):\n",
        "  x = 3\n",
        "  return x ** 2 + y ** 2"
      ],
      "execution_count": null,
      "outputs": []
    },
    {
      "cell_type": "code",
      "metadata": {
        "colab": {
          "base_uri": "https://localhost:8080/"
        },
        "id": "oO8QAHkPElQX",
        "outputId": "89f9ba7d-67fd-4fed-bef4-f1d60f031f1e"
      },
      "source": [
        "print(numerical_diff(f2_2,y))"
      ],
      "execution_count": null,
      "outputs": [
        {
          "output_type": "stream",
          "name": "stdout",
          "text": [
            "8.00009999998963\n"
          ]
        }
      ]
    }
  ]
}