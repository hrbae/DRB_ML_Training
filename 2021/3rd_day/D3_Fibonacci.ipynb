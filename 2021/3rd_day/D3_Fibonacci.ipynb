{
  "nbformat": 4,
  "nbformat_minor": 0,
  "metadata": {
    "colab": {
      "name": "D3_Fibonacci.ipynb",
      "provenance": [],
      "authorship_tag": "ABX9TyM+adNIWx8ZKXbJIckqZ9Ky",
      "include_colab_link": true
    },
    "kernelspec": {
      "name": "python3",
      "display_name": "Python 3"
    },
    "language_info": {
      "name": "python"
    }
  },
  "cells": [
    {
      "cell_type": "markdown",
      "metadata": {
        "id": "view-in-github",
        "colab_type": "text"
      },
      "source": [
        "<a href=\"https://colab.research.google.com/github/hrbae/DRB_ML_Training/blob/main/3rd_day/D3_Fibonacci.ipynb\" target=\"_parent\"><img src=\"https://colab.research.google.com/assets/colab-badge.svg\" alt=\"Open In Colab\"/></a>"
      ]
    },
    {
      "cell_type": "code",
      "metadata": {
        "id": "3QGVqsUuidhq"
      },
      "source": [
        "def binary_Fibo(k):\n",
        "  if k<=1:\n",
        "    return k\n",
        "  else:\n",
        "    return binary_Fibo(k-1)+binary_Fibo(k-2)"
      ],
      "execution_count": 1,
      "outputs": []
    },
    {
      "cell_type": "code",
      "metadata": {
        "id": "68tI0czNjhFT"
      },
      "source": [
        "class pair:\n",
        "  def __init__(self, a, b):\n",
        "    self.i=a\n",
        "    self.j=b\n",
        "  \n",
        "  def get_i(self):\n",
        "    return self.i\n",
        "  \n",
        "  def get_j(self):\n",
        "    return self.j\n",
        "\n",
        "  def print_Pair(self):\n",
        "    print(\"(\", self.i, \", \", self.j, \")\")\n",
        "    print(self.i)"
      ],
      "execution_count": 7,
      "outputs": []
    },
    {
      "cell_type": "code",
      "metadata": {
        "id": "1xBvqOiCkSG5"
      },
      "source": [
        "def linear_Fibo(k):\n",
        "  if k==1:\n",
        "    return pair(k,0)\n",
        "  else:\n",
        "    l=linear_Fibo(k-1)\n",
        "    return pair(l.i+l.j, l.i)"
      ],
      "execution_count": 8,
      "outputs": []
    },
    {
      "cell_type": "code",
      "metadata": {
        "id": "g8UTMT0gmP7G"
      },
      "source": [
        "def linear_Fibo2(k):\n",
        "  if k==1:\n",
        "    return [k,0]\n",
        "  else:\n",
        "    l=linear_Fibo2(k-1)\n",
        "    return (l[0]+l[1], l[0])"
      ],
      "execution_count": 11,
      "outputs": []
    },
    {
      "cell_type": "code",
      "metadata": {
        "colab": {
          "base_uri": "https://localhost:8080/"
        },
        "id": "rdGkA0Epi_59",
        "outputId": "0d946500-8d97-4b4a-8692-8ad801832104"
      },
      "source": [
        "k=int(input(\"숫자를 입력하세요.\"))\n",
        "result=linear_Fibo2(k)\n",
        "print(result[0])\n",
        "#result=linear_Fibo(k)\n",
        "#result.print_Pair() \n",
        "\n",
        "#print(\"Fibonacci \", k, \"=\", binary_Fibo(k))"
      ],
      "execution_count": 14,
      "outputs": [
        {
          "output_type": "stream",
          "name": "stdout",
          "text": [
            "숫자를 입력하세요.7\n",
            "13\n"
          ]
        }
      ]
    }
  ]
}