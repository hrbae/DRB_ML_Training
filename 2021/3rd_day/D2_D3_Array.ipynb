{
  "nbformat": 4,
  "nbformat_minor": 0,
  "metadata": {
    "colab": {
      "name": "D2_D3_Array.ipynb",
      "provenance": [],
      "collapsed_sections": [],
      "authorship_tag": "ABX9TyPlapMw6t+A8Lv4dAjhGXx5",
      "include_colab_link": true
    },
    "kernelspec": {
      "name": "python3",
      "display_name": "Python 3"
    },
    "language_info": {
      "name": "python"
    }
  },
  "cells": [
    {
      "cell_type": "markdown",
      "metadata": {
        "id": "view-in-github",
        "colab_type": "text"
      },
      "source": [
        "<a href=\"https://colab.research.google.com/github/hrbae/DRB_ML_Training/blob/main/3rd_day/D2_D3_Array.ipynb\" target=\"_parent\"><img src=\"https://colab.research.google.com/assets/colab-badge.svg\" alt=\"Open In Colab\"/></a>"
      ]
    },
    {
      "cell_type": "code",
      "metadata": {
        "id": "SJETxrhIboaf"
      },
      "source": [
        "from random import *\n",
        "import math"
      ],
      "execution_count": 2,
      "outputs": []
    },
    {
      "cell_type": "code",
      "metadata": {
        "id": "X8QipZWt94fL"
      },
      "source": [
        "def max_Array(X):\n",
        "  max=X[0]\n",
        "  for i in range(len(X)):\n",
        "    if X[i] >= max:\n",
        "      max=X[i]\n",
        "  return max\n",
        "\n"
      ],
      "execution_count": 3,
      "outputs": []
    },
    {
      "cell_type": "code",
      "metadata": {
        "id": "yMC8z_gpcVY9"
      },
      "source": [
        "def sum_Array(X):\n",
        "  sum=0\n",
        "  for i in range(len(X)):\n",
        "    sum+=X[i]\n",
        "  return sum"
      ],
      "execution_count": 4,
      "outputs": []
    },
    {
      "cell_type": "code",
      "metadata": {
        "id": "4thKj2jveIuC"
      },
      "source": [
        "def b_sum_Array(X, i, n):\n",
        "  if n==1:\n",
        "    return A[i]\n",
        "  else:\n",
        "    return b_sum_Array(X, i, math.floor(n/2))+b_sum_Array(X, i+math.floor(n/2), math.ceil(n/2))\n"
      ],
      "execution_count": 8,
      "outputs": []
    },
    {
      "cell_type": "code",
      "metadata": {
        "colab": {
          "base_uri": "https://localhost:8080/"
        },
        "id": "swtKYcMTbmny",
        "outputId": "2ef8b7d7-0bc2-45a0-c13d-9612a82f975f"
      },
      "source": [
        "n=int(input(\"몇 개의 숫자를 생성할까요? \"))\n",
        "A=[]\n",
        "for i in range(0,n):\n",
        "    #A.append(randint(1,100))\n",
        "    A.append(i)\n",
        "\n",
        "print(A)\n",
        "\n",
        "print(\"가장 큰 수는 \", max_Array(A))\n",
        "#print(\"배열의 합은 \", sum_Array(A))\n",
        "print(\"배열의 합은 (by recursion): \", b_sum_Array(A,0,len(A)))"
      ],
      "execution_count": 13,
      "outputs": [
        {
          "output_type": "stream",
          "name": "stdout",
          "text": [
            "몇 개의 숫자를 생성할까요? 11\n",
            "[0, 1, 2, 3, 4, 5, 6, 7, 8, 9, 10]\n",
            "가장 큰 수는  10\n",
            "배열의 합은 (by recursion):  55\n"
          ]
        }
      ]
    }
  ]
}