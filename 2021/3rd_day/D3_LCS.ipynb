{
  "nbformat": 4,
  "nbformat_minor": 0,
  "metadata": {
    "colab": {
      "name": "D3_LCS.ipynb",
      "provenance": [],
      "authorship_tag": "ABX9TyORbpgWIFvG6IccdHF3ia4m",
      "include_colab_link": true
    },
    "kernelspec": {
      "name": "python3",
      "display_name": "Python 3"
    },
    "language_info": {
      "name": "python"
    }
  },
  "cells": [
    {
      "cell_type": "markdown",
      "metadata": {
        "id": "view-in-github",
        "colab_type": "text"
      },
      "source": [
        "<a href=\"https://colab.research.google.com/github/hrbae/DRB_ML_Training/blob/main/3rd_day/D3_LCS.ipynb\" target=\"_parent\"><img src=\"https://colab.research.google.com/assets/colab-badge.svg\" alt=\"Open In Colab\"/></a>"
      ]
    },
    {
      "cell_type": "code",
      "metadata": {
        "id": "N5oz3MxhSJj4"
      },
      "source": [
        "def LCS(X, Y):\n",
        "    L = [[0 for i in range(len(Y)+1)] for j in range(len(X)+1)]\n",
        "\n",
        "    for i in range(len(X)+1):\n",
        "        L[i][0] = 0\n",
        "    for j in range(len(Y)+1):\n",
        "        L[0][j] = 0\n",
        "    for i in range(1, len(X)+1):\n",
        "        for j in range(1, len(Y)+1):\n",
        "            if X[i-1] == Y[j-1]:\n",
        "                L[i][j]=L[i-1][j-1]+1\n",
        "            else:\n",
        "                L[i][j] = max(L[i-1][j], L[i][j-1])\n",
        "    return L\n",
        "\n",
        "def LCS_Str(L, i, j, X, Y):\n",
        "    r_lcs=''\n",
        "\n",
        "    while i>0 and j>0:\n",
        "        if X[i-1] == Y[j-1]:\n",
        "            r_lcs=r_lcs+X[i-1]\n",
        "            i=i-1\n",
        "            j=j-1\n",
        "        elif L[i-1][j] <= L[i][j-1]:\n",
        "            j=j-1\n",
        "        else:\n",
        "            i=i-1\n",
        "    return r_lcs[::-1]"
      ],
      "execution_count": 1,
      "outputs": []
    },
    {
      "cell_type": "code",
      "metadata": {
        "colab": {
          "base_uri": "https://localhost:8080/"
        },
        "id": "NI8Lqn9QSTDi",
        "outputId": "ff26480e-e3ff-4eb5-b573-2debb76fe465"
      },
      "source": [
        "X = 'CTTCCTAATA'\n",
        "Y = 'CGATAATTGAGA'\n",
        "L=LCS(X,Y)\n",
        "print(L)\n",
        "print(LCS_Str(L, len(X), len(Y), X, Y))"
      ],
      "execution_count": 2,
      "outputs": [
        {
          "output_type": "stream",
          "name": "stdout",
          "text": [
            "[[0, 0, 0, 0, 0, 0, 0, 0, 0, 0, 0, 0, 0], [0, 1, 1, 1, 1, 1, 1, 1, 1, 1, 1, 1, 1], [0, 1, 1, 1, 2, 2, 2, 2, 2, 2, 2, 2, 2], [0, 1, 1, 1, 2, 2, 2, 3, 3, 3, 3, 3, 3], [0, 1, 1, 1, 2, 2, 2, 3, 3, 3, 3, 3, 3], [0, 1, 1, 1, 2, 2, 2, 3, 3, 3, 3, 3, 3], [0, 1, 1, 1, 2, 2, 2, 3, 4, 4, 4, 4, 4], [0, 1, 1, 2, 2, 3, 3, 3, 4, 4, 5, 5, 5], [0, 1, 1, 2, 2, 3, 4, 4, 4, 4, 5, 5, 6], [0, 1, 1, 2, 3, 3, 4, 5, 5, 5, 5, 5, 6], [0, 1, 1, 2, 3, 4, 4, 5, 5, 5, 6, 6, 6]]\n",
            "CTAATA\n"
          ]
        }
      ]
    }
  ]
}