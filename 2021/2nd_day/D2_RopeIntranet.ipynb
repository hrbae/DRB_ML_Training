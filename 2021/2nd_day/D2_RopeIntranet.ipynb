{
  "nbformat": 4,
  "nbformat_minor": 0,
  "metadata": {
    "colab": {
      "name": "D2_RopeIntranet.ipynb",
      "provenance": [],
      "authorship_tag": "ABX9TyNWghoxKmJ5DYNHI/E6VGA9",
      "include_colab_link": true
    },
    "kernelspec": {
      "name": "python3",
      "display_name": "Python 3"
    },
    "language_info": {
      "name": "python"
    }
  },
  "cells": [
    {
      "cell_type": "markdown",
      "metadata": {
        "id": "view-in-github",
        "colab_type": "text"
      },
      "source": [
        "<a href=\"https://colab.research.google.com/github/hrbae/DRB_ML_Training/blob/main/2nd_day/D2_RopeIntranet.ipynb\" target=\"_parent\"><img src=\"https://colab.research.google.com/assets/colab-badge.svg\" alt=\"Open In Colab\"/></a>"
      ]
    },
    {
      "cell_type": "code",
      "metadata": {
        "colab": {
          "base_uri": "https://localhost:8080/"
        },
        "id": "1YxOjFrJ4yde",
        "outputId": "ac9d7967-587f-4061-921c-2aae1abef1ea"
      },
      "source": [
        "# Google drive를 마운트\n",
        "from google.colab import drive\n",
        "drive.mount('/content/drive', force_remount=True)"
      ],
      "execution_count": null,
      "outputs": [
        {
          "output_type": "stream",
          "text": [
            "Mounted at /content/drive\n"
          ],
          "name": "stdout"
        }
      ]
    },
    {
      "cell_type": "code",
      "metadata": {
        "colab": {
          "base_uri": "https://localhost:8080/"
        },
        "id": "rcOmkmn85Vby",
        "outputId": "3fe0b42b-be2b-476d-cf48-6e1de903215c"
      },
      "source": [
        "!pwd"
      ],
      "execution_count": null,
      "outputs": [
        {
          "output_type": "stream",
          "text": [
            "/content\n"
          ],
          "name": "stdout"
        }
      ]
    },
    {
      "cell_type": "code",
      "metadata": {
        "colab": {
          "base_uri": "https://localhost:8080/"
        },
        "id": "TqC1tqEt5Xm9",
        "outputId": "08f87906-83a5-472c-c80a-e0fd737f4964"
      },
      "source": [
        "%cd drive/MyDrive/Colab\\ Notebooks/Data_Structures"
      ],
      "execution_count": null,
      "outputs": [
        {
          "output_type": "stream",
          "text": [
            "/content/drive/MyDrive/Colab Notebooks/Data_Structures\n"
          ],
          "name": "stdout"
        }
      ]
    },
    {
      "cell_type": "code",
      "metadata": {
        "colab": {
          "base_uri": "https://localhost:8080/"
        },
        "id": "pIrPk2Xv5cej",
        "outputId": "3a6e5d8d-d5ad-4ff1-b821-73340182609e"
      },
      "source": [
        "#Without data structures\n",
        "A1 = int(input(\"왼쪽 건물 첫번째, 창문의 위치\"))\n",
        "B1 = int(input(\"오른쪽 건물 첫번째, 창문의 위치\"))\n",
        "A2 = int(input(\"왼쪽 건물 두번째, 창문의 위치\"))\n",
        "B2 = int(input(\"오른쪽 건물 두번째, 창문의 위치\"))\n",
        "A3 = int(input(\"왼쪽 건물 세번째, 창문의 위치\"))\n",
        "B3 = int(input(\"오른쪽 건물 세번째, 창문의 위치\"))\n",
        "\n",
        "NofIntersection = 0\n",
        "\n",
        "if ((A1>A2) and (B1 < B2)) or ((A1<A2) and (B1 > B2)):\n",
        "  NofIntersection=NofIntersection+1\n",
        "if ((A1>A3) and (B1 < B3)) or ((A1<A3) and (B1 > B3)):\n",
        "  NofIntersection=NofIntersection+1\n",
        "if ((A2>A3) and (B2 < B3)) or ((A2<A3) and (B2 > B3)):\n",
        "  NofIntersection=NofIntersection+1\n",
        "\n",
        "print(NofIntersection,\"개의 교차가 있습니다.\")"
      ],
      "execution_count": null,
      "outputs": [
        {
          "output_type": "stream",
          "text": [
            "왼쪽 건물 첫번째, 창문의 위치1\n",
            "오른쪽 건물 첫번째, 창문의 위치10\n",
            "왼쪽 건물 두번째, 창문의 위치5\n",
            "오른쪽 건물 두번째, 창문의 위치5\n",
            "왼쪽 건물 세번째, 창문의 위치7\n",
            "오른쪽 건물 세번째, 창문의 위치7\n",
            "2 개의 교차가 있습니다.\n"
          ],
          "name": "stdout"
        }
      ]
    },
    {
      "cell_type": "code",
      "metadata": {
        "colab": {
          "base_uri": "https://localhost:8080/"
        },
        "id": "X4wJHmTb7kvZ",
        "outputId": "d0b2ab6e-b143-4d11-9a50-672b9e9f672c"
      },
      "source": [
        "#With Array\n",
        "\n",
        "def getNofIntersection(N, A, B):\n",
        "  NofIS=0\n",
        "  for i in range(N):\n",
        "    for j in range(1, N):\n",
        "      if ((A[i]>A[j]) and (B[i] < B[j])) or ((A[i]<A[j]) and (B[i] > B[j])):\n",
        "        NofIS=NofIS+1\n",
        "  return NofIS\n",
        "\n",
        "NofWindow = int(input(\"각 건물에 창이 몇 개가 있나요?\"))\n",
        "\n",
        "A=[]\n",
        "B=[]\n",
        "\n",
        "for i in range(NofWindow):\n",
        "  print(i+1,\"번째 왼쪽 건물 창문 위치\")\n",
        "  a=int(input())\n",
        "  A.append(a)\n",
        "  print(i+1,\"번째 오른쪽 건물 창문 위치\")\n",
        "  b=int(input())\n",
        "  B.append(b)\n",
        "\n",
        "print(getNofIntersection(NofWindow, A, B), \"개의 교차가 발생\")\n"
      ],
      "execution_count": null,
      "outputs": [
        {
          "output_type": "stream",
          "text": [
            "각 건물에 창이 몇 개가 있나요?3\n",
            "1 번째 왼쪽 건물 창문 위치\n",
            "1\n",
            "1 번째 오른쪽 건물 창문 위치\n",
            "10\n",
            "2 번째 왼쪽 건물 창문 위치\n",
            "5\n",
            "2 번째 오른쪽 건물 창문 위치\n",
            "5\n",
            "3 번째 왼쪽 건물 창문 위치\n",
            "7\n",
            "3 번째 오른쪽 건물 창문 위치\n",
            "7\n",
            "2 개의 교차가 발생1\n"
          ],
          "name": "stdout"
        }
      ]
    },
    {
      "cell_type": "code",
      "metadata": {
        "colab": {
          "base_uri": "https://localhost:8080/"
        },
        "id": "sm7bH_GNCg9f",
        "outputId": "c333f5b8-d150-4bf3-f9fc-336a9666e5b8"
      },
      "source": [
        "#With Vector\n",
        "from DS_Class.Vector import MyVector\n",
        "\n",
        "def getNofIntersection(N, A, B):\n",
        "  NofIS=0\n",
        "  for i in range(N):\n",
        "    for j in range(1, N):\n",
        "      if ((A.elementAt(i)>A.elementAt(j)) and (B.elementAt(i) < B.elementAt(j))) or ((A.elementAt(i)<A.elementAt(j)) and (B.elementAt(i) > B.elementAt(j))):\n",
        "        NofIS=NofIS+1\n",
        "  return NofIS\n",
        "\n",
        "NofWindow = int(input(\"각 건물에 창이 몇 개가 있나요?\"))\n",
        "\n",
        "\n",
        "A = MyVector(NofWindow)\n",
        "B = MyVector(NofWindow)\n",
        "\n",
        "for i in range(NofWindow):\n",
        "  print(i+1,\"번째 왼쪽 건물 창문 위치\")\n",
        "  a=int(input())\n",
        "  A.insertAt(i, a)\n",
        "  print(i+1,\"번째 오른쪽 건물 창문 위치\")\n",
        "  b=int(input())\n",
        "  B.insertAt(i, b)\n",
        "\n",
        "print(getNofIntersection(NofWindow, A, B), \"개의 교차가 발생\")\n"
      ],
      "execution_count": null,
      "outputs": [
        {
          "output_type": "stream",
          "text": [
            "각 건물에 창이 몇 개가 있나요?3\n",
            "1 번째 왼쪽 건물 창문 위치\n",
            "1\n",
            "1 번째 오른쪽 건물 창문 위치\n",
            "10\n",
            "2 번째 왼쪽 건물 창문 위치\n",
            "5\n",
            "2 번째 오른쪽 건물 창문 위치\n",
            "5\n",
            "3 번째 왼쪽 건물 창문 위치\n",
            "7\n",
            "3 번째 오른쪽 건물 창문 위치\n",
            "7\n",
            "2 개의 교차가 발생\n"
          ],
          "name": "stdout"
        }
      ]
    }
  ]
}