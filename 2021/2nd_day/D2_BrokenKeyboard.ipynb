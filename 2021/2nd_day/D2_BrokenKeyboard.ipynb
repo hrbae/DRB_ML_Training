{
  "nbformat": 4,
  "nbformat_minor": 0,
  "metadata": {
    "colab": {
      "name": "D2_BrokenKeyboard.ipynb",
      "provenance": [],
      "authorship_tag": "ABX9TyNR6tnO6uP2g5TNc12kHsUZ",
      "include_colab_link": true
    },
    "kernelspec": {
      "name": "python3",
      "display_name": "Python 3"
    },
    "language_info": {
      "name": "python"
    }
  },
  "cells": [
    {
      "cell_type": "markdown",
      "metadata": {
        "id": "view-in-github",
        "colab_type": "text"
      },
      "source": [
        "<a href=\"https://colab.research.google.com/github/hrbae/DRB_ML_Training/blob/main/2nd_day/D2_BrokenKeyboard.ipynb\" target=\"_parent\"><img src=\"https://colab.research.google.com/assets/colab-badge.svg\" alt=\"Open In Colab\"/></a>"
      ]
    },
    {
      "cell_type": "code",
      "metadata": {
        "id": "Vm-j-vQYKeTB",
        "colab": {
          "base_uri": "https://localhost:8080/"
        },
        "outputId": "be9ade73-057d-4674-a6f1-116a7279672a"
      },
      "source": [
        "# Google drive를 마운트\n",
        "from google.colab import drive\n",
        "drive.mount('/content/drive', force_remount=True)"
      ],
      "execution_count": 1,
      "outputs": [
        {
          "output_type": "stream",
          "text": [
            "Mounted at /content/drive\n"
          ],
          "name": "stdout"
        }
      ]
    },
    {
      "cell_type": "code",
      "metadata": {
        "colab": {
          "base_uri": "https://localhost:8080/"
        },
        "id": "ijZCjofMK5zF",
        "outputId": "785dff97-3904-485c-fcd1-8092d0bcacab"
      },
      "source": [
        "!pwd"
      ],
      "execution_count": 2,
      "outputs": [
        {
          "output_type": "stream",
          "text": [
            "/content\n"
          ],
          "name": "stdout"
        }
      ]
    },
    {
      "cell_type": "code",
      "metadata": {
        "colab": {
          "base_uri": "https://localhost:8080/"
        },
        "id": "-ilb1dItK7Gr",
        "outputId": "de063be7-745d-414f-b9a1-22e85986277a"
      },
      "source": [
        "%cd drive/MyDrive/Colab\\ Notebooks/Data_Structures"
      ],
      "execution_count": 3,
      "outputs": [
        {
          "output_type": "stream",
          "text": [
            "/content/drive/MyDrive/Colab Notebooks/Data_Structures\n"
          ],
          "name": "stdout"
        }
      ]
    },
    {
      "cell_type": "code",
      "metadata": {
        "colab": {
          "base_uri": "https://localhost:8080/"
        },
        "id": "CfsEC1-yK_ud",
        "outputId": "5fb6a89f-53e0-4601-a9f1-e6f792364afc"
      },
      "source": [
        "#with Linked List\n",
        "from DS_Class.LinkedList import LinkedList\n",
        "\n",
        "s = input(\"키보드 타이핑을 하세요\")\n",
        "\n",
        "ll = LinkedList()\n",
        "pointerLoc = ll.head\n",
        "\n",
        "for i in range(len(s)):\n",
        "  if (s[i] == '['):\n",
        "    pointerLoc = ll.head\n",
        "  elif (s[i] == ']'):\n",
        "    pointerLoc = ll.Last()\n",
        "  else:\n",
        "    pointerLoc = ll.insertAfter(pointerLoc, s[i])\n",
        "\n",
        "#ll.printList()\n",
        "print(ll.toString())"
      ],
      "execution_count": 7,
      "outputs": [
        {
          "output_type": "stream",
          "text": [
            "키보드 타이핑을 하세요This is a [Bejiju test\n",
            "Bejiju testThis is a \n"
          ],
          "name": "stdout"
        }
      ]
    },
    {
      "cell_type": "code",
      "metadata": {
        "colab": {
          "base_uri": "https://localhost:8080/"
        },
        "id": "PH_Wv8axE9_D",
        "outputId": "592ee7c1-7bb8-4b02-ad22-1f08daca9d6e"
      },
      "source": [
        "#with Vector\n",
        "from DS_Class.Vector import MyVector\n",
        "\n",
        "s = input(\"키보드 타이핑을 하세요\")\n",
        "\n",
        "mv = MyVector(100)\n",
        "pointerLoc = 0\n",
        "\n",
        "for i in range(len(s)):\n",
        "  if (s[i] == '['):\n",
        "    pointerLoc = 0\n",
        "  elif (s[i] == ']'):\n",
        "    pointerLoc = mv.size\n",
        "  else:\n",
        "    mv.insertAt(pointerLoc, s[i])\n",
        "    pointerLoc=pointerLoc+1\n",
        "\n",
        "#mv.printVector()\n",
        "print(mv.toString())\n"
      ],
      "execution_count": 5,
      "outputs": [
        {
          "output_type": "stream",
          "text": [
            "키보드 타이핑을 하세요test [test] a good\n",
            "testtest  a good\n"
          ],
          "name": "stdout"
        }
      ]
    }
  ]
}