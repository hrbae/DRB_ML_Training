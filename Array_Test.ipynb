{
  "nbformat": 4,
  "nbformat_minor": 0,
  "metadata": {
    "colab": {
      "name": "Array_Test.ipynb",
      "provenance": [],
      "authorship_tag": "ABX9TyMzl7wobTf+s/QRp307+SSF",
      "include_colab_link": true
    },
    "kernelspec": {
      "name": "python3",
      "display_name": "Python 3"
    },
    "language_info": {
      "name": "python"
    }
  },
  "cells": [
    {
      "cell_type": "markdown",
      "metadata": {
        "id": "view-in-github",
        "colab_type": "text"
      },
      "source": [
        "<a href=\"https://colab.research.google.com/github/hrbae/DRB_ML_Training/blob/main/Array_Test.ipynb\" target=\"_parent\"><img src=\"https://colab.research.google.com/assets/colab-badge.svg\" alt=\"Open In Colab\"/></a>"
      ]
    },
    {
      "cell_type": "code",
      "metadata": {
        "id": "5ivJ_akqMNby"
      },
      "source": [
        "from random import *"
      ],
      "execution_count": 1,
      "outputs": []
    },
    {
      "cell_type": "markdown",
      "metadata": {
        "id": "oI97pC-yNBtF"
      },
      "source": [
        "내가 처음 짜는 배열 코드\n",
        "1. 배열중에서 가장큰수 구하기\n"
      ]
    },
    {
      "cell_type": "code",
      "metadata": {
        "id": "N_ucUJZBNA3q"
      },
      "source": [
        "def max_Array(X):\n",
        "  max=X[0]\n",
        "  for i in range(len(X)):\n",
        "    if  X[i] >= max:\n",
        "      max = X[i]\n",
        "  return max"
      ],
      "execution_count": 2,
      "outputs": []
    },
    {
      "cell_type": "code",
      "metadata": {
        "id": "l2ma8EutSU33"
      },
      "source": [
        "def sum_Array(X):\n",
        "  sum=0\n",
        "  for i in range(len(X)):\n",
        "    sum=sum+X[i]\n",
        "  return sum"
      ],
      "execution_count": 10,
      "outputs": []
    },
    {
      "cell_type": "code",
      "metadata": {
        "id": "OfSj_GSBZedK"
      },
      "source": [
        "def average_Array(X):\n",
        "#  sum=0\n",
        "#  for i in range(len(X)):\n",
        "#    sum=sum+X[i]\n",
        "  return sum_Array(X)/(len(X))"
      ],
      "execution_count": 35,
      "outputs": []
    },
    {
      "cell_type": "code",
      "metadata": {
        "id": "gug-U1BXWZGh"
      },
      "source": [
        "def prefix_Average(X):\n",
        "  #sum=0\n",
        "  A=[]\n",
        "  for i in range(len(X)):\n",
        "    sum=0\n",
        "    for j in range(i+1):\n",
        "      sum+=X[j]\n",
        "    A.append(sum/(i+1))\n",
        "  return A"
      ],
      "execution_count": 37,
      "outputs": []
    },
    {
      "cell_type": "code",
      "metadata": {
        "colab": {
          "base_uri": "https://localhost:8080/"
        },
        "id": "QErV6qRBP96L",
        "outputId": "edda4e8d-23ac-418c-e72c-26d647988df0"
      },
      "source": [
        "n = int(input(\"몇 개의 숫자를 생성할까요?\"))\n",
        "#print(n)\n",
        "\n",
        "A=[]\n",
        "\n",
        "for i in range(0, n):\n",
        "  A.append(randint(1, 10*n))\n",
        "print(A)\n",
        "#a=A[1:3]\n",
        "#b=A[4:6]\n",
        "#print(a+b)\n",
        "\n",
        "#print(\"가장 큰 수:\", max_Array(A))\n",
        "#print(\"숫자들의 합: \", sum_Array(A))\n",
        "#print(\"숫자들의 평균: \", average_Array(A))\n",
        "print(prefix_Average(A))"
      ],
      "execution_count": 38,
      "outputs": [
        {
          "output_type": "stream",
          "name": "stdout",
          "text": [
            "몇 개의 숫자를 생성할까요?5\n",
            "[24, 18, 17, 9, 34]\n",
            "[24.0, 21.0, 19.666666666666668, 17.0, 20.4]\n"
          ]
        }
      ]
    }
  ]
}