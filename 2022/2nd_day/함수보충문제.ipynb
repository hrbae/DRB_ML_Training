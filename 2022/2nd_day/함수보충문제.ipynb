{
 "cells": [
  {
   "cell_type": "code",
   "execution_count": null,
   "id": "97c2ef5a-0f00-4dec-9dd7-7601d8f97870",
   "metadata": {},
   "outputs": [],
   "source": [
    "import numpy as np"
   ]
  },
  {
   "cell_type": "markdown",
   "id": "472f2df0-d71d-486f-ac14-9e596400e68d",
   "metadata": {
    "deletable": false,
    "editable": false,
    "nbgrader": {
     "cell_type": "markdown",
     "checksum": "bcea91d4ebbfa71d7b89d354d59320f9",
     "grade": false,
     "grade_id": "cell-68ce257da416ae51",
     "locked": true,
     "schema_version": 3,
     "solution": false,
     "task": false
    },
    "tags": []
   },
   "source": [
    "## 문제1\n",
    "* 주어진 값의 제곱을 반환하는 함수를 구하시오\n",
    "* 입력값: x\n",
    "* 출력값: x의 제곱"
   ]
  },
  {
   "cell_type": "code",
   "execution_count": null,
   "id": "1cfb356c-0f10-4d24-887c-ace584ad7e9b",
   "metadata": {
    "deletable": false,
    "nbgrader": {
     "cell_type": "code",
     "checksum": "5379dac31417d8becc9772310fb7c17f",
     "grade": false,
     "grade_id": "cell-33cd77c7758ae340",
     "locked": false,
     "schema_version": 3,
     "solution": true,
     "task": false
    },
    "tags": []
   },
   "outputs": [],
   "source": [
    "def squares(x):\n",
    "    # YOUR CODE HERE\n",
    "    raise NotImplementedError()\n",
    "    return result\n",
    "    "
   ]
  },
  {
   "cell_type": "code",
   "execution_count": null,
   "id": "e2ac6634-6d64-4a4c-bdf7-18484bbaac7d",
   "metadata": {
    "deletable": false,
    "editable": false,
    "nbgrader": {
     "cell_type": "code",
     "checksum": "cc454db34caa8552037d73687f84dd52",
     "grade": true,
     "grade_id": "cell-f2e4ae22613e6aed",
     "locked": true,
     "points": 2,
     "schema_version": 3,
     "solution": false,
     "task": false
    },
    "tags": []
   },
   "outputs": [],
   "source": [
    "print(\"Success\")"
   ]
  },
  {
   "cell_type": "markdown",
   "id": "3d1ecbfb-e027-40b0-93b0-99ab96a831d7",
   "metadata": {
    "deletable": false,
    "editable": false,
    "nbgrader": {
     "cell_type": "markdown",
     "checksum": "70efdae796b266ed450fb78f3554a0eb",
     "grade": false,
     "grade_id": "cell-fbaf911bde0df304",
     "locked": true,
     "schema_version": 3,
     "solution": false,
     "task": false
    },
    "tags": []
   },
   "source": [
    "## 문제2\n",
    "* a를 b로 나누었을때 몫을 m, 나머지를 n으로 반환하는 함수를 구하시오\n",
    "* 입력값: a,b\n",
    "* 출력값: m,n"
   ]
  },
  {
   "cell_type": "code",
   "execution_count": null,
   "id": "ebbfc44b-beb6-425d-b811-b279973d8a71",
   "metadata": {
    "deletable": false,
    "nbgrader": {
     "cell_type": "code",
     "checksum": "75df1f455c5fb64d05d560ff9cce3881",
     "grade": false,
     "grade_id": "cell-a0ab7ab36f399d6f",
     "locked": false,
     "schema_version": 3,
     "solution": true,
     "task": false
    },
    "tags": []
   },
   "outputs": [],
   "source": [
    "def divider(a,b):\n",
    "    # YOUR CODE HERE\n",
    "    raise NotImplementedError()\n",
    "    return m,n\n",
    "    "
   ]
  },
  {
   "cell_type": "code",
   "execution_count": null,
   "id": "c354b226-adf2-4235-a10d-6e66bf2185d0",
   "metadata": {
    "deletable": false,
    "editable": false,
    "nbgrader": {
     "cell_type": "code",
     "checksum": "b044a3c063beb9c0e34f0bda2ede9b6d",
     "grade": true,
     "grade_id": "cell-0327950cc3ac4d63",
     "locked": true,
     "points": 2,
     "schema_version": 3,
     "solution": false,
     "task": false
    },
    "tags": []
   },
   "outputs": [],
   "source": [
    "print(\"Success\")"
   ]
  },
  {
   "cell_type": "markdown",
   "id": "3f8de5d7-f931-4504-a163-49302ed1af14",
   "metadata": {
    "deletable": false,
    "editable": false,
    "nbgrader": {
     "cell_type": "markdown",
     "checksum": "dba642bc89c935c8ba6b2123c36e1a3c",
     "grade": false,
     "grade_id": "cell-d04d449ef440be97",
     "locked": true,
     "schema_version": 3,
     "solution": false,
     "task": false
    },
    "tags": []
   },
   "source": [
    "## 문제3\n",
    "* 주어진 리스트에서 th보다 큰값을 갖는 값의 갯수를 반환하는 함수를 만드시오\n",
    "* 입력: 리스트, th\n",
    "* 출력: 값"
   ]
  },
  {
   "cell_type": "code",
   "execution_count": null,
   "id": "2e514358-2f12-4319-b56b-081c386ff393",
   "metadata": {
    "deletable": false,
    "nbgrader": {
     "cell_type": "code",
     "checksum": "e4ec8371552904be45c8b4e8f3a2929f",
     "grade": false,
     "grade_id": "cell-a0249381d709041e",
     "locked": false,
     "schema_version": 3,
     "solution": true,
     "task": false
    },
    "tags": []
   },
   "outputs": [],
   "source": [
    "def largerThan(my_list, th):\n",
    "    # YOUR CODE HERE\n",
    "    raise NotImplementedError()\n",
    "    return result\n",
    "    "
   ]
  },
  {
   "cell_type": "code",
   "execution_count": null,
   "id": "bd880fc2-4a76-4a3f-b809-ca27e9552ef5",
   "metadata": {
    "deletable": false,
    "editable": false,
    "nbgrader": {
     "cell_type": "code",
     "checksum": "ccf32fadcdccfb5f3b03711b7932e4ae",
     "grade": true,
     "grade_id": "cell-3ac299c28d98fb79",
     "locked": true,
     "points": 2,
     "schema_version": 3,
     "solution": false,
     "task": false
    },
    "tags": []
   },
   "outputs": [],
   "source": [
    "print(\"Success\")"
   ]
  },
  {
   "cell_type": "markdown",
   "id": "2f765cfe-5006-487c-bd30-52ce5ec94fe3",
   "metadata": {
    "deletable": false,
    "editable": false,
    "nbgrader": {
     "cell_type": "markdown",
     "checksum": "4e5f176a00211240459065de7734091e",
     "grade": false,
     "grade_id": "cell-afc8e117ffd69d3c",
     "locked": true,
     "schema_version": 3,
     "solution": false,
     "task": false
    },
    "tags": []
   },
   "source": [
    "## 문제4\n",
    "* 주어진 리스트에서 th보다 큰 값을 갖는 값들만 추려내어 새로운 리스트를 반환하는 함수를 만드시오\n",
    "* 입력: 리스트, th\n",
    "* 출력: th보다 큰 값을 갖는 숫자로만 구성된 리스트"
   ]
  },
  {
   "cell_type": "code",
   "execution_count": null,
   "id": "b8fa4d9f-e874-41af-ae4b-0faef0dbd49d",
   "metadata": {
    "deletable": false,
    "nbgrader": {
     "cell_type": "code",
     "checksum": "297684c5a202ba68d312f5f30db7e76e",
     "grade": false,
     "grade_id": "cell-a7e5f0c5b705996b",
     "locked": false,
     "schema_version": 3,
     "solution": true,
     "task": false
    },
    "tags": []
   },
   "outputs": [],
   "source": [
    "def filterList(my_list, th):\n",
    "    # YOUR CODE HERE\n",
    "    raise NotImplementedError()\n",
    "    return result"
   ]
  },
  {
   "cell_type": "code",
   "execution_count": null,
   "id": "9ec83abc-87d9-4d1f-aa3d-8d976dcd57ee",
   "metadata": {
    "deletable": false,
    "editable": false,
    "nbgrader": {
     "cell_type": "code",
     "checksum": "452ebb008caa4c37ab29a9afd5b96a47",
     "grade": true,
     "grade_id": "cell-8ae0f66a950e88f0",
     "locked": true,
     "points": 2,
     "schema_version": 3,
     "solution": false,
     "task": false
    },
    "tags": []
   },
   "outputs": [],
   "source": [
    "print(\"Success\")"
   ]
  },
  {
   "cell_type": "markdown",
   "id": "feeeb5ca-b47e-4cf2-8a28-e36de1798831",
   "metadata": {
    "deletable": false,
    "editable": false,
    "nbgrader": {
     "cell_type": "markdown",
     "checksum": "c1361eeb4f479d0559bef77d991fafa7",
     "grade": false,
     "grade_id": "cell-ba2ce3acd8dd46c3",
     "locked": true,
     "schema_version": 3,
     "solution": false,
     "task": false
    },
    "tags": []
   },
   "source": [
    "## 문제5\n",
    "* 두 벡터의 내적을 구하는 함수를 구하시오\n",
    "* 입력값: list1, list2\n",
    "* 출력값: 내적된 값"
   ]
  },
  {
   "cell_type": "code",
   "execution_count": null,
   "id": "4885835c-f5ce-4f3c-b969-5cb3e82a0a5c",
   "metadata": {
    "deletable": false,
    "nbgrader": {
     "cell_type": "code",
     "checksum": "91b518c39d77c01b89efcfa33ecdedd4",
     "grade": false,
     "grade_id": "cell-25a0906c9a3259f3",
     "locked": false,
     "schema_version": 3,
     "solution": true,
     "task": false
    },
    "tags": []
   },
   "outputs": [],
   "source": [
    "def innerProduct(list1, list2):\n",
    "    # YOUR CODE HERE\n",
    "    raise NotImplementedError()\n",
    "    return result\n",
    "    "
   ]
  },
  {
   "cell_type": "code",
   "execution_count": null,
   "id": "1170a928-0b56-4556-8995-3e6a94de690e",
   "metadata": {
    "deletable": false,
    "editable": false,
    "nbgrader": {
     "cell_type": "code",
     "checksum": "05a8c735e661c389871768ff8814e373",
     "grade": true,
     "grade_id": "cell-a6627d02fb976b7e",
     "locked": true,
     "points": 2,
     "schema_version": 3,
     "solution": false,
     "task": false
    },
    "tags": []
   },
   "outputs": [],
   "source": [
    "print(\"Success\")"
   ]
  },
  {
   "cell_type": "markdown",
   "id": "93fe802c-add9-4570-b9f5-0f692e7d3791",
   "metadata": {
    "deletable": false,
    "editable": false,
    "nbgrader": {
     "cell_type": "markdown",
     "checksum": "6af8dead22aa6642694e6ee32c771e06",
     "grade": false,
     "grade_id": "cell-232712968e9b80d4",
     "locked": true,
     "schema_version": 3,
     "solution": false,
     "task": false
    },
    "tags": []
   },
   "source": [
    "## 문제6\n",
    "* 주어진 리스트에서 최대값을 구하는 함수를 구하시오\n",
    "* 입력값: list\n",
    "* 출력값: list 내부의 최대값"
   ]
  },
  {
   "cell_type": "code",
   "execution_count": null,
   "id": "90e51bad-b4bf-4df4-ab5e-91272e5e3f84",
   "metadata": {
    "deletable": false,
    "nbgrader": {
     "cell_type": "code",
     "checksum": "3f738d6988f2f122705fbf83f7117e45",
     "grade": false,
     "grade_id": "cell-5aa8815544e1d34a",
     "locked": false,
     "schema_version": 3,
     "solution": true,
     "task": false
    },
    "tags": []
   },
   "outputs": [],
   "source": [
    "def getMax(my_list):\n",
    "    result=my_list[0]\n",
    "    # YOUR CODE HERE\n",
    "    raise NotImplementedError()\n",
    "    return result\n",
    "    "
   ]
  },
  {
   "cell_type": "code",
   "execution_count": null,
   "id": "7385a54a-5cbd-4005-8a6e-01f45248c8b0",
   "metadata": {
    "deletable": false,
    "editable": false,
    "nbgrader": {
     "cell_type": "code",
     "checksum": "90069c674257121f8b96cc9d73f93d97",
     "grade": true,
     "grade_id": "cell-7bfceeafc3f16678",
     "locked": true,
     "points": 2,
     "schema_version": 3,
     "solution": false,
     "task": false
    },
    "tags": []
   },
   "outputs": [],
   "source": [
    "print(\"Success\")"
   ]
  }
 ],
 "metadata": {
  "kernelspec": {
   "display_name": "Python 3 (ipykernel)",
   "language": "python",
   "name": "python3"
  },
  "language_info": {
   "codemirror_mode": {
    "name": "ipython",
    "version": 3
   },
   "file_extension": ".py",
   "mimetype": "text/x-python",
   "name": "python",
   "nbconvert_exporter": "python",
   "pygments_lexer": "ipython3",
   "version": "3.10.6"
  }
 },
 "nbformat": 4,
 "nbformat_minor": 5
}
