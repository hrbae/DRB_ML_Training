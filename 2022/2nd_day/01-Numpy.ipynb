{
 "cells": [
  {
   "cell_type": "code",
   "execution_count": 1,
   "id": "5ed5784e",
   "metadata": {
    "ExecuteTime": {
     "end_time": "2022-09-13T14:00:12.277912Z",
     "start_time": "2022-09-13T14:00:12.271942Z"
    }
   },
   "outputs": [],
   "source": [
    "import numpy as np"
   ]
  },
  {
   "cell_type": "markdown",
   "id": "9ece22f5",
   "metadata": {},
   "source": [
    "## Array"
   ]
  },
  {
   "cell_type": "markdown",
   "id": "54b55bec",
   "metadata": {},
   "source": [
    "### Array 생성"
   ]
  },
  {
   "cell_type": "code",
   "execution_count": 5,
   "id": "69501aca",
   "metadata": {
    "ExecuteTime": {
     "end_time": "2022-09-13T14:01:24.287237Z",
     "start_time": "2022-09-13T14:01:24.275932Z"
    }
   },
   "outputs": [
    {
     "name": "stdout",
     "output_type": "stream",
     "text": [
      "[1 2 3]\n",
      "<class 'numpy.ndarray'>\n"
     ]
    }
   ],
   "source": [
    "a = np.array([1,2,3])\n",
    "print(a) #array의 값 출력\n",
    "print(type(a)) #array의 유형 체크"
   ]
  },
  {
   "cell_type": "code",
   "execution_count": 8,
   "id": "6cd970c0",
   "metadata": {
    "ExecuteTime": {
     "end_time": "2022-09-13T14:03:36.130942Z",
     "start_time": "2022-09-13T14:03:36.123068Z"
    }
   },
   "outputs": [
    {
     "name": "stdout",
     "output_type": "stream",
     "text": [
      "(3,)\n",
      "1 2 3\n",
      "[1 2 7]\n"
     ]
    }
   ],
   "source": [
    "print(a.shape) # array의 차원 확인\n",
    "print(a[0],a[1],a[2]) #인덱스를 이용한 array내 값 접근\n",
    "a[2]=7 # 인덱스를 이용한 array 값 변경 가능\n",
    "print(a)"
   ]
  },
  {
   "cell_type": "markdown",
   "id": "ad5f3835",
   "metadata": {},
   "source": [
    "### 다차원 Array 생성"
   ]
  },
  {
   "cell_type": "code",
   "execution_count": 11,
   "id": "d342513c",
   "metadata": {
    "ExecuteTime": {
     "end_time": "2022-09-13T14:05:25.920650Z",
     "start_time": "2022-09-13T14:05:25.912203Z"
    }
   },
   "outputs": [
    {
     "data": {
      "text/plain": [
       "[[1, 2, 3], [4, 5, 6]]"
      ]
     },
     "execution_count": 11,
     "metadata": {},
     "output_type": "execute_result"
    }
   ],
   "source": [
    "[[1,2,3],[4,5,6]]"
   ]
  },
  {
   "cell_type": "code",
   "execution_count": 12,
   "id": "4302e954",
   "metadata": {
    "ExecuteTime": {
     "end_time": "2022-09-13T14:05:34.033429Z",
     "start_time": "2022-09-13T14:05:34.026289Z"
    }
   },
   "outputs": [
    {
     "name": "stdout",
     "output_type": "stream",
     "text": [
      "[[1 2 3]\n",
      " [4 5 6]]\n"
     ]
    }
   ],
   "source": [
    "b = np.array([[1,2,3],[4,5,6]]) #다차원 리스트로 다차원 array 생성 가능\n",
    "print(b)"
   ]
  },
  {
   "cell_type": "code",
   "execution_count": 15,
   "id": "b4129c26",
   "metadata": {
    "ExecuteTime": {
     "end_time": "2022-09-13T14:06:17.251335Z",
     "start_time": "2022-09-13T14:06:17.241460Z"
    }
   },
   "outputs": [
    {
     "name": "stdout",
     "output_type": "stream",
     "text": [
      "(2, 3)\n",
      "1\n",
      "1\n",
      "5\n",
      "5\n"
     ]
    }
   ],
   "source": [
    "print(b.shape) #다차원 array의 모양 확인\n",
    "print(b[0][0])\n",
    "print(b[0,0]) # numpy에서 추가로 허용하는 문법\n",
    "print(b[1][1])\n",
    "print(b[1,1])"
   ]
  },
  {
   "cell_type": "markdown",
   "id": "5938e942",
   "metadata": {},
   "source": [
    "### numpy 메소드를 이용한 생성"
   ]
  },
  {
   "cell_type": "code",
   "execution_count": 17,
   "id": "172ecc96",
   "metadata": {
    "ExecuteTime": {
     "end_time": "2022-09-13T14:07:09.935862Z",
     "start_time": "2022-09-13T14:07:09.928783Z"
    }
   },
   "outputs": [
    {
     "name": "stdout",
     "output_type": "stream",
     "text": [
      "[[0. 0.]\n",
      " [0. 0.]]\n"
     ]
    }
   ],
   "source": [
    "a = np.zeros((2,2)) #0으로 채워넣기\n",
    "print(a)"
   ]
  },
  {
   "cell_type": "code",
   "execution_count": 18,
   "id": "ccfa3195",
   "metadata": {
    "ExecuteTime": {
     "end_time": "2022-09-13T14:07:20.128536Z",
     "start_time": "2022-09-13T14:07:20.121121Z"
    }
   },
   "outputs": [
    {
     "name": "stdout",
     "output_type": "stream",
     "text": [
      "[[1. 1. 1.]\n",
      " [1. 1. 1.]]\n"
     ]
    }
   ],
   "source": [
    "b = np.ones((2,3)) #1로 채워넣기\n",
    "print(b)"
   ]
  },
  {
   "cell_type": "code",
   "execution_count": 19,
   "id": "914c9662",
   "metadata": {
    "ExecuteTime": {
     "end_time": "2022-09-13T14:07:34.208583Z",
     "start_time": "2022-09-13T14:07:34.201452Z"
    }
   },
   "outputs": [
    {
     "name": "stdout",
     "output_type": "stream",
     "text": [
      "[[7 7 7]\n",
      " [7 7 7]\n",
      " [7 7 7]]\n"
     ]
    }
   ],
   "source": [
    "c = np.full((3,3),7) # 같은 값으로 채워넣기, api 확인!\n",
    "print(c)"
   ]
  },
  {
   "cell_type": "code",
   "execution_count": 21,
   "id": "741235ce",
   "metadata": {
    "ExecuteTime": {
     "end_time": "2022-09-13T14:07:54.893963Z",
     "start_time": "2022-09-13T14:07:54.888778Z"
    }
   },
   "outputs": [
    {
     "name": "stdout",
     "output_type": "stream",
     "text": [
      "[[0.04415978 0.38611699]\n",
      " [0.52051103 0.75647403]]\n"
     ]
    }
   ],
   "source": [
    "e = np.random.random((2,2)) #난수 생성\n",
    "print(e)"
   ]
  },
  {
   "cell_type": "code",
   "execution_count": 22,
   "id": "10a04551",
   "metadata": {
    "ExecuteTime": {
     "end_time": "2022-09-13T14:30:52.329021Z",
     "start_time": "2022-09-13T14:30:52.321348Z"
    }
   },
   "outputs": [
    {
     "data": {
      "text/plain": [
       "array([0, 1, 2, 3])"
      ]
     },
     "execution_count": 22,
     "metadata": {},
     "output_type": "execute_result"
    }
   ],
   "source": [
    "np.arange(4)"
   ]
  },
  {
   "cell_type": "code",
   "execution_count": 23,
   "id": "447f5976",
   "metadata": {
    "ExecuteTime": {
     "end_time": "2022-09-13T14:31:00.266089Z",
     "start_time": "2022-09-13T14:31:00.258233Z"
    }
   },
   "outputs": [
    {
     "data": {
      "text/plain": [
       "array([1, 3, 5])"
      ]
     },
     "execution_count": 23,
     "metadata": {},
     "output_type": "execute_result"
    }
   ],
   "source": [
    "np.arange(1,7,2)"
   ]
  },
  {
   "cell_type": "code",
   "execution_count": 25,
   "id": "9ef80579",
   "metadata": {
    "ExecuteTime": {
     "end_time": "2022-09-13T14:31:28.187027Z",
     "start_time": "2022-09-13T14:31:28.178199Z"
    }
   },
   "outputs": [
    {
     "data": {
      "text/plain": [
       "array([0.        , 0.55555556, 1.11111111, 1.66666667, 2.22222222,\n",
       "       2.77777778, 3.33333333, 3.88888889, 4.44444444, 5.        ])"
      ]
     },
     "execution_count": 25,
     "metadata": {},
     "output_type": "execute_result"
    }
   ],
   "source": [
    "np.linspace(0,5,10)"
   ]
  },
  {
   "cell_type": "markdown",
   "id": "30125c69",
   "metadata": {},
   "source": [
    "### numpy 객체의 차원과 갯수 확인"
   ]
  },
  {
   "cell_type": "code",
   "execution_count": 27,
   "id": "be257f00",
   "metadata": {
    "ExecuteTime": {
     "end_time": "2022-09-13T14:38:41.205933Z",
     "start_time": "2022-09-13T14:38:41.198710Z"
    }
   },
   "outputs": [
    {
     "data": {
      "text/plain": [
       "(2, 2)"
      ]
     },
     "execution_count": 27,
     "metadata": {},
     "output_type": "execute_result"
    }
   ],
   "source": [
    "a.shape"
   ]
  },
  {
   "cell_type": "code",
   "execution_count": 30,
   "id": "23ecc6da",
   "metadata": {
    "ExecuteTime": {
     "end_time": "2022-09-13T14:38:52.309795Z",
     "start_time": "2022-09-13T14:38:52.302816Z"
    }
   },
   "outputs": [
    {
     "data": {
      "text/plain": [
       "4"
      ]
     },
     "execution_count": 30,
     "metadata": {},
     "output_type": "execute_result"
    }
   ],
   "source": [
    "a.size"
   ]
  },
  {
   "cell_type": "markdown",
   "id": "7aa8c8ef",
   "metadata": {},
   "source": [
    "### Reshaping (차원 바꾸기)"
   ]
  },
  {
   "cell_type": "code",
   "execution_count": 32,
   "id": "a78547e9",
   "metadata": {
    "ExecuteTime": {
     "end_time": "2022-09-13T15:06:49.135758Z",
     "start_time": "2022-09-13T15:06:49.128217Z"
    }
   },
   "outputs": [
    {
     "name": "stdout",
     "output_type": "stream",
     "text": [
      "[ 0  1  2  3  4  5  6  7  8  9 10 11]\n",
      "(12,)\n"
     ]
    }
   ],
   "source": [
    "x = np.arange(12)\n",
    "print(x)\n",
    "print(x.shape)"
   ]
  },
  {
   "cell_type": "code",
   "execution_count": 33,
   "id": "9d528689",
   "metadata": {
    "ExecuteTime": {
     "end_time": "2022-09-13T15:07:09.148505Z",
     "start_time": "2022-09-13T15:07:09.140735Z"
    }
   },
   "outputs": [
    {
     "name": "stdout",
     "output_type": "stream",
     "text": [
      "[[ 0  1  2  3  4  5]\n",
      " [ 6  7  8  9 10 11]]\n",
      "(2, 6)\n"
     ]
    }
   ],
   "source": [
    "y = x.reshape(2,6)\n",
    "print(y)\n",
    "print(y.shape)"
   ]
  },
  {
   "cell_type": "code",
   "execution_count": 35,
   "id": "ce3344bb",
   "metadata": {
    "ExecuteTime": {
     "end_time": "2022-09-13T15:07:49.944083Z",
     "start_time": "2022-09-13T15:07:49.936237Z"
    }
   },
   "outputs": [
    {
     "name": "stdout",
     "output_type": "stream",
     "text": [
      "[[ 0  1  2  3]\n",
      " [ 4  5  6  7]\n",
      " [ 8  9 10 11]]\n",
      "(3, 4)\n"
     ]
    }
   ],
   "source": [
    "print(x.reshape(3,4))\n",
    "print(x.reshape(3,4).shape)"
   ]
  },
  {
   "cell_type": "code",
   "execution_count": 38,
   "id": "b9fe76df",
   "metadata": {
    "ExecuteTime": {
     "end_time": "2022-09-13T15:08:35.398809Z",
     "start_time": "2022-09-13T15:08:35.390093Z"
    }
   },
   "outputs": [
    {
     "data": {
      "text/plain": [
       "array([[1., 1., 1., 1.],\n",
       "       [1., 1., 1., 1.]])"
      ]
     },
     "execution_count": 38,
     "metadata": {},
     "output_type": "execute_result"
    }
   ],
   "source": [
    "x = np.ones((2,4)) \n",
    "x"
   ]
  },
  {
   "cell_type": "code",
   "execution_count": 39,
   "id": "4a3414d5",
   "metadata": {
    "ExecuteTime": {
     "end_time": "2022-09-13T15:08:50.058246Z",
     "start_time": "2022-09-13T15:08:50.049675Z"
    }
   },
   "outputs": [
    {
     "data": {
      "text/plain": [
       "array([[1., 1.],\n",
       "       [1., 1.],\n",
       "       [1., 1.],\n",
       "       [1., 1.]])"
      ]
     },
     "execution_count": 39,
     "metadata": {},
     "output_type": "execute_result"
    }
   ],
   "source": [
    "x.reshape(4,2) ## 다차원 array의 reshaping도 가능합니다."
   ]
  }
 ],
 "metadata": {
  "kernelspec": {
   "display_name": "Python 3 (ipykernel)",
   "language": "python",
   "name": "python3"
  },
  "language_info": {
   "codemirror_mode": {
    "name": "ipython",
    "version": 3
   },
   "file_extension": ".py",
   "mimetype": "text/x-python",
   "name": "python",
   "nbconvert_exporter": "python",
   "pygments_lexer": "ipython3",
   "version": "3.8.10"
  },
  "toc": {
   "base_numbering": 1,
   "nav_menu": {},
   "number_sections": false,
   "sideBar": true,
   "skip_h1_title": false,
   "title_cell": "Table of Contents",
   "title_sidebar": "Contents",
   "toc_cell": false,
   "toc_position": {},
   "toc_section_display": true,
   "toc_window_display": false
  }
 },
 "nbformat": 4,
 "nbformat_minor": 5
}
