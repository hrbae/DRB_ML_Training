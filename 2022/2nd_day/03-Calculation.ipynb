{
 "cells": [
  {
   "cell_type": "code",
   "execution_count": 1,
   "id": "11bfe0f2",
   "metadata": {
    "ExecuteTime": {
     "end_time": "2022-09-13T14:41:51.641617Z",
     "start_time": "2022-09-13T14:41:51.635602Z"
    }
   },
   "outputs": [],
   "source": [
    "import numpy as np"
   ]
  },
  {
   "cell_type": "markdown",
   "id": "f0ed3619",
   "metadata": {},
   "source": [
    "### numpy 연산"
   ]
  },
  {
   "cell_type": "code",
   "execution_count": 7,
   "id": "0ceacee4",
   "metadata": {
    "ExecuteTime": {
     "end_time": "2022-09-13T14:45:35.107541Z",
     "start_time": "2022-09-13T14:45:35.099365Z"
    }
   },
   "outputs": [
    {
     "name": "stdout",
     "output_type": "stream",
     "text": [
      "[1 2 3 4]\n",
      "[5 6 7 8]\n"
     ]
    }
   ],
   "source": [
    "x = np.array([1,2,3,4])\n",
    "y = np.array([5,6,7,8])\n",
    "print(x)\n",
    "print(y)"
   ]
  },
  {
   "cell_type": "code",
   "execution_count": 8,
   "id": "ae6ce72e",
   "metadata": {
    "ExecuteTime": {
     "end_time": "2022-09-13T14:45:40.795136Z",
     "start_time": "2022-09-13T14:45:40.785435Z"
    }
   },
   "outputs": [
    {
     "name": "stdout",
     "output_type": "stream",
     "text": [
      "[ 6  8 10 12]\n",
      "[-4 -4 -4 -4]\n",
      "[ 5 12 21 32]\n",
      "[0.2        0.33333333 0.42857143 0.5       ]\n"
     ]
    }
   ],
   "source": [
    "print(x+y)\n",
    "print(x-y)\n",
    "print(x*y)\n",
    "print(x/y)"
   ]
  },
  {
   "cell_type": "code",
   "execution_count": 9,
   "id": "be920090",
   "metadata": {
    "ExecuteTime": {
     "end_time": "2022-09-13T14:45:44.551458Z",
     "start_time": "2022-09-13T14:45:44.543664Z"
    }
   },
   "outputs": [
    {
     "name": "stdout",
     "output_type": "stream",
     "text": [
      "[0 0 0 0]\n",
      "[    1    64  2187 65536]\n",
      "[1 2 3 4]\n"
     ]
    }
   ],
   "source": [
    "print(x//y)\n",
    "print(x**y)\n",
    "print(x%y)"
   ]
  },
  {
   "cell_type": "markdown",
   "id": "b35b8119",
   "metadata": {},
   "source": [
    "### 취합연산"
   ]
  },
  {
   "cell_type": "code",
   "execution_count": 10,
   "id": "d0cc49e8",
   "metadata": {
    "ExecuteTime": {
     "end_time": "2022-09-13T14:47:40.047704Z",
     "start_time": "2022-09-13T14:47:40.041782Z"
    }
   },
   "outputs": [
    {
     "name": "stdout",
     "output_type": "stream",
     "text": [
      "10\n",
      "24\n",
      "2.5\n",
      "1.118033988749895\n",
      "1\n",
      "4\n",
      "2.5\n"
     ]
    }
   ],
   "source": [
    "print(np.sum(x))\n",
    "print(np.prod(x))\n",
    "print(np.mean(x))\n",
    "print(np.std(x))\n",
    "print(np.min(x))\n",
    "print(np.max(x))\n",
    "print(np.median(x))"
   ]
  },
  {
   "cell_type": "markdown",
   "id": "34711f2c",
   "metadata": {},
   "source": [
    "### 다차원 array 연산"
   ]
  },
  {
   "cell_type": "code",
   "execution_count": 11,
   "id": "b8dcf0ca",
   "metadata": {
    "ExecuteTime": {
     "end_time": "2022-09-13T14:48:07.644880Z",
     "start_time": "2022-09-13T14:48:07.634850Z"
    }
   },
   "outputs": [
    {
     "name": "stdout",
     "output_type": "stream",
     "text": [
      "[[1 2]\n",
      " [3 4]]\n",
      "[[5 6]\n",
      " [7 8]]\n"
     ]
    }
   ],
   "source": [
    "x = np.array([[1,2],[3,4]])\n",
    "y = np.array([[5,6],[7,8]])\n",
    "print(x)\n",
    "print(y)"
   ]
  },
  {
   "cell_type": "code",
   "execution_count": 12,
   "id": "4fb17bbf",
   "metadata": {
    "ExecuteTime": {
     "end_time": "2022-09-13T14:48:08.683722Z",
     "start_time": "2022-09-13T14:48:08.673620Z"
    }
   },
   "outputs": [
    {
     "name": "stdout",
     "output_type": "stream",
     "text": [
      "[[ 6  8]\n",
      " [10 12]]\n",
      "[[-4 -4]\n",
      " [-4 -4]]\n",
      "[[ 5 12]\n",
      " [21 32]]\n",
      "[[0.2        0.33333333]\n",
      " [0.42857143 0.5       ]]\n"
     ]
    }
   ],
   "source": [
    "print(x+y) ## 다차원 연산시 element별 연산 수행\n",
    "print(x-y)\n",
    "print(x*y)\n",
    "print(x/y)"
   ]
  },
  {
   "cell_type": "code",
   "execution_count": 13,
   "id": "b524b90a",
   "metadata": {
    "ExecuteTime": {
     "end_time": "2022-09-13T14:48:09.731976Z",
     "start_time": "2022-09-13T14:48:09.723329Z"
    }
   },
   "outputs": [
    {
     "name": "stdout",
     "output_type": "stream",
     "text": [
      "[[0 0]\n",
      " [0 0]]\n",
      "[[    1    64]\n",
      " [ 2187 65536]]\n",
      "[[1 2]\n",
      " [3 4]]\n"
     ]
    }
   ],
   "source": [
    "print(x//y)\n",
    "print(x**y)\n",
    "print(x%y)"
   ]
  },
  {
   "cell_type": "code",
   "execution_count": 14,
   "id": "aceb740c",
   "metadata": {
    "ExecuteTime": {
     "end_time": "2022-09-13T14:48:13.888253Z",
     "start_time": "2022-09-13T14:48:13.874123Z"
    }
   },
   "outputs": [
    {
     "data": {
      "text/plain": [
       "array([[19, 22],\n",
       "       [43, 50]])"
      ]
     },
     "execution_count": 14,
     "metadata": {},
     "output_type": "execute_result"
    }
   ],
   "source": [
    "x.dot(y) ## 행렬연산"
   ]
  },
  {
   "cell_type": "code",
   "execution_count": 15,
   "id": "aac09cd5",
   "metadata": {
    "ExecuteTime": {
     "end_time": "2022-09-13T14:48:23.322443Z",
     "start_time": "2022-09-13T14:48:23.313661Z"
    }
   },
   "outputs": [
    {
     "data": {
      "text/plain": [
       "array([[19, 22],\n",
       "       [43, 50]])"
      ]
     },
     "execution_count": 15,
     "metadata": {},
     "output_type": "execute_result"
    }
   ],
   "source": [
    "np.dot(x,y)"
   ]
  },
  {
   "cell_type": "markdown",
   "id": "6d842b90",
   "metadata": {},
   "source": [
    "### 다차원 array 취합연산"
   ]
  },
  {
   "cell_type": "code",
   "execution_count": 20,
   "id": "4bdf4521",
   "metadata": {
    "ExecuteTime": {
     "end_time": "2022-09-13T14:50:27.146790Z",
     "start_time": "2022-09-13T14:50:27.140128Z"
    }
   },
   "outputs": [
    {
     "name": "stdout",
     "output_type": "stream",
     "text": [
      "[[1 2]\n",
      " [3 4]]\n",
      "[[5 6]\n",
      " [7 8]]\n"
     ]
    }
   ],
   "source": [
    "print(x)\n",
    "print(y)"
   ]
  },
  {
   "cell_type": "code",
   "execution_count": 16,
   "id": "91f6c51f",
   "metadata": {
    "ExecuteTime": {
     "end_time": "2022-09-13T14:49:19.292849Z",
     "start_time": "2022-09-13T14:49:19.280198Z"
    }
   },
   "outputs": [
    {
     "name": "stdout",
     "output_type": "stream",
     "text": [
      "10\n",
      "24\n",
      "2.5\n",
      "1.118033988749895\n",
      "1\n",
      "4\n",
      "2.5\n"
     ]
    }
   ],
   "source": [
    "print(np.sum(x))\n",
    "print(np.prod(x))\n",
    "print(np.mean(x))\n",
    "print(np.std(x))\n",
    "print(np.min(x))\n",
    "print(np.max(x))\n",
    "print(np.median(x))"
   ]
  },
  {
   "cell_type": "code",
   "execution_count": 19,
   "id": "fe514152",
   "metadata": {
    "ExecuteTime": {
     "end_time": "2022-09-13T14:50:05.164978Z",
     "start_time": "2022-09-13T14:50:05.149307Z"
    }
   },
   "outputs": [
    {
     "name": "stdout",
     "output_type": "stream",
     "text": [
      "[4 6]\n",
      "[3 8]\n",
      "[2. 3.]\n",
      "[1. 1.]\n",
      "[1 2]\n",
      "[3 4]\n",
      "[2. 3.]\n"
     ]
    }
   ],
   "source": [
    "print(np.sum(x,axis=0)) #행 방향으로 연산 수행\n",
    "print(np.prod(x,axis=0))\n",
    "print(np.mean(x,axis=0))\n",
    "print(np.std(x,axis=0))\n",
    "print(np.min(x,axis=0))\n",
    "print(np.max(x,axis=0))\n",
    "print(np.median(x,axis=0))"
   ]
  },
  {
   "cell_type": "code",
   "execution_count": 21,
   "id": "9526456c",
   "metadata": {
    "ExecuteTime": {
     "end_time": "2022-09-13T14:51:12.104880Z",
     "start_time": "2022-09-13T14:51:12.087754Z"
    }
   },
   "outputs": [
    {
     "name": "stdout",
     "output_type": "stream",
     "text": [
      "[3 7]\n",
      "[ 2 12]\n",
      "[1.5 3.5]\n",
      "[0.5 0.5]\n",
      "[1 3]\n",
      "[2 4]\n",
      "[1.5 3.5]\n"
     ]
    }
   ],
   "source": [
    "print(np.sum(x,axis=1)) #열 방향으로 연산 수행\n",
    "print(np.prod(x,axis=1))\n",
    "print(np.mean(x,axis=1))\n",
    "print(np.std(x,axis=1))\n",
    "print(np.min(x,axis=1))\n",
    "print(np.max(x,axis=1))\n",
    "print(np.median(x,axis=1))"
   ]
  },
  {
   "cell_type": "markdown",
   "id": "81b91367",
   "metadata": {},
   "source": [
    "### Broadcasting"
   ]
  },
  {
   "cell_type": "code",
   "execution_count": 24,
   "id": "e3df98b3",
   "metadata": {
    "ExecuteTime": {
     "end_time": "2022-09-13T14:59:59.095293Z",
     "start_time": "2022-09-13T14:59:59.086471Z"
    }
   },
   "outputs": [
    {
     "name": "stdout",
     "output_type": "stream",
     "text": [
      "[4 5 6 7]\n",
      "[ 3  6  9 12]\n"
     ]
    }
   ],
   "source": [
    "a = np.array([1,2,3,4])\n",
    "print(a + 3)\n",
    "print(a * 3)"
   ]
  },
  {
   "cell_type": "code",
   "execution_count": 25,
   "id": "f3a7a58a",
   "metadata": {
    "ExecuteTime": {
     "end_time": "2022-09-13T15:01:07.330292Z",
     "start_time": "2022-09-13T15:01:07.321131Z"
    }
   },
   "outputs": [
    {
     "name": "stdout",
     "output_type": "stream",
     "text": [
      "[[4 5 6]\n",
      " [7 8 9]]\n",
      "[[ 3  6  9]\n",
      " [12 15 18]]\n"
     ]
    }
   ],
   "source": [
    "b = np.array([[1,2,3],[4,5,6]])\n",
    "print(b+3) \n",
    "print(b*3) "
   ]
  },
  {
   "cell_type": "code",
   "execution_count": 27,
   "id": "b3637268",
   "metadata": {
    "ExecuteTime": {
     "end_time": "2022-09-13T15:02:02.889031Z",
     "start_time": "2022-09-13T15:02:02.879513Z"
    }
   },
   "outputs": [
    {
     "name": "stdout",
     "output_type": "stream",
     "text": [
      "[[1 2 3]\n",
      " [4 5 6]]\n",
      "[[ 8 10 12]\n",
      " [11 13 15]]\n",
      "[[ 7 16 27]\n",
      " [28 40 54]]\n"
     ]
    }
   ],
   "source": [
    "c = np.array([7,8,9])\n",
    "print(b)\n",
    "print(b+c)\n",
    "print(b*c)"
   ]
  },
  {
   "cell_type": "code",
   "execution_count": 29,
   "id": "ffd28fa0",
   "metadata": {
    "ExecuteTime": {
     "end_time": "2022-09-13T15:04:51.142095Z",
     "start_time": "2022-09-13T15:04:51.133315Z"
    }
   },
   "outputs": [
    {
     "data": {
      "text/plain": [
       "array([[7],\n",
       "       [8]])"
      ]
     },
     "execution_count": 29,
     "metadata": {},
     "output_type": "execute_result"
    }
   ],
   "source": [
    "d = np.array([7,8]).reshape(2,1)\n",
    "d"
   ]
  },
  {
   "cell_type": "code",
   "execution_count": 30,
   "id": "ec6cd9ab",
   "metadata": {
    "ExecuteTime": {
     "end_time": "2022-09-13T15:05:02.378657Z",
     "start_time": "2022-09-13T15:05:02.372089Z"
    }
   },
   "outputs": [
    {
     "name": "stdout",
     "output_type": "stream",
     "text": [
      "[[ 8  9 10]\n",
      " [12 13 14]]\n"
     ]
    }
   ],
   "source": [
    "print(b+d)"
   ]
  }
 ],
 "metadata": {
  "kernelspec": {
   "display_name": "Python 3 (ipykernel)",
   "language": "python",
   "name": "python3"
  },
  "language_info": {
   "codemirror_mode": {
    "name": "ipython",
    "version": 3
   },
   "file_extension": ".py",
   "mimetype": "text/x-python",
   "name": "python",
   "nbconvert_exporter": "python",
   "pygments_lexer": "ipython3",
   "version": "3.8.10"
  },
  "toc": {
   "base_numbering": 1,
   "nav_menu": {},
   "number_sections": false,
   "sideBar": true,
   "skip_h1_title": false,
   "title_cell": "Table of Contents",
   "title_sidebar": "Contents",
   "toc_cell": false,
   "toc_position": {},
   "toc_section_display": true,
   "toc_window_display": false
  }
 },
 "nbformat": 4,
 "nbformat_minor": 5
}
