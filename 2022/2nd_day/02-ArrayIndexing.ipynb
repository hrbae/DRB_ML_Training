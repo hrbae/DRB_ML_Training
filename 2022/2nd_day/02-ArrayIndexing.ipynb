{
 "cells": [
  {
   "cell_type": "code",
   "execution_count": 2,
   "id": "d06ec650",
   "metadata": {
    "ExecuteTime": {
     "end_time": "2022-09-13T14:13:31.412895Z",
     "start_time": "2022-09-13T14:13:31.406735Z"
    }
   },
   "outputs": [],
   "source": [
    "import numpy as np"
   ]
  },
  {
   "cell_type": "markdown",
   "id": "81a69dad",
   "metadata": {},
   "source": [
    "## Array Indexing(배열 인덱싱)"
   ]
  },
  {
   "cell_type": "code",
   "execution_count": 6,
   "id": "0aad4af2",
   "metadata": {
    "ExecuteTime": {
     "end_time": "2022-09-13T14:14:59.808997Z",
     "start_time": "2022-09-13T14:14:59.800409Z"
    }
   },
   "outputs": [
    {
     "name": "stdout",
     "output_type": "stream",
     "text": [
      "[1 2]\n",
      "[2 3]\n"
     ]
    }
   ],
   "source": [
    "a = np.array([1,2,3,4])\n",
    "print(a[:2])\n",
    "print(a[1:3])"
   ]
  },
  {
   "cell_type": "code",
   "execution_count": 5,
   "id": "e7e09b48",
   "metadata": {
    "ExecuteTime": {
     "end_time": "2022-09-13T14:14:30.041153Z",
     "start_time": "2022-09-13T14:14:30.032669Z"
    }
   },
   "outputs": [
    {
     "name": "stdout",
     "output_type": "stream",
     "text": [
      "[[ 1  2  3  4]\n",
      " [ 5  6  7  8]\n",
      " [ 9 10 11 12]]\n"
     ]
    }
   ],
   "source": [
    "b = np.array([[1,2,3,4],[5,6,7,8],[9,10,11,12]])\n",
    "print(b)"
   ]
  },
  {
   "cell_type": "markdown",
   "id": "395b240f",
   "metadata": {},
   "source": [
    "### 다차원 array의 인덱싱"
   ]
  },
  {
   "cell_type": "code",
   "execution_count": 7,
   "id": "c0ba7c30",
   "metadata": {
    "ExecuteTime": {
     "end_time": "2022-09-13T14:15:09.959783Z",
     "start_time": "2022-09-13T14:15:09.952822Z"
    }
   },
   "outputs": [
    {
     "name": "stdout",
     "output_type": "stream",
     "text": [
      "[[2 3]\n",
      " [6 7]]\n"
     ]
    }
   ],
   "source": [
    "c = b[:2,1:3] # 행: 0,1, 열: 1,2\n",
    "print(c) "
   ]
  },
  {
   "cell_type": "markdown",
   "id": "7305170b",
   "metadata": {},
   "source": [
    "### Array의 원본 참조"
   ]
  },
  {
   "cell_type": "code",
   "execution_count": 11,
   "id": "61a1c7c8",
   "metadata": {
    "ExecuteTime": {
     "end_time": "2022-09-13T14:16:36.321650Z",
     "start_time": "2022-09-13T14:16:36.314915Z"
    }
   },
   "outputs": [
    {
     "name": "stdout",
     "output_type": "stream",
     "text": [
      "[[ 1  2  3  4]\n",
      " [ 5  6  7  8]\n",
      " [ 9 10 11 12]] 2\n"
     ]
    }
   ],
   "source": [
    "print(b, b[0,1])"
   ]
  },
  {
   "cell_type": "code",
   "execution_count": 13,
   "id": "0bad42da",
   "metadata": {
    "ExecuteTime": {
     "end_time": "2022-09-13T14:16:59.530157Z",
     "start_time": "2022-09-13T14:16:59.522292Z"
    },
    "scrolled": true
   },
   "outputs": [
    {
     "name": "stdout",
     "output_type": "stream",
     "text": [
      "[[77  3]\n",
      " [ 6  7]]\n",
      "[[ 1 77  3  4]\n",
      " [ 5  6  7  8]\n",
      " [ 9 10 11 12]]\n"
     ]
    }
   ],
   "source": [
    "c[0,0]=77\n",
    "print(c)\n",
    "print(b) # c가 b를 참조하고 있으므로, c의 값도 바뀐것을 확인할 수 있다."
   ]
  },
  {
   "cell_type": "markdown",
   "id": "008e9e6f",
   "metadata": {},
   "source": [
    "### 행열 추려내기"
   ]
  },
  {
   "cell_type": "code",
   "execution_count": 14,
   "id": "19559610",
   "metadata": {
    "ExecuteTime": {
     "end_time": "2022-09-13T14:18:28.418764Z",
     "start_time": "2022-09-13T14:18:28.410108Z"
    }
   },
   "outputs": [
    {
     "name": "stdout",
     "output_type": "stream",
     "text": [
      "[[ 1  2  3  4]\n",
      " [ 5  6  7  8]\n",
      " [ 9 10 11 12]]\n"
     ]
    }
   ],
   "source": [
    "b = np.array([[1,2,3,4],[5,6,7,8],[9,10,11,12]])\n",
    "print(b)"
   ]
  },
  {
   "cell_type": "code",
   "execution_count": 28,
   "id": "14fcaba0",
   "metadata": {
    "ExecuteTime": {
     "end_time": "2022-09-13T14:23:55.051872Z",
     "start_time": "2022-09-13T14:23:55.041063Z"
    }
   },
   "outputs": [
    {
     "name": "stdout",
     "output_type": "stream",
     "text": [
      "[1 2 3 4]\n",
      "[5 6 7 8]\n",
      "[ 9 10 11 12]\n",
      "(4,)\n"
     ]
    }
   ],
   "source": [
    "row1=b[0,:] #1행\n",
    "row2=b[1,:] #2행\n",
    "row3=b[2,:] #3행\n",
    "print(row1)\n",
    "print(row2)\n",
    "print(row3)\n",
    "print(row1.shape)"
   ]
  },
  {
   "cell_type": "code",
   "execution_count": 29,
   "id": "5e95676c",
   "metadata": {
    "ExecuteTime": {
     "end_time": "2022-09-13T14:23:59.807707Z",
     "start_time": "2022-09-13T14:23:59.797599Z"
    }
   },
   "outputs": [
    {
     "name": "stdout",
     "output_type": "stream",
     "text": [
      "[1 5 9] [ 2  6 10] [ 3  7 11]\n",
      "(3,)\n"
     ]
    }
   ],
   "source": [
    "col1=b[:,0] #1열\n",
    "col2=b[:,1] #2열\n",
    "col3=b[:,2] #3열\n",
    "print(col1, col2, col3)\n",
    "print(col1.shape)"
   ]
  },
  {
   "cell_type": "code",
   "execution_count": 31,
   "id": "7ccd3c02",
   "metadata": {
    "ExecuteTime": {
     "end_time": "2022-09-13T14:25:02.036832Z",
     "start_time": "2022-09-13T14:25:02.029254Z"
    }
   },
   "outputs": [
    {
     "name": "stdout",
     "output_type": "stream",
     "text": [
      "[[1 2 3 4]]\n",
      "(1, 4)\n"
     ]
    }
   ],
   "source": [
    "row1=b[0:1,:]\n",
    "print(row1) #다차원 array로 생성됨\n",
    "print(row1.shape) #2차원으로 생성됨에 유의"
   ]
  },
  {
   "cell_type": "code",
   "execution_count": 32,
   "id": "75001871",
   "metadata": {
    "ExecuteTime": {
     "end_time": "2022-09-13T14:25:44.395062Z",
     "start_time": "2022-09-13T14:25:44.387697Z"
    }
   },
   "outputs": [
    {
     "name": "stdout",
     "output_type": "stream",
     "text": [
      "[[ 2]\n",
      " [ 6]\n",
      " [10]]\n",
      "(3, 1)\n"
     ]
    }
   ],
   "source": [
    "col2 = b[:,[1]]\n",
    "print(col2) # 다차원 array로 생성됨\n",
    "print(col2.shape) #2차원으로 생성됨에 유의"
   ]
  },
  {
   "cell_type": "markdown",
   "id": "d351e05d",
   "metadata": {},
   "source": [
    "###  행열의 순서 바꾸기"
   ]
  },
  {
   "cell_type": "code",
   "execution_count": 40,
   "id": "04284569",
   "metadata": {
    "ExecuteTime": {
     "end_time": "2022-09-13T14:32:33.101076Z",
     "start_time": "2022-09-13T14:32:33.091817Z"
    }
   },
   "outputs": [
    {
     "data": {
      "text/plain": [
       "array([[1, 2],\n",
       "       [3, 4],\n",
       "       [5, 6]])"
      ]
     },
     "execution_count": 40,
     "metadata": {},
     "output_type": "execute_result"
    }
   ],
   "source": [
    "a = np.array([[1,2],[3,4],[5,6]])\n",
    "a"
   ]
  },
  {
   "cell_type": "code",
   "execution_count": 42,
   "id": "43b4a577",
   "metadata": {
    "ExecuteTime": {
     "end_time": "2022-09-13T14:33:09.883967Z",
     "start_time": "2022-09-13T14:33:09.875637Z"
    }
   },
   "outputs": [
    {
     "name": "stdout",
     "output_type": "stream",
     "text": [
      "[[1 2]\n",
      " [3 4]\n",
      " [5 6]]\n",
      "[[1 2]\n",
      " [5 6]\n",
      " [3 4]]\n"
     ]
    }
   ],
   "source": [
    "print(a[[0,1,2],:]) #a와 같은 결과\n",
    "print(a[[0,2,1],:]) #1행, 3행, 2행으로 바뀜"
   ]
  },
  {
   "cell_type": "code",
   "execution_count": 43,
   "id": "482ca598",
   "metadata": {
    "ExecuteTime": {
     "end_time": "2022-09-13T14:33:27.043293Z",
     "start_time": "2022-09-13T14:33:27.036380Z"
    }
   },
   "outputs": [
    {
     "name": "stdout",
     "output_type": "stream",
     "text": [
      "[[2 1]\n",
      " [4 3]\n",
      " [6 5]]\n"
     ]
    }
   ],
   "source": [
    "print(a[:,[1,0]]) # 2열, 1열 순으로 바뀜"
   ]
  },
  {
   "cell_type": "code",
   "execution_count": 44,
   "id": "95820c4c",
   "metadata": {
    "ExecuteTime": {
     "end_time": "2022-09-13T14:33:46.583651Z",
     "start_time": "2022-09-13T14:33:46.576587Z"
    }
   },
   "outputs": [
    {
     "name": "stdout",
     "output_type": "stream",
     "text": [
      "[[2 2]\n",
      " [4 4]\n",
      " [6 6]]\n"
     ]
    }
   ],
   "source": [
    "print(a[:,[1,1]]) # 같은 열로 덮어씌워짐"
   ]
  },
  {
   "cell_type": "code",
   "execution_count": 45,
   "id": "4acbe463",
   "metadata": {
    "ExecuteTime": {
     "end_time": "2022-09-13T14:33:48.454249Z",
     "start_time": "2022-09-13T14:33:48.444904Z"
    }
   },
   "outputs": [
    {
     "name": "stdout",
     "output_type": "stream",
     "text": [
      "[1 4 5]\n",
      "[1 4 5]\n"
     ]
    }
   ],
   "source": [
    "print(a[[0,1,2],[0,1,0]]) \n",
    "print(np.array([a[0,0],a[1,1],a[2,0]]))"
   ]
  },
  {
   "cell_type": "code",
   "execution_count": 37,
   "id": "8b472f3a",
   "metadata": {
    "ExecuteTime": {
     "end_time": "2022-09-13T14:29:18.447462Z",
     "start_time": "2022-09-13T14:29:18.439901Z"
    }
   },
   "outputs": [
    {
     "name": "stdout",
     "output_type": "stream",
     "text": [
      "[2 2]\n"
     ]
    }
   ],
   "source": [
    "print(a[[0,0],[1,1]]) "
   ]
  },
  {
   "cell_type": "code",
   "execution_count": 38,
   "id": "2366604b",
   "metadata": {
    "ExecuteTime": {
     "end_time": "2022-09-13T14:30:09.107567Z",
     "start_time": "2022-09-13T14:30:09.098926Z"
    }
   },
   "outputs": [
    {
     "name": "stdout",
     "output_type": "stream",
     "text": [
      "[[ 1  2  3]\n",
      " [ 4  5  6]\n",
      " [ 7  8  9]\n",
      " [10 11 12]]\n"
     ]
    }
   ],
   "source": [
    "a = np.array([[1,2,3], [4,5,6], [7,8,9], [10, 11, 12]])\n",
    "print(a)"
   ]
  },
  {
   "cell_type": "markdown",
   "id": "97e440da",
   "metadata": {},
   "source": [
    "### Boolean Indexing"
   ]
  },
  {
   "cell_type": "code",
   "execution_count": 47,
   "id": "4b1b8e36",
   "metadata": {
    "ExecuteTime": {
     "end_time": "2022-09-13T14:37:47.082626Z",
     "start_time": "2022-09-13T14:37:47.076647Z"
    }
   },
   "outputs": [],
   "source": [
    "a = np.array([[1,2], [3, 4], [5, 6]])"
   ]
  },
  {
   "cell_type": "code",
   "execution_count": 48,
   "id": "50b3587a",
   "metadata": {
    "ExecuteTime": {
     "end_time": "2022-09-13T14:37:47.809184Z",
     "start_time": "2022-09-13T14:37:47.802853Z"
    }
   },
   "outputs": [
    {
     "name": "stdout",
     "output_type": "stream",
     "text": [
      "[[False False]\n",
      " [ True  True]\n",
      " [ True  True]]\n"
     ]
    }
   ],
   "source": [
    "print(a>2)"
   ]
  },
  {
   "cell_type": "code",
   "execution_count": 49,
   "id": "8151918a",
   "metadata": {
    "ExecuteTime": {
     "end_time": "2022-09-13T14:37:51.902733Z",
     "start_time": "2022-09-13T14:37:51.894658Z"
    }
   },
   "outputs": [
    {
     "data": {
      "text/plain": [
       "array([3, 4, 5, 6])"
      ]
     },
     "execution_count": 49,
     "metadata": {},
     "output_type": "execute_result"
    }
   ],
   "source": [
    "a[a>2]"
   ]
  },
  {
   "cell_type": "code",
   "execution_count": 50,
   "id": "fb48979c",
   "metadata": {
    "ExecuteTime": {
     "end_time": "2022-09-13T14:39:51.975143Z",
     "start_time": "2022-09-13T14:39:51.967662Z"
    }
   },
   "outputs": [
    {
     "data": {
      "text/plain": [
       "4"
      ]
     },
     "execution_count": 50,
     "metadata": {},
     "output_type": "execute_result"
    }
   ],
   "source": [
    "a[a>2].size"
   ]
  },
  {
   "cell_type": "code",
   "execution_count": 55,
   "id": "c852ce90",
   "metadata": {
    "ExecuteTime": {
     "end_time": "2022-09-13T16:14:22.594524Z",
     "start_time": "2022-09-13T16:14:22.584152Z"
    }
   },
   "outputs": [
    {
     "data": {
      "text/plain": [
       "array([0.44080984, 0.45683322, 0.4151012 , 0.44045372])"
      ]
     },
     "execution_count": 55,
     "metadata": {},
     "output_type": "execute_result"
    }
   ],
   "source": [
    "np.random.seed(3)\n",
    "ra = np.random.random(25)\n",
    "ra[(ra>0.3) & (ra<0.5)] #조건이 여러개일때도 가능 (and대신 &, |를 사용함에 유의)"
   ]
  }
 ],
 "metadata": {
  "kernelspec": {
   "display_name": "Python 3 (ipykernel)",
   "language": "python",
   "name": "python3"
  },
  "language_info": {
   "codemirror_mode": {
    "name": "ipython",
    "version": 3
   },
   "file_extension": ".py",
   "mimetype": "text/x-python",
   "name": "python",
   "nbconvert_exporter": "python",
   "pygments_lexer": "ipython3",
   "version": "3.8.10"
  },
  "toc": {
   "base_numbering": 1,
   "nav_menu": {},
   "number_sections": false,
   "sideBar": true,
   "skip_h1_title": false,
   "title_cell": "Table of Contents",
   "title_sidebar": "Contents",
   "toc_cell": false,
   "toc_position": {},
   "toc_section_display": true,
   "toc_window_display": false
  }
 },
 "nbformat": 4,
 "nbformat_minor": 5
}
