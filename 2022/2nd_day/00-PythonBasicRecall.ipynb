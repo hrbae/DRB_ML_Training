{
 "cells": [
  {
   "cell_type": "markdown",
   "id": "de3e20d2",
   "metadata": {},
   "source": [
    "## Basic DataType"
   ]
  },
  {
   "cell_type": "markdown",
   "id": "298c689f",
   "metadata": {},
   "source": [
    "### 숫자(numbers)"
   ]
  },
  {
   "cell_type": "code",
   "execution_count": 1,
   "id": "4d91bdee",
   "metadata": {
    "ExecuteTime": {
     "end_time": "2022-09-13T13:40:34.871809Z",
     "start_time": "2022-09-13T13:40:34.861834Z"
    }
   },
   "outputs": [
    {
     "name": "stdout",
     "output_type": "stream",
     "text": [
      "3\n",
      "4\n",
      "2\n",
      "6\n",
      "9\n"
     ]
    }
   ],
   "source": [
    "x = 3\n",
    "print(x)\n",
    "print(x+1)\n",
    "print(x-1)\n",
    "print(x*2)\n",
    "print(x**2)"
   ]
  },
  {
   "cell_type": "markdown",
   "id": "3f0614d1",
   "metadata": {},
   "source": [
    "### boolean(불리언)"
   ]
  },
  {
   "cell_type": "code",
   "execution_count": 5,
   "id": "cab2e7e0",
   "metadata": {
    "ExecuteTime": {
     "end_time": "2022-09-13T13:44:11.796123Z",
     "start_time": "2022-09-13T13:44:11.786189Z"
    }
   },
   "outputs": [
    {
     "name": "stdout",
     "output_type": "stream",
     "text": [
      "True False\n",
      "False\n",
      "True\n"
     ]
    }
   ],
   "source": [
    "t = True\n",
    "f = False\n",
    "print(t,f)\n",
    "print(t and f)\n",
    "print(t or f)"
   ]
  },
  {
   "cell_type": "markdown",
   "id": "3023634c",
   "metadata": {},
   "source": [
    "### String(문자열)"
   ]
  },
  {
   "cell_type": "code",
   "execution_count": 4,
   "id": "8629ff84",
   "metadata": {
    "ExecuteTime": {
     "end_time": "2022-09-13T13:42:29.190457Z",
     "start_time": "2022-09-13T13:42:29.183513Z"
    }
   },
   "outputs": [
    {
     "name": "stdout",
     "output_type": "stream",
     "text": [
      "hello world\n"
     ]
    }
   ],
   "source": [
    "s = 'hello'\n",
    "t = 'world'\n",
    "print(s,t)"
   ]
  },
  {
   "cell_type": "markdown",
   "id": "98bbb589",
   "metadata": {},
   "source": [
    "## List(리스트)"
   ]
  },
  {
   "cell_type": "code",
   "execution_count": 7,
   "id": "3a516daa",
   "metadata": {
    "ExecuteTime": {
     "end_time": "2022-09-13T13:44:53.492780Z",
     "start_time": "2022-09-13T13:44:53.484469Z"
    }
   },
   "outputs": [
    {
     "name": "stdout",
     "output_type": "stream",
     "text": [
      "[3, 1, 2]\n",
      "3\n",
      "2\n"
     ]
    }
   ],
   "source": [
    "xs = [3,1,2]\n",
    "print(xs)\n",
    "print(xs[0])\n",
    "print(xs[-1])"
   ]
  },
  {
   "cell_type": "code",
   "execution_count": 8,
   "id": "94defa1f",
   "metadata": {
    "ExecuteTime": {
     "end_time": "2022-09-13T13:45:15.312884Z",
     "start_time": "2022-09-13T13:45:15.306551Z"
    }
   },
   "outputs": [
    {
     "name": "stdout",
     "output_type": "stream",
     "text": [
      "[3, 1, 'foo']\n"
     ]
    }
   ],
   "source": [
    "xs[2] = 'foo'\n",
    "print(xs)"
   ]
  },
  {
   "cell_type": "code",
   "execution_count": 9,
   "id": "f50e7740",
   "metadata": {
    "ExecuteTime": {
     "end_time": "2022-09-13T13:45:25.088772Z",
     "start_time": "2022-09-13T13:45:25.082342Z"
    }
   },
   "outputs": [
    {
     "name": "stdout",
     "output_type": "stream",
     "text": [
      "[3, 1, 'foo', 'bar']\n"
     ]
    }
   ],
   "source": [
    "xs.append('bar')\n",
    "print(xs)"
   ]
  },
  {
   "cell_type": "markdown",
   "id": "9f098890",
   "metadata": {},
   "source": [
    "### 슬라이싱"
   ]
  },
  {
   "cell_type": "code",
   "execution_count": 12,
   "id": "0076a711",
   "metadata": {
    "ExecuteTime": {
     "end_time": "2022-09-13T13:47:02.315830Z",
     "start_time": "2022-09-13T13:47:02.304522Z"
    }
   },
   "outputs": [
    {
     "name": "stdout",
     "output_type": "stream",
     "text": [
      "[1, 2, 3, 4, 5]\n",
      "[3, 4]\n",
      "[3, 4, 5]\n",
      "[1, 2]\n",
      "[1, 2, 3, 4, 5]\n",
      "[1, 2, 3, 4]\n"
     ]
    }
   ],
   "source": [
    "nums = [1,2,3,4,5]\n",
    "print(nums)\n",
    "print(nums[2:4])\n",
    "print(nums[2:])\n",
    "print(nums[:2])\n",
    "print(nums[:])\n",
    "print(nums[:-1])"
   ]
  },
  {
   "cell_type": "markdown",
   "id": "035308d7",
   "metadata": {},
   "source": [
    "### 리스트를 이용한 반복"
   ]
  },
  {
   "cell_type": "code",
   "execution_count": 13,
   "id": "19baceda",
   "metadata": {
    "ExecuteTime": {
     "end_time": "2022-09-13T13:47:34.264575Z",
     "start_time": "2022-09-13T13:47:34.259842Z"
    }
   },
   "outputs": [
    {
     "name": "stdout",
     "output_type": "stream",
     "text": [
      "cat\n",
      "dog\n",
      "monkey\n"
     ]
    }
   ],
   "source": [
    "animals = ['cat','dog','monkey']\n",
    "for animal in animals:\n",
    "    print(animal)"
   ]
  },
  {
   "cell_type": "markdown",
   "id": "0e0c5ff3",
   "metadata": {},
   "source": [
    "### 새로운 리스트 생성(list comprehension)"
   ]
  },
  {
   "cell_type": "code",
   "execution_count": 14,
   "id": "33e7604a",
   "metadata": {
    "ExecuteTime": {
     "end_time": "2022-09-13T13:48:25.316569Z",
     "start_time": "2022-09-13T13:48:25.308280Z"
    }
   },
   "outputs": [
    {
     "name": "stdout",
     "output_type": "stream",
     "text": [
      "[0, 1, 4, 9, 16]\n"
     ]
    }
   ],
   "source": [
    "nums = [0,1,2,3,4]\n",
    "result = []\n",
    "for x in nums:\n",
    "    result.append(x**2)\n",
    "print(result)"
   ]
  },
  {
   "cell_type": "code",
   "execution_count": 17,
   "id": "4743780f",
   "metadata": {
    "ExecuteTime": {
     "end_time": "2022-09-13T13:48:50.872837Z",
     "start_time": "2022-09-13T13:48:50.866112Z"
    }
   },
   "outputs": [
    {
     "name": "stdout",
     "output_type": "stream",
     "text": [
      "[0, 2, 4, 6, 8]\n"
     ]
    }
   ],
   "source": [
    "double = [i*2 for i in nums]\n",
    "print(double)"
   ]
  },
  {
   "cell_type": "markdown",
   "id": "1853bae9",
   "metadata": {},
   "source": [
    "## Dictionary (딕셔너리)"
   ]
  },
  {
   "cell_type": "code",
   "execution_count": 19,
   "id": "92e57eba",
   "metadata": {
    "ExecuteTime": {
     "end_time": "2022-09-13T13:49:54.001987Z",
     "start_time": "2022-09-13T13:49:53.993661Z"
    }
   },
   "outputs": [
    {
     "name": "stdout",
     "output_type": "stream",
     "text": [
      "cute\n",
      "good\n"
     ]
    }
   ],
   "source": [
    "d = {'cat':'cute','dog':'good'}\n",
    "print(d['cat'])\n",
    "print(d['dog'])"
   ]
  },
  {
   "cell_type": "code",
   "execution_count": 20,
   "id": "e64359c3",
   "metadata": {
    "ExecuteTime": {
     "end_time": "2022-09-13T13:50:05.299224Z",
     "start_time": "2022-09-13T13:50:05.292856Z"
    }
   },
   "outputs": [
    {
     "name": "stdout",
     "output_type": "stream",
     "text": [
      "{'cat': 'cute', 'dog': 'good', 'fish': 'wet'}\n"
     ]
    }
   ],
   "source": [
    "d['fish']='wet'\n",
    "print(d)"
   ]
  },
  {
   "cell_type": "code",
   "execution_count": 21,
   "id": "365bb8de",
   "metadata": {
    "ExecuteTime": {
     "end_time": "2022-09-13T13:50:22.626462Z",
     "start_time": "2022-09-13T13:50:22.620275Z"
    }
   },
   "outputs": [
    {
     "name": "stdout",
     "output_type": "stream",
     "text": [
      "{'cat': 'cute', 'dog': 'good'}\n"
     ]
    }
   ],
   "source": [
    "del d['fish']\n",
    "print(d)"
   ]
  },
  {
   "cell_type": "code",
   "execution_count": 22,
   "id": "0a7b5d0f",
   "metadata": {
    "ExecuteTime": {
     "end_time": "2022-09-13T13:50:35.756173Z",
     "start_time": "2022-09-13T13:50:35.749008Z"
    }
   },
   "outputs": [
    {
     "name": "stdout",
     "output_type": "stream",
     "text": [
      "cat cute\n",
      "dog good\n"
     ]
    }
   ],
   "source": [
    "for i in d:\n",
    "    print(i, d[i])"
   ]
  },
  {
   "cell_type": "markdown",
   "id": "72e697ce",
   "metadata": {},
   "source": [
    "## Function(함수)"
   ]
  },
  {
   "cell_type": "code",
   "execution_count": 23,
   "id": "e9d634cf",
   "metadata": {
    "ExecuteTime": {
     "end_time": "2022-09-13T13:51:53.028755Z",
     "start_time": "2022-09-13T13:51:53.018477Z"
    }
   },
   "outputs": [
    {
     "name": "stdout",
     "output_type": "stream",
     "text": [
      "negative\n",
      "zero\n",
      "positive\n"
     ]
    }
   ],
   "source": [
    "def sign(x):\n",
    "    if x>0:\n",
    "        return 'positive'\n",
    "    elif x<0:\n",
    "        return 'negative'\n",
    "    else:\n",
    "        return 'zero'\n",
    "for x in [-1,0,1]:\n",
    "    print(sign(x))\n",
    "        "
   ]
  },
  {
   "cell_type": "code",
   "execution_count": 24,
   "id": "31808f49",
   "metadata": {
    "ExecuteTime": {
     "end_time": "2022-09-13T13:52:53.109098Z",
     "start_time": "2022-09-13T13:52:53.099325Z"
    }
   },
   "outputs": [
    {
     "name": "stdout",
     "output_type": "stream",
     "text": [
      "hello~ Bob\n",
      "HELLO Fred\n"
     ]
    }
   ],
   "source": [
    "def hello(name, loud=False):\n",
    "    if loud:\n",
    "        print(\"HELLO\",name)\n",
    "    else:\n",
    "        print(\"hello~\",name)\n",
    "\n",
    "hello('Bob')\n",
    "hello('Fred', loud=True)"
   ]
  },
  {
   "cell_type": "markdown",
   "id": "97320f53",
   "metadata": {},
   "source": [
    "## Class(클래스)"
   ]
  },
  {
   "cell_type": "code",
   "execution_count": 27,
   "id": "dd58853d",
   "metadata": {
    "ExecuteTime": {
     "end_time": "2022-09-13T13:54:36.955723Z",
     "start_time": "2022-09-13T13:54:36.939972Z"
    }
   },
   "outputs": [
    {
     "name": "stdout",
     "output_type": "stream",
     "text": [
      "hello~ Fred\n",
      "HELLO Fred\n",
      "hello~ ya\n",
      "HELLO ya\n"
     ]
    }
   ],
   "source": [
    "class Greeter:\n",
    "\n",
    "    # Constructor\n",
    "    def __init__(self, name):\n",
    "        self.name = name  # Create an instance variable\n",
    "\n",
    "    # Instance method\n",
    "    def greet(self, loud=False):\n",
    "        if loud:\n",
    "            print(\"HELLO\",self.name)\n",
    "        else:\n",
    "            print(\"hello~\",self.name)\n",
    "            \n",
    "g = Greeter('Fred')  # Construct an instance of the Greeter class\n",
    "g.greet()            # Call an instance method; prints \"Hello, Fred\"\n",
    "g.greet(loud=True)   # Call an instance method; prints \"HELLO, FRED!\"\n",
    "\n",
    "s = Greeter(\"ya\");\n",
    "s.greet()\n",
    "s.greet(loud=True)"
   ]
  }
 ],
 "metadata": {
  "kernelspec": {
   "display_name": "Python 3 (ipykernel)",
   "language": "python",
   "name": "python3"
  },
  "language_info": {
   "codemirror_mode": {
    "name": "ipython",
    "version": 3
   },
   "file_extension": ".py",
   "mimetype": "text/x-python",
   "name": "python",
   "nbconvert_exporter": "python",
   "pygments_lexer": "ipython3",
   "version": "3.8.10"
  },
  "toc": {
   "base_numbering": 1,
   "nav_menu": {},
   "number_sections": false,
   "sideBar": true,
   "skip_h1_title": false,
   "title_cell": "Table of Contents",
   "title_sidebar": "Contents",
   "toc_cell": false,
   "toc_position": {},
   "toc_section_display": true,
   "toc_window_display": false
  }
 },
 "nbformat": 4,
 "nbformat_minor": 5
}
