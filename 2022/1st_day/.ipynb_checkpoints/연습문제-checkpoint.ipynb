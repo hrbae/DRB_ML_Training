{
 "cells": [
  {
   "cell_type": "markdown",
   "id": "fab0d0c9-2df0-45b0-a9c9-2559d0a2a392",
   "metadata": {},
   "source": [
    "## 연습문제 1: 값"
   ]
  },
  {
   "cell_type": "markdown",
   "id": "6f2d414f-42f9-46eb-bcf8-92aa814a54af",
   "metadata": {},
   "source": [
    "1-1. 다양한 종류의 값을 테스팅 해보시오"
   ]
  },
  {
   "cell_type": "code",
   "execution_count": 1,
   "id": "af60519e-09c2-4b9c-a041-c243e042b7d1",
   "metadata": {},
   "outputs": [
    {
     "data": {
      "text/plain": [
       "1"
      ]
     },
     "execution_count": 1,
     "metadata": {},
     "output_type": "execute_result"
    }
   ],
   "source": [
    "1"
   ]
  },
  {
   "cell_type": "code",
   "execution_count": 2,
   "id": "3970c340-f8be-411b-9311-f6b7858a6048",
   "metadata": {},
   "outputs": [
    {
     "data": {
      "text/plain": [
       "2"
      ]
     },
     "execution_count": 2,
     "metadata": {},
     "output_type": "execute_result"
    }
   ],
   "source": [
    "2"
   ]
  },
  {
   "cell_type": "code",
   "execution_count": 6,
   "id": "c928b6f9-1ba4-4550-a7ab-74e30c77316b",
   "metadata": {},
   "outputs": [],
   "source": [
    "## 여기에 실행해보세요\n"
   ]
  },
  {
   "cell_type": "markdown",
   "id": "65b11fbd-de30-4e9a-99e4-38a384a0c175",
   "metadata": {},
   "source": [
    "## 연습문제 2: 변수"
   ]
  },
  {
   "cell_type": "markdown",
   "id": "014bd15f-c4e8-4b1c-9d23-6aa25b1af16f",
   "metadata": {},
   "source": [
    "2-1. 변수명 규칙을 따르는 5개의 변수를 만들어보고, 다양한 종류의 값을 대입해보시오"
   ]
  },
  {
   "cell_type": "code",
   "execution_count": 11,
   "id": "ff92f650-4ad3-4c02-8fda-ab4bea8b165c",
   "metadata": {},
   "outputs": [],
   "source": [
    "## 여기에 실행해보세요\n",
    "x_123 = 1"
   ]
  },
  {
   "cell_type": "markdown",
   "id": "fd44d92c-5bb9-4623-9504-8c47d653bd50",
   "metadata": {},
   "source": [
    "## 연습문제 3: 연산자"
   ]
  },
  {
   "cell_type": "markdown",
   "id": "73583e5a-211c-4c10-b24c-64ecbf6b4bd0",
   "metadata": {},
   "source": [
    "3-1. 파이썬으로 다음 연산을 실행해 보시오"
   ]
  },
  {
   "cell_type": "code",
   "execution_count": 7,
   "id": "434af2a4-f2cd-4375-a7d6-c126042fe424",
   "metadata": {},
   "outputs": [],
   "source": [
    "## 여기에 실행해 보세요"
   ]
  },
  {
   "cell_type": "markdown",
   "id": "b04edafa-5f72-461c-8ef6-b0b9770fb914",
   "metadata": {},
   "source": [
    "3-2. 다음의 참 거짓여부를 확인해 보시오"
   ]
  },
  {
   "cell_type": "code",
   "execution_count": 10,
   "id": "48657715-0071-4d60-a73b-1cec394e6a51",
   "metadata": {},
   "outputs": [],
   "source": [
    "## 25의 세제곱은 10000보다 크다.\n"
   ]
  },
  {
   "cell_type": "code",
   "execution_count": 12,
   "id": "46ea29b3-dd90-4cf3-8d06-ffa313e374f1",
   "metadata": {},
   "outputs": [],
   "source": [
    "## 46의 네제곱은 10000에서 100000사이에 있다.\n"
   ]
  },
  {
   "cell_type": "markdown",
   "id": "67ac7df6-89e5-47c7-affc-657ac4ffdbf2",
   "metadata": {},
   "source": [
    "## 연습문제 4: 예약명령어"
   ]
  },
  {
   "cell_type": "markdown",
   "id": "560e2df0-64ff-44ae-84ae-f6cd26459d9c",
   "metadata": {},
   "source": [
    "4-1. 프로그램을 실행하면 “값을 입력하세요” 라는 안내문이 출력되고 사용자가 숫자를 입력하면 입력한 숫자에 50을 더하여 출력하는 프로그램을 만들어 보시오"
   ]
  },
  {
   "cell_type": "code",
   "execution_count": 13,
   "id": "8e070495-9e7c-4465-9865-cef4285914d6",
   "metadata": {},
   "outputs": [],
   "source": [
    "## 여기에 실행해 보세요."
   ]
  },
  {
   "cell_type": "markdown",
   "id": "843d8f81-97b3-4788-801c-882529d011d2",
   "metadata": {},
   "source": [
    "4-2. 프로그램을 실행하면 “값을 입력하세요” 라는 안내문이 출력되고 사용자가 숫자를 입력하면 입력한 숫자만큼 *을 연달아 출력하는 프로그램을 만들어 보시오"
   ]
  },
  {
   "cell_type": "code",
   "execution_count": 14,
   "id": "ed7fa859-54e9-4b55-b214-aaa5407aeaa9",
   "metadata": {},
   "outputs": [],
   "source": [
    "## 여기에 실행해 보세요."
   ]
  },
  {
   "cell_type": "markdown",
   "id": "f963871e-1356-4961-8583-c87fe81483ba",
   "metadata": {},
   "source": [
    "## 연습문제 5: 조건문 연습문제"
   ]
  },
  {
   "cell_type": "markdown",
   "id": "f2b02f6e-1126-40f5-822d-34ec1c6c1aae",
   "metadata": {},
   "source": [
    "5-1. 프로그램 실행시 사용자에게 입력값을 받아 name이라는 변수에 저장한다. 만약 입력값이 “Bond”라면 “welcome 007”이라는 메시지가, 다른 값이라면 “Good Morning”이라는 메시지가 나오도록 프로그램을 작성해보시오."
   ]
  },
  {
   "cell_type": "code",
   "execution_count": 15,
   "id": "0d24ba7d-e23a-4074-bc9e-f92d4d4887a1",
   "metadata": {},
   "outputs": [],
   "source": [
    "## 여기에 실행해 보세요."
   ]
  },
  {
   "cell_type": "markdown",
   "id": "53af2916-d1b8-4c3d-bce2-ee3b8766f323",
   "metadata": {},
   "source": [
    "5-2. 이 프로그램은 사용자에게 숫자값을 입력받는다. 입력받는 값이 짝수라면 “짝수” 라는 메시지가 출력되도록, 홀수라면 “홀수”라는 메시지가 출력되도록 프로그램을 작성해 보시오.\n",
    "hint: 사용자가 입력하는 값은 모두 문자열로 작성된다."
   ]
  },
  {
   "cell_type": "code",
   "execution_count": 16,
   "id": "75d67551-3eaa-46da-966c-fe61a2543c43",
   "metadata": {},
   "outputs": [],
   "source": [
    "## 여기에 실행해 보세요."
   ]
  },
  {
   "cell_type": "markdown",
   "id": "22a725db-6c0c-4fb9-b3b7-b28d4609375b",
   "metadata": {},
   "source": [
    "5-3. 어떤 농장에서 수박이 10kg 넘으면 1등급, 그렇지 않고 7kg 넘으면 2등급, 그렇지 않고 4kg 넘으면 3등급, 나머지는 4등급을 준다고 한다. 수박의 무게를 입력받아 수박의 등급을 출력하는 파이썬 코드를 작성하시오."
   ]
  },
  {
   "cell_type": "code",
   "execution_count": 17,
   "id": "3214c810-6a73-495c-bedd-396d765d335c",
   "metadata": {},
   "outputs": [],
   "source": [
    "## 여기에 실행해 보세요."
   ]
  },
  {
   "cell_type": "markdown",
   "id": "89d979c5-3d67-4629-a508-47097898fe30",
   "metadata": {},
   "source": [
    "## 연습문제 6: 반복문"
   ]
  },
  {
   "cell_type": "markdown",
   "id": "a18a2be9-f46c-4983-8d43-882a1915a77f",
   "metadata": {},
   "source": [
    "6-1. 다음처럼 1월부터 12월을 바꾸어가며 영어로 출력하는 반복문을 설계해 보시오.\n",
    "\n",
    "One of the months of the year is January<br>\n",
    "One of the months of the year is February<br>\n",
    "One of the months of the year is March<br>\n",
    "...<br>\n",
    "One of the months of the year is December<br>"
   ]
  },
  {
   "cell_type": "code",
   "execution_count": 18,
   "id": "61454911-a0b1-482d-a1da-381c90490a33",
   "metadata": {},
   "outputs": [],
   "source": [
    "## 여기에 실행해 보세요."
   ]
  },
  {
   "cell_type": "markdown",
   "id": "e5348f4f-fdeb-4f63-ad74-5c13af412a92",
   "metadata": {},
   "source": [
    "6-2. 주어진 8개의 섭씨온도 [15,30,25,30,75,60,95,100]에 대하여 각각을 화씨온도로 변환하여 출력하는 프로그램을 설계하시오"
   ]
  },
  {
   "cell_type": "code",
   "execution_count": 19,
   "id": "c5c86550-ade8-4a86-862f-4940958f61a5",
   "metadata": {},
   "outputs": [],
   "source": [
    "## 여기에 실행해 보세요."
   ]
  },
  {
   "cell_type": "markdown",
   "id": "e95154a7-32b8-41b9-af56-46ed863fb378",
   "metadata": {},
   "source": [
    "6-3. 다음과 같은 숫자의 리스트 [11,10,31,3,66,17,42,99,20] 중에서 짝수만을 출력하는 프로그램을 설계해보시오"
   ]
  },
  {
   "cell_type": "code",
   "execution_count": 20,
   "id": "dd382cfc-e82b-454b-85e5-b5ee81b20c53",
   "metadata": {},
   "outputs": [],
   "source": [
    "## 여기에 실행해 보세요."
   ]
  },
  {
   "cell_type": "markdown",
   "id": "08b40f40-c2aa-4f27-b335-690b400062a5",
   "metadata": {},
   "source": [
    "6-4. 다음과 같이 *을 계단형태로 출력하고자 한다. 반복문을 사용하여 30층짜리 계단을 출력하는 프로그램을 설계해 보시오.<br>\n",
    "*<br>\n",
    "**<br>\n",
    "***<br>\n",
    "****<br>\n",
    "..."
   ]
  },
  {
   "cell_type": "code",
   "execution_count": 22,
   "id": "f18c9e67-cf70-4c60-a0a3-5c021a958a25",
   "metadata": {},
   "outputs": [],
   "source": [
    "## 여기에 실행해 보세요."
   ]
  },
  {
   "cell_type": "markdown",
   "id": "fea489fc-5346-4ff2-ad7e-dbc8caf8cbc9",
   "metadata": {},
   "source": [
    "## 연습문제 6: 반복문 2"
   ]
  },
  {
   "cell_type": "markdown",
   "id": "500f05db-e238-4b7d-a59c-8ee4b71c1cb5",
   "metadata": {},
   "source": [
    "6-5. 1부터 50까지 연속된 값의 곱(50 팩토리얼)을 계산해 보시오."
   ]
  },
  {
   "cell_type": "code",
   "execution_count": 23,
   "id": "b79d3ef2-e4de-44bb-b7a1-e0e71d00c619",
   "metadata": {},
   "outputs": [],
   "source": [
    "## 여기에 실행해 보세요."
   ]
  },
  {
   "cell_type": "markdown",
   "id": "f5f58fc4-c92d-423e-be86-3991cc72cbdd",
   "metadata": {},
   "source": [
    "6-6. 1부터 100까지의 연속된 값 중 홀수만 골라서 합하는 프로그램을 작성하시오."
   ]
  },
  {
   "cell_type": "code",
   "execution_count": 24,
   "id": "66979563-1c58-4f97-86a6-b2fd6809700c",
   "metadata": {},
   "outputs": [],
   "source": [
    "## 여기에 실행해 보세요."
   ]
  },
  {
   "cell_type": "markdown",
   "id": "069a166f-2c35-42d3-9325-5909d2e1b521",
   "metadata": {},
   "source": [
    "6-7. 1부터 100까지 연속된 정수 값 중 3의 배수 또는 7의 배수인 숫자의 갯수를 구하려고 한다.프로그램을 설계해 보시오."
   ]
  },
  {
   "cell_type": "code",
   "execution_count": 25,
   "id": "682cfc16-3a72-4a49-8e95-4464f2de6fd1",
   "metadata": {},
   "outputs": [],
   "source": [
    "## 여기에 실행해 보세요."
   ]
  },
  {
   "cell_type": "markdown",
   "id": "3b2dcb1f-8390-4d8a-8a6f-9ca0391f7c6f",
   "metadata": {},
   "source": [
    "## 연습문제 6: while 반복문"
   ]
  },
  {
   "cell_type": "markdown",
   "id": "cb06b21d-fcae-42c9-9a63-594b5207add7",
   "metadata": {},
   "source": [
    "6-8. while을 이용하여 \"hello\"를 10번 반복하여 출력하는 프로그램을 만들어 보시오."
   ]
  },
  {
   "cell_type": "code",
   "execution_count": 26,
   "id": "490f610d-a4c7-442d-976f-636379f48918",
   "metadata": {},
   "outputs": [],
   "source": [
    "## 여기에 실행해 보세요."
   ]
  },
  {
   "cell_type": "markdown",
   "id": "4ddb3950-2a24-4ad8-a9bd-3f98a032edee",
   "metadata": {},
   "source": [
    "6-9. while을 이용하여 1부터 100까지 숫자의 합을 더하여 그 값을 result에 저장해보시오."
   ]
  },
  {
   "cell_type": "code",
   "execution_count": 27,
   "id": "b5e35ac4-91ae-4dda-8e84-167368f4d002",
   "metadata": {},
   "outputs": [],
   "source": [
    "## 여기에 실행해 보세요."
   ]
  },
  {
   "cell_type": "markdown",
   "id": "6eb885a0-215b-4d33-9b39-fa2658d264c5",
   "metadata": {},
   "source": [
    "## 연습문제 6: continue, break"
   ]
  },
  {
   "cell_type": "markdown",
   "id": "7522bcf2-e753-468c-900d-90e1071cb8f4",
   "metadata": {},
   "source": [
    "6-10. while문을 이용하여 다음 프로그램을 만들어보시오. <br><br>\n",
    "이 프로그램은 0~9사이의 숫자를 맞추는 프로그램이다. 정답 숫자를 answer 변수에 저장되어 있다. 사용자가 입력한 값이 정답이 아니면 “틀렸습니다”가 출력되며, 옳은 정답을 입력하면 “맞았습니다”가 출력되고 프로그램이 끝나도록 설계되어있다. 이 프로그램을 실행해 보시오. <br><br>\n",
    "입력해보세요: 1<br>\n",
    "틀렸습니다.<br>\n",
    "입력해보세요: 2<br>\n",
    "틀렸습니다.<br>\n",
    "입력해보세요: 5<br>\n",
    "틀렸습니다.<br>\n",
    "입력해보세요: 9<br>\n",
    "틀렸습니다.<br>\n",
    "입력해보세요: 3<br>\n",
    "맞았습니다."
   ]
  },
  {
   "cell_type": "code",
   "execution_count": 28,
   "id": "8ed2f382-b6d6-413f-abaf-5227a1561949",
   "metadata": {},
   "outputs": [],
   "source": [
    "## 여기에 실행해 보세요."
   ]
  },
  {
   "cell_type": "markdown",
   "id": "eada190f-993a-4d21-97df-584619f84e91",
   "metadata": {},
   "source": [
    "## 연습문제 6: 중첩 반복문"
   ]
  },
  {
   "cell_type": "markdown",
   "id": "fd6661b8-fa8a-46f5-b614-5b53540286ce",
   "metadata": {},
   "source": [
    "6-11. 다음과 같이 구구단을 출력하는 프로그램을 작성해보시오<br>\n",
    "\n",
    "1 * 1 = 1<br>\n",
    "1 * 2 = 2<br>\n",
    "..<br>\n",
    "9 * 8 = 72<br>\n",
    "9 * 9 = 81\n",
    "\n"
   ]
  },
  {
   "cell_type": "code",
   "execution_count": 29,
   "id": "acea8379-b16b-4c01-b0fa-c5bc105f4609",
   "metadata": {},
   "outputs": [],
   "source": [
    "## 여기에 실행해 보세요."
   ]
  },
  {
   "cell_type": "markdown",
   "id": "0afe8b53-fd65-499c-a7ee-162da858f8de",
   "metadata": {},
   "source": [
    "6-12. for 반복문과 문자열 연산, if 조건문을 사용하여 다음과 같이 출력해보시오.<br>\n",
    "*<br>\n",
    "**<br>\n",
    "***<br>\n",
    "****<br>\n",
    "*****<br>\n",
    "****<br>\n",
    "***<br>\n",
    "**<br>\n",
    "*<br>"
   ]
  },
  {
   "cell_type": "markdown",
   "id": "5005005c-a9ef-41b3-8efa-35d2fd217ec2",
   "metadata": {},
   "source": [
    "## 연습문제 7: 함수"
   ]
  },
  {
   "cell_type": "markdown",
   "id": "5505f0f4-9165-4262-a1b6-5005fdd28b04",
   "metadata": {},
   "source": [
    "7-1. 입력값 a,b를 순서대로 받아 a를 b로 나눈 몫과 나머지를 각각 반환하는 함수를 만들어보시오. 함수의 이름은 mok이다."
   ]
  },
  {
   "cell_type": "code",
   "execution_count": 30,
   "id": "84192bf7-a875-4822-881f-0f82c3d2b9f2",
   "metadata": {},
   "outputs": [],
   "source": [
    "def mok(a, b):\n",
    "    ## 여기에 작성해 보세요.\n",
    "    \n",
    "    ##\n",
    "    return x,y"
   ]
  },
  {
   "cell_type": "code",
   "execution_count": 32,
   "id": "67a451d1-0b31-4abc-a644-99947d30eab7",
   "metadata": {},
   "outputs": [],
   "source": [
    "# m,n = mok(7,2)\n",
    "# print(m,n)"
   ]
  },
  {
   "cell_type": "markdown",
   "id": "3fab9f58-dad5-4bbb-8bbb-9d3f161a04ef",
   "metadata": {
    "tags": []
   },
   "source": [
    "7-2. 어떤 수 n을 입력하면 1부터 n까지의 합을 계산하여 출력하는 함수를 만들어보시오. "
   ]
  },
  {
   "cell_type": "code",
   "execution_count": 31,
   "id": "39825f64-9c53-48e8-898f-48eef8a1eaef",
   "metadata": {},
   "outputs": [],
   "source": [
    "def my_sum(number):    \n",
    "    ## 이 부분을 작성해 보시오.\n",
    "    \n",
    "    ##\n",
    "    return result    "
   ]
  },
  {
   "cell_type": "code",
   "execution_count": 33,
   "id": "b3dfe40f-6de5-43b2-a45c-f5cc9cc9d3b0",
   "metadata": {},
   "outputs": [],
   "source": [
    "# y = my_sum(10)\n",
    "# print(y) ## 55가 출력되어야 함"
   ]
  },
  {
   "cell_type": "markdown",
   "id": "0ad849f9-b33b-463e-b556-b90aa754d756",
   "metadata": {},
   "source": [
    "7-3. 어떤 수 n을 입력여 짝수면 True, 홀수면 False를 출력하는 함수를 만들어보시오."
   ]
  },
  {
   "cell_type": "code",
   "execution_count": 34,
   "id": "158d9e2c-3f55-4407-9329-70a6d54552c7",
   "metadata": {},
   "outputs": [],
   "source": [
    "def check_even(number):\n",
    "    ## 이 부분을 작성해 보시오.\n",
    "    \n",
    "    ##\n",
    "    return result    "
   ]
  },
  {
   "cell_type": "code",
   "execution_count": 35,
   "id": "0d450a9d-6221-4e26-b0e2-9c8ed6566a0a",
   "metadata": {},
   "outputs": [],
   "source": [
    "# y = check_even(7)\n",
    "# print(y) ## False가 출력되어야 함"
   ]
  },
  {
   "cell_type": "markdown",
   "id": "dae8d6b8-ca74-44b8-8744-95411381321f",
   "metadata": {},
   "source": [
    "7-4. 어떤수 n을 입력하면 1부터 n까지 짝수의 합만 계산하여 출력하는 함수를 만들어보시오. 위에서 작성한 check_even을 사용할 것.\n"
   ]
  },
  {
   "cell_type": "code",
   "execution_count": 36,
   "id": "f971af66-4dc5-4ac8-8c00-341f2fdecfa1",
   "metadata": {},
   "outputs": [],
   "source": [
    "def myEvenSum(n):\n",
    "    ## 이 부분을 작성해 보시오.\n",
    "    \n",
    "    ##    \n",
    "    return result"
   ]
  },
  {
   "cell_type": "code",
   "execution_count": 37,
   "id": "750433f7-1eb9-4c6f-a974-694100e72952",
   "metadata": {},
   "outputs": [],
   "source": [
    "# y = myEvenSum(7)\n",
    "# print(y) ## 2+4+6 = 12"
   ]
  },
  {
   "cell_type": "markdown",
   "id": "e16ca4f3-b135-493c-9909-8cf564061b42",
   "metadata": {},
   "source": [
    "## 연습문제 8. 리스트"
   ]
  },
  {
   "cell_type": "markdown",
   "id": "a66b4d41-a15f-4d92-ade4-be7b9ea11f65",
   "metadata": {},
   "source": [
    "8-1. 다음 프로그램을 만들어보시오<br>\n",
    "처음 몇 개의 데이터를 입력받을지 결정<br>\n",
    "그 후, 순서대로 숫자를 입력받음<br>\n",
    "입력된 값은 result 리스트에 저장됨<br>\n",
    "입력완료 후 입력된 리스트를 출력\n"
   ]
  },
  {
   "cell_type": "markdown",
   "id": "a28e2faf-bbfc-425f-a76f-aa023f7ee479",
   "metadata": {},
   "source": [
    "몇개의 값을 입력받겠습니까?: 2 <br>\n",
    "1번째 값을 입력: 2<br>\n",
    "2번째 값을 입력: 4<br>\n",
    "\n",
    "Result:  [2,4]"
   ]
  },
  {
   "cell_type": "code",
   "execution_count": 42,
   "id": "ff651475-84a2-4d0d-8b51-1068c9a3e178",
   "metadata": {},
   "outputs": [
    {
     "name": "stdin",
     "output_type": "stream",
     "text": [
      "몇 개의 값을 입력받겠습니까?: 10\n"
     ]
    }
   ],
   "source": [
    "# 이 부분을 작성해보세요\n",
    "x = input(\"몇 개의 값을 입력받겠습니까?:\")\n",
    "n = int(x)"
   ]
  },
  {
   "cell_type": "markdown",
   "id": "6cd61aa0-0abb-4028-87b2-68ef8996f61f",
   "metadata": {},
   "source": [
    "8-2. 주어진 리스트에서 중복되는 숫자는 제거하는 프로그램을 만들어보시오<br>\n",
    "hint: in을 이용한다<br>\n",
    "hint: 새로운 리스트를 만든다<br>"
   ]
  },
  {
   "cell_type": "markdown",
   "id": "f3156e81-cc5d-434d-a66d-8b199f64d37c",
   "metadata": {},
   "source": [
    "입력: [2,3,4,5,2,6,3,2]<br>\n",
    "출력: [2,3,4,5,6]"
   ]
  },
  {
   "cell_type": "code",
   "execution_count": 41,
   "id": "070565d6-30c8-40c8-bb8d-ed8f14a3d639",
   "metadata": {},
   "outputs": [],
   "source": [
    "# 이 부분을 작성해보세요\n",
    "a = [2,3,4,5,2,6,3,2]"
   ]
  },
  {
   "cell_type": "markdown",
   "id": "c8609270-2c83-4fdd-bccd-b1d2a170b13c",
   "metadata": {},
   "source": [
    "## 연습문제 9: 딕셔너리"
   ]
  },
  {
   "cell_type": "markdown",
   "id": "960b0398-8163-413d-9983-cad792809202",
   "metadata": {},
   "source": [
    "9-1. 두 개의 딕셔너리를 합쳐서 하나의 큰 딕셔너리를 만드는 함수를 작성해 보시오<br>\n",
    "입력1: dict1={'a':2,'b':3}<br>\n",
    "입력2: dict2={'c':4,'d':5}<br>\n",
    "출력: {'a':2,'b':3,'c':4,'d':5}"
   ]
  },
  {
   "cell_type": "code",
   "execution_count": 40,
   "id": "8b71d140-e32c-4f09-83d6-ef986fe0dcfd",
   "metadata": {},
   "outputs": [],
   "source": [
    "dict1={'a':2,'b':3}\n",
    "dict2={'c':4,'d':5}\n",
    "# 이 부분을 작성해보세요"
   ]
  },
  {
   "cell_type": "markdown",
   "id": "95d0104a-3fa0-4209-b6da-c0d0bd5de59e",
   "metadata": {},
   "source": [
    "9-2. 딕셔너리에 각 키에 해당하는 값의 평균값을 계산하는 함수를 만들어보시오."
   ]
  },
  {
   "cell_type": "code",
   "execution_count": 43,
   "id": "e11f876c-bbb3-4d67-97f9-66cbec883bd1",
   "metadata": {},
   "outputs": [],
   "source": [
    "data={\n",
    "     \"철수\":98,\n",
    "    \"영희\":80,\n",
    "    \"순이\":100,\n",
    "    \"돌이\":70,\n",
    "}"
   ]
  },
  {
   "cell_type": "markdown",
   "id": "b38058b4-8b2f-4fea-9f33-f069685e8fe5",
   "metadata": {},
   "source": [
    "## 연습문제 10. 객체만들기"
   ]
  },
  {
   "cell_type": "markdown",
   "id": "11eae875-c77d-4b1b-982c-5e7a5ad20745",
   "metadata": {},
   "source": [
    "10-1. 높이를 입력하면 높이만큼 다음 그림이 만들어지는 함수를 설계해 보시오<br>\n",
    "너비는 10으로 통일<br>\n",
    "입력값(객체, 높이)<br>"
   ]
  },
  {
   "cell_type": "code",
   "execution_count": 47,
   "id": "c5a6c2ec-a8e4-43e3-8888-053ecec73bf0",
   "metadata": {},
   "outputs": [
    {
     "data": {
      "text/html": [
       "\n",
       "      <svg width=\"500\" height=\"300\">  \n",
       "        <rect width=\"100%\" height=\"100%\" style=\"fill:white;stroke:;stroke-width:1\"/>\n",
       "        \n",
       "        \n",
       "        \n",
       "        \n",
       "        \n",
       "        <g id=\"classic\" visibility=\"visible\" transform=\"rotate(-90,250.0,150.0) translate(250.0, 150.0)\">\n",
       "<polygon points=\"-5,-4.5 0,-2.5 5,-4.5 0,4.5\" transform=\"skewX(0) scale(1,1)\" style=\"stroke:black;fill:black;stroke-width:1\" />\n",
       "</g><g id=\"classic\" visibility=\"visible\" transform=\"rotate(-90,250.0,150.0) translate(250.0, 150.0)\">\n",
       "<polygon points=\"-5,-4.5 0,-2.5 5,-4.5 0,4.5\" transform=\"skewX(0) scale(1,1)\" style=\"stroke:black;fill:black;stroke-width:1\" />\n",
       "</g>\n",
       "      </svg>\n",
       "    "
      ],
      "text/plain": [
       "<IPython.core.display.HTML object>"
      ]
     },
     "metadata": {},
     "output_type": "display_data"
    }
   ],
   "source": [
    "## 이 부분을 작성해주세요.\n",
    "from ColabTurtlePlus.Turtle import *\n",
    "clearscreen()\n",
    "setup(500,300)\n",
    "t = Turtle()"
   ]
  },
  {
   "cell_type": "markdown",
   "id": "e91b517e-67cd-445e-bf59-de5fd5c1dbe1",
   "metadata": {},
   "source": [
    "10-2. 다음과 같이 리스트 숫자 값을 입력하면 히스토그램이 그려지는 함수를 설계해보시오."
   ]
  },
  {
   "cell_type": "code",
   "execution_count": 48,
   "id": "7127c331-77dd-40ba-9c79-619f2b85aa4a",
   "metadata": {},
   "outputs": [],
   "source": [
    "def histogram(turtle, height):\n",
    "    clearscreen()\n",
    "    setup(500,300)    \n",
    "    ## 이 부분을 작성해주세요.\n",
    "    "
   ]
  },
  {
   "cell_type": "code",
   "execution_count": 50,
   "id": "9f44e70b-392c-487d-aa76-62db7b38afee",
   "metadata": {},
   "outputs": [
    {
     "data": {
      "text/html": [
       "\n",
       "      <svg width=\"500\" height=\"300\">  \n",
       "        <rect width=\"100%\" height=\"100%\" style=\"fill:white;stroke:;stroke-width:1\"/>\n",
       "        \n",
       "        \n",
       "        \n",
       "        \n",
       "        \n",
       "        \n",
       "      </svg>\n",
       "    "
      ],
      "text/plain": [
       "<IPython.core.display.HTML object>"
      ]
     },
     "metadata": {},
     "output_type": "display_data"
    }
   ],
   "source": [
    "t = Turtle()\n",
    "xs = [48,117,200,240,160,260,220]\n",
    "histogram(t, xs) ## 실행시 히스토그램이 그려져야 함."
   ]
  },
  {
   "cell_type": "code",
   "execution_count": null,
   "id": "84bb64bb-efb3-44d4-bba2-00cfcef642b2",
   "metadata": {},
   "outputs": [],
   "source": []
  }
 ],
 "metadata": {
  "kernelspec": {
   "display_name": "Python 3 (ipykernel)",
   "language": "python",
   "name": "python3"
  },
  "language_info": {
   "codemirror_mode": {
    "name": "ipython",
    "version": 3
   },
   "file_extension": ".py",
   "mimetype": "text/x-python",
   "name": "python",
   "nbconvert_exporter": "python",
   "pygments_lexer": "ipython3",
   "version": "3.8.10"
  },
  "toc": {
   "base_numbering": 1,
   "nav_menu": {},
   "number_sections": false,
   "sideBar": true,
   "skip_h1_title": false,
   "title_cell": "Table of Contents",
   "title_sidebar": "Contents",
   "toc_cell": false,
   "toc_position": {},
   "toc_section_display": true,
   "toc_window_display": false
  }
 },
 "nbformat": 4,
 "nbformat_minor": 5
}
