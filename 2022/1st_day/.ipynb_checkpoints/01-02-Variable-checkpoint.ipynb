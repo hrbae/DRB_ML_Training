{
 "cells": [
  {
   "cell_type": "markdown",
   "id": "entitled-motion",
   "metadata": {},
   "source": [
    "## 2-1. 변수(Variable)"
   ]
  },
  {
   "cell_type": "markdown",
   "id": "comfortable-berkeley",
   "metadata": {},
   "source": [
    "- 값: 컴퓨터 메모리 안에 저장되어 있음\n",
    "- 변수: 메모리안에 저장된 값을 가리키는 리모컨\n",
    "- 변수를 통해 메모리안에 저장된 값에 접근할 수 있다."
   ]
  },
  {
   "cell_type": "code",
   "execution_count": 14,
   "id": "suitable-simpson",
   "metadata": {},
   "outputs": [
    {
     "ename": "NameError",
     "evalue": "name 'pi' is not defined",
     "output_type": "error",
     "traceback": [
      "\u001b[0;31m---------------------------------------------------------------------------\u001b[0m",
      "\u001b[0;31mNameError\u001b[0m                                 Traceback (most recent call last)",
      "\u001b[0;32m<ipython-input-14-f84ab820532c>\u001b[0m in \u001b[0;36m<module>\u001b[0;34m\u001b[0m\n\u001b[0;32m----> 1\u001b[0;31m \u001b[0mpi\u001b[0m\u001b[0;34m\u001b[0m\u001b[0;34m\u001b[0m\u001b[0m\n\u001b[0m",
      "\u001b[0;31mNameError\u001b[0m: name 'pi' is not defined"
     ]
    }
   ],
   "source": [
    "pi"
   ]
  },
  {
   "cell_type": "markdown",
   "id": "spiritual-surgeon",
   "metadata": {},
   "source": [
    "- 변수에 값을 할당"
   ]
  },
  {
   "cell_type": "code",
   "execution_count": 15,
   "id": "lyric-purchase",
   "metadata": {},
   "outputs": [],
   "source": [
    "pi = 3.141592"
   ]
  },
  {
   "cell_type": "markdown",
   "id": "russian-variety",
   "metadata": {},
   "source": [
    "- 변수가 가리키는 값을 출력"
   ]
  },
  {
   "cell_type": "code",
   "execution_count": 17,
   "id": "productive-helena",
   "metadata": {},
   "outputs": [
    {
     "data": {
      "text/plain": [
       "3.141592"
      ]
     },
     "execution_count": 17,
     "metadata": {},
     "output_type": "execute_result"
    }
   ],
   "source": [
    "pi"
   ]
  },
  {
   "cell_type": "markdown",
   "id": "advanced-johnson",
   "metadata": {},
   "source": [
    "- 변수로 하여금 다른 값을 가리키게 할 수 있다."
   ]
  },
  {
   "cell_type": "code",
   "execution_count": 18,
   "id": "particular-course",
   "metadata": {},
   "outputs": [],
   "source": [
    "pi = 100"
   ]
  },
  {
   "cell_type": "markdown",
   "id": "german-advance",
   "metadata": {},
   "source": [
    "- 다양한 종류의 값을 가리킬 수 있다."
   ]
  },
  {
   "cell_type": "code",
   "execution_count": 21,
   "id": "delayed-october",
   "metadata": {},
   "outputs": [
    {
     "data": {
      "text/plain": [
       "'hello world'"
      ]
     },
     "execution_count": 21,
     "metadata": {},
     "output_type": "execute_result"
    }
   ],
   "source": [
    "pi = 'hello world'\n",
    "pi"
   ]
  },
  {
   "cell_type": "code",
   "execution_count": 22,
   "id": "eastern-canvas",
   "metadata": {},
   "outputs": [
    {
     "data": {
      "text/plain": [
       "True"
      ]
     },
     "execution_count": 22,
     "metadata": {},
     "output_type": "execute_result"
    }
   ],
   "source": [
    "pi = True\n",
    "pi"
   ]
  },
  {
   "cell_type": "markdown",
   "id": "3ce8f718-f48b-494b-a57b-61ee66cc9d47",
   "metadata": {},
   "source": [
    "## 2-2. 출력 명령어: print"
   ]
  },
  {
   "cell_type": "code",
   "execution_count": 3,
   "id": "e91f2be0-0495-4804-aba3-07d92b9441fa",
   "metadata": {},
   "outputs": [
    {
     "data": {
      "text/plain": [
       "'hello'"
      ]
     },
     "execution_count": 3,
     "metadata": {},
     "output_type": "execute_result"
    }
   ],
   "source": [
    "'hello'"
   ]
  },
  {
   "cell_type": "code",
   "execution_count": 4,
   "id": "b8099abf-18a2-4b23-88dc-fd086960ae6b",
   "metadata": {},
   "outputs": [
    {
     "name": "stdout",
     "output_type": "stream",
     "text": [
      "hello\n"
     ]
    }
   ],
   "source": [
    "print(\"hello\")"
   ]
  },
  {
   "cell_type": "code",
   "execution_count": 5,
   "id": "ed655b42-552f-49b1-a4f8-8bb56282ec09",
   "metadata": {},
   "outputs": [
    {
     "name": "stdout",
     "output_type": "stream",
     "text": [
      "hello\n"
     ]
    }
   ],
   "source": [
    "x = 'hello'\n",
    "print(x)"
   ]
  },
  {
   "cell_type": "code",
   "execution_count": 6,
   "id": "c2dcdf3e-cc2d-4350-b866-09ddf191547b",
   "metadata": {},
   "outputs": [
    {
     "data": {
      "text/plain": [
       "1"
      ]
     },
     "execution_count": 6,
     "metadata": {},
     "output_type": "execute_result"
    }
   ],
   "source": [
    "1"
   ]
  },
  {
   "cell_type": "code",
   "execution_count": 2,
   "id": "6163d8a9-9a1a-47b6-9d16-1e936487e63f",
   "metadata": {},
   "outputs": [
    {
     "name": "stdout",
     "output_type": "stream",
     "text": [
      "1\n"
     ]
    }
   ],
   "source": [
    "print(1)"
   ]
  },
  {
   "cell_type": "code",
   "execution_count": 7,
   "id": "c6a88ba4-a0c3-4799-9095-2d1965eb0892",
   "metadata": {},
   "outputs": [
    {
     "name": "stdout",
     "output_type": "stream",
     "text": [
      "1\n"
     ]
    }
   ],
   "source": [
    "x=1\n",
    "print(1)"
   ]
  },
  {
   "cell_type": "markdown",
   "id": "6368a7cd-2a79-414a-ae55-f76fc62e56a5",
   "metadata": {},
   "source": [
    "## 2-3. 입력 명령어: input"
   ]
  },
  {
   "cell_type": "markdown",
   "id": "fd9b650e-74c8-4d52-986c-836015f6cfb7",
   "metadata": {},
   "source": [
    "프로그램 실행시 사용자의 입력을 기다림,\n",
    "사용자가 특정 값을 입력하고 enter를 누르면, 결과 변수에 입력값이 저장됨\n",
    "(주의사항: 모든 입력값은 문자열값으로 간주됨)"
   ]
  },
  {
   "cell_type": "code",
   "execution_count": 9,
   "id": "c88fb726-bfeb-4515-a2ed-883234497c67",
   "metadata": {},
   "outputs": [
    {
     "name": "stdin",
     "output_type": "stream",
     "text": [
      "값을 입력하세요 1\n"
     ]
    },
    {
     "data": {
      "text/plain": [
       "'1'"
      ]
     },
     "execution_count": 9,
     "metadata": {},
     "output_type": "execute_result"
    }
   ],
   "source": [
    "x = input(\"값을 입력하세요\")\n",
    "x"
   ]
  },
  {
   "cell_type": "code",
   "execution_count": 14,
   "id": "42f73777-39e1-4466-adf6-cb162ffe178b",
   "metadata": {},
   "outputs": [
    {
     "name": "stdin",
     "output_type": "stream",
     "text": [
      "값을 입력하세요??? asd\n"
     ]
    },
    {
     "name": "stdout",
     "output_type": "stream",
     "text": [
      "asd\n"
     ]
    }
   ],
   "source": [
    "y = input(\"값을 입력하세요???\")\n",
    "print(y)"
   ]
  },
  {
   "cell_type": "markdown",
   "id": "5b5c2739-66a6-4f16-915b-7299026ae0f0",
   "metadata": {},
   "source": [
    "## 2-4. 값의 변환(문자열->숫자)"
   ]
  },
  {
   "cell_type": "code",
   "execution_count": 18,
   "id": "5cf242b4-6f80-4b42-aa19-75a09bd8e28d",
   "metadata": {},
   "outputs": [
    {
     "data": {
      "text/plain": [
       "123"
      ]
     },
     "execution_count": 18,
     "metadata": {},
     "output_type": "execute_result"
    }
   ],
   "source": [
    "x = int('123') # 문자열이지만 숫자라면 int 명령어를 통해 정수형 숫자로 바꿀 수 있음\n",
    "x"
   ]
  },
  {
   "cell_type": "code",
   "execution_count": 19,
   "id": "4e719e5a-ab25-4dde-8626-2fd5f4943dad",
   "metadata": {},
   "outputs": [
    {
     "data": {
      "text/plain": [
       "153"
      ]
     },
     "execution_count": 19,
     "metadata": {},
     "output_type": "execute_result"
    }
   ],
   "source": [
    "x+30"
   ]
  },
  {
   "cell_type": "markdown",
   "id": "f42a40b9-f521-4a34-b260-2033829c1bb1",
   "metadata": {},
   "source": [
    "## 2-4. 값의 변환(숫자->문자열)"
   ]
  },
  {
   "cell_type": "code",
   "execution_count": 21,
   "id": "4d3b1231-6d3c-4add-8da9-7f321331a45a",
   "metadata": {},
   "outputs": [
    {
     "data": {
      "text/plain": [
       "123"
      ]
     },
     "execution_count": 21,
     "metadata": {},
     "output_type": "execute_result"
    }
   ],
   "source": [
    "x =123\n",
    "x"
   ]
  },
  {
   "cell_type": "code",
   "execution_count": 22,
   "id": "22f0a94d-8aba-4f09-9407-68c6119cadbc",
   "metadata": {},
   "outputs": [
    {
     "data": {
      "text/plain": [
       "'123'"
      ]
     },
     "execution_count": 22,
     "metadata": {},
     "output_type": "execute_result"
    }
   ],
   "source": [
    "y=str(x)\n",
    "y"
   ]
  }
 ],
 "metadata": {
  "kernelspec": {
   "display_name": "Python 3 (ipykernel)",
   "language": "python",
   "name": "python3"
  },
  "language_info": {
   "codemirror_mode": {
    "name": "ipython",
    "version": 3
   },
   "file_extension": ".py",
   "mimetype": "text/x-python",
   "name": "python",
   "nbconvert_exporter": "python",
   "pygments_lexer": "ipython3",
   "version": "3.8.10"
  }
 },
 "nbformat": 4,
 "nbformat_minor": 5
}
