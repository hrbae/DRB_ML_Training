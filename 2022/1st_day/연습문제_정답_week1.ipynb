{
 "cells": [
  {
   "cell_type": "markdown",
   "id": "fab0d0c9-2df0-45b0-a9c9-2559d0a2a392",
   "metadata": {},
   "source": [
    "## 연습문제 1: 값"
   ]
  },
  {
   "cell_type": "markdown",
   "id": "6f2d414f-42f9-46eb-bcf8-92aa814a54af",
   "metadata": {},
   "source": [
    "1-1. 다양한 종류의 값을 테스팅 해보시오"
   ]
  },
  {
   "cell_type": "code",
   "execution_count": 1,
   "id": "af60519e-09c2-4b9c-a041-c243e042b7d1",
   "metadata": {},
   "outputs": [
    {
     "data": {
      "text/plain": [
       "1"
      ]
     },
     "execution_count": 1,
     "metadata": {},
     "output_type": "execute_result"
    }
   ],
   "source": [
    "1"
   ]
  },
  {
   "cell_type": "code",
   "execution_count": 2,
   "id": "3970c340-f8be-411b-9311-f6b7858a6048",
   "metadata": {},
   "outputs": [
    {
     "data": {
      "text/plain": [
       "2"
      ]
     },
     "execution_count": 2,
     "metadata": {},
     "output_type": "execute_result"
    }
   ],
   "source": [
    "2"
   ]
  },
  {
   "cell_type": "code",
   "execution_count": 6,
   "id": "c928b6f9-1ba4-4550-a7ab-74e30c77316b",
   "metadata": {},
   "outputs": [],
   "source": [
    "## 여기에 실행해보세요\n"
   ]
  },
  {
   "cell_type": "markdown",
   "id": "65b11fbd-de30-4e9a-99e4-38a384a0c175",
   "metadata": {},
   "source": [
    "## 연습문제 2: 변수"
   ]
  },
  {
   "cell_type": "markdown",
   "id": "014bd15f-c4e8-4b1c-9d23-6aa25b1af16f",
   "metadata": {},
   "source": [
    "2-1. 변수명 규칙을 따르는 5개의 변수를 만들어보고, 다양한 종류의 값을 대입해보시오"
   ]
  },
  {
   "cell_type": "code",
   "execution_count": 11,
   "id": "ff92f650-4ad3-4c02-8fda-ab4bea8b165c",
   "metadata": {},
   "outputs": [],
   "source": [
    "## 여기에 실행해보세요\n",
    "x_123 = 1"
   ]
  },
  {
   "cell_type": "markdown",
   "id": "fd44d92c-5bb9-4623-9504-8c47d653bd50",
   "metadata": {},
   "source": [
    "## 연습문제 3: 연산자"
   ]
  },
  {
   "cell_type": "markdown",
   "id": "73583e5a-211c-4c10-b24c-64ecbf6b4bd0",
   "metadata": {},
   "source": [
    "3-1. 파이썬으로 다음 연산을 실행해 보시오"
   ]
  },
  {
   "cell_type": "code",
   "execution_count": 7,
   "id": "434af2a4-f2cd-4375-a7d6-c126042fe424",
   "metadata": {},
   "outputs": [],
   "source": [
    "## 여기에 실행해 보세요"
   ]
  },
  {
   "cell_type": "markdown",
   "id": "b04edafa-5f72-461c-8ef6-b0b9770fb914",
   "metadata": {},
   "source": [
    "3-2. 다음의 참 거짓여부를 확인해 보시오"
   ]
  },
  {
   "cell_type": "code",
   "execution_count": 10,
   "id": "48657715-0071-4d60-a73b-1cec394e6a51",
   "metadata": {},
   "outputs": [],
   "source": [
    "## 25의 세제곱은 10000보다 크다.\n"
   ]
  },
  {
   "cell_type": "code",
   "execution_count": 12,
   "id": "46ea29b3-dd90-4cf3-8d06-ffa313e374f1",
   "metadata": {},
   "outputs": [],
   "source": [
    "## 46의 네제곱은 10000에서 100000사이에 있다.\n"
   ]
  },
  {
   "cell_type": "markdown",
   "id": "67ac7df6-89e5-47c7-affc-657ac4ffdbf2",
   "metadata": {},
   "source": [
    "## 연습문제 4: 예약명령어"
   ]
  },
  {
   "cell_type": "markdown",
   "id": "560e2df0-64ff-44ae-84ae-f6cd26459d9c",
   "metadata": {},
   "source": [
    "4-1. 프로그램을 실행하면 “값을 입력하세요” 라는 안내문이 출력되고 사용자가 숫자를 입력하면 입력한 숫자에 50을 더하여 출력하는 프로그램을 만들어 보시오"
   ]
  },
  {
   "cell_type": "code",
   "execution_count": 1,
   "id": "8e070495-9e7c-4465-9865-cef4285914d6",
   "metadata": {
    "ExecuteTime": {
     "end_time": "2022-09-04T11:01:42.095689Z",
     "start_time": "2022-09-04T11:01:40.069995Z"
    }
   },
   "outputs": [
    {
     "name": "stdout",
     "output_type": "stream",
     "text": [
      "값을 입력하세요: 30\n",
      "80\n"
     ]
    }
   ],
   "source": [
    "## 여기에 실행해 보세요.\n",
    "value = input(\"값을 입력하세요: \")\n",
    "print(int(value)+50)"
   ]
  },
  {
   "cell_type": "markdown",
   "id": "843d8f81-97b3-4788-801c-882529d011d2",
   "metadata": {},
   "source": [
    "4-2. 프로그램을 실행하면 “값을 입력하세요” 라는 안내문이 출력되고 사용자가 숫자를 입력하면 입력한 숫자만큼 *을 연달아 출력하는 프로그램을 만들어 보시오"
   ]
  },
  {
   "cell_type": "code",
   "execution_count": 2,
   "id": "ed7fa859-54e9-4b55-b214-aaa5407aeaa9",
   "metadata": {
    "ExecuteTime": {
     "end_time": "2022-09-04T11:02:09.220028Z",
     "start_time": "2022-09-04T11:02:07.224243Z"
    }
   },
   "outputs": [
    {
     "name": "stdout",
     "output_type": "stream",
     "text": [
      "값을 입력하세요: 30\n",
      "******************************\n"
     ]
    }
   ],
   "source": [
    "## 여기에 실행해 보세요.\n",
    "value = input(\"값을 입력하세요: \")\n",
    "print(int(value)*'*')"
   ]
  },
  {
   "cell_type": "markdown",
   "id": "f963871e-1356-4961-8583-c87fe81483ba",
   "metadata": {},
   "source": [
    "## 연습문제 5: 조건문 연습문제"
   ]
  },
  {
   "cell_type": "markdown",
   "id": "f2b02f6e-1126-40f5-822d-34ec1c6c1aae",
   "metadata": {},
   "source": [
    "5-1. 프로그램 실행시 사용자에게 입력값을 받아 name이라는 변수에 저장한다. 만약 입력값이 “Bond”라면 “welcome 007”이라는 메시지가, 다른 값이라면 “Good Morning”이라는 메시지가 나오도록 프로그램을 작성해보시오."
   ]
  },
  {
   "cell_type": "code",
   "execution_count": 4,
   "id": "0d24ba7d-e23a-4074-bc9e-f92d4d4887a1",
   "metadata": {
    "ExecuteTime": {
     "end_time": "2022-09-04T11:03:09.788553Z",
     "start_time": "2022-09-04T11:03:08.448621Z"
    }
   },
   "outputs": [
    {
     "name": "stdout",
     "output_type": "stream",
     "text": [
      "이름을 입력해보세요: bond\n",
      "Good Morning\n"
     ]
    }
   ],
   "source": [
    "## 여기에 실행해 보세요.\n",
    "value = input(\"이름을 입력해보세요: \")\n",
    "if value == 'Bond':\n",
    "    print(\"welcome 007\")\n",
    "else:\n",
    "    print(\"Good Morning\")"
   ]
  },
  {
   "cell_type": "markdown",
   "id": "53af2916-d1b8-4c3d-bce2-ee3b8766f323",
   "metadata": {},
   "source": [
    "5-2. 이 프로그램은 사용자에게 숫자값을 입력받는다. 입력받는 값이 짝수라면 “짝수” 라는 메시지가 출력되도록, 홀수라면 “홀수”라는 메시지가 출력되도록 프로그램을 작성해 보시오.\n",
    "hint: 사용자가 입력하는 값은 모두 문자열로 작성된다."
   ]
  },
  {
   "cell_type": "code",
   "execution_count": 5,
   "id": "75d67551-3eaa-46da-966c-fe61a2543c43",
   "metadata": {
    "ExecuteTime": {
     "end_time": "2022-09-04T11:04:11.981267Z",
     "start_time": "2022-09-04T11:04:10.632782Z"
    }
   },
   "outputs": [
    {
     "name": "stdout",
     "output_type": "stream",
     "text": [
      "값을 입력해보세요: 3\n",
      "홀수\n"
     ]
    }
   ],
   "source": [
    "## 여기에 실행해 보세요.\n",
    "value = input('값을 입력해보세요: ')\n",
    "if(int(value)%2==0):\n",
    "    print(\"짝수\")\n",
    "else:\n",
    "    print(\"홀수\")"
   ]
  },
  {
   "cell_type": "markdown",
   "id": "22a725db-6c0c-4fb9-b3b7-b28d4609375b",
   "metadata": {},
   "source": [
    "5-3. 어떤 농장에서 수박이 10kg 넘으면 1등급, 그렇지 않고 7kg 넘으면 2등급, 그렇지 않고 4kg 넘으면 3등급, 나머지는 4등급을 준다고 한다. 수박의 무게를 입력받아 수박의 등급을 출력하는 파이썬 코드를 작성하시오."
   ]
  },
  {
   "cell_type": "code",
   "execution_count": 8,
   "id": "3214c810-6a73-495c-bedd-396d765d335c",
   "metadata": {},
   "outputs": [
    {
     "name": "stdin",
     "output_type": "stream",
     "text": [
      "값을 입력해보세요:  5\n"
     ]
    },
    {
     "name": "stdout",
     "output_type": "stream",
     "text": [
      "3등급\n"
     ]
    }
   ],
   "source": [
    "## 여기에 실행해 보세요.\n",
    "value = int(input(\"값을 입력해보세요: \"))\n",
    "if value>10:\n",
    "    print(\"1등급\")\n",
    "elif value>7:\n",
    "    print(\"2등급\")\n",
    "elif value>4:\n",
    "    print(\"3등급\")\n",
    "else:\n",
    "    print(\"4등급\")"
   ]
  },
  {
   "cell_type": "markdown",
   "id": "89d979c5-3d67-4629-a508-47097898fe30",
   "metadata": {},
   "source": [
    "## 연습문제 6: 반복문"
   ]
  },
  {
   "cell_type": "markdown",
   "id": "a18a2be9-f46c-4983-8d43-882a1915a77f",
   "metadata": {},
   "source": [
    "6-1. 다음처럼 1월부터 12월을 바꾸어가며 영어로 출력하는 반복문을 설계해 보시오.\n",
    "\n",
    "One of the months of the year is January<br>\n",
    "One of the months of the year is February<br>\n",
    "One of the months of the year is March<br>\n",
    "...<br>\n",
    "One of the months of the year is December<br>"
   ]
  },
  {
   "cell_type": "code",
   "execution_count": 9,
   "id": "61454911-a0b1-482d-a1da-381c90490a33",
   "metadata": {},
   "outputs": [
    {
     "name": "stdout",
     "output_type": "stream",
     "text": [
      "One of the months of the year is Jan\n",
      "One of the months of the year is Feb\n",
      "One of the months of the year is Mar\n",
      "One of the months of the year is Apr\n",
      "One of the months of the year is May\n",
      "One of the months of the year is Jun\n",
      "One of the months of the year is Jul\n",
      "One of the months of the year is Aug\n",
      "One of the months of the year is Sep\n",
      "One of the months of the year is Oct\n",
      "One of the months of the year is Nov\n",
      "One of the months of the year is Dec\n"
     ]
    }
   ],
   "source": [
    "## 여기에 실행해 보세요.\n",
    "months = [\"Jan\",\"Feb\",\"Mar\",\"Apr\",\"May\",\"Jun\",\"Jul\",\"Aug\",\"Sep\",\"Oct\",\"Nov\",\"Dec\"]\n",
    "for i in months:\n",
    "    print(\"One of the months of the year is\", i)"
   ]
  },
  {
   "cell_type": "markdown",
   "id": "e5348f4f-fdeb-4f63-ad74-5c13af412a92",
   "metadata": {},
   "source": [
    "6-2. 주어진 8개의 섭씨온도 [15,30,25,30,75,60,95,100]에 대하여 각각을 화씨온도로 변환하여 출력하는 프로그램을 설계하시오"
   ]
  },
  {
   "cell_type": "code",
   "execution_count": 11,
   "id": "c5c86550-ade8-4a86-862f-4940958f61a5",
   "metadata": {},
   "outputs": [
    {
     "name": "stdout",
     "output_type": "stream",
     "text": [
      "40.333333333333336\n",
      "48.66666666666667\n",
      "45.888888888888886\n",
      "48.66666666666667\n",
      "73.66666666666667\n",
      "65.33333333333334\n",
      "84.77777777777777\n",
      "87.55555555555556\n"
     ]
    }
   ],
   "source": [
    "## 여기에 실행해 보세요.\n",
    "celc = [15,30,25,30,75,60,95,100]\n",
    "for i in celc:\n",
    "    ferh = i*(5/9)+32 #섭씨를 화씨로 변환\n",
    "    print(ferh)"
   ]
  },
  {
   "cell_type": "markdown",
   "id": "e95154a7-32b8-41b9-af56-46ed863fb378",
   "metadata": {},
   "source": [
    "6-3. 다음과 같은 숫자의 리스트 [11,10,31,3,66,17,42,99,20] 중에서 짝수만을 출력하는 프로그램을 설계해보시오"
   ]
  },
  {
   "cell_type": "code",
   "execution_count": 12,
   "id": "dd382cfc-e82b-454b-85e5-b5ee81b20c53",
   "metadata": {},
   "outputs": [
    {
     "name": "stdout",
     "output_type": "stream",
     "text": [
      "10\n",
      "66\n",
      "42\n",
      "20\n"
     ]
    }
   ],
   "source": [
    "## 여기에 실행해 보세요.\n",
    "numbers = [11,10,31,3,66,17,42,99,20]\n",
    "for i in numbers:\n",
    "    if i%2==0:\n",
    "        print(i)"
   ]
  },
  {
   "cell_type": "markdown",
   "id": "08b40f40-c2aa-4f27-b335-690b400062a5",
   "metadata": {},
   "source": [
    "6-4. 다음과 같이 *을 계단형태로 출력하고자 한다. 반복문을 사용하여 30층짜리 계단을 출력하는 프로그램을 설계해 보시오.<br>\n",
    "*<br>\n",
    "**<br>\n",
    "***<br>\n",
    "****<br>\n",
    "..."
   ]
  },
  {
   "cell_type": "code",
   "execution_count": 13,
   "id": "f18c9e67-cf70-4c60-a0a3-5c021a958a25",
   "metadata": {},
   "outputs": [
    {
     "name": "stdout",
     "output_type": "stream",
     "text": [
      "*\n",
      "**\n",
      "***\n",
      "****\n",
      "*****\n",
      "******\n",
      "*******\n",
      "********\n",
      "*********\n",
      "**********\n",
      "***********\n",
      "************\n",
      "*************\n",
      "**************\n",
      "***************\n",
      "****************\n",
      "*****************\n",
      "******************\n",
      "*******************\n",
      "********************\n",
      "*********************\n",
      "**********************\n",
      "***********************\n",
      "************************\n",
      "*************************\n",
      "**************************\n",
      "***************************\n",
      "****************************\n",
      "*****************************\n",
      "******************************\n"
     ]
    }
   ],
   "source": [
    "## 여기에 실행해 보세요.\n",
    "for i in range(30):\n",
    "    print('*'*(i+1))"
   ]
  },
  {
   "cell_type": "markdown",
   "id": "fea489fc-5346-4ff2-ad7e-dbc8caf8cbc9",
   "metadata": {},
   "source": [
    "## 연습문제 6: 반복문 2"
   ]
  },
  {
   "cell_type": "markdown",
   "id": "500f05db-e238-4b7d-a59c-8ee4b71c1cb5",
   "metadata": {},
   "source": [
    "6-5. 1부터 50까지 연속된 값의 곱(50 팩토리얼)을 계산해 보시오."
   ]
  },
  {
   "cell_type": "code",
   "execution_count": 14,
   "id": "b79d3ef2-e4de-44bb-b7a1-e0e71d00c619",
   "metadata": {},
   "outputs": [
    {
     "name": "stdout",
     "output_type": "stream",
     "text": [
      "30414093201713378043612608166064768844377641568960512000000000000\n"
     ]
    }
   ],
   "source": [
    "## 여기에 실행해 보세요.\n",
    "result = 1\n",
    "for i in range(50):\n",
    "    result = result * (i+1)\n",
    "print(result)"
   ]
  },
  {
   "cell_type": "markdown",
   "id": "f5f58fc4-c92d-423e-be86-3991cc72cbdd",
   "metadata": {},
   "source": [
    "6-6. 1부터 100까지의 연속된 값 중 홀수만 골라서 합하는 프로그램을 작성하시오."
   ]
  },
  {
   "cell_type": "code",
   "execution_count": 15,
   "id": "66979563-1c58-4f97-86a6-b2fd6809700c",
   "metadata": {},
   "outputs": [
    {
     "name": "stdout",
     "output_type": "stream",
     "text": [
      "2500\n"
     ]
    }
   ],
   "source": [
    "## 여기에 실행해 보세요.\n",
    "result = 0\n",
    "for i in range(100):\n",
    "    val = i+1 #루프에서 실제로 더하는 값\n",
    "    if val%2 == 1:\n",
    "        result = result + val\n",
    "print(result)"
   ]
  },
  {
   "cell_type": "markdown",
   "id": "069a166f-2c35-42d3-9325-5909d2e1b521",
   "metadata": {},
   "source": [
    "6-7. 1부터 100까지 연속된 정수 값 중 3의 배수 또는 7의 배수인 숫자의 갯수를 구하려고 한다.프로그램을 설계해 보시오."
   ]
  },
  {
   "cell_type": "code",
   "execution_count": 16,
   "id": "682cfc16-3a72-4a49-8e95-4464f2de6fd1",
   "metadata": {},
   "outputs": [
    {
     "name": "stdout",
     "output_type": "stream",
     "text": [
      "43\n"
     ]
    }
   ],
   "source": [
    "## 여기에 실행해 보세요.\n",
    "count = 0\n",
    "for i in range(100):\n",
    "    val = i+1\n",
    "    if (val %3 ==0) or (val %7==0):\n",
    "        count = count + 1\n",
    "print(count)"
   ]
  },
  {
   "cell_type": "markdown",
   "id": "3b2dcb1f-8390-4d8a-8a6f-9ca0391f7c6f",
   "metadata": {},
   "source": [
    "## 연습문제 6: while 반복문"
   ]
  },
  {
   "cell_type": "markdown",
   "id": "cb06b21d-fcae-42c9-9a63-594b5207add7",
   "metadata": {},
   "source": [
    "6-8. while을 이용하여 \"hello\"를 10번 반복하여 출력하는 프로그램을 만들어 보시오."
   ]
  },
  {
   "cell_type": "code",
   "execution_count": 17,
   "id": "490f610d-a4c7-442d-976f-636379f48918",
   "metadata": {},
   "outputs": [
    {
     "name": "stdout",
     "output_type": "stream",
     "text": [
      "hello\n",
      "hello\n",
      "hello\n",
      "hello\n",
      "hello\n",
      "hello\n",
      "hello\n",
      "hello\n",
      "hello\n",
      "hello\n"
     ]
    }
   ],
   "source": [
    "## 여기에 실행해 보세요.\n",
    "count = 0\n",
    "while count<10:\n",
    "    print('hello')\n",
    "    count = count + 1"
   ]
  },
  {
   "cell_type": "markdown",
   "id": "4ddb3950-2a24-4ad8-a9bd-3f98a032edee",
   "metadata": {},
   "source": [
    "6-9. while을 이용하여 1부터 100까지 숫자의 합을 더하여 그 값을 result에 저장해보시오."
   ]
  },
  {
   "cell_type": "code",
   "execution_count": 18,
   "id": "b5e35ac4-91ae-4dda-8e84-167368f4d002",
   "metadata": {},
   "outputs": [
    {
     "name": "stdout",
     "output_type": "stream",
     "text": [
      "55\n"
     ]
    }
   ],
   "source": [
    "## 여기에 실행해 보세요.\n",
    "result = 0\n",
    "count = 0\n",
    "while count<10:\n",
    "    count = count + 1\n",
    "    result = result + count\n",
    "print(result)"
   ]
  },
  {
   "cell_type": "markdown",
   "id": "6eb885a0-215b-4d33-9b39-fa2658d264c5",
   "metadata": {},
   "source": [
    "## 연습문제 6: continue, break"
   ]
  },
  {
   "cell_type": "markdown",
   "id": "7522bcf2-e753-468c-900d-90e1071cb8f4",
   "metadata": {},
   "source": [
    "6-10. while문을 이용하여 다음 프로그램을 만들어보시오. <br><br>\n",
    "이 프로그램은 0~9사이의 숫자를 맞추는 프로그램이다. 정답 숫자를 answer 변수에 저장되어 있다. 사용자가 입력한 값이 정답이 아니면 “틀렸습니다”가 출력되며, 옳은 정답을 입력하면 “맞았습니다”가 출력되고 프로그램이 끝나도록 설계되어있다. 이 프로그램을 실행해 보시오. <br><br>\n",
    "입력해보세요: 1<br>\n",
    "틀렸습니다.<br>\n",
    "입력해보세요: 2<br>\n",
    "틀렸습니다.<br>\n",
    "입력해보세요: 5<br>\n",
    "틀렸습니다.<br>\n",
    "입력해보세요: 9<br>\n",
    "틀렸습니다.<br>\n",
    "입력해보세요: 3<br>\n",
    "맞았습니다."
   ]
  },
  {
   "cell_type": "code",
   "execution_count": 21,
   "id": "8ed2f382-b6d6-413f-abaf-5227a1561949",
   "metadata": {},
   "outputs": [
    {
     "name": "stdin",
     "output_type": "stream",
     "text": [
      "입력해보세요:  2\n"
     ]
    },
    {
     "name": "stdout",
     "output_type": "stream",
     "text": [
      "틀렸습니다.\n"
     ]
    },
    {
     "name": "stdin",
     "output_type": "stream",
     "text": [
      "입력해보세요:  4\n"
     ]
    },
    {
     "name": "stdout",
     "output_type": "stream",
     "text": [
      "틀렸습니다.\n"
     ]
    },
    {
     "name": "stdin",
     "output_type": "stream",
     "text": [
      "입력해보세요:  3\n"
     ]
    },
    {
     "name": "stdout",
     "output_type": "stream",
     "text": [
      "맞았습니다.\n"
     ]
    }
   ],
   "source": [
    "## 여기에 실행해 보세요.\n",
    "answer = 3 #정답 저장\n",
    "while True:\n",
    "    val = input(\"입력해보세요: \")\n",
    "    if int(val) == answer:\n",
    "        print(\"맞았습니다.\")\n",
    "        break\n",
    "    else:\n",
    "        print(\"틀렸습니다.\")"
   ]
  },
  {
   "cell_type": "markdown",
   "id": "eada190f-993a-4d21-97df-584619f84e91",
   "metadata": {},
   "source": [
    "## 연습문제 6: 중첩 반복문"
   ]
  },
  {
   "cell_type": "markdown",
   "id": "fd6661b8-fa8a-46f5-b614-5b53540286ce",
   "metadata": {},
   "source": [
    "6-11. 다음과 같이 구구단을 출력하는 프로그램을 작성해보시오<br>\n",
    "\n",
    "1 * 1 = 1<br>\n",
    "1 * 2 = 2<br>\n",
    "..<br>\n",
    "9 * 8 = 72<br>\n",
    "9 * 9 = 81\n",
    "\n"
   ]
  },
  {
   "cell_type": "code",
   "execution_count": 22,
   "id": "acea8379-b16b-4c01-b0fa-c5bc105f4609",
   "metadata": {},
   "outputs": [
    {
     "name": "stdout",
     "output_type": "stream",
     "text": [
      "1 * 1 = 1\n",
      "1 * 2 = 2\n",
      "1 * 3 = 3\n",
      "1 * 4 = 4\n",
      "1 * 5 = 5\n",
      "1 * 6 = 6\n",
      "1 * 7 = 7\n",
      "1 * 8 = 8\n",
      "1 * 9 = 9\n",
      "2 * 1 = 2\n",
      "2 * 2 = 4\n",
      "2 * 3 = 6\n",
      "2 * 4 = 8\n",
      "2 * 5 = 10\n",
      "2 * 6 = 12\n",
      "2 * 7 = 14\n",
      "2 * 8 = 16\n",
      "2 * 9 = 18\n",
      "3 * 1 = 3\n",
      "3 * 2 = 6\n",
      "3 * 3 = 9\n",
      "3 * 4 = 12\n",
      "3 * 5 = 15\n",
      "3 * 6 = 18\n",
      "3 * 7 = 21\n",
      "3 * 8 = 24\n",
      "3 * 9 = 27\n",
      "4 * 1 = 4\n",
      "4 * 2 = 8\n",
      "4 * 3 = 12\n",
      "4 * 4 = 16\n",
      "4 * 5 = 20\n",
      "4 * 6 = 24\n",
      "4 * 7 = 28\n",
      "4 * 8 = 32\n",
      "4 * 9 = 36\n",
      "5 * 1 = 5\n",
      "5 * 2 = 10\n",
      "5 * 3 = 15\n",
      "5 * 4 = 20\n",
      "5 * 5 = 25\n",
      "5 * 6 = 30\n",
      "5 * 7 = 35\n",
      "5 * 8 = 40\n",
      "5 * 9 = 45\n",
      "6 * 1 = 6\n",
      "6 * 2 = 12\n",
      "6 * 3 = 18\n",
      "6 * 4 = 24\n",
      "6 * 5 = 30\n",
      "6 * 6 = 36\n",
      "6 * 7 = 42\n",
      "6 * 8 = 48\n",
      "6 * 9 = 54\n",
      "7 * 1 = 7\n",
      "7 * 2 = 14\n",
      "7 * 3 = 21\n",
      "7 * 4 = 28\n",
      "7 * 5 = 35\n",
      "7 * 6 = 42\n",
      "7 * 7 = 49\n",
      "7 * 8 = 56\n",
      "7 * 9 = 63\n",
      "8 * 1 = 8\n",
      "8 * 2 = 16\n",
      "8 * 3 = 24\n",
      "8 * 4 = 32\n",
      "8 * 5 = 40\n",
      "8 * 6 = 48\n",
      "8 * 7 = 56\n",
      "8 * 8 = 64\n",
      "8 * 9 = 72\n",
      "9 * 1 = 9\n",
      "9 * 2 = 18\n",
      "9 * 3 = 27\n",
      "9 * 4 = 36\n",
      "9 * 5 = 45\n",
      "9 * 6 = 54\n",
      "9 * 7 = 63\n",
      "9 * 8 = 72\n",
      "9 * 9 = 81\n"
     ]
    }
   ],
   "source": [
    "## 여기에 실행해 보세요.\n",
    "for i in range(9):\n",
    "    for j in range(9):\n",
    "        print(i+1,'*',j+1,'=',(i+1)*(j+1))"
   ]
  },
  {
   "cell_type": "markdown",
   "id": "0afe8b53-fd65-499c-a7ee-162da858f8de",
   "metadata": {},
   "source": [
    "6-12. for 반복문과 문자열 연산, if 조건문을 사용하여 다음과 같이 출력해보시오.<br>\n",
    "*<br>\n",
    "**<br>\n",
    "***<br>\n",
    "****<br>\n",
    "*****<br>\n",
    "****<br>\n",
    "***<br>\n",
    "**<br>\n",
    "*<br>"
   ]
  },
  {
   "cell_type": "code",
   "execution_count": 46,
   "id": "c4417320-ceea-4cbf-bcc4-be6696a08448",
   "metadata": {},
   "outputs": [
    {
     "name": "stdin",
     "output_type": "stream",
     "text": [
      "층수를 입력하세요:  11\n"
     ]
    },
    {
     "name": "stdout",
     "output_type": "stream",
     "text": [
      "*\n",
      "**\n",
      "***\n",
      "****\n",
      "*****\n",
      "******\n",
      "*****\n",
      "****\n",
      "***\n",
      "**\n",
      "*\n"
     ]
    }
   ],
   "source": [
    "rep = int(input(\"층수를 입력하세요: \"))\n",
    "for i in range(rep):\n",
    "    half = (rep//2)\n",
    "    cnt = i+1\n",
    "    if cnt<=half:\n",
    "        print('*'*(cnt))\n",
    "    else:\n",
    "        print('*'*((rep+1)-(cnt)))"
   ]
  },
  {
   "cell_type": "markdown",
   "id": "5005005c-a9ef-41b3-8efa-35d2fd217ec2",
   "metadata": {},
   "source": [
    "## 연습문제 7: 함수"
   ]
  },
  {
   "cell_type": "markdown",
   "id": "5505f0f4-9165-4262-a1b6-5005fdd28b04",
   "metadata": {},
   "source": [
    "7-1. 입력값 a,b를 순서대로 받아 a를 b로 나눈 몫과 나머지를 각각 반환하는 함수를 만들어보시오. 함수의 이름은 mok이다."
   ]
  },
  {
   "cell_type": "code",
   "execution_count": 29,
   "id": "84192bf7-a875-4822-881f-0f82c3d2b9f2",
   "metadata": {},
   "outputs": [],
   "source": [
    "def mok(a, b):\n",
    "    ## 여기에 작성해 보세요.\n",
    "    x = a//b\n",
    "    y = a%b    \n",
    "    ##\n",
    "    return x,y"
   ]
  },
  {
   "cell_type": "code",
   "execution_count": 30,
   "id": "67a451d1-0b31-4abc-a644-99947d30eab7",
   "metadata": {},
   "outputs": [
    {
     "name": "stdout",
     "output_type": "stream",
     "text": [
      "3 1\n"
     ]
    }
   ],
   "source": [
    "m,n = mok(7,2)\n",
    "print(m,n)"
   ]
  },
  {
   "cell_type": "markdown",
   "id": "3fab9f58-dad5-4bbb-8bbb-9d3f161a04ef",
   "metadata": {
    "tags": []
   },
   "source": [
    "7-2. 어떤 수 n을 입력하면 1부터 n까지의 합을 계산하여 출력하는 함수를 만들어보시오. "
   ]
  },
  {
   "cell_type": "code",
   "execution_count": 31,
   "id": "39825f64-9c53-48e8-898f-48eef8a1eaef",
   "metadata": {},
   "outputs": [],
   "source": [
    "def my_sum(number):    \n",
    "    ## 이 부분을 작성해 보시오.\n",
    "    result = 0\n",
    "    for i in range(number+1):\n",
    "        result = result + i    \n",
    "    ##\n",
    "    return result    "
   ]
  },
  {
   "cell_type": "code",
   "execution_count": 32,
   "id": "b3dfe40f-6de5-43b2-a45c-f5cc9cc9d3b0",
   "metadata": {},
   "outputs": [
    {
     "name": "stdout",
     "output_type": "stream",
     "text": [
      "55\n"
     ]
    }
   ],
   "source": [
    "y = my_sum(10)\n",
    "print(y) ## 55가 출력되어야 함"
   ]
  },
  {
   "cell_type": "markdown",
   "id": "0ad849f9-b33b-463e-b556-b90aa754d756",
   "metadata": {},
   "source": [
    "7-3. 어떤 수 n을 입력여 짝수면 True, 홀수면 False를 출력하는 함수를 만들어보시오."
   ]
  },
  {
   "cell_type": "code",
   "execution_count": 34,
   "id": "158d9e2c-3f55-4407-9329-70a6d54552c7",
   "metadata": {},
   "outputs": [],
   "source": [
    "def check_even(number):\n",
    "    ## 이 부분을 작성해 보시오.\n",
    "    if number %2 ==0:\n",
    "        result = True\n",
    "    else:\n",
    "        result = False   \n",
    "    ##\n",
    "    return result    "
   ]
  },
  {
   "cell_type": "code",
   "execution_count": 35,
   "id": "0d450a9d-6221-4e26-b0e2-9c8ed6566a0a",
   "metadata": {},
   "outputs": [
    {
     "name": "stdout",
     "output_type": "stream",
     "text": [
      "False\n"
     ]
    }
   ],
   "source": [
    "y = check_even(7)\n",
    "print(y) ## False가 출력되어야 함"
   ]
  },
  {
   "cell_type": "markdown",
   "id": "dae8d6b8-ca74-44b8-8744-95411381321f",
   "metadata": {},
   "source": [
    "7-4. 어떤수 n을 입력하면 1부터 n까지 짝수의 합만 계산하여 출력하는 함수를 만들어보시오. 위에서 작성한 check_even을 사용할 것.\n"
   ]
  },
  {
   "cell_type": "code",
   "execution_count": 36,
   "id": "f971af66-4dc5-4ac8-8c00-341f2fdecfa1",
   "metadata": {},
   "outputs": [],
   "source": [
    "def myEvenSum(n):\n",
    "    ## 이 부분을 작성해 보시오.\n",
    "    result = 0\n",
    "    for i in range(n+1):\n",
    "        if check_even(i):\n",
    "            result = result + i    \n",
    "    ##    \n",
    "    return result"
   ]
  },
  {
   "cell_type": "code",
   "execution_count": 37,
   "id": "750433f7-1eb9-4c6f-a974-694100e72952",
   "metadata": {},
   "outputs": [
    {
     "name": "stdout",
     "output_type": "stream",
     "text": [
      "12\n"
     ]
    }
   ],
   "source": [
    "y = myEvenSum(7)\n",
    "print(y) ## 2+4+6 = 12"
   ]
  }
 ],
 "metadata": {
  "kernelspec": {
   "display_name": "Python 3 (ipykernel)",
   "language": "python",
   "name": "python3"
  },
  "language_info": {
   "codemirror_mode": {
    "name": "ipython",
    "version": 3
   },
   "file_extension": ".py",
   "mimetype": "text/x-python",
   "name": "python",
   "nbconvert_exporter": "python",
   "pygments_lexer": "ipython3",
   "version": "3.8.10"
  },
  "toc": {
   "base_numbering": 1,
   "nav_menu": {},
   "number_sections": false,
   "sideBar": true,
   "skip_h1_title": false,
   "title_cell": "Table of Contents",
   "title_sidebar": "Contents",
   "toc_cell": false,
   "toc_position": {},
   "toc_section_display": true,
   "toc_window_display": false
  }
 },
 "nbformat": 4,
 "nbformat_minor": 5
}
