{
  "nbformat": 4,
  "nbformat_minor": 0,
  "metadata": {
    "colab": {
      "provenance": [],
      "collapsed_sections": []
    },
    "kernelspec": {
      "name": "python3",
      "display_name": "Python 3"
    },
    "language_info": {
      "name": "python"
    }
  },
  "cells": [
    {
      "cell_type": "markdown",
      "source": [
        "#베이즈 정리를 활용한 분류(참고)"
      ],
      "metadata": {
        "id": "J6pi1MTBSjR-"
      }
    },
    {
      "cell_type": "markdown",
      "source": [
        "##1. Data Generate"
      ],
      "metadata": {
        "id": "EpTWtntpSpip"
      }
    },
    {
      "cell_type": "code",
      "source": [
        "import pandas as pd\n",
        "import numpy as np\n",
        "\n",
        "# 데이터 프레임 생성\n",
        "data = pd.DataFrame()\n",
        "\n",
        "# target 변수 지정\n",
        "data['Gender'] = ['male','male','male','male','female','female','female','female']\n",
        "\n",
        "# 입력 변수 지정 \n",
        "data['Height'] = [6,5.92,5.58,5.92,5,5.5,5.42,5.75]\n",
        "data['Weight'] = [180,190,170,165,100,150,130,150]\n",
        "data['Foot_Size'] = [12,11,12,10,6,8,7,9]\n",
        "\n",
        "# View the data\n",
        "data"
      ],
      "metadata": {
        "colab": {
          "base_uri": "https://localhost:8080/",
          "height": 300
        },
        "id": "gXqo0u8i-93x",
        "outputId": "88740f1d-b842-4662-93cd-59d5cbe4a93d"
      },
      "execution_count": null,
      "outputs": [
        {
          "output_type": "execute_result",
          "data": {
            "text/plain": [
              "   Gender  Height  Weight  Foot_Size\n",
              "0    male    6.00     180         12\n",
              "1    male    5.92     190         11\n",
              "2    male    5.58     170         12\n",
              "3    male    5.92     165         10\n",
              "4  female    5.00     100          6\n",
              "5  female    5.50     150          8\n",
              "6  female    5.42     130          7\n",
              "7  female    5.75     150          9"
            ],
            "text/html": [
              "\n",
              "  <div id=\"df-24326504-66be-4b0e-9e66-44026cc8c05a\">\n",
              "    <div class=\"colab-df-container\">\n",
              "      <div>\n",
              "<style scoped>\n",
              "    .dataframe tbody tr th:only-of-type {\n",
              "        vertical-align: middle;\n",
              "    }\n",
              "\n",
              "    .dataframe tbody tr th {\n",
              "        vertical-align: top;\n",
              "    }\n",
              "\n",
              "    .dataframe thead th {\n",
              "        text-align: right;\n",
              "    }\n",
              "</style>\n",
              "<table border=\"1\" class=\"dataframe\">\n",
              "  <thead>\n",
              "    <tr style=\"text-align: right;\">\n",
              "      <th></th>\n",
              "      <th>Gender</th>\n",
              "      <th>Height</th>\n",
              "      <th>Weight</th>\n",
              "      <th>Foot_Size</th>\n",
              "    </tr>\n",
              "  </thead>\n",
              "  <tbody>\n",
              "    <tr>\n",
              "      <th>0</th>\n",
              "      <td>male</td>\n",
              "      <td>6.00</td>\n",
              "      <td>180</td>\n",
              "      <td>12</td>\n",
              "    </tr>\n",
              "    <tr>\n",
              "      <th>1</th>\n",
              "      <td>male</td>\n",
              "      <td>5.92</td>\n",
              "      <td>190</td>\n",
              "      <td>11</td>\n",
              "    </tr>\n",
              "    <tr>\n",
              "      <th>2</th>\n",
              "      <td>male</td>\n",
              "      <td>5.58</td>\n",
              "      <td>170</td>\n",
              "      <td>12</td>\n",
              "    </tr>\n",
              "    <tr>\n",
              "      <th>3</th>\n",
              "      <td>male</td>\n",
              "      <td>5.92</td>\n",
              "      <td>165</td>\n",
              "      <td>10</td>\n",
              "    </tr>\n",
              "    <tr>\n",
              "      <th>4</th>\n",
              "      <td>female</td>\n",
              "      <td>5.00</td>\n",
              "      <td>100</td>\n",
              "      <td>6</td>\n",
              "    </tr>\n",
              "    <tr>\n",
              "      <th>5</th>\n",
              "      <td>female</td>\n",
              "      <td>5.50</td>\n",
              "      <td>150</td>\n",
              "      <td>8</td>\n",
              "    </tr>\n",
              "    <tr>\n",
              "      <th>6</th>\n",
              "      <td>female</td>\n",
              "      <td>5.42</td>\n",
              "      <td>130</td>\n",
              "      <td>7</td>\n",
              "    </tr>\n",
              "    <tr>\n",
              "      <th>7</th>\n",
              "      <td>female</td>\n",
              "      <td>5.75</td>\n",
              "      <td>150</td>\n",
              "      <td>9</td>\n",
              "    </tr>\n",
              "  </tbody>\n",
              "</table>\n",
              "</div>\n",
              "      <button class=\"colab-df-convert\" onclick=\"convertToInteractive('df-24326504-66be-4b0e-9e66-44026cc8c05a')\"\n",
              "              title=\"Convert this dataframe to an interactive table.\"\n",
              "              style=\"display:none;\">\n",
              "        \n",
              "  <svg xmlns=\"http://www.w3.org/2000/svg\" height=\"24px\"viewBox=\"0 0 24 24\"\n",
              "       width=\"24px\">\n",
              "    <path d=\"M0 0h24v24H0V0z\" fill=\"none\"/>\n",
              "    <path d=\"M18.56 5.44l.94 2.06.94-2.06 2.06-.94-2.06-.94-.94-2.06-.94 2.06-2.06.94zm-11 1L8.5 8.5l.94-2.06 2.06-.94-2.06-.94L8.5 2.5l-.94 2.06-2.06.94zm10 10l.94 2.06.94-2.06 2.06-.94-2.06-.94-.94-2.06-.94 2.06-2.06.94z\"/><path d=\"M17.41 7.96l-1.37-1.37c-.4-.4-.92-.59-1.43-.59-.52 0-1.04.2-1.43.59L10.3 9.45l-7.72 7.72c-.78.78-.78 2.05 0 2.83L4 21.41c.39.39.9.59 1.41.59.51 0 1.02-.2 1.41-.59l7.78-7.78 2.81-2.81c.8-.78.8-2.07 0-2.86zM5.41 20L4 18.59l7.72-7.72 1.47 1.35L5.41 20z\"/>\n",
              "  </svg>\n",
              "      </button>\n",
              "      \n",
              "  <style>\n",
              "    .colab-df-container {\n",
              "      display:flex;\n",
              "      flex-wrap:wrap;\n",
              "      gap: 12px;\n",
              "    }\n",
              "\n",
              "    .colab-df-convert {\n",
              "      background-color: #E8F0FE;\n",
              "      border: none;\n",
              "      border-radius: 50%;\n",
              "      cursor: pointer;\n",
              "      display: none;\n",
              "      fill: #1967D2;\n",
              "      height: 32px;\n",
              "      padding: 0 0 0 0;\n",
              "      width: 32px;\n",
              "    }\n",
              "\n",
              "    .colab-df-convert:hover {\n",
              "      background-color: #E2EBFA;\n",
              "      box-shadow: 0px 1px 2px rgba(60, 64, 67, 0.3), 0px 1px 3px 1px rgba(60, 64, 67, 0.15);\n",
              "      fill: #174EA6;\n",
              "    }\n",
              "\n",
              "    [theme=dark] .colab-df-convert {\n",
              "      background-color: #3B4455;\n",
              "      fill: #D2E3FC;\n",
              "    }\n",
              "\n",
              "    [theme=dark] .colab-df-convert:hover {\n",
              "      background-color: #434B5C;\n",
              "      box-shadow: 0px 1px 3px 1px rgba(0, 0, 0, 0.15);\n",
              "      filter: drop-shadow(0px 1px 2px rgba(0, 0, 0, 0.3));\n",
              "      fill: #FFFFFF;\n",
              "    }\n",
              "  </style>\n",
              "\n",
              "      <script>\n",
              "        const buttonEl =\n",
              "          document.querySelector('#df-24326504-66be-4b0e-9e66-44026cc8c05a button.colab-df-convert');\n",
              "        buttonEl.style.display =\n",
              "          google.colab.kernel.accessAllowed ? 'block' : 'none';\n",
              "\n",
              "        async function convertToInteractive(key) {\n",
              "          const element = document.querySelector('#df-24326504-66be-4b0e-9e66-44026cc8c05a');\n",
              "          const dataTable =\n",
              "            await google.colab.kernel.invokeFunction('convertToInteractive',\n",
              "                                                     [key], {});\n",
              "          if (!dataTable) return;\n",
              "\n",
              "          const docLinkHtml = 'Like what you see? Visit the ' +\n",
              "            '<a target=\"_blank\" href=https://colab.research.google.com/notebooks/data_table.ipynb>data table notebook</a>'\n",
              "            + ' to learn more about interactive tables.';\n",
              "          element.innerHTML = '';\n",
              "          dataTable['output_type'] = 'display_data';\n",
              "          await google.colab.output.renderOutput(dataTable, element);\n",
              "          const docLink = document.createElement('div');\n",
              "          docLink.innerHTML = docLinkHtml;\n",
              "          element.appendChild(docLink);\n",
              "        }\n",
              "      </script>\n",
              "    </div>\n",
              "  </div>\n",
              "  "
            ]
          },
          "metadata": {},
          "execution_count": 27
        }
      ]
    },
    {
      "cell_type": "code",
      "source": [
        "# Create an empty dataframe\n",
        "person = pd.DataFrame()\n",
        "\n",
        "# Create some feature values for this single row\n",
        "person['Height'] = [6]\n",
        "person['Weight'] = [130]\n",
        "person['Foot_Size'] = [8]\n",
        "\n",
        "# View the data \n",
        "person"
      ],
      "metadata": {
        "colab": {
          "base_uri": "https://localhost:8080/",
          "height": 81
        },
        "id": "fmlm0zz4_DG_",
        "outputId": "08b25250-d8bc-4662-e0d9-37019cf76aa5"
      },
      "execution_count": null,
      "outputs": [
        {
          "output_type": "execute_result",
          "data": {
            "text/plain": [
              "   Height  Weight  Foot_Size\n",
              "0       6     130          8"
            ],
            "text/html": [
              "\n",
              "  <div id=\"df-7b6f167f-7420-42e3-871a-51bb834b914d\">\n",
              "    <div class=\"colab-df-container\">\n",
              "      <div>\n",
              "<style scoped>\n",
              "    .dataframe tbody tr th:only-of-type {\n",
              "        vertical-align: middle;\n",
              "    }\n",
              "\n",
              "    .dataframe tbody tr th {\n",
              "        vertical-align: top;\n",
              "    }\n",
              "\n",
              "    .dataframe thead th {\n",
              "        text-align: right;\n",
              "    }\n",
              "</style>\n",
              "<table border=\"1\" class=\"dataframe\">\n",
              "  <thead>\n",
              "    <tr style=\"text-align: right;\">\n",
              "      <th></th>\n",
              "      <th>Height</th>\n",
              "      <th>Weight</th>\n",
              "      <th>Foot_Size</th>\n",
              "    </tr>\n",
              "  </thead>\n",
              "  <tbody>\n",
              "    <tr>\n",
              "      <th>0</th>\n",
              "      <td>6</td>\n",
              "      <td>130</td>\n",
              "      <td>8</td>\n",
              "    </tr>\n",
              "  </tbody>\n",
              "</table>\n",
              "</div>\n",
              "      <button class=\"colab-df-convert\" onclick=\"convertToInteractive('df-7b6f167f-7420-42e3-871a-51bb834b914d')\"\n",
              "              title=\"Convert this dataframe to an interactive table.\"\n",
              "              style=\"display:none;\">\n",
              "        \n",
              "  <svg xmlns=\"http://www.w3.org/2000/svg\" height=\"24px\"viewBox=\"0 0 24 24\"\n",
              "       width=\"24px\">\n",
              "    <path d=\"M0 0h24v24H0V0z\" fill=\"none\"/>\n",
              "    <path d=\"M18.56 5.44l.94 2.06.94-2.06 2.06-.94-2.06-.94-.94-2.06-.94 2.06-2.06.94zm-11 1L8.5 8.5l.94-2.06 2.06-.94-2.06-.94L8.5 2.5l-.94 2.06-2.06.94zm10 10l.94 2.06.94-2.06 2.06-.94-2.06-.94-.94-2.06-.94 2.06-2.06.94z\"/><path d=\"M17.41 7.96l-1.37-1.37c-.4-.4-.92-.59-1.43-.59-.52 0-1.04.2-1.43.59L10.3 9.45l-7.72 7.72c-.78.78-.78 2.05 0 2.83L4 21.41c.39.39.9.59 1.41.59.51 0 1.02-.2 1.41-.59l7.78-7.78 2.81-2.81c.8-.78.8-2.07 0-2.86zM5.41 20L4 18.59l7.72-7.72 1.47 1.35L5.41 20z\"/>\n",
              "  </svg>\n",
              "      </button>\n",
              "      \n",
              "  <style>\n",
              "    .colab-df-container {\n",
              "      display:flex;\n",
              "      flex-wrap:wrap;\n",
              "      gap: 12px;\n",
              "    }\n",
              "\n",
              "    .colab-df-convert {\n",
              "      background-color: #E8F0FE;\n",
              "      border: none;\n",
              "      border-radius: 50%;\n",
              "      cursor: pointer;\n",
              "      display: none;\n",
              "      fill: #1967D2;\n",
              "      height: 32px;\n",
              "      padding: 0 0 0 0;\n",
              "      width: 32px;\n",
              "    }\n",
              "\n",
              "    .colab-df-convert:hover {\n",
              "      background-color: #E2EBFA;\n",
              "      box-shadow: 0px 1px 2px rgba(60, 64, 67, 0.3), 0px 1px 3px 1px rgba(60, 64, 67, 0.15);\n",
              "      fill: #174EA6;\n",
              "    }\n",
              "\n",
              "    [theme=dark] .colab-df-convert {\n",
              "      background-color: #3B4455;\n",
              "      fill: #D2E3FC;\n",
              "    }\n",
              "\n",
              "    [theme=dark] .colab-df-convert:hover {\n",
              "      background-color: #434B5C;\n",
              "      box-shadow: 0px 1px 3px 1px rgba(0, 0, 0, 0.15);\n",
              "      filter: drop-shadow(0px 1px 2px rgba(0, 0, 0, 0.3));\n",
              "      fill: #FFFFFF;\n",
              "    }\n",
              "  </style>\n",
              "\n",
              "      <script>\n",
              "        const buttonEl =\n",
              "          document.querySelector('#df-7b6f167f-7420-42e3-871a-51bb834b914d button.colab-df-convert');\n",
              "        buttonEl.style.display =\n",
              "          google.colab.kernel.accessAllowed ? 'block' : 'none';\n",
              "\n",
              "        async function convertToInteractive(key) {\n",
              "          const element = document.querySelector('#df-7b6f167f-7420-42e3-871a-51bb834b914d');\n",
              "          const dataTable =\n",
              "            await google.colab.kernel.invokeFunction('convertToInteractive',\n",
              "                                                     [key], {});\n",
              "          if (!dataTable) return;\n",
              "\n",
              "          const docLinkHtml = 'Like what you see? Visit the ' +\n",
              "            '<a target=\"_blank\" href=https://colab.research.google.com/notebooks/data_table.ipynb>data table notebook</a>'\n",
              "            + ' to learn more about interactive tables.';\n",
              "          element.innerHTML = '';\n",
              "          dataTable['output_type'] = 'display_data';\n",
              "          await google.colab.output.renderOutput(dataTable, element);\n",
              "          const docLink = document.createElement('div');\n",
              "          docLink.innerHTML = docLinkHtml;\n",
              "          element.appendChild(docLink);\n",
              "        }\n",
              "      </script>\n",
              "    </div>\n",
              "  </div>\n",
              "  "
            ]
          },
          "metadata": {},
          "execution_count": 28
        }
      ]
    },
    {
      "cell_type": "markdown",
      "source": [
        "Height = 6, Weight = 130, Foot_Size = 8 인 사람의 성별은 무엇일까?"
      ],
      "metadata": {
        "id": "YDEdV9JzUFhJ"
      }
    },
    {
      "cell_type": "markdown",
      "source": [
        "##2. Naive Bayes 분류기"
      ],
      "metadata": {
        "id": "U_qRm9TtTIh2"
      }
    },
    {
      "cell_type": "markdown",
      "source": [
        "* 베이즈 정리\n",
        "\n",
        "![image.png](data:image/png;base64,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)"
      ],
      "metadata": {
        "id": "Q1Gj9m-E_ZEA"
      }
    },
    {
      "cell_type": "markdown",
      "source": [
        "사전확률(Prior Probability)\n",
        " - 현재 가지고 있는 정보를 기초로하여 정한 초기 확률 \n",
        " - 확률 시행 전에 이미 가지고 있는 지식을 통해 부여한 확률\n",
        " - ex) 동전을 던져 앞면이 나올 확률 : 1/2\n",
        "\n",
        "\n",
        "사후 확률 ( Posteriori Probability)\n",
        " - 사건 발생 후에 어떤 원인으로부터 일어난 것이라고 생각되어지는 확률\n",
        " - 추가된 정보로부터 사전정보를 새롭게 수정한 확률 ( 수정 확률 )\n",
        " - 조건부 확률을 통해 사후확률을 표현할 수 있으며, 사후확률은 베이즈 정리로 부터 계산가능\n",
        "\n",
        "\n",
        "가능도, 우도(Likelihood)\n",
        "  * https://jjangjjong.tistory.com/41"
      ],
      "metadata": {
        "id": "zql5A4li_ljZ"
      }
    },
    {
      "cell_type": "code",
      "source": [
        "# 사전확률 계산\n",
        "\n",
        "# 남성 수\n",
        "n_male = data['Gender'][data['Gender'] == 'male'].count()\n",
        "# 여성 수\n",
        "n_female = data['Gender'][data['Gender'] == 'female'].count()\n",
        "\n",
        "# 전체 인원 수 \n",
        "total_ppl = data['Gender'].count()"
      ],
      "metadata": {
        "id": "XK9KuogZ_EIS"
      },
      "execution_count": null,
      "outputs": []
    },
    {
      "cell_type": "code",
      "source": [
        "print(n_male)\n",
        "print(n_female)\n",
        "print(total_ppl)"
      ],
      "metadata": {
        "colab": {
          "base_uri": "https://localhost:8080/"
        },
        "id": "yZlJfPMn_8SX",
        "outputId": "a53ee130-2c1f-4c70-cc30-502a31404d6a"
      },
      "execution_count": null,
      "outputs": [
        {
          "output_type": "stream",
          "name": "stdout",
          "text": [
            "4\n",
            "4\n",
            "8\n"
          ]
        }
      ]
    },
    {
      "cell_type": "code",
      "source": [
        "# 남성일 확률\n",
        "p_male = n_male/total_ppl\n",
        "\n",
        "# 여성일 확률\n",
        "p_female = n_female/total_ppl\n",
        "\n",
        "print(p_male)\n",
        "print(p_female)"
      ],
      "metadata": {
        "colab": {
          "base_uri": "https://localhost:8080/"
        },
        "id": "HagJ-q9k_9TR",
        "outputId": "38ac895b-211b-4590-e585-1d37c8a7bd1e"
      },
      "execution_count": null,
      "outputs": [
        {
          "output_type": "stream",
          "name": "stdout",
          "text": [
            "0.5\n",
            "0.5\n"
          ]
        }
      ]
    },
    {
      "cell_type": "markdown",
      "source": [
        "* Likelihood 계산"
      ],
      "metadata": {
        "id": "I-uyUY2OHvow"
      }
    },
    {
      "cell_type": "markdown",
      "source": [
        "![캡처.JPG](data:image/jpeg;base64,/9j/4AAQSkZJRgABAQEAYABgAAD/4RDiRXhpZgAATU0AKgAAAAgABAE7AAIAAAAIAAAISodpAAQAAAABAAAIUpydAAEAAAAQAAAQyuocAAcAAAgMAAAAPgAAAAAc6gAAAAgAAAAAAAAAAAAAAAAAAAAAAAAAAAAAAAAAAAAAAAAAAAAAAAAAAAAAAAAAAAAAAAAAAAAAAAAAAAAAAAAAAAAAAAAAAAAAAAAAAAAAAAAAAAAAAAAAAAAAAAAAAAAAAAAAAAAAAAAAAAAAAAAAAAAAAAAAAAAAAAAAAAAAAAAAAAAAAAAAAAAAAAAAAAAAAAAAAAAAAAAAAAAAAAAAAAAAAAAAAAAAAAAAAAAAAAAAAAAAAAAAAAAAAAAAAAAAAAAAAAAAAAAAAAAAAAAAAAAAAAAAAAAAAAAAAAAAAAAAAAAAAAAAAAAAAAAAAAAAAAAAAAAAAAAAAAAAAAAAAAAAAAAAAAAAAAAAAAAAAAAAAAAAAAAAAAAAAAAAAAAAAAAAAAAAAAAAAAAAAAAAAAAAAAAAAAAAAAAAAAAAAAAAAAAAAAAAAAAAAAAAAAAAAAAAAAAAAAAAAAAAAAAAAAAAAAAAAAAAAAAAAAAAAAAAAAAAAAAAAAAAAAAAAAAAAAAAAAAAAAAAAAAAAAAAAAAAAAAAAAAAAAAAAAAAAAAAAAAAAAAAAAAAAAAAAAAAAAAAAAAAAAAAAAAAAAAAAAAAAAAAAAAAAAAAAAAAAAAAAAAAAAAAAAAAAAAAAAAAAAAAAAAAAAAAAAAAAAAAAAAAAAAAAAAAAAAAAAAAAAAAAAAAAAAAAAAAAAAAAAAAAAAAAAAAAAAAAAAAAAAAAAAAAAAAAAAAAAAAAAAAAAAAAAAAAAAAAAAAAAAAAAAAAAAAAAAAAAAAAAAAAAAAAAAAAAAAAAAAAAAAAAAAAAAAAAAAAAAAAAAAAAAAAAAAAAAAAAAAAAAAAAAAAAAAAAAAAAAAAAAAAAAAAAAAAAAAAAAAAAAAAAAAAAAAAAAAAAAAAAAAAAAAAAAAAAAAAAAAAAAAAAAAAAAAAAAAAAAAAAAAAAAAAAAAAAAAAAAAAAAAAAAAAAAAAAAAAAAAAAAAAAAAAAAAAAAAAAAAAAAAAAAAAAAAAAAAAAAAAAAAAAAAAAAAAAAAAAAAAAAAAAAAAAAAAAAAAAAAAAAAAAAAAAAAAAAAAAAAAAAAAAAAAAAAAAAAAAAAAAAAAAAAAAAAAAAAAAAAAAAAAAAAAAAAAAAAAAAAAAAAAAAAAAAAAAAAAAAAAAAAAAAAAAAAAAAAAAAAAAAAAAAAAAAAAAAAAAAAAAAAAAAAAAAAAAAAAAAAAAAAAAAAAAAAAAAAAAAAAAAAAAAAAAAAAAAAAAAAAAAAAAAAAAAAAAAAAAAAAAAAAAAAAAAAAAAAAAAAAAAAAAAAAAAAAAAAAAAAAAAAAAAAAAAAAAAAAAAAAAAAAAAAAAAAAAAAAAAAAAAAAAAAAAAAAAAAAAAAAAAAAAAAAAAAAAAAAAAAAAAAAAAAAAAAAAAAAAAAAAAAAAAAAAAAAAAAAAAAAAAAAAAAAAAAAAAAAAAAAAAAAAAAAAAAAAAAAAAAAAAAAAAAAAAAAAAAAAAAAAAAAAAAAAAAAAAAAAAAAAAAAAAAAAAAAAAAAAAAAAAAAAAAAAAAAAAAAAAAAAAAAAAAAAAAAAAAAAAAAAAAAAAAAAAAAAAAAAAAAAAAAAAAAAAAAAAAAAAAAAAAAAAAAAAAAAAAAAAAAAAAAAAAAAAAAAAAAAAAAAAAAAAAAAAAAAAAAAAAAAAAAAAAAAAAAAAAAAAAAAAAAAAAAAAAAAAAAAAAAAAAAAAAAAAAAAAAAAAAAAAAAAAAAAAAAAAAAAAAAAAAAAAAAAAAAAAAAAAAAAAAAAAAAAAAAAAAAAAAAAAAAAAAAAAAAAAAAAAAAAAAAAAAAAAAAAAAAAAAAAAAAAAAAAAAAAAAAAAAAAAAAAAAAAAAAAAAAAAAAAAAAAAAAAAAAAAAAAAAAAAAAAAAAAAAAAAAAAAAAAAAAAAAAAAAAAAAAAAAAAAAAAAAAAAAAAAAAAAAAAAAAAAAAAAAAAAAAAAAAAAAAAAAAAAAAAAAAAAAAAAAAAAAAAAAAAAAAAAAAAAAAAAAAAAAAAAAAAAAAAAAAAAAAAAAAAAAAAAAAAAAAAAAAAAAAAAAAAAAAAAAAAAAAAAAAAAAAAAAAAAAAAAAAAAAAAAAAAAAAAAAAAAAAAAAAAAAAAAAAAAAAAAAAAAAAAAAAAAAAAAAAAAAAAAAAAAAAAAAAAAAAAAAAAAAAAAAAAAAAAAAAAAAAAAAAAAAAAAAAAAAAAAAAAAAAAAAAAAAAAAAAAAAAAAAAAAAAAAAAAAAAAAAAAAAAAAAAAAAAAAAAAAAAAAAAAAAAAAAAAAAAAAAAAAAAAAAAAAAAAAAAAAAAAAAAAAAAAAAAAAAAAAAAAAAAAAAAAAAAAAAAAAAAAAAAAAAAAAAAAAAAAAAAAAAAAAAAAAAAAAAAAAAAAAAAAAAAAAAAAAAAAAAAAAAAAAAAAAAAAAAAAAAAAAAAAAAAAAAAAAAAAAAAAAAAAAAAAAAAAAAAAAAAAAAAAAAAAAAAAAAAAAAAAAAAAAAAAAAAAAAAAAAAAAAAAAAAAAAAAAAAAAAAAAAAAAAAAAAAAAAAAAAAAAAAAAAAAAAAAAAAAAAAAAAAAAAAAAAAAAAAAAAAAAAAAAAAAAAAAAAAAAAAAAAAAAAAAAAAAAAAAAAAAAAAAAAAAAAAAAAAAAAAAAAAAAAAAAAAAAAAAAAAAAAAAAAAAAAAAAAAAAAAAAAAAAAAAAAAAAAAAAAAAAAAAAAAAAAAGlvY2hvcmQAAAWQAwACAAAAFAAAEKCQBAACAAAAFAAAELSSkQACAAAAAzIwAACSkgACAAAAAzIwAADqHAAHAAAIDAAACJQAAAAAHOoAAAAIAAAAAAAAAAAAAAAAAAAAAAAAAAAAAAAAAAAAAAAAAAAAAAAAAAAAAAAAAAAAAAAAAAAAAAAAAAAAAAAAAAAAAAAAAAAAAAAAAAAAAAAAAAAAAAAAAAAAAAAAAAAAAAAAAAAAAAAAAAAAAAAAAAAAAAAAAAAAAAAAAAAAAAAAAAAAAAAAAAAAAAAAAAAAAAAAAAAAAAAAAAAAAAAAAAAAAAAAAAAAAAAAAAAAAAAAAAAAAAAAAAAAAAAAAAAAAAAAAAAAAAAAAAAAAAAAAAAAAAAAAAAAAAAAAAAAAAAAAAAAAAAAAAAAAAAAAAAAAAAAAAAAAAAAAAAAAAAAAAAAAAAAAAAAAAAAAAAAAAAAAAAAAAAAAAAAAAAAAAAAAAAAAAAAAAAAAAAAAAAAAAAAAAAAAAAAAAAAAAAAAAAAAAAAAAAAAAAAAAAAAAAAAAAAAAAAAAAAAAAAAAAAAAAAAAAAAAAAAAAAAAAAAAAAAAAAAAAAAAAAAAAAAAAAAAAAAAAAAAAAAAAAAAAAAAAAAAAAAAAAAAAAAAAAAAAAAAAAAAAAAAAAAAAAAAAAAAAAAAAAAAAAAAAAAAAAAAAAAAAAAAAAAAAAAAAAAAAAAAAAAAAAAAAAAAAAAAAAAAAAAAAAAAAAAAAAAAAAAAAAAAAAAAAAAAAAAAAAAAAAAAAAAAAAAAAAAAAAAAAAAAAAAAAAAAAAAAAAAAAAAAAAAAAAAAAAAAAAAAAAAAAAAAAAAAAAAAAAAAAAAAAAAAAAAAAAAAAAAAAAAAAAAAAAAAAAAAAAAAAAAAAAAAAAAAAAAAAAAAAAAAAAAAAAAAAAAAAAAAAAAAAAAAAAAAAAAAAAAAAAAAAAAAAAAAAAAAAAAAAAAAAAAAAAAAAAAAAAAAAAAAAAAAAAAAAAAAAAAAAAAAAAAAAAAAAAAAAAAAAAAAAAAAAAAAAAAAAAAAAAAAAAAAAAAAAAAAAAAAAAAAAAAAAAAAAAAAAAAAAAAAAAAAAAAAAAAAAAAAAAAAAAAAAAAAAAAAAAAAAAAAAAAAAAAAAAAAAAAAAAAAAAAAAAAAAAAAAAAAAAAAAAAAAAAAAAAAAAAAAAAAAAAAAAAAAAAAAAAAAAAAAAAAAAAAAAAAAAAAAAAAAAAAAAAAAAAAAAAAAAAAAAAAAAAAAAAAAAAAAAAAAAAAAAAAAAAAAAAAAAAAAAAAAAAAAAAAAAAAAAAAAAAAAAAAAAAAAAAAAAAAAAAAAAAAAAAAAAAAAAAAAAAAAAAAAAAAAAAAAAAAAAAAAAAAAAAAAAAAAAAAAAAAAAAAAAAAAAAAAAAAAAAAAAAAAAAAAAAAAAAAAAAAAAAAAAAAAAAAAAAAAAAAAAAAAAAAAAAAAAAAAAAAAAAAAAAAAAAAAAAAAAAAAAAAAAAAAAAAAAAAAAAAAAAAAAAAAAAAAAAAAAAAAAAAAAAAAAAAAAAAAAAAAAAAAAAAAAAAAAAAAAAAAAAAAAAAAAAAAAAAAAAAAAAAAAAAAAAAAAAAAAAAAAAAAAAAAAAAAAAAAAAAAAAAAAAAAAAAAAAAAAAAAAAAAAAAAAAAAAAAAAAAAAAAAAAAAAAAAAAAAAAAAAAAAAAAAAAAAAAAAAAAAAAAAAAAAAAAAAAAAAAAAAAAAAAAAAAAAAAAAAAAAAAAAAAAAAAAAAAAAAAAAAAAAAAAAAAAAAAAAAAAAAAAAAAAAAAAAAAAAAAAAAAAAAAAAAAAAAAAAAAAAAAAAAAAAAAAAAAAAAAAAAAAAAAAAAAAAAAAAAAAAAAAAAAAAAAAAAAAAAAAAAAAAAAAAAAAAAAAAAAAAAAAAAAAAAAAAAAAAAAAAAAAAAAAAAAAAAAAAAAAAAAAAAAAAAAAAAAAAAAAAAAAAAAAAAAAAAAAAAAAAAAAAAAAAAAAAAAAAAAAAAAAAAAAAAAAAAAAAAAAAAAAAAAAAAAAAAAAAAAAAAAAAAAAAAAAAAAAAAAAAAAAAAAAAAAAAAAAAAAAAAAAAAAAAAAAAAAAAAAAAAAAAAAAAAAAAAAAAAAAAAAAAAAAAAAAAAAAAAAAAAAAAAAAAAAAAAAAAAAAAAAAAAAAAAAAAAAAAAAAAAAAAAAAAAAAAAAAAAAAAAAAAAAAAAAAAAAAAAAAAAAAAAAAAAAAAAAAAAAAAAAAAAAAAAAAAAAAAAAAAAAAAAAAAAAAAAAAAAAAAAAAAAAAAAAAAAAAAAAAAAAAAAAAAAAAAAAAAAAAAAAAAAAAAAAAAAAAAAAAAAAAAAAAAAAAAAAAAAAAAAAAAAAAAAAAAAAAAAAAAAAAAAAAAAAAAAAAAAAAAAAAAAAAAAAAAAAAAAAAAAAAAAAAAAAAAAAAAAAAAAAAAAAAAAAAAAAAAAAAAAAAAAAAAAAAAAAAAAAAAAAAAAAAAAAAAAAAAAAAAAAAAAAAAAAAAAAAAAAAAAAAAAAAAAAAAAAAAAAAAAAAAAAAAAAAAAAAAAAAAAAAAAAAAAAAAAAAAAAAAAAAAAAAAAAAAAAAAAAAAAAAAAAAAAAAAAAAAAAAAAAAAAAAAAAAAAAAAAAAAAAAAAAAAAAAAAAAAAAAAAAAAAAAAAAAAAAAAAAAAAAAAAAAAAAAAAAAAAAAAAAAAAAAAAAAAAAAAAAAAAAAAAAAAAAAAAAAAAAAAAAAAAAAAAAAAAAAAAAAAAAAAAAAAAAAAAAAAAAAAAAAAAAAAAAAAAAAAAAAAAAAAAAAAAAAAyMDIwOjEwOjI1IDE3OjIyOjU4ADIwMjA6MTA6MjUgMTc6MjI6NTgAAABpAG8AYwBoAG8AcgBkAAAA/+ELGmh0dHA6Ly9ucy5hZG9iZS5jb20veGFwLzEuMC8APD94cGFja2V0IGJlZ2luPSfvu78nIGlkPSdXNU0wTXBDZWhpSHpyZVN6TlRjemtjOWQnPz4NCjx4OnhtcG1ldGEgeG1sbnM6eD0iYWRvYmU6bnM6bWV0YS8iPjxyZGY6UkRGIHhtbG5zOnJkZj0iaHR0cDovL3d3dy53My5vcmcvMTk5OS8wMi8yMi1yZGYtc3ludGF4LW5zIyI+PHJkZjpEZXNjcmlwdGlvbiByZGY6YWJvdXQ9InV1aWQ6ZmFmNWJkZDUtYmEzZC0xMWRhLWFkMzEtZDMzZDc1MTgyZjFiIiB4bWxuczpkYz0iaHR0cDovL3B1cmwub3JnL2RjL2VsZW1lbnRzLzEuMS8iLz48cmRmOkRlc2NyaXB0aW9uIHJkZjphYm91dD0idXVpZDpmYWY1YmRkNS1iYTNkLTExZGEtYWQzMS1kMzNkNzUxODJmMWIiIHhtbG5zOnhtcD0iaHR0cDovL25zLmFkb2JlLmNvbS94YXAvMS4wLyI+PHhtcDpDcmVhdGVEYXRlPjIwMjAtMTAtMjVUMTc6MjI6NTguMTk5PC94bXA6Q3JlYXRlRGF0ZT48L3JkZjpEZXNjcmlwdGlvbj48cmRmOkRlc2NyaXB0aW9uIHJkZjphYm91dD0idXVpZDpmYWY1YmRkNS1iYTNkLTExZGEtYWQzMS1kMzNkNzUxODJmMWIiIHhtbG5zOmRjPSJodHRwOi8vcHVybC5vcmcvZGMvZWxlbWVudHMvMS4xLyI+PGRjOmNyZWF0b3I+PHJkZjpTZXEgeG1sbnM6cmRmPSJodHRwOi8vd3d3LnczLm9yZy8xOTk5LzAyLzIyLXJkZi1zeW50YXgtbnMjIj48cmRmOmxpPmlvY2hvcmQ8L3JkZjpsaT48L3JkZjpTZXE+DQoJCQk8L2RjOmNyZWF0b3I+PC9yZGY6RGVzY3JpcHRpb24+PC9yZGY6UkRGPjwveDp4bXBtZXRhPg0KICAgICAgICAgICAgICAgICAgICAgICAgICAgICAgICAgICAgICAgICAgICAgICAgICAgICAgICAgICAgICAgICAgICAgICAgICAgICAgICAgICAgICAgICAgICAgICAgICAgIAogICAgICAgICAgICAgICAgICAgICAgICAgICAgICAgICAgICAgICAgICAgICAgICAgICAgICAgICAgICAgICAgICAgICAgICAgICAgICAgICAgICAgICAgICAgICAgICAgICAgCiAgICAgICAgICAgICAgICAgICAgICAgICAgICAgICAgICAgICAgICAgICAgICAgICAgICAgICAgICAgICAgICAgICAgICAgICAgICAgICAgICAgICAgICAgICAgICAgICAgICAKICAgICAgICAgICAgICAgICAgICAgICAgICAgICAgICAgICAgICAgICAgICAgICAgICAgICAgICAgICAgICAgICAgICAgICAgICAgICAgICAgICAgICAgICAgICAgICAgICAgIAogICAgICAgICAgICAgICAgICAgICAgICAgICAgICAgICAgICAgICAgICAgICAgICAgICAgICAgICAgICAgICAgICAgICAgICAgICAgICAgICAgICAgICAgICAgICAgICAgICAgCiAgICAgICAgICAgICAgICAgICAgICAgICAgICAgICAgICAgICAgICAgICAgICAgICAgICAgICAgICAgICAgICAgICAgICAgICAgICAgICAgICAgICAgICAgICAgICAgICAgICAKICAgICAgICAgICAgICAgICAgICAgICAgICAgICAgICAgICAgICAgICAgICAgICAgICAgICAgICAgICAgICAgICAgICAgICAgICAgICAgICAgICAgICAgICAgICAgICAgICAgIAogICAgICAgICAgICAgICAgICAgICAgICAgICAgICAgICAgICAgICAgICAgICAgICAgICAgICAgICAgICAgICAgICAgICAgICAgICAgICAgICAgICAgICAgICAgICAgICAgICAgCiAgICAgICAgICAgICAgICAgICAgICAgICAgICAgICAgICAgICAgICAgICAgICAgICAgICAgICAgICAgICAgICAgICAgICAgICAgICAgICAgICAgICAgICAgICAgICAgICAgICAKICAgICAgICAgICAgICAgICAgICAgICAgICAgICAgICAgICAgICAgICAgICAgICAgICAgICAgICAgICAgICAgICAgICAgICAgICAgICAgICAgICAgICAgICAgICAgICAgICAgIAogICAgICAgICAgICAgICAgICAgICAgICAgICAgICAgICAgICAgICAgICAgICAgICAgICAgICAgICAgICAgICAgICAgICAgICAgICAgICAgICAgICAgICAgICAgICAgICAgICAgCiAgICAgICAgICAgICAgICAgICAgICAgICAgICAgICAgICAgICAgICAgICAgICAgICAgICAgICAgICAgICAgICAgICAgICAgICAgICAgICAgICAgICAgICAgICAgICAgICAgICAKICAgICAgICAgICAgICAgICAgICAgICAgICAgICAgICAgICAgICAgICAgICAgICAgICAgICAgICAgICAgICAgICAgICAgICAgICAgICAgICAgICAgICAgICAgICAgICAgICAgIAogICAgICAgICAgICAgICAgICAgICAgICAgICAgICAgICAgICAgICAgICAgICAgICAgICAgICAgICAgICAgICAgICAgICAgICAgICAgICAgICAgICAgICAgICAgICAgICAgICAgCiAgICAgICAgICAgICAgICAgICAgICAgICAgICAgICAgICAgICAgICAgICAgICAgICAgICAgICAgICAgICAgICAgICAgICAgICAgICAgICAgICAgICAgICAgICAgICAgICAgICAKICAgICAgICAgICAgICAgICAgICAgICAgICAgICAgICAgICAgICAgICAgICAgICAgICAgICAgICAgICAgICAgICAgICAgICAgICAgICAgICAgICAgICAgICAgICAgICAgICAgIAogICAgICAgICAgICAgICAgICAgICAgICAgICAgICAgICAgICAgICAgICAgICAgICAgICAgICAgICAgICAgICAgICAgICAgICAgICAgICAgICAgICAgICAgICAgICAgICAgICAgCiAgICAgICAgICAgICAgICAgICAgICAgICAgICAgICAgICAgICAgICAgICAgICAgICAgICAgICAgICAgICAgICAgICAgICAgICAgICAgICAgICAgICAgICAgICAgICAgICAgICAKICAgICAgICAgICAgICAgICAgICAgICAgICAgICAgICAgICAgICAgICAgICAgICAgICAgICAgICAgICAgICAgICAgICAgICAgICAgICAgICAgICAgICAgICAgICAgICAgICAgIAogICAgICAgICAgICAgICAgICAgICAgICAgICAgICAgICAgICAgICAgICAgICAgICAgICAgICAgICAgICAgICAgICAgICAgICAgICAgICAgICAgICAgICAgICAgICAgICAgICAgCiAgICAgICAgICAgICAgICAgICAgICAgICAgICA8P3hwYWNrZXQgZW5kPSd3Jz8+/9sAQwAHBQUGBQQHBgUGCAcHCAoRCwoJCQoVDxAMERgVGhkYFRgXGx4nIRsdJR0XGCIuIiUoKSssKxogLzMvKjInKisq/9sAQwEHCAgKCQoUCwsUKhwYHCoqKioqKioqKioqKioqKioqKioqKioqKioqKioqKioqKioqKioqKioqKioqKioqKioq/8AAEQgAUwOcAwEiAAIRAQMRAf/EAB8AAAEFAQEBAQEBAAAAAAAAAAABAgMEBQYHCAkKC//EALUQAAIBAwMCBAMFBQQEAAABfQECAwAEEQUSITFBBhNRYQcicRQygZGhCCNCscEVUtHwJDNicoIJChYXGBkaJSYnKCkqNDU2Nzg5OkNERUZHSElKU1RVVldYWVpjZGVmZ2hpanN0dXZ3eHl6g4SFhoeIiYqSk5SVlpeYmZqio6Slpqeoqaqys7S1tre4ubrCw8TFxsfIycrS09TV1tfY2drh4uPk5ebn6Onq8fLz9PX29/j5+v/EAB8BAAMBAQEBAQEBAQEAAAAAAAABAgMEBQYHCAkKC//EALURAAIBAgQEAwQHBQQEAAECdwABAgMRBAUhMQYSQVEHYXETIjKBCBRCkaGxwQkjM1LwFWJy0QoWJDThJfEXGBkaJicoKSo1Njc4OTpDREVGR0hJSlNUVVZXWFlaY2RlZmdoaWpzdHV2d3h5eoKDhIWGh4iJipKTlJWWl5iZmqKjpKWmp6ipqrKztLW2t7i5usLDxMXGx8jJytLT1NXW19jZ2uLj5OXm5+jp6vLz9PX29/j5+v/aAAwDAQACEQMRAD8A+kaKKKACiiigAooooAKKKKACiiigAooooAKKKKACiiigAooooAKKKKACiiigAooooAKKKKACiiigAooooAKKKKACiiigAooooAKKKKACiiigAooooAKKKKACiiigAooooAKKKKACiiigAooooAKKKKACiiigAooooAKKKKACiiigAooooAKKKKACiiigAooooAKKKKACiiigAooooAKKKKACiiigAooooAKKKKACiiigAooooAKKKKACiiigAooooAKKKKACiiigAooooAKKKKACiiigAooooAKKKKACiiigAooooAKKKKACiiigAooooAKKKKACiiigAooooAKKKKACiiigAooooAKKKKACiiigAooooAKKKKACiiigAooooAKKKKACiiigAooooAKKKKACiiigAooooAKKKKACiiigAooooAKKKKACs/Vtd0vQ4fN1e/gtFKllEjgM4HXavVsZ7CtCsHx1/wAiDrn/AF4y/wDoJqZOybHFXdjXsb2HUdPt721YtBcRrLGxGMqwyOPoanrF8Hf8iPof/XhB/wCgCtqtJK0miYu6uFFFFSMKKKKACiiigAooooAKKKKACiiigAooooAKKKKACiiigAooooAKKKKACiiigAooooAq3eoRWc1rC6u8t1L5caIBnoSSfYAEn/E1FrGrRaLZLdXEUskbTRwnygpKl2CgnJHGSOnPtVLWYmTxFo96SywqJrd3HRGkC7WP4pt+rD1rnJvAmpy2CwmazJSCGKRS7bbxknEhkk+XhiAf73Lnn1F/X9f1uB39FcBP4F1SbUJbiO5trZXn82JI3LLAPMVioVo8fw7gV2HcTyRTx4DmeysLe5tdOuBDNA1yJJGKzBFZWbGzG5twz3OOWOBQtV/X9aAd5UM95BbTW8U8m17mQxxLgncwUtj8lJ/CuSu/Av8AxMtUuLBLERXEDG1gli+WOd1COxwOAVUdO7Nx60YPBGsw38U5Olyx21+1zAkxZtqvFsYEBFH3gGwAATnkULXcHoju7W5W7iMiJKgDsmJYmQ8HGcEA444PcVJI/lxs+1m2gnCjJP0rhT4J1Rob2PdZKtwLpYUEjbbYyy71lX5PvAcY4+6MGn6f4N1Ky8SJfFbBovt8lxK4lYSSRNAI9pHl4zuyxGcZP40LVfIHozsrG8j1CwgvINwinjEi7xg4IzyKr6Zq8WqSX0cUUsTWNybaQSheWCq2RgnjDD39qx7Xw1dW/jJtVRreO23tiMHcdvlKgwCmUOV6BtuAOM1kXfgrWJ9au7yCSytTcXc8v2iOZ/NWN7fygPuDJB+bGcfzo/y/yA7iS5WK6hgKSs027ayxMyrgZ+ZgML7Z61W1LVodMnsYp4pX+3XAt0aMKQrEEjdkg4wp6ZrjdR8HahDp6zWltbLLDBNvW2mbezNbmP8AdgIoyTg44+6OSTUFj4UuLnyxFpFrG8V/DeXDzsyxzKsRURrmFTx1IK4yx5ySAdfu/MOn3noQu4DfNZiQfaFjEpTB4UkgH8wamrifDPg/U9F1Kzubj+z2KWSWs0iFnkXaXwUJUdQyDnoFxg8Y6yW2nMMgiumZyhCiVV25xxnABx9DQ9EHUtUV53F4A1ZYblPM06NwtvLaMMsIriPAJxsA2kcdyQBnOK1IvBP2PUFa2S3ltY44FhSRihiKBgw4U5D7iTyM7jkGgDsKK85k+Huop4btbCxj0u1uYrZ0kljJBaYlcSbvLz0XPADAgc1VHhnUdRvrkX1kY76d7mOO7QORCzgZclk5TC7VIckBzx1CnUZ6HrGpxaLo9zqVxFLLFaxmR1iALbR1xkgfrVuNxJGrr0YAjNc1c+G7p/BuraVaR2sE9+rhU81vKQsoBOQgxyCcBR+ZJrHj8DakbuZplsfsTyOy2STNsAaFI8/6vhgUPIHRzyCOQXY7m3uVuWmCJKnlSGM+ZEybiMcrkfMOeo4qtZ6tFe6pf2CRSxy2DIJC4Xa29cgrgnt64rg9Y8Kagt3NHJaxzW13NPKfJeQhQ0McZJxG2JDtYg4PJPOeDai8H30+pRajbafY2cDTWkqwSyESRRRxlWjICEc7umcetH/AD/gnd2l3BfWqXFpJ5kT52sARnBx39xVbVdXj0pbcNBPczXMhjhggClnYKWP3iBwFJ5NYWleFtQsvAdzoJmtbaYxtHDPahhkY+85wOTyDjoO5quvg+9Gv21+YdP8As8d79o+yBzthXyPLOz5OSWIY8AfKO/NPS9g6HSHWIzrg0uK3uJZVjWSaRAuyFW3bd2SDzsI4B98VoVx+seE73UNfvb6BbNEmFrtLMd0nlOzMr/IQAwYDv90ZB6Vl6j8P764nla0t9NVGt4ok8yd9ybbgyn/lmeNvy8Y+gHFJdAZ6JVLTtUi1JrxYopYmtLhreQSAcsADkYJ4ww/wrh7rwPrs9pcRRNpsJ82eW12yt+5Lyq6jPl8Abf4QDkDntVtvB2rXV7PcagbKRJpZna3SZ9uZI0UOCUyGBQ4xzhjgjHIv0B/qd1UNpcreWqTxpLGr5ws0TRsOccqwBFc74e8NXuk6vdXdzJA8c6SAoG3klpCw+YoGAwTkEtyeMCueuPh9q0toI44dKSRbO4t0fznHltJN5iMP3f8ACMj8eKOwHoct5DBcw28j4mn3eUmOW2jJ/wAmq+jatDremLe28UsSM7x7JgAwKOUPQkdVPesvV9Cu77XNG1SCOxaWxV1mW4y3DbeVIHJG04zjk59q5qLwFrSIyq9hb+ZHOsrRTOfOL3AlAb92MjaChzngng9KOodD0eqOk6tDrEE8kEUsXkXElu6ygZ3IcHoSMZrJn8OTv4fWxt/Ji23q3LQFyYpFEm5oydvAPPAXHbGK5268C63PY3UEP9mW++W5lgMcjZiaR1ZefL4Ax/CAcgYPajrr/W3/AAQ/r8/+AegQXkFzNcRQSb3tpBFKMH5W2hse/DA8etVr2923Q05HaC5uYJGt5mUFNy9R16jIOO4z6GuWj8Iasv8AaAK6SBfXcd1Iyq27IEe5QSpAwyMRkNnPIFLpWiX1u+h6RqZt52sZLieTySXQQMjoiNuA6l8YxjCH0otdf12C9jQ8Jm7+36ksl691ZYha3MspdmO0h3XcSwjZl+XJwcNjiunqpp+kabpKuul6fa2QkILi2hWPdjpnaBmrdNgFFZHigyJoE8y3LW0MAM1w8blHMagsVVhyCcAZHbNcF9r1fTfAfh3VptTvrjWb66gSJHnbY6OSdhT7rZTqxBbJ69KS1f3fiD0X3/gd3darNL4mt9G0/aGSP7TeSsM+XHnCqP8AaYg/QA+1U9K1zUpvHWqaHffZXgtbdJ4pIYmRiHPRssQcDuMZ9ulV/CxMvjXxdNJneLmCIZ7KsQx/Mn8azorAah8YdZSS4uIoV06AslvM0Rc54+dSGGPYikt4+f8Ak2D2fl/mkd9SOxSNmCliATtXqfavLF8XavY/C3z0uJZr1tTbT47l8M6LvIDEngtgYye+M10NlY6yviKGGO11eLRbi2eO8+26grukn8Loyys6k8g7SAOtPdaf1pcNt/61sdFoWqS6xpMd5caddaa7MwNvdLtdcHGce9aBztO0gHHBIzXllrrWswfCy4ube9uZJhqrW73EkpklSEyhflLZJPQDvzxWtpcEupePJE0vVNSl0O0gjmWdL6SRDPu5j3MSHUr1U5x2xQvetb+tL/15g9L/ANdbG14U1zUdV1DW7PVPsrPpt0IEktomjDjbnJDM2Pzra1LUYdKsTdXIYxh0TC4zlmCjqR3YV57plgbnVPHc5vLuDyblmjW2naHa4jJ3EqQT24OR7VV124u9a+GvhW+vr64Lz3dsk6RuEEpLfeJA3Z4zwRzz1xSTul/27+IPRv5/gerVnX99Nb6zpVrHt8u6kkWTI5wsZYY/EVPp0NrbW7W9nPJMsTlXMly87K3Ugs7Fs8jgms/Vv+Rm0D/rrN/6JamI2q5HRPEeu6/e297Y2NoNEkuJoXLsRMipwHznB3MD8oHHr6dVcQrcW0kMhcLIpUmORkYD2ZSCD7g5ryHStRn8NfCWTUtMe4+2z3r2iM87ukQMp+YIzbAcDrgZJ5NJfF/XdIr7P9dmexUVxllZ61F4itY4bXV00ie3kivjfX6Oyvj5ZEKysyknIO3AGQQBXOWBvpPA3iq/l1nVHm027uUsz9tk/dCPkZOfn+jZH603or/P8bCWp6tRXnN7dahp+m+D9WXU7yW81G9to7vfM3lSrKuWHlZ2DHbABqxrM5uPEesx22p6tfTQWy7LTTmMKae23O5nLqjknnacn2NEvdvfpf8AAI6/P9Ta8d65qPhvwzLq2lm1Y27KHiuImfeGYKMFWXGM5759q6NTuQE9xXmPiLVbnW/gCNQvmDXM0cRkYDG4iYDOPfGa09R1e91D4hPoaw6hJY2diszRWE6wPK7EYYuXQ7QDjAPXrTta683+VwumlL+un+Z1Ov3d7p+kyX2noszWv72WAjmWMfeVT2bHI9xjvV2zu4b+xgu7RxJBPGskbDupGRWL4STWRok1v4kilEkc8iQtO6PJJB/AXKEjdg4PPaqfwykZ/AFirZIieaJSe6rKwH6DFHf5B5/1/W51lFYutap9huY0/t3SdN3Jny76Pczc9R+9Tj8DWd/wkX/U4+Gf+/P/AN0UgOroqrplx9q0+Kb7ZbXu7P7+1XEb89hub6dTTdQvriz8v7Npd3qG/O77M0Q2Yx18x1657Z6dqALlFY39t6h/0K+rf9/bT/4/R/beof8AQr6t/wB/bT/4/QBs0Vjf23qH/Qr6t/39tP8A4/R/beof9Cvq3/f20/8Aj9AGzRWN/beof9Cvq3/f20/+P0f23qH/AEK+rf8Af20/+P0AbNFY39t6h/0K+rf9/bT/AOP0f23qH/Qr6t/39tP/AI/QBs0Vjf23qH/Qr6t/39tP/j9H9t6h/wBCvq3/AH9tP/j9AGzRWN/beof9Cvq3/f20/wDj9H9t6h/0K+rf9/bT/wCP0AbNFY39t6h/0K+rf9/bT/4/R/beof8AQr6t/wB/bT/4/QBs0Vjf23qH/Qr6t/39tP8A4/R/beof9Cvq3/f20/8Aj9AGzRWN/beof9Cvq3/f20/+P0f23qH/AEK+rf8Af20/+P0AbNFY39t6h/0K+rf9/bT/AOP0f23qH/Qr6t/39tP/AI/QBs0Vjf23qH/Qr6t/39tP/j9H9t6h/wBCvq3/AH9tP/j9AGzWP4l0i913R59NtL2C0iuYninaW2MrEMMfLh1wevXNJ/beof8AQr6t/wB/bT/4/R/beof9Cvq3/f20/wDj9Jq+g07Enh3S73RtHg0+8vILtLaJIYWitjEQqjHzZdsngdMVq1jf23qH/Qr6t/39tP8A4/R/beof9Cvq3/f20/8Aj9U227slKxs0Vjf23qH/AEK+rf8Af20/+P0f23qH/Qr6t/39tP8A4/SGbNFY39t6h/0K+rf9/bT/AOP0f23qH/Qr6t/39tP/AI/QBs0Vjf23qH/Qr6t/39tP/j9H9t6h/wBCvq3/AH9tP/j9AGzRWN/beof9Cvq3/f20/wDj9H9t6h/0K+rf9/bT/wCP0AbNFY39t6h/0K+rf9/bT/4/R/beof8AQr6t/wB/bT/4/QBs0Vjf23qH/Qr6t/39tP8A4/R/beof9Cvq3/f20/8Aj9AGzRWN/beof9Cvq3/f20/+P0f23qH/AEK+rf8Af20/+P0AbNFY39t6h/0K+rf9/bT/AOP0f23qH/Qr6t/39tP/AI/QBs0Vjf23qH/Qr6t/39tP/j9H9t6h/wBCvq3/AH9tP/j9AGzRWN/beof9Cvq3/f20/wDj9H9t6h/0K+rf9/bT/wCP0AbNFY39t6h/0K+rf9/bT/4/R/beof8AQr6t/wB/bT/4/QBs0VWsLqa7gaS4sLixYNtEdw0ZYjA5/duwx+OeOlcp4j1vUbjxraeHdNiu2gW2N3emzZEldM7VRWdl2jPUg59Mc0dbB5nYXCztFi1kjjkz96SMuMfQEfzqvHFqYkUy3doyZ+ZVtWUkex8w4/KqPhyyv7Rbxr1plgmmDWtvcXBnkgTaAQzknJJBOMkDPWtqgDMu4Nde6drDUdPhtzjZHNYPIw45ywmUHnPYf1qH7L4m/wCgvpP/AIKpf/kitmigDG+y+Jv+gvpP/gql/wDkij7L4m/6C+k/+CqX/wCSK2aKAMb7L4m/6C+k/wDgql/+SKPsvib/AKC+k/8Agql/+SK2aKAMb7L4m/6C+k/+CqX/AOSKzNZ1TXtEjRp9S0+d3V3WKHSnLlUXcxAa5GcDsOfausrH8R2mpX9ittpkVs6yErcedcNC3lkYKqyo2CehOOmcc8hO9tBq19SG0/4SC+s4bq11rSXhnjWSNhpUvzKRkH/j49Kl+y+Jv+gvpP8A4Kpf/kiseLwR5erw3qRafEi2iF7ZIT5YukQojjvtAc988LWSngHVv+Pe4j0q4smktJWheRsBouHwBHjDDjpkgDJNV10J6HUW/wDwkly0wTU9OTypDGfM0aZNxGOVzP8AMOeo4qb7L4m/6C+k/wDgql/+SK5m/wDA2ozrqEFmmm29tPPLLAqscx7oEiX/AJZkDlSTgZ5GCMcxjwTrr332xzpsV081tI9xDM+8eXGUfGY8knOevPel/wAAf/BOq+y+Jv8AoL6T/wCCqX/5Io+y+Jv+gvpP/gql/wDkisFPBV19l0+N4bAG3CrdIrsReYR03sShwfm3Dg8k89DWlqfh26u7XTo4zBOlrayQPb3MjbGZkCq+SGJIwRyM4Y8+o9L2Bbkcd74il1uXTYb+wkaBQZpxpL+XGSMhTm5zkj0BHvS6Re+ItZt3uLe/sI4N2I5ZdJcCYf3lxck447gH2pfDnhq60a6vnvBa3TTwxRi4LHzJSkYVt428biM9T+NZWneBr21jtRcJYsIYFjMccrAI4l3+Yp2ZyRgHp9wDJHQ62DodH9l8Tf8AQX0n/wAFUv8A8kVV1OXxHpelXV/Nqemyx20TSukWlPuKqMnGbkDp71yrfDrVhZyRRQ6TG7W1zErrM42vJNvR/wDVdVX5f5VdvPB3iGe7up4ZNNQ3kF1DMvmuoIlACniPJIwM5J6nGOlJ3toNWvqdJDF4kngjlTVtKCyKGAOlSZwRn/n4qnp174g1K5v4ItS06N7GfyJPM0p/mO0MCMXJ4ww64PtSaJ4Zu9P1b7ZetBK/mM4lWQlgrRqvl/dGVBUYyccDgGsrUfBWsXetXl5bSWVq1zePKLlJn81IzbmED7nUE7sZx796p76f1sSttTfl/wCEkiuIIW1PTmaYkKyaNMyrgZ+ZhPhfbPWq2p3viHSpLJZ9S09xeXK2yNHpTkIzdC2bkccds1kX3g+/hsYZbS2tVlt1kd1t5m3sTbNF+7wigEkg44+6Mkk8VNP8KXNxGiR6RbRypd211PJOWSOVETaI1zCpzxkggjLHnsDr935j6fedXnX/ALd9j/tvSftHl+bs/sqX7ucZ/wCPj1oh/wCEkmnniXU9PUwsFYvo0yq2Rn5SZ8MOeo71keG/CGpaNq1jd3C6c/lWn2aZlLM6gO7KUJUdmVeegHfsuq+EL691ua7jttNeF9RguwssjAsqJtYEeWeTx60u39df8g7/ANdP8zWuzr9jbme61vSY4gVUsdKlPJIA6XHqRVazvfEN7ql/YJqWnxy2DIJC+lPtbeuQVxcnt64qufCd7N8PrbRLr7G93bSpIm52aMhZd4GSuR8vy9KqSeENZk10ajs0yOT7Ray74ZHQosUZV1UbDgHdwM9OtHUOh0X2XxN/0F9J/wDBVL/8kVRivPEEuvXGkjUtOWeCBJy7aU+xlYkDGLnOcqeoFGg+GLrS9NuIJZ0S4ltRAbqFyWkYbsSkYADfNnPJyevArITwVqqTjZDpcUTWtrBLtkYl2icsz4MeMnPBO7pyOeDr/Xn/AMAOn9eX/BN9m19b5LM63pP2iSNpVT+ypeVUgE/8fHqwqb7L4m/6C+k/+CqX/wCSK5fTvBWuWT28rnSJZobSa0VpA77VZ9yH7ozjJXtgdM9K2vCWganoN1fLdvbG0nETRJC5JRlQK3GxVAOM8DPrQtV/X9bA9y99l8Tf9BfSf/BVL/8AJFH2XxN/0F9J/wDBVL/8kVs0UAY32XxN/wBBfSf/AAVS/wDyRR9l8Tf9BfSf/BVL/wDJFbNFAGN9l8Tf9BfSf/BVL/8AJFH2XxN/0F9J/wDBVL/8kVs0UAZlpBrqXSNf6jp81uM744bB42PHGGMzAc47H+tadFFAHIfEua6fwjNpun2t5PcXxWMm2tZJQke4bySqkDjt1OeKvaT4XsYTp929xe3os4gtkl6Av2ZSMcLtU7sYGXyw/OuhooWgPU5eKL+xPiDdTSfLaa5FHskPRbiMEbD6Fk5HrtNTp4REXiC71mHW9SS7uo/KfAgKhRnaADF/Dnj6c5roHRZFw6hhkHBGeRyKWgDmbDwLptnod3o9xcXd/Y3TmRorkx/I5OSylEUg5wevGOMVdt/DnklXl1bULqaKNo7aacxFrfIwWXCAM2O7hj19TnZooA4LU/Bs2keHF0/SbnULu1lv47i4bMZntgGLNJFtVSW3Y4O7joKlsYdVg1qxXRdU12+tmkIvhq9tsRI9p+ZWeNDuzjAGffiu4ooWgPU5i28EJaf2mYtd1TdqhLXTEW53MRgkfuuOOOOOfXmnR+B7FfC8WhS3l7NbW8iyW0jtGJICpyu0qgBwc/eB610tFH9fdsBU03To9Nt3jjkkmeSRpZZpSN0jnqTgAeg4AHFUNW/5GbQP+us3/olq2qQqCQSASOhx0oEMuInnt3jjnkt2YYEsYUsnuNwI/MGud07wLp1joVxo011d3+nXGS1vdGPCsW3FgyIrZzz147V01FAzFtvDggMbTarqF3JAjJbPcNGxt8jbuXCDc2OMvu7+pzmxeALeHSNQ01Nb1T7NqMjyXKnyMsz/AH+fK4z7enGK6yijcNjlrnwLDd2GmWc2t6p5WlyJJbY8gFWT7hP7rnA4/nmrI8H2qX15cwX19AdQVRepG6BbkgY3H5cqSCclCtdBRRvuBxzfDTSzoEmjR6hqMdpKV8wK8ZZlU7kTJQ4CkkjHPPJNatx4WhnuLW9GoXsWpW0ZiGoRGMSyITna42bGH/AeK3KKAMK/aLwx4eupLbzLm7nY7N5zJdXDjC9McnjoAAB0AFWPC+j/ANgeF7DTCQz28QEjDoznlj+ZNajIrMrMoJU5UkdPpS0AFFFFABRRRQAUUVS1jUl0nSZ7woZGQYjjHWRycKo9yxA/GgChLq2qz6zc2ui2NncwWgVJpLm6aH96Ru2rtjfOFIz0+8Kf9q8Tf9AjSf8Away//I9ZOqWms6N4StLXR4Jru8nulN/JbuEkIclpXUt0yeAewPbGRShurzw98UrPQ7e+urzTtStWlMN1O0zW7Ln5gzEttO3GCepNC3t/W1we1/67HR/avE3/AECNJ/8ABrL/API9H2rxN/0CNJ/8Gsv/AMj1WufiB4UtLmS3n1y0WSM7WAYtg+mQMUx/iD4ZW1W5XUWlgaTyhLDbSyLv7LlVIBOeB3oAufavE3/QI0n/AMGsv/yPR9q8Tf8AQI0n/wAGsv8A8j1KfEenDWIdLL3H2yaISpH9kl+4f4iduFHY5IweDzUEfjDQpZxGl9kGf7OJvJcQmT+55u3Zn2zQA77V4m/6BGk/+DWX/wCR6PtXib/oEaT/AODWX/5Hpup+MNE0bUBY6ndSW9wylkVrWUiQAZO1guG69ATWZqHiGwv9Q8PXVj4hntLW5mzGkdk7x3244EZfbhTkHg8j0HBoWobGr9q8Tf8AQI0n/wAGsv8A8j0favE3/QI0n/way/8AyPS3vivRrC8uLW5u2821UPcCOCSQQA9C7KpCDvyRT9U8S6To1jDe6jdGO0nxsuEieSPnGCWUEDORjOM0AR/avE3/AECNJ/8ABrL/API9H2rxN/0CNJ/8Gsv/AMj1LZ+JNKvtQWxt7lvtDxmWNXhdBKn95CwAce6k1De+LtD0+aeO6vcG2IW4dIXdICTgB3VSqH2JFAC/avE3/QI0n/way/8AyPR9q8Tf9AjSf/BrL/8AI9T33iHTNPkjjuLgtJJGZVjgieZ/L/v7UBIX3PFXLO8ttQs4ruxmSe3lXckkZyGFAGZ9q8Tf9AjSf/BrL/8AI9H2rxN/0CNJ/wDBrL/8j1Yvdf06wujbTyyPOqb3jggkmZF/vMEU7R7nFc58Q/EK2/gJ7nSruTF40aR3NqjOuwuoY71GF4JAyRnoOaANv7V4m/6BGk/+DWX/AOR6PtXib/oEaT/4NZf/AJHqLwvoulaXFdXWix3UMN7IHaGeN4ghUbeI3AK568jmuQgTT/GPjjW7bV21A/ZZ7cWJW3mj+zBV3NyVxHuI6tgnselPrYXS52n2rxN/0CNJ/wDBrL/8j0favE3/AECNJ/8ABrL/API9Og8VaLc3cVvDehmmkMUMhjcRSuOqpIRsY+wJ6VD/AMJlohv7ixFxOby25lthZzGUD1CbMke4BHI9RSGSfavE3/QI0n/way//ACPR9q8Tf9AjSf8Away//I9Rf8Jv4eNmt4moiS1ON08cMjxxknADsFIQ+zYq5qHiDTdLuLeC7uGM9yCYYYYnmkkAGSQqAnHvigCD7V4m/wCgRpP/AINZf/kej7V4m/6BGk/+DWX/AOR6r61caX4h8D6jPAYb22+zSldyZ2uqnqCMqwPrgg1U8I6nZ6V8NdDn1CdYUa2jReCWdiOFVRyxPoATR3+X4h2+f4Gn9q8Tf9AjSf8Away//I9H2rxN/wBAjSf/AAay/wDyPVzTdYsdWE32GYu0D7JY3Ro5I29GRgGH4iuP8eLZWXi7wpqU6RROL0pJcFQGKhTgE9TyeB7+9HVfL8Q6M6T7V4m/6BGk/wDg1l/+R6PtXib/AKBGk/8Ag1l/+R6s6brun6rcXEFlM5ntiPOhlheKRMjIJVwDg+uMVXTxXor3iW63oLSTeQknlv5Tyf3BLjYW9gc0AJ9q8Tf9AjSf/BrL/wDI9H2rxN/0CNJ/8Gsv/wAj1T0a/jm8YazF/bdxclVRv7Ons2hFqBxuDMBuBPcfr1qaTxv4fiQO17IY23eXItrKyS7fvbGC4fHP3Seh9KOlw62JvtXib/oEaT/4NZf/AJHo+1eJv+gRpP8A4NZf/keuUv7vSrX4r6LqsPlpHfabJJ5kURLXBONp2gbmbGOME/lXXReJ9Hl0q51Fb1UtrRzHO0qtG0TDqrKwDA+2Mmjpd/1rYOtv62uM+1eJv+gRpP8A4NZf/kej7V4m/wCgRpP/AINZf/keqvgvxIPEWhwTyC5M7h3Z5LV40K7yFAfaEbAwOCaTxrfJZabbNJrdzoq/aFZrmGzadWAP3GIBC5JHXr7807a2Baot/avE3/QI0n/way//ACPR9q8Tf9AjSf8Away//I9Le+K9H07VU02+uZIbuQZiRreT97xnCHbhzzjCknPHWrWmazYawsx0+Yu1vJ5c0bxtG8bejKwBH4ikBU+1eJv+gRpP/g1l/wDkej7V4m/6BGk/+DWX/wCR6p+M/FEHh60tI1uNl5dXUMccaJ5jshkG8hQCT8u4dM5PHNYvxPay1H4etqP2dg8M8XlSXNs0UkeZFDYDgMoIH40LX77AdN9q8Tf9AjSf/BrL/wDI9H2rxN/0CNJ/8Gsv/wAj1JZeJNKvr9LG3uW+0PF5savC6CVB/EjMAHHupNNvPFOjWFzLBdXm1oSqzOsTtHCW6CRwCqZ/2iKAG/avE3/QI0n/AMGsv/yPR9q8Tf8AQI0n/wAGsv8A8j1sghlBU5B5BHeuP8Y61od/4Y1qzkIu2t4JQWFs8kUUwQ4zIFKKwOO4INKTshxV3Y1/tXib/oEaT/4NZf8A5Ho+1eJv+gRpP/g1l/8Akeszw3rVho/gHw6dQn8tri1ijhRUZ3kbaOFVQSfwFbVv4g0q6sLi8jvEWC1YrcGUGNoSOodWAKn2IqpLlbXYlO6XmQfavE3/AECNJ/8ABrL/API9H2rxN/0CNJ/8Gsv/AMj1R8G+K4/EWnySk3Llp52jke0dI/KEhCDzNoQnbjjOfXvVy18YaFeTQpb324TyGKGVoXWKVxxtWQqEY8HgGkM2ITK0EZuERJSoLqjllVscgEgZGe+B9BWbf6BDeatFqkF1cWN9HEYDPb7MvGTnawdWBGeema1aKAKlhpsOnrIY3lllmbdLNM5Z3PT6AewAA7CrdFFABRRRQAUUUUAFFFFABRRRQAUUUUAFFFFABRRRQAUUUUAFFFFABRRRQAUUUUAFFFFABRRRQAUUUUAFFFFABRRRQAUUUUAFFFFABRRRQAUUUUAFFFFABRRRQAUUUUAFFFFABRRRQAUUUUAFFFFABRRRQAUUUUAFFFFABRRRQAUUUUAcNe3eo+G/iPp8uoajNdaZrKta7XwsdvMDlAoHTIOOeTySa25/+Jv4sit/vWukgTS+jXDD5F/4CpLfVlpPGugP4j8K3NnbELdpia1fONsqnK89s9M+9W/DumTaXo0cd7IJr6Uma7lH8crcsfoOg9gKI7en9f5/gD39f6/r5jPE3iSy8K6LJqOovhQdkad5HPRR/ngA1x3hbXvD+reIsW94NY1rVFdbyZY5YltoQhISPco+XOB6knJ9K9IooXmD20PL9cu0bTfEuoWVuE0/TPI0uFI1wAiyKZ8D0+YD/gNdr4r0dfEnhG9sE+/NFvgbpiQfMh/MCtuik9Y2/r+r6jWjucj4EmvtU02TX9Wt2ju7iJLdIm4ISIEE89Nzlz+VcHrWoNqfw21Fmmh0+6NyXbQrK2RDCFkBLyjaXzgbi2VHSvaqKq/vXEtEeY6n4m0a++Inha8kvbeGGCO7WQ3EqLsyuFY88BsZUnqCDV/4h3um2F94Vt2ubW28nVYpmjMip5cWGG/HZc9+ld/RRfbyf63Fbf0t+Fjza+1P7ZrXiW3lng0ZhFshjt7eM3OpgodrbmVvMXsAozz1rAv9bsZvgbbadJKqTxGCLbKwHmMJFLqozk7QRu9K9oopLT8PwHv+P4nnes67pEnxO8KyQapZNFHBcBnS4Qqu9BsBOeM9vWo/B0un6RomqaD4tSI3wvJZpLa6jDG9BIKuin/WZxwBk5xXpFFH/B/O4f8AA/BWPNlV9L+Iup3msanPoVrqFrAbOZhCqAKuGiZnVlVgewIz711ng7T7PTfDywaY129r50jxvdhQzgsTuAUAbSckcDg1u0ULRB/X6HCaDcxeG/Fnic+I7mO0N5dLcW09wwRZotpAVWPUr029a5PUlfTPhFex6nItq1/qhubK1mISTyfNQ8KefVsdga9nooWln2t+Fv8AIHrf5/r/AJkFleWt/Zx3Njcw3MDj5ZYXDq2ODgjjqK810++ttU8Q+PLPSdTtTd6iiJZbJ1zKwgIOznnHcjpXqNFDV7+asC0SPLdFtdNvvC2jaXqGr6j9uspYf+JREsCzQzI3XaYw4UcksTjHer+la3o8XxY8RzzanYoptYUWRp0AJUHeAc9sc+mOa9Dooerv6/irCtZW9Pwdzxmx1XTE+BusW3260W4eWYeV5yh2ZpCV4zkkhSR6ge1b82uwS6r4ejiubCyszp+4a26RyMHA2tDHI2VVuOc5+lej0ULT8PwTX6jev4/izyXQdZtNO0nxjY3lxIGnuLuZZrkLHlWRQhbhQC+75QAM4OKhhJuPD3gbU4L5hp2mAxX0trtkNpIyABmBDAY75HGfevYKKP8AgfgN6/j+Jy3hu101/EWo6npup3eqyXEMaz3ZMRgYrkKqmNVBYDr1wCKyvH2padb+LPCiXl5bRGC+MsqyyqPLXbwzZPAyOp9K76ijt5f53F38/wDKx5smoWt/8TPEtvpup2oubrS1t7ZlmU5lAPAweSO4HIxVDRLLT7nwTZaFq+rajFfWsihtHhWBZllWTIKgx7iO+7OMZycZr1iiiOn9ebf6g9f68kv0POre+069+KXiO2W9hl+0aYkCrFMu52AO9V5+8OcjtWFoGo6RqGm+GNO1DX9OtY9JlW5C+YyyyOM4jYMoVME4Jyc47V61qNjFqem3NjcFxFcxNE5RtrAMMHB9awp/DF/daF/Ydxqlu2mmEQELY4mMYGPvbygOO+z6AUo+7/Xm3+oPX+vJL9DF1fVdMj+M2j+ffWimGxljffMo8t2PyqeeGIPA6nNReENQsr/WPGkNleW9xJc3LSQpHKrGVdmNy4PIyQMjivQLeBLW1it4siOJAi5OTgDA5qSjlVreTX3u4Ju9/R/crHDfDTVFPhnStIjj3yW9tKbo7vmtnEmAjrjgnLHnH3aPi3eW0HgaSCa4ijlmniMcbuAzhZFLYHU4HX0ruaKpu7v53/G4oqysed65rejzfFDwpKup2Txxw3BZxOhVS6DZk54znj17VN4M1TT7n4ieLRbX1tMbiWBoRHMreaFjwxXB5APXHSu+ooWn4/i7g1f8PwOM+JasNJ0i5IPk2usW808naNASCx9AMjmsv4j67aah8O7kvJDEs14qWwaUH7SiSrl1Hcd+MjHOcGvR6KS0++/5f5FX/wAvz/zPO9Z13SJPif4Vkh1SyaKOC4DOlwhVd6DYCc4Ge3rWZo9nBZ6fr2ieKtbutPnuLuZ3tlWEG8Rxw8e+Ms5PTCkkHHAr1eijpb1/F3F/wPwVihYWpg8OW1rbmeNktVjjNwQZFwuBuxxuHfHevO9Fv7XRfhJqWiarKttq8EF1HNauf3rs24hgvVgQQdwyMd+K9ToolrfzHF8tvI8sttchHhfwXDbtYLAUEc+qzxrKLCRIx8oJ4SQ9Mt+VW/COox23xI8QW/2i5vzqDQGC4ZFHmKsb5k+UKCmRt3KMElfXNekUU27tvvf8SbaWPOfh5qj6f4Uh0hLQ3F9bm7a5tw2HhKuSqsuONxIAzj8a53UtQW88C2E7XlvbSR38csukWNukcdkok5LjaXUjuxIBJ6V7RRS639PwG9b+d/xK2nXqalp8N5EkiRzLuUSDBx2P49as0UUAFFFFABRRRQAUUUUAFFFFABRRRQAUUUUAFFFFABRRRQAUUUUAFFFFABRRRQAUUUUAFFFFABRRRQAUUUUAFFFFABRRRQAUUUUAFFFFABRRRQAUUUUAFFFFABRRRQAUUUUAFFFFABRRRQAUUUUAFFFFABRRRQAUUUUAFFFFABRRRQAUUUUAFFFFABRRRQAUUUUAFFFFABRRRQAUUUUAFFFFABRRRQAUUUUAFFFFABRRRQAUUUUAFFFFABRRRQAUUUUAFFFFABRRRQAUUUUAFFFFABRRRQAUUUUAFFFFABRRRQAUUUUAFFFFABRRRQAUUUUAFFFFABRRRQAUUUUAFFFFABRRRQAUUUUAFFFFABRRRQAUUUUAFFFFABRRRQAUUUUAFFFFABRRRQAUUUUAFFFFABRRRQAUUUUAf//Z)\n",
        "\n"
      ],
      "metadata": {
        "id": "crsZZkbnAkqZ"
      }
    },
    {
      "cell_type": "markdown",
      "source": [
        "![캡처.JPG](data:image/jpeg;base64,/9j/4AAQSkZJRgABAQEAYABgAAD/4RDiRXhpZgAATU0AKgAAAAgABAE7AAIAAAAIAAAISodpAAQAAAABAAAIUpydAAEAAAAQAAAQyuocAAcAAAgMAAAAPgAAAAAc6gAAAAgAAAAAAAAAAAAAAAAAAAAAAAAAAAAAAAAAAAAAAAAAAAAAAAAAAAAAAAAAAAAAAAAAAAAAAAAAAAAAAAAAAAAAAAAAAAAAAAAAAAAAAAAAAAAAAAAAAAAAAAAAAAAAAAAAAAAAAAAAAAAAAAAAAAAAAAAAAAAAAAAAAAAAAAAAAAAAAAAAAAAAAAAAAAAAAAAAAAAAAAAAAAAAAAAAAAAAAAAAAAAAAAAAAAAAAAAAAAAAAAAAAAAAAAAAAAAAAAAAAAAAAAAAAAAAAAAAAAAAAAAAAAAAAAAAAAAAAAAAAAAAAAAAAAAAAAAAAAAAAAAAAAAAAAAAAAAAAAAAAAAAAAAAAAAAAAAAAAAAAAAAAAAAAAAAAAAAAAAAAAAAAAAAAAAAAAAAAAAAAAAAAAAAAAAAAAAAAAAAAAAAAAAAAAAAAAAAAAAAAAAAAAAAAAAAAAAAAAAAAAAAAAAAAAAAAAAAAAAAAAAAAAAAAAAAAAAAAAAAAAAAAAAAAAAAAAAAAAAAAAAAAAAAAAAAAAAAAAAAAAAAAAAAAAAAAAAAAAAAAAAAAAAAAAAAAAAAAAAAAAAAAAAAAAAAAAAAAAAAAAAAAAAAAAAAAAAAAAAAAAAAAAAAAAAAAAAAAAAAAAAAAAAAAAAAAAAAAAAAAAAAAAAAAAAAAAAAAAAAAAAAAAAAAAAAAAAAAAAAAAAAAAAAAAAAAAAAAAAAAAAAAAAAAAAAAAAAAAAAAAAAAAAAAAAAAAAAAAAAAAAAAAAAAAAAAAAAAAAAAAAAAAAAAAAAAAAAAAAAAAAAAAAAAAAAAAAAAAAAAAAAAAAAAAAAAAAAAAAAAAAAAAAAAAAAAAAAAAAAAAAAAAAAAAAAAAAAAAAAAAAAAAAAAAAAAAAAAAAAAAAAAAAAAAAAAAAAAAAAAAAAAAAAAAAAAAAAAAAAAAAAAAAAAAAAAAAAAAAAAAAAAAAAAAAAAAAAAAAAAAAAAAAAAAAAAAAAAAAAAAAAAAAAAAAAAAAAAAAAAAAAAAAAAAAAAAAAAAAAAAAAAAAAAAAAAAAAAAAAAAAAAAAAAAAAAAAAAAAAAAAAAAAAAAAAAAAAAAAAAAAAAAAAAAAAAAAAAAAAAAAAAAAAAAAAAAAAAAAAAAAAAAAAAAAAAAAAAAAAAAAAAAAAAAAAAAAAAAAAAAAAAAAAAAAAAAAAAAAAAAAAAAAAAAAAAAAAAAAAAAAAAAAAAAAAAAAAAAAAAAAAAAAAAAAAAAAAAAAAAAAAAAAAAAAAAAAAAAAAAAAAAAAAAAAAAAAAAAAAAAAAAAAAAAAAAAAAAAAAAAAAAAAAAAAAAAAAAAAAAAAAAAAAAAAAAAAAAAAAAAAAAAAAAAAAAAAAAAAAAAAAAAAAAAAAAAAAAAAAAAAAAAAAAAAAAAAAAAAAAAAAAAAAAAAAAAAAAAAAAAAAAAAAAAAAAAAAAAAAAAAAAAAAAAAAAAAAAAAAAAAAAAAAAAAAAAAAAAAAAAAAAAAAAAAAAAAAAAAAAAAAAAAAAAAAAAAAAAAAAAAAAAAAAAAAAAAAAAAAAAAAAAAAAAAAAAAAAAAAAAAAAAAAAAAAAAAAAAAAAAAAAAAAAAAAAAAAAAAAAAAAAAAAAAAAAAAAAAAAAAAAAAAAAAAAAAAAAAAAAAAAAAAAAAAAAAAAAAAAAAAAAAAAAAAAAAAAAAAAAAAAAAAAAAAAAAAAAAAAAAAAAAAAAAAAAAAAAAAAAAAAAAAAAAAAAAAAAAAAAAAAAAAAAAAAAAAAAAAAAAAAAAAAAAAAAAAAAAAAAAAAAAAAAAAAAAAAAAAAAAAAAAAAAAAAAAAAAAAAAAAAAAAAAAAAAAAAAAAAAAAAAAAAAAAAAAAAAAAAAAAAAAAAAAAAAAAAAAAAAAAAAAAAAAAAAAAAAAAAAAAAAAAAAAAAAAAAAAAAAAAAAAAAAAAAAAAAAAAAAAAAAAAAAAAAAAAAAAAAAAAAAAAAAAAAAAAAAAAAAAAAAAAAAAAAAAAAAAAAAAAAAAAAAAAAAAAAAAAAAAAAAAAAAAAAAAAAAAAAAAAAAAAAAAAAAAAAAAAAAAAAAAAAAAAAAAAAAAAAAAAAAAAAAAAAAAAAAAAAAAAAAAAAAAAAAAAAAAAAAAAAAAAAAAAAAAAAAAAAAAAAAAAAAAAAAAAAAAAAAAAAAAAAAAAAAAAAAAAAAAAAAAAAAAAAAAAAAAAAAAAAAAAAAAAAAAAAAAAAAAAAAAAAAAAAAAAAAAAAAAAAAAAAAAAAAAAAAAAAAAAAAAAAAAAAAAAAAAAAAAAAAAAAAAAAAAAAAAAAAAAAAAAAAAAAAAAAAAAAAAAAAAAAAAAAAAAAAAAAAAAAAAAAAAAAAAAAAAAAAAAAAAAAAAAAAAAAAAAAAAAAAAAAAAAAAAAAAAAAAAAAAAAAAAAAAAAAAAAAAAAAAAAAAAAAAAAAAAAAAAAAAAAAAAAAAAAAAAAAAAAAAAAAAAAAAAAAAAAAAAAAAAAAAAAAAAAAAAAAAAAAAAAAAAAAAAAAAAAAAAAAAAAAAAAAAAAAAAAAAAAAAAAAAAAAAAAAAAAAAAAAAAAAAAAAAAAAAAAAAAAAAAAAAAAAAAAAAAAAAAAAAAAAAAAAAAAAAAAAAAAAAAAAAAAAAAAAAAAAAAAAAAAAAAAAAAAAAAAAAAAAAAAAAAAAAAAAAAAAAAAAAAAAAAAAAAAAAAAAAAAAAAAAAAAAAAAAAAAAAGlvY2hvcmQAAAWQAwACAAAAFAAAEKCQBAACAAAAFAAAELSSkQACAAAAAzY2AACSkgACAAAAAzY2AADqHAAHAAAIDAAACJQAAAAAHOoAAAAIAAAAAAAAAAAAAAAAAAAAAAAAAAAAAAAAAAAAAAAAAAAAAAAAAAAAAAAAAAAAAAAAAAAAAAAAAAAAAAAAAAAAAAAAAAAAAAAAAAAAAAAAAAAAAAAAAAAAAAAAAAAAAAAAAAAAAAAAAAAAAAAAAAAAAAAAAAAAAAAAAAAAAAAAAAAAAAAAAAAAAAAAAAAAAAAAAAAAAAAAAAAAAAAAAAAAAAAAAAAAAAAAAAAAAAAAAAAAAAAAAAAAAAAAAAAAAAAAAAAAAAAAAAAAAAAAAAAAAAAAAAAAAAAAAAAAAAAAAAAAAAAAAAAAAAAAAAAAAAAAAAAAAAAAAAAAAAAAAAAAAAAAAAAAAAAAAAAAAAAAAAAAAAAAAAAAAAAAAAAAAAAAAAAAAAAAAAAAAAAAAAAAAAAAAAAAAAAAAAAAAAAAAAAAAAAAAAAAAAAAAAAAAAAAAAAAAAAAAAAAAAAAAAAAAAAAAAAAAAAAAAAAAAAAAAAAAAAAAAAAAAAAAAAAAAAAAAAAAAAAAAAAAAAAAAAAAAAAAAAAAAAAAAAAAAAAAAAAAAAAAAAAAAAAAAAAAAAAAAAAAAAAAAAAAAAAAAAAAAAAAAAAAAAAAAAAAAAAAAAAAAAAAAAAAAAAAAAAAAAAAAAAAAAAAAAAAAAAAAAAAAAAAAAAAAAAAAAAAAAAAAAAAAAAAAAAAAAAAAAAAAAAAAAAAAAAAAAAAAAAAAAAAAAAAAAAAAAAAAAAAAAAAAAAAAAAAAAAAAAAAAAAAAAAAAAAAAAAAAAAAAAAAAAAAAAAAAAAAAAAAAAAAAAAAAAAAAAAAAAAAAAAAAAAAAAAAAAAAAAAAAAAAAAAAAAAAAAAAAAAAAAAAAAAAAAAAAAAAAAAAAAAAAAAAAAAAAAAAAAAAAAAAAAAAAAAAAAAAAAAAAAAAAAAAAAAAAAAAAAAAAAAAAAAAAAAAAAAAAAAAAAAAAAAAAAAAAAAAAAAAAAAAAAAAAAAAAAAAAAAAAAAAAAAAAAAAAAAAAAAAAAAAAAAAAAAAAAAAAAAAAAAAAAAAAAAAAAAAAAAAAAAAAAAAAAAAAAAAAAAAAAAAAAAAAAAAAAAAAAAAAAAAAAAAAAAAAAAAAAAAAAAAAAAAAAAAAAAAAAAAAAAAAAAAAAAAAAAAAAAAAAAAAAAAAAAAAAAAAAAAAAAAAAAAAAAAAAAAAAAAAAAAAAAAAAAAAAAAAAAAAAAAAAAAAAAAAAAAAAAAAAAAAAAAAAAAAAAAAAAAAAAAAAAAAAAAAAAAAAAAAAAAAAAAAAAAAAAAAAAAAAAAAAAAAAAAAAAAAAAAAAAAAAAAAAAAAAAAAAAAAAAAAAAAAAAAAAAAAAAAAAAAAAAAAAAAAAAAAAAAAAAAAAAAAAAAAAAAAAAAAAAAAAAAAAAAAAAAAAAAAAAAAAAAAAAAAAAAAAAAAAAAAAAAAAAAAAAAAAAAAAAAAAAAAAAAAAAAAAAAAAAAAAAAAAAAAAAAAAAAAAAAAAAAAAAAAAAAAAAAAAAAAAAAAAAAAAAAAAAAAAAAAAAAAAAAAAAAAAAAAAAAAAAAAAAAAAAAAAAAAAAAAAAAAAAAAAAAAAAAAAAAAAAAAAAAAAAAAAAAAAAAAAAAAAAAAAAAAAAAAAAAAAAAAAAAAAAAAAAAAAAAAAAAAAAAAAAAAAAAAAAAAAAAAAAAAAAAAAAAAAAAAAAAAAAAAAAAAAAAAAAAAAAAAAAAAAAAAAAAAAAAAAAAAAAAAAAAAAAAAAAAAAAAAAAAAAAAAAAAAAAAAAAAAAAAAAAAAAAAAAAAAAAAAAAAAAAAAAAAAAAAAAAAAAAAAAAAAAAAAAAAAAAAAAAAAAAAAAAAAAAAAAAAAAAAAAAAAAAAAAAAAAAAAAAAAAAAAAAAAAAAAAAAAAAAAAAAAAAAAAAAAAAAAAAAAAAAAAAAAAAAAAAAAAAAAAAAAAAAAAAAAAAAAAAAAAAAAAAAAAAAAAAAAAAAAAAAAAAAAAAAAAAAAAAAAAAAAAAAAAAAAAAAAAAAAAAAAAAAAAAAAAAAAAAAAAAAAAAAAAAAAAAAAAAAAAAAAAAAAAAAAAAAAAAAAAAAAAAAAAAAAAAAAAAAAAAAAAAAAAAAAAAAAAAAAAAAAAAAAAAAAAAAAAAAAAAAAAAAAAAAAAAAAAAAAAAAAAAAAAAAAAAAAAAAAAAAAAAAAAAAAAAAAAAAAAAAAAAAAAAAAAAAAAAAAAAAAAAAAAAAAAAAAAAAAAAAAAAAAAAAAAAAAAAAAAAAAAAAAAAAAAAAAAAAAAAAAAAAAAAAAAAAAAAAAAAAAAAAAAAAAAAAAAAAAAAAAAAAAAAAAAAAAAAAAAAAAAAAAAAAAAAAAAAAAAAAAAAAAAAAAAAAAAAAAAAAAAAAAAAAAAAAAAAAAAAAAAAAAAAAAAAAAAAAAAAAAAAAAAAAAAAAAAAAAAAAAAAAAAAAAAAAAAAAAAAAAAAAAAAAAAAAAAAAAAAAAAAAAAAAAAAAAAAAAAAAAAAAAAAAAAAAAAAAAAAAAAAAAAAAAAAAAAAAAAAAAAAAAAAAAAAAAAAAAAAAAAAAAAAAAAAAAAAAAAAAAAAAAAAAAAAAAAAAAAAAAAAAAAAAAAAAAAAAAAAAAAAAAAAAAAAAAAAAAAAAAAAAAAAAAAAAAAAAAAAAAAAAAAAAAAAAAAAAAAAAAAAAAAAAAAAAAAAAAAAAAAAAAAAAAAAAAAAAAAAAAAyMDIwOjEwOjI1IDE4OjUxOjA2ADIwMjA6MTA6MjUgMTg6NTE6MDYAAABpAG8AYwBoAG8AcgBkAAAA/+ELGmh0dHA6Ly9ucy5hZG9iZS5jb20veGFwLzEuMC8APD94cGFja2V0IGJlZ2luPSfvu78nIGlkPSdXNU0wTXBDZWhpSHpyZVN6TlRjemtjOWQnPz4NCjx4OnhtcG1ldGEgeG1sbnM6eD0iYWRvYmU6bnM6bWV0YS8iPjxyZGY6UkRGIHhtbG5zOnJkZj0iaHR0cDovL3d3dy53My5vcmcvMTk5OS8wMi8yMi1yZGYtc3ludGF4LW5zIyI+PHJkZjpEZXNjcmlwdGlvbiByZGY6YWJvdXQ9InV1aWQ6ZmFmNWJkZDUtYmEzZC0xMWRhLWFkMzEtZDMzZDc1MTgyZjFiIiB4bWxuczpkYz0iaHR0cDovL3B1cmwub3JnL2RjL2VsZW1lbnRzLzEuMS8iLz48cmRmOkRlc2NyaXB0aW9uIHJkZjphYm91dD0idXVpZDpmYWY1YmRkNS1iYTNkLTExZGEtYWQzMS1kMzNkNzUxODJmMWIiIHhtbG5zOnhtcD0iaHR0cDovL25zLmFkb2JlLmNvbS94YXAvMS4wLyI+PHhtcDpDcmVhdGVEYXRlPjIwMjAtMTAtMjVUMTg6NTE6MDYuNjY0PC94bXA6Q3JlYXRlRGF0ZT48L3JkZjpEZXNjcmlwdGlvbj48cmRmOkRlc2NyaXB0aW9uIHJkZjphYm91dD0idXVpZDpmYWY1YmRkNS1iYTNkLTExZGEtYWQzMS1kMzNkNzUxODJmMWIiIHhtbG5zOmRjPSJodHRwOi8vcHVybC5vcmcvZGMvZWxlbWVudHMvMS4xLyI+PGRjOmNyZWF0b3I+PHJkZjpTZXEgeG1sbnM6cmRmPSJodHRwOi8vd3d3LnczLm9yZy8xOTk5LzAyLzIyLXJkZi1zeW50YXgtbnMjIj48cmRmOmxpPmlvY2hvcmQ8L3JkZjpsaT48L3JkZjpTZXE+DQoJCQk8L2RjOmNyZWF0b3I+PC9yZGY6RGVzY3JpcHRpb24+PC9yZGY6UkRGPjwveDp4bXBtZXRhPg0KICAgICAgICAgICAgICAgICAgICAgICAgICAgICAgICAgICAgICAgICAgICAgICAgICAgICAgICAgICAgICAgICAgICAgICAgICAgICAgICAgICAgICAgICAgICAgICAgICAgIAogICAgICAgICAgICAgICAgICAgICAgICAgICAgICAgICAgICAgICAgICAgICAgICAgICAgICAgICAgICAgICAgICAgICAgICAgICAgICAgICAgICAgICAgICAgICAgICAgICAgCiAgICAgICAgICAgICAgICAgICAgICAgICAgICAgICAgICAgICAgICAgICAgICAgICAgICAgICAgICAgICAgICAgICAgICAgICAgICAgICAgICAgICAgICAgICAgICAgICAgICAKICAgICAgICAgICAgICAgICAgICAgICAgICAgICAgICAgICAgICAgICAgICAgICAgICAgICAgICAgICAgICAgICAgICAgICAgICAgICAgICAgICAgICAgICAgICAgICAgICAgIAogICAgICAgICAgICAgICAgICAgICAgICAgICAgICAgICAgICAgICAgICAgICAgICAgICAgICAgICAgICAgICAgICAgICAgICAgICAgICAgICAgICAgICAgICAgICAgICAgICAgCiAgICAgICAgICAgICAgICAgICAgICAgICAgICAgICAgICAgICAgICAgICAgICAgICAgICAgICAgICAgICAgICAgICAgICAgICAgICAgICAgICAgICAgICAgICAgICAgICAgICAKICAgICAgICAgICAgICAgICAgICAgICAgICAgICAgICAgICAgICAgICAgICAgICAgICAgICAgICAgICAgICAgICAgICAgICAgICAgICAgICAgICAgICAgICAgICAgICAgICAgIAogICAgICAgICAgICAgICAgICAgICAgICAgICAgICAgICAgICAgICAgICAgICAgICAgICAgICAgICAgICAgICAgICAgICAgICAgICAgICAgICAgICAgICAgICAgICAgICAgICAgCiAgICAgICAgICAgICAgICAgICAgICAgICAgICAgICAgICAgICAgICAgICAgICAgICAgICAgICAgICAgICAgICAgICAgICAgICAgICAgICAgICAgICAgICAgICAgICAgICAgICAKICAgICAgICAgICAgICAgICAgICAgICAgICAgICAgICAgICAgICAgICAgICAgICAgICAgICAgICAgICAgICAgICAgICAgICAgICAgICAgICAgICAgICAgICAgICAgICAgICAgIAogICAgICAgICAgICAgICAgICAgICAgICAgICAgICAgICAgICAgICAgICAgICAgICAgICAgICAgICAgICAgICAgICAgICAgICAgICAgICAgICAgICAgICAgICAgICAgICAgICAgCiAgICAgICAgICAgICAgICAgICAgICAgICAgICAgICAgICAgICAgICAgICAgICAgICAgICAgICAgICAgICAgICAgICAgICAgICAgICAgICAgICAgICAgICAgICAgICAgICAgICAKICAgICAgICAgICAgICAgICAgICAgICAgICAgICAgICAgICAgICAgICAgICAgICAgICAgICAgICAgICAgICAgICAgICAgICAgICAgICAgICAgICAgICAgICAgICAgICAgICAgIAogICAgICAgICAgICAgICAgICAgICAgICAgICAgICAgICAgICAgICAgICAgICAgICAgICAgICAgICAgICAgICAgICAgICAgICAgICAgICAgICAgICAgICAgICAgICAgICAgICAgCiAgICAgICAgICAgICAgICAgICAgICAgICAgICAgICAgICAgICAgICAgICAgICAgICAgICAgICAgICAgICAgICAgICAgICAgICAgICAgICAgICAgICAgICAgICAgICAgICAgICAKICAgICAgICAgICAgICAgICAgICAgICAgICAgICAgICAgICAgICAgICAgICAgICAgICAgICAgICAgICAgICAgICAgICAgICAgICAgICAgICAgICAgICAgICAgICAgICAgICAgIAogICAgICAgICAgICAgICAgICAgICAgICAgICAgICAgICAgICAgICAgICAgICAgICAgICAgICAgICAgICAgICAgICAgICAgICAgICAgICAgICAgICAgICAgICAgICAgICAgICAgCiAgICAgICAgICAgICAgICAgICAgICAgICAgICAgICAgICAgICAgICAgICAgICAgICAgICAgICAgICAgICAgICAgICAgICAgICAgICAgICAgICAgICAgICAgICAgICAgICAgICAKICAgICAgICAgICAgICAgICAgICAgICAgICAgICAgICAgICAgICAgICAgICAgICAgICAgICAgICAgICAgICAgICAgICAgICAgICAgICAgICAgICAgICAgICAgICAgICAgICAgIAogICAgICAgICAgICAgICAgICAgICAgICAgICAgICAgICAgICAgICAgICAgICAgICAgICAgICAgICAgICAgICAgICAgICAgICAgICAgICAgICAgICAgICAgICAgICAgICAgICAgCiAgICAgICAgICAgICAgICAgICAgICAgICAgICA8P3hwYWNrZXQgZW5kPSd3Jz8+/9sAQwAHBQUGBQQHBgUGCAcHCAoRCwoJCQoVDxAMERgVGhkYFRgXGx4nIRsdJR0XGCIuIiUoKSssKxogLzMvKjInKisq/9sAQwEHCAgKCQoUCwsUKhwYHCoqKioqKioqKioqKioqKioqKioqKioqKioqKioqKioqKioqKioqKioqKioqKioqKioq/8AAEQgA8wJBAwEiAAIRAQMRAf/EAB8AAAEFAQEBAQEBAAAAAAAAAAABAgMEBQYHCAkKC//EALUQAAIBAwMCBAMFBQQEAAABfQECAwAEEQUSITFBBhNRYQcicRQygZGhCCNCscEVUtHwJDNicoIJChYXGBkaJSYnKCkqNDU2Nzg5OkNERUZHSElKU1RVVldYWVpjZGVmZ2hpanN0dXZ3eHl6g4SFhoeIiYqSk5SVlpeYmZqio6Slpqeoqaqys7S1tre4ubrCw8TFxsfIycrS09TV1tfY2drh4uPk5ebn6Onq8fLz9PX29/j5+v/EAB8BAAMBAQEBAQEBAQEAAAAAAAABAgMEBQYHCAkKC//EALURAAIBAgQEAwQHBQQEAAECdwABAgMRBAUhMQYSQVEHYXETIjKBCBRCkaGxwQkjM1LwFWJy0QoWJDThJfEXGBkaJicoKSo1Njc4OTpDREVGR0hJSlNUVVZXWFlaY2RlZmdoaWpzdHV2d3h5eoKDhIWGh4iJipKTlJWWl5iZmqKjpKWmp6ipqrKztLW2t7i5usLDxMXGx8jJytLT1NXW19jZ2uLj5OXm5+jp6vLz9PX29/j5+v/aAAwDAQACEQMRAD8A+kaKKKACiiigAooooAKKKKACiiigAooooAKKKKACiiigAooooAKKKKACiiigAooooAKKKKACiiigAooooAKKKKACiiigAooooAKKKKACiiigAooooAKKKKACiiigAooooAKKKKACiiigAooooAKKKKACiiigAooooAKKKKACiiigAooooAKKKKACiiigAooooAKKKKACuR+wXGs+Mtail1jU7aC1W3WKG1nEaruQlj06k/yrrq57R/8AkdvEn/br/wCizQAn/CJf9TBrv/gb/wDWo/4RL/qYNd/8Df8A61dDRQM57/hEv+pg13/wN/8ArUf8Il/1MGu/+Bv/ANauhooA57/hEv8AqYNd/wDA3/61H/CJf9TBrv8A4G//AFq6GigDnv8AhEv+pg13/wADf/rUf8Il/wBTBrv/AIG//WroaKAOe/4RL/qYNd/8Df8A61H/AAiX/Uwa7/4G/wD1q6GigDnv+ES/6mDXf/A3/wCtR/wiX/Uwa7/4G/8A1q6GigDnv+ES/wCpg13/AMDf/rUf8Il/1MGu/wDgb/8AWroaKAOe/wCES/6mDXf/AAN/+tR/wiX/AFMGu/8Agb/9auhooA57/hEv+pg13/wN/wDrUf8ACJf9TBrv/gb/APWroaKAOe/4RL/qYNd/8Df/AK1H/CJf9TBrv/gb/wDWroaKAOe/4RL/AKmDXf8AwN/+tR/wiX/Uwa7/AOBv/wBauhooA57/AIRL/qYNd/8AA3/61H/CJf8AUwa7/wCBv/1q6GigDnv+ES/6mDXf/A3/AOtR/wAIl/1MGu/+Bv8A9auhooA57/hEv+pg13/wN/8ArUf8Il/1MGu/+Bv/ANauhooA57/hEv8AqYNd/wDA3/61H/CJf9TBrv8A4G//AFq6GigDnv8AhEv+pg13/wADf/rUf8Il/wBTBrv/AIG//WroaKAOe/4RL/qYNd/8Df8A61H/AAiX/Uwa7/4G/wD1q6GigDnv+ES/6mDXf/A3/wCtR/wiX/Uwa7/4G/8A1q6GigDnv+ES/wCpg13/AMDf/rUf8Il/1MGu/wDgb/8AWroaKAOe/wCES/6mDXf/AAN/+tR/wiX/AFMGu/8Agb/9auhooA57/hEv+pg13/wN/wDrUf8ACJf9TBrv/gb/APWroaKAOe/4RL/qYNd/8Df/AK1H/CJf9TBrv/gb/wDWroScDJ6U1XVxlGDD2OaAMD/hEv8AqYNd/wDA3/61H/CJf9TBrv8A4G//AFq6GigDnv8AhEv+pg13/wADf/rUf8Il/wBTBrv/AIG//WroaKAOe/4RL/qYNd/8Df8A61H/AAiX/Uwa7/4G/wD1q6GigDnv+ES/6mDXf/A3/wCtR/wiX/Uwa7/4G/8A1q6GigDnv+ES/wCpg13/AMDf/rUf8Il/1MGu/wDgb/8AWroaKAOe/wCES/6mDXf/AAN/+tR/wiX/AFMGu/8Agb/9auhooA57/hEv+pg13/wN/wDrUf8ACJf9TBrv/gb/APWroaKAOe/4RL/qYNd/8Df/AK1H/CJf9TBrv/gb/wDWroaKAOe/4RL/AKmDXf8AwN/+tR/wiX/Uwa7/AOBv/wBauhooA57/AIRL/qYNd/8AA3/61H/CJf8AUwa7/wCBv/1q6Go5J4YuJZUT/eYCgDC/4RL/AKmDXf8AwN/+tR/wiX/Uwa7/AOBv/wBat2K4hnUmCVJAOpRgf5U4yIGCllDHoM80AYH/AAiX/Uwa7/4G/wD1qP8AhEv+pg13/wADf/rV0NFAHLah4XeDTLqWLxDrqvHC7KftmcEAkfw1seHLiW78LaVcXLmSaayhkkc9WYoCT+dTar/yBr3/AK95P/QTVXwp/wAiZov/AGD4P/Ra0Aa1FFFAgrntH/5HbxJ/26/+izXQ1z2j/wDI7eJP+3X/ANFmgDoKKKKBhRRRQAUUUUAFFFFABRRRQAUUUUAFFFFABRRRQAUUUUAFFFFABRRRQAUUVn61p9zqenPb2WozafI2MTwgFh+dAEb+ItMTXodH+0K17MrMsanOAOufStSvnzwppcuk/tKT2897LeyBJMyygAt8o9K+g6YBRRRSAKKKKACiiigAooooAKKKKACiiigAooooAKKKrajepp2m3N5KQEgiaQ5OM4BP9KAOQ8f+Kp7A2+haIPM1a/xtUH7kedrP9RnOK6Pw5pDaLodvaTTNcTqgEszdZG9TXnvwrhk8V69qXjjUFY+fIRpu4fcgZRkD8RXq9ABRRRQAUUUUAY/iLX49CslYKJbqY7LeH/no/p7VfsJJ5rKOS6QRyOAxUHOM9q890u5/4S34s3ckp83T9MhRrdT0ScEhj+Vel0AFFV5L+0hOJbqBD6NIBRJf2cR/e3cCcZ+aQCgCxRSAggFTkHoRS0AFFFFABRRRQAUUhIVSWIAHUmo4LmC5DG2mjmCnDeW4bB9OKAJaw9Y1yXRtQt/tEP8AoUzBPNBztY+voPetf7VB9o+z+fH52N3l7xux6461U13TBrGh3diePPjKA+maYF6N1ljV42DKwyCD1riTpN9rPj68TXbCNtKS2UwOJDkvnnj6U74X6zLqOg3VpcH59NuntBk8kJxmrfi/xfbaMFsILu3jv7j5UEkoXbnoST0pAch4UeXRfjRqugaQ5fR1s4pvLByscjMdxz611Xj7T9SFhHrOgyML3TyZRAOBccY2k9vWqfgmDQtLvpYbK7j1DVbj95czxsGIDHO3IPQGu7IypB6UwMPwh4mtvFWgRX1s3zAmOVDwVdeG4+tbteP2bv8AD74xDT1ATSNdKpACcKknLOfxr2AHIyORSAqar/yBr3/r3k/9BNVfCn/ImaL/ANg+D/0WtWtV/wCQNe/9e8n/AKCaq+FP+RM0X/sHwf8AotaANaiiigQVz2j/API7eJP+3X/0Wa6Gue0f/kdvEn/br/6LNAHQUUUUDCiiigAoooJwOelABRWXa69a32qzWNrukaHG+QD5efQ1qUAFFFNkfy4mfBO1ScDvQA6is7SdZttXjcwEq8Z2yIwwyn0IrRoAKKKKACiiigAooooAKKKKACiiigAooqOe4htYTLcypFGOrOcAUAeI6f8A8nSXH+5J/wCgivcq8B0/VtPH7TlxOb2Dytknz+YNv3R3r3qGeK5iElvIsiN0ZDkGmwJKKKKQBRRRQAUUUUAFFFFABRRRQAUUUUAFFFFABXmPxy106f4Ph061lKXl/dwxKB3Rn2t/OvTq8N+JS/8ACTfG7w3o8TbktoXllTtuR1IoA9Y8HaKPDvg7TNIHSzgEf61tUUUAFFFFABRRRQB5h8FYN+m63ePzI2rXUe49cB+leiam10umTnT1VrkL+7VjgE/WvOvg5I9oNc0ubiRdSuJwvfDPwa7Txd4otvCOgTapeRyyRxKTiNCx4oA4r4laJZaR8K9W1C6Cy6kkPmLO/wB9WJHA+lVNM+Htx4r+G9p/al9PFqkgDG6ABdk4Kg57AVnfGTW18ReHdGttO3vbXkmbplHESFQQW9OfWvSY9ZWHSdOstJZLm5eFEXacquFH3iOlMDcsLZrPT4Ld5WlMSBd7dTgYovb630+3ae8lWKNerMQKmTd5a7/vYGcetVdS0mx1i1NtqdrHcwt1SQZBpAZ//CY6F/0EYP8Av4v+NH/CY6F/0EYP+/i/41V/4Vz4Q/6F+y/74o/4Vz4Q/wChfsv++KANWw17TdTkMdldxTOP4VcE1o1j6X4T0LRLjz9J0u3tZcY3xrg1sUAYfjPUk0rwdqdzI+wi2kCH/a2nFcn8D9NmtPh/FqFy2ZNT23LEnuRiqH7QGrpZ+CILMSbZLi8iVh6oWwa3dK1nT9D+FlqtjMkjW9liKKM5bIBwMCmBy3hGefXvjxq2oyZaCwhezX0BzmvY68R+E2qPa6bfXrxA32parukjbh0Vhzkda9uoA8p+HTG3+IuvWanCMzy7e2S1dhrXw58IeItQN7rmgWl7clQvmyqScDt1rkvhnEbzxpr+qLkos8lvn3DV6nQBgeHvA3hnwpcTT+HdGttPlmUJI8IILAHODzW/RRSA8v8AjtpDXHgsa3AStxo7GeJh1BOBxXa+D9Zi17wpY30B3K0SqT7gAGl8XaUut+FL/T2AYTREYNcD+z/qgm8FS6WTl7K5mB+m8gUAem6r/wAga9/695P/AEE1V8Kf8iZov/YPg/8ARa1a1X/kDXv/AF7yf+gmqvhT/kTNF/7B8H/otaANaiiigQVz2j/8jt4k/wC3X/0Wa6Gue0f/AJHbxJ/26/8Aos0AdBRRRQMKKzNfmuI9ImSxDG5kUrER2NeV2WoeIk+Ml14dtNQmubJrKCS5aV8mHdnJX3zxQB7PXLfEHxE/hzwrcXFsA10wCxIf4snBrk/Geq3ngPxL4dlTUbm6t9QuWinimbIAC54FP+JLNqPi7wTZDPk3s7l19RszTA7TwhoqaN4fhj3F5ZR5ru3UlucfrW9TIk8uFEHRVArAvlv9X1h7KCSW0toP9ZKvBbPTbSA6KivGdK1PXLj4o6v4Ti1C4ksoSCbhm+eM7cgD2Ndl4I0zxNpuqauviG7FzbPMptiWJKrj/GgCh4vu28G+K7HXoR5djdOILtF6SSyMFRj9K9DrgvjHbi48A8jPlXkEo+qtkV0vhO/k1Pwnp17M255oQzH1oA2KKiuPO+zSfZtpm2nZu6Z7ZrhpJPij5jeVDoezPGXbNAHfUV5/5nxU/wCeGhf99tQsnxT3DdBoWP8AfagD0CiobP7R9ji+2hBcbB5mz7u7vipqACisfUvFugaNeG11XV7S0nChjHNKFbB6HFVP+FheEf8AoY9O/wC/4oA6Oiuc/wCFheEf+hj07/v+KP8AhYXhH/oY9O/7/igDo6r3tja6jatbX0CTwt95HGQaxP8AhYXhH/oY9O/7/ij/AIWF4R/6GPTv+/4oAYvw48Hrdm6Xw7Yic9ZPL5rftLO3sLZbezhWGFBhUQYArD/4WF4R/wChj07/AL/ij/hYXhH/AKGPTv8Av+KAOjornP8AhYXhH/oY9O/7/ij/AIWF4R/6GPTv+/4oA6Oiuc/4WF4R/wChj07/AL/ij/hYXhH/AKGPT/8Av+KAOjorJ0vxToWt3DQaRqtreSqu4pDIGIHrWo7rGhdyFVRkk9qAHUV5LoniuTxt4m1BptWOm6dZSNDGIpNrO6tg59qefEN34Y+I2l6fb6m2qafq8q2+ZH3GJsFifbpTA9Xorx34t+FPEtto8uteF/EGph4SZJbZJOCvoo/GrF1qsvjnwdpll4Z1i7gv3HlyyxPho2AAJf05zSA9aoriYfA11ZeGZrWTxLqss3lEmdpRuBxng1xHwcXXvE+lXjazrl20cEzpC6yfMwDEfNQB7bRXkPiPX9S+GPizTzdXlxqOlag+2Rpm3NEegx+Jr1uJxLCkg6MoI/GgB9eA6BM9/wDtaajuGUs4p4+fdVNe+k4BJrwXwNGJf2nvFFwOglkGP+2a0Ae90UUhIAJPAoAWioftcH/PVfzo+1wf89V/OgCaio1uInOEkUn0Bqrqut6ZocCzavfQWcTttV5nCgn0oA4qez/4RP4nnVyNtjq0SWuB0jcEsWPp9a7q8srPVbJoL2GO5t5F5RhkMK5jVfFvgjWLB7W68QacVYYDeeMr7ipbHxv4QsrRLdfE1jIEGAWnGcUAa48M6MtrJbDTYBDKoV028MPQ1NY6Np2mMWsLOK3LAAlBjIFZX/CwvCP/AEMenf8Af8Uf8LC8I/8AQx6d/wB/xQB0dFc5/wALC8I/9DHp3/f8Uf8ACwvCP/Qx6d/3/FAHR0Vzn/CwvCP/AEMenf8Af8Uf8LC8I/8AQx6d/wB/xQB0dFc5/wALC8I/9DHp/wD3/FH/AAsLwj/0MWnf9/xQB5149sE8YfGnRdDdfNtYLR5pkb7pZXBr1K28L6JZ7fsumW8W37u1elYq+K/AKan/AGiusaSLzaV88SruweozV3/hYXhH/oY9O/7/AIoA0bfw7pFpePdW2nwxTyNuaRV5J9areLNX/sfw/PLEf9JdSluvdn7AVX/4WF4R/wChj07/AL/isy78TeCL7U4ry78SWEohwY4mnUqrD+Ie9AF7wDoX9ieHi0ilZ76Q3UykdHbk11Fc5/wsLwj/ANDHp3/f8Uf8LC8I/wDQx6d/3/FAHR0Vzn/CwvCP/Qx6d/3/ABXQxyJNEkkTBkdQysOhB6GgBs4zbyD/AGD/ACrwj9nsPbeLvFtk2dscm8A/7Tk17zJ/qn/3TXhXwfY23xb8VRA4DhMg/wC8aYHtmq/8ga9/695P/QTVXwp/yJmi/wDYPg/9FrVrVf8AkDXv/XvJ/wCgmqvhT/kTNF/7B8H/AKLWkBrUUUUCCue0f/kdvEn/AG6/+izXQ1z2j/8AI7eJP+3X/wBFmgDoKKKKBjXKqu58ALzk9q8b+Dkh1rxv4l8QzPueQm0AJ6COQgGu/wDiNqraJ8Oda1CM4e3tmdceuRXH/DHwDFH4HSaa5uree8led2hk2khzu/rTAz/FkbeOvjJpOlWwMtjo0gnuJE5A3KRj862PiIfsPxA8CTAExW9xICfQbMV3Oh+HLDQIWWyjzI5+eZ+Xf6nvXP8AxQ0OfVPDBurBC19ZkPBj6jP6UAdorhow/YjOaxh4n0q4bUYbO7ieezjJlCtyDjIqxoGoQ6toFtPA4dTGEYg/xAYP61iD4caOmr3eoQvPFLeEGZUfCtj2oA4v4KS/2rq3iXxFdYY3c6srHqoUY/pXqem6omptM0KN5SNhJD91/cVhW/w90uzup5bGa5tUnYFoYX2px7V09tbRWlukECBI0GAAOlIDjPi7OsHgKTcQPMuYoxn1JxW14ItXsvBGlW0gw8cAUj8TXMfEhD4l1PTPCdufmkmS9dh/D5Tg4P1r0NUVECoAqjoB2oAZced9mk+zbfO2nZu6Z7ZrhpF+KPmN5Umh7M/LlWzXfUUAef7fip/z00H/AL5agL8U93zSaFj/AHWr0CigCGz+0fY4vtuz7RsHmbPu7u+PapqKKAMbU/CPh/Wbw3eq6PaXdwVCmSWIM2B0Gaqf8K78H/8AQuaf/wB+BXSUUAc3/wAK78H/APQuaf8A9+BR/wAK78H/APQuaf8A9+BXSUUAc3/wrvwf/wBC5p//AH4FH/Cu/B//AELmn/8AfgV0lFAHNf8ACu/B/wD0Lmn/APfgVh6lYfCvR7trbVLbQ7WdescqqCK6zxJrEOh6DcXk7BcDYhJ/jPC/rXG+FfCmnTeHm1zxjYW9zfXg82b7RGG2EdhnpTAi8/4Of3vD35LR53wc/veHv/Haq3l34Wtrd7mD4ePdWy8ieK1QqV7t9K2/C1h4B8X6V9u0jRdNkVSBIghUmNj2PvSAzfP+Dn97w9+S0vn/AAc/veHvyWus/wCED8K/9C/p/wD34Wj/AIQPwr/0L+n/APfhaAMbQNW+Gtjqar4dutHhvJ/3ai2IDPntXX6nate6ZPbI21pUKg+lZ1v4M8NWlwk9todjFLGdyOkABU+oNbdAHiHwWs7KHUtc0PVrRGvobuWbEq8shfg/SvTr+10HTdU01ZNNhNxPPsgdUGY2x1puq+CdM1PUVv1aWzuh96W2bYzj0J7irOm+GbbTrjzmmnunH3TcPu2H1HoaYE2vara6VprNdAO0gKxwD70p9AO9eL6ba3vwj8b/ANpXaRnRtbf5yo/49+rZPp1xXoWo/CvTtU1+HVbrVtUMkMnmRxC4OxT7D8a0fGXgDTPG+jwadq01ykMPQwvtLcY5pAb8s6XOkyTRHKSQllPqCua8o/Z9uIZND1GFJFaSO5k3qDyvzmu58P8Ag+38I6PdQWt/fXaGEqPtcxfaAO1eZfBLw3b6ho99cfaLi3kNzLuMD7d3znrTAt/HeX+1L3RNCsEM97PMHCJyVCsCa9js4zFYwI2crGoOfpWHpPgnTNK1Jr8tLd3R+7LctvZPoe1dHSARhlSPavB/AZ8v9pbxVGevnP8A+ixXvNfP/hJmt/2steibIFx5sg98ItAH0BVa/tBfWUluZXiEilS8ZwRVmigDg/8AhVtt/wBB7Vv+/wDR/wAKst/+g/q3/f8ArvKKAOQ0n4fw6Tfx3SaxqU5Q52Sy5U/Wug1XRNM1y3SHWLGC8iRtypMm4A+tX6KAOb/4V34P/wChc0//AL8Cj/hXfg//AKFzT/8AvwK6SigDm/8AhXfg/wD6FzT/APvwKP8AhXfg/wD6FzT/APvwK6SigDm/+Fd+EP8AoXNP/wC/Ao/4V34Q/wChc0//AL8CujZgiFm6KMmuOfWPEWuTyt4XNrFaxnAluUJDn2xQBe/4V34P/wChc0//AL8Ck/4V34Q/6FzT/wDvwK5bSfiLquleN08MeN4oo5rjJt7uFdsTYHvXpwOQCOhoA5r/AIV34Q/6FzT/APvwKX/hXfhD/oXNP/78CukpsjFI2YAkgEgDvQBzv/Cu/CH/AELmn/8AfgUf8K78H/8AQuaf/wB+BWDptneeLrzXDqD6jpn2a4MMGJNgdSudw/Gofhbr9/d3+u6JfyNcLpV4beKdjksoUHk9zzQB0n/Cu/B//Quaf/34FH/Cu/B//Quaf/34FdJRQBzf/Cu/B/8A0Lmn/wDfgUf8K78H/wDQuaf/AN+BXSUUAc3/AMK78H/9C5p//fgV0UcaQxJFEoREUKqjoAOgp1FADZP9W30NeEfCv978ZvErr0UR/wAzXu0xxC5/2T/KvCPgU4vfiP4vueoBVVP0Y0wPb9V/5A17/wBe8n/oJqr4U/5EzRf+wfB/6LWrWq/8ga9/695P/QTVXwp/yJmi/wDYPg/9FrSA1qKKKBBXPaP/AMjt4k/7df8A0Wa6Gue0f/kdvEn/AG6/+izQB0FFFFAzlvGPgDTfG1v9n1a5vY4SMNHbzlFYe471e8NeF7Twtp62djPcyxKML58pcgVt0UAFNdQ6FWGQwwadRQBz+i+HpdE1Kc2kyixlOVhPVT3xXQUUUAFNk3mJvKID7TtJ6A9qdRQBh6H4eGn3VxqF6yz6hdNvkk7JxjCZ6D2rcoooAKKKKACiiigAooooAK5vVviD4T0K7NrrGvWdnOOscr4NY3xX8VXWgaJbafpIzqWryNbWrYyEfG7JH0FN0T4XaHb+H9upwNe3M6eZNLcHzGDMMnBPIGe1AF5fi34Cdgq+KtOLE4A8zr+ldfHIssSyRsGR1DKw7g14j8EdE0m4XVLaXTrS5htrmTypJIVY53njJHavX9XvLjTtOd7CykuXVDtSIDjA4oA0aK8z+FXxF1Hxbdalp3iGFba/sXwU2hcgk44HtXd67qkOjaLcXlw4QKpCk/3j0H50AcV4qkbxX43svDcQL2EGZL1l/gkUhkBNXfivBrX/AAgOzwravc3qXUJWKNc5QN83Hpin/DfSpV06fXdRQrqGqN5kyt/DjgYHbiu2pgY3hs3N14Ps/wC2LVbW4kgxPBs2hOuRivGvhdLLZfH3xTpdh8ml+fI2xOFDBRivUvHvigaJpRsrJTcapejy4LaM/PhvlL/RSeazfhn4Cfwlo89zeOsusX5825mYE4fGOM8ge1AHR674x8PeGZETX9XtrBpBlRM2Misj/hbngD/oa9O/7+//AFqp674U0y007UNQ1vZeXdwGEfmjcqsRwFB6Vz994c0WDQvDdu2k2q3Us0TS/uVyR3zxQB3+h+OfDPiW8a10HWrW/nRd7Rwvkgetb9Z+n6FpWlSGTTtPtrZ2GC8USqSPTIFaFIAooooAKKKKAM7WdHi1uxa1uJp4kYYLQyFG/Oub8I/C3RvBV40+kXN+d7FjHNcFkyfau1ooAKKKKACvDdcjXwx+0ppepOMDUbSf9SFr3KvGfj5pbwNoniiNtn2C6hgY/wCy8oJ/lQB7NRVbTr+HU9OhvbY7opl3IfUVZoAKKKKACiiigAooooAKKKKAI7iMzWssanBdCoPpkVw/wy8Eav4LgvodW1NL6OeUvCqlsRgknvXeVieJ/EUXh/TS4Rp7qQbYYEPzOemR9KAPHPjSra58UvC2m6Od97AzNIqdQMg/yr3Oe8g0zTPtF9KsUUUYLsx4GBXEeC/Braffz+J/Ezq+rXZBJIwIx0AAPTj0rJ+J91d694z0PwdZylYLxWnn2cE+WwOMjtigCbUPjdbWySXGn+GtT1OwTJ+2WxUxsPUZp2g/GW48Ri1l03wRrUlrcsoW5BQoATjd16Cuz1LS9O03wfewRWsMcMdpJhQgA+4a4r4Cwyn4fiaRWWCfa0APZcHpTA6jxRrLxbtK0dQ1/cjDFR9wdCx+lN8D6Fp/h21ltYLhbi/mbzLuQHO6TGCaydU+C/h3VtauNUuL3WI7mdizGG/dAM9gB0FdD4S8F6b4Ns5rfTJbuYTSeYz3c5lbOMdT2pAdDRRRQAUUUUAFFFFAFPVr2PT9JuLmc4SOMk15F+zxpRi0/VtYwdt7cygH1xIa6z4zauulfDDVCsqpcSx7Yge5yKt/CnQH8OfD2xsphh2zMf8Agfzf1pgdPqv/ACBr3/r3k/8AQTVXwp/yJmi/9g+D/wBFrVrVf+QNe/8AXvJ/6Caq+FP+RM0X/sHwf+i1pAa1FFFAgrntH/5HbxJ/26/+izXQ1z2j/wDI7eJP+3X/ANFmgDoKKKKBhRRRQAUUUUAFFFFABRRRQAUUUUAFFFFABRRRQAUUUUAeZfE/Tpk8WeEdcMbSWOnagZbtv4Yk8sjcfxNbPiLxrC+jPB4XYX2pTpiCGMc5+hrsZIo5kKTRrIp6qy5BqNLK1jcPHbQqy9CsYBFAHNfDzwgPCHhtbaQh7maR55WA7udxH4E11nUetFFAHgnj2Bvh78ZNO8VxZFlqDbJ404UHGBnt3rtfFV2PF2vab4btiZLOQCa8dD/qyuGUE+9a3xN8Inxj4LutPgAF0QGibGSCDnisb4OeDNR8NaDJd+IQ41O7P71JDkpt4H6UwPRoYlhhSNAAqgAACsjxb4msvCPhu41bUpBHDGNoJ7seg/Otqori2gu4jFdQxzRk5KSIGH5GkB8+aB8a/DC38us60jS30xyis3EQPUYI46dq9C8GfEe38e+KA+jqy2UETLJuOcv1Fdt/YOj/APQKsf8AwGT/AAqxbafZ2WfsdpBBnr5UQXP5CgDzj4l31zqfivRPC9kjl2lS9kK/3EbkVV+J01zpnjDw3LDGxtnuo4TjoCTXqjW0DTidoYzKBgSFRuA9M0S20E5UzwxyFTld6g4PqM0wJaKKKQBRRRQAUUUUAFFFFABRRRQAVh+MtBg8SeFb3T7hN+6NnQf7YB2/rW5R9aAPN/grq8svhFtAvgVvNCZbSbd1LY3f1r0ivLfFWny+B/HEHizTInaxuj5d/Cp6yOQBJ6YAFel2d5b6hZxXVnIJYZV3I47igCeiiigAooooAKKKKACiiigBsjMsTsi7mCkgDua8B1HWPidL4vuNSj8E30sCNi2RxGQo6Z5PevoCigDxS1134neIr2DT9X8L3Wn2TOGkmZEG3Bz2Oa6vxT4bv4vG2jeKtLt2u3sIHhktkHzPvxyCeOMV6BRQBwXiGHxB4ygTSYrGbSLZ2Vpp5sEMoPKjac8jiuv0fSLTQtIt9N06Py7a3TYik5OKvUUAFFFFABRRRQAUUUUAFFFYXi3xNb+F9Bmvp/nkCnyoQeZD6CgDzz4hA+NfiXpHhWCNmgsJBPfEHgI6/Ln8RXrkEQt7aKFPuxoEH0AxXEfDXwxNp1pPrWsAvquoMWd27R5yg/AGu7pgVNV/5A17/wBe8n/oJqr4U/5EzRf+wfB/6LWrWq/8ga9/695P/QTVXwp/yJmi/wDYPg/9FrSA1qKKKBBXPaP/AMjt4k/7df8A0Wa6GuTsdUsLLx14jjvb62t3K2rBZZlQkeWecE+1AHV0Vn/8JBo3/QWsf/AlP8aP+Eg0b/oLWP8A4Ep/jQM0KKz/APhING/6C1j/AOBKf40f8JBo3/QWsf8AwJT/ABoA0KKz/wDhING/6C1j/wCBKf40f8JBo3/QWsf/AAJT/GgDQorP/wCEg0b/AKC1j/4Ep/jR/wAJBo3/AEFrH/wJT/GgDQorP/4SDRv+gtY/+BKf40f8JBo3/QWsf/AlP8aANCis/wD4SDRv+gtY/wDgSn+NH/CQaN/0FrH/AMCU/wAaANCis/8A4SDRv+gtY/8AgSn+NH/CQaN/0FrH/wACU/xoA0KKz/8AhING/wCgtY/+BKf40f8ACQaN/wBBax/8CU/xoA0KKz/+Eg0b/oLWP/gSn+NH/CQaN/0FrH/wJT/GgDQorP8A+Eg0b/oLWP8A4Ep/jR/wkGjf9Bax/wDAlP8AGgDQorP/AOEg0b/oLWP/AIEp/jR/wkGjf9Bax/8AAlP8aANCis//AISDRv8AoLWP/gSn+NH/AAkGjf8AQWsf/AlP8aANCis//hING/6C1j/4Ep/jR/wkGjf9Bax/8CU/xoA0KKz/APhING/6C1j/AOBKf40f8JBo3/QWsf8AwJT/ABoA0KKz/wDhING/6C1j/wCBKf40f8JBo3/QWsf/AAJT/GgDQorP/wCEg0b/AKC1j/4Ep/jR/wAJBo3/AEFrH/wJT/GgDQorP/4SDRv+gtY/+BKf40f8JBo3/QWsf/AlP8aANCis/wD4SDRv+gtY/wDgSn+NH/CQaN/0FrH/AMCU/wAaANCis/8A4SDRv+gtY/8AgSn+NH/CQaN/0FrH/wACU/xoA0KKz/8AhING/wCgtY/+BKf40f8ACQaN/wBBax/8CU/xoA0KKz/+Eg0b/oLWP/gSn+NH/CQaN/0FrH/wJT/GgCzeWcF/aSW11GJIpFKsCOxqvo+jWehaellp6usCDChmLYpP+Eg0b/oLWP8A4Ep/jR/wkGjf9Bax/wDAlP8AGgDQorP/AOEg0b/oLWP/AIEp/jR/wkGjf9Bax/8AAlP8aANCis//AISDRv8AoLWP/gSn+NH/AAkGjf8AQWsf/AlP8aANCis//hING/6C1j/4Ep/jR/wkGjf9Bax/8CU/xoA0KKz/APhING/6C1j/AOBKf40f8JBo3/QWsf8AwJT/ABoA0KKz/wDhING/6C1j/wCBKf40f8JBo3/QWsf/AAJT/GgDQorP/wCEg0b/AKC1j/4Ep/jR/wAJBo3/AEFrH/wJT/GgDQorP/4SDRv+gtY/+BKf40f8JBo3/QWsf/AlP8aANCis/wD4SDRv+gtY/wDgSn+NH/CQaN/0FrH/AMCU/wAaANCis/8A4SDRv+gtY/8AgSn+NH/CQaN/0FrH/wACU/xoA0KKz/8AhING/wCgtY/+BKf40f8ACQaN/wBBax/8CU/xoA0Ky9S8O6dq1/Z3l9E0ktnJ5kQLfLnGOR0NSf8ACQaN/wBBax/8CU/xo/4SDRv+gtY/+BKf40AXwAAABgDoBS1n/wDCQaN/0FrH/wACU/xo/wCEg0b/AKC1j/4Ep/jQBLqv/IGvf+veT/0E1V8Kf8iZov8A2D4P/Ra1DqviDRv7Gvf+JtY/8e8n/Lyn90+9TeFP+RM0X/sHwf8AotaANaiiigQVUudJ068m827sLWeTGN8sKscfUirdFAGf/wAI/o3/AECbH/wGT/Cj/hH9G/6BNj/4DJ/hWhRQBn/8I/o3/QJsf/AZP8KP+Ef0b/oE2P8A4DJ/hWhRQBn/APCP6N/0CbH/AMBk/wAKP+Ef0b/oE2P/AIDJ/hWhRQBn/wDCP6N/0CbH/wABk/wo/wCEf0b/AKBNj/4DJ/hWhRQBn/8ACP6N/wBAmx/8Bk/wo/4R/Rv+gTY/+Ayf4VoUUAZ//CP6N/0CbH/wGT/Cj/hH9G/6BNj/AOAyf4VoUUAZ/wDwj+jf9Amx/wDAZP8ACj/hH9G/6BNj/wCAyf4VoUUAZ/8Awj+jf9Amx/8AAZP8KP8AhH9G/wCgTY/+Ayf4VoUUAZ//AAj+jf8AQJsf/AZP8KP+Ef0b/oE2P/gMn+FaFFAGf/wj+jf9Amx/8Bk/wo/4R/Rv+gTY/wDgMn+FaFFAGf8A8I/o3/QJsf8AwGT/AAo/4R/Rv+gTY/8AgMn+FaFFAGf/AMI/o3/QJsf/AAGT/Cj/AIR/Rv8AoE2P/gMn+FVbvxVp9r4qtPDqia41G5jMpjgUMIIx/HIcjaPTufyqDUPHvhXSr+Wy1HXrK2uoTiSKSTDKcZ5H41PNHuaKlUeyZo/8I/o3/QJsf/AZP8KP+Ef0b/oE2P8A4DJ/hWN/ws3wV/0M2n/9/hW7pmr2Gtact9pN1FeWrEhZYmypIODz9aFKL2YSpVIK8otfIj/4R/Rv+gTY/wDgMn+FH/CP6N/0CbH/AMBk/wAKyPAHjIeOvDH9sCxNiPPeLyjL5n3cc5wPX0qfxP448P8Ag1rYeI782hutxhxDJJu24z91Tj7w60c0eXmvoN0aiqeyt73bc0P+Ef0b/oE2P/gMn+FH/CP6N/0CbH/wGT/CuR/4Xd8P/wDoOt/4Bz//ABFH/C7vh/8A9B1v/AOf/wCIqfaQ7o0+qYj/AJ9v7mdd/wAI/o3/AECbH/wGT/Cj/hH9G/6BNj/4DJ/hU32+N9JGoWsclzE0PnRpEvzyKRkAA45I7HFVPDniPTvFWjJqWkSl4WYoyONrxOOqsvYj0q7q9jDllZu2iJf+Ef0b/oE2P/gMn+FH/CP6N/0CbH/wGT/CtCimSZ//AAj+jf8AQJsf/AZP8KP+Ef0b/oE2P/gMn+FaFFAGf/wj+jf9Amx/8Bk/wo/4R/Rv+gTY/wDgMn+FaFFAGf8A8I/o3/QJsf8AwGT/AAo/4R/Rv+gTY/8AgMn+FaFFAGf/AMI/o3/QJsf/AAGT/Cj/AIR/Rv8AoE2P/gMn+FaFFAGf/wAI/o3/AECbH/wGT/Cj/hH9G/6BNj/4DJ/hWhRQBn/8I/o3/QJsf/AZP8KP+Ef0b/oE2P8A4DJ/hWhRQBn/APCP6N/0CbH/AMBk/wAKP+Ef0b/oE2P/AIDJ/hWhRQBn/wDCP6N/0CbH/wABk/wo/wCEf0b/AKBNj/4DJ/hWhRQBn/8ACP6N/wBAmx/8Bk/wo/4R/Rv+gTY/+Ayf4VoUUAZ//CP6N/0CbH/wGT/Cj/hH9G/6BNj/AOAyf4VoUUAZ/wDwj+jf9Amx/wDAZP8ACj/hH9G/6BNj/wCAyf4VoUUAZ/8Awj+jf9Amx/8AAZP8KP8AhH9G/wCgTY/+Ayf4VoUUAZ//AAj+jf8AQJsf/AZP8KP+Ef0b/oE2P/gMn+FaFFAGf/wj+jf9Amx/8Bk/wo/4R/Rv+gTY/wDgMn+FaFFAGf8A8I/o3/QJsf8AwGT/AAo/4R/Rv+gTY/8AgMn+FaFFAGf/AMI/o3/QJsf/AAGT/Cj/AIR/Rv8AoE2P/gMn+FaFFAGf/wAI/o3/AECbH/wGT/Cj/hH9G/6BNj/4DJ/hWhRQBn/8I/o3/QJsf/AZP8KvoixoqIoVVGAoGAB6UtFABRRRQAUUUUAFFFFABRRRQAUV4NrF7deKf2m7TTbe5mFnp8kauiSEKREvmtkD/aJWtD9ojXbm1s9E0fT5pY5riZ538lyrEKNqjj1Lt+VYOslGUrbHoxwMnUp076yV/Q9pqG7uVs7Ge6kBZIY2kYL1IAz/AEqtoOnnSfDun6e7s72ttHEzsclmCgEk+5yav1t0PPdkzB8HeLbPxr4eTV9OgnggaRowk4AbK9ehIreoAx04ooV7ajm4uTcVZHL6r8R/C+h6xe6Zq+praXNlEssqyIeQwBAXj5jgjgZNZ+m/GDwdqWpfYTqD2cjAsjXsLQo4xnO5uB+OKwtIt4Z/2mvEDTwxyNFpUTxl1BKNiEZGehwTzR8b7WCYeE5JoY5G/tmOIl1ByjdV+hwOK53OdnJdGelHD0HONNp3kk738r7W/U1rr42eCrW4KfbriaIPsa5htXaIH/exz+Ga7mzvLfULGG8splnt50EkUiHIdSMgisjxhaW7+ANbtmhj8gadOBGFG0YjJGB2xXnWmaxc6R+yqt/byuk62jxJIv3l33BjBHpgNV88oyal2uZKjTqwTppp8yWrvv8AJHWal8XPCWnahNZi7nvZLc4nayt2mSL6sBj8s10egeI9K8UaWuoaFeR3dux2llyCjf3WB5B9jXmPgXx3pXhjwXpunWnhDxOxWBWmmg0vKzSEZZw27kE9D6Yp/wAMJp3+KXieay0XU9K0XUYVuYo7y1MIEoKhuOQCSznAPSojVba8zWrhIxjNpNcvVta/Lp3Op1r4r+GND1S40+4kvJ7m1bZOttaO4jPoTgDv2rZ8LeMtD8ZWUlzoF4LhYiFlRlKvGT0yp9cdelZurfE3wvo+qS6b9qmvb+IkSW1hbvOyHuCVGAc9s5riPh5qUGo/HnxPcWFldafb3NgkptrqDyXDAxAsU7ZJY++7Peq9o1JK9yFh4yoylytNK93s9vJHean8SPC2i6xfaZq2qJaXNhGskyyoRkMAQF4+Y4YcDJrNsfjJ4PvdWgsPtdzbvcMFhkubZ40cnpyen1OBWLodtBP+0t4oeeGORotPgaNnQEodkIyM9DU37QEMcnwyMropkhvIjG5HKk5BwfoannnyuXa5caFD2kKTTvJLW+112sen1U1XUYdI0e81G7OILSF5pD7KCT/Kp4GLW8bMckoCT+Fct8UzIPhZr/k/e+yHP+7kZ/TNbydotnn0oKdSMX1Zi/ByxnvNFvfGGrDfqfiC4aVmI+5EpKog9Bwfw2+lHxMkttF1Pw7cxaRpUw1LVorW9luLJJHZGI/iI64B5roPht5f/CsfD3lfd+wRZ+uOf1zXE+P9N+IXiuaOxt/Ddklpp+pi6tLoXqBpQhYKSpbjIOSKwelJJHoQfPi5OTSSb3dtNl9xo/EOHT/D1z4bt9H0LR1l1TVY7WTzNPibKNwcccHkc1f8RaFLBqAj0bxvB4WtViGNOht4QoOTl8Ejr9O1c7r2j/EvxLq2jajdaVoVkdHuDcxJJdMys3GN2Owx2xXTWXggeIYZb/4j6Vod/qjNtilsRIUEQAwp3c5zu/Oizk3ZfoNuNOEXKSdr3taXXz02Mn9n7/kl4/6/Zf5LXprxRyY8xFfHTcM4rzX4Bwy2/wAMwk8TxP8AbZTtdSD0X1q63w88RM5I+IusqCcgCNeP1qqbapxsrmWKjCWJqXlbXz/Q7r7Lb/8APCP/AL4FeefHPyLb4T34EaI0s0KKQoBz5gb+Smua8H6b4q8TeIPEunTeO9WgXRb37MjoFJlG5xk+n3f1qh/wiOr+MfH+t+Ddc8X6jc2WkrFcxvIitvdlU5I6cbzUSqOULJb6G9HDxo1uaU17tm99tPLzR7jpMDWui2Vu4w0VvGhHuFArzdWPgj48LbQ/u9K8WRGQp/Cl0ucke5/Uye1df4X8M6poNzPJqXie+1pZUCrHdKAIznqMVx/xbGPG3w8aL/j5/tcBP93fFu/pVzvyqXYww6TrSp3upJ/lf8Gj1SiiitzzwooooAKKKKACiiigAooooAKKKKACiiigAooooAKKKKACiiigAooooAKKKKACiiigAooooAKKKKACiiigAooooAKKKKACiiigAooooAKKKKACiiigAqO4uI7W1luJ22xQoXdvQAZJqSuI+MGtronwv1V94WW7j+yRDOCxk4bH/Adx/CplLli2aUqbqVIwXVnivwu8b6JpPxE1nxF4quHt3vIpWiYRtIN7yBiPlBOcdD060zxL4ztPFXxp0nVtRtrm20q2mt1iR4iZHiDbw2wcncWzgZ4I616V8Ivh5osvw60++17RbS7u7mR7pGuYQ5VSQF69iqhsdOa9HuvDWiXuqW2pXelWkt7a48m4aEb0x0wfbt6VyRpTlBK/me7WxuHp4iTUW3Zx3+Whpg5UEd/UYqG8E7WM4s2CXBjYRMegfHB/OpqK7T54wfBsHiS28OpH4zu4bvVPMYtLAFClP4R8qqP0reoopJWVipy5pOVrXPNNFtLlP2jvEN09vKtu+lRqsxQhGP7ngHoTwaX4yWlxdReFvstvLN5etwu/loW2rzycdB716VRWfs/dce50rEtVI1LbJL7lYyvFSNJ4O1lI1Lu1hOFVRkk+W3ArifBnhp9d/Z9ttAvVe1lubaaP94hBjbznKkg89cGvS6KpwTld9rGcK0oQ5F3T+48l8M/EK68F6HbeHvHGgapb3WnItvHdW1v5sM6KMIQwPXGBxn8Oldv4Y8XN4qkuGt9E1PT7OJRsub+ERecx7KuSSB610dFKMZLS+hVWrTqXahZvz0+48R+HniBPhrHqegeLNI1JNRkvXmW7gtGlW7UgAYYcnoSO3Prmtbwa97qPx21zWZ9JvtPtrzSkMAu4trEAxKM4yATtJ2nkd69YoqVStZX0RtPFqTlLl1krPX8vuPNNAtLlP2ifFNy9vKtvJp0KpKUIRjth4B6Hoal+OlrcXnwymis4JZ5DdREJEhZsZPYV6NRT9n7rj3M1iWqsKlvht+BHbjFrED12D+VV9Y0yHWdEvdMuv9TeQPC/sGUjP61corTpY5U2ndHm/wAGNQng8O3fhTVf3eqeH7hoJIz3jYllYeo6gewHrWz8UfEl/wCFPh7f6npIH2tSkaSFdwi3MF3Y9s8e5FaNz4SspvGFt4lt5p7TUIozDMYCAt1GeiyAg5x2IwenoK172yttRspbO+gjuLaZSkkUi5VwexFZqMlDlOudWnKuqtrp6tfmebaN8IdA1vSbXUvE2p3/AIjurmJZWuJbx/LORn5ADnHPqfw6U7Vfg94f0jTbi/8ADepX/hy6t42kW5hvH2LgZ+cE5K/iKtD4P2Ng7f8ACNeI9f0KEnP2a0vT5QP0PP5k0H4P2d+y/wDCS+JfEGuQg5NtdXpETH6Dn8iKz9npbl/r8zq+se9f2zt2t+mxp/CvxLqHiv4fWWpauAbrc8Tyhdol2tgPj+fuDWZ491bULH4meBbOzvbiC2vLiZbiGOQqswGzAYDr1PX1rvbGxtdNsYbPT4I7e2hUJHFGuFUegFYXivwHonjOWzk1yOdns9/kmGYx7d2M9P8AdFaOMuS3XQ5YVaX1hzatF307XTsHhjwdD4Z1rXtRhu5J21q6+0ujIAIjljgev3v0pml+DBpnxC1rxSL4yHVIo4zbeVjytiqM7s852+g61i/8KU8Jempf+B8n+NH/AApTwl6al/4Hyf41NpaLl28/+AW50223Ueqs/dW2nn5HoNeXXC/8Jp8ebbyP3mm+E4SZX/hNy/8ACD6jC/ihr0K10mOw0CPStPmmt44YPIil3BpEAGActnJHvmq3hfwvp/hPRxp+mCR9zmWaeZt0s8h6u7dyauUXKyMaVSNJSkt9l8939xsUUUVocwUUUUAFFFFABRRRQAUUUUAFFFFABRRRQAUUUUAFFFFABRRRQAUUUUAFFFFABRRRQAUUUUAFFFFABRRRQAUUUUAFFFFABRRRQAUUUUAFFFFABRRRQAVHNbw3ChbiGOUA5AdQ2PzqSigBFUIoVQFUDAAHAFLRRQAUUUUAFFFFABRRRQAUUUUAFFFFABRRRQAUUUUAFFFFABRRRQAUUUUAFFFFABRRRQAUUUUAFFFFABRRRQAUUUUAFFFFABRRRQAUUUUAFFFFABRRRQAUUUUAFFFFABRRRQAUUUUAFFFFABRRRQAUUUUAFFFFABRRRQAUUUUAFFFFABRRRQAUUUUAFFFFABRRRQAUVU1PVtP0a0N1q99b2UAOPMuJQi59Mnv7VzZ+K3gcEg+JLPj03f4VLlFbs0jSqTV4xb+R19FZOg+KdF8TpM+g6hFfLAQJTGDhSc46j2Na1NNNXRMoyi7SVmFFc34Ku/Fd3p923jWwt7G5W4K26QEENFgYJwzc5z6fSukoTurjnHkk43v6BRXCeIPHmqp4ul8MeDdDXVtRtoVmu5JpxFFbhgCASepwQevfvzjU8L6x4rvb6a18V+HItMVI98V1b3aypIc424HIPfmpU03ZGjw84w53bvur/dudEbq3F0LYzxC4K7hFvG8j1x1xUteC3+seMB8eLe6XwvCdVTTGjisftybZIdz/ALzf0B68deK9gsdR11/Cb32o6GsOrrHIw02O6VgzAnavmdBuAHPbNTCopNmlbCukou6d0uq/z289jaorzTUvGXxH0ezl1K+8EWbWMCmSZIdQDyIg5J464HoDXXaT4qtdc8Dp4k01GMMls8yxvwQyZ3KfoykZqlNN2Inh5wipaNbaNPX5G7RXmOhfEnxX4r8P2974d8FNM8hcSz3F4sUCkMQNhPzP054GDkVo+EfH+qal4uufC3ivRF0nVYYPtEflS+ZHKmR0P4+p79CKSqxdvMqWEqxTvbTdXV/uud7WL4w19vC/hHUNajtxctZxhxEzbQ3zAYzg461keMvH3/CO6pZ6Ho2ly61r16u+GzicIFT+87dhwfyOSK4n4geIPHTfD/VbfxH4Rgt7OeEK11aXqyeR8wI3LySO2RUzqJJ2LoYWU5QcrWbW7Sur/eereHtUOt+GdM1V4hC19aRXBjDZCb1DYz3xmtGuW8J3Fza/CXRJ7CzN7cx6PA0VsJBH5reUuF3HgZ9TXOan4z+I2i2cup6h4Js2sIFMkyQ6gHkRByTx1wPQGq50kmyPq7nOShbe2rS/M9MorB0/xVbax4FHibTULQvaPcJG/BBUHKn6MpH4Vxmj/E/xP4n0C2u/DHgmW8mcN58stysMCMGIARmx5nAGcYwTih1IomOGqSvpazs7tK33nqNVtSuzYaVd3YTebeF5QpON21ScfpXP+NPHNv4OsLTfZy3+p37+VZ2EB+aV+O/YAkDOD1HFcxqvib4iLoF9Jqnge3FnJbSBxb6gjSwqVI3Ec7sdcCiVRLQqnhpzSlpZ92lf0udd4D8UP4y8G2euS2q2jXBkBhV94Xa7L1wPTNdFXn/wP/5JDpP+/P8A+jnr0CnTbcE2RiYRhXnGOyb/ADCuU8a+MpPCd1oUMdkt1/at+loxaTb5YYgbuhz16Vk6p8RtUvPE13oPgPQP7aubA7by6lnEUELf3c9zkEdRyDjOK4rx5rPia+17wha+KvDiaW0eswvHcQXSzRy/MoI45U/Ws51Vb3Tqw+Ek6i9pa3a6vt2vc92orn/GPjCy8G6Ot5eRy3M08ghtbWAZknkPRR/j/XArlb3x1460PTzq+u+CoU0tAHnW2vg80Cd2I6HH4e+K0lUjF2ZzU8PUqK667XaV/S56VRXGeKvHjaT8PIfFugWaanaP5cjK7lCsb8Z4B5DEAjtz6V1dhew6lpttfWjb4LmJZo29VYZB/I01JN2RnKlOMeZrS9vmixWH4V8Xad4xsbq70lZ1jtblrWTz0CneoBOME8fMKo+FfGEvijxFr9rBZomnaTcC1jut5JnkGd4xjAAx+opvw+8YyeNNJ1C8lskszaX8loFR924Kqnd0H97p7VPOm1ZmjoyjGXMtrddr/wBfI6yiuD1LxB8RheXH9k+DLNrWORljafUU3zKCQGABG3I5wemaveBPHX/CY2eoRz6c+narpkvk3dm7btrc4IOBwSrD2x+NNVE3YJYeahz6NeTTsdSLq3N0bYTxG4VdxiDjeB6464qh4l8Q2fhXw9dazqYla1tdvmCFQzfMwUYBI7sK8XtNa8Zr8cr68j8KQvrDaWEk0/7egVItyfP5nQ9Bx716fr/ivUvDvwzn8RarpMceoW6I0th54ZVLSBMbxnPBzUKqpJ9LG08I6c4LR81tLrr/AFvsdLp19Fqel2t/bBhDdQpNGHGDtZQRn3wasVjL4jtLbwXF4i1Qra232JLqUA52BlDbR6nJwPWuPtPHPjnXbQap4e8ExtpbjdAby9WOa4TswX+HPXnI9CatzSMY0Jzu1ol3aXy1PSaK5nwV43tfGNpcgWsthqNjJ5V7Yz/fgfn8xwecDoeK55fiZrN14o17QtG8KTanc6ZMscTRXCxxkHOTI7cL0GAM556Yo9pGyfcFhqrlKNtVvqj0eivM2+I3ifQfEem2XjbwxDYWWpzi3hurW6EoRyQAG6+vtxyM4r0ynGSlsTUozpW5uvZ3/IK5HRfF914l8aahY6NBC2iaV+5ub58lpbj+5Hg4wO5Of1Bqf4ka7J4b+HWsalbsVnSDy4mXqruQisPoWz+FRfDDQ49A+G+j2yKBJNAtzMccs8g3HP0yB+AqW25qKNIwjGg6kursv1f9dx3ijxyfDOpx2Y8N67qvmQiXztOtPNjXLEbSc/e+XOPQisX/AIW23/Qi+Lv/AAW//ZV3OrRyTaLexQO8cr28io6MQysVOCCOhrjvgvqVzqnwusJ765lurhZZleWZy7t+8YjJPJ4IpPm5rXNIKl7FzcL2aW763/yK/wDwttv+hF8Xf+C3/wCyrtdE1T+2tFt9QNldWPngn7PeR7JY8Ej5l7dM/jXEz6hfXX7RFtp8F7cJY2eimaa2SVhG7FmALLnBPzr19BXotEG23dkYhQio8sbXV9zjNe8SeNbDW7i20XwQNUsY9vlXf9pRxeZlQT8p5GCSPwrl9a+Lfivw7eWNrrPgWO1m1CTy7ZG1VG8xsgdlOOWHJwOa39c+Jklnq91ougeF9X1fVLd/LYLDsgU4yCZOcDBBzjGO9Ysfwt1Hxmb3VviRdgajcw+VZ2to3yacM5BBzhmz9R15OeM5OTdoPX8PyOqjGlBKWIgkvnd/K/z/ACNL/hMPiN/0TYf+DiL/AArtbW9u28Px3t/YPBefZ/Nlso3EjI+3JQEcMc8e9ee23ibxr4DjWy8XaJc+ItPi+WPV9MG+QqOnmR+vuSPqetegaDrVv4h0S31SziuIoLgEotxHsfAJHI/Crg7u13fzOfEQsk1FW7pvX72/8zjv+Fp3v/RPvFn/AIAGj/had7/0T7xZ/wCABqPQ769X9oDxJp093PJatp0U8EDykpHgRg7VJwOSenrSaRd3d3+0B4jga7nNjZaZEn2fzD5YdxG27b0zjPPvUc0u/Wxu6dJX9zaKlu+tv8zR+LPiLU/DHw+n1TRLj7LdrNEquY1fAZsEYYEV2Nq7SWcLucs0akn1OK+bviFZfDyDwjK/hXXZr3UfNTbC95JICueTg8dK+gL+zv8AUPCv2XSNROmXkkMflXYhEvldCflPByAR+NVCbcmRXoxp0oLa7erVu3roYWv+LfFWl65PaaT4Fn1a0j2+XeJfpGJMqCflKkjBJH4Vq+Fda1nWrWeTXvDsmhSRuFjjkuVm8wY65AGPSvMfiEfHngLw0urSfEB70vcLAkP9mRR5JBOc89lPauq07wp46Z7W6l+I7zwEpI0X9kxDzF4JXO7jI4zSUpc1tfwKnRpqipXir9ffu7b9LfgT6v4l1W1+N2g+H4LkLpl5YSTTweWp3OBJg7sbh90dD2ra8a61qvh3w+2r6TZw30dowkvIHyHMA+8yEHG4DnnPGfx4nxXe2unftF+GLnULmG1gTTJd0s8gRVyJgMk8da9Ms7/TtZtHewu7W/tyTG7QSrKmccqSCR0I496cW3zK/UyqxUFTny6W189WN0fVrPXdHtdU02XzbW6jEkbex7EdiOhHqKu15b8InfRdf8WeDmYmDS73zrTJztjkzx7cBT9WNepVpCXNG5hiKapVHFbdPR6oKKKKswCiiigAooooAKKKKACiiigAqpquow6Po95qV1nyLOB55MddqqSf5VbrM8S6Qde8L6npIkEbXtrJCrnopZSAT9DSd7aFQs5Lm2PDvAehzfGXxRqPiHxpLLPp9o4jhsklKoC3OwY5CqMZxgkkHPWsjVPCWheF/j1ZaE9kt/pF9JEgtpWYmLzTtAyCD8rcjPbrnrVvwTrvjH4Vf2jolx4NvdQNxMHj2K4AfGMqyqwcEAdPSuw+Hvw+1u/8ZS+O/HqCPUJWMltZ94yRtBYdtq4Cr17nkVwRippK2t9T6WpVdGc5OVqdrRSe/pb8z0rw/wCF9G8LWstvoFhHZRTPvkVGY7mxjPJPataiiu9JJWR81KUpO8ndhRXNeCvBNn4H0+7tNPubi4S6uDcM0+MgkAYGAOOK6WhXa1HNRUmou6PN/EfgzxRp3jm58X+AruzNzewrFeWF8Dsl2gAEEeyjuMc884q54Q+IV9qviWbwx4q0R9G1uKHzlUSb45k7lT/9cjg88YqzrVz8RLHWLhtEsNG1TTXIMCyStFNHwMhj9085qj4Y8J+Irvx4/jHxq1lDdpa/ZLSzsiWWJMkksx78t3PU9OlYaqXu3/Q77xlS/etOy0a38l/w6KF7/wAnO6f/ANgM/wDoUldx4q8T2PhDw5caxqm8ww4ASMZaRicBR9TXJ+MvCniP/hP9N8Y+EBaXFzbWptZ7O6coJEy2CD/wM9x0HXmrPibwrrfj34bTaZrwstP1ZpRNELd2eJCp+UMevIyCR0zTXMuZJaikqU3SlKXu2SffcoX2vfELWvDlzcW/hjS9Ms5rV2xf3rPJ5ZU87UAwcdj+NV/hX/yb/wD9sLz/ANCertqPifqGlnSNSsNEsg8Rhl1HzmkypGCyxg8t9SBntV3wN4U1Lw/8KP8AhH9QEQvvKuFwj7ly5Yrz+IqYpuV9duppUlCNFw91e8tnfTX1K/wO/wCSQ6V/vz/+jnrPuv8Ak5yy/wCwGf8A0J66T4ZeHb7wr8P7HSNWEYuoGlLiN9y/NIzDn6EVVn8K6lJ8arbxOoi/s6PTDasd/wA+/cx+76ciq5XyRXoQ6kPrFaV9HzWMHwuVuP2jvF0lwP30NlEkIP8ACm2LJH6fnXR/Fr/klGvf9e4/9DWqHi7wVrQ8YW/jHwPcW0OrJF5F1bXWRHdx8YyR0OAPyHIxzneIdM+JXjPwze6Xe2mjaPDNFhlSVppJmBBCg/dUEjryRU6xjKNu5a5J1KdVSSS5b36WNfTvFFh4O+Cuh6xqm9oYtMtVWOMZaRjGoCj/AD61m6nrnxC1jwxeTxeGdL0uzmtJGYX140kgjKHPyqBg47H8aua78PrrxD8HdO8LyzR2+oWdrbhXJJjEsaBSCRzg8jPvmooR8TtV0mTSNTsNEsfMiMMuoec0m5SuCyxg/e+pAz2pvm21tYUfZazVm+Z3u+nS3f8AEpfDP/k3f/t0vf8A0OStP4If8kg0f/en/wDR71P4L8KanoXwi/4R2/EQv/IuY8I+Vy7OV5/4EKu/DTw9feFfh/p+j6qIxdW5lLiNty/NIzDn6EU4RacfT/InEVISjVs953+WpyutMs/7Tfh+G5+5DpTvAp5Bc+bk/kP0r0TxD/yLGqf9ecv/AKAa5nx/4IvdfvNN13w3dx2Wv6Sxa3klB2Sp3jb26+vUjvkUZf8AhaGu6fNpt3Y6HpCTRtFNdiRpmIIxlEzgE/7Ro1i5K24pKNWNOSklyqzv6/j8iX4H/wDJIdJ/35//AEc9d+xIQlRkgcD1rlfhn4dvvCvw/sNH1YRi6gaUuI33L80jMOfoRXV1pTTUEmc2KkpV5yjs2/zPK/2fSk3gO/uid1zPqkrTtjndsTj9c/iaf8ZP+Qn4J/7DkX/oS0o8I+LfA/iPUb3wEtjf6TqcvnS6ZduYzDJ3KN09fwwMcA1Br3hXx94t1HQr/WV0m1i07Uop/sNs7EhAQWdpD1PGAo45rDVU+S2p6F4PFe35lyvz122t/SK/xWfVW+KfgqPSI7R7lfOe1F6W8oy8fe289lxjvite/i+LGo6bc2VxZ+EvKuYmhfDz52sCD39DW34/8E/8Jhp9pJZXf9n6tps32ixu9udjf3T7EgfkOvQ40N98XI4xbS6R4ellAx9sM7hG9yoOc/QCm4tSd769iIVFKlBR5bx7+t9C94O8E3On/Cf/AIRLxE0Ls8c8LmBiyhZGYggkDkbs1yvg3xlL4a+DeuW+pMBqXhiSWyCserFiIvw3Hb9Fr1TRotSh0e3TXbiG51AAmaS3TZGSSThQewGB+FeaeKPhXqOs/E5NRtJYk0C+lguNUgL4MjxZ4245BGPxYmnKLik4ehNGrCpKca70b5vmnrb1V/wOr+F/h5vDfw9062nBF3cL9qui33jJJ8xz7gYX8K5r4GzR2/g/xBNMwSOPWrh3Y9FAjjJNep1wPw88E32heE9c0jXhGv8AaV9PIPJfd+6kjVevY8Gq5bSjbpcyVVThUc3rJr82V9O8feKPF0Ul34K8MQNpgkaOK+1O78sTEHBIjUZx+P68Vk/CU6gfiR47OspbpfGaAzrakmMN+8+7nnH1qbwto3xH8D6d/wAI9p9ho+qadC7m1u5bhoioZi3zL16k8Afia2PAXhHXdA8YeJtV1+a1nOrGF0ktgVUsAxYbTkgAtgZPOM1nHmcot3Omo6UIVIwtZrSz1eq3/pGbp/8Ayc7qn/YDX/0KOtf4z/8AJINc/wB2H/0dHVHxL4W8UWPxJj8Y+D47K8eWz+yXNpdyFMjPUH8F/LvmtHxXoniLxZ8JrzSr2Cyh1u7VcxQynyVxMrAbjz91efeqs+WUbdyOaHtaNTmVlyp+VtzkPijJIn7P+hIuRFILJZyOyeVnP5ha9igjjit444FVYkUKgXoFA4xXN3fg+HXPhrB4Z1jCn7DFCzpz5ciKMMPXDD8fxrm9Pj+Kmg6fHpEVpourpAvlQahLOyNsHCmRepOPT8z1pq8JXa6Izly1qfIpJNN76Xvb/Ih0VfJ/aX8Qraj93LpMb3AHAD/usfjj+Zpfht/yVf4if9fcH/tSug8CeC7jw7JqGra7eJqGvas4ku7hFwiAdI0/2R+HbjgVB4O8K6lonjvxdq18Iha6tPFJbFHyxC785Hb7wpRi7p+bLnVg4zin9mK9bNGN8bv+PLwt/wBh2H+Rr1CuJ+JfhXUvFNtoaaUIibHU47qbzH2/IoOcep5rtq0inzyfoc1SUXQpxT1V/wAzz74427z/AAk1Mx5PlPC7Adx5qj+ufwrrfDFyl54R0i5hxsmsoXXHoUBqxrGlwa3ot5pl4MwXkLwvjqAwxke461wvwm1C40y0vPA+uHZqehuwizx9otmOVkX1HOPYbaW1S/cpe/heVbxd/k7L81+JueKPAVp4q1KO9utX1mxaOERCOwu/KQgEnJGDz83X2Fee/D3wB4b8VeF/7Q0XVPFGm2wneMQf2gq8jGThUx3rrJdS+KomcQ6F4fMe47C1y+SO2ea5zwVoXxN8D+H/AOybDSdEuIvOaXfPctuy2OOCPSspKLlflZ103UjRcVUV9Larzv8AoVrLwD4bufibqPh6LVPFCajaWazSXv8AaC/vEOzC52bv4h7cV6zpujnRvDiaXYXlxK0MTJFc3b+bJuOSCxxzgn9K8vtNB+Jtn4+vvFiaTojXV7arbPCbltiqNnI5zn5B3713vhe78Z3F5Mvi7TdMtLcR5iaylZ2Z89Dk9MU6Vk3oZ4tykk+dNJLqt+pzp0n4iLeLaN8QtLFyy71hOnR7yvrt644PNYPim/8AiT4X1fQbCXxdaXDa1eC0R102NRESyjceOfvfpU3ivXNN8O/tFaXqGtXS2lquilWlYEgEvKB0BrT13xn8MvEWoaTe6j4hUy6Tci5tvLEijeCp5+XkfKKl2s1ez9TeKmnGThzRavpBefkW/wDhHPid/wBD1Y/+CpP8K2NK0/xpYaLqY1LXLLVtRePNgWtRDHG4B4fbyQTj6VW/4W94E/6GK3/79yf/ABNdbaXUF9ZQXdpIJYLiNZYnA4ZWGQfyNbRUW9H+Jw1ZVor95BL/ALdS/Q8dbRPiPaeP18QTXvhO21a8tPsSQSTyBZUDBvlXGScgdDV7S/BHxJtPEmq63/bWg215qwjFw0cMkoARdq7QyjHFL8U9RtNI+KHgS/1Kdbe1gknaWVs4UfJzxXUf8La8C/8AQx2v/fL/APxNZJQ5mm9vM7ZTrunGUIJ8y6R7Pb8Dl/jTolhYfCeWSKwsorpZoFeaC3VCTnnGBwDXqVl/yD7f/rkv8q4zUPiR8N9WtDa6pq+m3tuxBMNxAZEJHQ4KkVva1pNt4x8IGztdQuLS0vokeO5sn2MYzgjHsV4wexrSNuZuOpx1Of2cIVU1q9Wu9v8AI848Wp/wt/xsnhnSZyNE0ZXkvr2PlTcFSqKp74P5/N6Ct74Y+LJEt/8AhDPE5+y+INJHkBJDgXMS/cdD/F8uPqOfXHY+HPDel+FdGi0zRLYQW8fJ7tI3dmPcn/PFU/EngjQfFc1rPrNn5lxaSK8U8bFHGDnbuHJU+n5YPNJQknz9S5YilKPsWvcW3e/f59V6djg/GelWOtftCeGrHVrWO7tZNMlLwyjKtgTEfqAa9M0bQtL8PWbWmiWMNlbvIZGjhXALEAE/XAH5V59r/H7SnhbH/QLm/wDQZq7rxV4jtfCnhq71e9IKwJ+7jzzLIfuoPcn/ABohZOUn3CvzyjSpx6xWnzZwngr/AEr49eObuH/VRRwwtjpu2qPzyjfrXqVcP8KvDN3oPhma+1kEavrNw19eAjBQtyEP0ySR2LEV3FXSTUdepji5KVW0dkkvuVgooorQ5QooooAKKKKACiiigAooooAKKKKACiiigAooooAKKKKACiiigAooooAKKKKACiiigAooooAKKKKACiiigAooooAKKKKACiiigAooooAKKKKACiiigAooooAKKKKACiiigAooooAKKKKACqsml2E2pw6jLZwPewoUiuTGPMRT1AbqByeKKKBptbFqiiigQUUUUAVrnTbG8kEl3ZW87gYDSxKxA9MkVD/YWkf9Auy/8B0/woopWRXNJdQ/sLSP+gXZf+A6f4VdRFjjVI1VEUAKqjAAHYCiiiyE23uQXenWV+VN9Z29yUztM0Svtz6ZFV/+Ee0X/oEWH/gMn+FFFFkNSktmH/CPaL/0CLD/AMBk/wAKvxxpFGscSKiIAqqowFA6ACiiiyQnJvcdRRRTEUJtE0241y31iazifUbaMxw3JHzIpzkD/vo/nUt7pdhqL27ahZwXLW0glhM0Yby3HRlz0PvRRSsiuaXctUUUUyQooooAKKKKACiiigD/2Q==)"
      ],
      "metadata": {
        "id": "kSRo8F_vHf7L"
      }
    },
    {
      "cell_type": "code",
      "source": [
        "# 성별에 따른 신체 치수 평균 \n",
        "data_means = data.groupby('Gender').mean()\n",
        "\n",
        "data_means"
      ],
      "metadata": {
        "colab": {
          "base_uri": "https://localhost:8080/",
          "height": 143
        },
        "id": "YujAOIWWAAjT",
        "outputId": "8d34b35c-298a-48c2-f309-b14b159fa9a5"
      },
      "execution_count": null,
      "outputs": [
        {
          "output_type": "execute_result",
          "data": {
            "text/plain": [
              "        Height  Weight  Foot_Size\n",
              "Gender                           \n",
              "female  5.4175  132.50       7.50\n",
              "male    5.8550  176.25      11.25"
            ],
            "text/html": [
              "\n",
              "  <div id=\"df-a22c6277-6beb-4d08-938a-b22aecd0f412\">\n",
              "    <div class=\"colab-df-container\">\n",
              "      <div>\n",
              "<style scoped>\n",
              "    .dataframe tbody tr th:only-of-type {\n",
              "        vertical-align: middle;\n",
              "    }\n",
              "\n",
              "    .dataframe tbody tr th {\n",
              "        vertical-align: top;\n",
              "    }\n",
              "\n",
              "    .dataframe thead th {\n",
              "        text-align: right;\n",
              "    }\n",
              "</style>\n",
              "<table border=\"1\" class=\"dataframe\">\n",
              "  <thead>\n",
              "    <tr style=\"text-align: right;\">\n",
              "      <th></th>\n",
              "      <th>Height</th>\n",
              "      <th>Weight</th>\n",
              "      <th>Foot_Size</th>\n",
              "    </tr>\n",
              "    <tr>\n",
              "      <th>Gender</th>\n",
              "      <th></th>\n",
              "      <th></th>\n",
              "      <th></th>\n",
              "    </tr>\n",
              "  </thead>\n",
              "  <tbody>\n",
              "    <tr>\n",
              "      <th>female</th>\n",
              "      <td>5.4175</td>\n",
              "      <td>132.50</td>\n",
              "      <td>7.50</td>\n",
              "    </tr>\n",
              "    <tr>\n",
              "      <th>male</th>\n",
              "      <td>5.8550</td>\n",
              "      <td>176.25</td>\n",
              "      <td>11.25</td>\n",
              "    </tr>\n",
              "  </tbody>\n",
              "</table>\n",
              "</div>\n",
              "      <button class=\"colab-df-convert\" onclick=\"convertToInteractive('df-a22c6277-6beb-4d08-938a-b22aecd0f412')\"\n",
              "              title=\"Convert this dataframe to an interactive table.\"\n",
              "              style=\"display:none;\">\n",
              "        \n",
              "  <svg xmlns=\"http://www.w3.org/2000/svg\" height=\"24px\"viewBox=\"0 0 24 24\"\n",
              "       width=\"24px\">\n",
              "    <path d=\"M0 0h24v24H0V0z\" fill=\"none\"/>\n",
              "    <path d=\"M18.56 5.44l.94 2.06.94-2.06 2.06-.94-2.06-.94-.94-2.06-.94 2.06-2.06.94zm-11 1L8.5 8.5l.94-2.06 2.06-.94-2.06-.94L8.5 2.5l-.94 2.06-2.06.94zm10 10l.94 2.06.94-2.06 2.06-.94-2.06-.94-.94-2.06-.94 2.06-2.06.94z\"/><path d=\"M17.41 7.96l-1.37-1.37c-.4-.4-.92-.59-1.43-.59-.52 0-1.04.2-1.43.59L10.3 9.45l-7.72 7.72c-.78.78-.78 2.05 0 2.83L4 21.41c.39.39.9.59 1.41.59.51 0 1.02-.2 1.41-.59l7.78-7.78 2.81-2.81c.8-.78.8-2.07 0-2.86zM5.41 20L4 18.59l7.72-7.72 1.47 1.35L5.41 20z\"/>\n",
              "  </svg>\n",
              "      </button>\n",
              "      \n",
              "  <style>\n",
              "    .colab-df-container {\n",
              "      display:flex;\n",
              "      flex-wrap:wrap;\n",
              "      gap: 12px;\n",
              "    }\n",
              "\n",
              "    .colab-df-convert {\n",
              "      background-color: #E8F0FE;\n",
              "      border: none;\n",
              "      border-radius: 50%;\n",
              "      cursor: pointer;\n",
              "      display: none;\n",
              "      fill: #1967D2;\n",
              "      height: 32px;\n",
              "      padding: 0 0 0 0;\n",
              "      width: 32px;\n",
              "    }\n",
              "\n",
              "    .colab-df-convert:hover {\n",
              "      background-color: #E2EBFA;\n",
              "      box-shadow: 0px 1px 2px rgba(60, 64, 67, 0.3), 0px 1px 3px 1px rgba(60, 64, 67, 0.15);\n",
              "      fill: #174EA6;\n",
              "    }\n",
              "\n",
              "    [theme=dark] .colab-df-convert {\n",
              "      background-color: #3B4455;\n",
              "      fill: #D2E3FC;\n",
              "    }\n",
              "\n",
              "    [theme=dark] .colab-df-convert:hover {\n",
              "      background-color: #434B5C;\n",
              "      box-shadow: 0px 1px 3px 1px rgba(0, 0, 0, 0.15);\n",
              "      filter: drop-shadow(0px 1px 2px rgba(0, 0, 0, 0.3));\n",
              "      fill: #FFFFFF;\n",
              "    }\n",
              "  </style>\n",
              "\n",
              "      <script>\n",
              "        const buttonEl =\n",
              "          document.querySelector('#df-a22c6277-6beb-4d08-938a-b22aecd0f412 button.colab-df-convert');\n",
              "        buttonEl.style.display =\n",
              "          google.colab.kernel.accessAllowed ? 'block' : 'none';\n",
              "\n",
              "        async function convertToInteractive(key) {\n",
              "          const element = document.querySelector('#df-a22c6277-6beb-4d08-938a-b22aecd0f412');\n",
              "          const dataTable =\n",
              "            await google.colab.kernel.invokeFunction('convertToInteractive',\n",
              "                                                     [key], {});\n",
              "          if (!dataTable) return;\n",
              "\n",
              "          const docLinkHtml = 'Like what you see? Visit the ' +\n",
              "            '<a target=\"_blank\" href=https://colab.research.google.com/notebooks/data_table.ipynb>data table notebook</a>'\n",
              "            + ' to learn more about interactive tables.';\n",
              "          element.innerHTML = '';\n",
              "          dataTable['output_type'] = 'display_data';\n",
              "          await google.colab.output.renderOutput(dataTable, element);\n",
              "          const docLink = document.createElement('div');\n",
              "          docLink.innerHTML = docLinkHtml;\n",
              "          element.appendChild(docLink);\n",
              "        }\n",
              "      </script>\n",
              "    </div>\n",
              "  </div>\n",
              "  "
            ]
          },
          "metadata": {},
          "execution_count": 32
        }
      ]
    },
    {
      "cell_type": "code",
      "source": [
        "# 성별에 따른 신체 치수 분산\n",
        "data_variance = data.groupby('Gender').var()\n",
        "\n",
        "data_variance"
      ],
      "metadata": {
        "colab": {
          "base_uri": "https://localhost:8080/",
          "height": 143
        },
        "id": "92suQOAeH0AT",
        "outputId": "42906a7b-e43f-43dd-a25f-11f90db42b45"
      },
      "execution_count": null,
      "outputs": [
        {
          "output_type": "execute_result",
          "data": {
            "text/plain": [
              "          Height      Weight  Foot_Size\n",
              "Gender                                 \n",
              "female  0.097225  558.333333   1.666667\n",
              "male    0.035033  122.916667   0.916667"
            ],
            "text/html": [
              "\n",
              "  <div id=\"df-1319e5e7-a01f-4cbe-90a2-f650720770ca\">\n",
              "    <div class=\"colab-df-container\">\n",
              "      <div>\n",
              "<style scoped>\n",
              "    .dataframe tbody tr th:only-of-type {\n",
              "        vertical-align: middle;\n",
              "    }\n",
              "\n",
              "    .dataframe tbody tr th {\n",
              "        vertical-align: top;\n",
              "    }\n",
              "\n",
              "    .dataframe thead th {\n",
              "        text-align: right;\n",
              "    }\n",
              "</style>\n",
              "<table border=\"1\" class=\"dataframe\">\n",
              "  <thead>\n",
              "    <tr style=\"text-align: right;\">\n",
              "      <th></th>\n",
              "      <th>Height</th>\n",
              "      <th>Weight</th>\n",
              "      <th>Foot_Size</th>\n",
              "    </tr>\n",
              "    <tr>\n",
              "      <th>Gender</th>\n",
              "      <th></th>\n",
              "      <th></th>\n",
              "      <th></th>\n",
              "    </tr>\n",
              "  </thead>\n",
              "  <tbody>\n",
              "    <tr>\n",
              "      <th>female</th>\n",
              "      <td>0.097225</td>\n",
              "      <td>558.333333</td>\n",
              "      <td>1.666667</td>\n",
              "    </tr>\n",
              "    <tr>\n",
              "      <th>male</th>\n",
              "      <td>0.035033</td>\n",
              "      <td>122.916667</td>\n",
              "      <td>0.916667</td>\n",
              "    </tr>\n",
              "  </tbody>\n",
              "</table>\n",
              "</div>\n",
              "      <button class=\"colab-df-convert\" onclick=\"convertToInteractive('df-1319e5e7-a01f-4cbe-90a2-f650720770ca')\"\n",
              "              title=\"Convert this dataframe to an interactive table.\"\n",
              "              style=\"display:none;\">\n",
              "        \n",
              "  <svg xmlns=\"http://www.w3.org/2000/svg\" height=\"24px\"viewBox=\"0 0 24 24\"\n",
              "       width=\"24px\">\n",
              "    <path d=\"M0 0h24v24H0V0z\" fill=\"none\"/>\n",
              "    <path d=\"M18.56 5.44l.94 2.06.94-2.06 2.06-.94-2.06-.94-.94-2.06-.94 2.06-2.06.94zm-11 1L8.5 8.5l.94-2.06 2.06-.94-2.06-.94L8.5 2.5l-.94 2.06-2.06.94zm10 10l.94 2.06.94-2.06 2.06-.94-2.06-.94-.94-2.06-.94 2.06-2.06.94z\"/><path d=\"M17.41 7.96l-1.37-1.37c-.4-.4-.92-.59-1.43-.59-.52 0-1.04.2-1.43.59L10.3 9.45l-7.72 7.72c-.78.78-.78 2.05 0 2.83L4 21.41c.39.39.9.59 1.41.59.51 0 1.02-.2 1.41-.59l7.78-7.78 2.81-2.81c.8-.78.8-2.07 0-2.86zM5.41 20L4 18.59l7.72-7.72 1.47 1.35L5.41 20z\"/>\n",
              "  </svg>\n",
              "      </button>\n",
              "      \n",
              "  <style>\n",
              "    .colab-df-container {\n",
              "      display:flex;\n",
              "      flex-wrap:wrap;\n",
              "      gap: 12px;\n",
              "    }\n",
              "\n",
              "    .colab-df-convert {\n",
              "      background-color: #E8F0FE;\n",
              "      border: none;\n",
              "      border-radius: 50%;\n",
              "      cursor: pointer;\n",
              "      display: none;\n",
              "      fill: #1967D2;\n",
              "      height: 32px;\n",
              "      padding: 0 0 0 0;\n",
              "      width: 32px;\n",
              "    }\n",
              "\n",
              "    .colab-df-convert:hover {\n",
              "      background-color: #E2EBFA;\n",
              "      box-shadow: 0px 1px 2px rgba(60, 64, 67, 0.3), 0px 1px 3px 1px rgba(60, 64, 67, 0.15);\n",
              "      fill: #174EA6;\n",
              "    }\n",
              "\n",
              "    [theme=dark] .colab-df-convert {\n",
              "      background-color: #3B4455;\n",
              "      fill: #D2E3FC;\n",
              "    }\n",
              "\n",
              "    [theme=dark] .colab-df-convert:hover {\n",
              "      background-color: #434B5C;\n",
              "      box-shadow: 0px 1px 3px 1px rgba(0, 0, 0, 0.15);\n",
              "      filter: drop-shadow(0px 1px 2px rgba(0, 0, 0, 0.3));\n",
              "      fill: #FFFFFF;\n",
              "    }\n",
              "  </style>\n",
              "\n",
              "      <script>\n",
              "        const buttonEl =\n",
              "          document.querySelector('#df-1319e5e7-a01f-4cbe-90a2-f650720770ca button.colab-df-convert');\n",
              "        buttonEl.style.display =\n",
              "          google.colab.kernel.accessAllowed ? 'block' : 'none';\n",
              "\n",
              "        async function convertToInteractive(key) {\n",
              "          const element = document.querySelector('#df-1319e5e7-a01f-4cbe-90a2-f650720770ca');\n",
              "          const dataTable =\n",
              "            await google.colab.kernel.invokeFunction('convertToInteractive',\n",
              "                                                     [key], {});\n",
              "          if (!dataTable) return;\n",
              "\n",
              "          const docLinkHtml = 'Like what you see? Visit the ' +\n",
              "            '<a target=\"_blank\" href=https://colab.research.google.com/notebooks/data_table.ipynb>data table notebook</a>'\n",
              "            + ' to learn more about interactive tables.';\n",
              "          element.innerHTML = '';\n",
              "          dataTable['output_type'] = 'display_data';\n",
              "          await google.colab.output.renderOutput(dataTable, element);\n",
              "          const docLink = document.createElement('div');\n",
              "          docLink.innerHTML = docLinkHtml;\n",
              "          element.appendChild(docLink);\n",
              "        }\n",
              "      </script>\n",
              "    </div>\n",
              "  </div>\n",
              "  "
            ]
          },
          "metadata": {},
          "execution_count": 33
        }
      ]
    },
    {
      "cell_type": "code",
      "source": [
        "# 남성 치수 평균 \n",
        "male_height_mean = data_means.loc['male', 'Height']\n",
        "male_weight_mean = data_means.loc['male', 'Weight']\n",
        "male_footsize_mean = data_means.loc['male', 'Foot_Size']\n",
        "\n",
        "# 남성 치수 분산\n",
        "male_height_variance = data_variance.loc['male', 'Height']\n",
        "male_weight_variance = data_variance.loc['male', 'Weight']\n",
        "male_footsize_variance = data_variance.loc['male', 'Foot_Size']\n",
        "\n",
        "# 여성 치수 평균\n",
        "female_height_mean = data_means.loc['female', 'Height']\n",
        "female_weight_mean = data_means.loc['female', 'Weight']\n",
        "female_footsize_mean = data_means.loc['female', 'Foot_Size']\n",
        "\n",
        "# 여성 치수 분산\n",
        "female_height_variance = data_variance.loc['female', 'Height']\n",
        "female_weight_variance = data_variance.loc['female', 'Weight']\n",
        "female_footsize_variance = data_variance.loc['female', 'Foot_Size']"
      ],
      "metadata": {
        "id": "rk87e-LhXxwX"
      },
      "execution_count": null,
      "outputs": []
    },
    {
      "cell_type": "code",
      "source": [
        "male_height_mean"
      ],
      "metadata": {
        "colab": {
          "base_uri": "https://localhost:8080/"
        },
        "id": "lYWTi3c6O8US",
        "outputId": "4ac6fe24-0c12-495d-db93-7259eb8a5662"
      },
      "execution_count": null,
      "outputs": [
        {
          "output_type": "execute_result",
          "data": {
            "text/plain": [
              "5.855"
            ]
          },
          "metadata": {},
          "execution_count": 35
        }
      ]
    },
    {
      "cell_type": "code",
      "source": [
        "def p_x_given_y(x, mean_y, variance_y):\n",
        "    # Input the arguments into a probability density function\n",
        "    p = 1/(np.sqrt(2*np.pi*variance_y)) * np.exp((-(x-mean_y)**2)/(2*variance_y))   \n",
        "    # return p\n",
        "    return p"
      ],
      "metadata": {
        "id": "no89GN1UH4tk"
      },
      "execution_count": null,
      "outputs": []
    },
    {
      "cell_type": "markdown",
      "source": [
        "![캡처.JPG](data:image/jpeg;base64,/9j/4AAQSkZJRgABAQEAYABgAAD/4RDiRXhpZgAATU0AKgAAAAgABAE7AAIAAAAIAAAISodpAAQAAAABAAAIUpydAAEAAAAQAAAQyuocAAcAAAgMAAAAPgAAAAAc6gAAAAgAAAAAAAAAAAAAAAAAAAAAAAAAAAAAAAAAAAAAAAAAAAAAAAAAAAAAAAAAAAAAAAAAAAAAAAAAAAAAAAAAAAAAAAAAAAAAAAAAAAAAAAAAAAAAAAAAAAAAAAAAAAAAAAAAAAAAAAAAAAAAAAAAAAAAAAAAAAAAAAAAAAAAAAAAAAAAAAAAAAAAAAAAAAAAAAAAAAAAAAAAAAAAAAAAAAAAAAAAAAAAAAAAAAAAAAAAAAAAAAAAAAAAAAAAAAAAAAAAAAAAAAAAAAAAAAAAAAAAAAAAAAAAAAAAAAAAAAAAAAAAAAAAAAAAAAAAAAAAAAAAAAAAAAAAAAAAAAAAAAAAAAAAAAAAAAAAAAAAAAAAAAAAAAAAAAAAAAAAAAAAAAAAAAAAAAAAAAAAAAAAAAAAAAAAAAAAAAAAAAAAAAAAAAAAAAAAAAAAAAAAAAAAAAAAAAAAAAAAAAAAAAAAAAAAAAAAAAAAAAAAAAAAAAAAAAAAAAAAAAAAAAAAAAAAAAAAAAAAAAAAAAAAAAAAAAAAAAAAAAAAAAAAAAAAAAAAAAAAAAAAAAAAAAAAAAAAAAAAAAAAAAAAAAAAAAAAAAAAAAAAAAAAAAAAAAAAAAAAAAAAAAAAAAAAAAAAAAAAAAAAAAAAAAAAAAAAAAAAAAAAAAAAAAAAAAAAAAAAAAAAAAAAAAAAAAAAAAAAAAAAAAAAAAAAAAAAAAAAAAAAAAAAAAAAAAAAAAAAAAAAAAAAAAAAAAAAAAAAAAAAAAAAAAAAAAAAAAAAAAAAAAAAAAAAAAAAAAAAAAAAAAAAAAAAAAAAAAAAAAAAAAAAAAAAAAAAAAAAAAAAAAAAAAAAAAAAAAAAAAAAAAAAAAAAAAAAAAAAAAAAAAAAAAAAAAAAAAAAAAAAAAAAAAAAAAAAAAAAAAAAAAAAAAAAAAAAAAAAAAAAAAAAAAAAAAAAAAAAAAAAAAAAAAAAAAAAAAAAAAAAAAAAAAAAAAAAAAAAAAAAAAAAAAAAAAAAAAAAAAAAAAAAAAAAAAAAAAAAAAAAAAAAAAAAAAAAAAAAAAAAAAAAAAAAAAAAAAAAAAAAAAAAAAAAAAAAAAAAAAAAAAAAAAAAAAAAAAAAAAAAAAAAAAAAAAAAAAAAAAAAAAAAAAAAAAAAAAAAAAAAAAAAAAAAAAAAAAAAAAAAAAAAAAAAAAAAAAAAAAAAAAAAAAAAAAAAAAAAAAAAAAAAAAAAAAAAAAAAAAAAAAAAAAAAAAAAAAAAAAAAAAAAAAAAAAAAAAAAAAAAAAAAAAAAAAAAAAAAAAAAAAAAAAAAAAAAAAAAAAAAAAAAAAAAAAAAAAAAAAAAAAAAAAAAAAAAAAAAAAAAAAAAAAAAAAAAAAAAAAAAAAAAAAAAAAAAAAAAAAAAAAAAAAAAAAAAAAAAAAAAAAAAAAAAAAAAAAAAAAAAAAAAAAAAAAAAAAAAAAAAAAAAAAAAAAAAAAAAAAAAAAAAAAAAAAAAAAAAAAAAAAAAAAAAAAAAAAAAAAAAAAAAAAAAAAAAAAAAAAAAAAAAAAAAAAAAAAAAAAAAAAAAAAAAAAAAAAAAAAAAAAAAAAAAAAAAAAAAAAAAAAAAAAAAAAAAAAAAAAAAAAAAAAAAAAAAAAAAAAAAAAAAAAAAAAAAAAAAAAAAAAAAAAAAAAAAAAAAAAAAAAAAAAAAAAAAAAAAAAAAAAAAAAAAAAAAAAAAAAAAAAAAAAAAAAAAAAAAAAAAAAAAAAAAAAAAAAAAAAAAAAAAAAAAAAAAAAAAAAAAAAAAAAAAAAAAAAAAAAAAAAAAAAAAAAAAAAAAAAAAAAAAAAAAAAAAAAAAAAAAAAAAAAAAAAAAAAAAAAAAAAAAAAAAAAAAAAAAAAAAAAAAAAAAAAAAAAAAAAAAAAAAAAAAAAAAAAAAAAAAAAAAAAAAAAAAAAAAAAAAAAAAAAAAAAAAAAAAAAAAAAAAAAAAAAAAAAAAAAAAAAAAAAAAAAAAAAAAAAAAAAAAAAAAAAAAAAAAAAAAAAAAAAAAAAAAAAAAAAAAAAAAAAAAAAAAAAAAAAAAAAAAAAAAAAAAAAAAAAAAAAAAAAAAAAAAAAAAAAAAAAAAAAAAAAAAAAAAAAAAAAAAAAAAAAAAAAAAAAAAAAAAAAAAAAAAAAAAAAAAAAAAAAAAAAAAAAAAAAAAAAAAAAAAAAAAAAAAAAAAAAAAAAAAAAAAAAAAAAAAAAAAAAAAAAAAAAAAAAAAAAAAAAAAAAAAAAAAAAAAAAAAAAAAAAAAAAAAAAAAAAAAAAAAAAAAAAAAAAAAAAAAAAAAAAAAAAAAAAAAAAAAAAAAAAAAAAAAAAAAAAAAAAAAAAAAAAAAAAAAAAAAAAAAAAAAAAAAAAAAAAAAAAAAAAAAAAAAAAAAAAAAAAAAAAAAAAAAAAAAAAAAAAAAAAAAAAAAAAAAAAAAAAAAAAAAAAAAAAAAAAAAAAAAAAAAAAAAAAAAAAAAAAAAAAAAAAAAAAAAAAAAAAAAAAAAAAAAAAAAAAAAAAAAAAAAAAAAAAAAAAAAAAAAAAAAAAAAAAAAAAAAAAAAAAAAAAAAAAAAAAAAAAAAAAAAAAAAAAAAAAAAAAAAAAAAAAAAAAAAAAAAAAAAAAAAAAAAAAAAAAAAAAAAAAAAAAAAAAAAAAAAAAAAAAAAAAAAAAAAAAAAAAAAAAAAAAAAAAAAAAAAAAAAAAAAAAAAAAAAAAAAAAAAAAAAAAAAAGlvY2hvcmQAAAWQAwACAAAAFAAAEKCQBAACAAAAFAAAELSSkQACAAAAAzIwAACSkgACAAAAAzIwAADqHAAHAAAIDAAACJQAAAAAHOoAAAAIAAAAAAAAAAAAAAAAAAAAAAAAAAAAAAAAAAAAAAAAAAAAAAAAAAAAAAAAAAAAAAAAAAAAAAAAAAAAAAAAAAAAAAAAAAAAAAAAAAAAAAAAAAAAAAAAAAAAAAAAAAAAAAAAAAAAAAAAAAAAAAAAAAAAAAAAAAAAAAAAAAAAAAAAAAAAAAAAAAAAAAAAAAAAAAAAAAAAAAAAAAAAAAAAAAAAAAAAAAAAAAAAAAAAAAAAAAAAAAAAAAAAAAAAAAAAAAAAAAAAAAAAAAAAAAAAAAAAAAAAAAAAAAAAAAAAAAAAAAAAAAAAAAAAAAAAAAAAAAAAAAAAAAAAAAAAAAAAAAAAAAAAAAAAAAAAAAAAAAAAAAAAAAAAAAAAAAAAAAAAAAAAAAAAAAAAAAAAAAAAAAAAAAAAAAAAAAAAAAAAAAAAAAAAAAAAAAAAAAAAAAAAAAAAAAAAAAAAAAAAAAAAAAAAAAAAAAAAAAAAAAAAAAAAAAAAAAAAAAAAAAAAAAAAAAAAAAAAAAAAAAAAAAAAAAAAAAAAAAAAAAAAAAAAAAAAAAAAAAAAAAAAAAAAAAAAAAAAAAAAAAAAAAAAAAAAAAAAAAAAAAAAAAAAAAAAAAAAAAAAAAAAAAAAAAAAAAAAAAAAAAAAAAAAAAAAAAAAAAAAAAAAAAAAAAAAAAAAAAAAAAAAAAAAAAAAAAAAAAAAAAAAAAAAAAAAAAAAAAAAAAAAAAAAAAAAAAAAAAAAAAAAAAAAAAAAAAAAAAAAAAAAAAAAAAAAAAAAAAAAAAAAAAAAAAAAAAAAAAAAAAAAAAAAAAAAAAAAAAAAAAAAAAAAAAAAAAAAAAAAAAAAAAAAAAAAAAAAAAAAAAAAAAAAAAAAAAAAAAAAAAAAAAAAAAAAAAAAAAAAAAAAAAAAAAAAAAAAAAAAAAAAAAAAAAAAAAAAAAAAAAAAAAAAAAAAAAAAAAAAAAAAAAAAAAAAAAAAAAAAAAAAAAAAAAAAAAAAAAAAAAAAAAAAAAAAAAAAAAAAAAAAAAAAAAAAAAAAAAAAAAAAAAAAAAAAAAAAAAAAAAAAAAAAAAAAAAAAAAAAAAAAAAAAAAAAAAAAAAAAAAAAAAAAAAAAAAAAAAAAAAAAAAAAAAAAAAAAAAAAAAAAAAAAAAAAAAAAAAAAAAAAAAAAAAAAAAAAAAAAAAAAAAAAAAAAAAAAAAAAAAAAAAAAAAAAAAAAAAAAAAAAAAAAAAAAAAAAAAAAAAAAAAAAAAAAAAAAAAAAAAAAAAAAAAAAAAAAAAAAAAAAAAAAAAAAAAAAAAAAAAAAAAAAAAAAAAAAAAAAAAAAAAAAAAAAAAAAAAAAAAAAAAAAAAAAAAAAAAAAAAAAAAAAAAAAAAAAAAAAAAAAAAAAAAAAAAAAAAAAAAAAAAAAAAAAAAAAAAAAAAAAAAAAAAAAAAAAAAAAAAAAAAAAAAAAAAAAAAAAAAAAAAAAAAAAAAAAAAAAAAAAAAAAAAAAAAAAAAAAAAAAAAAAAAAAAAAAAAAAAAAAAAAAAAAAAAAAAAAAAAAAAAAAAAAAAAAAAAAAAAAAAAAAAAAAAAAAAAAAAAAAAAAAAAAAAAAAAAAAAAAAAAAAAAAAAAAAAAAAAAAAAAAAAAAAAAAAAAAAAAAAAAAAAAAAAAAAAAAAAAAAAAAAAAAAAAAAAAAAAAAAAAAAAAAAAAAAAAAAAAAAAAAAAAAAAAAAAAAAAAAAAAAAAAAAAAAAAAAAAAAAAAAAAAAAAAAAAAAAAAAAAAAAAAAAAAAAAAAAAAAAAAAAAAAAAAAAAAAAAAAAAAAAAAAAAAAAAAAAAAAAAAAAAAAAAAAAAAAAAAAAAAAAAAAAAAAAAAAAAAAAAAAAAAAAAAAAAAAAAAAAAAAAAAAAAAAAAAAAAAAAAAAAAAAAAAAAAAAAAAAAAAAAAAAAAAAAAAAAAAAAAAAAAAAAAAAAAAAAAAAAAAAAAAAAAAAAAAAAAAAAAAAAAAAAAAAAAAAAAAAAAAAAAAAAAAAAAAAAAAAAAAAAAAAAAAAAAAAAAAAAAAAAAAAAAAAAAAAAAAAAAAAAAAAAAAAAAAAAAAAAAAAAAAAAAAAAAAAAAAAAAAAAAAAAAAAAAAAAAAAAAAAAAAAAAAAAAAAAAAAAAAAAAAAAAAAAAAAAAAAAAAAAAAAAAAAAAAAAAAAAAAAAAAAAAAAAAAAAAAAAAAAAAAAAAAAAAAAAAAAAAAAAAAAAAAAAAAAAAAAAAAAAAAAAAAAAAAAAAAAAAAAAAAAAAAAAAAAAAAAAAAAAAAAAAAAAAAAAAAAAAAAAAAAAAAAAAAAAAAAAAAAAAAAAAAAAAAAAAAAAAAAAAAAAAAAAAAAAAAAAAAAAAAAAAAAAAAAAAAAAAAAAAAAAAAAAAAAAAAAAAAAAAAAAAAAAAAAAAAAAAAAAAAAAAAAAAAAAAAAAAAAAAAAAAAAAAAAAAAAAAAAAAAAAAAAAAAAAAAAAAAAAAAAAAAAAAAAAAAAAAAAAAAAAAAAAAAAAAAAAAAAAAAAAAAAAAAAAAAAAAAAAAAAAAAAAAAAAAAAAAAAAAAAAAAAAAAAAAAAAAAAAAAAAAAAAAAAAAAAAAAAAAAAAAAAAAAAAAAAAAAAAAAAAAAAAAAAAAAAAAAAAAAAAAAAAAAAAAAAAAAAAAAAAAAAAAAAAAAAAAAAAAAAAAAAAAAAAAAAAAAAAAAAAAAAAAAAAAAAAAAAAAAAAAAAAAAAyMDIwOjEwOjI1IDE3OjIyOjU4ADIwMjA6MTA6MjUgMTc6MjI6NTgAAABpAG8AYwBoAG8AcgBkAAAA/+ELGmh0dHA6Ly9ucy5hZG9iZS5jb20veGFwLzEuMC8APD94cGFja2V0IGJlZ2luPSfvu78nIGlkPSdXNU0wTXBDZWhpSHpyZVN6TlRjemtjOWQnPz4NCjx4OnhtcG1ldGEgeG1sbnM6eD0iYWRvYmU6bnM6bWV0YS8iPjxyZGY6UkRGIHhtbG5zOnJkZj0iaHR0cDovL3d3dy53My5vcmcvMTk5OS8wMi8yMi1yZGYtc3ludGF4LW5zIyI+PHJkZjpEZXNjcmlwdGlvbiByZGY6YWJvdXQ9InV1aWQ6ZmFmNWJkZDUtYmEzZC0xMWRhLWFkMzEtZDMzZDc1MTgyZjFiIiB4bWxuczpkYz0iaHR0cDovL3B1cmwub3JnL2RjL2VsZW1lbnRzLzEuMS8iLz48cmRmOkRlc2NyaXB0aW9uIHJkZjphYm91dD0idXVpZDpmYWY1YmRkNS1iYTNkLTExZGEtYWQzMS1kMzNkNzUxODJmMWIiIHhtbG5zOnhtcD0iaHR0cDovL25zLmFkb2JlLmNvbS94YXAvMS4wLyI+PHhtcDpDcmVhdGVEYXRlPjIwMjAtMTAtMjVUMTc6MjI6NTguMTk5PC94bXA6Q3JlYXRlRGF0ZT48L3JkZjpEZXNjcmlwdGlvbj48cmRmOkRlc2NyaXB0aW9uIHJkZjphYm91dD0idXVpZDpmYWY1YmRkNS1iYTNkLTExZGEtYWQzMS1kMzNkNzUxODJmMWIiIHhtbG5zOmRjPSJodHRwOi8vcHVybC5vcmcvZGMvZWxlbWVudHMvMS4xLyI+PGRjOmNyZWF0b3I+PHJkZjpTZXEgeG1sbnM6cmRmPSJodHRwOi8vd3d3LnczLm9yZy8xOTk5LzAyLzIyLXJkZi1zeW50YXgtbnMjIj48cmRmOmxpPmlvY2hvcmQ8L3JkZjpsaT48L3JkZjpTZXE+DQoJCQk8L2RjOmNyZWF0b3I+PC9yZGY6RGVzY3JpcHRpb24+PC9yZGY6UkRGPjwveDp4bXBtZXRhPg0KICAgICAgICAgICAgICAgICAgICAgICAgICAgICAgICAgICAgICAgICAgICAgICAgICAgICAgICAgICAgICAgICAgICAgICAgICAgICAgICAgICAgICAgICAgICAgICAgICAgIAogICAgICAgICAgICAgICAgICAgICAgICAgICAgICAgICAgICAgICAgICAgICAgICAgICAgICAgICAgICAgICAgICAgICAgICAgICAgICAgICAgICAgICAgICAgICAgICAgICAgCiAgICAgICAgICAgICAgICAgICAgICAgICAgICAgICAgICAgICAgICAgICAgICAgICAgICAgICAgICAgICAgICAgICAgICAgICAgICAgICAgICAgICAgICAgICAgICAgICAgICAKICAgICAgICAgICAgICAgICAgICAgICAgICAgICAgICAgICAgICAgICAgICAgICAgICAgICAgICAgICAgICAgICAgICAgICAgICAgICAgICAgICAgICAgICAgICAgICAgICAgIAogICAgICAgICAgICAgICAgICAgICAgICAgICAgICAgICAgICAgICAgICAgICAgICAgICAgICAgICAgICAgICAgICAgICAgICAgICAgICAgICAgICAgICAgICAgICAgICAgICAgCiAgICAgICAgICAgICAgICAgICAgICAgICAgICAgICAgICAgICAgICAgICAgICAgICAgICAgICAgICAgICAgICAgICAgICAgICAgICAgICAgICAgICAgICAgICAgICAgICAgICAKICAgICAgICAgICAgICAgICAgICAgICAgICAgICAgICAgICAgICAgICAgICAgICAgICAgICAgICAgICAgICAgICAgICAgICAgICAgICAgICAgICAgICAgICAgICAgICAgICAgIAogICAgICAgICAgICAgICAgICAgICAgICAgICAgICAgICAgICAgICAgICAgICAgICAgICAgICAgICAgICAgICAgICAgICAgICAgICAgICAgICAgICAgICAgICAgICAgICAgICAgCiAgICAgICAgICAgICAgICAgICAgICAgICAgICAgICAgICAgICAgICAgICAgICAgICAgICAgICAgICAgICAgICAgICAgICAgICAgICAgICAgICAgICAgICAgICAgICAgICAgICAKICAgICAgICAgICAgICAgICAgICAgICAgICAgICAgICAgICAgICAgICAgICAgICAgICAgICAgICAgICAgICAgICAgICAgICAgICAgICAgICAgICAgICAgICAgICAgICAgICAgIAogICAgICAgICAgICAgICAgICAgICAgICAgICAgICAgICAgICAgICAgICAgICAgICAgICAgICAgICAgICAgICAgICAgICAgICAgICAgICAgICAgICAgICAgICAgICAgICAgICAgCiAgICAgICAgICAgICAgICAgICAgICAgICAgICAgICAgICAgICAgICAgICAgICAgICAgICAgICAgICAgICAgICAgICAgICAgICAgICAgICAgICAgICAgICAgICAgICAgICAgICAKICAgICAgICAgICAgICAgICAgICAgICAgICAgICAgICAgICAgICAgICAgICAgICAgICAgICAgICAgICAgICAgICAgICAgICAgICAgICAgICAgICAgICAgICAgICAgICAgICAgIAogICAgICAgICAgICAgICAgICAgICAgICAgICAgICAgICAgICAgICAgICAgICAgICAgICAgICAgICAgICAgICAgICAgICAgICAgICAgICAgICAgICAgICAgICAgICAgICAgICAgCiAgICAgICAgICAgICAgICAgICAgICAgICAgICAgICAgICAgICAgICAgICAgICAgICAgICAgICAgICAgICAgICAgICAgICAgICAgICAgICAgICAgICAgICAgICAgICAgICAgICAKICAgICAgICAgICAgICAgICAgICAgICAgICAgICAgICAgICAgICAgICAgICAgICAgICAgICAgICAgICAgICAgICAgICAgICAgICAgICAgICAgICAgICAgICAgICAgICAgICAgIAogICAgICAgICAgICAgICAgICAgICAgICAgICAgICAgICAgICAgICAgICAgICAgICAgICAgICAgICAgICAgICAgICAgICAgICAgICAgICAgICAgICAgICAgICAgICAgICAgICAgCiAgICAgICAgICAgICAgICAgICAgICAgICAgICAgICAgICAgICAgICAgICAgICAgICAgICAgICAgICAgICAgICAgICAgICAgICAgICAgICAgICAgICAgICAgICAgICAgICAgICAKICAgICAgICAgICAgICAgICAgICAgICAgICAgICAgICAgICAgICAgICAgICAgICAgICAgICAgICAgICAgICAgICAgICAgICAgICAgICAgICAgICAgICAgICAgICAgICAgICAgIAogICAgICAgICAgICAgICAgICAgICAgICAgICAgICAgICAgICAgICAgICAgICAgICAgICAgICAgICAgICAgICAgICAgICAgICAgICAgICAgICAgICAgICAgICAgICAgICAgICAgCiAgICAgICAgICAgICAgICAgICAgICAgICAgICA8P3hwYWNrZXQgZW5kPSd3Jz8+/9sAQwAHBQUGBQQHBgUGCAcHCAoRCwoJCQoVDxAMERgVGhkYFRgXGx4nIRsdJR0XGCIuIiUoKSssKxogLzMvKjInKisq/9sAQwEHCAgKCQoUCwsUKhwYHCoqKioqKioqKioqKioqKioqKioqKioqKioqKioqKioqKioqKioqKioqKioqKioqKioq/8AAEQgAUwOcAwEiAAIRAQMRAf/EAB8AAAEFAQEBAQEBAAAAAAAAAAABAgMEBQYHCAkKC//EALUQAAIBAwMCBAMFBQQEAAABfQECAwAEEQUSITFBBhNRYQcicRQygZGhCCNCscEVUtHwJDNicoIJChYXGBkaJSYnKCkqNDU2Nzg5OkNERUZHSElKU1RVVldYWVpjZGVmZ2hpanN0dXZ3eHl6g4SFhoeIiYqSk5SVlpeYmZqio6Slpqeoqaqys7S1tre4ubrCw8TFxsfIycrS09TV1tfY2drh4uPk5ebn6Onq8fLz9PX29/j5+v/EAB8BAAMBAQEBAQEBAQEAAAAAAAABAgMEBQYHCAkKC//EALURAAIBAgQEAwQHBQQEAAECdwABAgMRBAUhMQYSQVEHYXETIjKBCBRCkaGxwQkjM1LwFWJy0QoWJDThJfEXGBkaJicoKSo1Njc4OTpDREVGR0hJSlNUVVZXWFlaY2RlZmdoaWpzdHV2d3h5eoKDhIWGh4iJipKTlJWWl5iZmqKjpKWmp6ipqrKztLW2t7i5usLDxMXGx8jJytLT1NXW19jZ2uLj5OXm5+jp6vLz9PX29/j5+v/aAAwDAQACEQMRAD8A+kaKKKACiiigAooooAKKKKACiiigAooooAKKKKACiiigAooooAKKKKACiiigAooooAKKKKACiiigAooooAKKKKACiiigAooooAKKKKACiiigAooooAKKKKACiiigAooooAKKKKACiiigAooooAKKKKACiiigAooooAKKKKACiiigAooooAKKKKACiiigAooooAKKKKACiiigAooooAKKKKACiiigAooooAKKKKACiiigAooooAKKKKACiiigAooooAKKKKACiiigAooooAKKKKACiiigAooooAKKKKACiiigAooooAKKKKACiiigAooooAKKKKACiiigAooooAKKKKACiiigAooooAKKKKACiiigAooooAKKKKACiiigAooooAKKKKACiiigAooooAKKKKACiiigAooooAKKKKACiiigAooooAKKKKACs/Vtd0vQ4fN1e/gtFKllEjgM4HXavVsZ7CtCsHx1/wAiDrn/AF4y/wDoJqZOybHFXdjXsb2HUdPt721YtBcRrLGxGMqwyOPoanrF8Hf8iPof/XhB/wCgCtqtJK0miYu6uFFFFSMKKKKACiiigAooooAKKKKACiiigAooooAKKKKACiiigAooooAKKKKACiiigAooooAq3eoRWc1rC6u8t1L5caIBnoSSfYAEn/E1FrGrRaLZLdXEUskbTRwnygpKl2CgnJHGSOnPtVLWYmTxFo96SywqJrd3HRGkC7WP4pt+rD1rnJvAmpy2CwmazJSCGKRS7bbxknEhkk+XhiAf73Lnn1F/X9f1uB39FcBP4F1SbUJbiO5trZXn82JI3LLAPMVioVo8fw7gV2HcTyRTx4DmeysLe5tdOuBDNA1yJJGKzBFZWbGzG5twz3OOWOBQtV/X9aAd5UM95BbTW8U8m17mQxxLgncwUtj8lJ/CuSu/Av8AxMtUuLBLERXEDG1gli+WOd1COxwOAVUdO7Nx60YPBGsw38U5Olyx21+1zAkxZtqvFsYEBFH3gGwAATnkULXcHoju7W5W7iMiJKgDsmJYmQ8HGcEA444PcVJI/lxs+1m2gnCjJP0rhT4J1Rob2PdZKtwLpYUEjbbYyy71lX5PvAcY4+6MGn6f4N1Ky8SJfFbBovt8lxK4lYSSRNAI9pHl4zuyxGcZP40LVfIHozsrG8j1CwgvINwinjEi7xg4IzyKr6Zq8WqSX0cUUsTWNybaQSheWCq2RgnjDD39qx7Xw1dW/jJtVRreO23tiMHcdvlKgwCmUOV6BtuAOM1kXfgrWJ9au7yCSytTcXc8v2iOZ/NWN7fygPuDJB+bGcfzo/y/yA7iS5WK6hgKSs027ayxMyrgZ+ZgML7Z61W1LVodMnsYp4pX+3XAt0aMKQrEEjdkg4wp6ZrjdR8HahDp6zWltbLLDBNvW2mbezNbmP8AdgIoyTg44+6OSTUFj4UuLnyxFpFrG8V/DeXDzsyxzKsRURrmFTx1IK4yx5ySAdfu/MOn3noQu4DfNZiQfaFjEpTB4UkgH8wamrifDPg/U9F1Kzubj+z2KWSWs0iFnkXaXwUJUdQyDnoFxg8Y6yW2nMMgiumZyhCiVV25xxnABx9DQ9EHUtUV53F4A1ZYblPM06NwtvLaMMsIriPAJxsA2kcdyQBnOK1IvBP2PUFa2S3ltY44FhSRihiKBgw4U5D7iTyM7jkGgDsKK85k+Huop4btbCxj0u1uYrZ0kljJBaYlcSbvLz0XPADAgc1VHhnUdRvrkX1kY76d7mOO7QORCzgZclk5TC7VIckBzx1CnUZ6HrGpxaLo9zqVxFLLFaxmR1iALbR1xkgfrVuNxJGrr0YAjNc1c+G7p/BuraVaR2sE9+rhU81vKQsoBOQgxyCcBR+ZJrHj8DakbuZplsfsTyOy2STNsAaFI8/6vhgUPIHRzyCOQXY7m3uVuWmCJKnlSGM+ZEybiMcrkfMOeo4qtZ6tFe6pf2CRSxy2DIJC4Xa29cgrgnt64rg9Y8Kagt3NHJaxzW13NPKfJeQhQ0McZJxG2JDtYg4PJPOeDai8H30+pRajbafY2cDTWkqwSyESRRRxlWjICEc7umcetH/AD/gnd2l3BfWqXFpJ5kT52sARnBx39xVbVdXj0pbcNBPczXMhjhggClnYKWP3iBwFJ5NYWleFtQsvAdzoJmtbaYxtHDPahhkY+85wOTyDjoO5quvg+9Gv21+YdP8As8d79o+yBzthXyPLOz5OSWIY8AfKO/NPS9g6HSHWIzrg0uK3uJZVjWSaRAuyFW3bd2SDzsI4B98VoVx+seE73UNfvb6BbNEmFrtLMd0nlOzMr/IQAwYDv90ZB6Vl6j8P764nla0t9NVGt4ok8yd9ybbgyn/lmeNvy8Y+gHFJdAZ6JVLTtUi1JrxYopYmtLhreQSAcsADkYJ4ww/wrh7rwPrs9pcRRNpsJ82eW12yt+5Lyq6jPl8Abf4QDkDntVtvB2rXV7PcagbKRJpZna3SZ9uZI0UOCUyGBQ4xzhjgjHIv0B/qd1UNpcreWqTxpLGr5ws0TRsOccqwBFc74e8NXuk6vdXdzJA8c6SAoG3klpCw+YoGAwTkEtyeMCueuPh9q0toI44dKSRbO4t0fznHltJN5iMP3f8ACMj8eKOwHoct5DBcw28j4mn3eUmOW2jJ/wAmq+jatDremLe28UsSM7x7JgAwKOUPQkdVPesvV9Cu77XNG1SCOxaWxV1mW4y3DbeVIHJG04zjk59q5qLwFrSIyq9hb+ZHOsrRTOfOL3AlAb92MjaChzngng9KOodD0eqOk6tDrEE8kEUsXkXElu6ygZ3IcHoSMZrJn8OTv4fWxt/Ji23q3LQFyYpFEm5oydvAPPAXHbGK5268C63PY3UEP9mW++W5lgMcjZiaR1ZefL4Ax/CAcgYPajrr/W3/AAQ/r8/+AegQXkFzNcRQSb3tpBFKMH5W2hse/DA8etVr2923Q05HaC5uYJGt5mUFNy9R16jIOO4z6GuWj8Iasv8AaAK6SBfXcd1Iyq27IEe5QSpAwyMRkNnPIFLpWiX1u+h6RqZt52sZLieTySXQQMjoiNuA6l8YxjCH0otdf12C9jQ8Jm7+36ksl691ZYha3MspdmO0h3XcSwjZl+XJwcNjiunqpp+kabpKuul6fa2QkILi2hWPdjpnaBmrdNgFFZHigyJoE8y3LW0MAM1w8blHMagsVVhyCcAZHbNcF9r1fTfAfh3VptTvrjWb66gSJHnbY6OSdhT7rZTqxBbJ69KS1f3fiD0X3/gd3darNL4mt9G0/aGSP7TeSsM+XHnCqP8AaYg/QA+1U9K1zUpvHWqaHffZXgtbdJ4pIYmRiHPRssQcDuMZ9ulV/CxMvjXxdNJneLmCIZ7KsQx/Mn8azorAah8YdZSS4uIoV06AslvM0Rc54+dSGGPYikt4+f8Ak2D2fl/mkd9SOxSNmCliATtXqfavLF8XavY/C3z0uJZr1tTbT47l8M6LvIDEngtgYye+M10NlY6yviKGGO11eLRbi2eO8+26grukn8Loyys6k8g7SAOtPdaf1pcNt/61sdFoWqS6xpMd5caddaa7MwNvdLtdcHGce9aBztO0gHHBIzXllrrWswfCy4ube9uZJhqrW73EkpklSEyhflLZJPQDvzxWtpcEupePJE0vVNSl0O0gjmWdL6SRDPu5j3MSHUr1U5x2xQvetb+tL/15g9L/ANdbG14U1zUdV1DW7PVPsrPpt0IEktomjDjbnJDM2Pzra1LUYdKsTdXIYxh0TC4zlmCjqR3YV57plgbnVPHc5vLuDyblmjW2naHa4jJ3EqQT24OR7VV124u9a+GvhW+vr64Lz3dsk6RuEEpLfeJA3Z4zwRzz1xSTul/27+IPRv5/gerVnX99Nb6zpVrHt8u6kkWTI5wsZYY/EVPp0NrbW7W9nPJMsTlXMly87K3Ugs7Fs8jgms/Vv+Rm0D/rrN/6JamI2q5HRPEeu6/e297Y2NoNEkuJoXLsRMipwHznB3MD8oHHr6dVcQrcW0kMhcLIpUmORkYD2ZSCD7g5ryHStRn8NfCWTUtMe4+2z3r2iM87ukQMp+YIzbAcDrgZJ5NJfF/XdIr7P9dmexUVxllZ61F4itY4bXV00ie3kivjfX6Oyvj5ZEKysyknIO3AGQQBXOWBvpPA3iq/l1nVHm027uUsz9tk/dCPkZOfn+jZH603or/P8bCWp6tRXnN7dahp+m+D9WXU7yW81G9to7vfM3lSrKuWHlZ2DHbABqxrM5uPEesx22p6tfTQWy7LTTmMKae23O5nLqjknnacn2NEvdvfpf8AAI6/P9Ta8d65qPhvwzLq2lm1Y27KHiuImfeGYKMFWXGM5759q6NTuQE9xXmPiLVbnW/gCNQvmDXM0cRkYDG4iYDOPfGa09R1e91D4hPoaw6hJY2diszRWE6wPK7EYYuXQ7QDjAPXrTta683+VwumlL+un+Z1Ov3d7p+kyX2noszWv72WAjmWMfeVT2bHI9xjvV2zu4b+xgu7RxJBPGskbDupGRWL4STWRok1v4kilEkc8iQtO6PJJB/AXKEjdg4PPaqfwykZ/AFirZIieaJSe6rKwH6DFHf5B5/1/W51lFYutap9huY0/t3SdN3Jny76Pczc9R+9Tj8DWd/wkX/U4+Gf+/P/AN0UgOroqrplx9q0+Kb7ZbXu7P7+1XEb89hub6dTTdQvriz8v7Npd3qG/O77M0Q2Yx18x1657Z6dqALlFY39t6h/0K+rf9/bT/4/R/beof8AQr6t/wB/bT/4/QBs0Vjf23qH/Qr6t/39tP8A4/R/beof9Cvq3/f20/8Aj9AGzRWN/beof9Cvq3/f20/+P0f23qH/AEK+rf8Af20/+P0AbNFY39t6h/0K+rf9/bT/AOP0f23qH/Qr6t/39tP/AI/QBs0Vjf23qH/Qr6t/39tP/j9H9t6h/wBCvq3/AH9tP/j9AGzRWN/beof9Cvq3/f20/wDj9H9t6h/0K+rf9/bT/wCP0AbNFY39t6h/0K+rf9/bT/4/R/beof8AQr6t/wB/bT/4/QBs0Vjf23qH/Qr6t/39tP8A4/R/beof9Cvq3/f20/8Aj9AGzRWN/beof9Cvq3/f20/+P0f23qH/AEK+rf8Af20/+P0AbNFY39t6h/0K+rf9/bT/AOP0f23qH/Qr6t/39tP/AI/QBs0Vjf23qH/Qr6t/39tP/j9H9t6h/wBCvq3/AH9tP/j9AGzWP4l0i913R59NtL2C0iuYninaW2MrEMMfLh1wevXNJ/beof8AQr6t/wB/bT/4/R/beof9Cvq3/f20/wDj9Jq+g07Enh3S73RtHg0+8vILtLaJIYWitjEQqjHzZdsngdMVq1jf23qH/Qr6t/39tP8A4/R/beof9Cvq3/f20/8Aj9U227slKxs0Vjf23qH/AEK+rf8Af20/+P0f23qH/Qr6t/39tP8A4/SGbNFY39t6h/0K+rf9/bT/AOP0f23qH/Qr6t/39tP/AI/QBs0Vjf23qH/Qr6t/39tP/j9H9t6h/wBCvq3/AH9tP/j9AGzRWN/beof9Cvq3/f20/wDj9H9t6h/0K+rf9/bT/wCP0AbNFY39t6h/0K+rf9/bT/4/R/beof8AQr6t/wB/bT/4/QBs0Vjf23qH/Qr6t/39tP8A4/R/beof9Cvq3/f20/8Aj9AGzRWN/beof9Cvq3/f20/+P0f23qH/AEK+rf8Af20/+P0AbNFY39t6h/0K+rf9/bT/AOP0f23qH/Qr6t/39tP/AI/QBs0Vjf23qH/Qr6t/39tP/j9H9t6h/wBCvq3/AH9tP/j9AGzRWN/beof9Cvq3/f20/wDj9H9t6h/0K+rf9/bT/wCP0AbNFY39t6h/0K+rf9/bT/4/R/beof8AQr6t/wB/bT/4/QBs0VWsLqa7gaS4sLixYNtEdw0ZYjA5/duwx+OeOlcp4j1vUbjxraeHdNiu2gW2N3emzZEldM7VRWdl2jPUg59Mc0dbB5nYXCztFi1kjjkz96SMuMfQEfzqvHFqYkUy3doyZ+ZVtWUkex8w4/KqPhyyv7Rbxr1plgmmDWtvcXBnkgTaAQzknJJBOMkDPWtqgDMu4Nde6drDUdPhtzjZHNYPIw45ywmUHnPYf1qH7L4m/wCgvpP/AIKpf/kitmigDG+y+Jv+gvpP/gql/wDkij7L4m/6C+k/+CqX/wCSK2aKAMb7L4m/6C+k/wDgql/+SKPsvib/AKC+k/8Agql/+SK2aKAMb7L4m/6C+k/+CqX/AOSKzNZ1TXtEjRp9S0+d3V3WKHSnLlUXcxAa5GcDsOfausrH8R2mpX9ittpkVs6yErcedcNC3lkYKqyo2CehOOmcc8hO9tBq19SG0/4SC+s4bq11rSXhnjWSNhpUvzKRkH/j49Kl+y+Jv+gvpP8A4Kpf/kiseLwR5erw3qRafEi2iF7ZIT5YukQojjvtAc988LWSngHVv+Pe4j0q4smktJWheRsBouHwBHjDDjpkgDJNV10J6HUW/wDwkly0wTU9OTypDGfM0aZNxGOVzP8AMOeo4qb7L4m/6C+k/wDgql/+SK5m/wDA2ozrqEFmmm29tPPLLAqscx7oEiX/AJZkDlSTgZ5GCMcxjwTrr332xzpsV081tI9xDM+8eXGUfGY8knOevPel/wAAf/BOq+y+Jv8AoL6T/wCCqX/5Io+y+Jv+gvpP/gql/wDkisFPBV19l0+N4bAG3CrdIrsReYR03sShwfm3Dg8k89DWlqfh26u7XTo4zBOlrayQPb3MjbGZkCq+SGJIwRyM4Y8+o9L2Bbkcd74il1uXTYb+wkaBQZpxpL+XGSMhTm5zkj0BHvS6Re+ItZt3uLe/sI4N2I5ZdJcCYf3lxck447gH2pfDnhq60a6vnvBa3TTwxRi4LHzJSkYVt428biM9T+NZWneBr21jtRcJYsIYFjMccrAI4l3+Yp2ZyRgHp9wDJHQ62DodH9l8Tf8AQX0n/wAFUv8A8kVV1OXxHpelXV/Nqemyx20TSukWlPuKqMnGbkDp71yrfDrVhZyRRQ6TG7W1zErrM42vJNvR/wDVdVX5f5VdvPB3iGe7up4ZNNQ3kF1DMvmuoIlACniPJIwM5J6nGOlJ3toNWvqdJDF4kngjlTVtKCyKGAOlSZwRn/n4qnp174g1K5v4ItS06N7GfyJPM0p/mO0MCMXJ4ww64PtSaJ4Zu9P1b7ZetBK/mM4lWQlgrRqvl/dGVBUYyccDgGsrUfBWsXetXl5bSWVq1zePKLlJn81IzbmED7nUE7sZx796p76f1sSttTfl/wCEkiuIIW1PTmaYkKyaNMyrgZ+ZhPhfbPWq2p3viHSpLJZ9S09xeXK2yNHpTkIzdC2bkccds1kX3g+/hsYZbS2tVlt1kd1t5m3sTbNF+7wigEkg44+6Mkk8VNP8KXNxGiR6RbRypd211PJOWSOVETaI1zCpzxkggjLHnsDr935j6fedXnX/ALd9j/tvSftHl+bs/sqX7ucZ/wCPj1oh/wCEkmnniXU9PUwsFYvo0yq2Rn5SZ8MOeo71keG/CGpaNq1jd3C6c/lWn2aZlLM6gO7KUJUdmVeegHfsuq+EL691ua7jttNeF9RguwssjAsqJtYEeWeTx60u39df8g7/ANdP8zWuzr9jbme61vSY4gVUsdKlPJIA6XHqRVazvfEN7ql/YJqWnxy2DIJC+lPtbeuQVxcnt64qufCd7N8PrbRLr7G93bSpIm52aMhZd4GSuR8vy9KqSeENZk10ajs0yOT7Ray74ZHQosUZV1UbDgHdwM9OtHUOh0X2XxN/0F9J/wDBVL/8kVRivPEEuvXGkjUtOWeCBJy7aU+xlYkDGLnOcqeoFGg+GLrS9NuIJZ0S4ltRAbqFyWkYbsSkYADfNnPJyevArITwVqqTjZDpcUTWtrBLtkYl2icsz4MeMnPBO7pyOeDr/Xn/AMAOn9eX/BN9m19b5LM63pP2iSNpVT+ypeVUgE/8fHqwqb7L4m/6C+k/+CqX/wCSK5fTvBWuWT28rnSJZobSa0VpA77VZ9yH7ozjJXtgdM9K2vCWganoN1fLdvbG0nETRJC5JRlQK3GxVAOM8DPrQtV/X9bA9y99l8Tf9BfSf/BVL/8AJFH2XxN/0F9J/wDBVL/8kVs0UAY32XxN/wBBfSf/AAVS/wDyRR9l8Tf9BfSf/BVL/wDJFbNFAGN9l8Tf9BfSf/BVL/8AJFH2XxN/0F9J/wDBVL/8kVs0UAZlpBrqXSNf6jp81uM744bB42PHGGMzAc47H+tadFFAHIfEua6fwjNpun2t5PcXxWMm2tZJQke4bySqkDjt1OeKvaT4XsYTp929xe3os4gtkl6Av2ZSMcLtU7sYGXyw/OuhooWgPU5eKL+xPiDdTSfLaa5FHskPRbiMEbD6Fk5HrtNTp4REXiC71mHW9SS7uo/KfAgKhRnaADF/Dnj6c5roHRZFw6hhkHBGeRyKWgDmbDwLptnod3o9xcXd/Y3TmRorkx/I5OSylEUg5wevGOMVdt/DnklXl1bULqaKNo7aacxFrfIwWXCAM2O7hj19TnZooA4LU/Bs2keHF0/SbnULu1lv47i4bMZntgGLNJFtVSW3Y4O7joKlsYdVg1qxXRdU12+tmkIvhq9tsRI9p+ZWeNDuzjAGffiu4ooWgPU5i28EJaf2mYtd1TdqhLXTEW53MRgkfuuOOOOOfXmnR+B7FfC8WhS3l7NbW8iyW0jtGJICpyu0qgBwc/eB610tFH9fdsBU03To9Nt3jjkkmeSRpZZpSN0jnqTgAeg4AHFUNW/5GbQP+us3/olq2qQqCQSASOhx0oEMuInnt3jjnkt2YYEsYUsnuNwI/MGud07wLp1joVxo011d3+nXGS1vdGPCsW3FgyIrZzz147V01FAzFtvDggMbTarqF3JAjJbPcNGxt8jbuXCDc2OMvu7+pzmxeALeHSNQ01Nb1T7NqMjyXKnyMsz/AH+fK4z7enGK6yijcNjlrnwLDd2GmWc2t6p5WlyJJbY8gFWT7hP7rnA4/nmrI8H2qX15cwX19AdQVRepG6BbkgY3H5cqSCclCtdBRRvuBxzfDTSzoEmjR6hqMdpKV8wK8ZZlU7kTJQ4CkkjHPPJNatx4WhnuLW9GoXsWpW0ZiGoRGMSyITna42bGH/AeK3KKAMK/aLwx4eupLbzLm7nY7N5zJdXDjC9McnjoAAB0AFWPC+j/ANgeF7DTCQz28QEjDoznlj+ZNajIrMrMoJU5UkdPpS0AFFFFABRRRQAUUVS1jUl0nSZ7woZGQYjjHWRycKo9yxA/GgChLq2qz6zc2ui2NncwWgVJpLm6aH96Ru2rtjfOFIz0+8Kf9q8Tf9AjSf8Away//I9ZOqWms6N4StLXR4Jru8nulN/JbuEkIclpXUt0yeAewPbGRShurzw98UrPQ7e+urzTtStWlMN1O0zW7Ln5gzEttO3GCepNC3t/W1we1/67HR/avE3/AECNJ/8ABrL/API9H2rxN/0CNJ/8Gsv/AMj1WufiB4UtLmS3n1y0WSM7WAYtg+mQMUx/iD4ZW1W5XUWlgaTyhLDbSyLv7LlVIBOeB3oAufavE3/QI0n/AMGsv/yPR9q8Tf8AQI0n/wAGsv8A8j1KfEenDWIdLL3H2yaISpH9kl+4f4iduFHY5IweDzUEfjDQpZxGl9kGf7OJvJcQmT+55u3Zn2zQA77V4m/6BGk/+DWX/wCR6PtXib/oEaT/AODWX/5Hpup+MNE0bUBY6ndSW9wylkVrWUiQAZO1guG69ATWZqHiGwv9Q8PXVj4hntLW5mzGkdk7x3244EZfbhTkHg8j0HBoWobGr9q8Tf8AQI0n/wAGsv8A8j0favE3/QI0n/way/8AyPS3vivRrC8uLW5u2821UPcCOCSQQA9C7KpCDvyRT9U8S6To1jDe6jdGO0nxsuEieSPnGCWUEDORjOM0AR/avE3/AECNJ/8ABrL/API9H2rxN/0CNJ/8Gsv/AMj1LZ+JNKvtQWxt7lvtDxmWNXhdBKn95CwAce6k1De+LtD0+aeO6vcG2IW4dIXdICTgB3VSqH2JFAC/avE3/QI0n/way/8AyPR9q8Tf9AjSf/BrL/8AI9T33iHTNPkjjuLgtJJGZVjgieZ/L/v7UBIX3PFXLO8ttQs4ruxmSe3lXckkZyGFAGZ9q8Tf9AjSf/BrL/8AI9H2rxN/0CNJ/wDBrL/8j1Yvdf06wujbTyyPOqb3jggkmZF/vMEU7R7nFc58Q/EK2/gJ7nSruTF40aR3NqjOuwuoY71GF4JAyRnoOaANv7V4m/6BGk/+DWX/AOR6PtXib/oEaT/4NZf/AJHqLwvoulaXFdXWix3UMN7IHaGeN4ghUbeI3AK568jmuQgTT/GPjjW7bV21A/ZZ7cWJW3mj+zBV3NyVxHuI6tgnselPrYXS52n2rxN/0CNJ/wDBrL/8j0favE3/AECNJ/8ABrL/API9Og8VaLc3cVvDehmmkMUMhjcRSuOqpIRsY+wJ6VD/AMJlohv7ixFxOby25lthZzGUD1CbMke4BHI9RSGSfavE3/QI0n/way//ACPR9q8Tf9AjSf8Away//I9Rf8Jv4eNmt4moiS1ON08cMjxxknADsFIQ+zYq5qHiDTdLuLeC7uGM9yCYYYYnmkkAGSQqAnHvigCD7V4m/wCgRpP/AINZf/kej7V4m/6BGk/+DWX/AOR6r61caX4h8D6jPAYb22+zSldyZ2uqnqCMqwPrgg1U8I6nZ6V8NdDn1CdYUa2jReCWdiOFVRyxPoATR3+X4h2+f4Gn9q8Tf9AjSf8Away//I9H2rxN/wBAjSf/AAay/wDyPVzTdYsdWE32GYu0D7JY3Ro5I29GRgGH4iuP8eLZWXi7wpqU6RROL0pJcFQGKhTgE9TyeB7+9HVfL8Q6M6T7V4m/6BGk/wDg1l/+R6PtXib/AKBGk/8Ag1l/+R6s6brun6rcXEFlM5ntiPOhlheKRMjIJVwDg+uMVXTxXor3iW63oLSTeQknlv5Tyf3BLjYW9gc0AJ9q8Tf9AjSf/BrL/wDI9H2rxN/0CNJ/8Gsv/wAj1T0a/jm8YazF/bdxclVRv7Ons2hFqBxuDMBuBPcfr1qaTxv4fiQO17IY23eXItrKyS7fvbGC4fHP3Seh9KOlw62JvtXib/oEaT/4NZf/AJHo+1eJv+gRpP8A4NZf/keuUv7vSrX4r6LqsPlpHfabJJ5kURLXBONp2gbmbGOME/lXXReJ9Hl0q51Fb1UtrRzHO0qtG0TDqrKwDA+2Mmjpd/1rYOtv62uM+1eJv+gRpP8A4NZf/kej7V4m/wCgRpP/AINZf/keqvgvxIPEWhwTyC5M7h3Z5LV40K7yFAfaEbAwOCaTxrfJZabbNJrdzoq/aFZrmGzadWAP3GIBC5JHXr7807a2Baot/avE3/QI0n/way//ACPR9q8Tf9AjSf8Away//I9Le+K9H07VU02+uZIbuQZiRreT97xnCHbhzzjCknPHWrWmazYawsx0+Yu1vJ5c0bxtG8bejKwBH4ikBU+1eJv+gRpP/g1l/wDkej7V4m/6BGk/+DWX/wCR6p+M/FEHh60tI1uNl5dXUMccaJ5jshkG8hQCT8u4dM5PHNYvxPay1H4etqP2dg8M8XlSXNs0UkeZFDYDgMoIH40LX77AdN9q8Tf9AjSf/BrL/wDI9H2rxN/0CNJ/8Gsv/wAj1JZeJNKvr9LG3uW+0PF5savC6CVB/EjMAHHupNNvPFOjWFzLBdXm1oSqzOsTtHCW6CRwCqZ/2iKAG/avE3/QI0n/AMGsv/yPR9q8Tf8AQI0n/wAGsv8A8j1sghlBU5B5BHeuP8Y61od/4Y1qzkIu2t4JQWFs8kUUwQ4zIFKKwOO4INKTshxV3Y1/tXib/oEaT/4NZf8A5Ho+1eJv+gRpP/g1l/8Akeszw3rVho/gHw6dQn8tri1ijhRUZ3kbaOFVQSfwFbVv4g0q6sLi8jvEWC1YrcGUGNoSOodWAKn2IqpLlbXYlO6XmQfavE3/AECNJ/8ABrL/API9H2rxN/0CNJ/8Gsv/AMj1R8G+K4/EWnySk3Llp52jke0dI/KEhCDzNoQnbjjOfXvVy18YaFeTQpb324TyGKGVoXWKVxxtWQqEY8HgGkM2ITK0EZuERJSoLqjllVscgEgZGe+B9BWbf6BDeatFqkF1cWN9HEYDPb7MvGTnawdWBGeema1aKAKlhpsOnrIY3lllmbdLNM5Z3PT6AewAA7CrdFFABRRRQAUUUUAFFFFABRRRQAUUUUAFFFFABRRRQAUUUUAFFFFABRRRQAUUUUAFFFFABRRRQAUUUUAFFFFABRRRQAUUUUAFFFFABRRRQAUUUUAFFFFABRRRQAUUUUAFFFFABRRRQAUUUUAFFFFABRRRQAUUUUAFFFFABRRRQAUUUUAcNe3eo+G/iPp8uoajNdaZrKta7XwsdvMDlAoHTIOOeTySa25/+Jv4sit/vWukgTS+jXDD5F/4CpLfVlpPGugP4j8K3NnbELdpia1fONsqnK89s9M+9W/DumTaXo0cd7IJr6Uma7lH8crcsfoOg9gKI7en9f5/gD39f6/r5jPE3iSy8K6LJqOovhQdkad5HPRR/ngA1x3hbXvD+reIsW94NY1rVFdbyZY5YltoQhISPco+XOB6knJ9K9IooXmD20PL9cu0bTfEuoWVuE0/TPI0uFI1wAiyKZ8D0+YD/gNdr4r0dfEnhG9sE+/NFvgbpiQfMh/MCtuik9Y2/r+r6jWjucj4EmvtU02TX9Wt2ju7iJLdIm4ISIEE89Nzlz+VcHrWoNqfw21Fmmh0+6NyXbQrK2RDCFkBLyjaXzgbi2VHSvaqKq/vXEtEeY6n4m0a++Inha8kvbeGGCO7WQ3EqLsyuFY88BsZUnqCDV/4h3um2F94Vt2ubW28nVYpmjMip5cWGG/HZc9+ld/RRfbyf63Fbf0t+Fjza+1P7ZrXiW3lng0ZhFshjt7eM3OpgodrbmVvMXsAozz1rAv9bsZvgbbadJKqTxGCLbKwHmMJFLqozk7QRu9K9oopLT8PwHv+P4nnes67pEnxO8KyQapZNFHBcBnS4Qqu9BsBOeM9vWo/B0un6RomqaD4tSI3wvJZpLa6jDG9BIKuin/WZxwBk5xXpFFH/B/O4f8AA/BWPNlV9L+Iup3msanPoVrqFrAbOZhCqAKuGiZnVlVgewIz711ng7T7PTfDywaY129r50jxvdhQzgsTuAUAbSckcDg1u0ULRB/X6HCaDcxeG/Fnic+I7mO0N5dLcW09wwRZotpAVWPUr029a5PUlfTPhFex6nItq1/qhubK1mISTyfNQ8KefVsdga9nooWln2t+Fv8AIHrf5/r/AJkFleWt/Zx3Njcw3MDj5ZYXDq2ODgjjqK810++ttU8Q+PLPSdTtTd6iiJZbJ1zKwgIOznnHcjpXqNFDV7+asC0SPLdFtdNvvC2jaXqGr6j9uspYf+JREsCzQzI3XaYw4UcksTjHer+la3o8XxY8RzzanYoptYUWRp0AJUHeAc9sc+mOa9Dooerv6/irCtZW9Pwdzxmx1XTE+BusW3260W4eWYeV5yh2ZpCV4zkkhSR6ge1b82uwS6r4ejiubCyszp+4a26RyMHA2tDHI2VVuOc5+lej0ULT8PwTX6jev4/izyXQdZtNO0nxjY3lxIGnuLuZZrkLHlWRQhbhQC+75QAM4OKhhJuPD3gbU4L5hp2mAxX0trtkNpIyABmBDAY75HGfevYKKP8AgfgN6/j+Jy3hu101/EWo6npup3eqyXEMaz3ZMRgYrkKqmNVBYDr1wCKyvH2padb+LPCiXl5bRGC+MsqyyqPLXbwzZPAyOp9K76ijt5f53F38/wDKx5smoWt/8TPEtvpup2oubrS1t7ZlmU5lAPAweSO4HIxVDRLLT7nwTZaFq+rajFfWsihtHhWBZllWTIKgx7iO+7OMZycZr1iiiOn9ebf6g9f68kv0POre+069+KXiO2W9hl+0aYkCrFMu52AO9V5+8OcjtWFoGo6RqGm+GNO1DX9OtY9JlW5C+YyyyOM4jYMoVME4Jyc47V61qNjFqem3NjcFxFcxNE5RtrAMMHB9awp/DF/daF/Ydxqlu2mmEQELY4mMYGPvbygOO+z6AUo+7/Xm3+oPX+vJL9DF1fVdMj+M2j+ffWimGxljffMo8t2PyqeeGIPA6nNReENQsr/WPGkNleW9xJc3LSQpHKrGVdmNy4PIyQMjivQLeBLW1it4siOJAi5OTgDA5qSjlVreTX3u4Ju9/R/crHDfDTVFPhnStIjj3yW9tKbo7vmtnEmAjrjgnLHnH3aPi3eW0HgaSCa4ijlmniMcbuAzhZFLYHU4HX0ruaKpu7v53/G4oqysed65rejzfFDwpKup2Txxw3BZxOhVS6DZk54znj17VN4M1TT7n4ieLRbX1tMbiWBoRHMreaFjwxXB5APXHSu+ooWn4/i7g1f8PwOM+JasNJ0i5IPk2usW808naNASCx9AMjmsv4j67aah8O7kvJDEs14qWwaUH7SiSrl1Hcd+MjHOcGvR6KS0++/5f5FX/wAvz/zPO9Z13SJPif4Vkh1SyaKOC4DOlwhVd6DYCc4Ge3rWZo9nBZ6fr2ieKtbutPnuLuZ3tlWEG8Rxw8e+Ms5PTCkkHHAr1eijpb1/F3F/wPwVihYWpg8OW1rbmeNktVjjNwQZFwuBuxxuHfHevO9Fv7XRfhJqWiarKttq8EF1HNauf3rs24hgvVgQQdwyMd+K9ToolrfzHF8tvI8sttchHhfwXDbtYLAUEc+qzxrKLCRIx8oJ4SQ9Mt+VW/COox23xI8QW/2i5vzqDQGC4ZFHmKsb5k+UKCmRt3KMElfXNekUU27tvvf8SbaWPOfh5qj6f4Uh0hLQ3F9bm7a5tw2HhKuSqsuONxIAzj8a53UtQW88C2E7XlvbSR38csukWNukcdkok5LjaXUjuxIBJ6V7RRS639PwG9b+d/xK2nXqalp8N5EkiRzLuUSDBx2P49as0UUAFFFFABRRRQAUUUUAFFFFABRRRQAUUUUAFFFFABRRRQAUUUUAFFFFABRRRQAUUUUAFFFFABRRRQAUUUUAFFFFABRRRQAUUUUAFFFFABRRRQAUUUUAFFFFABRRRQAUUUUAFFFFABRRRQAUUUUAFFFFABRRRQAUUUUAFFFFABRRRQAUUUUAFFFFABRRRQAUUUUAFFFFABRRRQAUUUUAFFFFABRRRQAUUUUAFFFFABRRRQAUUUUAFFFFABRRRQAUUUUAFFFFABRRRQAUUUUAFFFFABRRRQAUUUUAFFFFABRRRQAUUUUAFFFFABRRRQAUUUUAFFFFABRRRQAUUUUAFFFFABRRRQAUUUUAFFFFABRRRQAUUUUAFFFFABRRRQAUUUUAFFFFABRRRQAUUUUAFFFFABRRRQAUUUUAf//Z)"
      ],
      "metadata": {
        "id": "VswZzLF7H-dg"
      }
    },
    {
      "cell_type": "code",
      "source": [
        "person"
      ],
      "metadata": {
        "colab": {
          "base_uri": "https://localhost:8080/",
          "height": 81
        },
        "id": "HrINSEaAH_z3",
        "outputId": "e21b6332-6515-4216-9a7e-17a0b3c67d59"
      },
      "execution_count": null,
      "outputs": [
        {
          "output_type": "execute_result",
          "data": {
            "text/plain": [
              "   Height  Weight  Foot_Size\n",
              "0       6     130          8"
            ],
            "text/html": [
              "\n",
              "  <div id=\"df-adfa82cf-7278-471d-aa17-1d0442fd351e\">\n",
              "    <div class=\"colab-df-container\">\n",
              "      <div>\n",
              "<style scoped>\n",
              "    .dataframe tbody tr th:only-of-type {\n",
              "        vertical-align: middle;\n",
              "    }\n",
              "\n",
              "    .dataframe tbody tr th {\n",
              "        vertical-align: top;\n",
              "    }\n",
              "\n",
              "    .dataframe thead th {\n",
              "        text-align: right;\n",
              "    }\n",
              "</style>\n",
              "<table border=\"1\" class=\"dataframe\">\n",
              "  <thead>\n",
              "    <tr style=\"text-align: right;\">\n",
              "      <th></th>\n",
              "      <th>Height</th>\n",
              "      <th>Weight</th>\n",
              "      <th>Foot_Size</th>\n",
              "    </tr>\n",
              "  </thead>\n",
              "  <tbody>\n",
              "    <tr>\n",
              "      <th>0</th>\n",
              "      <td>6</td>\n",
              "      <td>130</td>\n",
              "      <td>8</td>\n",
              "    </tr>\n",
              "  </tbody>\n",
              "</table>\n",
              "</div>\n",
              "      <button class=\"colab-df-convert\" onclick=\"convertToInteractive('df-adfa82cf-7278-471d-aa17-1d0442fd351e')\"\n",
              "              title=\"Convert this dataframe to an interactive table.\"\n",
              "              style=\"display:none;\">\n",
              "        \n",
              "  <svg xmlns=\"http://www.w3.org/2000/svg\" height=\"24px\"viewBox=\"0 0 24 24\"\n",
              "       width=\"24px\">\n",
              "    <path d=\"M0 0h24v24H0V0z\" fill=\"none\"/>\n",
              "    <path d=\"M18.56 5.44l.94 2.06.94-2.06 2.06-.94-2.06-.94-.94-2.06-.94 2.06-2.06.94zm-11 1L8.5 8.5l.94-2.06 2.06-.94-2.06-.94L8.5 2.5l-.94 2.06-2.06.94zm10 10l.94 2.06.94-2.06 2.06-.94-2.06-.94-.94-2.06-.94 2.06-2.06.94z\"/><path d=\"M17.41 7.96l-1.37-1.37c-.4-.4-.92-.59-1.43-.59-.52 0-1.04.2-1.43.59L10.3 9.45l-7.72 7.72c-.78.78-.78 2.05 0 2.83L4 21.41c.39.39.9.59 1.41.59.51 0 1.02-.2 1.41-.59l7.78-7.78 2.81-2.81c.8-.78.8-2.07 0-2.86zM5.41 20L4 18.59l7.72-7.72 1.47 1.35L5.41 20z\"/>\n",
              "  </svg>\n",
              "      </button>\n",
              "      \n",
              "  <style>\n",
              "    .colab-df-container {\n",
              "      display:flex;\n",
              "      flex-wrap:wrap;\n",
              "      gap: 12px;\n",
              "    }\n",
              "\n",
              "    .colab-df-convert {\n",
              "      background-color: #E8F0FE;\n",
              "      border: none;\n",
              "      border-radius: 50%;\n",
              "      cursor: pointer;\n",
              "      display: none;\n",
              "      fill: #1967D2;\n",
              "      height: 32px;\n",
              "      padding: 0 0 0 0;\n",
              "      width: 32px;\n",
              "    }\n",
              "\n",
              "    .colab-df-convert:hover {\n",
              "      background-color: #E2EBFA;\n",
              "      box-shadow: 0px 1px 2px rgba(60, 64, 67, 0.3), 0px 1px 3px 1px rgba(60, 64, 67, 0.15);\n",
              "      fill: #174EA6;\n",
              "    }\n",
              "\n",
              "    [theme=dark] .colab-df-convert {\n",
              "      background-color: #3B4455;\n",
              "      fill: #D2E3FC;\n",
              "    }\n",
              "\n",
              "    [theme=dark] .colab-df-convert:hover {\n",
              "      background-color: #434B5C;\n",
              "      box-shadow: 0px 1px 3px 1px rgba(0, 0, 0, 0.15);\n",
              "      filter: drop-shadow(0px 1px 2px rgba(0, 0, 0, 0.3));\n",
              "      fill: #FFFFFF;\n",
              "    }\n",
              "  </style>\n",
              "\n",
              "      <script>\n",
              "        const buttonEl =\n",
              "          document.querySelector('#df-adfa82cf-7278-471d-aa17-1d0442fd351e button.colab-df-convert');\n",
              "        buttonEl.style.display =\n",
              "          google.colab.kernel.accessAllowed ? 'block' : 'none';\n",
              "\n",
              "        async function convertToInteractive(key) {\n",
              "          const element = document.querySelector('#df-adfa82cf-7278-471d-aa17-1d0442fd351e');\n",
              "          const dataTable =\n",
              "            await google.colab.kernel.invokeFunction('convertToInteractive',\n",
              "                                                     [key], {});\n",
              "          if (!dataTable) return;\n",
              "\n",
              "          const docLinkHtml = 'Like what you see? Visit the ' +\n",
              "            '<a target=\"_blank\" href=https://colab.research.google.com/notebooks/data_table.ipynb>data table notebook</a>'\n",
              "            + ' to learn more about interactive tables.';\n",
              "          element.innerHTML = '';\n",
              "          dataTable['output_type'] = 'display_data';\n",
              "          await google.colab.output.renderOutput(dataTable, element);\n",
              "          const docLink = document.createElement('div');\n",
              "          docLink.innerHTML = docLinkHtml;\n",
              "          element.appendChild(docLink);\n",
              "        }\n",
              "      </script>\n",
              "    </div>\n",
              "  </div>\n",
              "  "
            ]
          },
          "metadata": {},
          "execution_count": 37
        }
      ]
    },
    {
      "cell_type": "markdown",
      "source": [
        "![image.png](data:image/png;base64,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)"
      ],
      "metadata": {
        "id": "45zxR8I9Ofp4"
      }
    },
    {
      "cell_type": "code",
      "source": [
        "# 분자 계산\n",
        "p1 = (p_male * \n",
        "      p_x_given_y(person['Height'][0], male_height_mean, male_height_variance) * \n",
        "      p_x_given_y(person['Weight'][0], male_weight_mean, male_weight_variance) * \n",
        "      p_x_given_y(person['Foot_Size'][0], male_footsize_mean, male_footsize_variance))\n",
        "p1"
      ],
      "metadata": {
        "colab": {
          "base_uri": "https://localhost:8080/"
        },
        "id": "i775fMIYIG8A",
        "outputId": "6257be72-ef5b-47fc-c203-c6d0df2239d1"
      },
      "execution_count": null,
      "outputs": [
        {
          "output_type": "execute_result",
          "data": {
            "text/plain": [
              "6.197071843878078e-09"
            ]
          },
          "metadata": {},
          "execution_count": 39
        }
      ]
    },
    {
      "cell_type": "code",
      "source": [
        "# 분자 계산\n",
        "p2= (p_female * p_x_given_y(person['Height'][0], female_height_mean, female_height_variance) * \n",
        "  p_x_given_y(person['Weight'][0], female_weight_mean, female_weight_variance) * p_x_given_y(person['Foot_Size'][0], female_footsize_mean, female_footsize_variance))\n",
        "p2"
      ],
      "metadata": {
        "colab": {
          "base_uri": "https://localhost:8080/"
        },
        "id": "LETAI0amIJ5e",
        "outputId": "3a68712a-bfaa-46de-e5d8-d0c19ac51d1a"
      },
      "execution_count": null,
      "outputs": [
        {
          "output_type": "execute_result",
          "data": {
            "text/plain": [
              "0.0005377909183630018"
            ]
          },
          "metadata": {},
          "execution_count": 40
        }
      ]
    },
    {
      "cell_type": "code",
      "source": [
        "max(p1, p2)"
      ],
      "metadata": {
        "colab": {
          "base_uri": "https://localhost:8080/"
        },
        "id": "Ky3GoM0IX2SX",
        "outputId": "c12a2d15-43bf-4aef-8478-194ff61e20f1"
      },
      "execution_count": null,
      "outputs": [
        {
          "output_type": "execute_result",
          "data": {
            "text/plain": [
              "0.0005377909183630018"
            ]
          },
          "metadata": {},
          "execution_count": 41
        }
      ]
    },
    {
      "cell_type": "markdown",
      "source": [
        "# 타이타닉 생존자 분류"
      ],
      "metadata": {
        "id": "rthfp2TfY66s"
      }
    },
    {
      "cell_type": "markdown",
      "source": [
        "##1. Data Load"
      ],
      "metadata": {
        "id": "ctC5dNgfJN7A"
      }
    },
    {
      "cell_type": "markdown",
      "source": [
        "* 변수 설명\n",
        "\n",
        "| 변수     | 설명                                             |\n",
        "| -------- | ------------------------------------------------ |\n",
        "| survived | 생존여부( 0: 사망, 1: 생존)                      |\n",
        "| pclass   | 자리 등급(1: 1등석, 2: 2등석, 3: 3등석)          |\n",
        "| sex      | 성별(male: 남성, female: 여성)                   |\n",
        "| age      | 나이                                             |\n",
        "| sibsp    | 타이타닉 호에 동승한 자매 / 배우자의 수          |\n",
        "| parch    | 타이타닉 호에 동승한 부모 / 자식의 수            |\n",
        "| fare     | 승객 요금                                        |\n",
        "| embarked | 탑승지(C: 셰르부르, Q: 퀸즈타운, S=사우스햄프턴) |\n",
        "| alone    | 혼자 탑승했는지에 대한 여부 (True, False)        |"
      ],
      "metadata": {
        "id": "NzY6jEjDJR3E"
      }
    },
    {
      "cell_type": "code",
      "source": [
        "import pandas as pd\n",
        "import numpy as np\n",
        "\n",
        "df = pd.read_csv('https://raw.githubusercontent.com/hrbae/DRB_ML_Training/main/2022/week7/data/titanic.csv')"
      ],
      "metadata": {
        "id": "eqbY-EIdJRS4"
      },
      "execution_count": null,
      "outputs": []
    },
    {
      "cell_type": "code",
      "source": [
        "df.head()"
      ],
      "metadata": {
        "colab": {
          "base_uri": "https://localhost:8080/",
          "height": 206
        },
        "id": "kGLSB_dXJYgW",
        "outputId": "f2d197ef-54ef-4b14-8115-dd5592a937ea"
      },
      "execution_count": null,
      "outputs": [
        {
          "output_type": "execute_result",
          "data": {
            "text/plain": [
              "   survived  pclass     sex   age  sibsp  parch     fare embarked  alone\n",
              "0         0       3    male  22.0      1      0   7.2500        S  False\n",
              "1         1       1  female  38.0      1      0  71.2833        C  False\n",
              "2         1       3  female  26.0      0      0   7.9250        S   True\n",
              "3         1       1  female  35.0      1      0  53.1000        S  False\n",
              "4         0       3    male  35.0      0      0   8.0500        S   True"
            ],
            "text/html": [
              "\n",
              "  <div id=\"df-2be0e5ff-a900-4f40-8b3f-2199f6fab42d\">\n",
              "    <div class=\"colab-df-container\">\n",
              "      <div>\n",
              "<style scoped>\n",
              "    .dataframe tbody tr th:only-of-type {\n",
              "        vertical-align: middle;\n",
              "    }\n",
              "\n",
              "    .dataframe tbody tr th {\n",
              "        vertical-align: top;\n",
              "    }\n",
              "\n",
              "    .dataframe thead th {\n",
              "        text-align: right;\n",
              "    }\n",
              "</style>\n",
              "<table border=\"1\" class=\"dataframe\">\n",
              "  <thead>\n",
              "    <tr style=\"text-align: right;\">\n",
              "      <th></th>\n",
              "      <th>survived</th>\n",
              "      <th>pclass</th>\n",
              "      <th>sex</th>\n",
              "      <th>age</th>\n",
              "      <th>sibsp</th>\n",
              "      <th>parch</th>\n",
              "      <th>fare</th>\n",
              "      <th>embarked</th>\n",
              "      <th>alone</th>\n",
              "    </tr>\n",
              "  </thead>\n",
              "  <tbody>\n",
              "    <tr>\n",
              "      <th>0</th>\n",
              "      <td>0</td>\n",
              "      <td>3</td>\n",
              "      <td>male</td>\n",
              "      <td>22.0</td>\n",
              "      <td>1</td>\n",
              "      <td>0</td>\n",
              "      <td>7.2500</td>\n",
              "      <td>S</td>\n",
              "      <td>False</td>\n",
              "    </tr>\n",
              "    <tr>\n",
              "      <th>1</th>\n",
              "      <td>1</td>\n",
              "      <td>1</td>\n",
              "      <td>female</td>\n",
              "      <td>38.0</td>\n",
              "      <td>1</td>\n",
              "      <td>0</td>\n",
              "      <td>71.2833</td>\n",
              "      <td>C</td>\n",
              "      <td>False</td>\n",
              "    </tr>\n",
              "    <tr>\n",
              "      <th>2</th>\n",
              "      <td>1</td>\n",
              "      <td>3</td>\n",
              "      <td>female</td>\n",
              "      <td>26.0</td>\n",
              "      <td>0</td>\n",
              "      <td>0</td>\n",
              "      <td>7.9250</td>\n",
              "      <td>S</td>\n",
              "      <td>True</td>\n",
              "    </tr>\n",
              "    <tr>\n",
              "      <th>3</th>\n",
              "      <td>1</td>\n",
              "      <td>1</td>\n",
              "      <td>female</td>\n",
              "      <td>35.0</td>\n",
              "      <td>1</td>\n",
              "      <td>0</td>\n",
              "      <td>53.1000</td>\n",
              "      <td>S</td>\n",
              "      <td>False</td>\n",
              "    </tr>\n",
              "    <tr>\n",
              "      <th>4</th>\n",
              "      <td>0</td>\n",
              "      <td>3</td>\n",
              "      <td>male</td>\n",
              "      <td>35.0</td>\n",
              "      <td>0</td>\n",
              "      <td>0</td>\n",
              "      <td>8.0500</td>\n",
              "      <td>S</td>\n",
              "      <td>True</td>\n",
              "    </tr>\n",
              "  </tbody>\n",
              "</table>\n",
              "</div>\n",
              "      <button class=\"colab-df-convert\" onclick=\"convertToInteractive('df-2be0e5ff-a900-4f40-8b3f-2199f6fab42d')\"\n",
              "              title=\"Convert this dataframe to an interactive table.\"\n",
              "              style=\"display:none;\">\n",
              "        \n",
              "  <svg xmlns=\"http://www.w3.org/2000/svg\" height=\"24px\"viewBox=\"0 0 24 24\"\n",
              "       width=\"24px\">\n",
              "    <path d=\"M0 0h24v24H0V0z\" fill=\"none\"/>\n",
              "    <path d=\"M18.56 5.44l.94 2.06.94-2.06 2.06-.94-2.06-.94-.94-2.06-.94 2.06-2.06.94zm-11 1L8.5 8.5l.94-2.06 2.06-.94-2.06-.94L8.5 2.5l-.94 2.06-2.06.94zm10 10l.94 2.06.94-2.06 2.06-.94-2.06-.94-.94-2.06-.94 2.06-2.06.94z\"/><path d=\"M17.41 7.96l-1.37-1.37c-.4-.4-.92-.59-1.43-.59-.52 0-1.04.2-1.43.59L10.3 9.45l-7.72 7.72c-.78.78-.78 2.05 0 2.83L4 21.41c.39.39.9.59 1.41.59.51 0 1.02-.2 1.41-.59l7.78-7.78 2.81-2.81c.8-.78.8-2.07 0-2.86zM5.41 20L4 18.59l7.72-7.72 1.47 1.35L5.41 20z\"/>\n",
              "  </svg>\n",
              "      </button>\n",
              "      \n",
              "  <style>\n",
              "    .colab-df-container {\n",
              "      display:flex;\n",
              "      flex-wrap:wrap;\n",
              "      gap: 12px;\n",
              "    }\n",
              "\n",
              "    .colab-df-convert {\n",
              "      background-color: #E8F0FE;\n",
              "      border: none;\n",
              "      border-radius: 50%;\n",
              "      cursor: pointer;\n",
              "      display: none;\n",
              "      fill: #1967D2;\n",
              "      height: 32px;\n",
              "      padding: 0 0 0 0;\n",
              "      width: 32px;\n",
              "    }\n",
              "\n",
              "    .colab-df-convert:hover {\n",
              "      background-color: #E2EBFA;\n",
              "      box-shadow: 0px 1px 2px rgba(60, 64, 67, 0.3), 0px 1px 3px 1px rgba(60, 64, 67, 0.15);\n",
              "      fill: #174EA6;\n",
              "    }\n",
              "\n",
              "    [theme=dark] .colab-df-convert {\n",
              "      background-color: #3B4455;\n",
              "      fill: #D2E3FC;\n",
              "    }\n",
              "\n",
              "    [theme=dark] .colab-df-convert:hover {\n",
              "      background-color: #434B5C;\n",
              "      box-shadow: 0px 1px 3px 1px rgba(0, 0, 0, 0.15);\n",
              "      filter: drop-shadow(0px 1px 2px rgba(0, 0, 0, 0.3));\n",
              "      fill: #FFFFFF;\n",
              "    }\n",
              "  </style>\n",
              "\n",
              "      <script>\n",
              "        const buttonEl =\n",
              "          document.querySelector('#df-2be0e5ff-a900-4f40-8b3f-2199f6fab42d button.colab-df-convert');\n",
              "        buttonEl.style.display =\n",
              "          google.colab.kernel.accessAllowed ? 'block' : 'none';\n",
              "\n",
              "        async function convertToInteractive(key) {\n",
              "          const element = document.querySelector('#df-2be0e5ff-a900-4f40-8b3f-2199f6fab42d');\n",
              "          const dataTable =\n",
              "            await google.colab.kernel.invokeFunction('convertToInteractive',\n",
              "                                                     [key], {});\n",
              "          if (!dataTable) return;\n",
              "\n",
              "          const docLinkHtml = 'Like what you see? Visit the ' +\n",
              "            '<a target=\"_blank\" href=https://colab.research.google.com/notebooks/data_table.ipynb>data table notebook</a>'\n",
              "            + ' to learn more about interactive tables.';\n",
              "          element.innerHTML = '';\n",
              "          dataTable['output_type'] = 'display_data';\n",
              "          await google.colab.output.renderOutput(dataTable, element);\n",
              "          const docLink = document.createElement('div');\n",
              "          docLink.innerHTML = docLinkHtml;\n",
              "          element.appendChild(docLink);\n",
              "        }\n",
              "      </script>\n",
              "    </div>\n",
              "  </div>\n",
              "  "
            ]
          },
          "metadata": {},
          "execution_count": 43
        }
      ]
    },
    {
      "cell_type": "markdown",
      "source": [
        "##2. 탐색적 데이터 분석(EDA)"
      ],
      "metadata": {
        "id": "K1mGLnGAJavs"
      }
    },
    {
      "cell_type": "code",
      "source": [
        "df['survived'].value_counts()"
      ],
      "metadata": {
        "colab": {
          "base_uri": "https://localhost:8080/"
        },
        "id": "OpU2pco-JjX0",
        "outputId": "d82a338f-20b0-4f7a-9713-b7879d6142f7"
      },
      "execution_count": null,
      "outputs": [
        {
          "output_type": "execute_result",
          "data": {
            "text/plain": [
              "0    394\n",
              "1    261\n",
              "Name: survived, dtype: int64"
            ]
          },
          "metadata": {},
          "execution_count": 44
        }
      ]
    },
    {
      "cell_type": "code",
      "source": [
        "dead = df.loc[df['survived']==0,:]\n",
        "alive = df.loc[df['survived']==1,:]"
      ],
      "metadata": {
        "id": "2jqAC0mPJlMw"
      },
      "execution_count": null,
      "outputs": []
    },
    {
      "cell_type": "code",
      "source": [
        "dead"
      ],
      "metadata": {
        "colab": {
          "base_uri": "https://localhost:8080/",
          "height": 424
        },
        "id": "__FQn3FEaJMB",
        "outputId": "44a9be0b-fcd6-40eb-b476-342194458b7e"
      },
      "execution_count": null,
      "outputs": [
        {
          "output_type": "execute_result",
          "data": {
            "text/plain": [
              "     survived  pclass   sex   age  sibsp  parch     fare embarked  alone\n",
              "0           0       3  male  22.0      1      0   7.2500        S  False\n",
              "4           0       3  male  35.0      0      0   8.0500        S   True\n",
              "5           0       1  male  54.0      0      0  51.8625        S   True\n",
              "6           0       3  male   2.0      3      1  21.0750        S  False\n",
              "11          0       3  male  20.0      0      0   8.0500        S   True\n",
              "..        ...     ...   ...   ...    ...    ...      ...      ...    ...\n",
              "646         0       2  male  31.0      1      1  37.0042        C  False\n",
              "647         0       3  male  43.0      0      0   6.4500        S   True\n",
              "648         0       3  male  10.0      3      2  27.9000        S  False\n",
              "651         0       1  male  38.0      0      0   0.0000        S   True\n",
              "653         0       3  male   2.0      4      1  39.6875        S  False\n",
              "\n",
              "[394 rows x 9 columns]"
            ],
            "text/html": [
              "\n",
              "  <div id=\"df-717a08e6-0058-455c-8846-3353dd161053\">\n",
              "    <div class=\"colab-df-container\">\n",
              "      <div>\n",
              "<style scoped>\n",
              "    .dataframe tbody tr th:only-of-type {\n",
              "        vertical-align: middle;\n",
              "    }\n",
              "\n",
              "    .dataframe tbody tr th {\n",
              "        vertical-align: top;\n",
              "    }\n",
              "\n",
              "    .dataframe thead th {\n",
              "        text-align: right;\n",
              "    }\n",
              "</style>\n",
              "<table border=\"1\" class=\"dataframe\">\n",
              "  <thead>\n",
              "    <tr style=\"text-align: right;\">\n",
              "      <th></th>\n",
              "      <th>survived</th>\n",
              "      <th>pclass</th>\n",
              "      <th>sex</th>\n",
              "      <th>age</th>\n",
              "      <th>sibsp</th>\n",
              "      <th>parch</th>\n",
              "      <th>fare</th>\n",
              "      <th>embarked</th>\n",
              "      <th>alone</th>\n",
              "    </tr>\n",
              "  </thead>\n",
              "  <tbody>\n",
              "    <tr>\n",
              "      <th>0</th>\n",
              "      <td>0</td>\n",
              "      <td>3</td>\n",
              "      <td>male</td>\n",
              "      <td>22.0</td>\n",
              "      <td>1</td>\n",
              "      <td>0</td>\n",
              "      <td>7.2500</td>\n",
              "      <td>S</td>\n",
              "      <td>False</td>\n",
              "    </tr>\n",
              "    <tr>\n",
              "      <th>4</th>\n",
              "      <td>0</td>\n",
              "      <td>3</td>\n",
              "      <td>male</td>\n",
              "      <td>35.0</td>\n",
              "      <td>0</td>\n",
              "      <td>0</td>\n",
              "      <td>8.0500</td>\n",
              "      <td>S</td>\n",
              "      <td>True</td>\n",
              "    </tr>\n",
              "    <tr>\n",
              "      <th>5</th>\n",
              "      <td>0</td>\n",
              "      <td>1</td>\n",
              "      <td>male</td>\n",
              "      <td>54.0</td>\n",
              "      <td>0</td>\n",
              "      <td>0</td>\n",
              "      <td>51.8625</td>\n",
              "      <td>S</td>\n",
              "      <td>True</td>\n",
              "    </tr>\n",
              "    <tr>\n",
              "      <th>6</th>\n",
              "      <td>0</td>\n",
              "      <td>3</td>\n",
              "      <td>male</td>\n",
              "      <td>2.0</td>\n",
              "      <td>3</td>\n",
              "      <td>1</td>\n",
              "      <td>21.0750</td>\n",
              "      <td>S</td>\n",
              "      <td>False</td>\n",
              "    </tr>\n",
              "    <tr>\n",
              "      <th>11</th>\n",
              "      <td>0</td>\n",
              "      <td>3</td>\n",
              "      <td>male</td>\n",
              "      <td>20.0</td>\n",
              "      <td>0</td>\n",
              "      <td>0</td>\n",
              "      <td>8.0500</td>\n",
              "      <td>S</td>\n",
              "      <td>True</td>\n",
              "    </tr>\n",
              "    <tr>\n",
              "      <th>...</th>\n",
              "      <td>...</td>\n",
              "      <td>...</td>\n",
              "      <td>...</td>\n",
              "      <td>...</td>\n",
              "      <td>...</td>\n",
              "      <td>...</td>\n",
              "      <td>...</td>\n",
              "      <td>...</td>\n",
              "      <td>...</td>\n",
              "    </tr>\n",
              "    <tr>\n",
              "      <th>646</th>\n",
              "      <td>0</td>\n",
              "      <td>2</td>\n",
              "      <td>male</td>\n",
              "      <td>31.0</td>\n",
              "      <td>1</td>\n",
              "      <td>1</td>\n",
              "      <td>37.0042</td>\n",
              "      <td>C</td>\n",
              "      <td>False</td>\n",
              "    </tr>\n",
              "    <tr>\n",
              "      <th>647</th>\n",
              "      <td>0</td>\n",
              "      <td>3</td>\n",
              "      <td>male</td>\n",
              "      <td>43.0</td>\n",
              "      <td>0</td>\n",
              "      <td>0</td>\n",
              "      <td>6.4500</td>\n",
              "      <td>S</td>\n",
              "      <td>True</td>\n",
              "    </tr>\n",
              "    <tr>\n",
              "      <th>648</th>\n",
              "      <td>0</td>\n",
              "      <td>3</td>\n",
              "      <td>male</td>\n",
              "      <td>10.0</td>\n",
              "      <td>3</td>\n",
              "      <td>2</td>\n",
              "      <td>27.9000</td>\n",
              "      <td>S</td>\n",
              "      <td>False</td>\n",
              "    </tr>\n",
              "    <tr>\n",
              "      <th>651</th>\n",
              "      <td>0</td>\n",
              "      <td>1</td>\n",
              "      <td>male</td>\n",
              "      <td>38.0</td>\n",
              "      <td>0</td>\n",
              "      <td>0</td>\n",
              "      <td>0.0000</td>\n",
              "      <td>S</td>\n",
              "      <td>True</td>\n",
              "    </tr>\n",
              "    <tr>\n",
              "      <th>653</th>\n",
              "      <td>0</td>\n",
              "      <td>3</td>\n",
              "      <td>male</td>\n",
              "      <td>2.0</td>\n",
              "      <td>4</td>\n",
              "      <td>1</td>\n",
              "      <td>39.6875</td>\n",
              "      <td>S</td>\n",
              "      <td>False</td>\n",
              "    </tr>\n",
              "  </tbody>\n",
              "</table>\n",
              "<p>394 rows × 9 columns</p>\n",
              "</div>\n",
              "      <button class=\"colab-df-convert\" onclick=\"convertToInteractive('df-717a08e6-0058-455c-8846-3353dd161053')\"\n",
              "              title=\"Convert this dataframe to an interactive table.\"\n",
              "              style=\"display:none;\">\n",
              "        \n",
              "  <svg xmlns=\"http://www.w3.org/2000/svg\" height=\"24px\"viewBox=\"0 0 24 24\"\n",
              "       width=\"24px\">\n",
              "    <path d=\"M0 0h24v24H0V0z\" fill=\"none\"/>\n",
              "    <path d=\"M18.56 5.44l.94 2.06.94-2.06 2.06-.94-2.06-.94-.94-2.06-.94 2.06-2.06.94zm-11 1L8.5 8.5l.94-2.06 2.06-.94-2.06-.94L8.5 2.5l-.94 2.06-2.06.94zm10 10l.94 2.06.94-2.06 2.06-.94-2.06-.94-.94-2.06-.94 2.06-2.06.94z\"/><path d=\"M17.41 7.96l-1.37-1.37c-.4-.4-.92-.59-1.43-.59-.52 0-1.04.2-1.43.59L10.3 9.45l-7.72 7.72c-.78.78-.78 2.05 0 2.83L4 21.41c.39.39.9.59 1.41.59.51 0 1.02-.2 1.41-.59l7.78-7.78 2.81-2.81c.8-.78.8-2.07 0-2.86zM5.41 20L4 18.59l7.72-7.72 1.47 1.35L5.41 20z\"/>\n",
              "  </svg>\n",
              "      </button>\n",
              "      \n",
              "  <style>\n",
              "    .colab-df-container {\n",
              "      display:flex;\n",
              "      flex-wrap:wrap;\n",
              "      gap: 12px;\n",
              "    }\n",
              "\n",
              "    .colab-df-convert {\n",
              "      background-color: #E8F0FE;\n",
              "      border: none;\n",
              "      border-radius: 50%;\n",
              "      cursor: pointer;\n",
              "      display: none;\n",
              "      fill: #1967D2;\n",
              "      height: 32px;\n",
              "      padding: 0 0 0 0;\n",
              "      width: 32px;\n",
              "    }\n",
              "\n",
              "    .colab-df-convert:hover {\n",
              "      background-color: #E2EBFA;\n",
              "      box-shadow: 0px 1px 2px rgba(60, 64, 67, 0.3), 0px 1px 3px 1px rgba(60, 64, 67, 0.15);\n",
              "      fill: #174EA6;\n",
              "    }\n",
              "\n",
              "    [theme=dark] .colab-df-convert {\n",
              "      background-color: #3B4455;\n",
              "      fill: #D2E3FC;\n",
              "    }\n",
              "\n",
              "    [theme=dark] .colab-df-convert:hover {\n",
              "      background-color: #434B5C;\n",
              "      box-shadow: 0px 1px 3px 1px rgba(0, 0, 0, 0.15);\n",
              "      filter: drop-shadow(0px 1px 2px rgba(0, 0, 0, 0.3));\n",
              "      fill: #FFFFFF;\n",
              "    }\n",
              "  </style>\n",
              "\n",
              "      <script>\n",
              "        const buttonEl =\n",
              "          document.querySelector('#df-717a08e6-0058-455c-8846-3353dd161053 button.colab-df-convert');\n",
              "        buttonEl.style.display =\n",
              "          google.colab.kernel.accessAllowed ? 'block' : 'none';\n",
              "\n",
              "        async function convertToInteractive(key) {\n",
              "          const element = document.querySelector('#df-717a08e6-0058-455c-8846-3353dd161053');\n",
              "          const dataTable =\n",
              "            await google.colab.kernel.invokeFunction('convertToInteractive',\n",
              "                                                     [key], {});\n",
              "          if (!dataTable) return;\n",
              "\n",
              "          const docLinkHtml = 'Like what you see? Visit the ' +\n",
              "            '<a target=\"_blank\" href=https://colab.research.google.com/notebooks/data_table.ipynb>data table notebook</a>'\n",
              "            + ' to learn more about interactive tables.';\n",
              "          element.innerHTML = '';\n",
              "          dataTable['output_type'] = 'display_data';\n",
              "          await google.colab.output.renderOutput(dataTable, element);\n",
              "          const docLink = document.createElement('div');\n",
              "          docLink.innerHTML = docLinkHtml;\n",
              "          element.appendChild(docLink);\n",
              "        }\n",
              "      </script>\n",
              "    </div>\n",
              "  </div>\n",
              "  "
            ]
          },
          "metadata": {},
          "execution_count": 51
        }
      ]
    },
    {
      "cell_type": "code",
      "source": [
        "#자리 별 사망 및 생존 비율\n",
        "print(dead['pclass'].value_counts()/len(dead))\n",
        "print(alive['pclass'].value_counts()/len(alive))"
      ],
      "metadata": {
        "colab": {
          "base_uri": "https://localhost:8080/"
        },
        "id": "POOTD2izJn9T",
        "outputId": "e8474c55-7e7e-4d2a-f6a4-13922f1ccf55"
      },
      "execution_count": null,
      "outputs": [
        {
          "output_type": "stream",
          "name": "stdout",
          "text": [
            "3    0.63198\n",
            "2    0.21066\n",
            "1    0.15736\n",
            "Name: pclass, dtype: float64\n",
            "1    0.417625\n",
            "3    0.291188\n",
            "2    0.291188\n",
            "Name: pclass, dtype: float64\n"
          ]
        }
      ]
    },
    {
      "cell_type": "code",
      "source": [
        "#성별에 따른 사망 및 생존 비율\n",
        "print(dead['sex'].value_counts()/len(dead))\n",
        "print(alive['sex'].value_counts()/len(alive))"
      ],
      "metadata": {
        "colab": {
          "base_uri": "https://localhost:8080/"
        },
        "id": "PrMnQ5LIJpiU",
        "outputId": "0f893100-53c6-443a-a816-72128a06d6ee"
      },
      "execution_count": null,
      "outputs": [
        {
          "output_type": "stream",
          "name": "stdout",
          "text": [
            "male      0.847716\n",
            "female    0.152284\n",
            "Name: sex, dtype: float64\n",
            "female    0.678161\n",
            "male      0.321839\n",
            "Name: sex, dtype: float64\n"
          ]
        }
      ]
    },
    {
      "cell_type": "code",
      "source": [
        "print(dead['alone'].mean())\n",
        "print(alive['alone'].mean())"
      ],
      "metadata": {
        "colab": {
          "base_uri": "https://localhost:8080/"
        },
        "id": "bqUxXrDVJsIO",
        "outputId": "3af52f39-9ad2-417d-eab0-8215bd9541e3"
      },
      "execution_count": null,
      "outputs": [
        {
          "output_type": "stream",
          "name": "stdout",
          "text": [
            "0.6370558375634517\n",
            "0.45977011494252873\n"
          ]
        }
      ]
    },
    {
      "cell_type": "markdown",
      "source": [
        "##3. 데이터 전처리"
      ],
      "metadata": {
        "id": "uAUAVLY-JxH4"
      }
    },
    {
      "cell_type": "code",
      "source": [
        "df.dtypes"
      ],
      "metadata": {
        "colab": {
          "base_uri": "https://localhost:8080/"
        },
        "id": "_E8BYo5rJvzi",
        "outputId": "a0925eb1-3511-4a9b-d47b-0ff4e5a1e9bb"
      },
      "execution_count": null,
      "outputs": [
        {
          "output_type": "execute_result",
          "data": {
            "text/plain": [
              "survived      int64\n",
              "pclass        int64\n",
              "sex          object\n",
              "age         float64\n",
              "sibsp         int64\n",
              "parch         int64\n",
              "fare        float64\n",
              "embarked     object\n",
              "alone          bool\n",
              "dtype: object"
            ]
          },
          "metadata": {},
          "execution_count": 57
        }
      ]
    },
    {
      "cell_type": "code",
      "source": [
        "df.head()"
      ],
      "metadata": {
        "colab": {
          "base_uri": "https://localhost:8080/",
          "height": 206
        },
        "id": "sDsY56vaJZnM",
        "outputId": "d00a9749-fca0-4078-9cb1-ec37bef67955"
      },
      "execution_count": null,
      "outputs": [
        {
          "output_type": "execute_result",
          "data": {
            "text/plain": [
              "   survived  pclass     sex   age  sibsp  parch     fare embarked  alone\n",
              "0         0       3    male  22.0      1      0   7.2500        S  False\n",
              "1         1       1  female  38.0      1      0  71.2833        C  False\n",
              "2         1       3  female  26.0      0      0   7.9250        S   True\n",
              "3         1       1  female  35.0      1      0  53.1000        S  False\n",
              "4         0       3    male  35.0      0      0   8.0500        S   True"
            ],
            "text/html": [
              "\n",
              "  <div id=\"df-b687341e-3a81-4427-a7f5-73e77021183e\">\n",
              "    <div class=\"colab-df-container\">\n",
              "      <div>\n",
              "<style scoped>\n",
              "    .dataframe tbody tr th:only-of-type {\n",
              "        vertical-align: middle;\n",
              "    }\n",
              "\n",
              "    .dataframe tbody tr th {\n",
              "        vertical-align: top;\n",
              "    }\n",
              "\n",
              "    .dataframe thead th {\n",
              "        text-align: right;\n",
              "    }\n",
              "</style>\n",
              "<table border=\"1\" class=\"dataframe\">\n",
              "  <thead>\n",
              "    <tr style=\"text-align: right;\">\n",
              "      <th></th>\n",
              "      <th>survived</th>\n",
              "      <th>pclass</th>\n",
              "      <th>sex</th>\n",
              "      <th>age</th>\n",
              "      <th>sibsp</th>\n",
              "      <th>parch</th>\n",
              "      <th>fare</th>\n",
              "      <th>embarked</th>\n",
              "      <th>alone</th>\n",
              "    </tr>\n",
              "  </thead>\n",
              "  <tbody>\n",
              "    <tr>\n",
              "      <th>0</th>\n",
              "      <td>0</td>\n",
              "      <td>3</td>\n",
              "      <td>male</td>\n",
              "      <td>22.0</td>\n",
              "      <td>1</td>\n",
              "      <td>0</td>\n",
              "      <td>7.2500</td>\n",
              "      <td>S</td>\n",
              "      <td>False</td>\n",
              "    </tr>\n",
              "    <tr>\n",
              "      <th>1</th>\n",
              "      <td>1</td>\n",
              "      <td>1</td>\n",
              "      <td>female</td>\n",
              "      <td>38.0</td>\n",
              "      <td>1</td>\n",
              "      <td>0</td>\n",
              "      <td>71.2833</td>\n",
              "      <td>C</td>\n",
              "      <td>False</td>\n",
              "    </tr>\n",
              "    <tr>\n",
              "      <th>2</th>\n",
              "      <td>1</td>\n",
              "      <td>3</td>\n",
              "      <td>female</td>\n",
              "      <td>26.0</td>\n",
              "      <td>0</td>\n",
              "      <td>0</td>\n",
              "      <td>7.9250</td>\n",
              "      <td>S</td>\n",
              "      <td>True</td>\n",
              "    </tr>\n",
              "    <tr>\n",
              "      <th>3</th>\n",
              "      <td>1</td>\n",
              "      <td>1</td>\n",
              "      <td>female</td>\n",
              "      <td>35.0</td>\n",
              "      <td>1</td>\n",
              "      <td>0</td>\n",
              "      <td>53.1000</td>\n",
              "      <td>S</td>\n",
              "      <td>False</td>\n",
              "    </tr>\n",
              "    <tr>\n",
              "      <th>4</th>\n",
              "      <td>0</td>\n",
              "      <td>3</td>\n",
              "      <td>male</td>\n",
              "      <td>35.0</td>\n",
              "      <td>0</td>\n",
              "      <td>0</td>\n",
              "      <td>8.0500</td>\n",
              "      <td>S</td>\n",
              "      <td>True</td>\n",
              "    </tr>\n",
              "  </tbody>\n",
              "</table>\n",
              "</div>\n",
              "      <button class=\"colab-df-convert\" onclick=\"convertToInteractive('df-b687341e-3a81-4427-a7f5-73e77021183e')\"\n",
              "              title=\"Convert this dataframe to an interactive table.\"\n",
              "              style=\"display:none;\">\n",
              "        \n",
              "  <svg xmlns=\"http://www.w3.org/2000/svg\" height=\"24px\"viewBox=\"0 0 24 24\"\n",
              "       width=\"24px\">\n",
              "    <path d=\"M0 0h24v24H0V0z\" fill=\"none\"/>\n",
              "    <path d=\"M18.56 5.44l.94 2.06.94-2.06 2.06-.94-2.06-.94-.94-2.06-.94 2.06-2.06.94zm-11 1L8.5 8.5l.94-2.06 2.06-.94-2.06-.94L8.5 2.5l-.94 2.06-2.06.94zm10 10l.94 2.06.94-2.06 2.06-.94-2.06-.94-.94-2.06-.94 2.06-2.06.94z\"/><path d=\"M17.41 7.96l-1.37-1.37c-.4-.4-.92-.59-1.43-.59-.52 0-1.04.2-1.43.59L10.3 9.45l-7.72 7.72c-.78.78-.78 2.05 0 2.83L4 21.41c.39.39.9.59 1.41.59.51 0 1.02-.2 1.41-.59l7.78-7.78 2.81-2.81c.8-.78.8-2.07 0-2.86zM5.41 20L4 18.59l7.72-7.72 1.47 1.35L5.41 20z\"/>\n",
              "  </svg>\n",
              "      </button>\n",
              "      \n",
              "  <style>\n",
              "    .colab-df-container {\n",
              "      display:flex;\n",
              "      flex-wrap:wrap;\n",
              "      gap: 12px;\n",
              "    }\n",
              "\n",
              "    .colab-df-convert {\n",
              "      background-color: #E8F0FE;\n",
              "      border: none;\n",
              "      border-radius: 50%;\n",
              "      cursor: pointer;\n",
              "      display: none;\n",
              "      fill: #1967D2;\n",
              "      height: 32px;\n",
              "      padding: 0 0 0 0;\n",
              "      width: 32px;\n",
              "    }\n",
              "\n",
              "    .colab-df-convert:hover {\n",
              "      background-color: #E2EBFA;\n",
              "      box-shadow: 0px 1px 2px rgba(60, 64, 67, 0.3), 0px 1px 3px 1px rgba(60, 64, 67, 0.15);\n",
              "      fill: #174EA6;\n",
              "    }\n",
              "\n",
              "    [theme=dark] .colab-df-convert {\n",
              "      background-color: #3B4455;\n",
              "      fill: #D2E3FC;\n",
              "    }\n",
              "\n",
              "    [theme=dark] .colab-df-convert:hover {\n",
              "      background-color: #434B5C;\n",
              "      box-shadow: 0px 1px 3px 1px rgba(0, 0, 0, 0.15);\n",
              "      filter: drop-shadow(0px 1px 2px rgba(0, 0, 0, 0.3));\n",
              "      fill: #FFFFFF;\n",
              "    }\n",
              "  </style>\n",
              "\n",
              "      <script>\n",
              "        const buttonEl =\n",
              "          document.querySelector('#df-b687341e-3a81-4427-a7f5-73e77021183e button.colab-df-convert');\n",
              "        buttonEl.style.display =\n",
              "          google.colab.kernel.accessAllowed ? 'block' : 'none';\n",
              "\n",
              "        async function convertToInteractive(key) {\n",
              "          const element = document.querySelector('#df-b687341e-3a81-4427-a7f5-73e77021183e');\n",
              "          const dataTable =\n",
              "            await google.colab.kernel.invokeFunction('convertToInteractive',\n",
              "                                                     [key], {});\n",
              "          if (!dataTable) return;\n",
              "\n",
              "          const docLinkHtml = 'Like what you see? Visit the ' +\n",
              "            '<a target=\"_blank\" href=https://colab.research.google.com/notebooks/data_table.ipynb>data table notebook</a>'\n",
              "            + ' to learn more about interactive tables.';\n",
              "          element.innerHTML = '';\n",
              "          dataTable['output_type'] = 'display_data';\n",
              "          await google.colab.output.renderOutput(dataTable, element);\n",
              "          const docLink = document.createElement('div');\n",
              "          docLink.innerHTML = docLinkHtml;\n",
              "          element.appendChild(docLink);\n",
              "        }\n",
              "      </script>\n",
              "    </div>\n",
              "  </div>\n",
              "  "
            ]
          },
          "metadata": {},
          "execution_count": 58
        }
      ]
    },
    {
      "cell_type": "markdown",
      "source": [
        "###3-1. 더미 변수화\n",
        "\n",
        "* 학습을 위한 형태로 데이터 타입 변환"
      ],
      "metadata": {
        "id": "1BeGZEHqJ8oR"
      }
    },
    {
      "cell_type": "code",
      "source": [
        "df['alone'] = pd.Categorical(df['alone'])\n",
        "\n",
        "df.head()"
      ],
      "metadata": {
        "colab": {
          "base_uri": "https://localhost:8080/",
          "height": 206
        },
        "id": "uT8SBH9DJ3LQ",
        "outputId": "2a1f70b4-1073-409d-fc16-64ac3b59db5f"
      },
      "execution_count": null,
      "outputs": [
        {
          "output_type": "execute_result",
          "data": {
            "text/plain": [
              "   survived  pclass     sex   age  sibsp  parch     fare embarked  alone\n",
              "0         0       3    male  22.0      1      0   7.2500        S  False\n",
              "1         1       1  female  38.0      1      0  71.2833        C  False\n",
              "2         1       3  female  26.0      0      0   7.9250        S   True\n",
              "3         1       1  female  35.0      1      0  53.1000        S  False\n",
              "4         0       3    male  35.0      0      0   8.0500        S   True"
            ],
            "text/html": [
              "\n",
              "  <div id=\"df-5f65e480-115f-43d0-8e9c-3bfd18be94a0\">\n",
              "    <div class=\"colab-df-container\">\n",
              "      <div>\n",
              "<style scoped>\n",
              "    .dataframe tbody tr th:only-of-type {\n",
              "        vertical-align: middle;\n",
              "    }\n",
              "\n",
              "    .dataframe tbody tr th {\n",
              "        vertical-align: top;\n",
              "    }\n",
              "\n",
              "    .dataframe thead th {\n",
              "        text-align: right;\n",
              "    }\n",
              "</style>\n",
              "<table border=\"1\" class=\"dataframe\">\n",
              "  <thead>\n",
              "    <tr style=\"text-align: right;\">\n",
              "      <th></th>\n",
              "      <th>survived</th>\n",
              "      <th>pclass</th>\n",
              "      <th>sex</th>\n",
              "      <th>age</th>\n",
              "      <th>sibsp</th>\n",
              "      <th>parch</th>\n",
              "      <th>fare</th>\n",
              "      <th>embarked</th>\n",
              "      <th>alone</th>\n",
              "    </tr>\n",
              "  </thead>\n",
              "  <tbody>\n",
              "    <tr>\n",
              "      <th>0</th>\n",
              "      <td>0</td>\n",
              "      <td>3</td>\n",
              "      <td>male</td>\n",
              "      <td>22.0</td>\n",
              "      <td>1</td>\n",
              "      <td>0</td>\n",
              "      <td>7.2500</td>\n",
              "      <td>S</td>\n",
              "      <td>False</td>\n",
              "    </tr>\n",
              "    <tr>\n",
              "      <th>1</th>\n",
              "      <td>1</td>\n",
              "      <td>1</td>\n",
              "      <td>female</td>\n",
              "      <td>38.0</td>\n",
              "      <td>1</td>\n",
              "      <td>0</td>\n",
              "      <td>71.2833</td>\n",
              "      <td>C</td>\n",
              "      <td>False</td>\n",
              "    </tr>\n",
              "    <tr>\n",
              "      <th>2</th>\n",
              "      <td>1</td>\n",
              "      <td>3</td>\n",
              "      <td>female</td>\n",
              "      <td>26.0</td>\n",
              "      <td>0</td>\n",
              "      <td>0</td>\n",
              "      <td>7.9250</td>\n",
              "      <td>S</td>\n",
              "      <td>True</td>\n",
              "    </tr>\n",
              "    <tr>\n",
              "      <th>3</th>\n",
              "      <td>1</td>\n",
              "      <td>1</td>\n",
              "      <td>female</td>\n",
              "      <td>35.0</td>\n",
              "      <td>1</td>\n",
              "      <td>0</td>\n",
              "      <td>53.1000</td>\n",
              "      <td>S</td>\n",
              "      <td>False</td>\n",
              "    </tr>\n",
              "    <tr>\n",
              "      <th>4</th>\n",
              "      <td>0</td>\n",
              "      <td>3</td>\n",
              "      <td>male</td>\n",
              "      <td>35.0</td>\n",
              "      <td>0</td>\n",
              "      <td>0</td>\n",
              "      <td>8.0500</td>\n",
              "      <td>S</td>\n",
              "      <td>True</td>\n",
              "    </tr>\n",
              "  </tbody>\n",
              "</table>\n",
              "</div>\n",
              "      <button class=\"colab-df-convert\" onclick=\"convertToInteractive('df-5f65e480-115f-43d0-8e9c-3bfd18be94a0')\"\n",
              "              title=\"Convert this dataframe to an interactive table.\"\n",
              "              style=\"display:none;\">\n",
              "        \n",
              "  <svg xmlns=\"http://www.w3.org/2000/svg\" height=\"24px\"viewBox=\"0 0 24 24\"\n",
              "       width=\"24px\">\n",
              "    <path d=\"M0 0h24v24H0V0z\" fill=\"none\"/>\n",
              "    <path d=\"M18.56 5.44l.94 2.06.94-2.06 2.06-.94-2.06-.94-.94-2.06-.94 2.06-2.06.94zm-11 1L8.5 8.5l.94-2.06 2.06-.94-2.06-.94L8.5 2.5l-.94 2.06-2.06.94zm10 10l.94 2.06.94-2.06 2.06-.94-2.06-.94-.94-2.06-.94 2.06-2.06.94z\"/><path d=\"M17.41 7.96l-1.37-1.37c-.4-.4-.92-.59-1.43-.59-.52 0-1.04.2-1.43.59L10.3 9.45l-7.72 7.72c-.78.78-.78 2.05 0 2.83L4 21.41c.39.39.9.59 1.41.59.51 0 1.02-.2 1.41-.59l7.78-7.78 2.81-2.81c.8-.78.8-2.07 0-2.86zM5.41 20L4 18.59l7.72-7.72 1.47 1.35L5.41 20z\"/>\n",
              "  </svg>\n",
              "      </button>\n",
              "      \n",
              "  <style>\n",
              "    .colab-df-container {\n",
              "      display:flex;\n",
              "      flex-wrap:wrap;\n",
              "      gap: 12px;\n",
              "    }\n",
              "\n",
              "    .colab-df-convert {\n",
              "      background-color: #E8F0FE;\n",
              "      border: none;\n",
              "      border-radius: 50%;\n",
              "      cursor: pointer;\n",
              "      display: none;\n",
              "      fill: #1967D2;\n",
              "      height: 32px;\n",
              "      padding: 0 0 0 0;\n",
              "      width: 32px;\n",
              "    }\n",
              "\n",
              "    .colab-df-convert:hover {\n",
              "      background-color: #E2EBFA;\n",
              "      box-shadow: 0px 1px 2px rgba(60, 64, 67, 0.3), 0px 1px 3px 1px rgba(60, 64, 67, 0.15);\n",
              "      fill: #174EA6;\n",
              "    }\n",
              "\n",
              "    [theme=dark] .colab-df-convert {\n",
              "      background-color: #3B4455;\n",
              "      fill: #D2E3FC;\n",
              "    }\n",
              "\n",
              "    [theme=dark] .colab-df-convert:hover {\n",
              "      background-color: #434B5C;\n",
              "      box-shadow: 0px 1px 3px 1px rgba(0, 0, 0, 0.15);\n",
              "      filter: drop-shadow(0px 1px 2px rgba(0, 0, 0, 0.3));\n",
              "      fill: #FFFFFF;\n",
              "    }\n",
              "  </style>\n",
              "\n",
              "      <script>\n",
              "        const buttonEl =\n",
              "          document.querySelector('#df-5f65e480-115f-43d0-8e9c-3bfd18be94a0 button.colab-df-convert');\n",
              "        buttonEl.style.display =\n",
              "          google.colab.kernel.accessAllowed ? 'block' : 'none';\n",
              "\n",
              "        async function convertToInteractive(key) {\n",
              "          const element = document.querySelector('#df-5f65e480-115f-43d0-8e9c-3bfd18be94a0');\n",
              "          const dataTable =\n",
              "            await google.colab.kernel.invokeFunction('convertToInteractive',\n",
              "                                                     [key], {});\n",
              "          if (!dataTable) return;\n",
              "\n",
              "          const docLinkHtml = 'Like what you see? Visit the ' +\n",
              "            '<a target=\"_blank\" href=https://colab.research.google.com/notebooks/data_table.ipynb>data table notebook</a>'\n",
              "            + ' to learn more about interactive tables.';\n",
              "          element.innerHTML = '';\n",
              "          dataTable['output_type'] = 'display_data';\n",
              "          await google.colab.output.renderOutput(dataTable, element);\n",
              "          const docLink = document.createElement('div');\n",
              "          docLink.innerHTML = docLinkHtml;\n",
              "          element.appendChild(docLink);\n",
              "        }\n",
              "      </script>\n",
              "    </div>\n",
              "  </div>\n",
              "  "
            ]
          },
          "metadata": {},
          "execution_count": 59
        }
      ]
    },
    {
      "cell_type": "code",
      "source": [
        "df = pd.get_dummies(df, drop_first = False)\n",
        "\n",
        "df.head()"
      ],
      "metadata": {
        "colab": {
          "base_uri": "https://localhost:8080/",
          "height": 206
        },
        "id": "i-9jew4WJ46w",
        "outputId": "0fad6c9b-eff6-4e92-ff6c-c9211e6b8489"
      },
      "execution_count": null,
      "outputs": [
        {
          "output_type": "execute_result",
          "data": {
            "text/plain": [
              "   survived  pclass   age  sibsp  parch     fare  sex_male  embarked_Q  \\\n",
              "0         0       3  22.0      1      0   7.2500         1           0   \n",
              "1         1       1  38.0      1      0  71.2833         0           0   \n",
              "2         1       3  26.0      0      0   7.9250         0           0   \n",
              "3         1       1  35.0      1      0  53.1000         0           0   \n",
              "4         0       3  35.0      0      0   8.0500         1           0   \n",
              "\n",
              "   embarked_S  alone_True  \n",
              "0           1           0  \n",
              "1           0           0  \n",
              "2           1           1  \n",
              "3           1           0  \n",
              "4           1           1  "
            ],
            "text/html": [
              "\n",
              "  <div id=\"df-18ccb1e9-d54c-43b5-9458-2c18aaf678a5\">\n",
              "    <div class=\"colab-df-container\">\n",
              "      <div>\n",
              "<style scoped>\n",
              "    .dataframe tbody tr th:only-of-type {\n",
              "        vertical-align: middle;\n",
              "    }\n",
              "\n",
              "    .dataframe tbody tr th {\n",
              "        vertical-align: top;\n",
              "    }\n",
              "\n",
              "    .dataframe thead th {\n",
              "        text-align: right;\n",
              "    }\n",
              "</style>\n",
              "<table border=\"1\" class=\"dataframe\">\n",
              "  <thead>\n",
              "    <tr style=\"text-align: right;\">\n",
              "      <th></th>\n",
              "      <th>survived</th>\n",
              "      <th>pclass</th>\n",
              "      <th>age</th>\n",
              "      <th>sibsp</th>\n",
              "      <th>parch</th>\n",
              "      <th>fare</th>\n",
              "      <th>sex_male</th>\n",
              "      <th>embarked_Q</th>\n",
              "      <th>embarked_S</th>\n",
              "      <th>alone_True</th>\n",
              "    </tr>\n",
              "  </thead>\n",
              "  <tbody>\n",
              "    <tr>\n",
              "      <th>0</th>\n",
              "      <td>0</td>\n",
              "      <td>3</td>\n",
              "      <td>22.0</td>\n",
              "      <td>1</td>\n",
              "      <td>0</td>\n",
              "      <td>7.2500</td>\n",
              "      <td>1</td>\n",
              "      <td>0</td>\n",
              "      <td>1</td>\n",
              "      <td>0</td>\n",
              "    </tr>\n",
              "    <tr>\n",
              "      <th>1</th>\n",
              "      <td>1</td>\n",
              "      <td>1</td>\n",
              "      <td>38.0</td>\n",
              "      <td>1</td>\n",
              "      <td>0</td>\n",
              "      <td>71.2833</td>\n",
              "      <td>0</td>\n",
              "      <td>0</td>\n",
              "      <td>0</td>\n",
              "      <td>0</td>\n",
              "    </tr>\n",
              "    <tr>\n",
              "      <th>2</th>\n",
              "      <td>1</td>\n",
              "      <td>3</td>\n",
              "      <td>26.0</td>\n",
              "      <td>0</td>\n",
              "      <td>0</td>\n",
              "      <td>7.9250</td>\n",
              "      <td>0</td>\n",
              "      <td>0</td>\n",
              "      <td>1</td>\n",
              "      <td>1</td>\n",
              "    </tr>\n",
              "    <tr>\n",
              "      <th>3</th>\n",
              "      <td>1</td>\n",
              "      <td>1</td>\n",
              "      <td>35.0</td>\n",
              "      <td>1</td>\n",
              "      <td>0</td>\n",
              "      <td>53.1000</td>\n",
              "      <td>0</td>\n",
              "      <td>0</td>\n",
              "      <td>1</td>\n",
              "      <td>0</td>\n",
              "    </tr>\n",
              "    <tr>\n",
              "      <th>4</th>\n",
              "      <td>0</td>\n",
              "      <td>3</td>\n",
              "      <td>35.0</td>\n",
              "      <td>0</td>\n",
              "      <td>0</td>\n",
              "      <td>8.0500</td>\n",
              "      <td>1</td>\n",
              "      <td>0</td>\n",
              "      <td>1</td>\n",
              "      <td>1</td>\n",
              "    </tr>\n",
              "  </tbody>\n",
              "</table>\n",
              "</div>\n",
              "      <button class=\"colab-df-convert\" onclick=\"convertToInteractive('df-18ccb1e9-d54c-43b5-9458-2c18aaf678a5')\"\n",
              "              title=\"Convert this dataframe to an interactive table.\"\n",
              "              style=\"display:none;\">\n",
              "        \n",
              "  <svg xmlns=\"http://www.w3.org/2000/svg\" height=\"24px\"viewBox=\"0 0 24 24\"\n",
              "       width=\"24px\">\n",
              "    <path d=\"M0 0h24v24H0V0z\" fill=\"none\"/>\n",
              "    <path d=\"M18.56 5.44l.94 2.06.94-2.06 2.06-.94-2.06-.94-.94-2.06-.94 2.06-2.06.94zm-11 1L8.5 8.5l.94-2.06 2.06-.94-2.06-.94L8.5 2.5l-.94 2.06-2.06.94zm10 10l.94 2.06.94-2.06 2.06-.94-2.06-.94-.94-2.06-.94 2.06-2.06.94z\"/><path d=\"M17.41 7.96l-1.37-1.37c-.4-.4-.92-.59-1.43-.59-.52 0-1.04.2-1.43.59L10.3 9.45l-7.72 7.72c-.78.78-.78 2.05 0 2.83L4 21.41c.39.39.9.59 1.41.59.51 0 1.02-.2 1.41-.59l7.78-7.78 2.81-2.81c.8-.78.8-2.07 0-2.86zM5.41 20L4 18.59l7.72-7.72 1.47 1.35L5.41 20z\"/>\n",
              "  </svg>\n",
              "      </button>\n",
              "      \n",
              "  <style>\n",
              "    .colab-df-container {\n",
              "      display:flex;\n",
              "      flex-wrap:wrap;\n",
              "      gap: 12px;\n",
              "    }\n",
              "\n",
              "    .colab-df-convert {\n",
              "      background-color: #E8F0FE;\n",
              "      border: none;\n",
              "      border-radius: 50%;\n",
              "      cursor: pointer;\n",
              "      display: none;\n",
              "      fill: #1967D2;\n",
              "      height: 32px;\n",
              "      padding: 0 0 0 0;\n",
              "      width: 32px;\n",
              "    }\n",
              "\n",
              "    .colab-df-convert:hover {\n",
              "      background-color: #E2EBFA;\n",
              "      box-shadow: 0px 1px 2px rgba(60, 64, 67, 0.3), 0px 1px 3px 1px rgba(60, 64, 67, 0.15);\n",
              "      fill: #174EA6;\n",
              "    }\n",
              "\n",
              "    [theme=dark] .colab-df-convert {\n",
              "      background-color: #3B4455;\n",
              "      fill: #D2E3FC;\n",
              "    }\n",
              "\n",
              "    [theme=dark] .colab-df-convert:hover {\n",
              "      background-color: #434B5C;\n",
              "      box-shadow: 0px 1px 3px 1px rgba(0, 0, 0, 0.15);\n",
              "      filter: drop-shadow(0px 1px 2px rgba(0, 0, 0, 0.3));\n",
              "      fill: #FFFFFF;\n",
              "    }\n",
              "  </style>\n",
              "\n",
              "      <script>\n",
              "        const buttonEl =\n",
              "          document.querySelector('#df-18ccb1e9-d54c-43b5-9458-2c18aaf678a5 button.colab-df-convert');\n",
              "        buttonEl.style.display =\n",
              "          google.colab.kernel.accessAllowed ? 'block' : 'none';\n",
              "\n",
              "        async function convertToInteractive(key) {\n",
              "          const element = document.querySelector('#df-18ccb1e9-d54c-43b5-9458-2c18aaf678a5');\n",
              "          const dataTable =\n",
              "            await google.colab.kernel.invokeFunction('convertToInteractive',\n",
              "                                                     [key], {});\n",
              "          if (!dataTable) return;\n",
              "\n",
              "          const docLinkHtml = 'Like what you see? Visit the ' +\n",
              "            '<a target=\"_blank\" href=https://colab.research.google.com/notebooks/data_table.ipynb>data table notebook</a>'\n",
              "            + ' to learn more about interactive tables.';\n",
              "          element.innerHTML = '';\n",
              "          dataTable['output_type'] = 'display_data';\n",
              "          await google.colab.output.renderOutput(dataTable, element);\n",
              "          const docLink = document.createElement('div');\n",
              "          docLink.innerHTML = docLinkHtml;\n",
              "          element.appendChild(docLink);\n",
              "        }\n",
              "      </script>\n",
              "    </div>\n",
              "  </div>\n",
              "  "
            ]
          },
          "metadata": {},
          "execution_count": 60
        }
      ]
    },
    {
      "cell_type": "markdown",
      "source": [
        "###3-2. 데이터 분리\n",
        "\n",
        "* 학습을 위해 X,y 분리 및 train / test 분할"
      ],
      "metadata": {
        "id": "LdRgZvdkKMAy"
      }
    },
    {
      "cell_type": "code",
      "source": [
        "y = df.loc[:, 'survived']\n",
        "y"
      ],
      "metadata": {
        "colab": {
          "base_uri": "https://localhost:8080/"
        },
        "id": "xaf9q0_HJ5mM",
        "outputId": "2cb1b8f6-3116-4293-837e-baa666b8df10"
      },
      "execution_count": null,
      "outputs": [
        {
          "output_type": "execute_result",
          "data": {
            "text/plain": [
              "0      0\n",
              "1      1\n",
              "2      1\n",
              "3      1\n",
              "4      0\n",
              "      ..\n",
              "650    1\n",
              "651    0\n",
              "652    1\n",
              "653    0\n",
              "654    1\n",
              "Name: survived, Length: 655, dtype: int64"
            ]
          },
          "metadata": {},
          "execution_count": 61
        }
      ]
    },
    {
      "cell_type": "code",
      "source": [
        "X = df.loc[:, 'pclass':]\n",
        "\n",
        "X"
      ],
      "metadata": {
        "colab": {
          "base_uri": "https://localhost:8080/",
          "height": 424
        },
        "id": "6cjsroWbKUQq",
        "outputId": "9ba8bae6-8805-4eba-c2b3-b5a79bbdc873"
      },
      "execution_count": null,
      "outputs": [
        {
          "output_type": "execute_result",
          "data": {
            "text/plain": [
              "     pclass   age  sibsp  parch     fare  sex_male  embarked_Q  embarked_S  \\\n",
              "0         3  22.0      1      0   7.2500         1           0           1   \n",
              "1         1  38.0      1      0  71.2833         0           0           0   \n",
              "2         3  26.0      0      0   7.9250         0           0           1   \n",
              "3         1  35.0      1      0  53.1000         0           0           1   \n",
              "4         3  35.0      0      0   8.0500         1           0           1   \n",
              "..      ...   ...    ...    ...      ...       ...         ...         ...   \n",
              "650       3  27.0      0      0   8.6625         1           0           1   \n",
              "651       1  38.0      0      0   0.0000         1           0           1   \n",
              "652       3  27.0      0      1  12.4750         0           0           1   \n",
              "653       3   2.0      4      1  39.6875         1           0           1   \n",
              "654       2   1.0      0      2  37.0042         1           0           0   \n",
              "\n",
              "     alone_True  \n",
              "0             0  \n",
              "1             0  \n",
              "2             1  \n",
              "3             0  \n",
              "4             1  \n",
              "..          ...  \n",
              "650           1  \n",
              "651           1  \n",
              "652           0  \n",
              "653           0  \n",
              "654           0  \n",
              "\n",
              "[655 rows x 9 columns]"
            ],
            "text/html": [
              "\n",
              "  <div id=\"df-57ca2151-06e1-4907-959d-6d2d417d81b0\">\n",
              "    <div class=\"colab-df-container\">\n",
              "      <div>\n",
              "<style scoped>\n",
              "    .dataframe tbody tr th:only-of-type {\n",
              "        vertical-align: middle;\n",
              "    }\n",
              "\n",
              "    .dataframe tbody tr th {\n",
              "        vertical-align: top;\n",
              "    }\n",
              "\n",
              "    .dataframe thead th {\n",
              "        text-align: right;\n",
              "    }\n",
              "</style>\n",
              "<table border=\"1\" class=\"dataframe\">\n",
              "  <thead>\n",
              "    <tr style=\"text-align: right;\">\n",
              "      <th></th>\n",
              "      <th>pclass</th>\n",
              "      <th>age</th>\n",
              "      <th>sibsp</th>\n",
              "      <th>parch</th>\n",
              "      <th>fare</th>\n",
              "      <th>sex_male</th>\n",
              "      <th>embarked_Q</th>\n",
              "      <th>embarked_S</th>\n",
              "      <th>alone_True</th>\n",
              "    </tr>\n",
              "  </thead>\n",
              "  <tbody>\n",
              "    <tr>\n",
              "      <th>0</th>\n",
              "      <td>3</td>\n",
              "      <td>22.0</td>\n",
              "      <td>1</td>\n",
              "      <td>0</td>\n",
              "      <td>7.2500</td>\n",
              "      <td>1</td>\n",
              "      <td>0</td>\n",
              "      <td>1</td>\n",
              "      <td>0</td>\n",
              "    </tr>\n",
              "    <tr>\n",
              "      <th>1</th>\n",
              "      <td>1</td>\n",
              "      <td>38.0</td>\n",
              "      <td>1</td>\n",
              "      <td>0</td>\n",
              "      <td>71.2833</td>\n",
              "      <td>0</td>\n",
              "      <td>0</td>\n",
              "      <td>0</td>\n",
              "      <td>0</td>\n",
              "    </tr>\n",
              "    <tr>\n",
              "      <th>2</th>\n",
              "      <td>3</td>\n",
              "      <td>26.0</td>\n",
              "      <td>0</td>\n",
              "      <td>0</td>\n",
              "      <td>7.9250</td>\n",
              "      <td>0</td>\n",
              "      <td>0</td>\n",
              "      <td>1</td>\n",
              "      <td>1</td>\n",
              "    </tr>\n",
              "    <tr>\n",
              "      <th>3</th>\n",
              "      <td>1</td>\n",
              "      <td>35.0</td>\n",
              "      <td>1</td>\n",
              "      <td>0</td>\n",
              "      <td>53.1000</td>\n",
              "      <td>0</td>\n",
              "      <td>0</td>\n",
              "      <td>1</td>\n",
              "      <td>0</td>\n",
              "    </tr>\n",
              "    <tr>\n",
              "      <th>4</th>\n",
              "      <td>3</td>\n",
              "      <td>35.0</td>\n",
              "      <td>0</td>\n",
              "      <td>0</td>\n",
              "      <td>8.0500</td>\n",
              "      <td>1</td>\n",
              "      <td>0</td>\n",
              "      <td>1</td>\n",
              "      <td>1</td>\n",
              "    </tr>\n",
              "    <tr>\n",
              "      <th>...</th>\n",
              "      <td>...</td>\n",
              "      <td>...</td>\n",
              "      <td>...</td>\n",
              "      <td>...</td>\n",
              "      <td>...</td>\n",
              "      <td>...</td>\n",
              "      <td>...</td>\n",
              "      <td>...</td>\n",
              "      <td>...</td>\n",
              "    </tr>\n",
              "    <tr>\n",
              "      <th>650</th>\n",
              "      <td>3</td>\n",
              "      <td>27.0</td>\n",
              "      <td>0</td>\n",
              "      <td>0</td>\n",
              "      <td>8.6625</td>\n",
              "      <td>1</td>\n",
              "      <td>0</td>\n",
              "      <td>1</td>\n",
              "      <td>1</td>\n",
              "    </tr>\n",
              "    <tr>\n",
              "      <th>651</th>\n",
              "      <td>1</td>\n",
              "      <td>38.0</td>\n",
              "      <td>0</td>\n",
              "      <td>0</td>\n",
              "      <td>0.0000</td>\n",
              "      <td>1</td>\n",
              "      <td>0</td>\n",
              "      <td>1</td>\n",
              "      <td>1</td>\n",
              "    </tr>\n",
              "    <tr>\n",
              "      <th>652</th>\n",
              "      <td>3</td>\n",
              "      <td>27.0</td>\n",
              "      <td>0</td>\n",
              "      <td>1</td>\n",
              "      <td>12.4750</td>\n",
              "      <td>0</td>\n",
              "      <td>0</td>\n",
              "      <td>1</td>\n",
              "      <td>0</td>\n",
              "    </tr>\n",
              "    <tr>\n",
              "      <th>653</th>\n",
              "      <td>3</td>\n",
              "      <td>2.0</td>\n",
              "      <td>4</td>\n",
              "      <td>1</td>\n",
              "      <td>39.6875</td>\n",
              "      <td>1</td>\n",
              "      <td>0</td>\n",
              "      <td>1</td>\n",
              "      <td>0</td>\n",
              "    </tr>\n",
              "    <tr>\n",
              "      <th>654</th>\n",
              "      <td>2</td>\n",
              "      <td>1.0</td>\n",
              "      <td>0</td>\n",
              "      <td>2</td>\n",
              "      <td>37.0042</td>\n",
              "      <td>1</td>\n",
              "      <td>0</td>\n",
              "      <td>0</td>\n",
              "      <td>0</td>\n",
              "    </tr>\n",
              "  </tbody>\n",
              "</table>\n",
              "<p>655 rows × 9 columns</p>\n",
              "</div>\n",
              "      <button class=\"colab-df-convert\" onclick=\"convertToInteractive('df-57ca2151-06e1-4907-959d-6d2d417d81b0')\"\n",
              "              title=\"Convert this dataframe to an interactive table.\"\n",
              "              style=\"display:none;\">\n",
              "        \n",
              "  <svg xmlns=\"http://www.w3.org/2000/svg\" height=\"24px\"viewBox=\"0 0 24 24\"\n",
              "       width=\"24px\">\n",
              "    <path d=\"M0 0h24v24H0V0z\" fill=\"none\"/>\n",
              "    <path d=\"M18.56 5.44l.94 2.06.94-2.06 2.06-.94-2.06-.94-.94-2.06-.94 2.06-2.06.94zm-11 1L8.5 8.5l.94-2.06 2.06-.94-2.06-.94L8.5 2.5l-.94 2.06-2.06.94zm10 10l.94 2.06.94-2.06 2.06-.94-2.06-.94-.94-2.06-.94 2.06-2.06.94z\"/><path d=\"M17.41 7.96l-1.37-1.37c-.4-.4-.92-.59-1.43-.59-.52 0-1.04.2-1.43.59L10.3 9.45l-7.72 7.72c-.78.78-.78 2.05 0 2.83L4 21.41c.39.39.9.59 1.41.59.51 0 1.02-.2 1.41-.59l7.78-7.78 2.81-2.81c.8-.78.8-2.07 0-2.86zM5.41 20L4 18.59l7.72-7.72 1.47 1.35L5.41 20z\"/>\n",
              "  </svg>\n",
              "      </button>\n",
              "      \n",
              "  <style>\n",
              "    .colab-df-container {\n",
              "      display:flex;\n",
              "      flex-wrap:wrap;\n",
              "      gap: 12px;\n",
              "    }\n",
              "\n",
              "    .colab-df-convert {\n",
              "      background-color: #E8F0FE;\n",
              "      border: none;\n",
              "      border-radius: 50%;\n",
              "      cursor: pointer;\n",
              "      display: none;\n",
              "      fill: #1967D2;\n",
              "      height: 32px;\n",
              "      padding: 0 0 0 0;\n",
              "      width: 32px;\n",
              "    }\n",
              "\n",
              "    .colab-df-convert:hover {\n",
              "      background-color: #E2EBFA;\n",
              "      box-shadow: 0px 1px 2px rgba(60, 64, 67, 0.3), 0px 1px 3px 1px rgba(60, 64, 67, 0.15);\n",
              "      fill: #174EA6;\n",
              "    }\n",
              "\n",
              "    [theme=dark] .colab-df-convert {\n",
              "      background-color: #3B4455;\n",
              "      fill: #D2E3FC;\n",
              "    }\n",
              "\n",
              "    [theme=dark] .colab-df-convert:hover {\n",
              "      background-color: #434B5C;\n",
              "      box-shadow: 0px 1px 3px 1px rgba(0, 0, 0, 0.15);\n",
              "      filter: drop-shadow(0px 1px 2px rgba(0, 0, 0, 0.3));\n",
              "      fill: #FFFFFF;\n",
              "    }\n",
              "  </style>\n",
              "\n",
              "      <script>\n",
              "        const buttonEl =\n",
              "          document.querySelector('#df-57ca2151-06e1-4907-959d-6d2d417d81b0 button.colab-df-convert');\n",
              "        buttonEl.style.display =\n",
              "          google.colab.kernel.accessAllowed ? 'block' : 'none';\n",
              "\n",
              "        async function convertToInteractive(key) {\n",
              "          const element = document.querySelector('#df-57ca2151-06e1-4907-959d-6d2d417d81b0');\n",
              "          const dataTable =\n",
              "            await google.colab.kernel.invokeFunction('convertToInteractive',\n",
              "                                                     [key], {});\n",
              "          if (!dataTable) return;\n",
              "\n",
              "          const docLinkHtml = 'Like what you see? Visit the ' +\n",
              "            '<a target=\"_blank\" href=https://colab.research.google.com/notebooks/data_table.ipynb>data table notebook</a>'\n",
              "            + ' to learn more about interactive tables.';\n",
              "          element.innerHTML = '';\n",
              "          dataTable['output_type'] = 'display_data';\n",
              "          await google.colab.output.renderOutput(dataTable, element);\n",
              "          const docLink = document.createElement('div');\n",
              "          docLink.innerHTML = docLinkHtml;\n",
              "          element.appendChild(docLink);\n",
              "        }\n",
              "      </script>\n",
              "    </div>\n",
              "  </div>\n",
              "  "
            ]
          },
          "metadata": {},
          "execution_count": 62
        }
      ]
    },
    {
      "cell_type": "code",
      "source": [
        "from sklearn.model_selection import train_test_split\n",
        "\n",
        "X_train, X_test, y_train, y_test = train_test_split(X,y, test_size = 0.3, random_state = 2022)\n",
        "\n"
      ],
      "metadata": {
        "id": "8IglCxWmKZNE"
      },
      "execution_count": null,
      "outputs": []
    },
    {
      "cell_type": "code",
      "source": [
        "X_train, y_train"
      ],
      "metadata": {
        "colab": {
          "base_uri": "https://localhost:8080/"
        },
        "id": "y8j07JYjKxlH",
        "outputId": "8a71b36f-0ebd-4bd2-fdc2-c4cd8e79debb"
      },
      "execution_count": null,
      "outputs": [
        {
          "output_type": "execute_result",
          "data": {
            "text/plain": [
              "(     pclass   age  sibsp  parch      fare  sex_male  embarked_Q  embarked_S  \\\n",
              " 534       3  20.0      0      0    9.2250         1           0           1   \n",
              " 462       3  22.0      0      0    8.0500         1           0           1   \n",
              " 222       3  35.0      1      1   20.2500         0           0           1   \n",
              " 198       1  37.0      1      1   52.5542         1           0           1   \n",
              " 433       1  17.0      0      2  110.8833         1           0           0   \n",
              " ..      ...   ...    ...    ...       ...       ...         ...         ...   \n",
              " 18        2  34.0      0      0   13.0000         1           0           1   \n",
              " 240       3  19.0      0      0    0.0000         1           0           1   \n",
              " 624       2  16.0      0      0   26.0000         1           0           1   \n",
              " 173       1  32.0      0      0   76.2917         0           0           0   \n",
              " 220       3  45.0      0      0    7.7500         0           0           1   \n",
              " \n",
              "      alone_True  \n",
              " 534           1  \n",
              " 462           1  \n",
              " 222           0  \n",
              " 198           0  \n",
              " 433           0  \n",
              " ..          ...  \n",
              " 18            1  \n",
              " 240           1  \n",
              " 624           1  \n",
              " 173           1  \n",
              " 220           1  \n",
              " \n",
              " [458 rows x 9 columns], 534    0\n",
              " 462    0\n",
              " 222    1\n",
              " 198    1\n",
              " 433    1\n",
              "       ..\n",
              " 18     1\n",
              " 240    0\n",
              " 624    0\n",
              " 173    1\n",
              " 220    0\n",
              " Name: survived, Length: 458, dtype: int64)"
            ]
          },
          "metadata": {},
          "execution_count": 64
        }
      ]
    },
    {
      "cell_type": "markdown",
      "source": [
        "##4. 모델링"
      ],
      "metadata": {
        "id": "-10uUfpCKb3k"
      }
    },
    {
      "cell_type": "code",
      "source": [
        "#어떠한 확률 분포에서 우도를 뽑아내는 가에 따라 여러가지 Naiv Bayes 종류\n",
        "#정규분포에서 가장 흔하게 사용 \n",
        "from sklearn.naive_bayes import GaussianNB\n",
        "\n",
        "model = GaussianNB()\n",
        "\n",
        "model.fit(X_train, y_train)"
      ],
      "metadata": {
        "colab": {
          "base_uri": "https://localhost:8080/"
        },
        "id": "OS79f_oHKbIK",
        "outputId": "c2f9ef3a-cc31-4941-952b-5be250d4b9a2"
      },
      "execution_count": null,
      "outputs": [
        {
          "output_type": "execute_result",
          "data": {
            "text/plain": [
              "GaussianNB()"
            ]
          },
          "metadata": {},
          "execution_count": 66
        }
      ]
    },
    {
      "cell_type": "code",
      "source": [
        "pred_train = model.predict(X_train)\n",
        "\n",
        "pred_train"
      ],
      "metadata": {
        "colab": {
          "base_uri": "https://localhost:8080/"
        },
        "id": "0tOJWwYmKlVO",
        "outputId": "1c96f58f-0b3a-464f-99a7-d9d3ecf05383"
      },
      "execution_count": null,
      "outputs": [
        {
          "output_type": "execute_result",
          "data": {
            "text/plain": [
              "array([0, 0, 1, 0, 1, 0, 0, 0, 0, 1, 0, 0, 1, 1, 0, 0, 1, 0, 1, 1, 0, 0,\n",
              "       0, 0, 0, 1, 1, 0, 0, 1, 1, 1, 1, 0, 1, 0, 0, 0, 0, 1, 1, 1, 0, 0,\n",
              "       0, 0, 1, 0, 1, 0, 0, 0, 0, 1, 0, 1, 0, 0, 1, 0, 0, 1, 0, 0, 0, 0,\n",
              "       0, 0, 1, 0, 0, 0, 0, 0, 0, 1, 1, 1, 0, 1, 0, 0, 0, 0, 0, 0, 0, 0,\n",
              "       0, 1, 1, 1, 0, 0, 0, 1, 1, 0, 1, 0, 1, 1, 1, 0, 0, 0, 0, 0, 0, 1,\n",
              "       0, 0, 0, 0, 0, 1, 1, 1, 0, 0, 0, 0, 0, 1, 0, 1, 0, 0, 0, 0, 1, 0,\n",
              "       0, 0, 0, 0, 0, 1, 0, 0, 0, 0, 0, 0, 1, 0, 0, 0, 1, 0, 1, 1, 1, 1,\n",
              "       0, 1, 0, 0, 0, 1, 1, 0, 0, 0, 0, 1, 0, 0, 1, 0, 1, 0, 0, 1, 1, 0,\n",
              "       0, 0, 0, 1, 0, 0, 0, 0, 0, 0, 1, 0, 1, 1, 0, 0, 0, 1, 1, 1, 1, 0,\n",
              "       0, 0, 1, 0, 0, 0, 0, 0, 1, 0, 0, 1, 1, 0, 1, 0, 1, 0, 1, 1, 1, 1,\n",
              "       1, 0, 0, 1, 0, 0, 0, 1, 1, 1, 1, 0, 1, 1, 0, 0, 1, 0, 0, 0, 1, 1,\n",
              "       0, 0, 1, 1, 0, 0, 0, 0, 1, 1, 0, 0, 0, 1, 0, 1, 0, 1, 1, 0, 0, 0,\n",
              "       0, 1, 0, 1, 0, 0, 0, 0, 1, 1, 0, 0, 0, 0, 1, 1, 0, 0, 0, 0, 0, 0,\n",
              "       0, 0, 1, 0, 0, 1, 1, 1, 0, 0, 1, 1, 1, 1, 0, 1, 0, 0, 0, 0, 1, 1,\n",
              "       1, 1, 0, 0, 0, 0, 0, 1, 0, 0, 0, 0, 1, 1, 0, 0, 1, 0, 0, 0, 1, 1,\n",
              "       0, 0, 0, 0, 0, 1, 0, 0, 0, 0, 0, 0, 1, 0, 1, 0, 1, 1, 0, 1, 0, 0,\n",
              "       0, 0, 0, 0, 0, 0, 0, 0, 0, 1, 0, 1, 0, 0, 1, 0, 0, 1, 0, 0, 0, 0,\n",
              "       0, 0, 1, 0, 0, 0, 0, 1, 0, 1, 0, 0, 0, 0, 0, 1, 0, 1, 1, 0, 1, 0,\n",
              "       0, 0, 0, 0, 1, 0, 0, 1, 1, 1, 1, 0, 0, 0, 1, 0, 0, 1, 0, 1, 0, 1,\n",
              "       1, 1, 0, 0, 1, 0, 1, 1, 0, 1, 0, 0, 0, 1, 1, 1, 0, 1, 0, 0, 0, 0,\n",
              "       0, 0, 0, 0, 1, 1, 1, 0, 0, 0, 1, 0, 0, 0, 0, 0, 1, 0])"
            ]
          },
          "metadata": {},
          "execution_count": 67
        }
      ]
    },
    {
      "cell_type": "markdown",
      "source": [
        "##5. 모델 평가"
      ],
      "metadata": {
        "id": "mjcUzVmyKwu_"
      }
    },
    {
      "cell_type": "code",
      "source": [
        "from sklearn.metrics import confusion_matrix\n",
        "\n",
        "m = confusion_matrix(y_train, pred_train)\n",
        "m"
      ],
      "metadata": {
        "colab": {
          "base_uri": "https://localhost:8080/"
        },
        "id": "LQhe0i1MKnSO",
        "outputId": "53443489-5413-48e8-9330-7c8c139253bd"
      },
      "execution_count": null,
      "outputs": [
        {
          "output_type": "execute_result",
          "data": {
            "text/plain": [
              "array([[239,  41],\n",
              "       [ 56, 122]])"
            ]
          },
          "metadata": {},
          "execution_count": 68
        }
      ]
    },
    {
      "cell_type": "code",
      "source": [
        "np.sum(np.diag(m))/len(X_train)"
      ],
      "metadata": {
        "colab": {
          "base_uri": "https://localhost:8080/"
        },
        "id": "8D7tshFcKqJ-",
        "outputId": "ad2b0741-49df-405a-af17-923362432e9c"
      },
      "execution_count": null,
      "outputs": [
        {
          "output_type": "execute_result",
          "data": {
            "text/plain": [
              "0.7882096069868996"
            ]
          },
          "metadata": {},
          "execution_count": 69
        }
      ]
    },
    {
      "cell_type": "code",
      "source": [
        "pred_test = model.predict(X_test)\n",
        "\n",
        "m = confusion_matrix(y_test, pred_test)\n",
        "\n",
        "np.sum(np.diag(m))/len(X_test)"
      ],
      "metadata": {
        "colab": {
          "base_uri": "https://localhost:8080/"
        },
        "id": "GabWlFZqKsHH",
        "outputId": "6bdb002f-3f57-4f45-8d41-d7bdf5bb356e"
      },
      "execution_count": null,
      "outputs": [
        {
          "output_type": "execute_result",
          "data": {
            "text/plain": [
              "0.7817258883248731"
            ]
          },
          "metadata": {},
          "execution_count": 71
        }
      ]
    }
  ]
}