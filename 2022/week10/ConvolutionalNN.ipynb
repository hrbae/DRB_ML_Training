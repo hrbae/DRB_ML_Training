{
  "nbformat": 4,
  "nbformat_minor": 0,
  "metadata": {
    "colab": {
      "provenance": [],
      "authorship_tag": "ABX9TyPq/kaSDy0G7Er7f0ZAZhFC",
      "include_colab_link": true
    },
    "kernelspec": {
      "name": "python3",
      "display_name": "Python 3"
    },
    "language_info": {
      "name": "python"
    },
    "accelerator": "GPU",
    "gpuClass": "standard"
  },
  "cells": [
    {
      "cell_type": "markdown",
      "metadata": {
        "id": "view-in-github",
        "colab_type": "text"
      },
      "source": [
        "<a href=\"https://colab.research.google.com/github/hrbae/DRB_ML_Training/blob/main/2022/week10/ConvolutionalNN.ipynb\" target=\"_parent\"><img src=\"https://colab.research.google.com/assets/colab-badge.svg\" alt=\"Open In Colab\"/></a>"
      ]
    },
    {
      "cell_type": "code",
      "execution_count": 1,
      "metadata": {
        "id": "vGeseMkIKcgY"
      },
      "outputs": [],
      "source": [
        "import tensorflow as tf\n",
        "from tensorflow import keras\n",
        "from keras import layers\n",
        "\n",
        "import numpy as np\n",
        "import matplotlib.pyplot as plt"
      ]
    },
    {
      "cell_type": "code",
      "source": [
        "fashion_mnist = keras.datasets.fashion_mnist\n",
        "(X_train,y_train),(X_test,y_test) = fashion_mnist.load_data()"
      ],
      "metadata": {
        "colab": {
          "base_uri": "https://localhost:8080/"
        },
        "id": "rnDm9bgAKuYY",
        "outputId": "70b2eae2-6cb8-4e9e-f3ae-9c7afec74774"
      },
      "execution_count": 2,
      "outputs": [
        {
          "output_type": "stream",
          "name": "stdout",
          "text": [
            "Downloading data from https://storage.googleapis.com/tensorflow/tf-keras-datasets/train-labels-idx1-ubyte.gz\n",
            "29515/29515 [==============================] - 0s 0us/step\n",
            "Downloading data from https://storage.googleapis.com/tensorflow/tf-keras-datasets/train-images-idx3-ubyte.gz\n",
            "26421880/26421880 [==============================] - 1s 0us/step\n",
            "Downloading data from https://storage.googleapis.com/tensorflow/tf-keras-datasets/t10k-labels-idx1-ubyte.gz\n",
            "5148/5148 [==============================] - 0s 0us/step\n",
            "Downloading data from https://storage.googleapis.com/tensorflow/tf-keras-datasets/t10k-images-idx3-ubyte.gz\n",
            "4422102/4422102 [==============================] - 0s 0us/step\n"
          ]
        }
      ]
    },
    {
      "cell_type": "code",
      "source": [
        "# 이미지 데이터의 차원 바꾸기\n",
        "print(X_train.shape)\n",
        "print(y_train.shape)"
      ],
      "metadata": {
        "colab": {
          "base_uri": "https://localhost:8080/"
        },
        "id": "zoggXbC4K-RE",
        "outputId": "3b0cb788-ed2b-4dde-9bff-f570bfe8363d"
      },
      "execution_count": 3,
      "outputs": [
        {
          "output_type": "stream",
          "name": "stdout",
          "text": [
            "(60000, 28, 28)\n",
            "(60000,)\n"
          ]
        }
      ]
    },
    {
      "cell_type": "code",
      "source": [
        "# 데이터의 차원 바꾸기 (채널 차원 하나 더 추가)\n",
        "# 이미지 한장 (가로 28, 세로 28, 채널 1)\n",
        "X_train = X_train.reshape(-1,28,28,1)\n",
        "X_test = X_test.reshape(-1,28,28,1)"
      ],
      "metadata": {
        "id": "Q6sv-6ZkLbmg"
      },
      "execution_count": 4,
      "outputs": []
    },
    {
      "cell_type": "code",
      "source": [
        "# 이미지 데이터 표준화 (0~1사이)\n",
        "X_train = X_train/255.0\n",
        "X_test = X_test/255.0"
      ],
      "metadata": {
        "id": "j-VnYtFQMTkL"
      },
      "execution_count": 5,
      "outputs": []
    },
    {
      "cell_type": "code",
      "source": [
        "# 콘볼루션 뉴럴 네트워크 구성\n",
        "model = keras.Sequential([\n",
        "    keras.Input(shape=(28,28,1)),#입력 데이터 차원 명시\n",
        "    layers.Conv2D(32,kernel_size=(3,3),activation='relu'),\n",
        "    layers.MaxPooling2D(pool_size=(2,2)),\n",
        "    layers.Conv2D(64,kernel_size=(3,3),activation='relu'),\n",
        "    layers.MaxPooling2D(pool_size=(2,2)),\n",
        "    layers.Flatten(),\n",
        "    layers.Dropout(0.5),\n",
        "    layers.Dense(10,activation='softmax')\n",
        "])\n",
        "\n",
        "model.summary()"
      ],
      "metadata": {
        "colab": {
          "base_uri": "https://localhost:8080/"
        },
        "id": "G7yLkFHiMpRG",
        "outputId": "cfd2bb07-889e-4307-c81b-18caa577cb63"
      },
      "execution_count": 6,
      "outputs": [
        {
          "output_type": "stream",
          "name": "stdout",
          "text": [
            "Model: \"sequential\"\n",
            "_________________________________________________________________\n",
            " Layer (type)                Output Shape              Param #   \n",
            "=================================================================\n",
            " conv2d (Conv2D)             (None, 26, 26, 32)        320       \n",
            "                                                                 \n",
            " max_pooling2d (MaxPooling2D  (None, 13, 13, 32)       0         \n",
            " )                                                               \n",
            "                                                                 \n",
            " conv2d_1 (Conv2D)           (None, 11, 11, 64)        18496     \n",
            "                                                                 \n",
            " max_pooling2d_1 (MaxPooling  (None, 5, 5, 64)         0         \n",
            " 2D)                                                             \n",
            "                                                                 \n",
            " flatten (Flatten)           (None, 1600)              0         \n",
            "                                                                 \n",
            " dropout (Dropout)           (None, 1600)              0         \n",
            "                                                                 \n",
            " dense (Dense)               (None, 10)                16010     \n",
            "                                                                 \n",
            "=================================================================\n",
            "Total params: 34,826\n",
            "Trainable params: 34,826\n",
            "Non-trainable params: 0\n",
            "_________________________________________________________________\n"
          ]
        }
      ]
    },
    {
      "cell_type": "code",
      "source": [
        "model.compile(loss='sparse_categorical_crossentropy',\n",
        "              optimizer='adam',\n",
        "              metrics=['accuracy'])"
      ],
      "metadata": {
        "id": "P-RuT__vSqEm"
      },
      "execution_count": 7,
      "outputs": []
    },
    {
      "cell_type": "code",
      "source": [
        "model.fit(X_train, y_train,\n",
        "          validation_data=(X_test,y_test),\n",
        "          batch_size=64,\n",
        "          epochs=100)"
      ],
      "metadata": {
        "colab": {
          "base_uri": "https://localhost:8080/"
        },
        "id": "2Eia2SkzS2RA",
        "outputId": "b3e85210-ed63-440e-b4d8-62b1ccd824de"
      },
      "execution_count": 8,
      "outputs": [
        {
          "output_type": "stream",
          "name": "stdout",
          "text": [
            "Epoch 1/100\n",
            "938/938 [==============================] - 12s 5ms/step - loss: 0.5910 - accuracy: 0.7884 - val_loss: 0.4204 - val_accuracy: 0.8507\n",
            "Epoch 2/100\n",
            "938/938 [==============================] - 4s 4ms/step - loss: 0.4064 - accuracy: 0.8547 - val_loss: 0.3635 - val_accuracy: 0.8704\n",
            "Epoch 3/100\n",
            "938/938 [==============================] - 4s 4ms/step - loss: 0.3652 - accuracy: 0.8676 - val_loss: 0.3365 - val_accuracy: 0.8817\n",
            "Epoch 4/100\n",
            "938/938 [==============================] - 4s 4ms/step - loss: 0.3396 - accuracy: 0.8779 - val_loss: 0.3189 - val_accuracy: 0.8860\n",
            "Epoch 5/100\n",
            "938/938 [==============================] - 4s 4ms/step - loss: 0.3205 - accuracy: 0.8845 - val_loss: 0.3045 - val_accuracy: 0.8907\n",
            "Epoch 6/100\n",
            "938/938 [==============================] - 4s 5ms/step - loss: 0.3085 - accuracy: 0.8882 - val_loss: 0.2930 - val_accuracy: 0.8929\n",
            "Epoch 7/100\n",
            "938/938 [==============================] - 4s 4ms/step - loss: 0.2960 - accuracy: 0.8925 - val_loss: 0.2874 - val_accuracy: 0.8976\n",
            "Epoch 8/100\n",
            "938/938 [==============================] - 4s 4ms/step - loss: 0.2877 - accuracy: 0.8960 - val_loss: 0.2803 - val_accuracy: 0.8963\n",
            "Epoch 9/100\n",
            "938/938 [==============================] - 4s 4ms/step - loss: 0.2787 - accuracy: 0.8982 - val_loss: 0.2752 - val_accuracy: 0.9006\n",
            "Epoch 10/100\n",
            "938/938 [==============================] - 4s 4ms/step - loss: 0.2739 - accuracy: 0.9010 - val_loss: 0.2675 - val_accuracy: 0.9036\n",
            "Epoch 11/100\n",
            "938/938 [==============================] - 4s 4ms/step - loss: 0.2679 - accuracy: 0.9016 - val_loss: 0.2621 - val_accuracy: 0.9045\n",
            "Epoch 12/100\n",
            "938/938 [==============================] - 4s 4ms/step - loss: 0.2630 - accuracy: 0.9031 - val_loss: 0.2653 - val_accuracy: 0.9039\n",
            "Epoch 13/100\n",
            "938/938 [==============================] - 4s 5ms/step - loss: 0.2600 - accuracy: 0.9044 - val_loss: 0.2639 - val_accuracy: 0.9040\n",
            "Epoch 14/100\n",
            "938/938 [==============================] - 4s 4ms/step - loss: 0.2549 - accuracy: 0.9068 - val_loss: 0.2661 - val_accuracy: 0.9020\n",
            "Epoch 15/100\n",
            "938/938 [==============================] - 4s 4ms/step - loss: 0.2524 - accuracy: 0.9069 - val_loss: 0.2539 - val_accuracy: 0.9087\n",
            "Epoch 16/100\n",
            "938/938 [==============================] - 4s 4ms/step - loss: 0.2469 - accuracy: 0.9093 - val_loss: 0.2528 - val_accuracy: 0.9093\n",
            "Epoch 17/100\n",
            "938/938 [==============================] - 4s 4ms/step - loss: 0.2455 - accuracy: 0.9110 - val_loss: 0.2535 - val_accuracy: 0.9080\n",
            "Epoch 18/100\n",
            "938/938 [==============================] - 4s 4ms/step - loss: 0.2399 - accuracy: 0.9109 - val_loss: 0.2628 - val_accuracy: 0.9056\n",
            "Epoch 19/100\n",
            "938/938 [==============================] - 5s 5ms/step - loss: 0.2379 - accuracy: 0.9116 - val_loss: 0.2532 - val_accuracy: 0.9049\n",
            "Epoch 20/100\n",
            "938/938 [==============================] - 4s 4ms/step - loss: 0.2350 - accuracy: 0.9132 - val_loss: 0.2476 - val_accuracy: 0.9109\n",
            "Epoch 21/100\n",
            "938/938 [==============================] - 4s 4ms/step - loss: 0.2316 - accuracy: 0.9146 - val_loss: 0.2488 - val_accuracy: 0.9111\n",
            "Epoch 22/100\n",
            "938/938 [==============================] - 4s 4ms/step - loss: 0.2314 - accuracy: 0.9136 - val_loss: 0.2493 - val_accuracy: 0.9119\n",
            "Epoch 23/100\n",
            "938/938 [==============================] - 4s 4ms/step - loss: 0.2272 - accuracy: 0.9161 - val_loss: 0.2476 - val_accuracy: 0.9108\n",
            "Epoch 24/100\n",
            "938/938 [==============================] - 4s 5ms/step - loss: 0.2253 - accuracy: 0.9165 - val_loss: 0.2438 - val_accuracy: 0.9117\n",
            "Epoch 25/100\n",
            "938/938 [==============================] - 4s 4ms/step - loss: 0.2238 - accuracy: 0.9172 - val_loss: 0.2425 - val_accuracy: 0.9128\n",
            "Epoch 26/100\n",
            "938/938 [==============================] - 4s 4ms/step - loss: 0.2199 - accuracy: 0.9190 - val_loss: 0.2418 - val_accuracy: 0.9119\n",
            "Epoch 27/100\n",
            "938/938 [==============================] - 4s 4ms/step - loss: 0.2217 - accuracy: 0.9184 - val_loss: 0.2493 - val_accuracy: 0.9090\n",
            "Epoch 28/100\n",
            "938/938 [==============================] - 4s 4ms/step - loss: 0.2174 - accuracy: 0.9206 - val_loss: 0.2467 - val_accuracy: 0.9084\n",
            "Epoch 29/100\n",
            "938/938 [==============================] - 4s 4ms/step - loss: 0.2172 - accuracy: 0.9199 - val_loss: 0.2478 - val_accuracy: 0.9083\n",
            "Epoch 30/100\n",
            "938/938 [==============================] - 4s 4ms/step - loss: 0.2150 - accuracy: 0.9199 - val_loss: 0.2482 - val_accuracy: 0.9116\n",
            "Epoch 31/100\n",
            "938/938 [==============================] - 4s 4ms/step - loss: 0.2128 - accuracy: 0.9217 - val_loss: 0.2483 - val_accuracy: 0.9114\n",
            "Epoch 32/100\n",
            "938/938 [==============================] - 4s 4ms/step - loss: 0.2086 - accuracy: 0.9232 - val_loss: 0.2395 - val_accuracy: 0.9136\n",
            "Epoch 33/100\n",
            "938/938 [==============================] - 4s 4ms/step - loss: 0.2096 - accuracy: 0.9227 - val_loss: 0.2433 - val_accuracy: 0.9126\n",
            "Epoch 34/100\n",
            "938/938 [==============================] - 4s 4ms/step - loss: 0.2096 - accuracy: 0.9233 - val_loss: 0.2435 - val_accuracy: 0.9142\n",
            "Epoch 35/100\n",
            "938/938 [==============================] - 4s 4ms/step - loss: 0.2058 - accuracy: 0.9226 - val_loss: 0.2533 - val_accuracy: 0.9099\n",
            "Epoch 36/100\n",
            "938/938 [==============================] - 4s 4ms/step - loss: 0.2059 - accuracy: 0.9234 - val_loss: 0.2573 - val_accuracy: 0.9092\n",
            "Epoch 37/100\n",
            "938/938 [==============================] - 4s 4ms/step - loss: 0.2059 - accuracy: 0.9231 - val_loss: 0.2401 - val_accuracy: 0.9134\n",
            "Epoch 38/100\n",
            "938/938 [==============================] - 5s 5ms/step - loss: 0.2036 - accuracy: 0.9244 - val_loss: 0.2489 - val_accuracy: 0.9115\n",
            "Epoch 39/100\n",
            "938/938 [==============================] - 4s 4ms/step - loss: 0.2015 - accuracy: 0.9258 - val_loss: 0.2415 - val_accuracy: 0.9147\n",
            "Epoch 40/100\n",
            "938/938 [==============================] - 4s 4ms/step - loss: 0.1971 - accuracy: 0.9275 - val_loss: 0.2462 - val_accuracy: 0.9113\n",
            "Epoch 41/100\n",
            "938/938 [==============================] - 4s 4ms/step - loss: 0.2014 - accuracy: 0.9261 - val_loss: 0.2365 - val_accuracy: 0.9143\n",
            "Epoch 42/100\n",
            "938/938 [==============================] - 4s 5ms/step - loss: 0.2000 - accuracy: 0.9262 - val_loss: 0.2458 - val_accuracy: 0.9119\n",
            "Epoch 43/100\n",
            "938/938 [==============================] - 5s 5ms/step - loss: 0.1951 - accuracy: 0.9274 - val_loss: 0.2437 - val_accuracy: 0.9141\n",
            "Epoch 44/100\n",
            "938/938 [==============================] - 4s 5ms/step - loss: 0.1945 - accuracy: 0.9273 - val_loss: 0.2433 - val_accuracy: 0.9120\n",
            "Epoch 45/100\n",
            "938/938 [==============================] - 4s 4ms/step - loss: 0.1973 - accuracy: 0.9258 - val_loss: 0.2502 - val_accuracy: 0.9108\n",
            "Epoch 46/100\n",
            "938/938 [==============================] - 4s 4ms/step - loss: 0.1941 - accuracy: 0.9291 - val_loss: 0.2474 - val_accuracy: 0.9102\n",
            "Epoch 47/100\n",
            "938/938 [==============================] - 4s 4ms/step - loss: 0.1898 - accuracy: 0.9291 - val_loss: 0.2496 - val_accuracy: 0.9120\n",
            "Epoch 48/100\n",
            "938/938 [==============================] - 4s 4ms/step - loss: 0.1928 - accuracy: 0.9279 - val_loss: 0.2463 - val_accuracy: 0.9109\n",
            "Epoch 49/100\n",
            "938/938 [==============================] - 4s 4ms/step - loss: 0.1908 - accuracy: 0.9292 - val_loss: 0.2373 - val_accuracy: 0.9154\n",
            "Epoch 50/100\n",
            "938/938 [==============================] - 4s 4ms/step - loss: 0.1897 - accuracy: 0.9291 - val_loss: 0.2418 - val_accuracy: 0.9134\n",
            "Epoch 51/100\n",
            "938/938 [==============================] - 4s 4ms/step - loss: 0.1888 - accuracy: 0.9298 - val_loss: 0.2509 - val_accuracy: 0.9136\n",
            "Epoch 52/100\n",
            "938/938 [==============================] - 4s 4ms/step - loss: 0.1859 - accuracy: 0.9301 - val_loss: 0.2416 - val_accuracy: 0.9139\n",
            "Epoch 53/100\n",
            "938/938 [==============================] - 4s 4ms/step - loss: 0.1867 - accuracy: 0.9306 - val_loss: 0.2442 - val_accuracy: 0.9143\n",
            "Epoch 54/100\n",
            "938/938 [==============================] - 4s 4ms/step - loss: 0.1878 - accuracy: 0.9300 - val_loss: 0.2394 - val_accuracy: 0.9147\n",
            "Epoch 55/100\n",
            "938/938 [==============================] - 4s 4ms/step - loss: 0.1861 - accuracy: 0.9308 - val_loss: 0.2478 - val_accuracy: 0.9134\n",
            "Epoch 56/100\n",
            "938/938 [==============================] - 4s 5ms/step - loss: 0.1852 - accuracy: 0.9313 - val_loss: 0.2456 - val_accuracy: 0.9112\n",
            "Epoch 57/100\n",
            "938/938 [==============================] - 4s 5ms/step - loss: 0.1831 - accuracy: 0.9315 - val_loss: 0.2454 - val_accuracy: 0.9139\n",
            "Epoch 58/100\n",
            "938/938 [==============================] - 4s 4ms/step - loss: 0.1857 - accuracy: 0.9307 - val_loss: 0.2441 - val_accuracy: 0.9120\n",
            "Epoch 59/100\n",
            "938/938 [==============================] - 5s 5ms/step - loss: 0.1826 - accuracy: 0.9317 - val_loss: 0.2398 - val_accuracy: 0.9156\n",
            "Epoch 60/100\n",
            "938/938 [==============================] - 4s 4ms/step - loss: 0.1810 - accuracy: 0.9327 - val_loss: 0.2571 - val_accuracy: 0.9107\n",
            "Epoch 61/100\n",
            "938/938 [==============================] - 4s 4ms/step - loss: 0.1825 - accuracy: 0.9314 - val_loss: 0.2479 - val_accuracy: 0.9106\n",
            "Epoch 62/100\n",
            "938/938 [==============================] - 4s 4ms/step - loss: 0.1818 - accuracy: 0.9319 - val_loss: 0.2427 - val_accuracy: 0.9153\n",
            "Epoch 63/100\n",
            "938/938 [==============================] - 4s 4ms/step - loss: 0.1813 - accuracy: 0.9327 - val_loss: 0.2505 - val_accuracy: 0.9107\n",
            "Epoch 64/100\n",
            "938/938 [==============================] - 4s 4ms/step - loss: 0.1789 - accuracy: 0.9341 - val_loss: 0.2475 - val_accuracy: 0.9120\n",
            "Epoch 65/100\n",
            "938/938 [==============================] - 4s 4ms/step - loss: 0.1787 - accuracy: 0.9332 - val_loss: 0.2501 - val_accuracy: 0.9134\n",
            "Epoch 66/100\n",
            "938/938 [==============================] - 4s 5ms/step - loss: 0.1786 - accuracy: 0.9333 - val_loss: 0.2484 - val_accuracy: 0.9133\n",
            "Epoch 67/100\n",
            "938/938 [==============================] - 4s 4ms/step - loss: 0.1773 - accuracy: 0.9335 - val_loss: 0.2571 - val_accuracy: 0.9133\n",
            "Epoch 68/100\n",
            "938/938 [==============================] - 4s 4ms/step - loss: 0.1788 - accuracy: 0.9338 - val_loss: 0.2460 - val_accuracy: 0.9148\n",
            "Epoch 69/100\n",
            "938/938 [==============================] - 4s 4ms/step - loss: 0.1768 - accuracy: 0.9348 - val_loss: 0.2599 - val_accuracy: 0.9107\n",
            "Epoch 70/100\n",
            "938/938 [==============================] - 4s 4ms/step - loss: 0.1756 - accuracy: 0.9334 - val_loss: 0.2470 - val_accuracy: 0.9126\n",
            "Epoch 71/100\n",
            "938/938 [==============================] - 4s 4ms/step - loss: 0.1770 - accuracy: 0.9342 - val_loss: 0.2494 - val_accuracy: 0.9130\n",
            "Epoch 72/100\n",
            "938/938 [==============================] - 4s 4ms/step - loss: 0.1740 - accuracy: 0.9347 - val_loss: 0.2450 - val_accuracy: 0.9141\n",
            "Epoch 73/100\n",
            "938/938 [==============================] - 4s 4ms/step - loss: 0.1756 - accuracy: 0.9341 - val_loss: 0.2423 - val_accuracy: 0.9127\n",
            "Epoch 74/100\n",
            "938/938 [==============================] - 5s 5ms/step - loss: 0.1730 - accuracy: 0.9346 - val_loss: 0.2424 - val_accuracy: 0.9151\n",
            "Epoch 75/100\n",
            "938/938 [==============================] - 4s 5ms/step - loss: 0.1751 - accuracy: 0.9350 - val_loss: 0.2411 - val_accuracy: 0.9158\n",
            "Epoch 76/100\n",
            "938/938 [==============================] - 4s 4ms/step - loss: 0.1712 - accuracy: 0.9354 - val_loss: 0.2573 - val_accuracy: 0.9114\n",
            "Epoch 77/100\n",
            "938/938 [==============================] - 4s 4ms/step - loss: 0.1740 - accuracy: 0.9355 - val_loss: 0.2442 - val_accuracy: 0.9130\n",
            "Epoch 78/100\n",
            "938/938 [==============================] - 4s 4ms/step - loss: 0.1685 - accuracy: 0.9376 - val_loss: 0.2460 - val_accuracy: 0.9150\n",
            "Epoch 79/100\n",
            "938/938 [==============================] - 4s 4ms/step - loss: 0.1700 - accuracy: 0.9362 - val_loss: 0.2518 - val_accuracy: 0.9165\n",
            "Epoch 80/100\n",
            "938/938 [==============================] - 4s 4ms/step - loss: 0.1706 - accuracy: 0.9357 - val_loss: 0.2472 - val_accuracy: 0.9166\n",
            "Epoch 81/100\n",
            "938/938 [==============================] - 4s 4ms/step - loss: 0.1685 - accuracy: 0.9363 - val_loss: 0.2541 - val_accuracy: 0.9138\n",
            "Epoch 82/100\n",
            "938/938 [==============================] - 4s 4ms/step - loss: 0.1691 - accuracy: 0.9373 - val_loss: 0.2520 - val_accuracy: 0.9144\n",
            "Epoch 83/100\n",
            "938/938 [==============================] - 4s 4ms/step - loss: 0.1688 - accuracy: 0.9362 - val_loss: 0.2604 - val_accuracy: 0.9142\n",
            "Epoch 84/100\n",
            "938/938 [==============================] - 4s 4ms/step - loss: 0.1656 - accuracy: 0.9387 - val_loss: 0.2540 - val_accuracy: 0.9126\n",
            "Epoch 85/100\n",
            "938/938 [==============================] - 4s 4ms/step - loss: 0.1688 - accuracy: 0.9370 - val_loss: 0.2471 - val_accuracy: 0.9137\n",
            "Epoch 86/100\n",
            "938/938 [==============================] - 4s 4ms/step - loss: 0.1720 - accuracy: 0.9353 - val_loss: 0.2489 - val_accuracy: 0.9140\n",
            "Epoch 87/100\n",
            "938/938 [==============================] - 4s 4ms/step - loss: 0.1679 - accuracy: 0.9363 - val_loss: 0.2574 - val_accuracy: 0.9113\n",
            "Epoch 88/100\n",
            "938/938 [==============================] - 4s 4ms/step - loss: 0.1672 - accuracy: 0.9377 - val_loss: 0.2453 - val_accuracy: 0.9148\n",
            "Epoch 89/100\n",
            "938/938 [==============================] - 4s 4ms/step - loss: 0.1649 - accuracy: 0.9390 - val_loss: 0.2598 - val_accuracy: 0.9125\n",
            "Epoch 90/100\n",
            "938/938 [==============================] - 4s 4ms/step - loss: 0.1652 - accuracy: 0.9381 - val_loss: 0.2741 - val_accuracy: 0.9128\n",
            "Epoch 91/100\n",
            "938/938 [==============================] - 4s 4ms/step - loss: 0.1662 - accuracy: 0.9383 - val_loss: 0.2522 - val_accuracy: 0.9135\n",
            "Epoch 92/100\n",
            "938/938 [==============================] - 4s 5ms/step - loss: 0.1637 - accuracy: 0.9396 - val_loss: 0.2533 - val_accuracy: 0.9143\n",
            "Epoch 93/100\n",
            "938/938 [==============================] - 4s 4ms/step - loss: 0.1648 - accuracy: 0.9388 - val_loss: 0.2588 - val_accuracy: 0.9142\n",
            "Epoch 94/100\n",
            "938/938 [==============================] - 4s 4ms/step - loss: 0.1662 - accuracy: 0.9373 - val_loss: 0.2484 - val_accuracy: 0.9111\n",
            "Epoch 95/100\n",
            "938/938 [==============================] - 4s 4ms/step - loss: 0.1642 - accuracy: 0.9381 - val_loss: 0.2649 - val_accuracy: 0.9125\n",
            "Epoch 96/100\n",
            "938/938 [==============================] - 4s 4ms/step - loss: 0.1610 - accuracy: 0.9388 - val_loss: 0.2470 - val_accuracy: 0.9152\n",
            "Epoch 97/100\n",
            "938/938 [==============================] - 4s 5ms/step - loss: 0.1653 - accuracy: 0.9386 - val_loss: 0.2554 - val_accuracy: 0.9129\n",
            "Epoch 98/100\n",
            "938/938 [==============================] - 4s 4ms/step - loss: 0.1630 - accuracy: 0.9384 - val_loss: 0.2564 - val_accuracy: 0.9101\n",
            "Epoch 99/100\n",
            "938/938 [==============================] - 4s 5ms/step - loss: 0.1631 - accuracy: 0.9389 - val_loss: 0.2536 - val_accuracy: 0.9148\n",
            "Epoch 100/100\n",
            "938/938 [==============================] - 4s 5ms/step - loss: 0.1630 - accuracy: 0.9391 - val_loss: 0.2551 - val_accuracy: 0.9141\n"
          ]
        },
        {
          "output_type": "execute_result",
          "data": {
            "text/plain": [
              "<keras.callbacks.History at 0x7f0e20d69a50>"
            ]
          },
          "metadata": {},
          "execution_count": 8
        }
      ]
    }
  ]
}