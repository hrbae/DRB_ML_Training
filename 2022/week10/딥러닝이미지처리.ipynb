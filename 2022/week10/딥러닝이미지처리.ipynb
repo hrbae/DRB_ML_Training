{
  "nbformat": 4,
  "nbformat_minor": 0,
  "metadata": {
    "colab": {
      "provenance": [],
      "authorship_tag": "ABX9TyN22OtzhQsOe3g6QRVr1BkS",
      "include_colab_link": true
    },
    "kernelspec": {
      "name": "python3",
      "display_name": "Python 3"
    },
    "language_info": {
      "name": "python"
    }
  },
  "cells": [
    {
      "cell_type": "markdown",
      "metadata": {
        "id": "view-in-github",
        "colab_type": "text"
      },
      "source": [
        "<a href=\"https://colab.research.google.com/github/hrbae/DRB_ML_Training/blob/main/2022/week10/%EB%94%A5%EB%9F%AC%EB%8B%9D%EC%9D%B4%EB%AF%B8%EC%A7%80%EC%B2%98%EB%A6%AC.ipynb\" target=\"_parent\"><img src=\"https://colab.research.google.com/assets/colab-badge.svg\" alt=\"Open In Colab\"/></a>"
      ]
    },
    {
      "cell_type": "code",
      "execution_count": 1,
      "metadata": {
        "id": "m1xvMqwdyKhm"
      },
      "outputs": [],
      "source": [
        "# 1. 데이터\n",
        "# 2. 하드웨어, GPU\n",
        "# 3. 딥러닝 라이브러리, API (tensorflow(google), pytorch(meta))"
      ]
    },
    {
      "cell_type": "markdown",
      "source": [
        "## 라이브러리 불러오기"
      ],
      "metadata": {
        "id": "By1hd8vC18Kx"
      }
    },
    {
      "cell_type": "code",
      "source": [
        "# tensorflow와 keras를 불러들임.\n",
        "import tensorflow as tf\n",
        "from tensorflow import keras\n",
        "from keras import layers\n",
        "\n",
        "# 그외 헬퍼 라이브러리\n",
        "import numpy as np\n",
        "import matplotlib.pyplot as plt"
      ],
      "metadata": {
        "id": "rZGRhcrJ1-di"
      },
      "execution_count": 38,
      "outputs": []
    },
    {
      "cell_type": "markdown",
      "source": [
        "## Fashion MNIST 데이터셋 불러오기"
      ],
      "metadata": {
        "id": "KyxAwori23HQ"
      }
    },
    {
      "cell_type": "code",
      "source": [
        "fashion_mnist = keras.datasets.fashion_mnist\n",
        "(train_X, train_y),(test_X,test_y) = fashion_mnist.load_data()"
      ],
      "metadata": {
        "id": "Uijtqj1j3Cwy"
      },
      "execution_count": 39,
      "outputs": []
    },
    {
      "cell_type": "markdown",
      "source": [
        "## 데이터 차원 확인"
      ],
      "metadata": {
        "id": "yPnDJZjp4jdp"
      }
    },
    {
      "cell_type": "code",
      "source": [
        "print(train_X.shape)\n",
        "print(train_y.shape)\n",
        "print(test_X.shape)\n",
        "print(test_y.shape)"
      ],
      "metadata": {
        "colab": {
          "base_uri": "https://localhost:8080/"
        },
        "id": "6W3Hja_n4k3N",
        "outputId": "8b31b031-9ae8-4152-c40c-948e22ca1db8"
      },
      "execution_count": 40,
      "outputs": [
        {
          "output_type": "stream",
          "name": "stdout",
          "text": [
            "(60000, 28, 28)\n",
            "(60000,)\n",
            "(10000, 28, 28)\n",
            "(10000,)\n"
          ]
        }
      ]
    },
    {
      "cell_type": "code",
      "source": [
        "train_X[0]"
      ],
      "metadata": {
        "colab": {
          "base_uri": "https://localhost:8080/"
        },
        "id": "Z6LjG2Ab4ix2",
        "outputId": "c42b0706-034e-4d93-b8af-6bbd89dc1f64"
      },
      "execution_count": 41,
      "outputs": [
        {
          "output_type": "execute_result",
          "data": {
            "text/plain": [
              "array([[  0,   0,   0,   0,   0,   0,   0,   0,   0,   0,   0,   0,   0,\n",
              "          0,   0,   0,   0,   0,   0,   0,   0,   0,   0,   0,   0,   0,\n",
              "          0,   0],\n",
              "       [  0,   0,   0,   0,   0,   0,   0,   0,   0,   0,   0,   0,   0,\n",
              "          0,   0,   0,   0,   0,   0,   0,   0,   0,   0,   0,   0,   0,\n",
              "          0,   0],\n",
              "       [  0,   0,   0,   0,   0,   0,   0,   0,   0,   0,   0,   0,   0,\n",
              "          0,   0,   0,   0,   0,   0,   0,   0,   0,   0,   0,   0,   0,\n",
              "          0,   0],\n",
              "       [  0,   0,   0,   0,   0,   0,   0,   0,   0,   0,   0,   0,   1,\n",
              "          0,   0,  13,  73,   0,   0,   1,   4,   0,   0,   0,   0,   1,\n",
              "          1,   0],\n",
              "       [  0,   0,   0,   0,   0,   0,   0,   0,   0,   0,   0,   0,   3,\n",
              "          0,  36, 136, 127,  62,  54,   0,   0,   0,   1,   3,   4,   0,\n",
              "          0,   3],\n",
              "       [  0,   0,   0,   0,   0,   0,   0,   0,   0,   0,   0,   0,   6,\n",
              "          0, 102, 204, 176, 134, 144, 123,  23,   0,   0,   0,   0,  12,\n",
              "         10,   0],\n",
              "       [  0,   0,   0,   0,   0,   0,   0,   0,   0,   0,   0,   0,   0,\n",
              "          0, 155, 236, 207, 178, 107, 156, 161, 109,  64,  23,  77, 130,\n",
              "         72,  15],\n",
              "       [  0,   0,   0,   0,   0,   0,   0,   0,   0,   0,   0,   1,   0,\n",
              "         69, 207, 223, 218, 216, 216, 163, 127, 121, 122, 146, 141,  88,\n",
              "        172,  66],\n",
              "       [  0,   0,   0,   0,   0,   0,   0,   0,   0,   1,   1,   1,   0,\n",
              "        200, 232, 232, 233, 229, 223, 223, 215, 213, 164, 127, 123, 196,\n",
              "        229,   0],\n",
              "       [  0,   0,   0,   0,   0,   0,   0,   0,   0,   0,   0,   0,   0,\n",
              "        183, 225, 216, 223, 228, 235, 227, 224, 222, 224, 221, 223, 245,\n",
              "        173,   0],\n",
              "       [  0,   0,   0,   0,   0,   0,   0,   0,   0,   0,   0,   0,   0,\n",
              "        193, 228, 218, 213, 198, 180, 212, 210, 211, 213, 223, 220, 243,\n",
              "        202,   0],\n",
              "       [  0,   0,   0,   0,   0,   0,   0,   0,   0,   1,   3,   0,  12,\n",
              "        219, 220, 212, 218, 192, 169, 227, 208, 218, 224, 212, 226, 197,\n",
              "        209,  52],\n",
              "       [  0,   0,   0,   0,   0,   0,   0,   0,   0,   0,   6,   0,  99,\n",
              "        244, 222, 220, 218, 203, 198, 221, 215, 213, 222, 220, 245, 119,\n",
              "        167,  56],\n",
              "       [  0,   0,   0,   0,   0,   0,   0,   0,   0,   4,   0,   0,  55,\n",
              "        236, 228, 230, 228, 240, 232, 213, 218, 223, 234, 217, 217, 209,\n",
              "         92,   0],\n",
              "       [  0,   0,   1,   4,   6,   7,   2,   0,   0,   0,   0,   0, 237,\n",
              "        226, 217, 223, 222, 219, 222, 221, 216, 223, 229, 215, 218, 255,\n",
              "         77,   0],\n",
              "       [  0,   3,   0,   0,   0,   0,   0,   0,   0,  62, 145, 204, 228,\n",
              "        207, 213, 221, 218, 208, 211, 218, 224, 223, 219, 215, 224, 244,\n",
              "        159,   0],\n",
              "       [  0,   0,   0,   0,  18,  44,  82, 107, 189, 228, 220, 222, 217,\n",
              "        226, 200, 205, 211, 230, 224, 234, 176, 188, 250, 248, 233, 238,\n",
              "        215,   0],\n",
              "       [  0,  57, 187, 208, 224, 221, 224, 208, 204, 214, 208, 209, 200,\n",
              "        159, 245, 193, 206, 223, 255, 255, 221, 234, 221, 211, 220, 232,\n",
              "        246,   0],\n",
              "       [  3, 202, 228, 224, 221, 211, 211, 214, 205, 205, 205, 220, 240,\n",
              "         80, 150, 255, 229, 221, 188, 154, 191, 210, 204, 209, 222, 228,\n",
              "        225,   0],\n",
              "       [ 98, 233, 198, 210, 222, 229, 229, 234, 249, 220, 194, 215, 217,\n",
              "        241,  65,  73, 106, 117, 168, 219, 221, 215, 217, 223, 223, 224,\n",
              "        229,  29],\n",
              "       [ 75, 204, 212, 204, 193, 205, 211, 225, 216, 185, 197, 206, 198,\n",
              "        213, 240, 195, 227, 245, 239, 223, 218, 212, 209, 222, 220, 221,\n",
              "        230,  67],\n",
              "       [ 48, 203, 183, 194, 213, 197, 185, 190, 194, 192, 202, 214, 219,\n",
              "        221, 220, 236, 225, 216, 199, 206, 186, 181, 177, 172, 181, 205,\n",
              "        206, 115],\n",
              "       [  0, 122, 219, 193, 179, 171, 183, 196, 204, 210, 213, 207, 211,\n",
              "        210, 200, 196, 194, 191, 195, 191, 198, 192, 176, 156, 167, 177,\n",
              "        210,  92],\n",
              "       [  0,   0,  74, 189, 212, 191, 175, 172, 175, 181, 185, 188, 189,\n",
              "        188, 193, 198, 204, 209, 210, 210, 211, 188, 188, 194, 192, 216,\n",
              "        170,   0],\n",
              "       [  2,   0,   0,   0,  66, 200, 222, 237, 239, 242, 246, 243, 244,\n",
              "        221, 220, 193, 191, 179, 182, 182, 181, 176, 166, 168,  99,  58,\n",
              "          0,   0],\n",
              "       [  0,   0,   0,   0,   0,   0,   0,  40,  61,  44,  72,  41,  35,\n",
              "          0,   0,   0,   0,   0,   0,   0,   0,   0,   0,   0,   0,   0,\n",
              "          0,   0],\n",
              "       [  0,   0,   0,   0,   0,   0,   0,   0,   0,   0,   0,   0,   0,\n",
              "          0,   0,   0,   0,   0,   0,   0,   0,   0,   0,   0,   0,   0,\n",
              "          0,   0],\n",
              "       [  0,   0,   0,   0,   0,   0,   0,   0,   0,   0,   0,   0,   0,\n",
              "          0,   0,   0,   0,   0,   0,   0,   0,   0,   0,   0,   0,   0,\n",
              "          0,   0]], dtype=uint8)"
            ]
          },
          "metadata": {},
          "execution_count": 41
        }
      ]
    },
    {
      "cell_type": "markdown",
      "source": [
        "## 데이터 정체 확인"
      ],
      "metadata": {
        "id": "F2eoSDdb6UeS"
      }
    },
    {
      "cell_type": "code",
      "source": [
        "plt.imshow(train_X[0])"
      ],
      "metadata": {
        "colab": {
          "base_uri": "https://localhost:8080/",
          "height": 283
        },
        "id": "hvCfRkH36TE6",
        "outputId": "3b3f6ba9-36aa-49a2-adf6-8867b5dfa7b9"
      },
      "execution_count": 42,
      "outputs": [
        {
          "output_type": "execute_result",
          "data": {
            "text/plain": [
              "<matplotlib.image.AxesImage at 0x7f9a54256150>"
            ]
          },
          "metadata": {},
          "execution_count": 42
        },
        {
          "output_type": "display_data",
          "data": {
            "text/plain": [
              "<Figure size 432x288 with 1 Axes>"
            ],
            "image/png": "[encoded data removed]"
          },
          "metadata": {
            "needs_background": "light"
          }
        }
      ]
    },
    {
      "cell_type": "code",
      "source": [
        "test_y[0]"
      ],
      "metadata": {
        "colab": {
          "base_uri": "https://localhost:8080/"
        },
        "id": "aJiUNuWg6-Q-",
        "outputId": "71075450-ddb5-4f8b-db74-2adaddc1667c"
      },
      "execution_count": 43,
      "outputs": [
        {
          "output_type": "execute_result",
          "data": {
            "text/plain": [
              "9"
            ]
          },
          "metadata": {},
          "execution_count": 43
        }
      ]
    },
    {
      "cell_type": "code",
      "source": [
        "class_names = ['T-shirt/top', 'Trouser', 'Pullover', 'Dress', 'Coat',\n",
        "               'Sandal', 'Shirt', 'Sneaker', 'Bag', 'Ankle boot']"
      ],
      "metadata": {
        "id": "H7UbRk2Q7bWa"
      },
      "execution_count": 44,
      "outputs": []
    },
    {
      "cell_type": "markdown",
      "source": [
        "## 데이터 전처리"
      ],
      "metadata": {
        "id": "zPl3Gb4c8Ff9"
      }
    },
    {
      "cell_type": "code",
      "source": [
        "# 이미지 데이터를 0~1사이의 값을 갖도록 표준화\n",
        "train_X = train_X/255.0\n",
        "test_X = test_X/255.0"
      ],
      "metadata": {
        "id": "xhgD9sjW8Hs1"
      },
      "execution_count": 45,
      "outputs": []
    },
    {
      "cell_type": "markdown",
      "source": [
        "## 딥러닝 모델 만들기"
      ],
      "metadata": {
        "id": "6tK7K8EN9VYI"
      }
    },
    {
      "cell_type": "code",
      "source": [
        "# 모델의 구성\n",
        "model = keras.Sequential([\n",
        "    layers.Flatten(input_shape=(28,28)),\n",
        "    layers.Dense(128, activation='relu'),\n",
        "    layers.Dense(10, activation='softmax')\n",
        "])"
      ],
      "metadata": {
        "id": "HMN5n1Dr9Yln"
      },
      "execution_count": 50,
      "outputs": []
    },
    {
      "cell_type": "code",
      "source": [
        "# 모델 컴파일 (손실함수의 형태, 최적화 알고리즘, 성능지표)\n",
        "model.compile(loss='sparse_categorical_crossentropy',\n",
        "              optimizer='adam',\n",
        "              metrics=['accuracy'])"
      ],
      "metadata": {
        "id": "zrhAPimWCIeO"
      },
      "execution_count": 52,
      "outputs": []
    },
    {
      "cell_type": "code",
      "source": [
        "# 모델의 summary 확인\n",
        "model.summary()"
      ],
      "metadata": {
        "colab": {
          "base_uri": "https://localhost:8080/"
        },
        "id": "qFtHUB30FXyV",
        "outputId": "707049f7-8913-4bd2-d7d5-a26755f243f4"
      },
      "execution_count": 48,
      "outputs": [
        {
          "output_type": "stream",
          "name": "stdout",
          "text": [
            "Model: \"sequential_2\"\n",
            "_________________________________________________________________\n",
            " Layer (type)                Output Shape              Param #   \n",
            "=================================================================\n",
            " flatten_2 (Flatten)         (None, 784)               0         \n",
            "                                                                 \n",
            " dense_4 (Dense)             (None, 128)               100480    \n",
            "                                                                 \n",
            " dense_5 (Dense)             (None, 10)                1290      \n",
            "                                                                 \n",
            "=================================================================\n",
            "Total params: 101,770\n",
            "Trainable params: 101,770\n",
            "Non-trainable params: 0\n",
            "_________________________________________________________________\n"
          ]
        }
      ]
    },
    {
      "cell_type": "code",
      "source": [
        "model.fit(train_X, train_y, \n",
        "          validation_data=(test_X,test_y),\n",
        "          batch_size=64, \n",
        "          epochs=1000)"
      ],
      "metadata": {
        "colab": {
          "base_uri": "https://localhost:8080/",
          "height": 1000
        },
        "id": "9h3CNBHqGyoy",
        "outputId": "34a9d256-0e6b-4921-9e11-a604baacec2d"
      },
      "execution_count": 53,
      "outputs": [
        {
          "output_type": "stream",
          "name": "stdout",
          "text": [
            "Epoch 1/1000\n",
            "938/938 [==============================] - 4s 4ms/step - loss: 0.5208 - accuracy: 0.8189 - val_loss: 0.4465 - val_accuracy: 0.8443\n",
            "Epoch 2/1000\n",
            "938/938 [==============================] - 3s 3ms/step - loss: 0.3863 - accuracy: 0.8641 - val_loss: 0.4278 - val_accuracy: 0.8433\n",
            "Epoch 3/1000\n",
            "938/938 [==============================] - 3s 4ms/step - loss: 0.3442 - accuracy: 0.8765 - val_loss: 0.3794 - val_accuracy: 0.8644\n",
            "Epoch 4/1000\n",
            "938/938 [==============================] - 4s 4ms/step - loss: 0.3222 - accuracy: 0.8835 - val_loss: 0.3549 - val_accuracy: 0.8759\n",
            "Epoch 5/1000\n",
            "938/938 [==============================] - 3s 4ms/step - loss: 0.3029 - accuracy: 0.8884 - val_loss: 0.3738 - val_accuracy: 0.8638\n",
            "Epoch 6/1000\n",
            "938/938 [==============================] - 3s 4ms/step - loss: 0.2904 - accuracy: 0.8931 - val_loss: 0.3407 - val_accuracy: 0.8787\n",
            "Epoch 7/1000\n",
            "938/938 [==============================] - 3s 3ms/step - loss: 0.2758 - accuracy: 0.8982 - val_loss: 0.3447 - val_accuracy: 0.8769\n",
            "Epoch 8/1000\n",
            "938/938 [==============================] - 3s 4ms/step - loss: 0.2649 - accuracy: 0.9021 - val_loss: 0.3653 - val_accuracy: 0.8715\n",
            "Epoch 9/1000\n",
            "938/938 [==============================] - 3s 3ms/step - loss: 0.2551 - accuracy: 0.9062 - val_loss: 0.3361 - val_accuracy: 0.8809\n",
            "Epoch 10/1000\n",
            "938/938 [==============================] - 3s 3ms/step - loss: 0.2468 - accuracy: 0.9087 - val_loss: 0.3270 - val_accuracy: 0.8839\n",
            "Epoch 11/1000\n",
            "938/938 [==============================] - 3s 4ms/step - loss: 0.2372 - accuracy: 0.9107 - val_loss: 0.3368 - val_accuracy: 0.8847\n",
            "Epoch 12/1000\n",
            "938/938 [==============================] - 4s 4ms/step - loss: 0.2326 - accuracy: 0.9137 - val_loss: 0.3265 - val_accuracy: 0.8824\n",
            "Epoch 13/1000\n",
            "938/938 [==============================] - 3s 3ms/step - loss: 0.2224 - accuracy: 0.9167 - val_loss: 0.3328 - val_accuracy: 0.8858\n",
            "Epoch 14/1000\n",
            "938/938 [==============================] - 3s 3ms/step - loss: 0.2195 - accuracy: 0.9175 - val_loss: 0.3314 - val_accuracy: 0.8845\n",
            "Epoch 15/1000\n",
            "938/938 [==============================] - 3s 3ms/step - loss: 0.2105 - accuracy: 0.9216 - val_loss: 0.3383 - val_accuracy: 0.8855\n",
            "Epoch 16/1000\n",
            "938/938 [==============================] - 3s 3ms/step - loss: 0.2041 - accuracy: 0.9245 - val_loss: 0.3353 - val_accuracy: 0.8837\n",
            "Epoch 17/1000\n",
            "938/938 [==============================] - 4s 4ms/step - loss: 0.2007 - accuracy: 0.9260 - val_loss: 0.3431 - val_accuracy: 0.8829\n",
            "Epoch 18/1000\n",
            "938/938 [==============================] - 3s 4ms/step - loss: 0.1945 - accuracy: 0.9277 - val_loss: 0.3437 - val_accuracy: 0.8854\n",
            "Epoch 19/1000\n",
            "938/938 [==============================] - 3s 3ms/step - loss: 0.1909 - accuracy: 0.9288 - val_loss: 0.3234 - val_accuracy: 0.8916\n",
            "Epoch 20/1000\n",
            "938/938 [==============================] - 3s 3ms/step - loss: 0.1835 - accuracy: 0.9311 - val_loss: 0.3506 - val_accuracy: 0.8846\n",
            "Epoch 21/1000\n",
            "938/938 [==============================] - 4s 5ms/step - loss: 0.1786 - accuracy: 0.9328 - val_loss: 0.3413 - val_accuracy: 0.8886\n",
            "Epoch 22/1000\n",
            "938/938 [==============================] - 3s 4ms/step - loss: 0.1732 - accuracy: 0.9352 - val_loss: 0.3524 - val_accuracy: 0.8871\n",
            "Epoch 23/1000\n",
            "938/938 [==============================] - 3s 4ms/step - loss: 0.1726 - accuracy: 0.9363 - val_loss: 0.3576 - val_accuracy: 0.8802\n",
            "Epoch 24/1000\n",
            "938/938 [==============================] - 3s 4ms/step - loss: 0.1680 - accuracy: 0.9388 - val_loss: 0.3658 - val_accuracy: 0.8871\n",
            "Epoch 25/1000\n",
            "938/938 [==============================] - 3s 3ms/step - loss: 0.1641 - accuracy: 0.9391 - val_loss: 0.3626 - val_accuracy: 0.8841\n",
            "Epoch 26/1000\n",
            "938/938 [==============================] - 3s 3ms/step - loss: 0.1580 - accuracy: 0.9415 - val_loss: 0.3609 - val_accuracy: 0.8866\n",
            "Epoch 27/1000\n",
            "938/938 [==============================] - 3s 3ms/step - loss: 0.1546 - accuracy: 0.9424 - val_loss: 0.3587 - val_accuracy: 0.8890\n",
            "Epoch 28/1000\n",
            "938/938 [==============================] - 3s 3ms/step - loss: 0.1512 - accuracy: 0.9445 - val_loss: 0.3621 - val_accuracy: 0.8891\n",
            "Epoch 29/1000\n",
            "938/938 [==============================] - 3s 3ms/step - loss: 0.1492 - accuracy: 0.9443 - val_loss: 0.3755 - val_accuracy: 0.8888\n",
            "Epoch 30/1000\n",
            "938/938 [==============================] - 3s 3ms/step - loss: 0.1434 - accuracy: 0.9458 - val_loss: 0.3822 - val_accuracy: 0.8862\n",
            "Epoch 31/1000\n",
            "938/938 [==============================] - 3s 3ms/step - loss: 0.1405 - accuracy: 0.9481 - val_loss: 0.3773 - val_accuracy: 0.8916\n",
            "Epoch 32/1000\n",
            "938/938 [==============================] - 3s 3ms/step - loss: 0.1396 - accuracy: 0.9475 - val_loss: 0.3719 - val_accuracy: 0.8897\n",
            "Epoch 33/1000\n",
            "938/938 [==============================] - 3s 3ms/step - loss: 0.1354 - accuracy: 0.9503 - val_loss: 0.4151 - val_accuracy: 0.8795\n",
            "Epoch 34/1000\n",
            "938/938 [==============================] - 3s 3ms/step - loss: 0.1331 - accuracy: 0.9509 - val_loss: 0.3833 - val_accuracy: 0.8925\n",
            "Epoch 35/1000\n",
            "938/938 [==============================] - 3s 3ms/step - loss: 0.1290 - accuracy: 0.9521 - val_loss: 0.3933 - val_accuracy: 0.8904\n",
            "Epoch 36/1000\n",
            "938/938 [==============================] - 3s 3ms/step - loss: 0.1278 - accuracy: 0.9526 - val_loss: 0.3994 - val_accuracy: 0.8902\n",
            "Epoch 37/1000\n",
            "938/938 [==============================] - 3s 3ms/step - loss: 0.1236 - accuracy: 0.9542 - val_loss: 0.4144 - val_accuracy: 0.8864\n",
            "Epoch 38/1000\n",
            "938/938 [==============================] - 3s 3ms/step - loss: 0.1219 - accuracy: 0.9551 - val_loss: 0.3986 - val_accuracy: 0.8911\n",
            "Epoch 39/1000\n",
            "938/938 [==============================] - 3s 3ms/step - loss: 0.1192 - accuracy: 0.9560 - val_loss: 0.4089 - val_accuracy: 0.8864\n",
            "Epoch 40/1000\n",
            "938/938 [==============================] - 3s 3ms/step - loss: 0.1139 - accuracy: 0.9584 - val_loss: 0.4209 - val_accuracy: 0.8881\n",
            "Epoch 41/1000\n",
            "938/938 [==============================] - 3s 3ms/step - loss: 0.1125 - accuracy: 0.9591 - val_loss: 0.4279 - val_accuracy: 0.8863\n",
            "Epoch 42/1000\n",
            "938/938 [==============================] - 3s 3ms/step - loss: 0.1106 - accuracy: 0.9596 - val_loss: 0.4144 - val_accuracy: 0.8879\n",
            "Epoch 43/1000\n",
            "938/938 [==============================] - 3s 3ms/step - loss: 0.1106 - accuracy: 0.9595 - val_loss: 0.4488 - val_accuracy: 0.8854\n",
            "Epoch 44/1000\n",
            "938/938 [==============================] - 3s 3ms/step - loss: 0.1082 - accuracy: 0.9603 - val_loss: 0.4315 - val_accuracy: 0.8891\n",
            "Epoch 45/1000\n",
            "938/938 [==============================] - 4s 4ms/step - loss: 0.1054 - accuracy: 0.9607 - val_loss: 0.4289 - val_accuracy: 0.8886\n",
            "Epoch 46/1000\n",
            "938/938 [==============================] - 3s 4ms/step - loss: 0.1047 - accuracy: 0.9607 - val_loss: 0.4628 - val_accuracy: 0.8860\n",
            "Epoch 47/1000\n",
            "938/938 [==============================] - 3s 3ms/step - loss: 0.1015 - accuracy: 0.9628 - val_loss: 0.4331 - val_accuracy: 0.8879\n",
            "Epoch 48/1000\n",
            "938/938 [==============================] - 3s 3ms/step - loss: 0.0995 - accuracy: 0.9631 - val_loss: 0.4460 - val_accuracy: 0.8889\n",
            "Epoch 49/1000\n",
            "938/938 [==============================] - 3s 3ms/step - loss: 0.0991 - accuracy: 0.9631 - val_loss: 0.4577 - val_accuracy: 0.8824\n",
            "Epoch 50/1000\n",
            "938/938 [==============================] - 3s 3ms/step - loss: 0.0968 - accuracy: 0.9646 - val_loss: 0.4546 - val_accuracy: 0.8902\n",
            "Epoch 51/1000\n",
            "938/938 [==============================] - 3s 3ms/step - loss: 0.0942 - accuracy: 0.9654 - val_loss: 0.4724 - val_accuracy: 0.8886\n",
            "Epoch 52/1000\n",
            "938/938 [==============================] - 3s 3ms/step - loss: 0.0906 - accuracy: 0.9664 - val_loss: 0.4503 - val_accuracy: 0.8922\n",
            "Epoch 53/1000\n",
            "938/938 [==============================] - 3s 3ms/step - loss: 0.0933 - accuracy: 0.9650 - val_loss: 0.4704 - val_accuracy: 0.8870\n",
            "Epoch 54/1000\n",
            "938/938 [==============================] - 3s 3ms/step - loss: 0.0906 - accuracy: 0.9665 - val_loss: 0.4727 - val_accuracy: 0.8879\n",
            "Epoch 55/1000\n",
            "938/938 [==============================] - 3s 3ms/step - loss: 0.0862 - accuracy: 0.9686 - val_loss: 0.4936 - val_accuracy: 0.8841\n",
            "Epoch 56/1000\n",
            "938/938 [==============================] - 3s 3ms/step - loss: 0.0868 - accuracy: 0.9681 - val_loss: 0.4940 - val_accuracy: 0.8879\n",
            "Epoch 57/1000\n",
            "938/938 [==============================] - 3s 3ms/step - loss: 0.0825 - accuracy: 0.9695 - val_loss: 0.5189 - val_accuracy: 0.8836\n",
            "Epoch 59/1000\n",
            "938/938 [==============================] - 3s 3ms/step - loss: 0.0835 - accuracy: 0.9696 - val_loss: 0.5117 - val_accuracy: 0.8837\n",
            "Epoch 60/1000\n",
            "938/938 [==============================] - 3s 3ms/step - loss: 0.0833 - accuracy: 0.9694 - val_loss: 0.4857 - val_accuracy: 0.8910\n",
            "Epoch 61/1000\n",
            "938/938 [==============================] - 3s 3ms/step - loss: 0.0797 - accuracy: 0.9710 - val_loss: 0.5163 - val_accuracy: 0.8846\n",
            "Epoch 62/1000\n",
            "938/938 [==============================] - 3s 3ms/step - loss: 0.0802 - accuracy: 0.9706 - val_loss: 0.5356 - val_accuracy: 0.8823\n",
            "Epoch 63/1000\n",
            "938/938 [==============================] - 3s 3ms/step - loss: 0.0781 - accuracy: 0.9715 - val_loss: 0.5435 - val_accuracy: 0.8870\n",
            "Epoch 64/1000\n",
            "938/938 [==============================] - 3s 3ms/step - loss: 0.0766 - accuracy: 0.9722 - val_loss: 0.5508 - val_accuracy: 0.8838\n",
            "Epoch 65/1000\n",
            "938/938 [==============================] - 3s 3ms/step - loss: 0.0725 - accuracy: 0.9732 - val_loss: 0.5249 - val_accuracy: 0.8870\n",
            "Epoch 67/1000\n",
            "938/938 [==============================] - 3s 3ms/step - loss: 0.0728 - accuracy: 0.9732 - val_loss: 0.5631 - val_accuracy: 0.8873\n",
            "Epoch 68/1000\n",
            "938/938 [==============================] - 3s 3ms/step - loss: 0.0706 - accuracy: 0.9741 - val_loss: 0.5330 - val_accuracy: 0.8874\n",
            "Epoch 69/1000\n",
            "938/938 [==============================] - 3s 3ms/step - loss: 0.0693 - accuracy: 0.9742 - val_loss: 0.5473 - val_accuracy: 0.8830\n",
            "Epoch 70/1000\n",
            "886/938 [===========================>..] - ETA: 0s - loss: 0.0696 - accuracy: 0.9742"
          ]
        },
        {
          "output_type": "error",
          "ename": "KeyboardInterrupt",
          "evalue": "ignored",
          "traceback": [
            "\u001b[0;31m---------------------------------------------------------------------------\u001b[0m",
            "\u001b[0;31mKeyboardInterrupt\u001b[0m                         Traceback (most recent call last)",
            "\u001b[0;32m<ipython-input-53-2d0d0d3b649b>\u001b[0m in \u001b[0;36m<module>\u001b[0;34m\u001b[0m\n\u001b[1;32m      2\u001b[0m           \u001b[0mvalidation_data\u001b[0m\u001b[0;34m=\u001b[0m\u001b[0;34m(\u001b[0m\u001b[0mtest_X\u001b[0m\u001b[0;34m,\u001b[0m\u001b[0mtest_y\u001b[0m\u001b[0;34m)\u001b[0m\u001b[0;34m,\u001b[0m\u001b[0;34m\u001b[0m\u001b[0;34m\u001b[0m\u001b[0m\n\u001b[1;32m      3\u001b[0m           \u001b[0mbatch_size\u001b[0m\u001b[0;34m=\u001b[0m\u001b[0;36m64\u001b[0m\u001b[0;34m,\u001b[0m\u001b[0;34m\u001b[0m\u001b[0;34m\u001b[0m\u001b[0m\n\u001b[0;32m----> 4\u001b[0;31m           epochs=1000)\n\u001b[0m",
            "\u001b[0;32m/usr/local/lib/python3.7/dist-packages/keras/utils/traceback_utils.py\u001b[0m in \u001b[0;36merror_handler\u001b[0;34m(*args, **kwargs)\u001b[0m\n\u001b[1;32m     62\u001b[0m     \u001b[0mfiltered_tb\u001b[0m \u001b[0;34m=\u001b[0m \u001b[0;32mNone\u001b[0m\u001b[0;34m\u001b[0m\u001b[0;34m\u001b[0m\u001b[0m\n\u001b[1;32m     63\u001b[0m     \u001b[0;32mtry\u001b[0m\u001b[0;34m:\u001b[0m\u001b[0;34m\u001b[0m\u001b[0;34m\u001b[0m\u001b[0m\n\u001b[0;32m---> 64\u001b[0;31m       \u001b[0;32mreturn\u001b[0m \u001b[0mfn\u001b[0m\u001b[0;34m(\u001b[0m\u001b[0;34m*\u001b[0m\u001b[0margs\u001b[0m\u001b[0;34m,\u001b[0m \u001b[0;34m**\u001b[0m\u001b[0mkwargs\u001b[0m\u001b[0;34m)\u001b[0m\u001b[0;34m\u001b[0m\u001b[0;34m\u001b[0m\u001b[0m\n\u001b[0m\u001b[1;32m     65\u001b[0m     \u001b[0;32mexcept\u001b[0m \u001b[0mException\u001b[0m \u001b[0;32mas\u001b[0m \u001b[0me\u001b[0m\u001b[0;34m:\u001b[0m  \u001b[0;31m# pylint: disable=broad-except\u001b[0m\u001b[0;34m\u001b[0m\u001b[0;34m\u001b[0m\u001b[0m\n\u001b[1;32m     66\u001b[0m       \u001b[0mfiltered_tb\u001b[0m \u001b[0;34m=\u001b[0m \u001b[0m_process_traceback_frames\u001b[0m\u001b[0;34m(\u001b[0m\u001b[0me\u001b[0m\u001b[0;34m.\u001b[0m\u001b[0m__traceback__\u001b[0m\u001b[0;34m)\u001b[0m\u001b[0;34m\u001b[0m\u001b[0;34m\u001b[0m\u001b[0m\n",
            "\u001b[0;32m/usr/local/lib/python3.7/dist-packages/keras/engine/training.py\u001b[0m in \u001b[0;36mfit\u001b[0;34m(self, x, y, batch_size, epochs, verbose, callbacks, validation_split, validation_data, shuffle, class_weight, sample_weight, initial_epoch, steps_per_epoch, validation_steps, validation_batch_size, validation_freq, max_queue_size, workers, use_multiprocessing)\u001b[0m\n\u001b[1;32m   1407\u001b[0m                 _r=1):\n\u001b[1;32m   1408\u001b[0m               \u001b[0mcallbacks\u001b[0m\u001b[0;34m.\u001b[0m\u001b[0mon_train_batch_begin\u001b[0m\u001b[0;34m(\u001b[0m\u001b[0mstep\u001b[0m\u001b[0;34m)\u001b[0m\u001b[0;34m\u001b[0m\u001b[0;34m\u001b[0m\u001b[0m\n\u001b[0;32m-> 1409\u001b[0;31m               \u001b[0mtmp_logs\u001b[0m \u001b[0;34m=\u001b[0m \u001b[0mself\u001b[0m\u001b[0;34m.\u001b[0m\u001b[0mtrain_function\u001b[0m\u001b[0;34m(\u001b[0m\u001b[0miterator\u001b[0m\u001b[0;34m)\u001b[0m\u001b[0;34m\u001b[0m\u001b[0;34m\u001b[0m\u001b[0m\n\u001b[0m\u001b[1;32m   1410\u001b[0m               \u001b[0;32mif\u001b[0m \u001b[0mdata_handler\u001b[0m\u001b[0;34m.\u001b[0m\u001b[0mshould_sync\u001b[0m\u001b[0;34m:\u001b[0m\u001b[0;34m\u001b[0m\u001b[0;34m\u001b[0m\u001b[0m\n\u001b[1;32m   1411\u001b[0m                 \u001b[0mcontext\u001b[0m\u001b[0;34m.\u001b[0m\u001b[0masync_wait\u001b[0m\u001b[0;34m(\u001b[0m\u001b[0;34m)\u001b[0m\u001b[0;34m\u001b[0m\u001b[0;34m\u001b[0m\u001b[0m\n",
            "\u001b[0;32m/usr/local/lib/python3.7/dist-packages/tensorflow/python/util/traceback_utils.py\u001b[0m in \u001b[0;36merror_handler\u001b[0;34m(*args, **kwargs)\u001b[0m\n\u001b[1;32m    148\u001b[0m     \u001b[0mfiltered_tb\u001b[0m \u001b[0;34m=\u001b[0m \u001b[0;32mNone\u001b[0m\u001b[0;34m\u001b[0m\u001b[0;34m\u001b[0m\u001b[0m\n\u001b[1;32m    149\u001b[0m     \u001b[0;32mtry\u001b[0m\u001b[0;34m:\u001b[0m\u001b[0;34m\u001b[0m\u001b[0;34m\u001b[0m\u001b[0m\n\u001b[0;32m--> 150\u001b[0;31m       \u001b[0;32mreturn\u001b[0m \u001b[0mfn\u001b[0m\u001b[0;34m(\u001b[0m\u001b[0;34m*\u001b[0m\u001b[0margs\u001b[0m\u001b[0;34m,\u001b[0m \u001b[0;34m**\u001b[0m\u001b[0mkwargs\u001b[0m\u001b[0;34m)\u001b[0m\u001b[0;34m\u001b[0m\u001b[0;34m\u001b[0m\u001b[0m\n\u001b[0m\u001b[1;32m    151\u001b[0m     \u001b[0;32mexcept\u001b[0m \u001b[0mException\u001b[0m \u001b[0;32mas\u001b[0m \u001b[0me\u001b[0m\u001b[0;34m:\u001b[0m\u001b[0;34m\u001b[0m\u001b[0;34m\u001b[0m\u001b[0m\n\u001b[1;32m    152\u001b[0m       \u001b[0mfiltered_tb\u001b[0m \u001b[0;34m=\u001b[0m \u001b[0m_process_traceback_frames\u001b[0m\u001b[0;34m(\u001b[0m\u001b[0me\u001b[0m\u001b[0;34m.\u001b[0m\u001b[0m__traceback__\u001b[0m\u001b[0;34m)\u001b[0m\u001b[0;34m\u001b[0m\u001b[0;34m\u001b[0m\u001b[0m\n",
            "\u001b[0;32m/usr/local/lib/python3.7/dist-packages/tensorflow/python/eager/def_function.py\u001b[0m in \u001b[0;36m__call__\u001b[0;34m(self, *args, **kwds)\u001b[0m\n\u001b[1;32m    913\u001b[0m \u001b[0;34m\u001b[0m\u001b[0m\n\u001b[1;32m    914\u001b[0m       \u001b[0;32mwith\u001b[0m \u001b[0mOptionalXlaContext\u001b[0m\u001b[0;34m(\u001b[0m\u001b[0mself\u001b[0m\u001b[0;34m.\u001b[0m\u001b[0m_jit_compile\u001b[0m\u001b[0;34m)\u001b[0m\u001b[0;34m:\u001b[0m\u001b[0;34m\u001b[0m\u001b[0;34m\u001b[0m\u001b[0m\n\u001b[0;32m--> 915\u001b[0;31m         \u001b[0mresult\u001b[0m \u001b[0;34m=\u001b[0m \u001b[0mself\u001b[0m\u001b[0;34m.\u001b[0m\u001b[0m_call\u001b[0m\u001b[0;34m(\u001b[0m\u001b[0;34m*\u001b[0m\u001b[0margs\u001b[0m\u001b[0;34m,\u001b[0m \u001b[0;34m**\u001b[0m\u001b[0mkwds\u001b[0m\u001b[0;34m)\u001b[0m\u001b[0;34m\u001b[0m\u001b[0;34m\u001b[0m\u001b[0m\n\u001b[0m\u001b[1;32m    916\u001b[0m \u001b[0;34m\u001b[0m\u001b[0m\n\u001b[1;32m    917\u001b[0m       \u001b[0mnew_tracing_count\u001b[0m \u001b[0;34m=\u001b[0m \u001b[0mself\u001b[0m\u001b[0;34m.\u001b[0m\u001b[0mexperimental_get_tracing_count\u001b[0m\u001b[0;34m(\u001b[0m\u001b[0;34m)\u001b[0m\u001b[0;34m\u001b[0m\u001b[0;34m\u001b[0m\u001b[0m\n",
            "\u001b[0;32m/usr/local/lib/python3.7/dist-packages/tensorflow/python/eager/def_function.py\u001b[0m in \u001b[0;36m_call\u001b[0;34m(self, *args, **kwds)\u001b[0m\n\u001b[1;32m    945\u001b[0m       \u001b[0;31m# In this case we have created variables on the first call, so we run the\u001b[0m\u001b[0;34m\u001b[0m\u001b[0;34m\u001b[0m\u001b[0;34m\u001b[0m\u001b[0m\n\u001b[1;32m    946\u001b[0m       \u001b[0;31m# defunned version which is guaranteed to never create variables.\u001b[0m\u001b[0;34m\u001b[0m\u001b[0;34m\u001b[0m\u001b[0;34m\u001b[0m\u001b[0m\n\u001b[0;32m--> 947\u001b[0;31m       \u001b[0;32mreturn\u001b[0m \u001b[0mself\u001b[0m\u001b[0;34m.\u001b[0m\u001b[0m_stateless_fn\u001b[0m\u001b[0;34m(\u001b[0m\u001b[0;34m*\u001b[0m\u001b[0margs\u001b[0m\u001b[0;34m,\u001b[0m \u001b[0;34m**\u001b[0m\u001b[0mkwds\u001b[0m\u001b[0;34m)\u001b[0m  \u001b[0;31m# pylint: disable=not-callable\u001b[0m\u001b[0;34m\u001b[0m\u001b[0;34m\u001b[0m\u001b[0m\n\u001b[0m\u001b[1;32m    948\u001b[0m     \u001b[0;32melif\u001b[0m \u001b[0mself\u001b[0m\u001b[0;34m.\u001b[0m\u001b[0m_stateful_fn\u001b[0m \u001b[0;32mis\u001b[0m \u001b[0;32mnot\u001b[0m \u001b[0;32mNone\u001b[0m\u001b[0;34m:\u001b[0m\u001b[0;34m\u001b[0m\u001b[0;34m\u001b[0m\u001b[0m\n\u001b[1;32m    949\u001b[0m       \u001b[0;31m# Release the lock early so that multiple threads can perform the call\u001b[0m\u001b[0;34m\u001b[0m\u001b[0;34m\u001b[0m\u001b[0;34m\u001b[0m\u001b[0m\n",
            "\u001b[0;32m/usr/local/lib/python3.7/dist-packages/tensorflow/python/eager/function.py\u001b[0m in \u001b[0;36m__call__\u001b[0;34m(self, *args, **kwargs)\u001b[0m\n\u001b[1;32m   2452\u001b[0m        filtered_flat_args) = self._maybe_define_function(args, kwargs)\n\u001b[1;32m   2453\u001b[0m     return graph_function._call_flat(\n\u001b[0;32m-> 2454\u001b[0;31m         filtered_flat_args, captured_inputs=graph_function.captured_inputs)  # pylint: disable=protected-access\n\u001b[0m\u001b[1;32m   2455\u001b[0m \u001b[0;34m\u001b[0m\u001b[0m\n\u001b[1;32m   2456\u001b[0m   \u001b[0;34m@\u001b[0m\u001b[0mproperty\u001b[0m\u001b[0;34m\u001b[0m\u001b[0;34m\u001b[0m\u001b[0m\n",
            "\u001b[0;32m/usr/local/lib/python3.7/dist-packages/tensorflow/python/eager/function.py\u001b[0m in \u001b[0;36m_call_flat\u001b[0;34m(self, args, captured_inputs, cancellation_manager)\u001b[0m\n\u001b[1;32m   1859\u001b[0m       \u001b[0;31m# No tape is watching; skip to running the function.\u001b[0m\u001b[0;34m\u001b[0m\u001b[0;34m\u001b[0m\u001b[0;34m\u001b[0m\u001b[0m\n\u001b[1;32m   1860\u001b[0m       return self._build_call_outputs(self._inference_function.call(\n\u001b[0;32m-> 1861\u001b[0;31m           ctx, args, cancellation_manager=cancellation_manager))\n\u001b[0m\u001b[1;32m   1862\u001b[0m     forward_backward = self._select_forward_and_backward_functions(\n\u001b[1;32m   1863\u001b[0m         \u001b[0margs\u001b[0m\u001b[0;34m,\u001b[0m\u001b[0;34m\u001b[0m\u001b[0;34m\u001b[0m\u001b[0m\n",
            "\u001b[0;32m/usr/local/lib/python3.7/dist-packages/tensorflow/python/eager/function.py\u001b[0m in \u001b[0;36mcall\u001b[0;34m(self, ctx, args, cancellation_manager)\u001b[0m\n\u001b[1;32m    500\u001b[0m               \u001b[0minputs\u001b[0m\u001b[0;34m=\u001b[0m\u001b[0margs\u001b[0m\u001b[0;34m,\u001b[0m\u001b[0;34m\u001b[0m\u001b[0;34m\u001b[0m\u001b[0m\n\u001b[1;32m    501\u001b[0m               \u001b[0mattrs\u001b[0m\u001b[0;34m=\u001b[0m\u001b[0mattrs\u001b[0m\u001b[0;34m,\u001b[0m\u001b[0;34m\u001b[0m\u001b[0;34m\u001b[0m\u001b[0m\n\u001b[0;32m--> 502\u001b[0;31m               ctx=ctx)\n\u001b[0m\u001b[1;32m    503\u001b[0m         \u001b[0;32melse\u001b[0m\u001b[0;34m:\u001b[0m\u001b[0;34m\u001b[0m\u001b[0;34m\u001b[0m\u001b[0m\n\u001b[1;32m    504\u001b[0m           outputs = execute.execute_with_cancellation(\n",
            "\u001b[0;32m/usr/local/lib/python3.7/dist-packages/tensorflow/python/eager/execute.py\u001b[0m in \u001b[0;36mquick_execute\u001b[0;34m(op_name, num_outputs, inputs, attrs, ctx, name)\u001b[0m\n\u001b[1;32m     53\u001b[0m     \u001b[0mctx\u001b[0m\u001b[0;34m.\u001b[0m\u001b[0mensure_initialized\u001b[0m\u001b[0;34m(\u001b[0m\u001b[0;34m)\u001b[0m\u001b[0;34m\u001b[0m\u001b[0;34m\u001b[0m\u001b[0m\n\u001b[1;32m     54\u001b[0m     tensors = pywrap_tfe.TFE_Py_Execute(ctx._handle, device_name, op_name,\n\u001b[0;32m---> 55\u001b[0;31m                                         inputs, attrs, num_outputs)\n\u001b[0m\u001b[1;32m     56\u001b[0m   \u001b[0;32mexcept\u001b[0m \u001b[0mcore\u001b[0m\u001b[0;34m.\u001b[0m\u001b[0m_NotOkStatusException\u001b[0m \u001b[0;32mas\u001b[0m \u001b[0me\u001b[0m\u001b[0;34m:\u001b[0m\u001b[0;34m\u001b[0m\u001b[0;34m\u001b[0m\u001b[0m\n\u001b[1;32m     57\u001b[0m     \u001b[0;32mif\u001b[0m \u001b[0mname\u001b[0m \u001b[0;32mis\u001b[0m \u001b[0;32mnot\u001b[0m \u001b[0;32mNone\u001b[0m\u001b[0;34m:\u001b[0m\u001b[0;34m\u001b[0m\u001b[0;34m\u001b[0m\u001b[0m\n",
            "\u001b[0;31mKeyboardInterrupt\u001b[0m: "
          ]
        }
      ]
    }
  ]
}