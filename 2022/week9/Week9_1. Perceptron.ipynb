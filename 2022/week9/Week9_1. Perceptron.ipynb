{
  "nbformat": 4,
  "nbformat_minor": 0,
  "metadata": {
    "colab": {
      "provenance": [],
      "collapsed_sections": []
    },
    "kernelspec": {
      "name": "python3",
      "display_name": "Python 3"
    },
    "language_info": {
      "name": "python"
    }
  },
  "cells": [
    {
      "cell_type": "markdown",
      "source": [
        "# Perceptron 이해하기"
      ],
      "metadata": {
        "id": "HVXXmyai1hb3"
      }
    },
    {
      "cell_type": "markdown",
      "source": [
        "$h(x) = w_0+w^Tx = w_0+w_1x_1+w_2x_2$\n",
        "\n",
        "$w = \\begin{bmatrix} w_0 \\\\ w_1 \\\\ w_2 \\end{bmatrix}$\n",
        "\n",
        "$x = \\begin{bmatrix} (x^{(1)})^T \\\\ (x^{(2)})^T \\\\ ... \\\\ (x^{(m)})^T \\end{bmatrix} = \\begin{bmatrix} 1&x_1^{(1)}&x_2^{(1)} \\\\ 1&x_1^{(2)}&x_2^{(2)} \\\\ ... \\\\ 1&x_1^{(m)}&x_2^{(m)} \\end{bmatrix}$\n",
        "\n",
        "$y= \\begin{bmatrix} y^{(1)} \\\\ y^{(2)} \\\\... \\\\ y^{(m)} \\end{bmatrix}$"
      ],
      "metadata": {
        "id": "BGOFnB2OjeO7"
      }
    },
    {
      "cell_type": "markdown",
      "source": [
        "퍼셉트론의 수식 표현: $sign(h(x))$\n",
        "\n",
        "$sign(h(x)): \\begin{Bmatrix} h(x)>0: +1 \\\\ h(x)<0: -1  \\end{Bmatrix} $\n"
      ],
      "metadata": {
        "id": "9_5XtMO_mP1t"
      }
    },
    {
      "cell_type": "markdown",
      "source": [
        "#1. 패키지 로드"
      ],
      "metadata": {
        "id": "_3hhNEJ_cROB"
      }
    },
    {
      "cell_type": "code",
      "execution_count": 159,
      "metadata": {
        "id": "HHwtMWnxicYS"
      },
      "outputs": [],
      "source": [
        "import pandas as pd\n",
        "import numpy as np\n",
        "import matplotlib.pyplot as plt\n",
        "import seaborn as sns\n",
        "%matplotlib inline \n",
        "\n",
        "#무슨 의미인지 설명 "
      ]
    },
    {
      "cell_type": "markdown",
      "source": [
        "* 시드 고정"
      ],
      "metadata": {
        "id": "Tv55ayOkcUkr"
      }
    },
    {
      "cell_type": "code",
      "source": [
        "np.random.seed(37)"
      ],
      "metadata": {
        "id": "qPOzQWQ56nli"
      },
      "execution_count": 160,
      "outputs": []
    },
    {
      "cell_type": "markdown",
      "source": [
        "#2. 데이터 생성(선형분리가 가능한 데이터)"
      ],
      "metadata": {
        "id": "bF4QJgI0cQVc"
      }
    },
    {
      "cell_type": "code",
      "source": [
        "#training data gerneration\n",
        "m = 100\n",
        "\n",
        "x1 = 8*np.random.rand(m, 1) #mX1 행렬 \n",
        "x2 = 7*np.random.rand(m, 1) - 4\n",
        "\n",
        "g = 0.8*x1 + x2 - 3"
      ],
      "metadata": {
        "id": "8K1RhosOjhR8"
      },
      "execution_count": 161,
      "outputs": []
    },
    {
      "cell_type": "code",
      "source": [
        "data = pd.DataFrame({'x1': x1.reshape(-1),\n",
        "                    'x2': x2.reshape(-1),\n",
        "                    'g' : g.reshape(-1)})"
      ],
      "metadata": {
        "id": "Sg2WoLsj90NI"
      },
      "execution_count": 162,
      "outputs": []
    },
    {
      "cell_type": "code",
      "source": [
        "plt.figure(figsize=(10, 8))\n",
        "sns.scatterplot(data = data, x = 'x1', y = 'x2')\n",
        "plt.xlabel(r'$x_1$', fontsize = 15)\n",
        "plt.ylabel(r'$x_2$', fontsize = 15)\n",
        "plt.show()"
      ],
      "metadata": {
        "colab": {
          "base_uri": "https://localhost:8080/",
          "height": 502
        },
        "id": "b4PevHid7SmF",
        "outputId": "92f56f50-236a-4db2-d049-dea3117ce24e"
      },
      "execution_count": 163,
      "outputs": [
        {
          "output_type": "display_data",
          "data": {
            "text/plain": [
              "<Figure size 720x576 with 1 Axes>"
            ],
            "image/png": "[encoded data removed]"
          },
          "metadata": {
            "needs_background": "light"
          }
        }
      ]
    },
    {
      "cell_type": "markdown",
      "source": [
        "* 선형 분리가 가능하도록 데이터 필터링"
      ],
      "metadata": {
        "id": "nvpP7oH9c1kc"
      }
    },
    {
      "cell_type": "code",
      "source": [
        "C1 = np.where(g >= 1) #조건 만족하는 위치 인덱스 찾기\n",
        "C0 = np.where(g < -1)  \n",
        "print(C1)"
      ],
      "metadata": {
        "colab": {
          "base_uri": "https://localhost:8080/"
        },
        "id": "BMu-xQqGjkWc",
        "outputId": "5e2e664e-ae1d-4ac4-de9f-4a2d6fbc285f"
      },
      "execution_count": 164,
      "outputs": [
        {
          "output_type": "stream",
          "name": "stdout",
          "text": [
            "(array([ 0,  3,  4,  7,  9, 13, 23, 25, 29, 30, 32, 38, 41, 42, 44, 45, 48,\n",
            "       52, 54, 55, 56, 57, 62, 63, 64, 65, 69, 70, 71, 73, 76, 85, 90, 93]), array([0, 0, 0, 0, 0, 0, 0, 0, 0, 0, 0, 0, 0, 0, 0, 0, 0, 0, 0, 0, 0, 0,\n",
            "       0, 0, 0, 0, 0, 0, 0, 0, 0, 0, 0, 0]))\n"
          ]
        }
      ]
    },
    {
      "cell_type": "code",
      "source": [
        "C1 = np.where(g >= 1)[0]\n",
        "C0 = np.where(g < -1)[0]\n",
        "print(C1.shape)\n",
        "print(C0.shape)"
      ],
      "metadata": {
        "colab": {
          "base_uri": "https://localhost:8080/"
        },
        "id": "XUXJ2Hznjl7c",
        "outputId": "47ca095a-a243-4928-c0b7-d7d7cb225938"
      },
      "execution_count": 165,
      "outputs": [
        {
          "output_type": "stream",
          "name": "stdout",
          "text": [
            "(34,)\n",
            "(30,)\n"
          ]
        }
      ]
    },
    {
      "cell_type": "code",
      "source": [
        "data.loc[C1]"
      ],
      "metadata": {
        "colab": {
          "base_uri": "https://localhost:8080/",
          "height": 1000
        },
        "id": "cqD4bjWvdJnA",
        "outputId": "3808aa47-117d-4954-fdf5-bd5a08c5a523"
      },
      "execution_count": 166,
      "outputs": [
        {
          "output_type": "execute_result",
          "data": {
            "text/plain": [
              "          x1        x2         g\n",
              "0   7.555973 -0.806418  2.238360\n",
              "3   4.655159  0.943243  1.667370\n",
              "4   4.960674  1.367362  2.335901\n",
              "7   5.963806  0.829592  2.600637\n",
              "9   6.027397  0.722230  2.544148\n",
              "13  7.707723  0.776888  3.943066\n",
              "23  2.917798  2.467617  1.801855\n",
              "25  7.761942  0.037319  3.246872\n",
              "29  7.220276 -0.630949  2.145272\n",
              "30  6.108605  1.726635  3.613520\n",
              "32  2.925489  1.706876  1.047268\n",
              "38  6.448307  2.579361  4.738006\n",
              "41  3.721867  1.217904  1.195398\n",
              "42  2.694807  2.702510  1.858356\n",
              "44  7.494333 -0.540315  2.455152\n",
              "45  7.012437  1.751998  4.361947\n",
              "48  5.631205  0.575087  2.080051\n",
              "52  7.222868  2.863873  5.642167\n",
              "54  7.816410 -1.699588  1.553540\n",
              "55  4.645395  1.057223  1.773539\n",
              "56  7.802846  0.340412  3.582689\n",
              "57  4.698279  1.400513  2.159136\n",
              "62  5.037059  0.311621  1.341268\n",
              "63  6.904491  1.274667  3.798259\n",
              "64  2.688249  2.872992  2.023591\n",
              "65  5.526017 -0.362580  1.058234\n",
              "69  4.780165  0.557306  1.381438\n",
              "70  7.519846  0.241048  3.256925\n",
              "71  7.724007 -1.135525  2.043681\n",
              "73  7.404350  0.456199  3.379679\n",
              "76  7.759194 -1.030188  2.177167\n",
              "85  7.783385 -2.012510  1.214197\n",
              "90  5.317445  2.801159  4.055115\n",
              "93  4.380631  2.647613  3.152118"
            ],
            "text/html": [
              "\n",
              "  <div id=\"df-cb92f041-bed7-401f-9da4-977ee90466d5\">\n",
              "    <div class=\"colab-df-container\">\n",
              "      <div>\n",
              "<style scoped>\n",
              "    .dataframe tbody tr th:only-of-type {\n",
              "        vertical-align: middle;\n",
              "    }\n",
              "\n",
              "    .dataframe tbody tr th {\n",
              "        vertical-align: top;\n",
              "    }\n",
              "\n",
              "    .dataframe thead th {\n",
              "        text-align: right;\n",
              "    }\n",
              "</style>\n",
              "<table border=\"1\" class=\"dataframe\">\n",
              "  <thead>\n",
              "    <tr style=\"text-align: right;\">\n",
              "      <th></th>\n",
              "      <th>x1</th>\n",
              "      <th>x2</th>\n",
              "      <th>g</th>\n",
              "    </tr>\n",
              "  </thead>\n",
              "  <tbody>\n",
              "    <tr>\n",
              "      <th>0</th>\n",
              "      <td>7.555973</td>\n",
              "      <td>-0.806418</td>\n",
              "      <td>2.238360</td>\n",
              "    </tr>\n",
              "    <tr>\n",
              "      <th>3</th>\n",
              "      <td>4.655159</td>\n",
              "      <td>0.943243</td>\n",
              "      <td>1.667370</td>\n",
              "    </tr>\n",
              "    <tr>\n",
              "      <th>4</th>\n",
              "      <td>4.960674</td>\n",
              "      <td>1.367362</td>\n",
              "      <td>2.335901</td>\n",
              "    </tr>\n",
              "    <tr>\n",
              "      <th>7</th>\n",
              "      <td>5.963806</td>\n",
              "      <td>0.829592</td>\n",
              "      <td>2.600637</td>\n",
              "    </tr>\n",
              "    <tr>\n",
              "      <th>9</th>\n",
              "      <td>6.027397</td>\n",
              "      <td>0.722230</td>\n",
              "      <td>2.544148</td>\n",
              "    </tr>\n",
              "    <tr>\n",
              "      <th>13</th>\n",
              "      <td>7.707723</td>\n",
              "      <td>0.776888</td>\n",
              "      <td>3.943066</td>\n",
              "    </tr>\n",
              "    <tr>\n",
              "      <th>23</th>\n",
              "      <td>2.917798</td>\n",
              "      <td>2.467617</td>\n",
              "      <td>1.801855</td>\n",
              "    </tr>\n",
              "    <tr>\n",
              "      <th>25</th>\n",
              "      <td>7.761942</td>\n",
              "      <td>0.037319</td>\n",
              "      <td>3.246872</td>\n",
              "    </tr>\n",
              "    <tr>\n",
              "      <th>29</th>\n",
              "      <td>7.220276</td>\n",
              "      <td>-0.630949</td>\n",
              "      <td>2.145272</td>\n",
              "    </tr>\n",
              "    <tr>\n",
              "      <th>30</th>\n",
              "      <td>6.108605</td>\n",
              "      <td>1.726635</td>\n",
              "      <td>3.613520</td>\n",
              "    </tr>\n",
              "    <tr>\n",
              "      <th>32</th>\n",
              "      <td>2.925489</td>\n",
              "      <td>1.706876</td>\n",
              "      <td>1.047268</td>\n",
              "    </tr>\n",
              "    <tr>\n",
              "      <th>38</th>\n",
              "      <td>6.448307</td>\n",
              "      <td>2.579361</td>\n",
              "      <td>4.738006</td>\n",
              "    </tr>\n",
              "    <tr>\n",
              "      <th>41</th>\n",
              "      <td>3.721867</td>\n",
              "      <td>1.217904</td>\n",
              "      <td>1.195398</td>\n",
              "    </tr>\n",
              "    <tr>\n",
              "      <th>42</th>\n",
              "      <td>2.694807</td>\n",
              "      <td>2.702510</td>\n",
              "      <td>1.858356</td>\n",
              "    </tr>\n",
              "    <tr>\n",
              "      <th>44</th>\n",
              "      <td>7.494333</td>\n",
              "      <td>-0.540315</td>\n",
              "      <td>2.455152</td>\n",
              "    </tr>\n",
              "    <tr>\n",
              "      <th>45</th>\n",
              "      <td>7.012437</td>\n",
              "      <td>1.751998</td>\n",
              "      <td>4.361947</td>\n",
              "    </tr>\n",
              "    <tr>\n",
              "      <th>48</th>\n",
              "      <td>5.631205</td>\n",
              "      <td>0.575087</td>\n",
              "      <td>2.080051</td>\n",
              "    </tr>\n",
              "    <tr>\n",
              "      <th>52</th>\n",
              "      <td>7.222868</td>\n",
              "      <td>2.863873</td>\n",
              "      <td>5.642167</td>\n",
              "    </tr>\n",
              "    <tr>\n",
              "      <th>54</th>\n",
              "      <td>7.816410</td>\n",
              "      <td>-1.699588</td>\n",
              "      <td>1.553540</td>\n",
              "    </tr>\n",
              "    <tr>\n",
              "      <th>55</th>\n",
              "      <td>4.645395</td>\n",
              "      <td>1.057223</td>\n",
              "      <td>1.773539</td>\n",
              "    </tr>\n",
              "    <tr>\n",
              "      <th>56</th>\n",
              "      <td>7.802846</td>\n",
              "      <td>0.340412</td>\n",
              "      <td>3.582689</td>\n",
              "    </tr>\n",
              "    <tr>\n",
              "      <th>57</th>\n",
              "      <td>4.698279</td>\n",
              "      <td>1.400513</td>\n",
              "      <td>2.159136</td>\n",
              "    </tr>\n",
              "    <tr>\n",
              "      <th>62</th>\n",
              "      <td>5.037059</td>\n",
              "      <td>0.311621</td>\n",
              "      <td>1.341268</td>\n",
              "    </tr>\n",
              "    <tr>\n",
              "      <th>63</th>\n",
              "      <td>6.904491</td>\n",
              "      <td>1.274667</td>\n",
              "      <td>3.798259</td>\n",
              "    </tr>\n",
              "    <tr>\n",
              "      <th>64</th>\n",
              "      <td>2.688249</td>\n",
              "      <td>2.872992</td>\n",
              "      <td>2.023591</td>\n",
              "    </tr>\n",
              "    <tr>\n",
              "      <th>65</th>\n",
              "      <td>5.526017</td>\n",
              "      <td>-0.362580</td>\n",
              "      <td>1.058234</td>\n",
              "    </tr>\n",
              "    <tr>\n",
              "      <th>69</th>\n",
              "      <td>4.780165</td>\n",
              "      <td>0.557306</td>\n",
              "      <td>1.381438</td>\n",
              "    </tr>\n",
              "    <tr>\n",
              "      <th>70</th>\n",
              "      <td>7.519846</td>\n",
              "      <td>0.241048</td>\n",
              "      <td>3.256925</td>\n",
              "    </tr>\n",
              "    <tr>\n",
              "      <th>71</th>\n",
              "      <td>7.724007</td>\n",
              "      <td>-1.135525</td>\n",
              "      <td>2.043681</td>\n",
              "    </tr>\n",
              "    <tr>\n",
              "      <th>73</th>\n",
              "      <td>7.404350</td>\n",
              "      <td>0.456199</td>\n",
              "      <td>3.379679</td>\n",
              "    </tr>\n",
              "    <tr>\n",
              "      <th>76</th>\n",
              "      <td>7.759194</td>\n",
              "      <td>-1.030188</td>\n",
              "      <td>2.177167</td>\n",
              "    </tr>\n",
              "    <tr>\n",
              "      <th>85</th>\n",
              "      <td>7.783385</td>\n",
              "      <td>-2.012510</td>\n",
              "      <td>1.214197</td>\n",
              "    </tr>\n",
              "    <tr>\n",
              "      <th>90</th>\n",
              "      <td>5.317445</td>\n",
              "      <td>2.801159</td>\n",
              "      <td>4.055115</td>\n",
              "    </tr>\n",
              "    <tr>\n",
              "      <th>93</th>\n",
              "      <td>4.380631</td>\n",
              "      <td>2.647613</td>\n",
              "      <td>3.152118</td>\n",
              "    </tr>\n",
              "  </tbody>\n",
              "</table>\n",
              "</div>\n",
              "      <button class=\"colab-df-convert\" onclick=\"convertToInteractive('df-cb92f041-bed7-401f-9da4-977ee90466d5')\"\n",
              "              title=\"Convert this dataframe to an interactive table.\"\n",
              "              style=\"display:none;\">\n",
              "        \n",
              "  <svg xmlns=\"http://www.w3.org/2000/svg\" height=\"24px\"viewBox=\"0 0 24 24\"\n",
              "       width=\"24px\">\n",
              "    <path d=\"M0 0h24v24H0V0z\" fill=\"none\"/>\n",
              "    <path d=\"M18.56 5.44l.94 2.06.94-2.06 2.06-.94-2.06-.94-.94-2.06-.94 2.06-2.06.94zm-11 1L8.5 8.5l.94-2.06 2.06-.94-2.06-.94L8.5 2.5l-.94 2.06-2.06.94zm10 10l.94 2.06.94-2.06 2.06-.94-2.06-.94-.94-2.06-.94 2.06-2.06.94z\"/><path d=\"M17.41 7.96l-1.37-1.37c-.4-.4-.92-.59-1.43-.59-.52 0-1.04.2-1.43.59L10.3 9.45l-7.72 7.72c-.78.78-.78 2.05 0 2.83L4 21.41c.39.39.9.59 1.41.59.51 0 1.02-.2 1.41-.59l7.78-7.78 2.81-2.81c.8-.78.8-2.07 0-2.86zM5.41 20L4 18.59l7.72-7.72 1.47 1.35L5.41 20z\"/>\n",
              "  </svg>\n",
              "      </button>\n",
              "      \n",
              "  <style>\n",
              "    .colab-df-container {\n",
              "      display:flex;\n",
              "      flex-wrap:wrap;\n",
              "      gap: 12px;\n",
              "    }\n",
              "\n",
              "    .colab-df-convert {\n",
              "      background-color: #E8F0FE;\n",
              "      border: none;\n",
              "      border-radius: 50%;\n",
              "      cursor: pointer;\n",
              "      display: none;\n",
              "      fill: #1967D2;\n",
              "      height: 32px;\n",
              "      padding: 0 0 0 0;\n",
              "      width: 32px;\n",
              "    }\n",
              "\n",
              "    .colab-df-convert:hover {\n",
              "      background-color: #E2EBFA;\n",
              "      box-shadow: 0px 1px 2px rgba(60, 64, 67, 0.3), 0px 1px 3px 1px rgba(60, 64, 67, 0.15);\n",
              "      fill: #174EA6;\n",
              "    }\n",
              "\n",
              "    [theme=dark] .colab-df-convert {\n",
              "      background-color: #3B4455;\n",
              "      fill: #D2E3FC;\n",
              "    }\n",
              "\n",
              "    [theme=dark] .colab-df-convert:hover {\n",
              "      background-color: #434B5C;\n",
              "      box-shadow: 0px 1px 3px 1px rgba(0, 0, 0, 0.15);\n",
              "      filter: drop-shadow(0px 1px 2px rgba(0, 0, 0, 0.3));\n",
              "      fill: #FFFFFF;\n",
              "    }\n",
              "  </style>\n",
              "\n",
              "      <script>\n",
              "        const buttonEl =\n",
              "          document.querySelector('#df-cb92f041-bed7-401f-9da4-977ee90466d5 button.colab-df-convert');\n",
              "        buttonEl.style.display =\n",
              "          google.colab.kernel.accessAllowed ? 'block' : 'none';\n",
              "\n",
              "        async function convertToInteractive(key) {\n",
              "          const element = document.querySelector('#df-cb92f041-bed7-401f-9da4-977ee90466d5');\n",
              "          const dataTable =\n",
              "            await google.colab.kernel.invokeFunction('convertToInteractive',\n",
              "                                                     [key], {});\n",
              "          if (!dataTable) return;\n",
              "\n",
              "          const docLinkHtml = 'Like what you see? Visit the ' +\n",
              "            '<a target=\"_blank\" href=https://colab.research.google.com/notebooks/data_table.ipynb>data table notebook</a>'\n",
              "            + ' to learn more about interactive tables.';\n",
              "          element.innerHTML = '';\n",
              "          dataTable['output_type'] = 'display_data';\n",
              "          await google.colab.output.renderOutput(dataTable, element);\n",
              "          const docLink = document.createElement('div');\n",
              "          docLink.innerHTML = docLinkHtml;\n",
              "          element.appendChild(docLink);\n",
              "        }\n",
              "      </script>\n",
              "    </div>\n",
              "  </div>\n",
              "  "
            ]
          },
          "metadata": {},
          "execution_count": 166
        }
      ]
    },
    {
      "cell_type": "code",
      "source": [
        "data.loc[C0]"
      ],
      "metadata": {
        "colab": {
          "base_uri": "https://localhost:8080/",
          "height": 989
        },
        "id": "kzJsesGUdf68",
        "outputId": "49203235-2421-4a95-e7dc-f522760b3822"
      },
      "execution_count": 167,
      "outputs": [
        {
          "output_type": "execute_result",
          "data": {
            "text/plain": [
              "          x1        x2         g\n",
              "2   1.542360 -2.285044 -4.051156\n",
              "15  1.574434 -3.971227 -5.711679\n",
              "17  4.587016 -3.450855 -2.781242\n",
              "21  1.078496 -2.860245 -4.997448\n",
              "28  1.431500  0.501065 -1.353736\n",
              "31  1.590884 -3.242273 -4.969566\n",
              "33  4.764658 -2.349051 -1.537325\n",
              "34  0.320754 -3.763984 -6.507381\n",
              "35  6.597024 -3.691152 -1.413533\n",
              "36  5.122171 -2.812263 -1.714526\n",
              "37  0.153096 -2.337780 -5.215303\n",
              "40  0.028831 -0.281870 -3.258805\n",
              "43  4.283195 -2.835947 -2.409391\n",
              "49  0.309771 -3.251863 -6.004046\n",
              "60  3.545378 -1.735333 -1.899031\n",
              "68  0.317075 -3.670035 -6.416375\n",
              "75  3.265956 -1.339267 -1.726502\n",
              "77  0.570962 -3.062265 -5.605495\n",
              "78  5.498712 -2.719733 -1.320764\n",
              "79  3.768020 -2.737980 -2.723564\n",
              "82  2.588790 -1.217304 -2.146273\n",
              "83  1.099595 -1.492022 -3.612346\n",
              "84  3.475120 -1.307907 -1.527811\n",
              "88  0.845238 -3.961145 -6.284955\n",
              "89  1.760371 -1.349906 -2.941609\n",
              "91  1.545473 -0.783639 -2.547260\n",
              "92  0.974558 -3.816855 -6.037209\n",
              "95  2.970470 -3.059909 -3.683534\n",
              "96  4.933612 -3.375089 -2.428199\n",
              "99  2.859622 -3.833023 -4.545326"
            ],
            "text/html": [
              "\n",
              "  <div id=\"df-5a84c199-9081-416b-b0cb-c4f41e440448\">\n",
              "    <div class=\"colab-df-container\">\n",
              "      <div>\n",
              "<style scoped>\n",
              "    .dataframe tbody tr th:only-of-type {\n",
              "        vertical-align: middle;\n",
              "    }\n",
              "\n",
              "    .dataframe tbody tr th {\n",
              "        vertical-align: top;\n",
              "    }\n",
              "\n",
              "    .dataframe thead th {\n",
              "        text-align: right;\n",
              "    }\n",
              "</style>\n",
              "<table border=\"1\" class=\"dataframe\">\n",
              "  <thead>\n",
              "    <tr style=\"text-align: right;\">\n",
              "      <th></th>\n",
              "      <th>x1</th>\n",
              "      <th>x2</th>\n",
              "      <th>g</th>\n",
              "    </tr>\n",
              "  </thead>\n",
              "  <tbody>\n",
              "    <tr>\n",
              "      <th>2</th>\n",
              "      <td>1.542360</td>\n",
              "      <td>-2.285044</td>\n",
              "      <td>-4.051156</td>\n",
              "    </tr>\n",
              "    <tr>\n",
              "      <th>15</th>\n",
              "      <td>1.574434</td>\n",
              "      <td>-3.971227</td>\n",
              "      <td>-5.711679</td>\n",
              "    </tr>\n",
              "    <tr>\n",
              "      <th>17</th>\n",
              "      <td>4.587016</td>\n",
              "      <td>-3.450855</td>\n",
              "      <td>-2.781242</td>\n",
              "    </tr>\n",
              "    <tr>\n",
              "      <th>21</th>\n",
              "      <td>1.078496</td>\n",
              "      <td>-2.860245</td>\n",
              "      <td>-4.997448</td>\n",
              "    </tr>\n",
              "    <tr>\n",
              "      <th>28</th>\n",
              "      <td>1.431500</td>\n",
              "      <td>0.501065</td>\n",
              "      <td>-1.353736</td>\n",
              "    </tr>\n",
              "    <tr>\n",
              "      <th>31</th>\n",
              "      <td>1.590884</td>\n",
              "      <td>-3.242273</td>\n",
              "      <td>-4.969566</td>\n",
              "    </tr>\n",
              "    <tr>\n",
              "      <th>33</th>\n",
              "      <td>4.764658</td>\n",
              "      <td>-2.349051</td>\n",
              "      <td>-1.537325</td>\n",
              "    </tr>\n",
              "    <tr>\n",
              "      <th>34</th>\n",
              "      <td>0.320754</td>\n",
              "      <td>-3.763984</td>\n",
              "      <td>-6.507381</td>\n",
              "    </tr>\n",
              "    <tr>\n",
              "      <th>35</th>\n",
              "      <td>6.597024</td>\n",
              "      <td>-3.691152</td>\n",
              "      <td>-1.413533</td>\n",
              "    </tr>\n",
              "    <tr>\n",
              "      <th>36</th>\n",
              "      <td>5.122171</td>\n",
              "      <td>-2.812263</td>\n",
              "      <td>-1.714526</td>\n",
              "    </tr>\n",
              "    <tr>\n",
              "      <th>37</th>\n",
              "      <td>0.153096</td>\n",
              "      <td>-2.337780</td>\n",
              "      <td>-5.215303</td>\n",
              "    </tr>\n",
              "    <tr>\n",
              "      <th>40</th>\n",
              "      <td>0.028831</td>\n",
              "      <td>-0.281870</td>\n",
              "      <td>-3.258805</td>\n",
              "    </tr>\n",
              "    <tr>\n",
              "      <th>43</th>\n",
              "      <td>4.283195</td>\n",
              "      <td>-2.835947</td>\n",
              "      <td>-2.409391</td>\n",
              "    </tr>\n",
              "    <tr>\n",
              "      <th>49</th>\n",
              "      <td>0.309771</td>\n",
              "      <td>-3.251863</td>\n",
              "      <td>-6.004046</td>\n",
              "    </tr>\n",
              "    <tr>\n",
              "      <th>60</th>\n",
              "      <td>3.545378</td>\n",
              "      <td>-1.735333</td>\n",
              "      <td>-1.899031</td>\n",
              "    </tr>\n",
              "    <tr>\n",
              "      <th>68</th>\n",
              "      <td>0.317075</td>\n",
              "      <td>-3.670035</td>\n",
              "      <td>-6.416375</td>\n",
              "    </tr>\n",
              "    <tr>\n",
              "      <th>75</th>\n",
              "      <td>3.265956</td>\n",
              "      <td>-1.339267</td>\n",
              "      <td>-1.726502</td>\n",
              "    </tr>\n",
              "    <tr>\n",
              "      <th>77</th>\n",
              "      <td>0.570962</td>\n",
              "      <td>-3.062265</td>\n",
              "      <td>-5.605495</td>\n",
              "    </tr>\n",
              "    <tr>\n",
              "      <th>78</th>\n",
              "      <td>5.498712</td>\n",
              "      <td>-2.719733</td>\n",
              "      <td>-1.320764</td>\n",
              "    </tr>\n",
              "    <tr>\n",
              "      <th>79</th>\n",
              "      <td>3.768020</td>\n",
              "      <td>-2.737980</td>\n",
              "      <td>-2.723564</td>\n",
              "    </tr>\n",
              "    <tr>\n",
              "      <th>82</th>\n",
              "      <td>2.588790</td>\n",
              "      <td>-1.217304</td>\n",
              "      <td>-2.146273</td>\n",
              "    </tr>\n",
              "    <tr>\n",
              "      <th>83</th>\n",
              "      <td>1.099595</td>\n",
              "      <td>-1.492022</td>\n",
              "      <td>-3.612346</td>\n",
              "    </tr>\n",
              "    <tr>\n",
              "      <th>84</th>\n",
              "      <td>3.475120</td>\n",
              "      <td>-1.307907</td>\n",
              "      <td>-1.527811</td>\n",
              "    </tr>\n",
              "    <tr>\n",
              "      <th>88</th>\n",
              "      <td>0.845238</td>\n",
              "      <td>-3.961145</td>\n",
              "      <td>-6.284955</td>\n",
              "    </tr>\n",
              "    <tr>\n",
              "      <th>89</th>\n",
              "      <td>1.760371</td>\n",
              "      <td>-1.349906</td>\n",
              "      <td>-2.941609</td>\n",
              "    </tr>\n",
              "    <tr>\n",
              "      <th>91</th>\n",
              "      <td>1.545473</td>\n",
              "      <td>-0.783639</td>\n",
              "      <td>-2.547260</td>\n",
              "    </tr>\n",
              "    <tr>\n",
              "      <th>92</th>\n",
              "      <td>0.974558</td>\n",
              "      <td>-3.816855</td>\n",
              "      <td>-6.037209</td>\n",
              "    </tr>\n",
              "    <tr>\n",
              "      <th>95</th>\n",
              "      <td>2.970470</td>\n",
              "      <td>-3.059909</td>\n",
              "      <td>-3.683534</td>\n",
              "    </tr>\n",
              "    <tr>\n",
              "      <th>96</th>\n",
              "      <td>4.933612</td>\n",
              "      <td>-3.375089</td>\n",
              "      <td>-2.428199</td>\n",
              "    </tr>\n",
              "    <tr>\n",
              "      <th>99</th>\n",
              "      <td>2.859622</td>\n",
              "      <td>-3.833023</td>\n",
              "      <td>-4.545326</td>\n",
              "    </tr>\n",
              "  </tbody>\n",
              "</table>\n",
              "</div>\n",
              "      <button class=\"colab-df-convert\" onclick=\"convertToInteractive('df-5a84c199-9081-416b-b0cb-c4f41e440448')\"\n",
              "              title=\"Convert this dataframe to an interactive table.\"\n",
              "              style=\"display:none;\">\n",
              "        \n",
              "  <svg xmlns=\"http://www.w3.org/2000/svg\" height=\"24px\"viewBox=\"0 0 24 24\"\n",
              "       width=\"24px\">\n",
              "    <path d=\"M0 0h24v24H0V0z\" fill=\"none\"/>\n",
              "    <path d=\"M18.56 5.44l.94 2.06.94-2.06 2.06-.94-2.06-.94-.94-2.06-.94 2.06-2.06.94zm-11 1L8.5 8.5l.94-2.06 2.06-.94-2.06-.94L8.5 2.5l-.94 2.06-2.06.94zm10 10l.94 2.06.94-2.06 2.06-.94-2.06-.94-.94-2.06-.94 2.06-2.06.94z\"/><path d=\"M17.41 7.96l-1.37-1.37c-.4-.4-.92-.59-1.43-.59-.52 0-1.04.2-1.43.59L10.3 9.45l-7.72 7.72c-.78.78-.78 2.05 0 2.83L4 21.41c.39.39.9.59 1.41.59.51 0 1.02-.2 1.41-.59l7.78-7.78 2.81-2.81c.8-.78.8-2.07 0-2.86zM5.41 20L4 18.59l7.72-7.72 1.47 1.35L5.41 20z\"/>\n",
              "  </svg>\n",
              "      </button>\n",
              "      \n",
              "  <style>\n",
              "    .colab-df-container {\n",
              "      display:flex;\n",
              "      flex-wrap:wrap;\n",
              "      gap: 12px;\n",
              "    }\n",
              "\n",
              "    .colab-df-convert {\n",
              "      background-color: #E8F0FE;\n",
              "      border: none;\n",
              "      border-radius: 50%;\n",
              "      cursor: pointer;\n",
              "      display: none;\n",
              "      fill: #1967D2;\n",
              "      height: 32px;\n",
              "      padding: 0 0 0 0;\n",
              "      width: 32px;\n",
              "    }\n",
              "\n",
              "    .colab-df-convert:hover {\n",
              "      background-color: #E2EBFA;\n",
              "      box-shadow: 0px 1px 2px rgba(60, 64, 67, 0.3), 0px 1px 3px 1px rgba(60, 64, 67, 0.15);\n",
              "      fill: #174EA6;\n",
              "    }\n",
              "\n",
              "    [theme=dark] .colab-df-convert {\n",
              "      background-color: #3B4455;\n",
              "      fill: #D2E3FC;\n",
              "    }\n",
              "\n",
              "    [theme=dark] .colab-df-convert:hover {\n",
              "      background-color: #434B5C;\n",
              "      box-shadow: 0px 1px 3px 1px rgba(0, 0, 0, 0.15);\n",
              "      filter: drop-shadow(0px 1px 2px rgba(0, 0, 0, 0.3));\n",
              "      fill: #FFFFFF;\n",
              "    }\n",
              "  </style>\n",
              "\n",
              "      <script>\n",
              "        const buttonEl =\n",
              "          document.querySelector('#df-5a84c199-9081-416b-b0cb-c4f41e440448 button.colab-df-convert');\n",
              "        buttonEl.style.display =\n",
              "          google.colab.kernel.accessAllowed ? 'block' : 'none';\n",
              "\n",
              "        async function convertToInteractive(key) {\n",
              "          const element = document.querySelector('#df-5a84c199-9081-416b-b0cb-c4f41e440448');\n",
              "          const dataTable =\n",
              "            await google.colab.kernel.invokeFunction('convertToInteractive',\n",
              "                                                     [key], {});\n",
              "          if (!dataTable) return;\n",
              "\n",
              "          const docLinkHtml = 'Like what you see? Visit the ' +\n",
              "            '<a target=\"_blank\" href=https://colab.research.google.com/notebooks/data_table.ipynb>data table notebook</a>'\n",
              "            + ' to learn more about interactive tables.';\n",
              "          element.innerHTML = '';\n",
              "          dataTable['output_type'] = 'display_data';\n",
              "          await google.colab.output.renderOutput(dataTable, element);\n",
              "          const docLink = document.createElement('div');\n",
              "          docLink.innerHTML = docLinkHtml;\n",
              "          element.appendChild(docLink);\n",
              "        }\n",
              "      </script>\n",
              "    </div>\n",
              "  </div>\n",
              "  "
            ]
          },
          "metadata": {},
          "execution_count": 167
        }
      ]
    },
    {
      "cell_type": "code",
      "source": [
        "plt.figure(figsize=(10, 8))\n",
        "sns.scatterplot(data = data.loc[C1], x = 'x1', y = 'x2', label = 'C1')\n",
        "sns.scatterplot(data = data.loc[C0], x = 'x1', y = 'x2', label = 'C0')\n",
        "plt.xlabel(r'$x_1$', fontsize = 15)\n",
        "plt.ylabel(r'$x_2$', fontsize = 15)\n",
        "plt.title('Linearly Separable Classes', fontsize = 15)\n",
        "plt.show()"
      ],
      "metadata": {
        "colab": {
          "base_uri": "https://localhost:8080/",
          "height": 520
        },
        "id": "v5YtWjUtdjZa",
        "outputId": "802887cc-a844-4fd3-cea5-d73ba7a639b7"
      },
      "execution_count": 168,
      "outputs": [
        {
          "output_type": "display_data",
          "data": {
            "text/plain": [
              "<Figure size 720x576 with 1 Axes>"
            ],
            "image/png": "[encoded data removed]"
          },
          "metadata": {
            "needs_background": "light"
          }
        }
      ]
    },
    {
      "cell_type": "markdown",
      "source": [
        "#3. 데이터 전처리"
      ],
      "metadata": {
        "id": "9MmVC6q6f2RB"
      }
    },
    {
      "cell_type": "markdown",
      "source": [
        "* 행렬 형태로 표현"
      ],
      "metadata": {
        "id": "enpzpRYHgBaF"
      }
    },
    {
      "cell_type": "code",
      "source": [
        "N = C1.shape[0]\n",
        "M = C0.shape[0]\n"
      ],
      "metadata": {
        "id": "5LFYfYFkebTO"
      },
      "execution_count": 169,
      "outputs": []
    },
    {
      "cell_type": "code",
      "source": [
        "np.ones([N,1])"
      ],
      "metadata": {
        "colab": {
          "base_uri": "https://localhost:8080/"
        },
        "id": "q1ifi1LQfD34",
        "outputId": "b4bba5a6-7887-4e91-ffb8-8aaa6dbf7c50"
      },
      "execution_count": 170,
      "outputs": [
        {
          "output_type": "execute_result",
          "data": {
            "text/plain": [
              "array([[1.],\n",
              "       [1.],\n",
              "       [1.],\n",
              "       [1.],\n",
              "       [1.],\n",
              "       [1.],\n",
              "       [1.],\n",
              "       [1.],\n",
              "       [1.],\n",
              "       [1.],\n",
              "       [1.],\n",
              "       [1.],\n",
              "       [1.],\n",
              "       [1.],\n",
              "       [1.],\n",
              "       [1.],\n",
              "       [1.],\n",
              "       [1.],\n",
              "       [1.],\n",
              "       [1.],\n",
              "       [1.],\n",
              "       [1.],\n",
              "       [1.],\n",
              "       [1.],\n",
              "       [1.],\n",
              "       [1.],\n",
              "       [1.],\n",
              "       [1.],\n",
              "       [1.],\n",
              "       [1.],\n",
              "       [1.],\n",
              "       [1.],\n",
              "       [1.],\n",
              "       [1.]])"
            ]
          },
          "metadata": {},
          "execution_count": 170
        }
      ]
    },
    {
      "cell_type": "code",
      "source": [
        "np.hstack([np.ones([N,1]), x1[C1], x2[C1]])"
      ],
      "metadata": {
        "colab": {
          "base_uri": "https://localhost:8080/"
        },
        "id": "8eQjnjsmfcOT",
        "outputId": "4d3f72de-15eb-45b0-8e8f-34cd098c2dbe"
      },
      "execution_count": 171,
      "outputs": [
        {
          "output_type": "execute_result",
          "data": {
            "text/plain": [
              "array([[ 1.        ,  7.55597282, -0.80641819],\n",
              "       [ 1.        ,  4.65515902,  0.94324301],\n",
              "       [ 1.        ,  4.96067368,  1.36736231],\n",
              "       [ 1.        ,  5.96380613,  0.82959242],\n",
              "       [ 1.        ,  6.0273967 ,  0.72223037],\n",
              "       [ 1.        ,  7.70772282,  0.77688768],\n",
              "       [ 1.        ,  2.91779809,  2.46761657],\n",
              "       [ 1.        ,  7.76194177,  0.03731874],\n",
              "       [ 1.        ,  7.22027591, -0.63094858],\n",
              "       [ 1.        ,  6.10860548,  1.72663542],\n",
              "       [ 1.        ,  2.92548934,  1.70687632],\n",
              "       [ 1.        ,  6.44830697,  2.57936056],\n",
              "       [ 1.        ,  3.72186733,  1.21790387],\n",
              "       [ 1.        ,  2.69480735,  2.70250963],\n",
              "       [ 1.        ,  7.49433278, -0.54031459],\n",
              "       [ 1.        ,  7.0124372 ,  1.75199772],\n",
              "       [ 1.        ,  5.63120524,  0.57508688],\n",
              "       [ 1.        ,  7.22286768,  2.86387271],\n",
              "       [ 1.        ,  7.81640993, -1.69958777],\n",
              "       [ 1.        ,  4.6453947 ,  1.05722329],\n",
              "       [ 1.        ,  7.80284633,  0.34041153],\n",
              "       [ 1.        ,  4.69827911,  1.40051317],\n",
              "       [ 1.        ,  5.03705854,  0.31162129],\n",
              "       [ 1.        ,  6.90449077,  1.27466658],\n",
              "       [ 1.        ,  2.68824893,  2.87299212],\n",
              "       [ 1.        ,  5.52601747, -0.36258013],\n",
              "       [ 1.        ,  4.78016547,  0.55730577],\n",
              "       [ 1.        ,  7.51984557,  0.24104826],\n",
              "       [ 1.        ,  7.72400672, -1.13552481],\n",
              "       [ 1.        ,  7.40435007,  0.45619904],\n",
              "       [ 1.        ,  7.75919355, -1.03018806],\n",
              "       [ 1.        ,  7.78338459, -2.01251041],\n",
              "       [ 1.        ,  5.31744457,  2.8011592 ],\n",
              "       [ 1.        ,  4.38063148,  2.64761316]])"
            ]
          },
          "metadata": {},
          "execution_count": 171
        }
      ]
    },
    {
      "cell_type": "code",
      "source": [
        "X1 = np.hstack([np.ones([N,1]), x1[C1], x2[C1]])\n",
        "X0 = np.hstack([np.ones([M,1]), x1[C0], x2[C0]])"
      ],
      "metadata": {
        "id": "UUAkrZesenIN"
      },
      "execution_count": 172,
      "outputs": []
    },
    {
      "cell_type": "code",
      "source": [
        "X = np.vstack([X1, X0])\n",
        "X\n"
      ],
      "metadata": {
        "id": "OIVo-Mvyjp70",
        "colab": {
          "base_uri": "https://localhost:8080/"
        },
        "outputId": "c86196f0-1001-45c9-990d-d41ffdb378ed"
      },
      "execution_count": 173,
      "outputs": [
        {
          "output_type": "execute_result",
          "data": {
            "text/plain": [
              "array([[ 1.        ,  7.55597282, -0.80641819],\n",
              "       [ 1.        ,  4.65515902,  0.94324301],\n",
              "       [ 1.        ,  4.96067368,  1.36736231],\n",
              "       [ 1.        ,  5.96380613,  0.82959242],\n",
              "       [ 1.        ,  6.0273967 ,  0.72223037],\n",
              "       [ 1.        ,  7.70772282,  0.77688768],\n",
              "       [ 1.        ,  2.91779809,  2.46761657],\n",
              "       [ 1.        ,  7.76194177,  0.03731874],\n",
              "       [ 1.        ,  7.22027591, -0.63094858],\n",
              "       [ 1.        ,  6.10860548,  1.72663542],\n",
              "       [ 1.        ,  2.92548934,  1.70687632],\n",
              "       [ 1.        ,  6.44830697,  2.57936056],\n",
              "       [ 1.        ,  3.72186733,  1.21790387],\n",
              "       [ 1.        ,  2.69480735,  2.70250963],\n",
              "       [ 1.        ,  7.49433278, -0.54031459],\n",
              "       [ 1.        ,  7.0124372 ,  1.75199772],\n",
              "       [ 1.        ,  5.63120524,  0.57508688],\n",
              "       [ 1.        ,  7.22286768,  2.86387271],\n",
              "       [ 1.        ,  7.81640993, -1.69958777],\n",
              "       [ 1.        ,  4.6453947 ,  1.05722329],\n",
              "       [ 1.        ,  7.80284633,  0.34041153],\n",
              "       [ 1.        ,  4.69827911,  1.40051317],\n",
              "       [ 1.        ,  5.03705854,  0.31162129],\n",
              "       [ 1.        ,  6.90449077,  1.27466658],\n",
              "       [ 1.        ,  2.68824893,  2.87299212],\n",
              "       [ 1.        ,  5.52601747, -0.36258013],\n",
              "       [ 1.        ,  4.78016547,  0.55730577],\n",
              "       [ 1.        ,  7.51984557,  0.24104826],\n",
              "       [ 1.        ,  7.72400672, -1.13552481],\n",
              "       [ 1.        ,  7.40435007,  0.45619904],\n",
              "       [ 1.        ,  7.75919355, -1.03018806],\n",
              "       [ 1.        ,  7.78338459, -2.01251041],\n",
              "       [ 1.        ,  5.31744457,  2.8011592 ],\n",
              "       [ 1.        ,  4.38063148,  2.64761316],\n",
              "       [ 1.        ,  1.54236023, -2.28504383],\n",
              "       [ 1.        ,  1.5744343 , -3.9712266 ],\n",
              "       [ 1.        ,  4.58701556, -3.45085485],\n",
              "       [ 1.        ,  1.07849591, -2.86024464],\n",
              "       [ 1.        ,  1.43149958,  0.50106469],\n",
              "       [ 1.        ,  1.59088424, -3.24227299],\n",
              "       [ 1.        ,  4.76465817, -2.34905134],\n",
              "       [ 1.        ,  0.32075414, -3.7639843 ],\n",
              "       [ 1.        ,  6.59702387, -3.69115222],\n",
              "       [ 1.        ,  5.12217106, -2.81226296],\n",
              "       [ 1.        ,  0.15309609, -2.33777982],\n",
              "       [ 1.        ,  0.02883107, -0.28186976],\n",
              "       [ 1.        ,  4.2831953 , -2.83594697],\n",
              "       [ 1.        ,  0.30977077, -3.25186274],\n",
              "       [ 1.        ,  3.5453783 , -1.73533321],\n",
              "       [ 1.        ,  0.31707498, -3.67003518],\n",
              "       [ 1.        ,  3.26595613, -1.33926732],\n",
              "       [ 1.        ,  0.57096181, -3.06226455],\n",
              "       [ 1.        ,  5.49871202, -2.71973343],\n",
              "       [ 1.        ,  3.76801983, -2.73797962],\n",
              "       [ 1.        ,  2.58878954, -1.21730414],\n",
              "       [ 1.        ,  1.099595  , -1.49202191],\n",
              "       [ 1.        ,  3.47511967, -1.30790658],\n",
              "       [ 1.        ,  0.84523774, -3.96114488],\n",
              "       [ 1.        ,  1.76037118, -1.34990584],\n",
              "       [ 1.        ,  1.54547328, -0.78363902],\n",
              "       [ 1.        ,  0.97455757, -3.81685521],\n",
              "       [ 1.        ,  2.9704696 , -3.05990929],\n",
              "       [ 1.        ,  4.93361222, -3.37508871],\n",
              "       [ 1.        ,  2.85962164, -3.83302339]])"
            ]
          },
          "metadata": {},
          "execution_count": 173
        }
      ]
    },
    {
      "cell_type": "markdown",
      "source": [
        "* y값(라벨) 행렬 형태로 표현"
      ],
      "metadata": {
        "id": "HsiGoHvZgFSN"
      }
    },
    {
      "cell_type": "code",
      "source": [
        "y = np.vstack([np.ones([N,1]), -np.ones([M,1])])\n",
        "y\n"
      ],
      "metadata": {
        "colab": {
          "base_uri": "https://localhost:8080/"
        },
        "id": "YPs7LxnGflkt",
        "outputId": "6708dbb6-72f9-48b7-a693-a3ecae1baf72"
      },
      "execution_count": 174,
      "outputs": [
        {
          "output_type": "execute_result",
          "data": {
            "text/plain": [
              "array([[ 1.],\n",
              "       [ 1.],\n",
              "       [ 1.],\n",
              "       [ 1.],\n",
              "       [ 1.],\n",
              "       [ 1.],\n",
              "       [ 1.],\n",
              "       [ 1.],\n",
              "       [ 1.],\n",
              "       [ 1.],\n",
              "       [ 1.],\n",
              "       [ 1.],\n",
              "       [ 1.],\n",
              "       [ 1.],\n",
              "       [ 1.],\n",
              "       [ 1.],\n",
              "       [ 1.],\n",
              "       [ 1.],\n",
              "       [ 1.],\n",
              "       [ 1.],\n",
              "       [ 1.],\n",
              "       [ 1.],\n",
              "       [ 1.],\n",
              "       [ 1.],\n",
              "       [ 1.],\n",
              "       [ 1.],\n",
              "       [ 1.],\n",
              "       [ 1.],\n",
              "       [ 1.],\n",
              "       [ 1.],\n",
              "       [ 1.],\n",
              "       [ 1.],\n",
              "       [ 1.],\n",
              "       [ 1.],\n",
              "       [-1.],\n",
              "       [-1.],\n",
              "       [-1.],\n",
              "       [-1.],\n",
              "       [-1.],\n",
              "       [-1.],\n",
              "       [-1.],\n",
              "       [-1.],\n",
              "       [-1.],\n",
              "       [-1.],\n",
              "       [-1.],\n",
              "       [-1.],\n",
              "       [-1.],\n",
              "       [-1.],\n",
              "       [-1.],\n",
              "       [-1.],\n",
              "       [-1.],\n",
              "       [-1.],\n",
              "       [-1.],\n",
              "       [-1.],\n",
              "       [-1.],\n",
              "       [-1.],\n",
              "       [-1.],\n",
              "       [-1.],\n",
              "       [-1.],\n",
              "       [-1.],\n",
              "       [-1.],\n",
              "       [-1.],\n",
              "       [-1.],\n",
              "       [-1.]])"
            ]
          },
          "metadata": {},
          "execution_count": 174
        }
      ]
    },
    {
      "cell_type": "code",
      "source": [
        "X = np.asmatrix(X)\n",
        "y = np.asmatrix(y)"
      ],
      "metadata": {
        "id": "BUGgg4mWfu5v"
      },
      "execution_count": 175,
      "outputs": []
    },
    {
      "cell_type": "code",
      "source": [
        "X, y"
      ],
      "metadata": {
        "colab": {
          "base_uri": "https://localhost:8080/"
        },
        "id": "p9jnJBx0gUtD",
        "outputId": "71901222-fc7b-48a8-8d48-321eb0dd4c89"
      },
      "execution_count": 176,
      "outputs": [
        {
          "output_type": "execute_result",
          "data": {
            "text/plain": [
              "(matrix([[ 1.        ,  7.55597282, -0.80641819],\n",
              "         [ 1.        ,  4.65515902,  0.94324301],\n",
              "         [ 1.        ,  4.96067368,  1.36736231],\n",
              "         [ 1.        ,  5.96380613,  0.82959242],\n",
              "         [ 1.        ,  6.0273967 ,  0.72223037],\n",
              "         [ 1.        ,  7.70772282,  0.77688768],\n",
              "         [ 1.        ,  2.91779809,  2.46761657],\n",
              "         [ 1.        ,  7.76194177,  0.03731874],\n",
              "         [ 1.        ,  7.22027591, -0.63094858],\n",
              "         [ 1.        ,  6.10860548,  1.72663542],\n",
              "         [ 1.        ,  2.92548934,  1.70687632],\n",
              "         [ 1.        ,  6.44830697,  2.57936056],\n",
              "         [ 1.        ,  3.72186733,  1.21790387],\n",
              "         [ 1.        ,  2.69480735,  2.70250963],\n",
              "         [ 1.        ,  7.49433278, -0.54031459],\n",
              "         [ 1.        ,  7.0124372 ,  1.75199772],\n",
              "         [ 1.        ,  5.63120524,  0.57508688],\n",
              "         [ 1.        ,  7.22286768,  2.86387271],\n",
              "         [ 1.        ,  7.81640993, -1.69958777],\n",
              "         [ 1.        ,  4.6453947 ,  1.05722329],\n",
              "         [ 1.        ,  7.80284633,  0.34041153],\n",
              "         [ 1.        ,  4.69827911,  1.40051317],\n",
              "         [ 1.        ,  5.03705854,  0.31162129],\n",
              "         [ 1.        ,  6.90449077,  1.27466658],\n",
              "         [ 1.        ,  2.68824893,  2.87299212],\n",
              "         [ 1.        ,  5.52601747, -0.36258013],\n",
              "         [ 1.        ,  4.78016547,  0.55730577],\n",
              "         [ 1.        ,  7.51984557,  0.24104826],\n",
              "         [ 1.        ,  7.72400672, -1.13552481],\n",
              "         [ 1.        ,  7.40435007,  0.45619904],\n",
              "         [ 1.        ,  7.75919355, -1.03018806],\n",
              "         [ 1.        ,  7.78338459, -2.01251041],\n",
              "         [ 1.        ,  5.31744457,  2.8011592 ],\n",
              "         [ 1.        ,  4.38063148,  2.64761316],\n",
              "         [ 1.        ,  1.54236023, -2.28504383],\n",
              "         [ 1.        ,  1.5744343 , -3.9712266 ],\n",
              "         [ 1.        ,  4.58701556, -3.45085485],\n",
              "         [ 1.        ,  1.07849591, -2.86024464],\n",
              "         [ 1.        ,  1.43149958,  0.50106469],\n",
              "         [ 1.        ,  1.59088424, -3.24227299],\n",
              "         [ 1.        ,  4.76465817, -2.34905134],\n",
              "         [ 1.        ,  0.32075414, -3.7639843 ],\n",
              "         [ 1.        ,  6.59702387, -3.69115222],\n",
              "         [ 1.        ,  5.12217106, -2.81226296],\n",
              "         [ 1.        ,  0.15309609, -2.33777982],\n",
              "         [ 1.        ,  0.02883107, -0.28186976],\n",
              "         [ 1.        ,  4.2831953 , -2.83594697],\n",
              "         [ 1.        ,  0.30977077, -3.25186274],\n",
              "         [ 1.        ,  3.5453783 , -1.73533321],\n",
              "         [ 1.        ,  0.31707498, -3.67003518],\n",
              "         [ 1.        ,  3.26595613, -1.33926732],\n",
              "         [ 1.        ,  0.57096181, -3.06226455],\n",
              "         [ 1.        ,  5.49871202, -2.71973343],\n",
              "         [ 1.        ,  3.76801983, -2.73797962],\n",
              "         [ 1.        ,  2.58878954, -1.21730414],\n",
              "         [ 1.        ,  1.099595  , -1.49202191],\n",
              "         [ 1.        ,  3.47511967, -1.30790658],\n",
              "         [ 1.        ,  0.84523774, -3.96114488],\n",
              "         [ 1.        ,  1.76037118, -1.34990584],\n",
              "         [ 1.        ,  1.54547328, -0.78363902],\n",
              "         [ 1.        ,  0.97455757, -3.81685521],\n",
              "         [ 1.        ,  2.9704696 , -3.05990929],\n",
              "         [ 1.        ,  4.93361222, -3.37508871],\n",
              "         [ 1.        ,  2.85962164, -3.83302339]]), matrix([[ 1.],\n",
              "         [ 1.],\n",
              "         [ 1.],\n",
              "         [ 1.],\n",
              "         [ 1.],\n",
              "         [ 1.],\n",
              "         [ 1.],\n",
              "         [ 1.],\n",
              "         [ 1.],\n",
              "         [ 1.],\n",
              "         [ 1.],\n",
              "         [ 1.],\n",
              "         [ 1.],\n",
              "         [ 1.],\n",
              "         [ 1.],\n",
              "         [ 1.],\n",
              "         [ 1.],\n",
              "         [ 1.],\n",
              "         [ 1.],\n",
              "         [ 1.],\n",
              "         [ 1.],\n",
              "         [ 1.],\n",
              "         [ 1.],\n",
              "         [ 1.],\n",
              "         [ 1.],\n",
              "         [ 1.],\n",
              "         [ 1.],\n",
              "         [ 1.],\n",
              "         [ 1.],\n",
              "         [ 1.],\n",
              "         [ 1.],\n",
              "         [ 1.],\n",
              "         [ 1.],\n",
              "         [ 1.],\n",
              "         [-1.],\n",
              "         [-1.],\n",
              "         [-1.],\n",
              "         [-1.],\n",
              "         [-1.],\n",
              "         [-1.],\n",
              "         [-1.],\n",
              "         [-1.],\n",
              "         [-1.],\n",
              "         [-1.],\n",
              "         [-1.],\n",
              "         [-1.],\n",
              "         [-1.],\n",
              "         [-1.],\n",
              "         [-1.],\n",
              "         [-1.],\n",
              "         [-1.],\n",
              "         [-1.],\n",
              "         [-1.],\n",
              "         [-1.],\n",
              "         [-1.],\n",
              "         [-1.],\n",
              "         [-1.],\n",
              "         [-1.],\n",
              "         [-1.],\n",
              "         [-1.],\n",
              "         [-1.],\n",
              "         [-1.],\n",
              "         [-1.],\n",
              "         [-1.]]))"
            ]
          },
          "metadata": {},
          "execution_count": 176
        }
      ]
    },
    {
      "cell_type": "markdown",
      "source": [
        "#4. 퍼셉트론 학습"
      ],
      "metadata": {
        "id": "svrDRaD-gk5U"
      }
    },
    {
      "cell_type": "markdown",
      "source": [
        "![image.png](data:image/png;base64,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)"
      ],
      "metadata": {
        "id": "YsFkMtBOnOgp"
      }
    },
    {
      "cell_type": "code",
      "source": [
        "w = np.ones([3,1]) #가중치 행렬 (랜덤초기화해도 상관없음)\n",
        "w = np.asmatrix(w)\n",
        "\n"
      ],
      "metadata": {
        "id": "YkvgdCiEjrjs"
      },
      "execution_count": 177,
      "outputs": []
    },
    {
      "cell_type": "code",
      "source": [
        "n_iter = y.shape[0] #모든 데이터를 돌면서 업데이트 \n",
        "for k in range(1000):\n",
        "    for i in range(n_iter):\n",
        "        if y[i,0] != np.sign(X[i,:]*w)[0,0]: #오분류되었을 때 업데이트\n",
        "            #w += y[i,0]*X[i,:].T\n",
        "            w = w + y[i,0]*X[i,:].T\n"
      ],
      "metadata": {
        "id": "eqlELzs3gpP5"
      },
      "execution_count": 178,
      "outputs": []
    },
    {
      "cell_type": "code",
      "source": [
        "print(w)"
      ],
      "metadata": {
        "colab": {
          "base_uri": "https://localhost:8080/"
        },
        "id": "Z_UC_CBshbvJ",
        "outputId": "967823ee-2474-4a65-cd7b-4339835676d4"
      },
      "execution_count": 179,
      "outputs": [
        {
          "output_type": "stream",
          "name": "stdout",
          "text": [
            "[[-20.        ]\n",
            " [  7.66366625]\n",
            " [ 15.14187279]]\n"
          ]
        }
      ]
    },
    {
      "cell_type": "code",
      "source": [
        "w.shape"
      ],
      "metadata": {
        "colab": {
          "base_uri": "https://localhost:8080/"
        },
        "id": "dAl-RY6tn-qm",
        "outputId": "412448bc-8fd9-46ba-aead-486fc9c9334f"
      },
      "execution_count": 180,
      "outputs": [
        {
          "output_type": "execute_result",
          "data": {
            "text/plain": [
              "(3, 1)"
            ]
          },
          "metadata": {},
          "execution_count": 180
        }
      ]
    },
    {
      "cell_type": "markdown",
      "source": [
        "$h(x) = w_0+w^Tx = w_0+w_1x_1+w_2x_2 = 0$\n",
        "\n",
        "$\\rightarrow \\frac{w_1}{w_2}x_1-\\frac{w_0}{w_2}$"
      ],
      "metadata": {
        "id": "0R2DhYuUooVM"
      }
    },
    {
      "cell_type": "code",
      "source": [
        "x1p = np.linspace(0,8,100).reshape(-1,1)\n",
        "x2p = - w[1,0]/w[2,0]*x1p - w[0,0]/w[2,0]\n",
        "\n",
        "plt.figure(figsize=(10, 8))\n",
        "plt.plot(x1p, x2p, c = 'k', linewidth = 3)\n",
        "sns.scatterplot(data = data.loc[C1], x = 'x1', y = 'x2')\n",
        "sns.scatterplot(data = data.loc[C0], x = 'x1', y = 'x2')\n",
        "plt.legend(['perceptron', 'C1','C0'])\n",
        "plt.xlabel(r'$x_1$', fontsize = 15)\n",
        "plt.ylabel(r'$x_2$', fontsize = 15)\n",
        "plt.title('Linearly Separable Classes', fontsize = 15)\n",
        "plt.show()"
      ],
      "metadata": {
        "colab": {
          "base_uri": "https://localhost:8080/",
          "height": 520
        },
        "id": "lb-XxNwonwSL",
        "outputId": "8f9d2a6b-edab-4855-f6bd-b744558750ff"
      },
      "execution_count": 181,
      "outputs": [
        {
          "output_type": "display_data",
          "data": {
            "text/plain": [
              "<Figure size 720x576 with 1 Axes>"
            ],
            "image/png": "[encoded data removed]"
          },
          "metadata": {
            "needs_background": "light"
          }
        }
      ]
    },
    {
      "cell_type": "markdown",
      "source": [
        "# 라이브러리를 활용한 Perceptron 구현"
      ],
      "metadata": {
        "id": "yjxqMyQg1pPy"
      }
    },
    {
      "cell_type": "code",
      "source": [
        "X1 = np.hstack([x1[C1], x2[C1]])   #라이브러리 활용할 때는 bias 별도로 추가안해도 됨 \n",
        "X0 = np.hstack([x1[C0], x2[C0]])\n",
        "X = np.vstack([X1, X0])\n",
        "\n",
        "y = np.vstack([np.ones([C1.shape[0],1]), -np.ones([C0.shape[0],1])])"
      ],
      "metadata": {
        "id": "foXuHrGIrDwg"
      },
      "execution_count": 182,
      "outputs": []
    },
    {
      "cell_type": "code",
      "source": [
        "from sklearn.linear_model import Perceptron \n",
        "\n",
        "clf = Perceptron(tol=1e-3)\n",
        "clf.fit(X, np.ravel(y))"
      ],
      "metadata": {
        "colab": {
          "base_uri": "https://localhost:8080/"
        },
        "id": "nwHm2Gx8jzng",
        "outputId": "4e2eb21d-f9a9-4cca-bd37-fa0c54cab1e4"
      },
      "execution_count": 183,
      "outputs": [
        {
          "output_type": "execute_result",
          "data": {
            "text/plain": [
              "Perceptron()"
            ]
          },
          "metadata": {},
          "execution_count": 183
        }
      ]
    },
    {
      "cell_type": "code",
      "source": [
        "X.shape"
      ],
      "metadata": {
        "colab": {
          "base_uri": "https://localhost:8080/"
        },
        "id": "c4nQutosqsfY",
        "outputId": "ef7e6b58-e01f-44bc-ffc7-100fcfb04cd9"
      },
      "execution_count": 184,
      "outputs": [
        {
          "output_type": "execute_result",
          "data": {
            "text/plain": [
              "(64, 2)"
            ]
          },
          "metadata": {},
          "execution_count": 184
        }
      ]
    },
    {
      "cell_type": "code",
      "source": [
        "clf.predict([[3, -2]])"
      ],
      "metadata": {
        "colab": {
          "base_uri": "https://localhost:8080/"
        },
        "id": "e20FfPDsj01p",
        "outputId": "8b2afa63-78ce-411c-f163-6e2e46f5e7a0"
      },
      "execution_count": 185,
      "outputs": [
        {
          "output_type": "execute_result",
          "data": {
            "text/plain": [
              "array([-1.])"
            ]
          },
          "metadata": {},
          "execution_count": 185
        }
      ]
    },
    {
      "cell_type": "code",
      "source": [
        "clf.predict([[6, 2]])"
      ],
      "metadata": {
        "colab": {
          "base_uri": "https://localhost:8080/"
        },
        "id": "CqiYbp1Kj3cG",
        "outputId": "5008fa41-afd4-42b8-d5a9-69916e996a69"
      },
      "execution_count": 186,
      "outputs": [
        {
          "output_type": "execute_result",
          "data": {
            "text/plain": [
              "array([1.])"
            ]
          },
          "metadata": {},
          "execution_count": 186
        }
      ]
    },
    {
      "cell_type": "code",
      "source": [
        "clf.coef_"
      ],
      "metadata": {
        "colab": {
          "base_uri": "https://localhost:8080/"
        },
        "id": "WBFPRPiYj4hf",
        "outputId": "0ffed9ea-2de4-4b04-9723-3e913ceda5da"
      },
      "execution_count": 187,
      "outputs": [
        {
          "output_type": "execute_result",
          "data": {
            "text/plain": [
              "array([[ 5.66186312, 13.51448742]])"
            ]
          },
          "metadata": {},
          "execution_count": 187
        }
      ]
    },
    {
      "cell_type": "code",
      "source": [
        "clf.intercept_"
      ],
      "metadata": {
        "colab": {
          "base_uri": "https://localhost:8080/"
        },
        "id": "HNg9J3zij5eA",
        "outputId": "a925db88-9533-4af9-ca58-95505c584381"
      },
      "execution_count": 188,
      "outputs": [
        {
          "output_type": "execute_result",
          "data": {
            "text/plain": [
              "array([-15.])"
            ]
          },
          "metadata": {},
          "execution_count": 188
        }
      ]
    },
    {
      "cell_type": "code",
      "source": [
        "#초기 가중치에따라 결과가 조금 달라질 순 있음"
      ],
      "metadata": {
        "id": "xP7VasUAtRyu"
      },
      "execution_count": null,
      "outputs": []
    },
    {
      "cell_type": "code",
      "source": [
        "w0 = clf.intercept_[0]\n",
        "w1 = clf.coef_[0,0]\n",
        "w2 = clf.coef_[0,1]"
      ],
      "metadata": {
        "id": "2dSMeqc2j70e"
      },
      "execution_count": 189,
      "outputs": []
    },
    {
      "cell_type": "code",
      "source": [
        "x1p = np.linspace(0,8,100).reshape(-1,1)\n",
        "x2p = - w1/w2*x1p - w0/w2\n",
        "\n",
        "plt.figure(figsize=(10, 8))\n",
        "plt.plot(x1p, x2p, c = 'k', linewidth = 3)\n",
        "sns.scatterplot(data = data.loc[C1], x = 'x1', y = 'x2')\n",
        "sns.scatterplot(data = data.loc[C0], x = 'x1', y = 'x2')\n",
        "plt.legend(['perceptron', 'C1','C0'])\n",
        "plt.xlabel('$x_1$', fontsize = 15)\n",
        "plt.ylabel('$x_2$', fontsize = 15)\n",
        "plt.show()"
      ],
      "metadata": {
        "colab": {
          "base_uri": "https://localhost:8080/",
          "height": 502
        },
        "id": "itNMGLEJj9I0",
        "outputId": "7f554186-63ef-48f2-c8bc-6ac6b00121cf"
      },
      "execution_count": 192,
      "outputs": [
        {
          "output_type": "display_data",
          "data": {
            "text/plain": [
              "<Figure size 720x576 with 1 Axes>"
            ],
            "image/png": "[encoded data removed]"
          },
          "metadata": {
            "needs_background": "light"
          }
        }
      ]
    }
  ]
}