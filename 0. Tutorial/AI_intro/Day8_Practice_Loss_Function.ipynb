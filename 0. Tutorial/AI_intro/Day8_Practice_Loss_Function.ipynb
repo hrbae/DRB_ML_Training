{
  "nbformat": 4,
  "nbformat_minor": 0,
  "metadata": {
    "colab": {
      "name": "Day8_Practice_Loss_Function.ipynb",
      "provenance": [],
      "authorship_tag": "ABX9TyNqecIpE4GmjjWuWAMOFPoi",
      "include_colab_link": true
    },
    "kernelspec": {
      "name": "python3",
      "display_name": "Python 3"
    },
    "language_info": {
      "name": "python"
    }
  },
  "cells": [
    {
      "cell_type": "markdown",
      "metadata": {
        "id": "view-in-github",
        "colab_type": "text"
      },
      "source": [
        "<a href=\"https://colab.research.google.com/github/hrbae/DRB_ML_Training/blob/main/0.%20Tutorial/AI_intro/Day8_Practice_Loss_Function.ipynb\" target=\"_parent\"><img src=\"https://colab.research.google.com/assets/colab-badge.svg\" alt=\"Open In Colab\"/></a>"
      ]
    },
    {
      "cell_type": "markdown",
      "metadata": {
        "id": "cCLJ671EqRvL"
      },
      "source": [
        "# 0. Initialization"
      ]
    },
    {
      "cell_type": "code",
      "metadata": {
        "id": "RiZQ_SrvJYuu"
      },
      "source": [
        "t = [0, 0, 1, 0, 0, 0, 0, 0, 0, 0]\n",
        "y1 = [0.1, 0.05, 0.6, 0.0, 0.05, 0.1, 0.0, 0.1, 0.0, 0.0]\n",
        "y2 = [0.1, 0.05, 0.1, 0.0, 0.05, 0.1, 0.0, 0.6, 0.0, 0.0]"
      ],
      "execution_count": 1,
      "outputs": []
    },
    {
      "cell_type": "code",
      "metadata": {
        "id": "qMx-JIYml3a3"
      },
      "source": [
        "import numpy as np\n",
        "\n",
        "t = np.array(t)\n",
        "y1 = np.array(y1)\n",
        "y2 = np.array(y2)"
      ],
      "execution_count": 2,
      "outputs": []
    },
    {
      "cell_type": "markdown",
      "metadata": {
        "id": "u698q-2ykRjV"
      },
      "source": [
        "# 1. SSE: Sum Squares Error"
      ]
    },
    {
      "cell_type": "markdown",
      "metadata": {
        "id": "oJlDXJaEqelC"
      },
      "source": [
        "$$SSE=\\sum (Prediction-Real)^2$$"
      ]
    },
    {
      "cell_type": "code",
      "metadata": {
        "id": "1O3iORSdejs5"
      },
      "source": [
        "def sum_squares_error(y, t):\n",
        "  return np.sum((y-t)**2)"
      ],
      "execution_count": 3,
      "outputs": []
    },
    {
      "cell_type": "code",
      "metadata": {
        "colab": {
          "base_uri": "https://localhost:8080/"
        },
        "id": "7rfy-ZeFkYI-",
        "outputId": "e9756f80-ba16-43db-9f94-ad48fdf7e7f5"
      },
      "source": [
        "sum_squares_error(y1, t)"
      ],
      "execution_count": 4,
      "outputs": [
        {
          "output_type": "execute_result",
          "data": {
            "text/plain": [
              "0.09750000000000003"
            ]
          },
          "metadata": {},
          "execution_count": 4
        }
      ]
    },
    {
      "cell_type": "code",
      "metadata": {
        "colab": {
          "base_uri": "https://localhost:8080/"
        },
        "id": "y7PBnhs1kiJX",
        "outputId": "0fb587cc-0ae6-4bb8-a30f-e5df2721815c"
      },
      "source": [
        "sum_squares_error(y2, t)"
      ],
      "execution_count": 5,
      "outputs": [
        {
          "output_type": "execute_result",
          "data": {
            "text/plain": [
              "0.5975"
            ]
          },
          "metadata": {},
          "execution_count": 5
        }
      ]
    },
    {
      "cell_type": "markdown",
      "metadata": {
        "id": "3nUFS_vbk7sT"
      },
      "source": [
        "# 2. Cross entropy error(CEE)"
      ]
    },
    {
      "cell_type": "markdown",
      "metadata": {
        "id": "WwPEUbbQq3w4"
      },
      "source": [
        "$$CEE = -\\sum Real\\log{(Prediction)}$$"
      ]
    },
    {
      "cell_type": "code",
      "metadata": {
        "id": "94NO8pNwk3lY"
      },
      "source": [
        "def cross_entropy_error(y, t):\n",
        "  delta = 1e-7\n",
        "  return -np.sum(t*np.log(y+delta))"
      ],
      "execution_count": 6,
      "outputs": []
    },
    {
      "cell_type": "code",
      "metadata": {
        "id": "kdmloD2urfVq"
      },
      "source": [
        ""
      ],
      "execution_count": null,
      "outputs": []
    },
    {
      "cell_type": "code",
      "metadata": {
        "colab": {
          "base_uri": "https://localhost:8080/"
        },
        "id": "QazR1dcglFZ_",
        "outputId": "4aab8ca7-e56a-4504-e3b8-6082873ceef0"
      },
      "source": [
        "cross_entropy_error(y1, t)"
      ],
      "execution_count": 7,
      "outputs": [
        {
          "output_type": "execute_result",
          "data": {
            "text/plain": [
              "0.510825457099338"
            ]
          },
          "metadata": {},
          "execution_count": 7
        }
      ]
    },
    {
      "cell_type": "code",
      "metadata": {
        "colab": {
          "base_uri": "https://localhost:8080/"
        },
        "id": "c16DiAS7ln3v",
        "outputId": "f336497c-130c-4add-d415-488889754ca5"
      },
      "source": [
        "cross_entropy_error(y2, t)"
      ],
      "execution_count": 8,
      "outputs": [
        {
          "output_type": "execute_result",
          "data": {
            "text/plain": [
              "2.302584092994546"
            ]
          },
          "metadata": {},
          "execution_count": 8
        }
      ]
    },
    {
      "cell_type": "markdown",
      "metadata": {
        "id": "vecsliLRoC3Y"
      },
      "source": [
        "# 3. Mean Absolute Error(MAE)"
      ]
    },
    {
      "cell_type": "markdown",
      "metadata": {
        "id": "8Bc6RAQwrK0P"
      },
      "source": [
        "$$MAE = {1\\over n}\\sum_n|Prediction-Real|$$"
      ]
    },
    {
      "cell_type": "code",
      "metadata": {
        "id": "2ZnY-OMJlzyH"
      },
      "source": [
        "def mean_absolute_error(y, t):\n",
        "  return np.average(np.absolute(y-t))"
      ],
      "execution_count": 9,
      "outputs": []
    },
    {
      "cell_type": "code",
      "metadata": {
        "colab": {
          "base_uri": "https://localhost:8080/"
        },
        "id": "_YUbLRZtpTmf",
        "outputId": "eeb1dc90-f8ed-462c-a734-be733dab430d"
      },
      "source": [
        "mean_absolute_error(y1, t)"
      ],
      "execution_count": 10,
      "outputs": [
        {
          "output_type": "execute_result",
          "data": {
            "text/plain": [
              "0.08"
            ]
          },
          "metadata": {},
          "execution_count": 10
        }
      ]
    },
    {
      "cell_type": "code",
      "metadata": {
        "colab": {
          "base_uri": "https://localhost:8080/"
        },
        "id": "Q_QrXfJtpaom",
        "outputId": "8a0a8db8-33df-479e-aaea-93e243bfe69e"
      },
      "source": [
        "mean_absolute_error(y2, t)"
      ],
      "execution_count": 11,
      "outputs": [
        {
          "output_type": "execute_result",
          "data": {
            "text/plain": [
              "0.18"
            ]
          },
          "metadata": {},
          "execution_count": 11
        }
      ]
    },
    {
      "cell_type": "markdown",
      "metadata": {
        "id": "TYdwKQuTpecD"
      },
      "source": [
        "# 4. Mean Squared Error(MSE)"
      ]
    },
    {
      "cell_type": "markdown",
      "metadata": {
        "id": "2fiOJXgyrgVj"
      },
      "source": [
        "$$MSE = {1\\over n}\\sum_n (Prediction-Real)^2$$"
      ]
    },
    {
      "cell_type": "code",
      "metadata": {
        "id": "dj5I7ZUKpeGZ"
      },
      "source": [
        "def mean_squared_error(y, t):\n",
        "  return np.average((y-t)**2)"
      ],
      "execution_count": 12,
      "outputs": []
    },
    {
      "cell_type": "code",
      "metadata": {
        "colab": {
          "base_uri": "https://localhost:8080/"
        },
        "id": "fDWPTtFbpk9-",
        "outputId": "834f4ab6-9fbd-4342-8094-80c7a028f2ce"
      },
      "source": [
        "mean_squared_error(y1, t)"
      ],
      "execution_count": 13,
      "outputs": [
        {
          "output_type": "execute_result",
          "data": {
            "text/plain": [
              "0.019500000000000007"
            ]
          },
          "metadata": {},
          "execution_count": 13
        }
      ]
    },
    {
      "cell_type": "code",
      "metadata": {
        "colab": {
          "base_uri": "https://localhost:8080/"
        },
        "id": "0Xdhcm2ipmNe",
        "outputId": "d1d7cb60-63bf-4f74-b0c7-6b564fe68526"
      },
      "source": [
        "mean_squared_error(y2, t)"
      ],
      "execution_count": 14,
      "outputs": [
        {
          "output_type": "execute_result",
          "data": {
            "text/plain": [
              "0.11950000000000001"
            ]
          },
          "metadata": {},
          "execution_count": 14
        }
      ]
    },
    {
      "cell_type": "markdown",
      "metadata": {
        "id": "Haw_igkbpoeV"
      },
      "source": [
        "# 5. Root Mean Squared Error(RMSE)"
      ]
    },
    {
      "cell_type": "markdown",
      "metadata": {
        "id": "YKy8vaOHrqr7"
      },
      "source": [
        "$$RMSE = \\sqrt {{1\\over n}\\sum_n (Prediction-Real)^2}$$"
      ]
    },
    {
      "cell_type": "code",
      "metadata": {
        "id": "68jTE53jpm6m"
      },
      "source": [
        "def root_mean_squared_error(y,t):\n",
        "  return mean_squared_error(y,t)**(1/2)"
      ],
      "execution_count": 15,
      "outputs": []
    },
    {
      "cell_type": "code",
      "metadata": {
        "colab": {
          "base_uri": "https://localhost:8080/"
        },
        "id": "JwBqVg88p1I-",
        "outputId": "aa9d1676-975a-43d4-8fcd-2277b74a2d2b"
      },
      "source": [
        "root_mean_squared_error(y1,t)"
      ],
      "execution_count": 16,
      "outputs": [
        {
          "output_type": "execute_result",
          "data": {
            "text/plain": [
              "0.13964240043768944"
            ]
          },
          "metadata": {},
          "execution_count": 16
        }
      ]
    },
    {
      "cell_type": "code",
      "metadata": {
        "colab": {
          "base_uri": "https://localhost:8080/"
        },
        "id": "JqjGoUnhp3Qn",
        "outputId": "9c0bd00e-eb60-4544-9adb-1fb121e85331"
      },
      "source": [
        "root_mean_squared_error(y2,t)"
      ],
      "execution_count": 17,
      "outputs": [
        {
          "output_type": "execute_result",
          "data": {
            "text/plain": [
              "0.34568772034887213"
            ]
          },
          "metadata": {},
          "execution_count": 17
        }
      ]
    }
  ]
}