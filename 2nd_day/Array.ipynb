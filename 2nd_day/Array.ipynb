{
  "nbformat": 4,
  "nbformat_minor": 0,
  "metadata": {
    "colab": {
      "name": "Array.ipynb",
      "provenance": [],
      "authorship_tag": "ABX9TyP8rtd6mhsB2weOl3AvWkoa",
      "include_colab_link": true
    },
    "kernelspec": {
      "name": "python3",
      "display_name": "Python 3"
    },
    "language_info": {
      "name": "python"
    }
  },
  "cells": [
    {
      "cell_type": "markdown",
      "metadata": {
        "id": "view-in-github",
        "colab_type": "text"
      },
      "source": [
        "<a href=\"https://colab.research.google.com/github/hrbae/DRB_ML_Training/blob/main/2nd_day/Array.ipynb\" target=\"_parent\"><img src=\"https://colab.research.google.com/assets/colab-badge.svg\" alt=\"Open In Colab\"/></a>"
      ]
    },
    {
      "cell_type": "code",
      "metadata": {
        "id": "SJETxrhIboaf"
      },
      "source": [
        "from random import *"
      ],
      "execution_count": null,
      "outputs": []
    },
    {
      "cell_type": "code",
      "metadata": {
        "id": "X8QipZWt94fL"
      },
      "source": [
        "def max_Array(X):\n",
        "  max=X[0]\n",
        "  for i in range(len(X)):\n",
        "    if X[i] >= max:\n",
        "      max=X[i]\n",
        "  return max\n",
        "\n"
      ],
      "execution_count": null,
      "outputs": []
    },
    {
      "cell_type": "code",
      "metadata": {
        "id": "yMC8z_gpcVY9"
      },
      "source": [
        "def sum_Array(X):\n",
        "  sum=0\n",
        "  for i in range(len(X)):\n",
        "    sum+=X[i]\n",
        "  return sum"
      ],
      "execution_count": null,
      "outputs": []
    },
    {
      "cell_type": "code",
      "metadata": {
        "colab": {
          "base_uri": "https://localhost:8080/"
        },
        "id": "swtKYcMTbmny",
        "outputId": "bbd181c3-056a-48a8-9058-f46e7ae05a6f"
      },
      "source": [
        "n=int(input(\"몇 개의 숫자를 생성할까요? \"))\n",
        "A=[]\n",
        "for i in range(0,n):\n",
        "    A.append(randint(1,100))\n",
        "print(A)\n",
        "\n",
        "print(\"가장 큰 수는 \", max_Array(A))\n",
        "print(\"배열의 합은 \", sum_Array(A))"
      ],
      "execution_count": null,
      "outputs": [
        {
          "output_type": "stream",
          "text": [
            "몇 개의 숫자를 생성할까요? 10\n",
            "[30, 81, 80, 11, 28, 82, 1, 51, 34, 53]\n",
            "가장 큰 수는  82\n",
            "배열의 합은  451\n"
          ],
          "name": "stdout"
        }
      ]
    }
  ]
}