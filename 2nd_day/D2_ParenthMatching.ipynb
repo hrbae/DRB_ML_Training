{
  "nbformat": 4,
  "nbformat_minor": 0,
  "metadata": {
    "colab": {
      "name": "D2_ParenthMatching.ipynb",
      "provenance": [],
      "authorship_tag": "ABX9TyNEpvF9l316Ar1jDeJ9OhnZ",
      "include_colab_link": true
    },
    "kernelspec": {
      "name": "python3",
      "display_name": "Python 3"
    },
    "language_info": {
      "name": "python"
    }
  },
  "cells": [
    {
      "cell_type": "markdown",
      "metadata": {
        "id": "view-in-github",
        "colab_type": "text"
      },
      "source": [
        "<a href=\"https://colab.research.google.com/github/hrbae/DRB_ML_Training/blob/main/2nd_day/D2_ParenthMatching.ipynb\" target=\"_parent\"><img src=\"https://colab.research.google.com/assets/colab-badge.svg\" alt=\"Open In Colab\"/></a>"
      ]
    },
    {
      "cell_type": "code",
      "metadata": {
        "colab": {
          "base_uri": "https://localhost:8080/"
        },
        "id": "Jah0YlTg-WQ3",
        "outputId": "c728f0fa-a6fc-4212-c47b-5ac2768adf3b"
      },
      "source": [
        "# Google drive를 마운트\n",
        "from google.colab import drive\n",
        "drive.mount('/content/drive', force_remount=True)"
      ],
      "execution_count": 1,
      "outputs": [
        {
          "output_type": "stream",
          "name": "stdout",
          "text": [
            "Mounted at /content/drive\n"
          ]
        }
      ]
    },
    {
      "cell_type": "code",
      "metadata": {
        "colab": {
          "base_uri": "https://localhost:8080/"
        },
        "id": "KGhrYOpt-k76",
        "outputId": "07a49db1-b497-4bc2-8fe3-ad5973a21f7f"
      },
      "source": [
        "%cd drive/MyDrive/Colab\\ Notebooks/Data_Structures"
      ],
      "execution_count": 2,
      "outputs": [
        {
          "output_type": "stream",
          "name": "stdout",
          "text": [
            "/content/drive/MyDrive/Colab Notebooks/Data_Structures\n"
          ]
        }
      ]
    },
    {
      "cell_type": "code",
      "metadata": {
        "colab": {
          "base_uri": "https://localhost:8080/"
        },
        "id": "4kg4WX2c_FHQ",
        "outputId": "2e3e897d-8b3b-487b-d876-3ea27d69e28b"
      },
      "source": [
        "!pip install import_ipynb"
      ],
      "execution_count": 4,
      "outputs": [
        {
          "output_type": "stream",
          "name": "stdout",
          "text": [
            "Requirement already satisfied: import_ipynb in /usr/local/lib/python3.7/dist-packages (0.1.3)\n"
          ]
        }
      ]
    },
    {
      "cell_type": "code",
      "metadata": {
        "id": "C6rj9Z3q_KXs"
      },
      "source": [
        "import import_ipynb\n"
      ],
      "execution_count": 5,
      "outputs": []
    },
    {
      "cell_type": "code",
      "metadata": {
        "colab": {
          "base_uri": "https://localhost:8080/"
        },
        "id": "iqvjizqC-k2B",
        "outputId": "01f4c8da-e2ff-4202-8d80-b122228703a7"
      },
      "source": [
        "from DS_Class.DRBStack import Stack\n"
      ],
      "execution_count": 6,
      "outputs": [
        {
          "output_type": "stream",
          "name": "stdout",
          "text": [
            "importing Jupyter notebook from /content/drive/My Drive/Colab Notebooks/Data_Structures/DS_Class/DRBStack.ipynb\n"
          ]
        }
      ]
    },
    {
      "cell_type": "code",
      "metadata": {
        "id": "ThJ5CUhgADJ1"
      },
      "source": [
        "def isOpening(str):\n",
        "  if str == '(' or str == '[' or str =='{':\n",
        "    return True\n",
        "  else:\n",
        "    return False\n",
        "\n",
        "def isClosing(str):\n",
        "  if str == ')' or str == ']' or str =='}':\n",
        "    return True\n",
        "  else:\n",
        "    return False\n",
        "\n",
        "def match(a, b):\n",
        "  if (a=='(' and b==')')  or (a=='[' and b==']') or (a=='{' and b=='}'):\n",
        "    return True\n",
        "  else:\n",
        "    return False"
      ],
      "execution_count": 19,
      "outputs": []
    },
    {
      "cell_type": "code",
      "metadata": {
        "id": "xKZ79rdU_gKD"
      },
      "source": [
        "\n",
        "def ParMatch(s):\n",
        "  st = Stack(100)\n",
        "\n",
        "  for i in range(len(s)):\n",
        "#    st.printStack()\n",
        "    if isOpening(s[i]):\n",
        "      st.push(s[i])\n",
        "    elif isClosing(s[i]):\n",
        "      if st.isEmpty():\n",
        "        return False\n",
        "      if not match(st.pop(), s[i]):\n",
        "        return False\n",
        "#  st.printStack()\n",
        "  if st.isEmpty():\n",
        "    return True\n",
        "  else:\n",
        "    return False"
      ],
      "execution_count": 22,
      "outputs": []
    },
    {
      "cell_type": "code",
      "metadata": {
        "id": "0puDrfJGCGE_",
        "outputId": "a93555e4-2d71-4e5c-8d97-ce2cd6f5f108",
        "colab": {
          "base_uri": "https://localhost:8080/"
        }
      },
      "source": [
        "inStr = input(\"키보드 타이핑을 통해서 괄호를 입력하세요\")\n",
        "print(ParMatch(inStr))\n"
      ],
      "execution_count": 25,
      "outputs": [
        {
          "output_type": "stream",
          "name": "stdout",
          "text": [
            "키보드 타이핑을 통해서 괄호를 입력하세요{[}]\n",
            "False\n"
          ]
        }
      ]
    }
  ]
}