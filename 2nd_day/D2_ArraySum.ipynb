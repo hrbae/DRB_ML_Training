{
  "nbformat": 4,
  "nbformat_minor": 0,
  "metadata": {
    "colab": {
      "name": "D2_ArraySum.ipynb",
      "provenance": [],
      "collapsed_sections": [],
      "authorship_tag": "ABX9TyOClWhgqWKfz/HRQ2Sa+XR9",
      "include_colab_link": true
    },
    "kernelspec": {
      "name": "python3",
      "display_name": "Python 3"
    },
    "language_info": {
      "name": "python"
    }
  },
  "cells": [
    {
      "cell_type": "markdown",
      "metadata": {
        "id": "view-in-github",
        "colab_type": "text"
      },
      "source": [
        "<a href=\"https://colab.research.google.com/github/hrbae/DRB_ML_Training/blob/main/2nd_day/D2_ArraySum.ipynb\" target=\"_parent\"><img src=\"https://colab.research.google.com/assets/colab-badge.svg\" alt=\"Open In Colab\"/></a>"
      ]
    },
    {
      "cell_type": "code",
      "metadata": {
        "colab": {
          "base_uri": "https://localhost:8080/"
        },
        "id": "7cT8F4G0zw2w",
        "outputId": "60543803-f5c4-47d2-85f2-9e88648dfed7"
      },
      "source": [
        "from random import *\n",
        "import math\n",
        "\n",
        "n=int(input(\"몇 개의 숫자를 생성할까요?\"))\n",
        "A=[]\n",
        "for i in range(0,n):\n",
        "    #A.append(randint(1,100))\n",
        "    A.append(i)\n",
        "print(A)\n",
        "\n",
        "def arraySum(A):\n",
        "    sum=0\n",
        "    for i in range(0, len(A)):\n",
        "        sum=sum+A[i]\n",
        "    return sum\n",
        "\n",
        "def binarySum(A, i, n):\n",
        "    if n==1:\n",
        "        return A[i]\n",
        "    else:\n",
        "        return binarySum(A, i, math.floor(n/2)) + binarySum(A, i + math.floor(n/2), math.ceil(n/2))\n",
        "\n",
        "def arrayMax(A):\n",
        "  max=A[0]\n",
        "  for i in range(1, len(A)):\n",
        "    if(A[i]>max):\n",
        "      max=A[i]\n",
        "  return max\n",
        "\n",
        "#total_sum = arraySum(A)\n",
        "total_sum=binarySum(A, 0, len(A))\n",
        "print(\"배열의 합은\", total_sum, \"입니다.\")\n",
        "print(\"가장 큰 값은 \", arrayMax(A), \"입니다.\")"
      ],
      "execution_count": null,
      "outputs": [
        {
          "output_type": "stream",
          "text": [
            "몇 개의 숫자를 생성할까요?10\n",
            "[0, 1, 2, 3, 4, 5, 6, 7, 8, 9]\n",
            "배열의 합은 45 입니다.\n",
            "가장 큰 값은  9 입니다.\n"
          ],
          "name": "stdout"
        }
      ]
    }
  ]
}