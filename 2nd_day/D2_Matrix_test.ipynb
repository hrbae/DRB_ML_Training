{
  "nbformat": 4,
  "nbformat_minor": 0,
  "metadata": {
    "colab": {
      "name": "D2_Matrix_test.ipynb",
      "provenance": [],
      "collapsed_sections": [],
      "authorship_tag": "ABX9TyPETEcIC0Vh0Q9pc0o1iiAn",
      "include_colab_link": true
    },
    "kernelspec": {
      "name": "python3",
      "display_name": "Python 3"
    },
    "language_info": {
      "name": "python"
    }
  },
  "cells": [
    {
      "cell_type": "markdown",
      "metadata": {
        "id": "view-in-github",
        "colab_type": "text"
      },
      "source": [
        "<a href=\"https://colab.research.google.com/github/hrbae/DRB_ML_Training/blob/main/2nd_day/D2_Matrix_test.ipynb\" target=\"_parent\"><img src=\"https://colab.research.google.com/assets/colab-badge.svg\" alt=\"Open In Colab\"/></a>"
      ]
    },
    {
      "cell_type": "markdown",
      "metadata": {
        "id": "sjKQ1Bx21HcV"
      },
      "source": [
        "리스트 생성하기"
      ]
    },
    {
      "cell_type": "code",
      "metadata": {
        "colab": {
          "base_uri": "https://localhost:8080/"
        },
        "id": "fTJFl8YUGhnC",
        "outputId": "2fcf6f73-c80a-421f-9f8e-c83a87823792"
      },
      "source": [
        "row, column = 2, 3 \n",
        "arr_2d = [[None] * column for i in range(row)] \n",
        "print(arr_2d)\n",
        "# [[None, None, None], [None, None, None]]\n",
        "\n"
      ],
      "execution_count": null,
      "outputs": [
        {
          "output_type": "stream",
          "name": "stdout",
          "text": [
            "[[None, None, None], [None, None, None]]\n"
          ]
        }
      ]
    },
    {
      "cell_type": "markdown",
      "metadata": {
        "id": "EvkIJRwS1QYs"
      },
      "source": [
        "다차원 리스트 생성하기"
      ]
    },
    {
      "cell_type": "code",
      "metadata": {
        "colab": {
          "base_uri": "https://localhost:8080/"
        },
        "id": "A_-nyP_yIz7u",
        "outputId": "4ad68fb2-5345-416b-e5f0-3a2afb19ff02"
      },
      "source": [
        "R=[[1, 2, 3],[4, 5, 6]]\n",
        "print(R)\n",
        "# [[1, 2, 3], [4, 5, 6]]"
      ],
      "execution_count": null,
      "outputs": [
        {
          "output_type": "stream",
          "name": "stdout",
          "text": [
            "[[1, 2, 3], [4, 5, 6]]\n"
          ]
        }
      ]
    },
    {
      "cell_type": "markdown",
      "metadata": {
        "id": "u5pMkMG51X0V"
      },
      "source": [
        "numpy 배열 이용하기"
      ]
    },
    {
      "cell_type": "code",
      "metadata": {
        "colab": {
          "base_uri": "https://localhost:8080/"
        },
        "id": "vxT_bnDYI00G",
        "outputId": "392a291f-dee0-41b7-a8ac-b0efffcc27df"
      },
      "source": [
        "import numpy as np\n",
        "# 0으로 초기화된 2차원 배열 생성 \n",
        "arr_2d = np.zeros((2, 3)) \n",
        "print(arr_2d) \n",
        "# [[0. 0. 0.] # [0. 0. 0.]]"
      ],
      "execution_count": null,
      "outputs": [
        {
          "output_type": "stream",
          "name": "stdout",
          "text": [
            "[[0. 0. 0.]\n",
            " [0. 0. 0.]]\n"
          ]
        }
      ]
    },
    {
      "cell_type": "code",
      "metadata": {
        "colab": {
          "base_uri": "https://localhost:8080/"
        },
        "id": "CLB7ddukI5iW",
        "outputId": "a4f101bd-bbdc-4e88-c6ca-9b2b84a58ed7"
      },
      "source": [
        "R = np.array([[0, 1, 2], [3, 4, 5]])\n",
        "# [[0, 1, 2], [3, 4, 5]]\n",
        "#print(R)\n",
        "R"
      ],
      "execution_count": null,
      "outputs": [
        {
          "output_type": "execute_result",
          "data": {
            "text/plain": [
              "array([[0, 1, 2],\n",
              "       [3, 4, 5]])"
            ]
          },
          "metadata": {},
          "execution_count": 10
        }
      ]
    },
    {
      "cell_type": "markdown",
      "metadata": {
        "id": "2Bnzd8QSvOkl"
      },
      "source": [
        "리스트들 간의 연산은?"
      ]
    },
    {
      "cell_type": "code",
      "metadata": {
        "colab": {
          "base_uri": "https://localhost:8080/",
          "height": 222
        },
        "id": "IvQKzEMpvEUb",
        "outputId": "0ca57677-de76-400b-e705-d0a6bb07ed2b"
      },
      "source": [
        "A = [[1,2],[3,4]]\n",
        "B = [[3,4],[5,6]]\n",
        "print(A*B)\n",
        "print(A+B)"
      ],
      "execution_count": null,
      "outputs": [
        {
          "output_type": "error",
          "ename": "TypeError",
          "evalue": "ignored",
          "traceback": [
            "\u001b[0;31m---------------------------------------------------------------------------\u001b[0m",
            "\u001b[0;31mTypeError\u001b[0m                                 Traceback (most recent call last)",
            "\u001b[0;32m<ipython-input-17-ddb9e644b287>\u001b[0m in \u001b[0;36m<module>\u001b[0;34m()\u001b[0m\n\u001b[1;32m      1\u001b[0m \u001b[0mA\u001b[0m \u001b[0;34m=\u001b[0m \u001b[0;34m[\u001b[0m\u001b[0;34m[\u001b[0m\u001b[0;36m1\u001b[0m\u001b[0;34m,\u001b[0m\u001b[0;36m2\u001b[0m\u001b[0;34m]\u001b[0m\u001b[0;34m,\u001b[0m\u001b[0;34m[\u001b[0m\u001b[0;36m3\u001b[0m\u001b[0;34m,\u001b[0m\u001b[0;36m4\u001b[0m\u001b[0;34m]\u001b[0m\u001b[0;34m]\u001b[0m\u001b[0;34m\u001b[0m\u001b[0;34m\u001b[0m\u001b[0m\n\u001b[1;32m      2\u001b[0m \u001b[0mB\u001b[0m \u001b[0;34m=\u001b[0m \u001b[0;34m[\u001b[0m\u001b[0;34m[\u001b[0m\u001b[0;36m3\u001b[0m\u001b[0;34m,\u001b[0m\u001b[0;36m4\u001b[0m\u001b[0;34m]\u001b[0m\u001b[0;34m,\u001b[0m\u001b[0;34m[\u001b[0m\u001b[0;36m5\u001b[0m\u001b[0;34m,\u001b[0m\u001b[0;36m6\u001b[0m\u001b[0;34m]\u001b[0m\u001b[0;34m]\u001b[0m\u001b[0;34m\u001b[0m\u001b[0;34m\u001b[0m\u001b[0m\n\u001b[0;32m----> 3\u001b[0;31m \u001b[0mprint\u001b[0m\u001b[0;34m(\u001b[0m\u001b[0mA\u001b[0m\u001b[0;34m*\u001b[0m\u001b[0mB\u001b[0m\u001b[0;34m)\u001b[0m\u001b[0;34m\u001b[0m\u001b[0;34m\u001b[0m\u001b[0m\n\u001b[0m\u001b[1;32m      4\u001b[0m \u001b[0mprint\u001b[0m\u001b[0;34m(\u001b[0m\u001b[0mA\u001b[0m\u001b[0;34m+\u001b[0m\u001b[0mB\u001b[0m\u001b[0;34m)\u001b[0m\u001b[0;34m\u001b[0m\u001b[0;34m\u001b[0m\u001b[0m\n",
            "\u001b[0;31mTypeError\u001b[0m: can't multiply sequence by non-int of type 'list'"
          ]
        }
      ]
    },
    {
      "cell_type": "markdown",
      "metadata": {
        "id": "NEm5LHo5u-W3"
      },
      "source": [
        "Numpy array간의 연산\n"
      ]
    },
    {
      "cell_type": "code",
      "metadata": {
        "colab": {
          "base_uri": "https://localhost:8080/"
        },
        "id": "6YFMrK8luZkq",
        "outputId": "a8f09b74-f2a6-4336-d0cb-06724cc29fc3"
      },
      "source": [
        "A = np.array([[1,2],[3,4]])\n",
        "B = np.array([[3,4],[5,6]])\n",
        "print(A*B)\n",
        "print(A+B)\n",
        "print(np.dot(A,B))"
      ],
      "execution_count": null,
      "outputs": [
        {
          "output_type": "stream",
          "name": "stdout",
          "text": [
            "[[ 3  8]\n",
            " [15 24]]\n",
            "[[ 4  6]\n",
            " [ 8 10]]\n",
            "[[13 16]\n",
            " [29 36]]\n"
          ]
        }
      ]
    },
    {
      "cell_type": "code",
      "metadata": {
        "colab": {
          "base_uri": "https://localhost:8080/"
        },
        "id": "tbTx5axTa-Wx",
        "outputId": "1eb99f61-b99d-4e2b-890d-19acf7556a51"
      },
      "source": [
        "# Google drive를 마운트\n",
        "from google.colab import drive\n",
        "drive.mount('/content/drive', force_remount=True)"
      ],
      "execution_count": null,
      "outputs": [
        {
          "output_type": "stream",
          "name": "stdout",
          "text": [
            "Mounted at /content/drive\n"
          ]
        }
      ]
    },
    {
      "cell_type": "code",
      "metadata": {
        "colab": {
          "base_uri": "https://localhost:8080/"
        },
        "id": "dyqgo-WSbLdt",
        "outputId": "cb918129-da6c-4650-e0f3-5c15b0f0e560"
      },
      "source": [
        "!pwd"
      ],
      "execution_count": null,
      "outputs": [
        {
          "output_type": "stream",
          "name": "stdout",
          "text": [
            "/content\n"
          ]
        }
      ]
    },
    {
      "cell_type": "code",
      "metadata": {
        "colab": {
          "base_uri": "https://localhost:8080/"
        },
        "id": "NSAFjWnVbMpF",
        "outputId": "eaf87bac-83d7-4fcc-978f-f837ee6545f1"
      },
      "source": [
        "%cd drive/MyDrive/Colab\\ Notebooks/Data_Structures"
      ],
      "execution_count": null,
      "outputs": [
        {
          "output_type": "stream",
          "name": "stdout",
          "text": [
            "/content/drive/MyDrive/Colab Notebooks/Data_Structures\n"
          ]
        }
      ]
    },
    {
      "cell_type": "markdown",
      "metadata": {
        "id": "dqaZVyhSfTE5"
      },
      "source": [
        "**주피터 노트북 파일을 임포트하기 위해서 설치**"
      ]
    },
    {
      "cell_type": "code",
      "metadata": {
        "colab": {
          "base_uri": "https://localhost:8080/"
        },
        "id": "hnVqeTRscaUu",
        "outputId": "bea77a77-76ac-4875-99f6-456e421657fd"
      },
      "source": [
        "!pip install import_ipynb"
      ],
      "execution_count": null,
      "outputs": [
        {
          "output_type": "stream",
          "name": "stdout",
          "text": [
            "Requirement already satisfied: import_ipynb in /usr/local/lib/python3.7/dist-packages (0.1.3)\n"
          ]
        }
      ]
    },
    {
      "cell_type": "code",
      "metadata": {
        "id": "tZZ-nedtcjd6"
      },
      "source": [
        "import import_ipynb"
      ],
      "execution_count": null,
      "outputs": []
    },
    {
      "cell_type": "code",
      "metadata": {
        "colab": {
          "base_uri": "https://localhost:8080/"
        },
        "id": "mkhOlMGnbVpD",
        "outputId": "be6fd3cd-d889-43cc-b25e-6b0013e165b4"
      },
      "source": [
        "from DS_Class.Matrix_Class import Matrix_calculation"
      ],
      "execution_count": null,
      "outputs": [
        {
          "output_type": "stream",
          "name": "stdout",
          "text": [
            "importing Jupyter notebook from /content/drive/MyDrive/Colab Notebooks/Data_Structures/DS_Class/Matrix_Class.ipynb\n"
          ]
        }
      ]
    },
    {
      "cell_type": "code",
      "metadata": {
        "colab": {
          "base_uri": "https://localhost:8080/"
        },
        "id": "y6_STtE5emkD",
        "outputId": "182650ec-6ed0-432e-dfc9-e6371d5235f5"
      },
      "source": [
        "A=[[1,2],[3,4]]\n",
        "B=[[5,6],[7,8]]\n",
        "\n",
        "C=Matrix_calculation.matMulti(A,B)\n",
        "D=Matrix_calculation.matAdd(A,B)\n",
        "print(C)\n",
        "print(D)"
      ],
      "execution_count": null,
      "outputs": [
        {
          "output_type": "stream",
          "name": "stdout",
          "text": [
            "[[19, 22], [43, 50]]\n",
            "[[6, 8], [10, 12]]\n"
          ]
        }
      ]
    }
  ]
}