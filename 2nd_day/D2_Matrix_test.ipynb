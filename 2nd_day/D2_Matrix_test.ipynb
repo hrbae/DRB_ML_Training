{
  "nbformat": 4,
  "nbformat_minor": 0,
  "metadata": {
    "colab": {
      "name": "D2_Matrix_test.ipynb",
      "provenance": [],
      "collapsed_sections": [],
      "authorship_tag": "ABX9TyN2waenAn07HPgig3gsCxky",
      "include_colab_link": true
    },
    "kernelspec": {
      "name": "python3",
      "display_name": "Python 3"
    },
    "language_info": {
      "name": "python"
    }
  },
  "cells": [
    {
      "cell_type": "markdown",
      "metadata": {
        "id": "view-in-github",
        "colab_type": "text"
      },
      "source": [
        "<a href=\"https://colab.research.google.com/github/hrbae/DRB_ML_Training/blob/main/2nd_day/D2_Matrix_test.ipynb\" target=\"_parent\"><img src=\"https://colab.research.google.com/assets/colab-badge.svg\" alt=\"Open In Colab\"/></a>"
      ]
    },
    {
      "cell_type": "markdown",
      "metadata": {
        "id": "sjKQ1Bx21HcV"
      },
      "source": [
        "리스트 생성하기"
      ]
    },
    {
      "cell_type": "code",
      "metadata": {
        "colab": {
          "base_uri": "https://localhost:8080/"
        },
        "id": "fTJFl8YUGhnC",
        "outputId": "2fcf6f73-c80a-421f-9f8e-c83a87823792"
      },
      "source": [
        "row, column = 2, 3 \n",
        "arr_2d = [[None] * column for i in range(row)] \n",
        "print(arr_2d)\n",
        "# [[None, None, None], [None, None, None]]\n",
        "\n"
      ],
      "execution_count": null,
      "outputs": [
        {
          "output_type": "stream",
          "name": "stdout",
          "text": [
            "[[None, None, None], [None, None, None]]\n"
          ]
        }
      ]
    },
    {
      "cell_type": "markdown",
      "metadata": {
        "id": "EvkIJRwS1QYs"
      },
      "source": [
        "다차원 리스트 생성하기"
      ]
    },
    {
      "cell_type": "code",
      "metadata": {
        "colab": {
          "base_uri": "https://localhost:8080/"
        },
        "id": "A_-nyP_yIz7u",
        "outputId": "4ad68fb2-5345-416b-e5f0-3a2afb19ff02"
      },
      "source": [
        "R=[[1, 2, 3],[4, 5, 6]]\n",
        "print(R)\n",
        "# [[1, 2, 3], [4, 5, 6]]"
      ],
      "execution_count": null,
      "outputs": [
        {
          "output_type": "stream",
          "name": "stdout",
          "text": [
            "[[1, 2, 3], [4, 5, 6]]\n"
          ]
        }
      ]
    },
    {
      "cell_type": "markdown",
      "metadata": {
        "id": "u5pMkMG51X0V"
      },
      "source": [
        "numpy 배열 이용하기"
      ]
    },
    {
      "cell_type": "code",
      "metadata": {
        "colab": {
          "base_uri": "https://localhost:8080/"
        },
        "id": "vxT_bnDYI00G",
        "outputId": "392a291f-dee0-41b7-a8ac-b0efffcc27df"
      },
      "source": [
        "import numpy as np\n",
        "# 0으로 초기화된 2차원 배열 생성 \n",
        "arr_2d = np.zeros((2, 3)) \n",
        "print(arr_2d) \n",
        "# [[0. 0. 0.] # [0. 0. 0.]]"
      ],
      "execution_count": null,
      "outputs": [
        {
          "output_type": "stream",
          "name": "stdout",
          "text": [
            "[[0. 0. 0.]\n",
            " [0. 0. 0.]]\n"
          ]
        }
      ]
    },
    {
      "cell_type": "code",
      "metadata": {
        "colab": {
          "base_uri": "https://localhost:8080/"
        },
        "id": "CLB7ddukI5iW",
        "outputId": "a4f101bd-bbdc-4e88-c6ca-9b2b84a58ed7"
      },
      "source": [
        "R = np.array([[0, 1, 2], [3, 4, 5]])\n",
        "# [[0, 1, 2], [3, 4, 5]]\n",
        "#print(R)\n",
        "R"
      ],
      "execution_count": null,
      "outputs": [
        {
          "output_type": "execute_result",
          "data": {
            "text/plain": [
              "array([[0, 1, 2],\n",
              "       [3, 4, 5]])"
            ]
          },
          "metadata": {},
          "execution_count": 10
        }
      ]
    },
    {
      "cell_type": "markdown",
      "metadata": {
        "id": "2Bnzd8QSvOkl"
      },
      "source": [
        "리스트들 간의 연산은?"
      ]
    },
    {
      "cell_type": "code",
      "metadata": {
        "colab": {
          "base_uri": "https://localhost:8080/",
          "height": 222
        },
        "id": "IvQKzEMpvEUb",
        "outputId": "0ca57677-de76-400b-e705-d0a6bb07ed2b"
      },
      "source": [
        "A = [[1,2],[3,4]]\n",
        "B = [[3,4],[5,6]]\n",
        "print(A*B)\n",
        "print(A+B)"
      ],
      "execution_count": null,
      "outputs": [
        {
          "output_type": "error",
          "ename": "TypeError",
          "evalue": "ignored",
          "traceback": [
            "\u001b[0;31m---------------------------------------------------------------------------\u001b[0m",
            "\u001b[0;31mTypeError\u001b[0m                                 Traceback (most recent call last)",
            "\u001b[0;32m<ipython-input-17-ddb9e644b287>\u001b[0m in \u001b[0;36m<module>\u001b[0;34m()\u001b[0m\n\u001b[1;32m      1\u001b[0m \u001b[0mA\u001b[0m \u001b[0;34m=\u001b[0m \u001b[0;34m[\u001b[0m\u001b[0;34m[\u001b[0m\u001b[0;36m1\u001b[0m\u001b[0;34m,\u001b[0m\u001b[0;36m2\u001b[0m\u001b[0;34m]\u001b[0m\u001b[0;34m,\u001b[0m\u001b[0;34m[\u001b[0m\u001b[0;36m3\u001b[0m\u001b[0;34m,\u001b[0m\u001b[0;36m4\u001b[0m\u001b[0;34m]\u001b[0m\u001b[0;34m]\u001b[0m\u001b[0;34m\u001b[0m\u001b[0;34m\u001b[0m\u001b[0m\n\u001b[1;32m      2\u001b[0m \u001b[0mB\u001b[0m \u001b[0;34m=\u001b[0m \u001b[0;34m[\u001b[0m\u001b[0;34m[\u001b[0m\u001b[0;36m3\u001b[0m\u001b[0;34m,\u001b[0m\u001b[0;36m4\u001b[0m\u001b[0;34m]\u001b[0m\u001b[0;34m,\u001b[0m\u001b[0;34m[\u001b[0m\u001b[0;36m5\u001b[0m\u001b[0;34m,\u001b[0m\u001b[0;36m6\u001b[0m\u001b[0;34m]\u001b[0m\u001b[0;34m]\u001b[0m\u001b[0;34m\u001b[0m\u001b[0;34m\u001b[0m\u001b[0m\n\u001b[0;32m----> 3\u001b[0;31m \u001b[0mprint\u001b[0m\u001b[0;34m(\u001b[0m\u001b[0mA\u001b[0m\u001b[0;34m*\u001b[0m\u001b[0mB\u001b[0m\u001b[0;34m)\u001b[0m\u001b[0;34m\u001b[0m\u001b[0;34m\u001b[0m\u001b[0m\n\u001b[0m\u001b[1;32m      4\u001b[0m \u001b[0mprint\u001b[0m\u001b[0;34m(\u001b[0m\u001b[0mA\u001b[0m\u001b[0;34m+\u001b[0m\u001b[0mB\u001b[0m\u001b[0;34m)\u001b[0m\u001b[0;34m\u001b[0m\u001b[0;34m\u001b[0m\u001b[0m\n",
            "\u001b[0;31mTypeError\u001b[0m: can't multiply sequence by non-int of type 'list'"
          ]
        }
      ]
    },
    {
      "cell_type": "markdown",
      "metadata": {
        "id": "NEm5LHo5u-W3"
      },
      "source": [
        "Numpy array간의 연산\n"
      ]
    },
    {
      "cell_type": "code",
      "metadata": {
        "colab": {
          "base_uri": "https://localhost:8080/"
        },
        "id": "6YFMrK8luZkq",
        "outputId": "a8f09b74-f2a6-4336-d0cb-06724cc29fc3"
      },
      "source": [
        "A = np.array([[1,2],[3,4]])\n",
        "B = np.array([[3,4],[5,6]])\n",
        "print(A*B)\n",
        "print(A+B)\n",
        "print(np.dot(A,B))"
      ],
      "execution_count": null,
      "outputs": [
        {
          "output_type": "stream",
          "name": "stdout",
          "text": [
            "[[ 3  8]\n",
            " [15 24]]\n",
            "[[ 4  6]\n",
            " [ 8 10]]\n",
            "[[13 16]\n",
            " [29 36]]\n"
          ]
        }
      ]
    },
    {
      "cell_type": "code",
      "metadata": {
        "colab": {
          "base_uri": "https://localhost:8080/"
        },
        "id": "tbTx5axTa-Wx",
        "outputId": "85d3917d-ba5d-4896-ca36-797a2b3e1a10"
      },
      "source": [
        "# Google drive를 마운트\n",
        "from google.colab import drive\n",
        "drive.mount('/content/drive', force_remount=True)"
      ],
      "execution_count": 2,
      "outputs": [
        {
          "output_type": "stream",
          "name": "stdout",
          "text": [
            "Mounted at /content/drive\n"
          ]
        }
      ]
    },
    {
      "cell_type": "code",
      "metadata": {
        "colab": {
          "base_uri": "https://localhost:8080/"
        },
        "id": "dyqgo-WSbLdt",
        "outputId": "fb594cfa-f375-45b0-9fd3-096723288eba"
      },
      "source": [
        "!pwd"
      ],
      "execution_count": 3,
      "outputs": [
        {
          "output_type": "stream",
          "name": "stdout",
          "text": [
            "/content\n"
          ]
        }
      ]
    },
    {
      "cell_type": "code",
      "metadata": {
        "colab": {
          "base_uri": "https://localhost:8080/"
        },
        "id": "NSAFjWnVbMpF",
        "outputId": "cf779397-c15f-4202-dc69-413eb147c4d9"
      },
      "source": [
        "%cd drive/MyDrive/Colab\\ Notebooks/Data_Structures"
      ],
      "execution_count": 4,
      "outputs": [
        {
          "output_type": "stream",
          "name": "stdout",
          "text": [
            "/content/drive/MyDrive/Colab Notebooks/Data_Structures\n"
          ]
        }
      ]
    },
    {
      "cell_type": "markdown",
      "metadata": {
        "id": "dqaZVyhSfTE5"
      },
      "source": [
        "**주피터 노트북 파일을 임포트하기 위해서 설치**"
      ]
    },
    {
      "cell_type": "code",
      "metadata": {
        "colab": {
          "base_uri": "https://localhost:8080/"
        },
        "id": "hnVqeTRscaUu",
        "outputId": "67c10b86-a234-4581-b2bd-0f52d4d9dc84"
      },
      "source": [
        "!pip install import_ipynb"
      ],
      "execution_count": 1,
      "outputs": [
        {
          "output_type": "stream",
          "name": "stdout",
          "text": [
            "Collecting import_ipynb\n",
            "  Downloading import-ipynb-0.1.3.tar.gz (4.0 kB)\n",
            "Building wheels for collected packages: import-ipynb\n",
            "  Building wheel for import-ipynb (setup.py) ... \u001b[?25l\u001b[?25hdone\n",
            "  Created wheel for import-ipynb: filename=import_ipynb-0.1.3-py3-none-any.whl size=2975 sha256=cddc56a14ed6b6eacd6b21c37feb40ddfa41d8cc5faae5c4f877cb073be17620\n",
            "  Stored in directory: /root/.cache/pip/wheels/b1/5e/dc/79780689896a056199b0b9f24471e3ee184fbd816df355d5f0\n",
            "Successfully built import-ipynb\n",
            "Installing collected packages: import-ipynb\n",
            "Successfully installed import-ipynb-0.1.3\n"
          ]
        }
      ]
    },
    {
      "cell_type": "code",
      "metadata": {
        "id": "tZZ-nedtcjd6"
      },
      "source": [
        "import import_ipynb"
      ],
      "execution_count": 5,
      "outputs": []
    },
    {
      "cell_type": "code",
      "metadata": {
        "colab": {
          "base_uri": "https://localhost:8080/"
        },
        "id": "mkhOlMGnbVpD",
        "outputId": "e039247b-a768-4286-c533-08807d0cb0b4"
      },
      "source": [
        "from DS_Class.Matrix_Class import Matrix_calculation"
      ],
      "execution_count": 6,
      "outputs": [
        {
          "output_type": "stream",
          "name": "stdout",
          "text": [
            "importing Jupyter notebook from /content/drive/MyDrive/Colab Notebooks/Data_Structures/DS_Class/Matrix_Class.ipynb\n"
          ]
        }
      ]
    },
    {
      "cell_type": "code",
      "metadata": {
        "colab": {
          "base_uri": "https://localhost:8080/"
        },
        "id": "y6_STtE5emkD",
        "outputId": "acdc23b8-38c3-41cb-d560-ba1ccb192a93"
      },
      "source": [
        "A=[[1,2],[3,4]]\n",
        "B=[[5,6],[7,8]]\n",
        "\n",
        "C=Matrix_calculation.matMulti(A,B)\n",
        "D=Matrix_calculation.matAdd(A,B)\n",
        "print(C)\n",
        "print(D)"
      ],
      "execution_count": 7,
      "outputs": [
        {
          "output_type": "stream",
          "name": "stdout",
          "text": [
            "[[19, 22], [43, 50]]\n",
            "[[6, 8], [10, 12]]\n"
          ]
        }
      ]
    },
    {
      "cell_type": "markdown",
      "metadata": {
        "id": "zZg3DfInTtbU"
      },
      "source": [
        "**행렬계산을 통해서 마코프 체인 계산**"
      ]
    },
    {
      "cell_type": "code",
      "metadata": {
        "id": "W-1ObSzHTCDv"
      },
      "source": [
        "def MarkovProcess(I, R, n):\n",
        "    ret=I\n",
        "    print(\"Initial sate:\")\n",
        "    for i in range(n):\n",
        "        ret=Matrix_calculation.matMulti(ret, R)\n",
        "        print(\"At time: \", i+1, \"\\t\", ret )"
      ],
      "execution_count": 9,
      "outputs": []
    },
    {
      "cell_type": "code",
      "metadata": {
        "colab": {
          "base_uri": "https://localhost:8080/"
        },
        "id": "vNQi2kCcUmRW",
        "outputId": "36a6102c-a9a8-4f7e-bda5-75f69f9a9131"
      },
      "source": [
        "R=[[0.7, 0.3],[0.1, 0.9]]\n",
        "I = [[0.55, 0.45]]\n",
        "\n",
        "MarkovProcess(I, R, 100)\n"
      ],
      "execution_count": 10,
      "outputs": [
        {
          "output_type": "stream",
          "name": "stdout",
          "text": [
            "Initial sate:\n",
            "At time:  1 \t [[0.43, 0.5700000000000001]]\n",
            "At time:  2 \t [[0.358, 0.6420000000000001]]\n",
            "At time:  3 \t [[0.3148, 0.6852]]\n",
            "At time:  4 \t [[0.28888, 0.71112]]\n",
            "At time:  5 \t [[0.273328, 0.726672]]\n",
            "At time:  6 \t [[0.2639968, 0.7360032000000001]]\n",
            "At time:  7 \t [[0.25839808, 0.7416019200000001]]\n",
            "At time:  8 \t [[0.255038848, 0.7449611520000001]]\n",
            "At time:  9 \t [[0.2530233088, 0.7469766912000001]]\n",
            "At time:  10 \t [[0.25181398528000004, 0.7481860147200001]]\n",
            "At time:  11 \t [[0.251088391168, 0.7489116088320001]]\n",
            "At time:  12 \t [[0.2506530347008, 0.7493469652992001]]\n",
            "At time:  13 \t [[0.25039182082048, 0.74960817917952]]\n",
            "At time:  14 \t [[0.25023509249228804, 0.7497649075077121]]\n",
            "At time:  15 \t [[0.25014105549537285, 0.7498589445046273]]\n",
            "At time:  16 \t [[0.25008463329722375, 0.7499153667027765]]\n",
            "At time:  17 \t [[0.25005077997833425, 0.749949220021666]]\n",
            "At time:  18 \t [[0.25003046798700057, 0.7499695320129997]]\n",
            "At time:  19 \t [[0.25001828079220034, 0.7499817192077999]]\n",
            "At time:  20 \t [[0.2500109684753202, 0.74998903152468]]\n",
            "At time:  21 \t [[0.25000658108519214, 0.7499934189148081]]\n",
            "At time:  22 \t [[0.2500039486511153, 0.7499960513488849]]\n",
            "At time:  23 \t [[0.2500023691906692, 0.749997630809331]]\n",
            "At time:  24 \t [[0.2500014215144015, 0.7499985784855987]]\n",
            "At time:  25 \t [[0.25000085290864094, 0.7499991470913593]]\n",
            "At time:  26 \t [[0.25000051174518456, 0.7499994882548157]]\n",
            "At time:  27 \t [[0.25000030704711074, 0.7499996929528895]]\n",
            "At time:  28 \t [[0.2500001842282665, 0.7499998157717338]]\n",
            "At time:  29 \t [[0.2500001105369599, 0.7499998894630404]]\n",
            "At time:  30 \t [[0.250000066322176, 0.7499999336778244]]\n",
            "At time:  31 \t [[0.2500000397933056, 0.7499999602066948]]\n",
            "At time:  32 \t [[0.2500000238759834, 0.749999976124017]]\n",
            "At time:  33 \t [[0.2500000143255901, 0.7499999856744103]]\n",
            "At time:  34 \t [[0.2500000085953541, 0.7499999914046463]]\n",
            "At time:  35 \t [[0.2500000051572125, 0.749999994842788]]\n",
            "At time:  36 \t [[0.2500000030943275, 0.749999996905673]]\n",
            "At time:  37 \t [[0.25000000185659654, 0.749999998143404]]\n",
            "At time:  38 \t [[0.250000001113958, 0.7499999988860426]]\n",
            "At time:  39 \t [[0.25000000066837486, 0.7499999993316258]]\n",
            "At time:  40 \t [[0.25000000040102494, 0.7499999995989757]]\n",
            "At time:  41 \t [[0.25000000024061503, 0.7499999997593856]]\n",
            "At time:  42 \t [[0.2500000001443691, 0.7499999998556316]]\n",
            "At time:  43 \t [[0.2500000000866215, 0.7499999999133792]]\n",
            "At time:  44 \t [[0.250000000051973, 0.7499999999480278]]\n",
            "At time:  45 \t [[0.25000000003118383, 0.7499999999688169]]\n",
            "At time:  46 \t [[0.25000000001871037, 0.7499999999812904]]\n",
            "At time:  47 \t [[0.2500000000112263, 0.7499999999887745]]\n",
            "At time:  48 \t [[0.25000000000673583, 0.749999999993265]]\n",
            "At time:  49 \t [[0.2500000000040416, 0.7499999999959593]]\n",
            "At time:  50 \t [[0.25000000000242506, 0.7499999999975758]]\n",
            "At time:  51 \t [[0.2500000000014551, 0.7499999999985457]]\n",
            "At time:  52 \t [[0.25000000000087313, 0.7499999999991277]]\n",
            "At time:  53 \t [[0.25000000000052397, 0.7499999999994769]]\n",
            "At time:  54 \t [[0.25000000000031447, 0.7499999999996864]]\n",
            "At time:  55 \t [[0.25000000000018874, 0.749999999999812]]\n",
            "At time:  56 \t [[0.2500000000001133, 0.7499999999998874]]\n",
            "At time:  57 \t [[0.25000000000006806, 0.7499999999999327]]\n",
            "At time:  58 \t [[0.2500000000000409, 0.7499999999999598]]\n",
            "At time:  59 \t [[0.25000000000002465, 0.7499999999999761]]\n",
            "At time:  60 \t [[0.2500000000000149, 0.7499999999999859]]\n",
            "At time:  61 \t [[0.250000000000009, 0.7499999999999918]]\n",
            "At time:  62 \t [[0.25000000000000544, 0.7499999999999953]]\n",
            "At time:  63 \t [[0.25000000000000333, 0.7499999999999974]]\n",
            "At time:  64 \t [[0.25000000000000205, 0.7499999999999987]]\n",
            "At time:  65 \t [[0.25000000000000133, 0.7499999999999994]]\n",
            "At time:  66 \t [[0.2500000000000009, 0.7499999999999999]]\n",
            "At time:  67 \t [[0.2500000000000006, 0.7500000000000002]]\n",
            "At time:  68 \t [[0.25000000000000044, 0.7500000000000004]]\n",
            "At time:  69 \t [[0.25000000000000033, 0.7500000000000006]]\n",
            "At time:  70 \t [[0.2500000000000003, 0.7500000000000006]]\n",
            "At time:  71 \t [[0.2500000000000002, 0.7500000000000006]]\n",
            "At time:  72 \t [[0.2500000000000002, 0.7500000000000006]]\n",
            "At time:  73 \t [[0.2500000000000002, 0.7500000000000006]]\n",
            "At time:  74 \t [[0.2500000000000002, 0.7500000000000006]]\n",
            "At time:  75 \t [[0.2500000000000002, 0.7500000000000006]]\n",
            "At time:  76 \t [[0.2500000000000002, 0.7500000000000006]]\n",
            "At time:  77 \t [[0.2500000000000002, 0.7500000000000006]]\n",
            "At time:  78 \t [[0.2500000000000002, 0.7500000000000006]]\n",
            "At time:  79 \t [[0.2500000000000002, 0.7500000000000006]]\n",
            "At time:  80 \t [[0.2500000000000002, 0.7500000000000006]]\n",
            "At time:  81 \t [[0.2500000000000002, 0.7500000000000006]]\n",
            "At time:  82 \t [[0.2500000000000002, 0.7500000000000006]]\n",
            "At time:  83 \t [[0.2500000000000002, 0.7500000000000006]]\n",
            "At time:  84 \t [[0.2500000000000002, 0.7500000000000006]]\n",
            "At time:  85 \t [[0.2500000000000002, 0.7500000000000006]]\n",
            "At time:  86 \t [[0.2500000000000002, 0.7500000000000006]]\n",
            "At time:  87 \t [[0.2500000000000002, 0.7500000000000006]]\n",
            "At time:  88 \t [[0.2500000000000002, 0.7500000000000006]]\n",
            "At time:  89 \t [[0.2500000000000002, 0.7500000000000006]]\n",
            "At time:  90 \t [[0.2500000000000002, 0.7500000000000006]]\n",
            "At time:  91 \t [[0.2500000000000002, 0.7500000000000006]]\n",
            "At time:  92 \t [[0.2500000000000002, 0.7500000000000006]]\n",
            "At time:  93 \t [[0.2500000000000002, 0.7500000000000006]]\n",
            "At time:  94 \t [[0.2500000000000002, 0.7500000000000006]]\n",
            "At time:  95 \t [[0.2500000000000002, 0.7500000000000006]]\n",
            "At time:  96 \t [[0.2500000000000002, 0.7500000000000006]]\n",
            "At time:  97 \t [[0.2500000000000002, 0.7500000000000006]]\n",
            "At time:  98 \t [[0.2500000000000002, 0.7500000000000006]]\n",
            "At time:  99 \t [[0.2500000000000002, 0.7500000000000006]]\n",
            "At time:  100 \t [[0.2500000000000002, 0.7500000000000006]]\n"
          ]
        }
      ]
    }
  ]
}