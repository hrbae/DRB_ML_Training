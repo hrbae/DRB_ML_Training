{
  "nbformat": 4,
  "nbformat_minor": 0,
  "metadata": {
    "colab": {
      "name": "Sequence Model.ipynb",
      "provenance": []
    },
    "kernelspec": {
      "name": "python3",
      "display_name": "Python 3"
    },
    "language_info": {
      "name": "python"
    },
    "accelerator": "TPU"
  },
  "cells": [
    {
      "cell_type": "markdown",
      "metadata": {
        "id": "-4fGh4aBQ_5a"
      },
      "source": [
        "## Import Module"
      ]
    },
    {
      "cell_type": "code",
      "metadata": {
        "id": "GolBMq21Oeja"
      },
      "source": [
        "import tensorflow as tf\n",
        "from tensorflow import keras\n",
        "import numpy as np\n",
        "import matplotlib.pyplot as plt"
      ],
      "execution_count": null,
      "outputs": []
    },
    {
      "cell_type": "markdown",
      "metadata": {
        "id": "KfLKMR7LRxcW"
      },
      "source": [
        "## IMDB dataset"
      ]
    },
    {
      "cell_type": "code",
      "metadata": {
        "id": "ssfGQb4kR0Jw"
      },
      "source": [
        "NUM_WORDS=10000 #자주 쓰인 상위 1000개의 단어\n",
        "(train_x, train_y), (test_x, test_y) = keras.datasets.imdb.load_data(num_words=NUM_WORDS)"
      ],
      "execution_count": null,
      "outputs": []
    },
    {
      "cell_type": "code",
      "metadata": {
        "colab": {
          "base_uri": "https://localhost:8080/"
        },
        "id": "JOk5cD03UQYr",
        "outputId": "466c6db0-9331-4970-bfea-37614eaa6468"
      },
      "source": [
        "INDEX_FROM=3\n",
        "word_to_id = keras.datasets.imdb.get_word_index()\n",
        "word_to_id = {k:(v+INDEX_FROM) for k,v in word_to_id.items()}\n",
        "word_to_id[\"<PAD>\"] = 0\n",
        "word_to_id[\"<START>\"] = 1\n",
        "word_to_id[\"<UNK>\"] = 2\n",
        "word_to_id[\"<UNUSED>\"] = 3\n",
        "\n",
        "id_to_word = {value:key for key,value in word_to_id.items()}\n",
        "def decode(sequence):    \n",
        "    print(' '.join(id_to_word[id] for id in sequence ))\n",
        "    \n",
        "decode(test_x[0])"
      ],
      "execution_count": null,
      "outputs": [
        {
          "output_type": "stream",
          "name": "stdout",
          "text": [
            "Downloading data from https://storage.googleapis.com/tensorflow/tf-keras-datasets/imdb_word_index.json\n",
            "1646592/1641221 [==============================] - 0s 0us/step\n",
            "1654784/1641221 [==============================] - 0s 0us/step\n",
            "<START> please give this one a miss br br <UNK> <UNK> and the rest of the cast rendered terrible performances the show is flat flat flat br br i don't know how michael madison could have allowed this one on his plate he almost seemed to know this wasn't going to work out and his performance was quite <UNK> so all you madison fans give this a miss\n"
          ]
        }
      ]
    },
    {
      "cell_type": "code",
      "metadata": {
        "id": "oJ8ndQq6YcAF"
      },
      "source": [
        "train_x = keras.preprocessing.sequence.pad_sequences(train_x,value=0,padding='post',maxlen=256)\n",
        "test_x = keras.preprocessing.sequence.pad_sequences(test_x,value=0,padding='post',maxlen=256)"
      ],
      "execution_count": null,
      "outputs": []
    },
    {
      "cell_type": "code",
      "metadata": {
        "colab": {
          "base_uri": "https://localhost:8080/"
        },
        "id": "DSfnLl5yYs15",
        "outputId": "a7ddbc17-20cf-46df-9dc5-564b9b3a8580"
      },
      "source": [
        "decode(test_x[100])"
      ],
      "execution_count": null,
      "outputs": [
        {
          "output_type": "stream",
          "name": "stdout",
          "text": [
            "<START> a quick glance at the premise of this film would seem to indicate just another dumb <UNK> <UNK> <UNK> slash fest the type where sex equals death and the actors are all annoying stereotypes you actually want to die however delivers considerably more br br rather than focus on bare flesh and gore though there is a little of each no sex however the flick focuses on delivering impending dread <UNK> tension amidst a lovely <UNK> backdrop these feelings are further <UNK> by a cast of realistically likable characters and <UNK> that are more amoral than cardboard <UNK> of evil oh yeah george kennedy is here too and when is that not a good thing br br if you liked wrong turn then watch this to see where much of its' <UNK> came from <PAD> <PAD> <PAD> <PAD> <PAD> <PAD> <PAD> <PAD> <PAD> <PAD> <PAD> <PAD> <PAD> <PAD> <PAD> <PAD> <PAD> <PAD> <PAD> <PAD> <PAD> <PAD> <PAD> <PAD> <PAD> <PAD> <PAD> <PAD> <PAD> <PAD> <PAD> <PAD> <PAD> <PAD> <PAD> <PAD> <PAD> <PAD> <PAD> <PAD> <PAD> <PAD> <PAD> <PAD> <PAD> <PAD> <PAD> <PAD> <PAD> <PAD> <PAD> <PAD> <PAD> <PAD> <PAD> <PAD> <PAD> <PAD> <PAD> <PAD> <PAD> <PAD> <PAD> <PAD> <PAD> <PAD> <PAD> <PAD> <PAD> <PAD> <PAD> <PAD> <PAD> <PAD> <PAD> <PAD> <PAD> <PAD> <PAD> <PAD> <PAD> <PAD> <PAD> <PAD> <PAD> <PAD> <PAD> <PAD> <PAD> <PAD> <PAD> <PAD> <PAD> <PAD> <PAD> <PAD> <PAD> <PAD> <PAD> <PAD> <PAD> <PAD> <PAD> <PAD> <PAD> <PAD> <PAD> <PAD> <PAD> <PAD> <PAD> <PAD> <PAD> <PAD> <PAD> <PAD> <PAD> <PAD> <PAD> <PAD> <PAD>\n"
          ]
        }
      ]
    },
    {
      "cell_type": "code",
      "metadata": {
        "colab": {
          "base_uri": "https://localhost:8080/"
        },
        "id": "Y7j-xQF8uGrC",
        "outputId": "b34f2315-6d66-4c1a-c4c7-f96791b60c49"
      },
      "source": [
        "test_y[100]"
      ],
      "execution_count": null,
      "outputs": [
        {
          "output_type": "execute_result",
          "data": {
            "text/plain": [
              "1"
            ]
          },
          "metadata": {},
          "execution_count": 23
        }
      ]
    },
    {
      "cell_type": "code",
      "metadata": {
        "colab": {
          "base_uri": "https://localhost:8080/"
        },
        "id": "B12laNNrYwy9",
        "outputId": "25338578-828a-4e38-a9b7-79b0a63c99bb"
      },
      "source": [
        "model = keras.Sequential([\n",
        "    keras.layers.Embedding(input_dim=NUM_WORDS, output_dim=2, input_length=256),\n",
        "    keras.layers.Flatten(),\n",
        "    keras.layers.Dropout(0.5),\n",
        "    keras.layers.Dense(5,activation='relu'),\n",
        "    keras.layers.Dense(1,activation='sigmoid')\n",
        "  \n",
        "])\n",
        "\n",
        "model.compile(optimizer='adam',\n",
        "                       loss='binary_crossentropy',\n",
        "                      metrics=['accuracy','binary_crossentropy'])\n",
        "model.summary()"
      ],
      "execution_count": null,
      "outputs": [
        {
          "output_type": "stream",
          "name": "stdout",
          "text": [
            "Model: \"sequential_6\"\n",
            "_________________________________________________________________\n",
            "Layer (type)                 Output Shape              Param #   \n",
            "=================================================================\n",
            "embedding_7 (Embedding)      (None, 256, 2)            20000     \n",
            "_________________________________________________________________\n",
            "flatten_2 (Flatten)          (None, 512)               0         \n",
            "_________________________________________________________________\n",
            "dropout_7 (Dropout)          (None, 512)               0         \n",
            "_________________________________________________________________\n",
            "dense_12 (Dense)             (None, 5)                 2565      \n",
            "_________________________________________________________________\n",
            "dense_13 (Dense)             (None, 1)                 6         \n",
            "=================================================================\n",
            "Total params: 22,571\n",
            "Trainable params: 22,571\n",
            "Non-trainable params: 0\n",
            "_________________________________________________________________\n"
          ]
        }
      ]
    },
    {
      "cell_type": "code",
      "metadata": {
        "colab": {
          "base_uri": "https://localhost:8080/"
        },
        "id": "Q_rZUdEpZKwG",
        "outputId": "fc2b4bbd-3c4d-4a4a-e6ec-3816d2c6a9e2"
      },
      "source": [
        "early_stop = keras.callbacks.EarlyStopping(monitor='val_loss', patience=4)\n",
        "\n",
        "history = model.fit(train_x,\n",
        "                    train_y,\n",
        "                    epochs=20,\n",
        "                    batch_size=100,\n",
        "                    validation_data=(test_x, test_y),\n",
        "                    verbose=1,\n",
        "                    callbacks=early_stop)"
      ],
      "execution_count": null,
      "outputs": [
        {
          "output_type": "stream",
          "name": "stdout",
          "text": [
            "Epoch 1/20\n",
            "250/250 [==============================] - 2s 6ms/step - loss: 0.6928 - accuracy: 0.5092 - binary_crossentropy: 0.6928 - val_loss: 0.6909 - val_accuracy: 0.5433 - val_binary_crossentropy: 0.6909\n",
            "Epoch 2/20\n",
            "250/250 [==============================] - 1s 6ms/step - loss: 0.5799 - accuracy: 0.7063 - binary_crossentropy: 0.5799 - val_loss: 0.4042 - val_accuracy: 0.8388 - val_binary_crossentropy: 0.4042\n",
            "Epoch 3/20\n",
            "250/250 [==============================] - 2s 7ms/step - loss: 0.3595 - accuracy: 0.8471 - binary_crossentropy: 0.3595 - val_loss: 0.3242 - val_accuracy: 0.8636 - val_binary_crossentropy: 0.3242\n",
            "Epoch 4/20\n",
            "250/250 [==============================] - 1s 6ms/step - loss: 0.3012 - accuracy: 0.8748 - binary_crossentropy: 0.3012 - val_loss: 0.2995 - val_accuracy: 0.8764 - val_binary_crossentropy: 0.2995\n",
            "Epoch 5/20\n",
            "250/250 [==============================] - 1s 6ms/step - loss: 0.2709 - accuracy: 0.8906 - binary_crossentropy: 0.2709 - val_loss: 0.3054 - val_accuracy: 0.8681 - val_binary_crossentropy: 0.3054\n",
            "Epoch 6/20\n",
            "250/250 [==============================] - 2s 7ms/step - loss: 0.2469 - accuracy: 0.9014 - binary_crossentropy: 0.2469 - val_loss: 0.2875 - val_accuracy: 0.8807 - val_binary_crossentropy: 0.2875\n",
            "Epoch 7/20\n",
            "250/250 [==============================] - 1s 5ms/step - loss: 0.2356 - accuracy: 0.9064 - binary_crossentropy: 0.2356 - val_loss: 0.2873 - val_accuracy: 0.8802 - val_binary_crossentropy: 0.2873\n",
            "Epoch 8/20\n",
            "250/250 [==============================] - 1s 6ms/step - loss: 0.2224 - accuracy: 0.9114 - binary_crossentropy: 0.2224 - val_loss: 0.2898 - val_accuracy: 0.8799 - val_binary_crossentropy: 0.2898\n",
            "Epoch 9/20\n",
            "250/250 [==============================] - 2s 7ms/step - loss: 0.2096 - accuracy: 0.9156 - binary_crossentropy: 0.2096 - val_loss: 0.2959 - val_accuracy: 0.8758 - val_binary_crossentropy: 0.2959\n",
            "Epoch 10/20\n",
            "250/250 [==============================] - 1s 6ms/step - loss: 0.2035 - accuracy: 0.9181 - binary_crossentropy: 0.2035 - val_loss: 0.2953 - val_accuracy: 0.8765 - val_binary_crossentropy: 0.2953\n",
            "Epoch 11/20\n",
            "250/250 [==============================] - 2s 7ms/step - loss: 0.1981 - accuracy: 0.9210 - binary_crossentropy: 0.1981 - val_loss: 0.3008 - val_accuracy: 0.8760 - val_binary_crossentropy: 0.3008\n"
          ]
        }
      ]
    },
    {
      "cell_type": "markdown",
      "metadata": {
        "id": "tIKPLQoLuvHQ"
      },
      "source": [
        "## 임베딩 레이어 살펴보기"
      ]
    },
    {
      "cell_type": "code",
      "metadata": {
        "id": "0Feywrxouwt6"
      },
      "source": [
        "# 임베딩 레이어만 추리기\n",
        "embed=keras.backend.function(\n",
        "    [model.layers[0].input],\n",
        "    [model.layers[1].output]\n",
        ")"
      ],
      "execution_count": null,
      "outputs": []
    },
    {
      "cell_type": "code",
      "metadata": {
        "colab": {
          "base_uri": "https://localhost:8080/",
          "height": 283
        },
        "id": "xcWMUffPvBNL",
        "outputId": "4323b7e4-ce4b-4e1c-a73b-adb0f51b0b90"
      },
      "source": [
        "# 2차원에 데이터 시각화 해보기\n",
        "result=embed(test_x[100])[0]\n",
        "plt.scatter(result[:,0],result[:,1])\n"
      ],
      "execution_count": null,
      "outputs": [
        {
          "output_type": "execute_result",
          "data": {
            "text/plain": [
              "<matplotlib.collections.PathCollection at 0x7f45a1217150>"
            ]
          },
          "metadata": {},
          "execution_count": 55
        },
        {
          "output_type": "display_data",
          "data": {
            "image/png": "[encoded data removed]",
            "text/plain": [
              "<Figure size 432x288 with 1 Axes>"
            ]
          },
          "metadata": {
            "needs_background": "light"
          }
        }
      ]
    },
    {
      "cell_type": "code",
      "metadata": {
        "colab": {
          "base_uri": "https://localhost:8080/"
        },
        "id": "5yZB3DZ4xvS-",
        "outputId": "fbe869e0-ca77-45f6-baea-59680232c93c"
      },
      "source": [
        "# 긍정, 부정 단어들을 추려내기\n",
        "keywords = ['great', 'brilliant','crap','bad', 'fantastic', 'movie', 'seagal','suck','wonderful']\n",
        "ids=[]\n",
        "for word in keywords:\n",
        "    ids.append(word_to_id[word])\n",
        "ids=np.array(ids)\n",
        "ids"
      ],
      "execution_count": null,
      "outputs": [
        {
          "output_type": "execute_result",
          "data": {
            "text/plain": [
              "array([  87,  530,  595,   78,  777,   20, 3272, 2777,  389])"
            ]
          },
          "metadata": {},
          "execution_count": 63
        }
      ]
    },
    {
      "cell_type": "code",
      "metadata": {
        "colab": {
          "base_uri": "https://localhost:8080/",
          "height": 483
        },
        "id": "pkiCN-LUxzfc",
        "outputId": "a70815df-8bbc-4a84-9281-daa2b6852df1"
      },
      "source": [
        "# 긍정, 부정 단어들을 매핑해보기\n",
        "result = embed(ids)[0]\n",
        "plt.figure(figsize=(12,8))\n",
        "plt.scatter(result[:,0],result[:,1])\n",
        "for i,j in zip(keywords, result):\n",
        "    plt.annotate(i, (j[0]+0.01,j[1]-0.01))"
      ],
      "execution_count": null,
      "outputs": [
        {
          "output_type": "display_data",
          "data": {
            "image/png": "[encoded data removed]",
            "text/plain": [
              "<Figure size 864x576 with 1 Axes>"
            ]
          },
          "metadata": {
            "needs_background": "light"
          }
        }
      ]
    },
    {
      "cell_type": "markdown",
      "metadata": {
        "id": "HIC8ebCtREW9"
      },
      "source": [
        "## Test RNN layers"
      ]
    },
    {
      "cell_type": "code",
      "metadata": {
        "id": "9bez7MRiOltD"
      },
      "source": [
        "rnn=tf.keras.layers.SimpleRNN(1)"
      ],
      "execution_count": null,
      "outputs": []
    },
    {
      "cell_type": "code",
      "metadata": {
        "id": "MbFwVkbMQiPd"
      },
      "source": [
        "x=np.random.rand(10,4)"
      ],
      "execution_count": null,
      "outputs": []
    },
    {
      "cell_type": "code",
      "metadata": {
        "colab": {
          "base_uri": "https://localhost:8080/"
        },
        "id": "TnzeEMz8Qs9J",
        "outputId": "fcd4d4c9-445c-4bd3-ef35-2b1c31abdce8"
      },
      "source": [
        "x=x.reshape(1,10,4)\n",
        "x"
      ],
      "execution_count": null,
      "outputs": [
        {
          "output_type": "execute_result",
          "data": {
            "text/plain": [
              "array([[[0.89688803, 0.89131772, 0.10705722, 0.59229782],\n",
              "        [0.20353401, 0.4632617 , 0.01362039, 0.52581225],\n",
              "        [0.80125296, 0.43673976, 0.77064982, 0.87757446],\n",
              "        [0.13474383, 0.8285217 , 0.5650052 , 0.49659167],\n",
              "        [0.95287008, 0.19505824, 0.34472721, 0.80330485],\n",
              "        [0.70640028, 0.64892766, 0.07509177, 0.61594853],\n",
              "        [0.401523  , 0.90450108, 0.04424989, 0.93931159],\n",
              "        [0.42278576, 0.70273697, 0.91862194, 0.58391115],\n",
              "        [0.87739314, 0.17911417, 0.33979958, 0.78728389],\n",
              "        [0.22070369, 0.61587449, 0.90882134, 0.9125869 ]]])"
            ]
          },
          "metadata": {},
          "execution_count": 4
        }
      ]
    },
    {
      "cell_type": "code",
      "metadata": {
        "colab": {
          "base_uri": "https://localhost:8080/"
        },
        "id": "uMNVZNjOSDmb",
        "outputId": "0683bc24-f0fe-49d1-fbcb-cccba6562fc9"
      },
      "source": [
        "x2=np.random.rand(1,20,4)\n",
        "rnn(x2)"
      ],
      "execution_count": null,
      "outputs": [
        {
          "output_type": "execute_result",
          "data": {
            "text/plain": [
              "<tf.Tensor: shape=(1, 1), dtype=float32, numpy=array([[0.94101554]], dtype=float32)>"
            ]
          },
          "metadata": {},
          "execution_count": 5
        }
      ]
    },
    {
      "cell_type": "code",
      "metadata": {
        "colab": {
          "base_uri": "https://localhost:8080/"
        },
        "id": "x5eF2AIeSzl8",
        "outputId": "582249b3-d2ce-41c0-921b-695e4557fbfc"
      },
      "source": [
        "rnn=tf.keras.layers.SimpleRNN(1, return_sequences=True)\n",
        "rnn(x)"
      ],
      "execution_count": null,
      "outputs": [
        {
          "output_type": "execute_result",
          "data": {
            "text/plain": [
              "<tf.Tensor: shape=(1, 10, 1), dtype=float32, numpy=\n",
              "array([[[ 0.58326685],\n",
              "        [-0.32400668],\n",
              "        [ 0.7181682 ],\n",
              "        [-0.05164018],\n",
              "        [ 0.35033494],\n",
              "        [ 0.11682774],\n",
              "        [ 0.36808193],\n",
              "        [ 0.3785091 ],\n",
              "        [-0.08798663],\n",
              "        [ 0.61032224]]], dtype=float32)>"
            ]
          },
          "metadata": {},
          "execution_count": 6
        }
      ]
    },
    {
      "cell_type": "markdown",
      "metadata": {
        "id": "uTBLLuQvRH2H"
      },
      "source": [
        "## Test LSTM layers"
      ]
    },
    {
      "cell_type": "code",
      "metadata": {
        "colab": {
          "base_uri": "https://localhost:8080/"
        },
        "id": "LD9y73fQQy23",
        "outputId": "b8737562-4caf-4f2e-b175-2fdded621749"
      },
      "source": [
        "lstm = tf.keras.layers.LSTM(1)\n",
        "lstm(x)"
      ],
      "execution_count": null,
      "outputs": [
        {
          "output_type": "execute_result",
          "data": {
            "text/plain": [
              "<tf.Tensor: shape=(1, 1), dtype=float32, numpy=array([[-0.35969055]], dtype=float32)>"
            ]
          },
          "metadata": {},
          "execution_count": 7
        }
      ]
    },
    {
      "cell_type": "code",
      "metadata": {
        "colab": {
          "base_uri": "https://localhost:8080/"
        },
        "id": "D1smtNnUZvdf",
        "outputId": "bc528141-ecd9-428a-b6e1-1d9a08dc7b73"
      },
      "source": [
        "# http://intelligence.korea.ac.kr/members/wschoi/nlp/deeplearning/Bidirectional-RNN-and-LSTM/\n",
        "model = keras.Sequential([\n",
        "    keras.layers.Embedding(input_dim=NUM_WORDS, output_dim=32, input_length=256),\n",
        "    keras.layers.Dropout(0.5),\n",
        "    keras.layers.Bidirectional(keras.layers.LSTM(64)),    \n",
        "    keras.layers.Dense(8, activation='relu'),\n",
        "    keras.layers.Dense(1, activation='sigmoid'),    \n",
        "])\n",
        "\n",
        "model.compile(optimizer='adam',\n",
        "                       loss='binary_crossentropy',\n",
        "                      metrics=['accuracy'])\n",
        "model.summary()"
      ],
      "execution_count": null,
      "outputs": [
        {
          "output_type": "stream",
          "name": "stdout",
          "text": [
            "Model: \"sequential_5\"\n",
            "_________________________________________________________________\n",
            "Layer (type)                 Output Shape              Param #   \n",
            "=================================================================\n",
            "embedding_6 (Embedding)      (None, 256, 32)           320000    \n",
            "_________________________________________________________________\n",
            "dropout_6 (Dropout)          (None, 256, 32)           0         \n",
            "_________________________________________________________________\n",
            "bidirectional (Bidirectional (None, 128)               49664     \n",
            "_________________________________________________________________\n",
            "dense_10 (Dense)             (None, 8)                 1032      \n",
            "_________________________________________________________________\n",
            "dense_11 (Dense)             (None, 1)                 9         \n",
            "=================================================================\n",
            "Total params: 370,705\n",
            "Trainable params: 370,705\n",
            "Non-trainable params: 0\n",
            "_________________________________________________________________\n"
          ]
        }
      ]
    },
    {
      "cell_type": "code",
      "metadata": {
        "colab": {
          "base_uri": "https://localhost:8080/"
        },
        "id": "kdqLqP4naFT4",
        "outputId": "c3db4ece-2c62-49f6-a0d5-a2f4a841e5b8"
      },
      "source": [
        "early_stop = keras.callbacks.EarlyStopping(monitor='val_loss', patience=4)\n",
        "history = model.fit(train_x,\n",
        "                    train_y,\n",
        "                    epochs=20,\n",
        "                    batch_size=100,                    \n",
        "                    validation_data=(test_x,test_y),\n",
        "                    callbacks=early_stop)"
      ],
      "execution_count": null,
      "outputs": [
        {
          "output_type": "stream",
          "name": "stdout",
          "text": [
            "Epoch 1/20\n",
            "250/250 [==============================] - 126s 491ms/step - loss: 0.5018 - accuracy: 0.7456 - val_loss: 0.4225 - val_accuracy: 0.8239\n",
            "Epoch 2/20\n",
            "250/250 [==============================] - 123s 492ms/step - loss: 0.2820 - accuracy: 0.8906 - val_loss: 0.3497 - val_accuracy: 0.8650\n",
            "Epoch 3/20\n",
            "250/250 [==============================] - 122s 490ms/step - loss: 0.2194 - accuracy: 0.9183 - val_loss: 0.3091 - val_accuracy: 0.8727\n",
            "Epoch 4/20\n",
            "250/250 [==============================] - 122s 488ms/step - loss: 0.1848 - accuracy: 0.9323 - val_loss: 0.3360 - val_accuracy: 0.8732\n",
            "Epoch 5/20\n",
            "250/250 [==============================] - 122s 488ms/step - loss: 0.1740 - accuracy: 0.9365 - val_loss: 0.3913 - val_accuracy: 0.8707\n",
            "Epoch 6/20\n",
            "250/250 [==============================] - 122s 489ms/step - loss: 0.1389 - accuracy: 0.9512 - val_loss: 0.3866 - val_accuracy: 0.8634\n",
            "Epoch 7/20\n",
            "250/250 [==============================] - 123s 492ms/step - loss: 0.1327 - accuracy: 0.9540 - val_loss: 0.4631 - val_accuracy: 0.8657\n"
          ]
        }
      ]
    }
  ]
}