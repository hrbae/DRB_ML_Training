{
  "nbformat": 4,
  "nbformat_minor": 0,
  "metadata": {
    "colab": {
      "name": "DRB_database_pymysql.ipynb",
      "provenance": []
    },
    "kernelspec": {
      "name": "python3",
      "display_name": "Python 3"
    },
    "language_info": {
      "name": "python"
    }
  },
  "cells": [
    {
      "cell_type": "markdown",
      "metadata": {
        "id": "HvB7aC1D-8Vz"
      },
      "source": [
        "## pymysql 패키지 설치"
      ]
    },
    {
      "cell_type": "code",
      "metadata": {
        "colab": {
          "base_uri": "https://localhost:8080/"
        },
        "id": "DIk5cBLE7UEQ",
        "outputId": "2d74c972-191c-443f-8e11-301a8c493bc6"
      },
      "source": [
        "!pip install pymysql"
      ],
      "execution_count": 1,
      "outputs": [
        {
          "output_type": "stream",
          "name": "stdout",
          "text": [
            "Collecting pymysql\n",
            "  Downloading PyMySQL-1.0.2-py3-none-any.whl (43 kB)\n",
            "\u001b[?25l\r\u001b[K     |███████▌                        | 10 kB 16.1 MB/s eta 0:00:01\r\u001b[K     |███████████████                 | 20 kB 9.6 MB/s eta 0:00:01\r\u001b[K     |██████████████████████▍         | 30 kB 7.9 MB/s eta 0:00:01\r\u001b[K     |██████████████████████████████  | 40 kB 7.3 MB/s eta 0:00:01\r\u001b[K     |████████████████████████████████| 43 kB 1.6 MB/s \n",
            "\u001b[?25hInstalling collected packages: pymysql\n",
            "Successfully installed pymysql-1.0.2\n"
          ]
        }
      ]
    },
    {
      "cell_type": "markdown",
      "metadata": {
        "id": "jKfjnxhA-_nR"
      },
      "source": [
        "## 패키지 불러오기"
      ]
    },
    {
      "cell_type": "code",
      "metadata": {
        "id": "7yu82SoU7c0M"
      },
      "source": [
        "import pymysql"
      ],
      "execution_count": 2,
      "outputs": []
    },
    {
      "cell_type": "code",
      "metadata": {
        "id": "bbIguRKm7g_0"
      },
      "source": [
        "url='database-1.crgynijfr6gz.ap-northeast-2.rds.amazonaws.com'\n",
        "id='user'\n",
        "pwd='1234'\n",
        "port=3306\n",
        "db='flight_delay'\n",
        "\n",
        "## 데이터베이스 접속\n",
        "## conn 객체를 이용하여 접속 컨트롤 가능\n",
        "conn=pymysql.connect(host=url,user=id,password=pwd,database=db,port=port)\n"
      ],
      "execution_count": 10,
      "outputs": []
    },
    {
      "cell_type": "code",
      "metadata": {
        "id": "ZcX7pKH09aIV"
      },
      "source": [
        "## 커서지정 (현재 할일)\n",
        "cur = conn.cursor()"
      ],
      "execution_count": 60,
      "outputs": []
    },
    {
      "cell_type": "code",
      "metadata": {
        "colab": {
          "base_uri": "https://localhost:8080/"
        },
        "id": "um6GK5VX9eGs",
        "outputId": "54de9681-0b0e-4710-b6c8-ba1d267a1732"
      },
      "source": [
        "## 쿼리문 원격실행\n",
        "sql = \"SELECT * FROM days\" #쿼리문은 문자열로\n",
        "cur.execute(sql) # 커서의 execute 명령어로 쿼리 실행\n",
        "output=cur.fetchall() # 쿼리 실행결과를 파이썬 객체로 반환\n",
        "print(output) #확인"
      ],
      "execution_count": 61,
      "outputs": [
        {
          "output_type": "stream",
          "name": "stdout",
          "text": [
            "((1, 'Monday'), (2, 'Tuesday'), (3, 'Wednesday'), (4, 'Thursday'), (5, 'Friday'), (6, 'Saturday'), (7, 'Sunday'), (9, 'Unknown'))\n"
          ]
        }
      ]
    },
    {
      "cell_type": "code",
      "metadata": {
        "colab": {
          "base_uri": "https://localhost:8080/"
        },
        "id": "HMBfA-Rk94xS",
        "outputId": "abb680b4-bedf-43e4-a559-e7ce5d20bc98"
      },
      "source": [
        "for i in output:\n",
        "    print(i)"
      ],
      "execution_count": 62,
      "outputs": [
        {
          "output_type": "stream",
          "name": "stdout",
          "text": [
            "(1, 'Monday')\n",
            "(2, 'Tuesday')\n",
            "(3, 'Wednesday')\n",
            "(4, 'Thursday')\n",
            "(5, 'Friday')\n",
            "(6, 'Saturday')\n",
            "(7, 'Sunday')\n",
            "(9, 'Unknown')\n"
          ]
        }
      ]
    },
    {
      "cell_type": "code",
      "metadata": {
        "id": "uLUdZcI0KcvY"
      },
      "source": [
        "#접속 끊기\n",
        "conn.close()"
      ],
      "execution_count": 63,
      "outputs": []
    },
    {
      "cell_type": "code",
      "metadata": {
        "colab": {
          "base_uri": "https://localhost:8080/",
          "height": 390
        },
        "id": "r4u5c7a9KfRq",
        "outputId": "b9443895-6d30-4494-d046-d00fe65f0806"
      },
      "source": [
        "#접속 끊은 후에는 커서가 실행되지 않음\n",
        "cur.execute(sql) # 커서의 execute 명령어로 쿼리 실행\n",
        "print(output) #확인"
      ],
      "execution_count": 64,
      "outputs": [
        {
          "output_type": "error",
          "ename": "InterfaceError",
          "evalue": "ignored",
          "traceback": [
            "\u001b[0;31m---------------------------------------------------------------------------\u001b[0m",
            "\u001b[0;31mInterfaceError\u001b[0m                            Traceback (most recent call last)",
            "\u001b[0;32m<ipython-input-64-a641c5b334e3>\u001b[0m in \u001b[0;36m<module>\u001b[0;34m()\u001b[0m\n\u001b[1;32m      1\u001b[0m \u001b[0msql\u001b[0m \u001b[0;34m=\u001b[0m \u001b[0;34m\"SELECT * FROM days\"\u001b[0m \u001b[0;31m#쿼리문은 문자열로\u001b[0m\u001b[0;34m\u001b[0m\u001b[0;34m\u001b[0m\u001b[0m\n\u001b[0;32m----> 2\u001b[0;31m \u001b[0mcur\u001b[0m\u001b[0;34m.\u001b[0m\u001b[0mexecute\u001b[0m\u001b[0;34m(\u001b[0m\u001b[0msql\u001b[0m\u001b[0;34m)\u001b[0m \u001b[0;31m# 커서의 execute 명령어로 쿼리 실행\u001b[0m\u001b[0;34m\u001b[0m\u001b[0;34m\u001b[0m\u001b[0m\n\u001b[0m\u001b[1;32m      3\u001b[0m \u001b[0moutput\u001b[0m\u001b[0;34m=\u001b[0m\u001b[0mcur\u001b[0m\u001b[0;34m.\u001b[0m\u001b[0mfetchall\u001b[0m\u001b[0;34m(\u001b[0m\u001b[0;34m)\u001b[0m \u001b[0;31m# 쿼리 실행결과를 파이썬 객체로 반환\u001b[0m\u001b[0;34m\u001b[0m\u001b[0;34m\u001b[0m\u001b[0m\n\u001b[1;32m      4\u001b[0m \u001b[0mprint\u001b[0m\u001b[0;34m(\u001b[0m\u001b[0moutput\u001b[0m\u001b[0;34m)\u001b[0m \u001b[0;31m#확인\u001b[0m\u001b[0;34m\u001b[0m\u001b[0;34m\u001b[0m\u001b[0m\n",
            "\u001b[0;32m/usr/local/lib/python3.7/dist-packages/pymysql/cursors.py\u001b[0m in \u001b[0;36mexecute\u001b[0;34m(self, query, args)\u001b[0m\n\u001b[1;32m    146\u001b[0m         \u001b[0mquery\u001b[0m \u001b[0;34m=\u001b[0m \u001b[0mself\u001b[0m\u001b[0;34m.\u001b[0m\u001b[0mmogrify\u001b[0m\u001b[0;34m(\u001b[0m\u001b[0mquery\u001b[0m\u001b[0;34m,\u001b[0m \u001b[0margs\u001b[0m\u001b[0;34m)\u001b[0m\u001b[0;34m\u001b[0m\u001b[0;34m\u001b[0m\u001b[0m\n\u001b[1;32m    147\u001b[0m \u001b[0;34m\u001b[0m\u001b[0m\n\u001b[0;32m--> 148\u001b[0;31m         \u001b[0mresult\u001b[0m \u001b[0;34m=\u001b[0m \u001b[0mself\u001b[0m\u001b[0;34m.\u001b[0m\u001b[0m_query\u001b[0m\u001b[0;34m(\u001b[0m\u001b[0mquery\u001b[0m\u001b[0;34m)\u001b[0m\u001b[0;34m\u001b[0m\u001b[0;34m\u001b[0m\u001b[0m\n\u001b[0m\u001b[1;32m    149\u001b[0m         \u001b[0mself\u001b[0m\u001b[0;34m.\u001b[0m\u001b[0m_executed\u001b[0m \u001b[0;34m=\u001b[0m \u001b[0mquery\u001b[0m\u001b[0;34m\u001b[0m\u001b[0;34m\u001b[0m\u001b[0m\n\u001b[1;32m    150\u001b[0m         \u001b[0;32mreturn\u001b[0m \u001b[0mresult\u001b[0m\u001b[0;34m\u001b[0m\u001b[0;34m\u001b[0m\u001b[0m\n",
            "\u001b[0;32m/usr/local/lib/python3.7/dist-packages/pymysql/cursors.py\u001b[0m in \u001b[0;36m_query\u001b[0;34m(self, q)\u001b[0m\n\u001b[1;32m    308\u001b[0m         \u001b[0mself\u001b[0m\u001b[0;34m.\u001b[0m\u001b[0m_last_executed\u001b[0m \u001b[0;34m=\u001b[0m \u001b[0mq\u001b[0m\u001b[0;34m\u001b[0m\u001b[0;34m\u001b[0m\u001b[0m\n\u001b[1;32m    309\u001b[0m         \u001b[0mself\u001b[0m\u001b[0;34m.\u001b[0m\u001b[0m_clear_result\u001b[0m\u001b[0;34m(\u001b[0m\u001b[0;34m)\u001b[0m\u001b[0;34m\u001b[0m\u001b[0;34m\u001b[0m\u001b[0m\n\u001b[0;32m--> 310\u001b[0;31m         \u001b[0mconn\u001b[0m\u001b[0;34m.\u001b[0m\u001b[0mquery\u001b[0m\u001b[0;34m(\u001b[0m\u001b[0mq\u001b[0m\u001b[0;34m)\u001b[0m\u001b[0;34m\u001b[0m\u001b[0;34m\u001b[0m\u001b[0m\n\u001b[0m\u001b[1;32m    311\u001b[0m         \u001b[0mself\u001b[0m\u001b[0;34m.\u001b[0m\u001b[0m_do_get_result\u001b[0m\u001b[0;34m(\u001b[0m\u001b[0;34m)\u001b[0m\u001b[0;34m\u001b[0m\u001b[0;34m\u001b[0m\u001b[0m\n\u001b[1;32m    312\u001b[0m         \u001b[0;32mreturn\u001b[0m \u001b[0mself\u001b[0m\u001b[0;34m.\u001b[0m\u001b[0mrowcount\u001b[0m\u001b[0;34m\u001b[0m\u001b[0;34m\u001b[0m\u001b[0m\n",
            "\u001b[0;32m/usr/local/lib/python3.7/dist-packages/pymysql/connections.py\u001b[0m in \u001b[0;36mquery\u001b[0;34m(self, sql, unbuffered)\u001b[0m\n\u001b[1;32m    545\u001b[0m         \u001b[0;32mif\u001b[0m \u001b[0misinstance\u001b[0m\u001b[0;34m(\u001b[0m\u001b[0msql\u001b[0m\u001b[0;34m,\u001b[0m \u001b[0mstr\u001b[0m\u001b[0;34m)\u001b[0m\u001b[0;34m:\u001b[0m\u001b[0;34m\u001b[0m\u001b[0;34m\u001b[0m\u001b[0m\n\u001b[1;32m    546\u001b[0m             \u001b[0msql\u001b[0m \u001b[0;34m=\u001b[0m \u001b[0msql\u001b[0m\u001b[0;34m.\u001b[0m\u001b[0mencode\u001b[0m\u001b[0;34m(\u001b[0m\u001b[0mself\u001b[0m\u001b[0;34m.\u001b[0m\u001b[0mencoding\u001b[0m\u001b[0;34m,\u001b[0m \u001b[0;34m\"surrogateescape\"\u001b[0m\u001b[0;34m)\u001b[0m\u001b[0;34m\u001b[0m\u001b[0;34m\u001b[0m\u001b[0m\n\u001b[0;32m--> 547\u001b[0;31m         \u001b[0mself\u001b[0m\u001b[0;34m.\u001b[0m\u001b[0m_execute_command\u001b[0m\u001b[0;34m(\u001b[0m\u001b[0mCOMMAND\u001b[0m\u001b[0;34m.\u001b[0m\u001b[0mCOM_QUERY\u001b[0m\u001b[0;34m,\u001b[0m \u001b[0msql\u001b[0m\u001b[0;34m)\u001b[0m\u001b[0;34m\u001b[0m\u001b[0;34m\u001b[0m\u001b[0m\n\u001b[0m\u001b[1;32m    548\u001b[0m         \u001b[0mself\u001b[0m\u001b[0;34m.\u001b[0m\u001b[0m_affected_rows\u001b[0m \u001b[0;34m=\u001b[0m \u001b[0mself\u001b[0m\u001b[0;34m.\u001b[0m\u001b[0m_read_query_result\u001b[0m\u001b[0;34m(\u001b[0m\u001b[0munbuffered\u001b[0m\u001b[0;34m=\u001b[0m\u001b[0munbuffered\u001b[0m\u001b[0;34m)\u001b[0m\u001b[0;34m\u001b[0m\u001b[0;34m\u001b[0m\u001b[0m\n\u001b[1;32m    549\u001b[0m         \u001b[0;32mreturn\u001b[0m \u001b[0mself\u001b[0m\u001b[0;34m.\u001b[0m\u001b[0m_affected_rows\u001b[0m\u001b[0;34m\u001b[0m\u001b[0;34m\u001b[0m\u001b[0m\n",
            "\u001b[0;32m/usr/local/lib/python3.7/dist-packages/pymysql/connections.py\u001b[0m in \u001b[0;36m_execute_command\u001b[0;34m(self, command, sql)\u001b[0m\n\u001b[1;32m    791\u001b[0m         \"\"\"\n\u001b[1;32m    792\u001b[0m         \u001b[0;32mif\u001b[0m \u001b[0;32mnot\u001b[0m \u001b[0mself\u001b[0m\u001b[0;34m.\u001b[0m\u001b[0m_sock\u001b[0m\u001b[0;34m:\u001b[0m\u001b[0;34m\u001b[0m\u001b[0;34m\u001b[0m\u001b[0m\n\u001b[0;32m--> 793\u001b[0;31m             \u001b[0;32mraise\u001b[0m \u001b[0merr\u001b[0m\u001b[0;34m.\u001b[0m\u001b[0mInterfaceError\u001b[0m\u001b[0;34m(\u001b[0m\u001b[0;36m0\u001b[0m\u001b[0;34m,\u001b[0m \u001b[0;34m\"\"\u001b[0m\u001b[0;34m)\u001b[0m\u001b[0;34m\u001b[0m\u001b[0;34m\u001b[0m\u001b[0m\n\u001b[0m\u001b[1;32m    794\u001b[0m \u001b[0;34m\u001b[0m\u001b[0m\n\u001b[1;32m    795\u001b[0m         \u001b[0;31m# If the last query was unbuffered, make sure it finishes before\u001b[0m\u001b[0;34m\u001b[0m\u001b[0;34m\u001b[0m\u001b[0;34m\u001b[0m\u001b[0m\n",
            "\u001b[0;31mInterfaceError\u001b[0m: (0, '')"
          ]
        }
      ]
    },
    {
      "cell_type": "code",
      "metadata": {
        "id": "SWBfugQsKrPW"
      },
      "source": [
        "#다음처럼 재접속해야함\n",
        "conn=pymysql.connect(host=url,user=id,password=pwd,database=db,port=port)\n",
        "cur=conn.cursor()"
      ],
      "execution_count": 65,
      "outputs": []
    },
    {
      "cell_type": "markdown",
      "metadata": {
        "id": "EUKrlxnr_Z1s"
      },
      "source": [
        "## 복잡한 쿼리응용사례"
      ]
    },
    {
      "cell_type": "markdown",
      "metadata": {
        "id": "f9aNCqMo_-IJ"
      },
      "source": [
        "쿼리문 어떤 공항이 가장 사용량이 많았는가?"
      ]
    },
    {
      "cell_type": "code",
      "metadata": {
        "colab": {
          "base_uri": "https://localhost:8080/"
        },
        "id": "PMx9vG4g-BVy",
        "outputId": "e21527b0-c2b0-48ca-8c51-4b0cd6ee7586"
      },
      "source": [
        "sql = '''\n",
        "SELECT \n",
        "origin, \n",
        "airports.airport_name,\n",
        "COUNT(*) AS NUMBER\n",
        "FROM flights\n",
        "JOIN airports \n",
        "ON flights.origin=airports.code\n",
        "GROUP BY origin\n",
        "ORDER BY NUMBER DESC  \n",
        "LIMIT 10\n",
        "'''\n",
        "cur.execute(sql)\n",
        "output=cur.fetchall()\n",
        "for i in output:\n",
        "    print(i)"
      ],
      "execution_count": 16,
      "outputs": [
        {
          "output_type": "stream",
          "name": "stdout",
          "text": [
            "('ATL', ' Hartsfield-Jackson Atlanta International', 28630)\n",
            "('DFW', ' Dallas/Fort Worth International', 26507)\n",
            "('DEN', ' Denver International', 25629)\n",
            "('ORD', \" Chicago O'Hare International\", 25349)\n",
            "('CLT', ' Charlotte Douglas International', 18645)\n",
            "('LAX', ' Los Angeles International', 17684)\n",
            "('SEA', ' Seattle/Tacoma International', 16617)\n",
            "('PHX', ' Phoenix Sky Harbor International', 14387)\n",
            "('LAS', ' McCarran International', 13481)\n",
            "('IAH', ' George Bush Intercontinental/Houston', 12867)\n"
          ]
        }
      ]
    },
    {
      "cell_type": "markdown",
      "metadata": {
        "id": "yZkPaYWZ_dzm"
      },
      "source": [
        "## 파이썬 DataFrame 객체로 실행결과 변환"
      ]
    },
    {
      "cell_type": "code",
      "metadata": {
        "id": "K_0vLDdp-Xqr"
      },
      "source": [
        "import pandas as pd\n",
        "df=pd.DataFrame(output)\n",
        "df.columns = ['code','name','count'] # 열이름 다시 잡아주기"
      ],
      "execution_count": 18,
      "outputs": []
    },
    {
      "cell_type": "code",
      "metadata": {
        "colab": {
          "base_uri": "https://localhost:8080/",
          "height": 363
        },
        "id": "wbKsgw3Y-m36",
        "outputId": "e040f23c-3887-4ad2-c066-9d175f99abb1"
      },
      "source": [
        "df"
      ],
      "execution_count": 19,
      "outputs": [
        {
          "output_type": "execute_result",
          "data": {
            "text/html": [
              "<div>\n",
              "<style scoped>\n",
              "    .dataframe tbody tr th:only-of-type {\n",
              "        vertical-align: middle;\n",
              "    }\n",
              "\n",
              "    .dataframe tbody tr th {\n",
              "        vertical-align: top;\n",
              "    }\n",
              "\n",
              "    .dataframe thead th {\n",
              "        text-align: right;\n",
              "    }\n",
              "</style>\n",
              "<table border=\"1\" class=\"dataframe\">\n",
              "  <thead>\n",
              "    <tr style=\"text-align: right;\">\n",
              "      <th></th>\n",
              "      <th>code</th>\n",
              "      <th>name</th>\n",
              "      <th>count</th>\n",
              "    </tr>\n",
              "  </thead>\n",
              "  <tbody>\n",
              "    <tr>\n",
              "      <th>0</th>\n",
              "      <td>ATL</td>\n",
              "      <td>Hartsfield-Jackson Atlanta International</td>\n",
              "      <td>28630</td>\n",
              "    </tr>\n",
              "    <tr>\n",
              "      <th>1</th>\n",
              "      <td>DFW</td>\n",
              "      <td>Dallas/Fort Worth International</td>\n",
              "      <td>26507</td>\n",
              "    </tr>\n",
              "    <tr>\n",
              "      <th>2</th>\n",
              "      <td>DEN</td>\n",
              "      <td>Denver International</td>\n",
              "      <td>25629</td>\n",
              "    </tr>\n",
              "    <tr>\n",
              "      <th>3</th>\n",
              "      <td>ORD</td>\n",
              "      <td>Chicago O'Hare International</td>\n",
              "      <td>25349</td>\n",
              "    </tr>\n",
              "    <tr>\n",
              "      <th>4</th>\n",
              "      <td>CLT</td>\n",
              "      <td>Charlotte Douglas International</td>\n",
              "      <td>18645</td>\n",
              "    </tr>\n",
              "    <tr>\n",
              "      <th>5</th>\n",
              "      <td>LAX</td>\n",
              "      <td>Los Angeles International</td>\n",
              "      <td>17684</td>\n",
              "    </tr>\n",
              "    <tr>\n",
              "      <th>6</th>\n",
              "      <td>SEA</td>\n",
              "      <td>Seattle/Tacoma International</td>\n",
              "      <td>16617</td>\n",
              "    </tr>\n",
              "    <tr>\n",
              "      <th>7</th>\n",
              "      <td>PHX</td>\n",
              "      <td>Phoenix Sky Harbor International</td>\n",
              "      <td>14387</td>\n",
              "    </tr>\n",
              "    <tr>\n",
              "      <th>8</th>\n",
              "      <td>LAS</td>\n",
              "      <td>McCarran International</td>\n",
              "      <td>13481</td>\n",
              "    </tr>\n",
              "    <tr>\n",
              "      <th>9</th>\n",
              "      <td>IAH</td>\n",
              "      <td>George Bush Intercontinental/Houston</td>\n",
              "      <td>12867</td>\n",
              "    </tr>\n",
              "  </tbody>\n",
              "</table>\n",
              "</div>"
            ],
            "text/plain": [
              "  code                                       name  count\n",
              "0  ATL   Hartsfield-Jackson Atlanta International  28630\n",
              "1  DFW            Dallas/Fort Worth International  26507\n",
              "2  DEN                       Denver International  25629\n",
              "3  ORD               Chicago O'Hare International  25349\n",
              "4  CLT            Charlotte Douglas International  18645\n",
              "5  LAX                  Los Angeles International  17684\n",
              "6  SEA               Seattle/Tacoma International  16617\n",
              "7  PHX           Phoenix Sky Harbor International  14387\n",
              "8  LAS                     McCarran International  13481\n",
              "9  IAH       George Bush Intercontinental/Houston  12867"
            ]
          },
          "metadata": {},
          "execution_count": 19
        }
      ]
    },
    {
      "cell_type": "code",
      "metadata": {
        "colab": {
          "base_uri": "https://localhost:8080/",
          "height": 288
        },
        "id": "ir-OAldu-oLY",
        "outputId": "6b03acb6-114d-4f58-c4ee-484c954d637d"
      },
      "source": [
        "## 그래프로 결과 가공하기\n",
        "import matplotlib.pyplot as plt\n",
        "plt.bar(df['code'],df['count'])"
      ],
      "execution_count": 20,
      "outputs": [
        {
          "output_type": "execute_result",
          "data": {
            "text/plain": [
              "<BarContainer object of 10 artists>"
            ]
          },
          "metadata": {},
          "execution_count": 20
        },
        {
          "output_type": "display_data",
          "data": {
            "image/png": "[encoded data removed]",
            "text/plain": [
              "<Figure size 432x288 with 1 Axes>"
            ]
          },
          "metadata": {
            "needs_background": "light"
          }
        }
      ]
    },
    {
      "cell_type": "markdown",
      "metadata": {
        "id": "g4yT42tODRDh"
      },
      "source": [
        "## 문제2: LAS 공항에서 가장 바쁜날이 일주일 중 언제인가?"
      ]
    },
    {
      "cell_type": "code",
      "metadata": {
        "colab": {
          "base_uri": "https://localhost:8080/",
          "height": 269
        },
        "id": "ufduYpqkDdtP",
        "outputId": "c50d0c6d-c1b9-4878-8d00-dce7b001dfea"
      },
      "source": [
        "sql = '''\n",
        "SELECT \n",
        "dayofwk,\n",
        "days.day,\n",
        "COUNT(*) AS NUMBER\n",
        "FROM flights\n",
        "JOIN days\n",
        "ON flights.dayofwk = days.code\n",
        "WHERE origin = 'LAS' OR dest = 'LAS'\n",
        "GROUP BY dayofwk\n",
        "ORDER BY NUMBER DESC\n",
        "'''\n",
        "cur.execute(sql)\n",
        "output=cur.fetchall()\n",
        "df = pd.DataFrame(output)\n"
      ],
      "execution_count": 54,
      "outputs": [
        {
          "output_type": "execute_result",
          "data": {
            "text/html": [
              "<div>\n",
              "<style scoped>\n",
              "    .dataframe tbody tr th:only-of-type {\n",
              "        vertical-align: middle;\n",
              "    }\n",
              "\n",
              "    .dataframe tbody tr th {\n",
              "        vertical-align: top;\n",
              "    }\n",
              "\n",
              "    .dataframe thead th {\n",
              "        text-align: right;\n",
              "    }\n",
              "</style>\n",
              "<table border=\"1\" class=\"dataframe\">\n",
              "  <thead>\n",
              "    <tr style=\"text-align: right;\">\n",
              "      <th></th>\n",
              "      <th>code</th>\n",
              "      <th>week</th>\n",
              "      <th>count</th>\n",
              "    </tr>\n",
              "  </thead>\n",
              "  <tbody>\n",
              "    <tr>\n",
              "      <th>0</th>\n",
              "      <td>5</td>\n",
              "      <td>Friday</td>\n",
              "      <td>4711</td>\n",
              "    </tr>\n",
              "    <tr>\n",
              "      <th>1</th>\n",
              "      <td>4</td>\n",
              "      <td>Thursday</td>\n",
              "      <td>4660</td>\n",
              "    </tr>\n",
              "    <tr>\n",
              "      <th>2</th>\n",
              "      <td>6</td>\n",
              "      <td>Saturday</td>\n",
              "      <td>3783</td>\n",
              "    </tr>\n",
              "    <tr>\n",
              "      <th>3</th>\n",
              "      <td>1</td>\n",
              "      <td>Monday</td>\n",
              "      <td>3729</td>\n",
              "    </tr>\n",
              "    <tr>\n",
              "      <th>4</th>\n",
              "      <td>7</td>\n",
              "      <td>Sunday</td>\n",
              "      <td>3567</td>\n",
              "    </tr>\n",
              "    <tr>\n",
              "      <th>5</th>\n",
              "      <td>3</td>\n",
              "      <td>Wednesday</td>\n",
              "      <td>3299</td>\n",
              "    </tr>\n",
              "    <tr>\n",
              "      <th>6</th>\n",
              "      <td>2</td>\n",
              "      <td>Tuesday</td>\n",
              "      <td>3216</td>\n",
              "    </tr>\n",
              "  </tbody>\n",
              "</table>\n",
              "</div>"
            ],
            "text/plain": [
              "   code       week  count\n",
              "0     5     Friday   4711\n",
              "1     4   Thursday   4660\n",
              "2     6   Saturday   3783\n",
              "3     1     Monday   3729\n",
              "4     7     Sunday   3567\n",
              "5     3  Wednesday   3299\n",
              "6     2    Tuesday   3216"
            ]
          },
          "metadata": {},
          "execution_count": 54
        }
      ]
    },
    {
      "cell_type": "code",
      "metadata": {
        "colab": {
          "base_uri": "https://localhost:8080/",
          "height": 269
        },
        "id": "UC27rJHwD-yb",
        "outputId": "ee542bc4-286f-439c-9d63-fbc19782668e"
      },
      "source": [
        "# 컬럼명 다시 잡아주기\n",
        "df.columns=['code','week','count']\n",
        "df"
      ],
      "execution_count": 55,
      "outputs": [
        {
          "output_type": "execute_result",
          "data": {
            "text/html": [
              "<div>\n",
              "<style scoped>\n",
              "    .dataframe tbody tr th:only-of-type {\n",
              "        vertical-align: middle;\n",
              "    }\n",
              "\n",
              "    .dataframe tbody tr th {\n",
              "        vertical-align: top;\n",
              "    }\n",
              "\n",
              "    .dataframe thead th {\n",
              "        text-align: right;\n",
              "    }\n",
              "</style>\n",
              "<table border=\"1\" class=\"dataframe\">\n",
              "  <thead>\n",
              "    <tr style=\"text-align: right;\">\n",
              "      <th></th>\n",
              "      <th>code</th>\n",
              "      <th>week</th>\n",
              "      <th>count</th>\n",
              "    </tr>\n",
              "  </thead>\n",
              "  <tbody>\n",
              "    <tr>\n",
              "      <th>0</th>\n",
              "      <td>5</td>\n",
              "      <td>Friday</td>\n",
              "      <td>4711</td>\n",
              "    </tr>\n",
              "    <tr>\n",
              "      <th>1</th>\n",
              "      <td>4</td>\n",
              "      <td>Thursday</td>\n",
              "      <td>4660</td>\n",
              "    </tr>\n",
              "    <tr>\n",
              "      <th>2</th>\n",
              "      <td>6</td>\n",
              "      <td>Saturday</td>\n",
              "      <td>3783</td>\n",
              "    </tr>\n",
              "    <tr>\n",
              "      <th>3</th>\n",
              "      <td>1</td>\n",
              "      <td>Monday</td>\n",
              "      <td>3729</td>\n",
              "    </tr>\n",
              "    <tr>\n",
              "      <th>4</th>\n",
              "      <td>7</td>\n",
              "      <td>Sunday</td>\n",
              "      <td>3567</td>\n",
              "    </tr>\n",
              "    <tr>\n",
              "      <th>5</th>\n",
              "      <td>3</td>\n",
              "      <td>Wednesday</td>\n",
              "      <td>3299</td>\n",
              "    </tr>\n",
              "    <tr>\n",
              "      <th>6</th>\n",
              "      <td>2</td>\n",
              "      <td>Tuesday</td>\n",
              "      <td>3216</td>\n",
              "    </tr>\n",
              "  </tbody>\n",
              "</table>\n",
              "</div>"
            ],
            "text/plain": [
              "   code       week  count\n",
              "0     5     Friday   4711\n",
              "1     4   Thursday   4660\n",
              "2     6   Saturday   3783\n",
              "3     1     Monday   3729\n",
              "4     7     Sunday   3567\n",
              "5     3  Wednesday   3299\n",
              "6     2    Tuesday   3216"
            ]
          },
          "metadata": {},
          "execution_count": 55
        }
      ]
    },
    {
      "cell_type": "code",
      "metadata": {
        "colab": {
          "base_uri": "https://localhost:8080/",
          "height": 269
        },
        "id": "q3_Z1nSyEAg3",
        "outputId": "865c541a-6c19-48bc-bb8c-e74ad70a0c67"
      },
      "source": [
        "# code 열로 다시 정렬 (월~금)\n",
        "df=df.sort_values(by=['code'])\n",
        "df"
      ],
      "execution_count": 57,
      "outputs": [
        {
          "output_type": "execute_result",
          "data": {
            "text/html": [
              "<div>\n",
              "<style scoped>\n",
              "    .dataframe tbody tr th:only-of-type {\n",
              "        vertical-align: middle;\n",
              "    }\n",
              "\n",
              "    .dataframe tbody tr th {\n",
              "        vertical-align: top;\n",
              "    }\n",
              "\n",
              "    .dataframe thead th {\n",
              "        text-align: right;\n",
              "    }\n",
              "</style>\n",
              "<table border=\"1\" class=\"dataframe\">\n",
              "  <thead>\n",
              "    <tr style=\"text-align: right;\">\n",
              "      <th></th>\n",
              "      <th>code</th>\n",
              "      <th>week</th>\n",
              "      <th>count</th>\n",
              "    </tr>\n",
              "  </thead>\n",
              "  <tbody>\n",
              "    <tr>\n",
              "      <th>3</th>\n",
              "      <td>1</td>\n",
              "      <td>Monday</td>\n",
              "      <td>3729</td>\n",
              "    </tr>\n",
              "    <tr>\n",
              "      <th>6</th>\n",
              "      <td>2</td>\n",
              "      <td>Tuesday</td>\n",
              "      <td>3216</td>\n",
              "    </tr>\n",
              "    <tr>\n",
              "      <th>5</th>\n",
              "      <td>3</td>\n",
              "      <td>Wednesday</td>\n",
              "      <td>3299</td>\n",
              "    </tr>\n",
              "    <tr>\n",
              "      <th>1</th>\n",
              "      <td>4</td>\n",
              "      <td>Thursday</td>\n",
              "      <td>4660</td>\n",
              "    </tr>\n",
              "    <tr>\n",
              "      <th>0</th>\n",
              "      <td>5</td>\n",
              "      <td>Friday</td>\n",
              "      <td>4711</td>\n",
              "    </tr>\n",
              "    <tr>\n",
              "      <th>2</th>\n",
              "      <td>6</td>\n",
              "      <td>Saturday</td>\n",
              "      <td>3783</td>\n",
              "    </tr>\n",
              "    <tr>\n",
              "      <th>4</th>\n",
              "      <td>7</td>\n",
              "      <td>Sunday</td>\n",
              "      <td>3567</td>\n",
              "    </tr>\n",
              "  </tbody>\n",
              "</table>\n",
              "</div>"
            ],
            "text/plain": [
              "   code       week  count\n",
              "3     1     Monday   3729\n",
              "6     2    Tuesday   3216\n",
              "5     3  Wednesday   3299\n",
              "1     4   Thursday   4660\n",
              "0     5     Friday   4711\n",
              "2     6   Saturday   3783\n",
              "4     7     Sunday   3567"
            ]
          },
          "metadata": {},
          "execution_count": 57
        }
      ]
    },
    {
      "cell_type": "code",
      "metadata": {
        "colab": {
          "base_uri": "https://localhost:8080/",
          "height": 502
        },
        "id": "QMVavrfvEX28",
        "outputId": "4bfff6b5-941b-4123-f235-7e671fa43da7"
      },
      "source": [
        "plt.figure(figsize=(12,8)) # 그림크기 조정\n",
        "plt.bar(df['week'],df['count']) #바차트 만들기"
      ],
      "execution_count": 59,
      "outputs": [
        {
          "output_type": "execute_result",
          "data": {
            "text/plain": [
              "<BarContainer object of 7 artists>"
            ]
          },
          "metadata": {},
          "execution_count": 59
        },
        {
          "output_type": "display_data",
          "data": {
            "image/png": "[encoded data removed]",
            "text/plain": [
              "<Figure size 864x576 with 1 Axes>"
            ]
          },
          "metadata": {
            "needs_background": "light"
          }
        }
      ]
    },
    {
      "cell_type": "markdown",
      "metadata": {
        "id": "q_qpK-f5ABXZ"
      },
      "source": [
        "## 또다른 예시"
      ]
    },
    {
      "cell_type": "markdown",
      "metadata": {
        "id": "vjlEgKa2ADfl"
      },
      "source": [
        "도착 지연의 주요 원인은 무엇인가?"
      ]
    },
    {
      "cell_type": "code",
      "metadata": {
        "id": "lGAjsQZ0AH74"
      },
      "source": [
        "sql = '''\n",
        "SELECT AVG(ad_carrier), \n",
        "    AVG(ad_whether), \n",
        "    AVG(ad_nas), \n",
        "    AVG(ad_security), \n",
        "    AVG(ad_late_aircraft)\n",
        "FROM flights\n",
        "WHERE arr_del>0\n",
        "'''\n",
        "cur.execute(sql)\n",
        "output=cur.fetchall()\n",
        "df = pd.DataFrame(output)\n"
      ],
      "execution_count": 51,
      "outputs": []
    },
    {
      "cell_type": "code",
      "metadata": {
        "id": "YWKRIdNXBdaG"
      },
      "source": [
        "result=[] #처리된 결과를 담을 빈 리스트\n",
        "for i in output[0]:\n",
        "    result.append(float(i)) # float 데이터의 경우 처리가 지저분하여 다음과 같이 처리함"
      ],
      "execution_count": 42,
      "outputs": []
    },
    {
      "cell_type": "code",
      "metadata": {
        "colab": {
          "base_uri": "https://localhost:8080/"
        },
        "id": "AlTykZahCXeu",
        "outputId": "6538d825-e875-4aa5-b2a8-f6e7c098e1e2"
      },
      "source": [
        "result # 평균 분수를 파이의 크기로 사용할 것임"
      ],
      "execution_count": 43,
      "outputs": [
        {
          "output_type": "execute_result",
          "data": {
            "text/plain": [
              "[15.8324, 2.8478, 6.5098, 0.1278, 16.8423]"
            ]
          },
          "metadata": {},
          "execution_count": 43
        }
      ]
    },
    {
      "cell_type": "code",
      "metadata": {
        "colab": {
          "base_uri": "https://localhost:8080/",
          "height": 655
        },
        "id": "UhikrgFaAemI",
        "outputId": "69a9b16c-7bf2-4d27-b4c4-5146a20f849c"
      },
      "source": [
        "plt.figure(figsize=(12,8)) #그림크기 조절\n",
        "label = ['carrier','whether','nas','security','late_aircraft'] #각 파이의 이름\n",
        "explodes = [0.1,0,0,0,0] #첫번째 파이를 띄어서 보여주기\n",
        "plt.pie(result,explodes,label) #파이차트 보여주기"
      ],
      "execution_count": 50,
      "outputs": [
        {
          "output_type": "execute_result",
          "data": {
            "text/plain": [
              "([<matplotlib.patches.Wedge at 0x7f6050b3c550>,\n",
              "  <matplotlib.patches.Wedge at 0x7f6050b3c950>,\n",
              "  <matplotlib.patches.Wedge at 0x7f6050b3c910>,\n",
              "  <matplotlib.patches.Wedge at 0x7f6050b474d0>,\n",
              "  <matplotlib.patches.Wedge at 0x7f6050b47e10>],\n",
              " [Text(0.4573721569065473, 1.1094190867686804, 'carrier'),\n",
              "  Text(-0.9261744134522523, 0.593465210325236, 'whether'),\n",
              "  Text(-1.0910810682427485, -0.13979307036567698, 'nas'),\n",
              "  Text(-0.8939637560371162, -0.640959283333982, 'security'),\n",
              "  Text(0.34161266638095644, -1.0456102458220717, 'late_aircraft')])"
            ]
          },
          "metadata": {},
          "execution_count": 50
        },
        {
          "output_type": "display_data",
          "data": {
            "image/png": "[encoded data removed]",
            "text/plain": [
              "<Figure size 864x576 with 1 Axes>"
            ]
          },
          "metadata": {}
        }
      ]
    }
  ]
}