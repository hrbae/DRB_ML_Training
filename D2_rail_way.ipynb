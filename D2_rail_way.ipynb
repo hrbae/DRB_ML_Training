{
  "nbformat": 4,
  "nbformat_minor": 0,
  "metadata": {
    "colab": {
      "name": "D2_rail_way.ipynb",
      "provenance": [],
      "authorship_tag": "ABX9TyNmhCXxDwKOygwwDWezuqE7",
      "include_colab_link": true
    },
    "kernelspec": {
      "name": "python3",
      "display_name": "Python 3"
    },
    "language_info": {
      "name": "python"
    }
  },
  "cells": [
    {
      "cell_type": "markdown",
      "metadata": {
        "id": "view-in-github",
        "colab_type": "text"
      },
      "source": [
        "<a href=\"https://colab.research.google.com/github/hrbae/DRB_ML_Training/blob/main/D2_rail_way.ipynb\" target=\"_parent\"><img src=\"https://colab.research.google.com/assets/colab-badge.svg\" alt=\"Open In Colab\"/></a>"
      ]
    },
    {
      "cell_type": "code",
      "metadata": {
        "colab": {
          "base_uri": "https://localhost:8080/"
        },
        "id": "yKOJ7tyXCySJ",
        "outputId": "6d5388aa-932a-4e7b-c1dd-01ccc8005e24"
      },
      "source": [
        "# Google drive를 마운트\n",
        "from google.colab import drive\n",
        "drive.mount('/content/drive', force_remount=True)"
      ],
      "execution_count": null,
      "outputs": [
        {
          "output_type": "stream",
          "name": "stdout",
          "text": [
            "Mounted at /content/drive\n"
          ]
        }
      ]
    },
    {
      "cell_type": "code",
      "metadata": {
        "colab": {
          "base_uri": "https://localhost:8080/"
        },
        "id": "9-l2kkrrDpkM",
        "outputId": "61aaa064-1d45-4816-b3ae-0339e66e957d"
      },
      "source": [
        "!pwd"
      ],
      "execution_count": null,
      "outputs": [
        {
          "output_type": "stream",
          "name": "stdout",
          "text": [
            "/content\n"
          ]
        }
      ]
    },
    {
      "cell_type": "code",
      "metadata": {
        "colab": {
          "base_uri": "https://localhost:8080/"
        },
        "id": "GC8r26wtDs9C",
        "outputId": "f229f14d-435c-4ced-ae59-f6cbf9b3de81"
      },
      "source": [
        "%cd drive/MyDrive/Colab\\ Notebooks/Data_Structures"
      ],
      "execution_count": null,
      "outputs": [
        {
          "output_type": "stream",
          "name": "stdout",
          "text": [
            "/content/drive/MyDrive/Colab Notebooks/Data_Structures\n"
          ]
        }
      ]
    },
    {
      "cell_type": "code",
      "metadata": {
        "id": "6HmdvckoDy8J"
      },
      "source": [
        "from DS_Class.Stack import Stack"
      ],
      "execution_count": null,
      "outputs": []
    },
    {
      "cell_type": "code",
      "metadata": {
        "colab": {
          "base_uri": "https://localhost:8080/"
        },
        "id": "6egWqCakEZOY",
        "outputId": "b2b372c0-4925-4183-cc05-bc3a60118f07"
      },
      "source": [
        "target = [5, 4, 1, 2, 3]\n",
        "\n",
        "station = Stack(len(target))\n",
        "targetIndex=0\n",
        "\n",
        "for current in range(1, len(target)+1):\n",
        "  station.push(current)\n",
        "  while not station.isEmpty() and (station.topv()==target[targetIndex]) and (targetIndex <= len(target)): \n",
        "  #while (!station.isEmpty()):\n",
        "    station.pop()\n",
        "    targetIndex=targetIndex+1\n",
        "\n",
        "if station.isEmpty():\n",
        "  print(\"Yes\")\n",
        "else:\n",
        "  print(\"No\")"
      ],
      "execution_count": null,
      "outputs": [
        {
          "output_type": "stream",
          "name": "stdout",
          "text": [
            "No\n"
          ]
        }
      ]
    }
  ]
}