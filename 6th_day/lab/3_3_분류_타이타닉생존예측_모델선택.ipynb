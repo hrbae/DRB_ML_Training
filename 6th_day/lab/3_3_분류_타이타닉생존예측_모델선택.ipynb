{
 "cells": [
  {
   "cell_type": "markdown",
   "metadata": {},
   "source": [
    "## 데이터 불러오기"
   ]
  },
  {
   "cell_type": "code",
   "execution_count": 1,
   "metadata": {},
   "outputs": [],
   "source": [
    "import pandas as pd"
   ]
  },
  {
   "cell_type": "code",
   "execution_count": 2,
   "metadata": {},
   "outputs": [],
   "source": [
    "df=pd.read_csv('titanic_processed.csv')"
   ]
  },
  {
   "cell_type": "code",
   "execution_count": 3,
   "metadata": {},
   "outputs": [
    {
     "data": {
      "text/html": [
       "<div>\n",
       "<style scoped>\n",
       "    .dataframe tbody tr th:only-of-type {\n",
       "        vertical-align: middle;\n",
       "    }\n",
       "\n",
       "    .dataframe tbody tr th {\n",
       "        vertical-align: top;\n",
       "    }\n",
       "\n",
       "    .dataframe thead th {\n",
       "        text-align: right;\n",
       "    }\n",
       "</style>\n",
       "<table border=\"1\" class=\"dataframe\">\n",
       "  <thead>\n",
       "    <tr style=\"text-align: right;\">\n",
       "      <th></th>\n",
       "      <th>age</th>\n",
       "      <th>sibsp</th>\n",
       "      <th>parch</th>\n",
       "      <th>fare</th>\n",
       "      <th>pclass_1.0</th>\n",
       "      <th>pclass_2.0</th>\n",
       "      <th>pclass_3.0</th>\n",
       "      <th>sex_female</th>\n",
       "      <th>embarked_C</th>\n",
       "      <th>embarked_Q</th>\n",
       "      <th>embarked_S</th>\n",
       "      <th>survived</th>\n",
       "    </tr>\n",
       "  </thead>\n",
       "  <tbody>\n",
       "    <tr>\n",
       "      <th>0</th>\n",
       "      <td>29.0000</td>\n",
       "      <td>0.0</td>\n",
       "      <td>0.0</td>\n",
       "      <td>211.3375</td>\n",
       "      <td>1</td>\n",
       "      <td>0</td>\n",
       "      <td>0</td>\n",
       "      <td>1</td>\n",
       "      <td>0</td>\n",
       "      <td>0</td>\n",
       "      <td>1</td>\n",
       "      <td>1</td>\n",
       "    </tr>\n",
       "    <tr>\n",
       "      <th>1</th>\n",
       "      <td>0.9167</td>\n",
       "      <td>1.0</td>\n",
       "      <td>2.0</td>\n",
       "      <td>151.5500</td>\n",
       "      <td>1</td>\n",
       "      <td>0</td>\n",
       "      <td>0</td>\n",
       "      <td>0</td>\n",
       "      <td>0</td>\n",
       "      <td>0</td>\n",
       "      <td>1</td>\n",
       "      <td>1</td>\n",
       "    </tr>\n",
       "    <tr>\n",
       "      <th>2</th>\n",
       "      <td>2.0000</td>\n",
       "      <td>1.0</td>\n",
       "      <td>2.0</td>\n",
       "      <td>151.5500</td>\n",
       "      <td>1</td>\n",
       "      <td>0</td>\n",
       "      <td>0</td>\n",
       "      <td>1</td>\n",
       "      <td>0</td>\n",
       "      <td>0</td>\n",
       "      <td>1</td>\n",
       "      <td>0</td>\n",
       "    </tr>\n",
       "    <tr>\n",
       "      <th>3</th>\n",
       "      <td>30.0000</td>\n",
       "      <td>1.0</td>\n",
       "      <td>2.0</td>\n",
       "      <td>151.5500</td>\n",
       "      <td>1</td>\n",
       "      <td>0</td>\n",
       "      <td>0</td>\n",
       "      <td>0</td>\n",
       "      <td>0</td>\n",
       "      <td>0</td>\n",
       "      <td>1</td>\n",
       "      <td>0</td>\n",
       "    </tr>\n",
       "    <tr>\n",
       "      <th>4</th>\n",
       "      <td>25.0000</td>\n",
       "      <td>1.0</td>\n",
       "      <td>2.0</td>\n",
       "      <td>151.5500</td>\n",
       "      <td>1</td>\n",
       "      <td>0</td>\n",
       "      <td>0</td>\n",
       "      <td>1</td>\n",
       "      <td>0</td>\n",
       "      <td>0</td>\n",
       "      <td>1</td>\n",
       "      <td>0</td>\n",
       "    </tr>\n",
       "    <tr>\n",
       "      <th>...</th>\n",
       "      <td>...</td>\n",
       "      <td>...</td>\n",
       "      <td>...</td>\n",
       "      <td>...</td>\n",
       "      <td>...</td>\n",
       "      <td>...</td>\n",
       "      <td>...</td>\n",
       "      <td>...</td>\n",
       "      <td>...</td>\n",
       "      <td>...</td>\n",
       "      <td>...</td>\n",
       "      <td>...</td>\n",
       "    </tr>\n",
       "    <tr>\n",
       "      <th>1038</th>\n",
       "      <td>45.5000</td>\n",
       "      <td>0.0</td>\n",
       "      <td>0.0</td>\n",
       "      <td>7.2250</td>\n",
       "      <td>0</td>\n",
       "      <td>0</td>\n",
       "      <td>1</td>\n",
       "      <td>0</td>\n",
       "      <td>1</td>\n",
       "      <td>0</td>\n",
       "      <td>0</td>\n",
       "      <td>0</td>\n",
       "    </tr>\n",
       "    <tr>\n",
       "      <th>1039</th>\n",
       "      <td>14.5000</td>\n",
       "      <td>1.0</td>\n",
       "      <td>0.0</td>\n",
       "      <td>14.4542</td>\n",
       "      <td>0</td>\n",
       "      <td>0</td>\n",
       "      <td>1</td>\n",
       "      <td>1</td>\n",
       "      <td>1</td>\n",
       "      <td>0</td>\n",
       "      <td>0</td>\n",
       "      <td>0</td>\n",
       "    </tr>\n",
       "    <tr>\n",
       "      <th>1040</th>\n",
       "      <td>26.5000</td>\n",
       "      <td>0.0</td>\n",
       "      <td>0.0</td>\n",
       "      <td>7.2250</td>\n",
       "      <td>0</td>\n",
       "      <td>0</td>\n",
       "      <td>1</td>\n",
       "      <td>0</td>\n",
       "      <td>1</td>\n",
       "      <td>0</td>\n",
       "      <td>0</td>\n",
       "      <td>0</td>\n",
       "    </tr>\n",
       "    <tr>\n",
       "      <th>1041</th>\n",
       "      <td>27.0000</td>\n",
       "      <td>0.0</td>\n",
       "      <td>0.0</td>\n",
       "      <td>7.2250</td>\n",
       "      <td>0</td>\n",
       "      <td>0</td>\n",
       "      <td>1</td>\n",
       "      <td>0</td>\n",
       "      <td>1</td>\n",
       "      <td>0</td>\n",
       "      <td>0</td>\n",
       "      <td>0</td>\n",
       "    </tr>\n",
       "    <tr>\n",
       "      <th>1042</th>\n",
       "      <td>29.0000</td>\n",
       "      <td>0.0</td>\n",
       "      <td>0.0</td>\n",
       "      <td>7.8750</td>\n",
       "      <td>0</td>\n",
       "      <td>0</td>\n",
       "      <td>1</td>\n",
       "      <td>0</td>\n",
       "      <td>0</td>\n",
       "      <td>0</td>\n",
       "      <td>1</td>\n",
       "      <td>0</td>\n",
       "    </tr>\n",
       "  </tbody>\n",
       "</table>\n",
       "<p>1043 rows × 12 columns</p>\n",
       "</div>"
      ],
      "text/plain": [
       "          age  sibsp  parch      fare  pclass_1.0  pclass_2.0  pclass_3.0  \\\n",
       "0     29.0000    0.0    0.0  211.3375           1           0           0   \n",
       "1      0.9167    1.0    2.0  151.5500           1           0           0   \n",
       "2      2.0000    1.0    2.0  151.5500           1           0           0   \n",
       "3     30.0000    1.0    2.0  151.5500           1           0           0   \n",
       "4     25.0000    1.0    2.0  151.5500           1           0           0   \n",
       "...       ...    ...    ...       ...         ...         ...         ...   \n",
       "1038  45.5000    0.0    0.0    7.2250           0           0           1   \n",
       "1039  14.5000    1.0    0.0   14.4542           0           0           1   \n",
       "1040  26.5000    0.0    0.0    7.2250           0           0           1   \n",
       "1041  27.0000    0.0    0.0    7.2250           0           0           1   \n",
       "1042  29.0000    0.0    0.0    7.8750           0           0           1   \n",
       "\n",
       "      sex_female  embarked_C  embarked_Q  embarked_S  survived  \n",
       "0              1           0           0           1         1  \n",
       "1              0           0           0           1         1  \n",
       "2              1           0           0           1         0  \n",
       "3              0           0           0           1         0  \n",
       "4              1           0           0           1         0  \n",
       "...          ...         ...         ...         ...       ...  \n",
       "1038           0           1           0           0         0  \n",
       "1039           1           1           0           0         0  \n",
       "1040           0           1           0           0         0  \n",
       "1041           0           1           0           0         0  \n",
       "1042           0           0           0           1         0  \n",
       "\n",
       "[1043 rows x 12 columns]"
      ]
     },
     "execution_count": 3,
     "metadata": {},
     "output_type": "execute_result"
    }
   ],
   "source": [
    "df"
   ]
  },
  {
   "cell_type": "code",
   "execution_count": 4,
   "metadata": {},
   "outputs": [],
   "source": [
    "X=df[df.columns[:-1]]\n",
    "y=df['survived']"
   ]
  },
  {
   "cell_type": "markdown",
   "metadata": {},
   "source": [
    "## 다항식 추가에 따른 효과 검증"
   ]
  },
  {
   "cell_type": "code",
   "execution_count": 7,
   "metadata": {},
   "outputs": [
    {
     "data": {
      "text/plain": [
       "array([[ 1.    , 29.    ,  0.    , ...,  0.    ,  0.    ,  1.    ],\n",
       "       [ 1.    ,  0.9167,  1.    , ...,  0.    ,  0.    ,  1.    ],\n",
       "       [ 1.    ,  2.    ,  1.    , ...,  0.    ,  0.    ,  1.    ],\n",
       "       ...,\n",
       "       [ 1.    , 26.5   ,  0.    , ...,  0.    ,  0.    ,  0.    ],\n",
       "       [ 1.    , 27.    ,  0.    , ...,  0.    ,  0.    ,  0.    ],\n",
       "       [ 1.    , 29.    ,  0.    , ...,  0.    ,  0.    ,  1.    ]])"
      ]
     },
     "execution_count": 7,
     "metadata": {},
     "output_type": "execute_result"
    }
   ],
   "source": [
    "import warnings\n",
    "warnings.filterwarnings('ignore')\n",
    "from sklearn.preprocessing import PolynomialFeatures\n",
    "\n",
    "## 2차항 및 교호작용 추가\n",
    "transformer = PolynomialFeatures(degree=2, interaction_only=False)\n",
    "X_=transformer.fit_transform(X)\n",
    "X_"
   ]
  },
  {
   "cell_type": "markdown",
   "metadata": {},
   "source": [
    "## 2차항 추가된 모형의 교차검증"
   ]
  },
  {
   "cell_type": "code",
   "execution_count": 9,
   "metadata": {},
   "outputs": [
    {
     "name": "stdout",
     "output_type": "stream",
     "text": [
      "0.7784412955465587 0.7986088445710039\n"
     ]
    }
   ],
   "source": [
    "from sklearn.linear_model import LogisticRegression\n",
    "from sklearn.model_selection import KFold, cross_validate\n",
    "\n",
    "## Kfold 검증\n",
    "kfold = KFold(5,shuffle=False)\n",
    "reg=LogisticRegression()\n",
    "result = cross_validate(estimator=reg, X=X_, y=y, cv=kfold, scoring=['accuracy','roc_auc'], return_train_score=True)\n",
    "print(result['test_accuracy'].mean(), result['test_roc_auc'].mean())"
   ]
  },
  {
   "cell_type": "code",
   "execution_count": 14,
   "metadata": {},
   "outputs": [
    {
     "name": "stdout",
     "output_type": "stream",
     "text": [
      "1 train 0.7955381323683568 0.8501926535399121\n",
      "1 test 0.7841783216783218 0.8145760274935897\n",
      "2 train 0.7988942977354643 0.8558156425741796\n",
      "2 test 0.7784412955465587 0.7986088445710039\n",
      "3 train 0.7835549045793305 0.8152820005689035\n",
      "3 test 0.7554793890320206 0.759272957457617\n",
      "4 train 0.7358643863352432 0.7531575631765879\n",
      "4 test 0.7325220831799779 0.7014473399030657\n",
      "5 train 0.5925400996568015 0.5\n",
      "5 test 0.5928183658446816 0.5\n"
     ]
    }
   ],
   "source": [
    "kfold = KFold(5,shuffle=False)\n",
    "for i in range(1,6):\n",
    "    transformer = PolynomialFeatures(degree=i, interaction_only=False)\n",
    "    X_=transformer.fit_transform(X)\n",
    "    reg=LogisticRegression()\n",
    "    result = cross_validate(estimator=reg, X=X_, y=y, cv=kfold, scoring=['accuracy','roc_auc'], return_train_score=True)\n",
    "    print(i, 'train', result['train_accuracy'].mean(), result['train_roc_auc'].mean())\n",
    "    print(i, 'test', result['test_accuracy'].mean(), result['test_roc_auc'].mean())"
   ]
  },
  {
   "cell_type": "markdown",
   "metadata": {},
   "source": [
    "## 모델규제"
   ]
  },
  {
   "cell_type": "code",
   "execution_count": 28,
   "metadata": {},
   "outputs": [
    {
     "name": "stdout",
     "output_type": "stream",
     "text": [
      "1 train 0.6713870101523571 0.7202838614377776\n",
      "1 test 0.6252576370997425 0.6757365126929544\n",
      "2 train 0.8058441390600095 0.8567908965603952\n",
      "2 test 0.7842013249907986 0.7992671818959173\n",
      "3 train 0.779003431984951 0.8132483973709803\n",
      "3 test 0.7574116672800884 0.7589459844289624\n",
      "4 train 0.7305877453725642 0.7473374797919211\n",
      "4 test 0.7229435038645565 0.700712925067241\n",
      "5 train 0.5925400996568015 0.5\n",
      "5 test 0.5928183658446816 0.5\n"
     ]
    }
   ],
   "source": [
    "kfold = KFold(5,shuffle=False)\n",
    "for i in range(1,6):\n",
    "    transformer = PolynomialFeatures(degree=i, interaction_only=False)\n",
    "    X_=transformer.fit_transform(X)\n",
    "    reg=LogisticRegression(penalty='l2',C=0.001)\n",
    "    result = cross_validate(estimator=reg, X=X_, y=y, cv=kfold, scoring=['accuracy','roc_auc'], return_train_score=True)\n",
    "    print(i, 'train', result['train_accuracy'].mean(), result['train_roc_auc'].mean())\n",
    "    print(i, 'test', result['test_accuracy'].mean(), result['test_roc_auc'].mean())"
   ]
  }
 ],
 "metadata": {
  "kernelspec": {
   "display_name": "Python 3",
   "language": "python",
   "name": "python3"
  },
  "language_info": {
   "codemirror_mode": {
    "name": "ipython",
    "version": 3
   },
   "file_extension": ".py",
   "mimetype": "text/x-python",
   "name": "python",
   "nbconvert_exporter": "python",
   "pygments_lexer": "ipython3",
   "version": "3.6.9"
  }
 },
 "nbformat": 4,
 "nbformat_minor": 4
}
