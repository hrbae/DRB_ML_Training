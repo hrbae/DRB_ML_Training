{
  "nbformat": 4,
  "nbformat_minor": 0,
  "metadata": {
    "colab": {
      "name": "D3_matrixChain.ipynb",
      "provenance": [],
      "authorship_tag": "ABX9TyPcjfA4X6Km0wnesXlrIbQw",
      "include_colab_link": true
    },
    "kernelspec": {
      "name": "python3",
      "display_name": "Python 3"
    },
    "language_info": {
      "name": "python"
    }
  },
  "cells": [
    {
      "cell_type": "markdown",
      "metadata": {
        "id": "view-in-github",
        "colab_type": "text"
      },
      "source": [
        "<a href=\"https://colab.research.google.com/github/hrbae/DRB_ML_Training/blob/main/3rd_day/D3_matrixChain.ipynb\" target=\"_parent\"><img src=\"https://colab.research.google.com/assets/colab-badge.svg\" alt=\"Open In Colab\"/></a>"
      ]
    },
    {
      "cell_type": "code",
      "metadata": {
        "id": "OWmVWhCRBg1q"
      },
      "source": [
        "import math\n",
        "\n",
        "def matrixChain(S):\n",
        "  def d(i):\n",
        "    if i < len(S):\n",
        "      return S[i][0]\n",
        "    else:\n",
        "      return S[i-1][1]\n",
        "\n",
        "  N=[[0 for j in range(len(S))] for i in range(len(S))]\n",
        "  for b in range(1, len(S)):\n",
        "    for i in range(len(S)-b):\n",
        "      j=i+b\n",
        "      N[i][j]=math.inf\n",
        "      for k in range(i, j):\n",
        "        print(\"[b:\", b, \", i: \", i, \", j: \", j, \", k: \", k, \"]\")\n",
        "        print(\"i:\", d(i), \" k+1:\", d(k+1), \"j+1\", d(j+1))\n",
        "        if N[i][j] >= N[i][k]+N[k+1][j]+d(i)*d(k+1)*d(j+1):\n",
        "          N[i][j] = N[i][k]+N[k+1][j]+d(i)*d(k+1)*d(j+1)\n",
        "  return N"
      ],
      "execution_count": 37,
      "outputs": []
    },
    {
      "cell_type": "code",
      "metadata": {
        "colab": {
          "base_uri": "https://localhost:8080/"
        },
        "id": "mExeScIkGDEy",
        "outputId": "1d230afe-d886-4381-d958-746309bd888d"
      },
      "source": [
        "S=[[101,11],[11,9],[9,100],[100,99]]\n",
        "\n",
        "N=matrixChain(S)\n",
        "\n",
        "for i in range(len(N[0])):\n",
        "  print(N[i])"
      ],
      "execution_count": 39,
      "outputs": [
        {
          "output_type": "stream",
          "name": "stdout",
          "text": [
            "[b: 1 , i:  0 , j:  1 , k:  0 ]\n",
            "i: 101  k+1: 11 j+1 9\n",
            "[b: 1 , i:  1 , j:  2 , k:  1 ]\n",
            "i: 11  k+1: 9 j+1 100\n",
            "[b: 1 , i:  2 , j:  3 , k:  2 ]\n",
            "i: 9  k+1: 100 j+1 99\n",
            "[b: 2 , i:  0 , j:  2 , k:  0 ]\n",
            "i: 101  k+1: 11 j+1 100\n",
            "[b: 2 , i:  0 , j:  2 , k:  1 ]\n",
            "i: 101  k+1: 9 j+1 100\n",
            "[b: 2 , i:  1 , j:  3 , k:  1 ]\n",
            "i: 11  k+1: 9 j+1 99\n",
            "[b: 2 , i:  1 , j:  3 , k:  2 ]\n",
            "i: 11  k+1: 100 j+1 99\n",
            "[b: 3 , i:  0 , j:  3 , k:  0 ]\n",
            "i: 101  k+1: 11 j+1 99\n",
            "[b: 3 , i:  0 , j:  3 , k:  1 ]\n",
            "i: 101  k+1: 9 j+1 99\n",
            "[b: 3 , i:  0 , j:  3 , k:  2 ]\n",
            "i: 101  k+1: 100 j+1 99\n",
            "[0, 9999, 100899, 189090]\n",
            "[0, 0, 9900, 98901]\n",
            "[0, 0, 0, 89100]\n",
            "[0, 0, 0, 0]\n"
          ]
        }
      ]
    }
  ]
}