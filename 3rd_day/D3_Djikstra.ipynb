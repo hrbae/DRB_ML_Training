{
  "nbformat": 4,
  "nbformat_minor": 0,
  "metadata": {
    "colab": {
      "name": "D3_Djikstra.ipynb",
      "provenance": [],
      "collapsed_sections": [],
      "authorship_tag": "ABX9TyOi2IHzGbFIIIc8n7xCfHlz",
      "include_colab_link": true
    },
    "kernelspec": {
      "name": "python3",
      "display_name": "Python 3"
    },
    "language_info": {
      "name": "python"
    }
  },
  "cells": [
    {
      "cell_type": "markdown",
      "metadata": {
        "id": "view-in-github",
        "colab_type": "text"
      },
      "source": [
        "<a href=\"https://colab.research.google.com/github/hrbae/DRB_ML_Training/blob/main/3rd_day/D3_Djikstra.ipynb\" target=\"_parent\"><img src=\"https://colab.research.google.com/assets/colab-badge.svg\" alt=\"Open In Colab\"/></a>"
      ]
    },
    {
      "cell_type": "code",
      "metadata": {
        "colab": {
          "base_uri": "https://localhost:8080/"
        },
        "id": "MNFyPxihpCzc",
        "outputId": "98261c77-e7e5-4b38-ee7d-f6c825dc2dc8"
      },
      "source": [
        "# Google drive를 마운트\n",
        "from google.colab import drive\n",
        "drive.mount('/content/drive', force_remount=True)"
      ],
      "execution_count": 3,
      "outputs": [
        {
          "output_type": "stream",
          "name": "stdout",
          "text": [
            "Mounted at /content/drive\n"
          ]
        }
      ]
    },
    {
      "cell_type": "code",
      "metadata": {
        "colab": {
          "base_uri": "https://localhost:8080/"
        },
        "id": "kKXgdRLppMbj",
        "outputId": "6b390019-0f29-4b98-b30d-62b984ebcb09"
      },
      "source": [
        "%cd drive/MyDrive/Colab\\ Notebooks/Data_Structures"
      ],
      "execution_count": 5,
      "outputs": [
        {
          "output_type": "stream",
          "name": "stdout",
          "text": [
            "/content/drive/MyDrive/Colab Notebooks/Data_Structures\n"
          ]
        }
      ]
    },
    {
      "cell_type": "code",
      "metadata": {
        "id": "LxXoQ3S1PpoN"
      },
      "source": [
        "from DS_Class.LinkedList import LinkedList\n",
        "from DS_Class.Graph import *"
      ],
      "execution_count": 6,
      "outputs": []
    },
    {
      "cell_type": "code",
      "metadata": {
        "id": "Bwgu4RGDNfSw",
        "colab": {
          "base_uri": "https://localhost:8080/"
        },
        "outputId": "bd9c47d1-4317-429d-daae-825f7a1752d2"
      },
      "source": [
        "def getDist(a, d):\n",
        "  #print(a.getName())\n",
        "    for i in range(len(d)):\n",
        "        #print(d[i][0].getName())\n",
        "        if(d[i][0].getName()==a.getName()):\n",
        "            return d[i][1]\n",
        "\n",
        "def minDistance(Q, d):\n",
        "    minimum = 10000\n",
        "    mindistnode = None\n",
        "    cur = Q.head.getNext()\n",
        "    while cur!=Q.trailer:\n",
        "        temp=getDist(cur.getElement(), d)\n",
        "        #print(temp)\n",
        "        if temp<minimum:\n",
        "            minimum=temp\n",
        "            mindistnode=cur\n",
        "        cur=cur.getNext()\n",
        "    return mindistnode\n",
        "\n",
        "def printLL(Q):\n",
        "    cur = Q.head.getNext()\n",
        "    print(\"[\", end='')\n",
        "    while cur != Q.trailer:\n",
        "        print(cur.data.getName(), ',', end='')\n",
        "        cur = cur.getNext()\n",
        "    print(']')\n",
        "\n",
        "def neighbors(u, g):\n",
        "    v=MyVector(100)\n",
        "    l = g.adjlink\n",
        "    cur=l.First()\n",
        "    while cur!=l.Last():\n",
        "        if(u==cur.getElement().getOri()):\n",
        "            v.insertLast(cur.getElement())\n",
        "        cur=cur.getNext()\n",
        "    return v\n",
        "\n",
        "def distOf(u, d):\n",
        "    for i in range(len(d)):\n",
        "        if u==d[i][0]:\n",
        "            return d[i][1]\n",
        "\n",
        "def setDist(u, d, nd):\n",
        "    for i in range(len(d)):\n",
        "        if u==d[i][0]:\n",
        "            d[i][1]=nd\n",
        "\n",
        "# Predecessor를 업데이트하기 위해서 만든 함수\n",
        "def updatePred(P, v, u):\n",
        "  for i in range(len(P)):\n",
        "    if P[i][0]==v:\n",
        "      P[i][1]=u\n",
        "\n",
        "############################# Initialization\n",
        "g=Graph()\n",
        "s=g.GNode(\"s\")\n",
        "a=g.GNode(\"a\")\n",
        "b=g.GNode(\"b\")\n",
        "c=g.GNode(\"c\")\n",
        "d=g.GNode(\"d\")\n",
        "g.addAdjLink(s, a, 10)\n",
        "g.addAdjLink(s, c, 5)\n",
        "g.addAdjLink(a, c, 2)\n",
        "g.addAdjLink(c, a, 3)\n",
        "g.addAdjLink(a, b, 1)\n",
        "g.addAdjLink(c, b, 9)\n",
        "g.addAdjLink(c, d, 2)\n",
        "g.addAdjLink(d, s, 7)\n",
        "g.addAdjLink(b, d, 4)\n",
        "g.addAdjLink(d, b, 6)\n",
        "g.printGraph()\n",
        "\n",
        "V=LinkedList()\n",
        "V.insertLast(s)\n",
        "V.insertLast(a)\n",
        "V.insertLast(b)\n",
        "V.insertLast(c)\n",
        "V.insertLast(d)\n",
        "\n",
        "#Dist=[[s,0], [a, 1000], [b, 1000], [c, 1000], [d,1000]]\n",
        "Dist=[]\n",
        "Dist.append([s, 0])\n",
        "Dist.append([a, sys.maxsize])\n",
        "Dist.append([b, sys.maxsize])\n",
        "Dist.append([c, sys.maxsize])\n",
        "Dist.append([d, sys.maxsize])\n",
        "\n",
        "Pred = []\n",
        "Pred.append([a, None])\n",
        "Pred.append([b, None])\n",
        "Pred.append([c, None])\n",
        "Pred.append([d, None])\n",
        "\n",
        "\n",
        "Q=V\n",
        "S=LinkedList()\n",
        "\n",
        "#print(distOf(b, Dist))\n",
        "#setDist(a, Dist, -100)\n",
        "\n",
        "while not Q.isEmpty():\n",
        "    u=minDistance(Q,Dist)\n",
        "    #print(u.getElement().getName())\n",
        "    Q.remove(u)\n",
        "    #printLL(Q)\n",
        "    S.insertLast(u)\n",
        "    #print(u.getName())\n",
        "    #printLL(S)\n",
        "    nb = neighbors(u.getElement(), g)\n",
        "    #print(nb.size)\n",
        "    #nb.printVector()\n",
        "    for i in range(nb.size):\n",
        "        if distOf(nb.elementAt(i).getDes(), Dist) > (distOf(nb.elementAt(i).getOri(), Dist)+nb.elementAt(i).getDistance()):\n",
        "            setDist(nb.elementAt(i).getDes(), Dist, distOf(nb.elementAt(i).getOri(), Dist)+nb.elementAt(i).getDistance())\n",
        "            # Predecessor 업데이트 하기\n",
        "            updatePred(Pred, nb.elementAt(i).getDes(), nb.elementAt(i).getOri() )\n",
        "\n",
        "for i in range(len(Dist)):\n",
        "    print(Dist[i][0].getName(),Dist[i][1])\n",
        "\n",
        "# 각 노드의 Predecessor출력\n",
        "for i in range(len(Pred)):\n",
        "  print(Pred[i][0].getName(), Pred[i][1].getName())\n"
      ],
      "execution_count": 7,
      "outputs": [
        {
          "output_type": "stream",
          "name": "stdout",
          "text": [
            "[s , a , 10]\n",
            "[s , c , 5]\n",
            "[a , c , 2]\n",
            "[c , a , 3]\n",
            "[a , b , 1]\n",
            "[c , b , 9]\n",
            "[c , d , 2]\n",
            "[d , s , 7]\n",
            "[b , d , 4]\n",
            "[d , b , 6]\n",
            "s 0\n",
            "a 8\n",
            "b 9\n",
            "c 5\n",
            "d 7\n",
            "a c\n",
            "b a\n",
            "c s\n",
            "d c\n"
          ]
        }
      ]
    }
  ]
}