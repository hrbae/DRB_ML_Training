{
  "nbformat": 4,
  "nbformat_minor": 0,
  "metadata": {
    "colab": {
      "name": "D3_Sorting.ipynb",
      "provenance": [],
      "authorship_tag": "ABX9TyPsxCq4W7ITi6ieixYrz70v",
      "include_colab_link": true
    },
    "kernelspec": {
      "name": "python3",
      "display_name": "Python 3"
    },
    "language_info": {
      "name": "python"
    }
  },
  "cells": [
    {
      "cell_type": "markdown",
      "metadata": {
        "id": "view-in-github",
        "colab_type": "text"
      },
      "source": [
        "<a href=\"https://colab.research.google.com/github/hrbae/DRB_ML_Training/blob/main/3rd_day/D3_Sorting.ipynb\" target=\"_parent\"><img src=\"https://colab.research.google.com/assets/colab-badge.svg\" alt=\"Open In Colab\"/></a>"
      ]
    },
    {
      "cell_type": "code",
      "metadata": {
        "id": "nleenHh0RFR-"
      },
      "source": [
        "from random import *\n",
        "import math"
      ],
      "execution_count": 3,
      "outputs": []
    },
    {
      "cell_type": "code",
      "metadata": {
        "id": "OE7hcPytQvs6"
      },
      "source": [
        "def merge_sort(list):\n",
        "    if len(list) <= 1:\n",
        "        return list\n",
        "    mid = len(list) // 2\n",
        "    sl = list[:mid]\n",
        "    sr = list[mid:]\n",
        "    S1 = merge_sort(sl)\n",
        "    S2 = merge_sort(sr)\n",
        "    return merge(S1, S2)\n",
        "\n",
        "def merge(left, right):\n",
        "    result = []\n",
        "    while len(left) > 0 or len(right) > 0:\n",
        "        if len(left) > 0 and len(right) > 0:\n",
        "            if left[0] <= right[0]:\n",
        "                result.append(left[0])\n",
        "                left = left[1:]\n",
        "            else:\n",
        "                result.append(right[0])\n",
        "                right = right[1:]\n",
        "        elif len(left) > 0:\n",
        "            result.append(left[0])\n",
        "            left = left[1:]\n",
        "        elif len(right) > 0:\n",
        "            result.append(right[0])\n",
        "            right = right[1:]\n",
        "    return result"
      ],
      "execution_count": 1,
      "outputs": []
    },
    {
      "cell_type": "code",
      "metadata": {
        "colab": {
          "base_uri": "https://localhost:8080/"
        },
        "id": "i7FakAM0Q71f",
        "outputId": "0d6b0976-95e2-412c-e132-4c76334d81cb"
      },
      "source": [
        "n=int(input(\"몇 개의 숫자를 생성할까요?\"))\n",
        "S=[]\n",
        "for i in range(0,n):\n",
        "    S.append(randint(1,100))\n",
        "    #S.append(i)\n",
        "print(S)\n",
        "print(merge_sort(S))"
      ],
      "execution_count": 4,
      "outputs": [
        {
          "output_type": "stream",
          "name": "stdout",
          "text": [
            "몇 개의 숫자를 생성할까요?10\n",
            "[8, 43, 30, 40, 100, 36, 2, 13, 13, 100]\n",
            "[2, 8, 13, 13, 30, 36, 40, 43, 100, 100]\n"
          ]
        }
      ]
    }
  ]
}