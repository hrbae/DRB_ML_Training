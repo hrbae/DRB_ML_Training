{
  "nbformat": 4,
  "nbformat_minor": 0,
  "metadata": {
    "colab": {
      "name": "Practice1: AND OR NAND XOR Gates.ipynb",
      "provenance": [],
      "authorship_tag": "ABX9TyOPXV591TfcysBuYNpOjtv1",
      "include_colab_link": true
    },
    "kernelspec": {
      "name": "python3",
      "display_name": "Python 3"
    },
    "language_info": {
      "name": "python"
    }
  },
  "cells": [
    {
      "cell_type": "markdown",
      "metadata": {
        "id": "view-in-github",
        "colab_type": "text"
      },
      "source": [
        "<a href=\"https://colab.research.google.com/github/hrbae/DRB_ML_Training/blob/main/8th_day/%EC%8B%A4%EC%8A%B5/Practice1_AND_OR_NAND_XOR_Gates.ipynb\" target=\"_parent\"><img src=\"https://colab.research.google.com/assets/colab-badge.svg\" alt=\"Open In Colab\"/></a>"
      ]
    },
    {
      "cell_type": "markdown",
      "metadata": {
        "id": "mAJgF5LhXHs4"
      },
      "source": [
        "## Package 불러오기"
      ]
    },
    {
      "cell_type": "code",
      "metadata": {
        "id": "MYO9ETcGRZkH"
      },
      "source": [
        "import numpy as np"
      ],
      "execution_count": null,
      "outputs": []
    },
    {
      "cell_type": "markdown",
      "metadata": {
        "id": "bzG8xXOKXKt4"
      },
      "source": [
        "## 입력값 만들기"
      ]
    },
    {
      "cell_type": "code",
      "metadata": {
        "id": "to1YF1ZtXGSC"
      },
      "source": [
        "input_list = [(0,0), (0,1), (1,0), (1,1)]"
      ],
      "execution_count": null,
      "outputs": []
    },
    {
      "cell_type": "markdown",
      "metadata": {
        "id": "yJAhihrdRd1o"
      },
      "source": [
        "# AND Gate"
      ]
    },
    {
      "cell_type": "markdown",
      "metadata": {
        "id": "Kn_EOz_0Wocx"
      },
      "source": [
        "- (0,0) -> 0\n",
        "- (0,1) -> 0\n",
        "- (1,0) -> 0\n",
        "- (1,1) -> 1"
      ]
    },
    {
      "cell_type": "markdown",
      "metadata": {
        "id": "bdWDskZLMDjK"
      },
      "source": [
        "$$tmp = w*x+b$$"
      ]
    },
    {
      "cell_type": "code",
      "metadata": {
        "id": "8ku0pLb6WyMy"
      },
      "source": [
        "def AND(x1, x2):\n",
        "  x = np.array([x1,x2])\n",
        "  w = np.array([0.5,0.5])\n",
        "  b = -0.7\n",
        "  tmp = np.sum(w*x)+ b\n",
        "\n",
        "  if tmp <= 0:\n",
        "    return 0\n",
        "  else:\n",
        "    return 1"
      ],
      "execution_count": null,
      "outputs": []
    },
    {
      "cell_type": "code",
      "metadata": {
        "colab": {
          "base_uri": "https://localhost:8080/"
        },
        "id": "Y46VePANMLOm",
        "outputId": "ed9c2db4-bce6-4444-acf7-fe50292ec4ad"
      },
      "source": [
        "for xs in input_list:\n",
        "  y = AND(xs[0], xs[1])\n",
        "  print(str(xs) +  \"->\" + str(y))"
      ],
      "execution_count": null,
      "outputs": [
        {
          "output_type": "stream",
          "name": "stdout",
          "text": [
            "(0, 0)->0\n",
            "(0, 1)->0\n",
            "(1, 0)->0\n",
            "(1, 1)->1\n"
          ]
        }
      ]
    },
    {
      "cell_type": "markdown",
      "metadata": {
        "id": "3KVW7fIuWi1Y"
      },
      "source": [
        "# OR Gate"
      ]
    },
    {
      "cell_type": "markdown",
      "metadata": {
        "id": "zSdAuCUvWy3Q"
      },
      "source": [
        "- (0,0) -> 0\n",
        "- (0,1) -> 1\n",
        "- (1,0) -> 1\n",
        "- (1,1) -> 1"
      ]
    },
    {
      "cell_type": "code",
      "metadata": {
        "id": "HH3vPLT5WzIZ"
      },
      "source": [
        "def OR(x1, x2):\n",
        "  x = np.array([x1,x2])\n",
        "  w = np.array([0.5,0.5])\n",
        "  b = -0.2\n",
        "  tmp = np.sum(w*x)+ b\n",
        "\n",
        "  if tmp <= 0:\n",
        "    return 0\n",
        "  else:\n",
        "    return 1"
      ],
      "execution_count": null,
      "outputs": []
    },
    {
      "cell_type": "code",
      "metadata": {
        "colab": {
          "base_uri": "https://localhost:8080/"
        },
        "id": "6gMra-ScMrsq",
        "outputId": "a4f2dd2e-15c7-44f4-d2dc-e960a365fc6d"
      },
      "source": [
        "for xs in input_list:\n",
        "  y = OR(xs[0], xs[1])\n",
        "  print(str(xs) +  \"->\" + str(y))"
      ],
      "execution_count": null,
      "outputs": [
        {
          "output_type": "stream",
          "name": "stdout",
          "text": [
            "(0, 0)->0\n",
            "(0, 1)->1\n",
            "(1, 0)->1\n",
            "(1, 1)->1\n"
          ]
        }
      ]
    },
    {
      "cell_type": "markdown",
      "metadata": {
        "id": "3L6KTgU2WkfR"
      },
      "source": [
        "# NAND Gate"
      ]
    },
    {
      "cell_type": "markdown",
      "metadata": {
        "id": "QvAVMpEyWzo0"
      },
      "source": [
        "- (0,0) -> 1\n",
        "- (0,1) -> 1\n",
        "- (1,0) -> 1\n",
        "- (1,1) -> 0"
      ]
    },
    {
      "cell_type": "code",
      "metadata": {
        "id": "XfJVXCEEWzuo"
      },
      "source": [
        "def NAND(x1, x2):\n",
        "  x = np.array([x1,x2])\n",
        "  w = np.array([-0.5,-0.5])\n",
        "  b = 0.7\n",
        "  tmp = np.sum(w*x)+ b\n",
        "\n",
        "  if tmp <= 0:\n",
        "    return 0\n",
        "  else:\n",
        "    return 1"
      ],
      "execution_count": null,
      "outputs": []
    },
    {
      "cell_type": "code",
      "metadata": {
        "colab": {
          "base_uri": "https://localhost:8080/"
        },
        "id": "NN4-46ihND8G",
        "outputId": "f1422c6f-4ff3-4ec9-e11c-634febaf7761"
      },
      "source": [
        "for xs in input_list:\n",
        "  y = NAND(xs[0], xs[1])\n",
        "  print(str(xs) +  \"->\" + str(y))"
      ],
      "execution_count": null,
      "outputs": [
        {
          "output_type": "stream",
          "name": "stdout",
          "text": [
            "(0, 0)->1\n",
            "(0, 1)->1\n",
            "(1, 0)->1\n",
            "(1, 1)->0\n"
          ]
        }
      ]
    },
    {
      "cell_type": "markdown",
      "metadata": {
        "id": "J6FB9AEAWnL-"
      },
      "source": [
        "# XOR Gate"
      ]
    },
    {
      "cell_type": "markdown",
      "metadata": {
        "id": "Uamkcg1RW00T"
      },
      "source": [
        "- (0,0) -> 0\n",
        "- (0,1) -> 1\n",
        "- (1,0) -> 1\n",
        "- (1,1) -> 0"
      ]
    },
    {
      "cell_type": "code",
      "metadata": {
        "id": "NDLiHFOXW0gg"
      },
      "source": [
        "def XOR(x1, x2):\n",
        "  s1 = NAND(x1, x2) # 1,1,1,0\n",
        "  s2 = OR(x1, x2) # 0, 1, 1, 1\n",
        "  return AND(s1, s2)"
      ],
      "execution_count": null,
      "outputs": []
    },
    {
      "cell_type": "code",
      "metadata": {
        "colab": {
          "base_uri": "https://localhost:8080/"
        },
        "id": "8HoBQA9hNnAi",
        "outputId": "7dd1ff02-e811-4a1e-bada-e01ec029526c"
      },
      "source": [
        "for xs in input_list:\n",
        "  y = XOR(xs[0], xs[1])\n",
        "  print(str(xs) +  \"->\" + str(y))"
      ],
      "execution_count": null,
      "outputs": [
        {
          "output_type": "stream",
          "name": "stdout",
          "text": [
            "(0, 0)->0\n",
            "(0, 1)->1\n",
            "(1, 0)->1\n",
            "(1, 1)->0\n"
          ]
        }
      ]
    }
  ]
}