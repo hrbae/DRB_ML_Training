{
  "nbformat": 4,
  "nbformat_minor": 0,
  "metadata": {
    "colab": {
      "name": "Practice3: Gradient Descent.ipynb",
      "provenance": [],
      "authorship_tag": "ABX9TyPS90lXw+C5I5f4/1T0q07Q",
      "include_colab_link": true
    },
    "kernelspec": {
      "name": "python3",
      "display_name": "Python 3"
    },
    "language_info": {
      "name": "python"
    }
  },
  "cells": [
    {
      "cell_type": "markdown",
      "metadata": {
        "id": "view-in-github",
        "colab_type": "text"
      },
      "source": [
        "<a href=\"https://colab.research.google.com/github/hrbae/DRB_ML_Training/blob/main/8th_day/%EC%8B%A4%EC%8A%B5/Practice3_Gradient_Descent.ipynb\" target=\"_parent\"><img src=\"https://colab.research.google.com/assets/colab-badge.svg\" alt=\"Open In Colab\"/></a>"
      ]
    },
    {
      "cell_type": "markdown",
      "metadata": {
        "id": "T_xJ-Mb7QnLO"
      },
      "source": [
        "# 패키지 로드"
      ]
    },
    {
      "cell_type": "code",
      "metadata": {
        "id": "HUR84EnVWXPn"
      },
      "source": [
        "import numpy as np"
      ],
      "execution_count": null,
      "outputs": []
    },
    {
      "cell_type": "markdown",
      "metadata": {
        "id": "jMlHi0QhQqoc"
      },
      "source": [
        "# 타겟 함수 정의"
      ]
    },
    {
      "cell_type": "markdown",
      "metadata": {
        "id": "BJP1lkrDQP-E"
      },
      "source": [
        "$$f(x) = x_1 ^2 + x_2^2$$"
      ]
    },
    {
      "cell_type": "code",
      "metadata": {
        "id": "_HPdwuPCQW28"
      },
      "source": [
        "def f(x):\n",
        "  return x[0] ** 2 + x[1] ** 2"
      ],
      "execution_count": null,
      "outputs": []
    },
    {
      "cell_type": "markdown",
      "metadata": {
        "id": "-Fei_wuIS6c5"
      },
      "source": [
        "## Gradient 계산 함수"
      ]
    },
    {
      "cell_type": "code",
      "metadata": {
        "id": "5V9f8YhuS9U1"
      },
      "source": [
        "def numerical_gradient(f, x):\n",
        "  h = 1e-4\n",
        "  grad = np.zeros_like(x)\n",
        "\n",
        "  for idx in range(x.size):\n",
        "    tmp_x = x[idx]\n",
        "\n",
        "    # f(x+h) 계산\n",
        "    x[idx] = tmp_x + h\n",
        "    fxh1 = f(x)\n",
        "\n",
        "    # f(x-h) 계산\n",
        "    x[idx] = tmp_x - h\n",
        "    fxh2 = f(x)\n",
        "\n",
        "    grad[idx] = (fxh1 - fxh2) / (2*h)\n",
        "    x[idx] = tmp_x\n",
        "\n",
        "  return grad"
      ],
      "execution_count": null,
      "outputs": []
    },
    {
      "cell_type": "code",
      "metadata": {
        "colab": {
          "base_uri": "https://localhost:8080/"
        },
        "id": "p7M-22_qTtqr",
        "outputId": "746f053e-1785-4245-a026-b1cc3a768dfa"
      },
      "source": [
        "x = np.array([3.0, 4.0])\n",
        "print(numerical_gradient(f, x))"
      ],
      "execution_count": null,
      "outputs": [
        {
          "output_type": "stream",
          "name": "stdout",
          "text": [
            "[6. 8.]\n"
          ]
        }
      ]
    },
    {
      "cell_type": "code",
      "metadata": {
        "colab": {
          "base_uri": "https://localhost:8080/"
        },
        "id": "jPKdyljiT-Eg",
        "outputId": "b44f285a-5c7c-4066-8953-96a8ba71b84c"
      },
      "source": [
        "x = np.array([0.0, 0.0])\n",
        "print(numerical_gradient(f, x))"
      ],
      "execution_count": null,
      "outputs": [
        {
          "output_type": "stream",
          "name": "stdout",
          "text": [
            "[0. 0.]\n"
          ]
        }
      ]
    },
    {
      "cell_type": "code",
      "metadata": {
        "colab": {
          "base_uri": "https://localhost:8080/"
        },
        "id": "NsYPAX8yUBwy",
        "outputId": "4ea3739d-b70d-4eac-ba8d-99e2e43ade7f"
      },
      "source": [
        "x = np.array([0.0, 2.0])\n",
        "print(numerical_gradient(f, x))"
      ],
      "execution_count": null,
      "outputs": [
        {
          "output_type": "stream",
          "name": "stdout",
          "text": [
            "[0. 4.]\n"
          ]
        }
      ]
    },
    {
      "cell_type": "markdown",
      "metadata": {
        "id": "5sO0k-opUGr3"
      },
      "source": [
        "# Gradient Descent"
      ]
    },
    {
      "cell_type": "code",
      "metadata": {
        "id": "yAFS4D-FUJJO"
      },
      "source": [
        "def gradient_descent(f, init_x, lr = 0.01, step = 100):\n",
        "  x = init_x\n",
        "  x_history = []\n",
        "\n",
        "  for i in range(step):\n",
        "    x_history.append(x.copy())\n",
        "\n",
        "    grad = numerical_gradient(f, x)\n",
        "    x = x - lr * grad\n",
        "  \n",
        "  return x, np.array(x_history)"
      ],
      "execution_count": null,
      "outputs": []
    },
    {
      "cell_type": "code",
      "metadata": {
        "id": "NDvL0kOZUpOA"
      },
      "source": [
        "init_x = np.array([-3.0, 4.0])"
      ],
      "execution_count": null,
      "outputs": []
    },
    {
      "cell_type": "code",
      "metadata": {
        "colab": {
          "base_uri": "https://localhost:8080/"
        },
        "id": "kLkGPhgEUsG5",
        "outputId": "8d388462-4579-461f-99d3-9d5950b84f4f"
      },
      "source": [
        "rlt, history = gradient_descent(f, init_x)\n",
        "print(rlt)"
      ],
      "execution_count": null,
      "outputs": [
        {
          "output_type": "stream",
          "name": "stdout",
          "text": [
            "[-0.39785867  0.53047822]\n"
          ]
        }
      ]
    },
    {
      "cell_type": "code",
      "metadata": {
        "colab": {
          "base_uri": "https://localhost:8080/"
        },
        "id": "f5Yv2JNvVA0b",
        "outputId": "d3436c34-502a-4dd9-b549-d3dee8b8d572"
      },
      "source": [
        "rlt, history = gradient_descent(f, init_x, step = 10)\n",
        "print(rlt)"
      ],
      "execution_count": null,
      "outputs": [
        {
          "output_type": "stream",
          "name": "stdout",
          "text": [
            "[-2.45121842  3.26829123]\n"
          ]
        }
      ]
    },
    {
      "cell_type": "code",
      "metadata": {
        "id": "_kb8aFLbVEpZ",
        "colab": {
          "base_uri": "https://localhost:8080/"
        },
        "outputId": "e25ef0d6-1104-4bef-9040-fde0918c86e9"
      },
      "source": [
        "rlt, history = gradient_descent(f, init_x, step = 1000)\n",
        "print(rlt)"
      ],
      "execution_count": null,
      "outputs": [
        {
          "output_type": "stream",
          "name": "stdout",
          "text": [
            "[-5.04890207e-09  6.73186943e-09]\n"
          ]
        }
      ]
    }
  ]
}